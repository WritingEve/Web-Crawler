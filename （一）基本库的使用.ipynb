{
 "cells": [
  {
   "cell_type": "markdown",
   "id": "d920f5fe",
   "metadata": {},
   "source": [
    "# 基本框架学习"
   ]
  },
  {
   "cell_type": "markdown",
   "id": "463a552d",
   "metadata": {},
   "source": [
    "## urllib"
   ]
  },
  {
   "cell_type": "markdown",
   "id": "6d6df914",
   "metadata": {},
   "source": [
    "request：最基本的HTTP请求模块，可以用来模拟发送请求  \n",
    "error：异常处理模块。可以捕获这些异常，然后进行重试或其他操作  \n",
    "parse：一个工具模块，提供了许多URL处理方法，如拆分、解析、合并  \n",
    "robotparse：识别robots.txt文件  "
   ]
  },
  {
   "cell_type": "markdown",
   "id": "eba2d31f",
   "metadata": {},
   "source": [
    "#### urlopen（）"
   ]
  },
  {
   "cell_type": "code",
   "execution_count": 1,
   "id": "3373d3e7",
   "metadata": {},
   "outputs": [
    {
     "name": "stdout",
     "output_type": "stream",
     "text": [
      "<!doctype html>\n",
      "<!--[if lt IE 7]>   <html class=\"no-js ie6 lt-ie7 lt-ie8 lt-ie9\">   <![endif]-->\n",
      "<!--[if IE 7]>      <html class=\"no-js ie7 lt-ie8 lt-ie9\">          <![endif]-->\n",
      "<!--[if IE 8]>      <html class=\"no-js ie8 lt-ie9\">                 <![endif]-->\n",
      "<!--[if gt IE 8]><!--><html class=\"no-js\" lang=\"en\" dir=\"ltr\">  <!--<![endif]-->\n",
      "\n",
      "<head>\n",
      "    <meta charset=\"utf-8\">\n",
      "    <meta http-equiv=\"X-UA-Compatible\" content=\"IE=edge\">\n",
      "\n",
      "    <link rel=\"prefetch\" href=\"//ajax.googleapis.com/ajax/libs/jquery/1.8.2/jquery.min.js\">\n",
      "    <link rel=\"prefetch\" href=\"//ajax.googleapis.com/ajax/libs/jqueryui/1.12.1/jquery-ui.min.js\">\n",
      "\n",
      "    <meta name=\"application-name\" content=\"Python.org\">\n",
      "    <meta name=\"msapplication-tooltip\" content=\"The official home of the Python Programming Language\">\n",
      "    <meta name=\"apple-mobile-web-app-title\" content=\"Python.org\">\n",
      "    <meta name=\"apple-mobile-web-app-capable\" content=\"yes\">\n",
      "    <meta name=\"apple-mobile-web-app-status-bar-style\" content=\"black\">\n",
      "\n",
      "    <meta name=\"viewport\" content=\"width=device-width, initial-scale=1.0\">\n",
      "    <meta name=\"HandheldFriendly\" content=\"True\">\n",
      "    <meta name=\"format-detection\" content=\"telephone=no\">\n",
      "    <meta http-equiv=\"cleartype\" content=\"on\">\n",
      "    <meta http-equiv=\"imagetoolbar\" content=\"false\">\n",
      "\n",
      "    <script async\n",
      "            src=\"https://media.ethicalads.io/media/client/v1.4.0/ethicalads.min.js\"\n",
      "            integrity=\"sha256-U3hKDidudIaxBDEzwGJApJgPEf2mWk6cfMWghrAa6i0= sha384-UcmsCqcNRSLW/dV3Lo1oCi2/VaurXbib6p4HyUEOeIa/4OpsrnucrugAefzVZJfI sha512-q4t1L4xEjGV2R4hzqCa41P8jrgFUS8xTb8rdNv4FGvw7FpydVj/kkxBJHOiaoxHa8olCcx1Slk9K+3sNbsM4ug==\"\n",
      "            crossorigin=\"anonymous\"\n",
      "    ></script>\n",
      "    <script src=\"/static/js/libs/modernizr.js\"></script>\n",
      "\n",
      "    <link href=\"/static/stylesheets/style.a193d3b62d35.css\" rel=\"stylesheet\" type=\"text/css\" media=\"all\" title=\"default\" />\n",
      "    <link href=\"/static/stylesheets/mq.f9187444a4a1.css\" rel=\"stylesheet\" type=\"text/css\" media=\"not print, braille, embossed, speech, tty\" />\n",
      "    \n",
      "\n",
      "    <!--[if (lte IE 8)&(!IEMobile)]>\n",
      "    <link href=\"/static/stylesheets/no-mq.bf0c425cdb73.css\" rel=\"stylesheet\" type=\"text/css\" media=\"screen\" />\n",
      "    \n",
      "    \n",
      "    <![endif]-->\n",
      "    <link rel=\"stylesheet\" href=\"//ajax.googleapis.com/ajax/libs/jqueryui/1.12.1/themes/smoothness/jquery-ui.css\">\n",
      "\n",
      "    \n",
      "    <link rel=\"icon\" type=\"image/x-icon\" href=\"/static/favicon.ico\">\n",
      "    <link rel=\"apple-touch-icon-precomposed\" sizes=\"144x144\" href=\"/static/apple-touch-icon-144x144-precomposed.png\">\n",
      "    <link rel=\"apple-touch-icon-precomposed\" sizes=\"114x114\" href=\"/static/apple-touch-icon-114x114-precomposed.png\">\n",
      "    <link rel=\"apple-touch-icon-precomposed\" sizes=\"72x72\" href=\"/static/apple-touch-icon-72x72-precomposed.png\">\n",
      "    <link rel=\"apple-touch-icon-precomposed\" href=\"/static/apple-touch-icon-precomposed.png\">\n",
      "    <link rel=\"apple-touch-icon\" href=\"/static/apple-touch-icon-precomposed.png\">\n",
      "\n",
      "    \n",
      "    <meta name=\"msapplication-TileImage\" content=\"/static/metro-icon-144x144-precomposed.png\"><!-- white shape -->\n",
      "    <meta name=\"msapplication-TileColor\" content=\"#3673a5\"><!-- python blue -->\n",
      "    <meta name=\"msapplication-navbutton-color\" content=\"#3673a5\">\n",
      "\n",
      "    <title>Welcome to Python.org</title>\n",
      "\n",
      "    <meta name=\"description\" content=\"The official home of the Python Programming Language\">\n",
      "    <meta name=\"keywords\" content=\"Python programming language object oriented web free open source software license documentation download community\">\n",
      "\n",
      "    \n",
      "    <meta property=\"og:type\" content=\"website\">\n",
      "    <meta property=\"og:site_name\" content=\"Python.org\">\n",
      "    <meta property=\"og:title\" content=\"Welcome to Python.org\">\n",
      "    <meta property=\"og:description\" content=\"The official home of the Python Programming Language\">\n",
      "    \n",
      "    <meta property=\"og:image\" content=\"https://www.python.org/static/opengraph-icon-200x200.png\">\n",
      "    <meta property=\"og:image:secure_url\" content=\"https://www.python.org/static/opengraph-icon-200x200.png\">\n",
      "    \n",
      "    <meta property=\"og:url\" content=\"https://www.python.org/\">\n",
      "\n",
      "    <link rel=\"author\" href=\"/static/humans.txt\">\n",
      "\n",
      "    <link rel=\"alternate\" type=\"application/rss+xml\" title=\"Python Enhancement Proposals\"\n",
      "          href=\"https://www.python.org/dev/peps/peps.rss/\">\n",
      "    <link rel=\"alternate\" type=\"application/rss+xml\" title=\"Python Job Opportunities\"\n",
      "          href=\"https://www.python.org/jobs/feed/rss/\">\n",
      "    <link rel=\"alternate\" type=\"application/rss+xml\" title=\"Python Software Foundation News\"\n",
      "          href=\"https://feeds.feedburner.com/PythonSoftwareFoundationNews\">\n",
      "    <link rel=\"alternate\" type=\"application/rss+xml\" title=\"Python Insider\"\n",
      "          href=\"https://feeds.feedburner.com/PythonInsider\">\n",
      "\n",
      "    \n",
      "\n",
      "    \n",
      "    <script type=\"application/ld+json\">\n",
      "     {\n",
      "       \"@context\": \"https://schema.org\",\n",
      "       \"@type\": \"WebSite\",\n",
      "       \"url\": \"https://www.python.org/\",\n",
      "       \"potentialAction\": {\n",
      "         \"@type\": \"SearchAction\",\n",
      "         \"target\": \"https://www.python.org/search/?q={search_term_string}\",\n",
      "         \"query-input\": \"required name=search_term_string\"\n",
      "       }\n",
      "     }\n",
      "    </script>\n",
      "\n",
      "    \n",
      "    <script type=\"text/javascript\">\n",
      "    var _gaq = _gaq || [];\n",
      "    _gaq.push(['_setAccount', 'UA-39055973-1']);\n",
      "    _gaq.push(['_trackPageview']);\n",
      "\n",
      "    (function() {\n",
      "        var ga = document.createElement('script'); ga.type = 'text/javascript'; ga.async = true;\n",
      "        ga.src = ('https:' == document.location.protocol ? 'https://ssl' : 'http://www') + '.google-analytics.com/ga.js';\n",
      "        var s = document.getElementsByTagName('script')[0]; s.parentNode.insertBefore(ga, s);\n",
      "    })();\n",
      "    </script>\n",
      "    \n",
      "</head>\n",
      "\n",
      "<body class=\"python home\" id=\"homepage\">\n",
      "\n",
      "    <div id=\"touchnav-wrapper\">\n",
      "\n",
      "        <div id=\"nojs\" class=\"do-not-print\">\n",
      "            <p><strong>Notice:</strong> While JavaScript is not essential for this website, your interaction with the content will be limited. Please turn JavaScript on for the full experience. </p>\n",
      "        </div>\n",
      "\n",
      "        <!--[if lte IE 8]>\n",
      "        <div id=\"oldie-warning\" class=\"do-not-print\">\n",
      "            <p>\n",
      "                <strong>Notice:</strong> Your browser is <em>ancient</em>. Please\n",
      "                <a href=\"http://browsehappy.com/\">upgrade to a different browser</a> to experience a better web.\n",
      "            </p>\n",
      "        </div>\n",
      "        <![endif]-->\n",
      "\n",
      "        <!-- Sister Site Links -->\n",
      "        <div id=\"top\" class=\"top-bar do-not-print\">\n",
      "\n",
      "            <nav class=\"meta-navigation container\" role=\"navigation\">\n",
      "\n",
      "                \n",
      "                <div class=\"skip-link screen-reader-text\">\n",
      "                    <a href=\"#content\" title=\"Skip to content\">Skip to content</a>\n",
      "                </div>\n",
      "\n",
      "                \n",
      "                <a id=\"close-python-network\" class=\"jump-link\" href=\"#python-network\" aria-hidden=\"true\">\n",
      "                    <span aria-hidden=\"true\" class=\"icon-arrow-down\"><span>&#9660;</span></span> Close\n",
      "                </a>\n",
      "\n",
      "                \n",
      "\n",
      "<ul class=\"menu\" role=\"tree\">\n",
      "    \n",
      "    <li class=\"python-meta current_item selectedcurrent_branch selected\">\n",
      "        <a href=\"/\" title=\"The Python Programming Language\" class=\"current_item selectedcurrent_branch selected\">Python</a>\n",
      "    </li>\n",
      "    \n",
      "    <li class=\"psf-meta \">\n",
      "        <a href=\"/psf-landing/\" title=\"The Python Software Foundation\" >PSF</a>\n",
      "    </li>\n",
      "    \n",
      "    <li class=\"docs-meta \">\n",
      "        <a href=\"https://docs.python.org\" title=\"Python Documentation\" >Docs</a>\n",
      "    </li>\n",
      "    \n",
      "    <li class=\"pypi-meta \">\n",
      "        <a href=\"https://pypi.org/\" title=\"Python Package Index\" >PyPI</a>\n",
      "    </li>\n",
      "    \n",
      "    <li class=\"jobs-meta \">\n",
      "        <a href=\"/jobs/\" title=\"Python Job Board\" >Jobs</a>\n",
      "    </li>\n",
      "    \n",
      "    <li class=\"shop-meta \">\n",
      "        <a href=\"/community-landing/\"  >Community</a>\n",
      "    </li>\n",
      "    \n",
      "</ul>\n",
      "\n",
      "\n",
      "                <a id=\"python-network\" class=\"jump-link\" href=\"#top\" aria-hidden=\"true\">\n",
      "                    <span aria-hidden=\"true\" class=\"icon-arrow-up\"><span>&#9650;</span></span> The Python Network\n",
      "                </a>\n",
      "\n",
      "            </nav>\n",
      "\n",
      "        </div>\n",
      "\n",
      "        <!-- Header elements -->\n",
      "        <header class=\"main-header\" role=\"banner\">\n",
      "            <div class=\"container\">\n",
      "\n",
      "                <h1 class=\"site-headline\">\n",
      "                    <a href=\"/\"><img class=\"python-logo\" src=\"/static/img/python-logo.png\" alt=\"python&trade;\"></a>\n",
      "                </h1>\n",
      "\n",
      "                <div class=\"options-bar-container do-not-print\">\n",
      "                    <a href=\"https://psfmember.org/civicrm/contribute/transact?reset=1&id=2\" class=\"donate-button\">Donate</a>\n",
      "                    <div class=\"options-bar\">\n",
      "                        \n",
      "                        <a id=\"site-map-link\" class=\"jump-to-menu\" href=\"#site-map\"><span class=\"menu-icon\">&equiv;</span> Menu</a><form class=\"search-the-site\" action=\"/search/\" method=\"get\">\n",
      "                            <fieldset title=\"Search Python.org\">\n",
      "\n",
      "                                <span aria-hidden=\"true\" class=\"icon-search\"></span>\n",
      "\n",
      "                                <label class=\"screen-reader-text\" for=\"id-search-field\">Search This Site</label>\n",
      "                                <input id=\"id-search-field\" name=\"q\" type=\"search\" role=\"textbox\" class=\"search-field\" placeholder=\"Search\" value=\"\" tabindex=\"1\">\n",
      "\n",
      "                                <button type=\"submit\" name=\"submit\" id=\"submit\" class=\"search-button\" title=\"Submit this Search\" tabindex=\"3\">\n",
      "                                    GO\n",
      "                                </button>\n",
      "\n",
      "                                \n",
      "                                <!--[if IE]><input type=\"text\" style=\"display: none;\" disabled=\"disabled\" size=\"1\" tabindex=\"4\"><![endif]-->\n",
      "\n",
      "                            </fieldset>\n",
      "                        </form><span class=\"breaker\"></span><div class=\"adjust-font-size\" aria-hidden=\"true\">\n",
      "                            <ul class=\"navigation menu\" aria-label=\"Adjust Text Size on Page\">\n",
      "                                <li class=\"tier-1 last\" aria-haspopup=\"true\">\n",
      "                                    <a href=\"#\" class=\"action-trigger\"><strong><small>A</small> A</strong></a>\n",
      "                                    <ul class=\"subnav menu\">\n",
      "                                        <li class=\"tier-2 element-1\" role=\"treeitem\"><a class=\"text-shrink\" title=\"Make Text Smaller\" href=\"javascript:;\">Smaller</a></li>\n",
      "                                        <li class=\"tier-2 element-2\" role=\"treeitem\"><a class=\"text-grow\" title=\"Make Text Larger\" href=\"javascript:;\">Larger</a></li>\n",
      "                                        <li class=\"tier-2 element-3\" role=\"treeitem\"><a class=\"text-reset\" title=\"Reset any font size changes I have made\" href=\"javascript:;\">Reset</a></li>\n",
      "                                    </ul>\n",
      "                                </li>\n",
      "                            </ul>\n",
      "                        </div><div class=\"winkwink-nudgenudge\">\n",
      "                            <ul class=\"navigation menu\" aria-label=\"Social Media Navigation\">\n",
      "                                <li class=\"tier-1 last\" aria-haspopup=\"true\">\n",
      "                                    <a href=\"#\" class=\"action-trigger\">Socialize</a>\n",
      "                                    <ul class=\"subnav menu\">\n",
      "                                        <li class=\"tier-2 element-1\" role=\"treeitem\"><a href=\"https://www.facebook.com/pythonlang?fref=ts\"><span aria-hidden=\"true\" class=\"icon-facebook\"></span>Facebook</a></li>\n",
      "                                        <li class=\"tier-2 element-2\" role=\"treeitem\"><a href=\"https://twitter.com/ThePSF\"><span aria-hidden=\"true\" class=\"icon-twitter\"></span>Twitter</a></li>\n",
      "                                        <li class=\"tier-2 element-3\" role=\"treeitem\"><a href=\"/community/irc/\"><span aria-hidden=\"true\" class=\"icon-freenode\"></span>Chat on IRC</a></li>\n",
      "                                    </ul>\n",
      "                                </li>\n",
      "                            </ul>\n",
      "                        </div>\n",
      "                        <span data-html-include=\"/authenticated\"></span>\n",
      "                    </div><!-- end options-bar -->\n",
      "                </div>\n",
      "\n",
      "                <nav id=\"mainnav\" class=\"python-navigation main-navigation do-not-print\" role=\"navigation\">\n",
      "                    \n",
      "                        \n",
      "<ul class=\"navigation menu\" role=\"menubar\" aria-label=\"Main Navigation\">\n",
      "  \n",
      "    \n",
      "    \n",
      "    <li id=\"about\" class=\"tier-1 element-1  \" aria-haspopup=\"true\">\n",
      "        <a href=\"/about/\" title=\"\" class=\"\">About</a>\n",
      "        \n",
      "            \n",
      "\n",
      "<ul class=\"subnav menu\" role=\"menu\" aria-hidden=\"true\">\n",
      "    \n",
      "        <li class=\"tier-2 element-1\" role=\"treeitem\"><a href=\"/about/apps/\" title=\"\">Applications</a></li>\n",
      "    \n",
      "        <li class=\"tier-2 element-2\" role=\"treeitem\"><a href=\"/about/quotes/\" title=\"\">Quotes</a></li>\n",
      "    \n",
      "        <li class=\"tier-2 element-3\" role=\"treeitem\"><a href=\"/about/gettingstarted/\" title=\"\">Getting Started</a></li>\n",
      "    \n",
      "        <li class=\"tier-2 element-4\" role=\"treeitem\"><a href=\"/about/help/\" title=\"\">Help</a></li>\n",
      "    \n",
      "        <li class=\"tier-2 element-5\" role=\"treeitem\"><a href=\"http://brochure.getpython.info/\" title=\"\">Python Brochure</a></li>\n",
      "    \n",
      "</ul>\n",
      "\n",
      "        \n",
      "    </li>\n",
      "    \n",
      "    \n",
      "    \n",
      "    <li id=\"downloads\" class=\"tier-1 element-2  \" aria-haspopup=\"true\">\n",
      "        <a href=\"/downloads/\" title=\"\" class=\"\">Downloads</a>\n",
      "        \n",
      "            \n",
      "\n",
      "<ul class=\"subnav menu\" role=\"menu\" aria-hidden=\"true\">\n",
      "    \n",
      "        <li class=\"tier-2 element-1\" role=\"treeitem\"><a href=\"/downloads/\" title=\"\">All releases</a></li>\n",
      "    \n",
      "        <li class=\"tier-2 element-2\" role=\"treeitem\"><a href=\"/downloads/source/\" title=\"\">Source code</a></li>\n",
      "    \n",
      "        <li class=\"tier-2 element-3\" role=\"treeitem\"><a href=\"/downloads/windows/\" title=\"\">Windows</a></li>\n",
      "    \n",
      "        <li class=\"tier-2 element-4\" role=\"treeitem\"><a href=\"/downloads/macos/\" title=\"\">macOS</a></li>\n",
      "    \n",
      "        <li class=\"tier-2 element-5\" role=\"treeitem\"><a href=\"/download/other/\" title=\"\">Other Platforms</a></li>\n",
      "    \n",
      "        <li class=\"tier-2 element-6\" role=\"treeitem\"><a href=\"https://docs.python.org/3/license.html\" title=\"\">License</a></li>\n",
      "    \n",
      "        <li class=\"tier-2 element-7\" role=\"treeitem\"><a href=\"/download/alternatives\" title=\"\">Alternative Implementations</a></li>\n",
      "    \n",
      "</ul>\n",
      "\n",
      "        \n",
      "    </li>\n",
      "    \n",
      "    \n",
      "    \n",
      "    <li id=\"documentation\" class=\"tier-1 element-3  \" aria-haspopup=\"true\">\n",
      "        <a href=\"/doc/\" title=\"\" class=\"\">Documentation</a>\n",
      "        \n",
      "            \n",
      "\n",
      "<ul class=\"subnav menu\" role=\"menu\" aria-hidden=\"true\">\n",
      "    \n",
      "        <li class=\"tier-2 element-1\" role=\"treeitem\"><a href=\"/doc/\" title=\"\">Docs</a></li>\n",
      "    \n",
      "        <li class=\"tier-2 element-2\" role=\"treeitem\"><a href=\"/doc/av\" title=\"\">Audio/Visual Talks</a></li>\n",
      "    \n",
      "        <li class=\"tier-2 element-3\" role=\"treeitem\"><a href=\"https://wiki.python.org/moin/BeginnersGuide\" title=\"\">Beginner&#39;s Guide</a></li>\n",
      "    \n",
      "        <li class=\"tier-2 element-4\" role=\"treeitem\"><a href=\"https://devguide.python.org/\" title=\"\">Developer&#39;s Guide</a></li>\n",
      "    \n",
      "        <li class=\"tier-2 element-5\" role=\"treeitem\"><a href=\"https://docs.python.org/faq/\" title=\"\">FAQ</a></li>\n",
      "    \n",
      "        <li class=\"tier-2 element-6\" role=\"treeitem\"><a href=\"http://wiki.python.org/moin/Languages\" title=\"\">Non-English Docs</a></li>\n",
      "    \n",
      "        <li class=\"tier-2 element-7\" role=\"treeitem\"><a href=\"http://python.org/dev/peps/\" title=\"\">PEP Index</a></li>\n",
      "    \n",
      "        <li class=\"tier-2 element-8\" role=\"treeitem\"><a href=\"https://wiki.python.org/moin/PythonBooks\" title=\"\">Python Books</a></li>\n",
      "    \n",
      "        <li class=\"tier-2 element-9\" role=\"treeitem\"><a href=\"/doc/essays/\" title=\"\">Python Essays</a></li>\n",
      "    \n",
      "</ul>\n",
      "\n",
      "        \n",
      "    </li>\n",
      "    \n",
      "    \n",
      "    \n",
      "    <li id=\"community\" class=\"tier-1 element-4  \" aria-haspopup=\"true\">\n",
      "        <a href=\"/community/\" title=\"\" class=\"\">Community</a>\n",
      "        \n",
      "            \n",
      "\n",
      "<ul class=\"subnav menu\" role=\"menu\" aria-hidden=\"true\">\n",
      "    \n",
      "        <li class=\"tier-2 element-1\" role=\"treeitem\"><a href=\"/community/diversity/\" title=\"\">Diversity</a></li>\n",
      "    \n",
      "        <li class=\"tier-2 element-2\" role=\"treeitem\"><a href=\"/community/lists/\" title=\"\">Mailing Lists</a></li>\n",
      "    \n",
      "        <li class=\"tier-2 element-3\" role=\"treeitem\"><a href=\"/community/irc/\" title=\"\">IRC</a></li>\n",
      "    \n",
      "        <li class=\"tier-2 element-4\" role=\"treeitem\"><a href=\"/community/forums/\" title=\"\">Forums</a></li>\n",
      "    \n",
      "        <li class=\"tier-2 element-5\" role=\"treeitem\"><a href=\"/psf/annual-report/2021/\" title=\"\">PSF Annual Impact Report</a></li>\n",
      "    \n",
      "        <li class=\"tier-2 element-6\" role=\"treeitem\"><a href=\"/community/workshops/\" title=\"\">Python Conferences</a></li>\n",
      "    \n",
      "        <li class=\"tier-2 element-7\" role=\"treeitem\"><a href=\"/community/sigs/\" title=\"\">Special Interest Groups</a></li>\n",
      "    \n",
      "        <li class=\"tier-2 element-8\" role=\"treeitem\"><a href=\"/community/logos/\" title=\"\">Python Logo</a></li>\n",
      "    \n",
      "        <li class=\"tier-2 element-9\" role=\"treeitem\"><a href=\"https://wiki.python.org/moin/\" title=\"\">Python Wiki</a></li>\n",
      "    \n",
      "        <li class=\"tier-2 element-10\" role=\"treeitem\"><a href=\"/community/merchandise/\" title=\"\">Merchandise</a></li>\n",
      "    \n",
      "        <li class=\"tier-2 element-11\" role=\"treeitem\"><a href=\"/community/awards\" title=\"\">Community Awards</a></li>\n",
      "    \n",
      "        <li class=\"tier-2 element-12\" role=\"treeitem\"><a href=\"/psf/conduct/\" title=\"\">Code of Conduct</a></li>\n",
      "    \n",
      "        <li class=\"tier-2 element-13\" role=\"treeitem\"><a href=\"/psf/get-involved/\" title=\"\">Get Involved</a></li>\n",
      "    \n",
      "        <li class=\"tier-2 element-14\" role=\"treeitem\"><a href=\"/psf/community-stories/\" title=\"\">Shared Stories</a></li>\n",
      "    \n",
      "</ul>\n",
      "\n",
      "        \n",
      "    </li>\n",
      "    \n",
      "    \n",
      "    \n",
      "    <li id=\"success-stories\" class=\"tier-1 element-5  \" aria-haspopup=\"true\">\n",
      "        <a href=\"/success-stories/\" title=\"success-stories\" class=\"\">Success Stories</a>\n",
      "        \n",
      "            \n",
      "\n",
      "<ul class=\"subnav menu\" role=\"menu\" aria-hidden=\"true\">\n",
      "    \n",
      "        <li class=\"tier-2 element-1\" role=\"treeitem\"><a href=\"/success-stories/category/arts/\" title=\"\">Arts</a></li>\n",
      "    \n",
      "        <li class=\"tier-2 element-2\" role=\"treeitem\"><a href=\"/success-stories/category/business/\" title=\"\">Business</a></li>\n",
      "    \n",
      "        <li class=\"tier-2 element-3\" role=\"treeitem\"><a href=\"/success-stories/category/education/\" title=\"\">Education</a></li>\n",
      "    \n",
      "        <li class=\"tier-2 element-4\" role=\"treeitem\"><a href=\"/success-stories/category/engineering/\" title=\"\">Engineering</a></li>\n",
      "    \n",
      "        <li class=\"tier-2 element-5\" role=\"treeitem\"><a href=\"/success-stories/category/government/\" title=\"\">Government</a></li>\n",
      "    \n",
      "        <li class=\"tier-2 element-6\" role=\"treeitem\"><a href=\"/success-stories/category/scientific/\" title=\"\">Scientific</a></li>\n",
      "    \n",
      "        <li class=\"tier-2 element-7\" role=\"treeitem\"><a href=\"/success-stories/category/software-development/\" title=\"\">Software Development</a></li>\n",
      "    \n",
      "</ul>\n",
      "\n",
      "        \n",
      "    </li>\n",
      "    \n",
      "    \n",
      "    \n",
      "    <li id=\"news\" class=\"tier-1 element-6  \" aria-haspopup=\"true\">\n",
      "        <a href=\"/blogs/\" title=\"News from around the Python world\" class=\"\">News</a>\n",
      "        \n",
      "            \n",
      "\n",
      "<ul class=\"subnav menu\" role=\"menu\" aria-hidden=\"true\">\n",
      "    \n",
      "        <li class=\"tier-2 element-1\" role=\"treeitem\"><a href=\"/blogs/\" title=\"Python Insider Blog Posts\">Python News</a></li>\n",
      "    \n",
      "        <li class=\"tier-2 element-2\" role=\"treeitem\"><a href=\"/psf/newsletter/\" title=\"Python Software Foundation Newsletter\">PSF Newsletter</a></li>\n",
      "    \n",
      "        <li class=\"tier-2 element-3\" role=\"treeitem\"><a href=\"http://planetpython.org/\" title=\"Planet Python\">Community News</a></li>\n",
      "    \n",
      "        <li class=\"tier-2 element-4\" role=\"treeitem\"><a href=\"http://pyfound.blogspot.com/\" title=\"PSF Blog\">PSF News</a></li>\n",
      "    \n",
      "        <li class=\"tier-2 element-5\" role=\"treeitem\"><a href=\"http://pycon.blogspot.com/\" title=\"PyCon Blog\">PyCon News</a></li>\n",
      "    \n",
      "</ul>\n",
      "\n",
      "        \n",
      "    </li>\n",
      "    \n",
      "    \n",
      "    \n",
      "    <li id=\"events\" class=\"tier-1 element-7  \" aria-haspopup=\"true\">\n",
      "        <a href=\"/events/\" title=\"\" class=\"\">Events</a>\n",
      "        \n",
      "            \n",
      "\n",
      "<ul class=\"subnav menu\" role=\"menu\" aria-hidden=\"true\">\n",
      "    \n",
      "        <li class=\"tier-2 element-1\" role=\"treeitem\"><a href=\"/events/python-events/\" title=\"\">Python Events</a></li>\n",
      "    \n",
      "        <li class=\"tier-2 element-2\" role=\"treeitem\"><a href=\"/events/python-user-group/\" title=\"\">User Group Events</a></li>\n",
      "    \n",
      "        <li class=\"tier-2 element-3\" role=\"treeitem\"><a href=\"/events/python-events/past/\" title=\"\">Python Events Archive</a></li>\n",
      "    \n",
      "        <li class=\"tier-2 element-4\" role=\"treeitem\"><a href=\"/events/python-user-group/past/\" title=\"\">User Group Events Archive</a></li>\n",
      "    \n",
      "        <li class=\"tier-2 element-5\" role=\"treeitem\"><a href=\"https://wiki.python.org/moin/PythonEventsCalendar#Submitting_an_Event\" title=\"\">Submit an Event</a></li>\n",
      "    \n",
      "</ul>\n",
      "\n",
      "        \n",
      "    </li>\n",
      "    \n",
      "    \n",
      "    \n",
      "    \n",
      "  \n",
      "</ul>\n",
      "\n",
      "                    \n",
      "                </nav>\n",
      "\n",
      "                <div class=\"header-banner \"> <!-- for optional \"do-not-print\" class -->\n",
      "                    \n",
      "        <div id=\"dive-into-python\" class=\"flex-slideshow slideshow\">\n",
      "\n",
      "            <ul class=\"launch-shell menu\" id=\"launch-shell\">\n",
      "                <li>\n",
      "                    <a class=\"button prompt\" id=\"start-shell\" data-shell-container=\"#dive-into-python\" href=\"/shell/\">&gt;_\n",
      "                        <span class=\"message\">Launch Interactive Shell</span>\n",
      "                    </a>\n",
      "                </li>\n",
      "            </ul>\n",
      "\n",
      "            <ul class=\"slides menu\">\n",
      "                \n",
      "                <li>\n",
      "                    <div class=\"slide-code\"><pre><code><span class=\"comment\"># Python 3: Fibonacci series up to n</span>\r\n",
      ">>> def fib(n):\r\n",
      ">>>     a, b = 0, 1\r\n",
      ">>>     while a &lt; n:\r\n",
      ">>>         print(a, end=' ')\r\n",
      ">>>         a, b = b, a+b\r\n",
      ">>>     print()\r\n",
      ">>> fib(1000)\r\n",
      "<span class=\"output\">0 1 1 2 3 5 8 13 21 34 55 89 144 233 377 610 987</span></code></pre></div>\n",
      "                    <div class=\"slide-copy\"><h1>Functions Defined</h1>\r\n",
      "<p>The core of extensible programming is defining functions. Python allows mandatory and optional arguments, keyword arguments, and even arbitrary argument lists. <a href=\"//docs.python.org/3/tutorial/controlflow.html#defining-functions\">More about defining functions in Python&nbsp;3</a></p></div>\n",
      "                </li>\n",
      "                \n",
      "                <li>\n",
      "                    <div class=\"slide-code\"><pre><code><span class=\"comment\"># Python 3: List comprehensions</span>\r\n",
      ">>> fruits = ['Banana', 'Apple', 'Lime']\r\n",
      ">>> loud_fruits = [fruit.upper() for fruit in fruits]\r\n",
      ">>> print(loud_fruits)\r\n",
      "<span class=\"output\">['BANANA', 'APPLE', 'LIME']</span>\r\n",
      "\r\n",
      "<span class=\"comment\"># List and the enumerate function</span>\r\n",
      ">>> list(enumerate(fruits))\r\n",
      "<span class=\"output\">[(0, 'Banana'), (1, 'Apple'), (2, 'Lime')]</span></code></pre></div>\n",
      "                    <div class=\"slide-copy\"><h1>Compound Data Types</h1>\r\n",
      "<p>Lists (known as arrays in other languages) are one of the compound data types that Python understands. Lists can be indexed, sliced and manipulated with other built-in functions. <a href=\"//docs.python.org/3/tutorial/introduction.html#lists\">More about lists in Python&nbsp;3</a></p></div>\n",
      "                </li>\n",
      "                \n",
      "                <li>\n",
      "                    <div class=\"slide-code\"><pre><code><span class=\"comment\"># Python 3: Simple arithmetic</span>\r\n",
      ">>> 1 / 2\r\n",
      "<span class=\"output\">0.5</span>\r\n",
      ">>> 2 ** 3\r\n",
      "<span class=\"output\">8</span>\r\n",
      ">>> 17 / 3  <span class=\"comment\"># classic division returns a float</span>\r\n",
      "<span class=\"output\">5.666666666666667</span>\r\n",
      ">>> 17 // 3  <span class=\"comment\"># floor division</span>\r\n",
      "<span class=\"output\">5</span></code></pre></div>\n",
      "                    <div class=\"slide-copy\"><h1>Intuitive Interpretation</h1>\r\n",
      "<p>Calculations are simple with Python, and expression syntax is straightforward: the operators <code>+</code>, <code>-</code>, <code>*</code> and <code>/</code> work as expected; parentheses <code>()</code> can be used for grouping. <a href=\"http://docs.python.org/3/tutorial/introduction.html#using-python-as-a-calculator\">More about simple math functions in Python&nbsp;3</a>.</p></div>\n",
      "                </li>\n",
      "                \n",
      "                <li>\n",
      "                    <div class=\"slide-code\"><pre><code><span class=\"comment\"># Python 3: Simple output (with Unicode)</span>\r\n",
      ">>> print(\"Hello, I'm Python!\")\r\n",
      "<span class=\"output\">Hello, I'm Python!</span>\r\n",
      "\r\n",
      "<span class=\"comment\"># Input, assignment</span>\r\n",
      ">>> name = input('What is your name?\\n')\r\n",
      ">>> print('Hi, %s.' % name)\r\n",
      "<span class=\"output\">What is your name?\r\n",
      "Python\r\n",
      "Hi, Python.</span></code></pre></div>\n",
      "                    <div class=\"slide-copy\"><h1>Quick &amp; Easy to Learn</h1>\r\n",
      "<p>Experienced programmers in any other language can pick up Python very quickly, and beginners find the clean syntax and indentation structure easy to learn. <a href=\"//docs.python.org/3/tutorial/\">Whet your appetite</a> with our Python&nbsp;3 overview.</p>\r\n",
      "                   </div>\n",
      "                </li>\n",
      "                \n",
      "                <li>\n",
      "                    <div class=\"slide-code\"><pre><code><span class=\"comment\"># For loop on a list</span>\r\n",
      ">>> numbers = [2, 4, 6, 8]\r\n",
      ">>> product = 1\r\n",
      ">>> for number in numbers:\r\n",
      "...    product = product * number\r\n",
      "... \r\n",
      ">>> print('The product is:', product)\r\n",
      "<span class=\"output\">The product is: 384</span></code></pre></div>\n",
      "                    <div class=\"slide-copy\"><h1>All the Flow You&rsquo;d Expect</h1>\r\n",
      "<p>Python knows the usual control flow statements that other languages speak &mdash; <code>if</code>, <code>for</code>, <code>while</code> and <code>range</code> &mdash; with some of its own twists, of course. <a href=\"//docs.python.org/3/tutorial/controlflow.html\">More control flow tools in Python&nbsp;3</a></p></div>\n",
      "                </li>\n",
      "                \n",
      "            </ul>\n",
      "        </div>\n",
      "\n",
      "\n",
      "                </div>\n",
      "\n",
      "                \n",
      "        <div class=\"introduction\">\n",
      "            <p>Python is a programming language that lets you work quickly <span class=\"breaker\"></span>and integrate systems more effectively. <a class=\"readmore\" href=\"/doc/\">Learn More</a></p>\n",
      "        </div>\n",
      "\n",
      "\n",
      "             </div><!-- end .container -->\n",
      "        </header>\n",
      "\n",
      "        <div id=\"content\" class=\"content-wrapper\">\n",
      "            <!-- Main Content Column -->\n",
      "            <div class=\"container\">\n",
      "\n",
      "                <section class=\"main-content \" role=\"main\">\n",
      "\n",
      "                    \n",
      "                    \n",
      "\n",
      "                    \n",
      "\n",
      "                    \n",
      "\n",
      "                <div class=\"notification-bar notification-bar--survey\" style=\"background-color: #ffdf76; color: #664e04; border-color: #004d7a; text-align: center; background-color: #004d7a; color: #fff; padding: 10px; margin: .5em; position: relative; width: 95%; background-color: #ffdf76; color: #664e04; border-color: #004d7a; border-radius: 1em;\">\n",
      "  <span class=\"notification-bar__icon\">\n",
      "    <i class=\"fa fa-chart-line\" aria-hidden=\"true\"></i>\n",
      "  </span>\n",
      "  <span class=\"notification-bar__message\">Contribute today to the 𝛑thon PSF Spring Fundraiser and show your love for Python! &nbsp;&nbsp;<a class=\"button button--dark button--small button--primary\" style=\"color: #606060; border-color: #006dad; background-color: #006dad;\" href=\"https://psfmember.org/civicrm/contribute/transact?reset=1&amp;id=37\"  target=\"_blank\" rel=\"noopener\">Donate Now</a>\n",
      "   </span>\n",
      "</div>\n",
      "\n",
      "\n",
      "                <div class=\"row\">\n",
      "\n",
      "                    <div class=\"small-widget get-started-widget\">\n",
      "                        <h2 class=\"widget-title\"><span aria-hidden=\"true\" class=\"icon-get-started\"></span>Get Started</h2>\r\n",
      "<p>Whether you're new to programming or an experienced developer, it's easy to learn and use Python.</p>\r\n",
      "<p><a href=\"/about/gettingstarted/\">Start with our Beginner&rsquo;s Guide</a></p>\n",
      "                    </div>\n",
      "\n",
      "                    <div class=\"small-widget download-widget\">\n",
      "                        <h2 class=\"widget-title\"><span aria-hidden=\"true\" class=\"icon-download\"></span>Download</h2>\n",
      "<p>Python source code and installers are available for download for all versions!</p>\n",
      "<p>Latest: <a href=\"/downloads/release/python-3104/\">Python 3.10.4</a></p>\n",
      "                    </div>\n",
      "\n",
      "                    <div class=\"small-widget documentation-widget\">\n",
      "                        <h2 class=\"widget-title\"><span aria-hidden=\"true\" class=\"icon-documentation\"></span>Docs</h2>\r\n",
      "<p>Documentation for Python's standard library, along with tutorials and guides, are available online.</p>\r\n",
      "<p><a href=\"https://docs.python.org\">docs.python.org</a></p>\n",
      "                    </div>\n",
      "\n",
      "                    <div class=\"small-widget jobs-widget last\">\n",
      "                        <h2 class=\"widget-title\"><span aria-hidden=\"true\" class=\"icon-jobs\"></span>Jobs</h2>\r\n",
      "<p>Looking for work or have a Python related position that you're trying to hire for? Our <strong>relaunched community-run job board</strong> is the place to go.</p>\r\n",
      "<p><a href=\"//jobs.python.org\">jobs.python.org</a></p>\n",
      "                    </div>\n",
      "\n",
      "                </div>\n",
      "\n",
      "                <div class=\"list-widgets row\">\n",
      "\n",
      "                    <div class=\"medium-widget blog-widget\">\n",
      "                        \n",
      "                        <div class=\"shrubbery\">\n",
      "                        \n",
      "                            <h2 class=\"widget-title\"><span aria-hidden=\"true\" class=\"icon-news\"></span>Latest News</h2>\n",
      "                            <p class=\"give-me-more\"><a href=\"https://blog.python.org\" title=\"More News\">More</a></p>\n",
      "                            \n",
      "                            <ul class=\"menu\">\n",
      "                                \n",
      "                                \n",
      "                                <li>\n",
      "<time datetime=\"2022-04-21T12:31:00.000003+00:00\"><span class=\"say-no-more\">2022-</span>04-21</time>\n",
      " <a href=\"http://pyfound.blogspot.com/2022/04/announcing-python-software-foundation.html\">Announcing Python Software Foundation Fellow Members for Q1 2022! 🎉</a></li>\n",
      "                                \n",
      "                                <li>\n",
      "<time datetime=\"2022-04-07T14:41:00.000003+00:00\"><span class=\"say-no-more\">2022-</span>04-07</time>\n",
      " <a href=\"http://pyfound.blogspot.com/2022/04/deb-nicholson-new-executive-director.html\">PSF Welcomes New Executive Director Deb Nicholson</a></li>\n",
      "                                \n",
      "                                <li>\n",
      "<time datetime=\"2022-04-06T10:33:00.000002+00:00\"><span class=\"say-no-more\">2022-</span>04-06</time>\n",
      " <a href=\"https://pythoninsider.blogspot.com/2022/04/the-last-python-311-alpha-3110a7-is.html\">The last Python 3.11 alpha (3.11.0a7) is available</a></li>\n",
      "                                \n",
      "                                <li>\n",
      "<time datetime=\"2022-03-24T12:08:00.000003+00:00\"><span class=\"say-no-more\">2022-</span>03-24</time>\n",
      " <a href=\"https://pythoninsider.blogspot.com/2022/03/python-3104-and-3912-are-now-available.html\">Python 3.10.4 and 3.9.12 are now available out of schedule</a></li>\n",
      "                                \n",
      "                                <li>\n",
      "<time datetime=\"2022-03-22T16:41:00.000001+00:00\"><span class=\"say-no-more\">2022-</span>03-22</time>\n",
      " <a href=\"http://pyfound.blogspot.com/2022/03/meta-deepens-its-investment-in-python.html\">Meta deepens its investment in the Python ecosystem</a></li>\n",
      "                                \n",
      "                            </ul>\n",
      "                        </div><!-- end .shrubbery -->\n",
      "\n",
      "                    </div>\n",
      "\n",
      "                    <div class=\"medium-widget event-widget last\">\n",
      "                        \n",
      "                        <div class=\"shrubbery\">\n",
      "                        \n",
      "                            <h2 class=\"widget-title\"><span aria-hidden=\"true\" class=\"icon-calendar\"></span>Upcoming Events</h2>\n",
      "                            <p class=\"give-me-more\"><a href=\"/events/calendars/\" title=\"More Events\">More</a></p>\n",
      "                            \n",
      "                            <ul class=\"menu\">\n",
      "                                \n",
      "                                \n",
      "                                \n",
      "                                <li>\n",
      "<time datetime=\"2022-05-06T00:00:00+00:00\"><span class=\"say-no-more\">2022-</span>05-06</time>\n",
      " <a href=\"/events/python-events/1257/\">PyCon Kenya Conference 2022</a></li>\n",
      "                                \n",
      "                                \n",
      "                                \n",
      "                                <li>\n",
      "<time datetime=\"2022-05-21T00:00:00+00:00\"><span class=\"say-no-more\">2022-</span>05-21</time>\n",
      " <a href=\"/events/python-user-group/1256/\">Django Girls Malabo</a></li>\n",
      "                                \n",
      "                                \n",
      "                                \n",
      "                                <li>\n",
      "<time datetime=\"2022-05-21T00:00:00+00:00\"><span class=\"say-no-more\">2022-</span>05-21</time>\n",
      " <a href=\"/events/python-user-group/1218/\">Django Girls Groningen</a></li>\n",
      "                                \n",
      "                                \n",
      "                                \n",
      "                                <li>\n",
      "<time datetime=\"2022-05-26T00:00:00+00:00\"><span class=\"say-no-more\">2022-</span>05-26</time>\n",
      " <a href=\"/events/python-events/1215/\">PyCon LT 2022</a></li>\n",
      "                                \n",
      "                                \n",
      "                                \n",
      "                                <li>\n",
      "<time datetime=\"2022-06-02T00:00:00+00:00\"><span class=\"say-no-more\">2022-</span>06-02</time>\n",
      " <a href=\"/events/python-events/1103/\">PyCon Italy 22</a></li>\n",
      "                                \n",
      "                                \n",
      "                            </ul>\n",
      "                        </div>\n",
      "\n",
      "                    </div>\n",
      "\n",
      "                </div>\n",
      "\n",
      "                <div class=\"row\">\n",
      "\n",
      "                    <div class=\"medium-widget success-stories-widget\">\n",
      "                        \n",
      "\n",
      "\n",
      "\n",
      "                        <div class=\"shrubbery\">\n",
      "                            \n",
      "\n",
      "                            <h2 class=\"widget-title\"><span aria-hidden=\"true\" class=\"icon-success-stories\"></span>Success Stories</h2>\n",
      "                            <p class=\"give-me-more\"><a href=\"/success-stories/\" title=\"More Success Stories\">More</a></p>\n",
      "\n",
      "                            \n",
      "                            <div class=\"success-story-item\" id=\"success-story-836\">\n",
      "\n",
      "                            <blockquote>\n",
      "                                <a href=\"/success-stories/python-seo-link-analyzer/\">&quot;Python is all about automating repetitive tasks, leaving more time for your other SEO efforts.&quot;</a>\n",
      "                            </blockquote>\n",
      "\n",
      "                            <table cellpadding=\"0\" cellspacing=\"0\" border=\"0\" width=\"100%\" class=\"quote-from\">\n",
      "                                <tbody>\n",
      "                                    <tr>\n",
      "                                        \n",
      "                                        <td><p><a href=\"/success-stories/python-seo-link-analyzer/\">Using Python scripts to analyse SEO and broken links on your site</a> <em>by Marnix de Munck</em></p></td>\n",
      "                                    </tr>\n",
      "                                </tbody>\n",
      "                            </table>\n",
      "                            </div>\n",
      "                            \n",
      "\n",
      "                        </div><!-- end .shrubbery -->\n",
      "\n",
      "                    </div>\n",
      "\n",
      "                    <div class=\"medium-widget applications-widget last\">\n",
      "                        <div class=\"shrubbery\">\n",
      "                            <h2 class=\"widget-title\"><span aria-hidden=\"true\" class=\"icon-python\"></span>Use Python for&hellip;</h2>\r\n",
      "<p class=\"give-me-more\"><a href=\"/about/apps\" title=\"More Applications\">More</a></p>\r\n",
      "\r\n",
      "<ul class=\"menu\">\r\n",
      "    <li><b>Web Development</b>:\r\n",
      "        <span class=\"tag-wrapper\"><a class=\"tag\" href=\"http://www.djangoproject.com/\">Django</a>, <a class=\"tag\" href=\"http://www.pylonsproject.org/\">Pyramid</a>, <a class=\"tag\" href=\"http://bottlepy.org\">Bottle</a>, <a class=\"tag\" href=\"http://tornadoweb.org\">Tornado</a>, <a href=\"http://flask.pocoo.org/\" class=\"tag\">Flask</a>, <a class=\"tag\" href=\"http://www.web2py.com/\">web2py</a></span></li>\r\n",
      "    <li><b>GUI Development</b>:\r\n",
      "        <span class=\"tag-wrapper\"><a class=\"tag\" href=\"http://wiki.python.org/moin/TkInter\">tkInter</a>, <a class=\"tag\" href=\"https://wiki.gnome.org/Projects/PyGObject\">PyGObject</a>, <a class=\"tag\" href=\"http://www.riverbankcomputing.co.uk/software/pyqt/intro\">PyQt</a>, <a class=\"tag\" href=\"https://wiki.qt.io/PySide\">PySide</a>, <a class=\"tag\" href=\"https://kivy.org/\">Kivy</a>, <a class=\"tag\" href=\"http://www.wxpython.org/\">wxPython</a></span></li>\r\n",
      "    <li><b>Scientific and Numeric</b>:\r\n",
      "        <span class=\"tag-wrapper\">\r\n",
      "<a class=\"tag\" href=\"http://www.scipy.org\">SciPy</a>, <a class=\"tag\" href=\"http://pandas.pydata.org/\">Pandas</a>, <a href=\"http://ipython.org\" class=\"tag\">IPython</a></span></li>\r\n",
      "    <li><b>Software Development</b>:\r\n",
      "        <span class=\"tag-wrapper\"><a class=\"tag\" href=\"http://buildbot.net/\">Buildbot</a>, <a class=\"tag\" href=\"http://trac.edgewall.org/\">Trac</a>, <a class=\"tag\" href=\"http://roundup.sourceforge.net/\">Roundup</a></span></li>\r\n",
      "    <li><b>System Administration</b>:\r\n",
      "        <span class=\"tag-wrapper\"><a class=\"tag\" href=\"http://www.ansible.com\">Ansible</a>, <a class=\"tag\" href=\"https://saltproject.io\">Salt</a>, <a class=\"tag\" href=\"https://www.openstack.org\">OpenStack</a>, <a class=\"tag\" href=\"https://xon.sh\">xonsh</a></span></li>\r\n",
      "</ul>\n",
      "                        </div><!-- end .shrubbery -->\n",
      "                    </div>\n",
      "\n",
      "                </div>\n",
      "\n",
      "                \n",
      "                <div class=\"pep-widget\">\n",
      "\n",
      "                    <h2 class=\"widget-title\">\n",
      "                        <span class=\"prompt\">&gt;&gt;&gt;</span> <a href=\"/dev/peps/\">Python Enhancement Proposals<span class=\"say-no-more\"> (PEPs)</span></a>: The future of Python<span class=\"say-no-more\"> is discussed here.</span>\n",
      "                        <a aria-hidden=\"true\" class=\"rss-link\" href=\"/dev/peps/peps.rss\"><span class=\"icon-feed\"></span> RSS</a>\n",
      "                    </h2>\n",
      "\n",
      "\n",
      "                    \n",
      "                    \n",
      "                </div>\n",
      "\n",
      "                                <div class=\"psf-widget\">\n",
      "\n",
      "                    <div class=\"python-logo\"></div>\n",
      "                    \n",
      "                    <h2 class=\"widget-title\">\r\n",
      "    <span class=\"prompt\">&gt;&gt;&gt;</span> <a href=\"/psf/\">Python Software Foundation</a>\r\n",
      "</h2>\r\n",
      "<p>The mission of the Python Software Foundation is to promote, protect, and advance the Python programming language, and to support and facilitate the growth of a diverse and international community of Python programmers. <a class=\"readmore\" href=\"/psf/\">Learn more</a> </p>\r\n",
      "<p class=\"click-these\">\r\n",
      "    <a class=\"button\" href=\"/users/membership/\">Become a Member</a>\r\n",
      "    <a class=\"button\" href=\"/psf/donations/\">Donate to the PSF</a>\r\n",
      "</p>\n",
      "                </div>\n",
      "\n",
      "\n",
      "\n",
      "\n",
      "                </section>\n",
      "\n",
      "                \n",
      "                \n",
      "\n",
      "                \n",
      "                \n",
      "\n",
      "\n",
      "            </div><!-- end .container -->\n",
      "        </div><!-- end #content .content-wrapper -->\n",
      "\n",
      "        <!-- Footer and social media list -->\n",
      "        \n",
      "        <footer id=\"site-map\" class=\"main-footer\" role=\"contentinfo\">\n",
      "            <div class=\"main-footer-links\">\n",
      "                <div class=\"container\">\n",
      "\n",
      "                    \n",
      "                    <a id=\"back-to-top-1\" class=\"jump-link\" href=\"#python-network\"><span aria-hidden=\"true\" class=\"icon-arrow-up\"><span>&#9650;</span></span> Back to Top</a>\n",
      "\n",
      "                    \n",
      "\n",
      "<ul class=\"sitemap navigation menu do-not-print\" role=\"tree\" id=\"container\">\n",
      "    \n",
      "    <li class=\"tier-1 element-1\">\n",
      "        <a href=\"/about/\" >About</a>\n",
      "        \n",
      "            \n",
      "\n",
      "<ul class=\"subnav menu\">\n",
      "    \n",
      "        <li class=\"tier-2 element-1\" role=\"treeitem\"><a href=\"/about/apps/\" title=\"\">Applications</a></li>\n",
      "    \n",
      "        <li class=\"tier-2 element-2\" role=\"treeitem\"><a href=\"/about/quotes/\" title=\"\">Quotes</a></li>\n",
      "    \n",
      "        <li class=\"tier-2 element-3\" role=\"treeitem\"><a href=\"/about/gettingstarted/\" title=\"\">Getting Started</a></li>\n",
      "    \n",
      "        <li class=\"tier-2 element-4\" role=\"treeitem\"><a href=\"/about/help/\" title=\"\">Help</a></li>\n",
      "    \n",
      "        <li class=\"tier-2 element-5\" role=\"treeitem\"><a href=\"http://brochure.getpython.info/\" title=\"\">Python Brochure</a></li>\n",
      "    \n",
      "</ul>\n",
      "\n",
      "        \n",
      "    </li>\n",
      "    \n",
      "    <li class=\"tier-1 element-2\">\n",
      "        <a href=\"/downloads/\" >Downloads</a>\n",
      "        \n",
      "            \n",
      "\n",
      "<ul class=\"subnav menu\">\n",
      "    \n",
      "        <li class=\"tier-2 element-1\" role=\"treeitem\"><a href=\"/downloads/\" title=\"\">All releases</a></li>\n",
      "    \n",
      "        <li class=\"tier-2 element-2\" role=\"treeitem\"><a href=\"/downloads/source/\" title=\"\">Source code</a></li>\n",
      "    \n",
      "        <li class=\"tier-2 element-3\" role=\"treeitem\"><a href=\"/downloads/windows/\" title=\"\">Windows</a></li>\n",
      "    \n",
      "        <li class=\"tier-2 element-4\" role=\"treeitem\"><a href=\"/downloads/macos/\" title=\"\">macOS</a></li>\n",
      "    \n",
      "        <li class=\"tier-2 element-5\" role=\"treeitem\"><a href=\"/download/other/\" title=\"\">Other Platforms</a></li>\n",
      "    \n",
      "        <li class=\"tier-2 element-6\" role=\"treeitem\"><a href=\"https://docs.python.org/3/license.html\" title=\"\">License</a></li>\n",
      "    \n",
      "        <li class=\"tier-2 element-7\" role=\"treeitem\"><a href=\"/download/alternatives\" title=\"\">Alternative Implementations</a></li>\n",
      "    \n",
      "</ul>\n",
      "\n",
      "        \n",
      "    </li>\n",
      "    \n",
      "    <li class=\"tier-1 element-3\">\n",
      "        <a href=\"/doc/\" >Documentation</a>\n",
      "        \n",
      "            \n",
      "\n",
      "<ul class=\"subnav menu\">\n",
      "    \n",
      "        <li class=\"tier-2 element-1\" role=\"treeitem\"><a href=\"/doc/\" title=\"\">Docs</a></li>\n",
      "    \n",
      "        <li class=\"tier-2 element-2\" role=\"treeitem\"><a href=\"/doc/av\" title=\"\">Audio/Visual Talks</a></li>\n",
      "    \n",
      "        <li class=\"tier-2 element-3\" role=\"treeitem\"><a href=\"https://wiki.python.org/moin/BeginnersGuide\" title=\"\">Beginner&#39;s Guide</a></li>\n",
      "    \n",
      "        <li class=\"tier-2 element-4\" role=\"treeitem\"><a href=\"https://devguide.python.org/\" title=\"\">Developer&#39;s Guide</a></li>\n",
      "    \n",
      "        <li class=\"tier-2 element-5\" role=\"treeitem\"><a href=\"https://docs.python.org/faq/\" title=\"\">FAQ</a></li>\n",
      "    \n",
      "        <li class=\"tier-2 element-6\" role=\"treeitem\"><a href=\"http://wiki.python.org/moin/Languages\" title=\"\">Non-English Docs</a></li>\n",
      "    \n",
      "        <li class=\"tier-2 element-7\" role=\"treeitem\"><a href=\"http://python.org/dev/peps/\" title=\"\">PEP Index</a></li>\n",
      "    \n",
      "        <li class=\"tier-2 element-8\" role=\"treeitem\"><a href=\"https://wiki.python.org/moin/PythonBooks\" title=\"\">Python Books</a></li>\n",
      "    \n",
      "        <li class=\"tier-2 element-9\" role=\"treeitem\"><a href=\"/doc/essays/\" title=\"\">Python Essays</a></li>\n",
      "    \n",
      "</ul>\n",
      "\n",
      "        \n",
      "    </li>\n",
      "    \n",
      "    <li class=\"tier-1 element-4\">\n",
      "        <a href=\"/community/\" >Community</a>\n",
      "        \n",
      "            \n",
      "\n",
      "<ul class=\"subnav menu\">\n",
      "    \n",
      "        <li class=\"tier-2 element-1\" role=\"treeitem\"><a href=\"/community/diversity/\" title=\"\">Diversity</a></li>\n",
      "    \n",
      "        <li class=\"tier-2 element-2\" role=\"treeitem\"><a href=\"/community/lists/\" title=\"\">Mailing Lists</a></li>\n",
      "    \n",
      "        <li class=\"tier-2 element-3\" role=\"treeitem\"><a href=\"/community/irc/\" title=\"\">IRC</a></li>\n",
      "    \n",
      "        <li class=\"tier-2 element-4\" role=\"treeitem\"><a href=\"/community/forums/\" title=\"\">Forums</a></li>\n",
      "    \n",
      "        <li class=\"tier-2 element-5\" role=\"treeitem\"><a href=\"/psf/annual-report/2021/\" title=\"\">PSF Annual Impact Report</a></li>\n",
      "    \n",
      "        <li class=\"tier-2 element-6\" role=\"treeitem\"><a href=\"/community/workshops/\" title=\"\">Python Conferences</a></li>\n",
      "    \n",
      "        <li class=\"tier-2 element-7\" role=\"treeitem\"><a href=\"/community/sigs/\" title=\"\">Special Interest Groups</a></li>\n",
      "    \n",
      "        <li class=\"tier-2 element-8\" role=\"treeitem\"><a href=\"/community/logos/\" title=\"\">Python Logo</a></li>\n",
      "    \n",
      "        <li class=\"tier-2 element-9\" role=\"treeitem\"><a href=\"https://wiki.python.org/moin/\" title=\"\">Python Wiki</a></li>\n",
      "    \n",
      "        <li class=\"tier-2 element-10\" role=\"treeitem\"><a href=\"/community/merchandise/\" title=\"\">Merchandise</a></li>\n",
      "    \n",
      "        <li class=\"tier-2 element-11\" role=\"treeitem\"><a href=\"/community/awards\" title=\"\">Community Awards</a></li>\n",
      "    \n",
      "        <li class=\"tier-2 element-12\" role=\"treeitem\"><a href=\"/psf/conduct/\" title=\"\">Code of Conduct</a></li>\n",
      "    \n",
      "        <li class=\"tier-2 element-13\" role=\"treeitem\"><a href=\"/psf/get-involved/\" title=\"\">Get Involved</a></li>\n",
      "    \n",
      "        <li class=\"tier-2 element-14\" role=\"treeitem\"><a href=\"/psf/community-stories/\" title=\"\">Shared Stories</a></li>\n",
      "    \n",
      "</ul>\n",
      "\n",
      "        \n",
      "    </li>\n",
      "    \n",
      "    <li class=\"tier-1 element-5\">\n",
      "        <a href=\"/success-stories/\" title=\"success-stories\">Success Stories</a>\n",
      "        \n",
      "            \n",
      "\n",
      "<ul class=\"subnav menu\">\n",
      "    \n",
      "        <li class=\"tier-2 element-1\" role=\"treeitem\"><a href=\"/success-stories/category/arts/\" title=\"\">Arts</a></li>\n",
      "    \n",
      "        <li class=\"tier-2 element-2\" role=\"treeitem\"><a href=\"/success-stories/category/business/\" title=\"\">Business</a></li>\n",
      "    \n",
      "        <li class=\"tier-2 element-3\" role=\"treeitem\"><a href=\"/success-stories/category/education/\" title=\"\">Education</a></li>\n",
      "    \n",
      "        <li class=\"tier-2 element-4\" role=\"treeitem\"><a href=\"/success-stories/category/engineering/\" title=\"\">Engineering</a></li>\n",
      "    \n",
      "        <li class=\"tier-2 element-5\" role=\"treeitem\"><a href=\"/success-stories/category/government/\" title=\"\">Government</a></li>\n",
      "    \n",
      "        <li class=\"tier-2 element-6\" role=\"treeitem\"><a href=\"/success-stories/category/scientific/\" title=\"\">Scientific</a></li>\n",
      "    \n",
      "        <li class=\"tier-2 element-7\" role=\"treeitem\"><a href=\"/success-stories/category/software-development/\" title=\"\">Software Development</a></li>\n",
      "    \n",
      "</ul>\n",
      "\n",
      "        \n",
      "    </li>\n",
      "    \n",
      "    <li class=\"tier-1 element-6\">\n",
      "        <a href=\"/blogs/\" title=\"News from around the Python world\">News</a>\n",
      "        \n",
      "            \n",
      "\n",
      "<ul class=\"subnav menu\">\n",
      "    \n",
      "        <li class=\"tier-2 element-1\" role=\"treeitem\"><a href=\"/blogs/\" title=\"Python Insider Blog Posts\">Python News</a></li>\n",
      "    \n",
      "        <li class=\"tier-2 element-2\" role=\"treeitem\"><a href=\"/psf/newsletter/\" title=\"Python Software Foundation Newsletter\">PSF Newsletter</a></li>\n",
      "    \n",
      "        <li class=\"tier-2 element-3\" role=\"treeitem\"><a href=\"http://planetpython.org/\" title=\"Planet Python\">Community News</a></li>\n",
      "    \n",
      "        <li class=\"tier-2 element-4\" role=\"treeitem\"><a href=\"http://pyfound.blogspot.com/\" title=\"PSF Blog\">PSF News</a></li>\n",
      "    \n",
      "        <li class=\"tier-2 element-5\" role=\"treeitem\"><a href=\"http://pycon.blogspot.com/\" title=\"PyCon Blog\">PyCon News</a></li>\n",
      "    \n",
      "</ul>\n",
      "\n",
      "        \n",
      "    </li>\n",
      "    \n",
      "    <li class=\"tier-1 element-7\">\n",
      "        <a href=\"/events/\" >Events</a>\n",
      "        \n",
      "            \n",
      "\n",
      "<ul class=\"subnav menu\">\n",
      "    \n",
      "        <li class=\"tier-2 element-1\" role=\"treeitem\"><a href=\"/events/python-events/\" title=\"\">Python Events</a></li>\n",
      "    \n",
      "        <li class=\"tier-2 element-2\" role=\"treeitem\"><a href=\"/events/python-user-group/\" title=\"\">User Group Events</a></li>\n",
      "    \n",
      "        <li class=\"tier-2 element-3\" role=\"treeitem\"><a href=\"/events/python-events/past/\" title=\"\">Python Events Archive</a></li>\n",
      "    \n",
      "        <li class=\"tier-2 element-4\" role=\"treeitem\"><a href=\"/events/python-user-group/past/\" title=\"\">User Group Events Archive</a></li>\n",
      "    \n",
      "        <li class=\"tier-2 element-5\" role=\"treeitem\"><a href=\"https://wiki.python.org/moin/PythonEventsCalendar#Submitting_an_Event\" title=\"\">Submit an Event</a></li>\n",
      "    \n",
      "</ul>\n",
      "\n",
      "        \n",
      "    </li>\n",
      "    \n",
      "    <li class=\"tier-1 element-8\">\n",
      "        <a href=\"/dev/\" >Contributing</a>\n",
      "        \n",
      "            \n",
      "\n",
      "<ul class=\"subnav menu\">\n",
      "    \n",
      "        <li class=\"tier-2 element-1\" role=\"treeitem\"><a href=\"https://devguide.python.org/\" title=\"\">Developer&#39;s Guide</a></li>\n",
      "    \n",
      "        <li class=\"tier-2 element-2\" role=\"treeitem\"><a href=\"https://bugs.python.org/\" title=\"\">Issue Tracker</a></li>\n",
      "    \n",
      "        <li class=\"tier-2 element-3\" role=\"treeitem\"><a href=\"https://mail.python.org/mailman/listinfo/python-dev\" title=\"\">python-dev list</a></li>\n",
      "    \n",
      "        <li class=\"tier-2 element-4\" role=\"treeitem\"><a href=\"/dev/core-mentorship/\" title=\"\">Core Mentorship</a></li>\n",
      "    \n",
      "        <li class=\"tier-2 element-5\" role=\"treeitem\"><a href=\"/dev/security/\" title=\"\">Report a Security Issue</a></li>\n",
      "    \n",
      "</ul>\n",
      "\n",
      "        \n",
      "    </li>\n",
      "    \n",
      "</ul>\n",
      "\n",
      "\n",
      "                    <a id=\"back-to-top-2\" class=\"jump-link\" href=\"#python-network\"><span aria-hidden=\"true\" class=\"icon-arrow-up\"><span>&#9650;</span></span> Back to Top</a>\n",
      "                    \n",
      "\n",
      "                </div><!-- end .container -->\n",
      "            </div> <!-- end .main-footer-links -->\n",
      "\n",
      "            <div class=\"site-base\">\n",
      "                <div class=\"container\">\n",
      "                    \n",
      "                    <ul class=\"footer-links navigation menu do-not-print\" role=\"tree\">\n",
      "                        <li class=\"tier-1 element-1\"><a href=\"/about/help/\">Help &amp; <span class=\"say-no-more\">General</span> Contact</a></li>\n",
      "                        <li class=\"tier-1 element-2\"><a href=\"/community/diversity/\">Diversity <span class=\"say-no-more\">Initiatives</span></a></li>\n",
      "                        <li class=\"tier-1 element-3\"><a href=\"https://github.com/python/pythondotorg/issues\">Submit Website Bug</a></li>\n",
      "                        <li class=\"tier-1 element-4\">\n",
      "                            <a href=\"https://status.python.org/\">Status <span class=\"python-status-indicator-default\" id=\"python-status-indicator\"></span></a>\n",
      "                        </li>\n",
      "                    </ul>\n",
      "\n",
      "                    <div class=\"copyright\">\n",
      "                        <p><small>\n",
      "                            <span class=\"pre\">Copyright &copy;2001-2022.</span>\n",
      "                            &nbsp;<span class=\"pre\"><a href=\"/psf-landing/\">Python Software Foundation</a></span>\n",
      "                            &nbsp;<span class=\"pre\"><a href=\"/about/legal/\">Legal Statements</a></span>\n",
      "                            &nbsp;<span class=\"pre\"><a href=\"/privacy/\">Privacy Policy</a></span>\n",
      "                            &nbsp;<span class=\"pre\"><a href=\"/psf/sponsorship/sponsors/#heroku\">Powered by Heroku</a></span>\n",
      "                        </small></p>\n",
      "                    </div>\n",
      "\n",
      "                </div><!-- end .container -->\n",
      "            </div><!-- end .site-base -->\n",
      "\n",
      "        </footer>\n",
      "        \n",
      "\n",
      "    </div><!-- end #touchnav-wrapper -->\n",
      "\n",
      "    \n",
      "    <script src=\"//ajax.googleapis.com/ajax/libs/jquery/1.8.2/jquery.min.js\"></script>\n",
      "    <script>window.jQuery || document.write('<script src=\"/static/js/libs/jquery-1.8.2.min.js\"><\\/script>')</script>\n",
      "    <script src=\"//ajax.googleapis.com/ajax/libs/jqueryui/1.12.1/jquery-ui.min.js\"></script>\n",
      "    <script>window.jQuery || document.write('<script src=\"/static/js/libs/jquery-ui-1.12.1.min.js\"><\\/script>')</script>\n",
      "\n",
      "    <script src=\"/static/js/libs/masonry.pkgd.min.js\"></script>\n",
      "    <script src=\"/static/js/libs/html-includes.js\"></script>\n",
      "\n",
      "    <script type=\"text/javascript\" src=\"/static/js/main-min.dd72c1659644.js\" charset=\"utf-8\"></script>\n",
      "    \n",
      "\n",
      "    <!--[if lte IE 7]>\n",
      "    <script type=\"text/javascript\" src=\"/static/js/plugins/IE8-min.8af6e26c7a3b.js\" charset=\"utf-8\"></script>\n",
      "    \n",
      "    \n",
      "    <![endif]-->\n",
      "\n",
      "    <!--[if lte IE 8]>\n",
      "    <script type=\"text/javascript\" src=\"/static/js/plugins/getComputedStyle-min.d41d8cd98f00.js\" charset=\"utf-8\"></script>\n",
      "    \n",
      "    \n",
      "    <![endif]-->\n",
      "\n",
      "    \n",
      "\n",
      "    \n",
      "    \n",
      "\n",
      "</body>\n",
      "</html>\n",
      "\n"
     ]
    }
   ],
   "source": [
    "import urllib.request\n",
    "response = urllib.request.urlopen('https://www.python.org/')\n",
    "print(response.read().decode('utf-8'))"
   ]
  },
  {
   "cell_type": "code",
   "execution_count": 2,
   "id": "50798c26",
   "metadata": {},
   "outputs": [
    {
     "name": "stdout",
     "output_type": "stream",
     "text": [
      "<class 'http.client.HTTPResponse'>\n"
     ]
    }
   ],
   "source": [
    "print(type(response))"
   ]
  },
  {
   "cell_type": "markdown",
   "id": "4f2384ef",
   "metadata": {},
   "source": [
    "  可以发现，它是一个HTTPResponse类型的对象，主要包含read（）、readinto（）、getheader（name）、getheaders（）、fileno（）等方法，以及msg、version、reason、debuglevel、closed等属性  \n",
    "  例如，调用read（）方法可以得到返回的网页内容，调用status属性可以得到返回结果的状态码  "
   ]
  },
  {
   "cell_type": "code",
   "execution_count": 6,
   "id": "07a43dd0",
   "metadata": {},
   "outputs": [
    {
     "name": "stdout",
     "output_type": "stream",
     "text": [
      "200\n",
      "[('Connection', 'close'), ('Content-Length', '50875'), ('Server', 'nginx'), ('Content-Type', 'text/html; charset=utf-8'), ('X-Frame-Options', 'DENY'), ('Via', '1.1 vegur, 1.1 varnish, 1.1 varnish'), ('Accept-Ranges', 'bytes'), ('Date', 'Wed, 04 May 2022 13:40:22 GMT'), ('Age', '295'), ('X-Served-By', 'cache-iad-kcgs7200049-IAD, cache-tyo11925-TYO'), ('X-Cache', 'HIT, HIT'), ('X-Cache-Hits', '6, 231'), ('X-Timer', 'S1651671622.485811,VS0,VE0'), ('Vary', 'Cookie'), ('Strict-Transport-Security', 'max-age=63072000; includeSubDomains')]\n",
      "nginx\n"
     ]
    }
   ],
   "source": [
    "import urllib.request\n",
    "\n",
    "response = urllib.request.urlopen('https://www.python.org')\n",
    "print(response.status)\n",
    "print(response.getheaders())\n",
    "print(response.getheader('Server'))"
   ]
  },
  {
   "cell_type": "markdown",
   "id": "10e2d405",
   "metadata": {},
   "source": [
    "前两个输出了状态码和头信息，最后一个通过调用getheader（）方法并传递一个参数Server获取了相应头中的Server的值，结果是Nginx意为服务器是用Nginx搭建的"
   ]
  },
  {
   "cell_type": "code",
   "execution_count": 8,
   "id": "4643532b",
   "metadata": {},
   "outputs": [],
   "source": [
    "#urllib.request.urlopen(url,data=None,[timeout,]*,cafile,capath=None.cadefault=False,context=None)"
   ]
  },
  {
   "cell_type": "markdown",
   "id": "6e5b2f74",
   "metadata": {},
   "source": [
    "data参数"
   ]
  },
  {
   "cell_type": "code",
   "execution_count": 10,
   "id": "fe67b81b",
   "metadata": {},
   "outputs": [
    {
     "name": "stdout",
     "output_type": "stream",
     "text": [
      "b'{\\n  \"args\": {}, \\n  \"data\": \"\", \\n  \"files\": {}, \\n  \"form\": {\\n    \"word\": \"hello\"\\n  }, \\n  \"headers\": {\\n    \"Accept-Encoding\": \"identity\", \\n    \"Content-Length\": \"10\", \\n    \"Content-Type\": \"application/x-www-form-urlencoded\", \\n    \"Host\": \"httpbin.org\", \\n    \"User-Agent\": \"Python-urllib/3.9\", \\n    \"X-Amzn-Trace-Id\": \"Root=1-62728593-6c5b1d5b26718d651c9a6772\"\\n  }, \\n  \"json\": null, \\n  \"origin\": \"111.181.30.190\", \\n  \"url\": \"http://httpbin.org/post\"\\n}\\n'\n"
     ]
    }
   ],
   "source": [
    "import urllib.parse\n",
    "\n",
    "data = bytes(urllib.parse.urlencode({'word':'hello'}),encoding='utf-8')\n",
    "response = urllib.request.urlopen('http://httpbin.org/post',data=data)\n",
    "print(response.read())"
   ]
  },
  {
   "cell_type": "markdown",
   "id": "0be79eb2",
   "metadata": {},
   "source": [
    "传递了一个参数word，值为hello。它需要被转码成bytes（字节流）类型。其中转字节流采用了bytes（）方法，第一个参数需要str类型，故用urllib.parse模块里的urlencode（）方法来将参数字典转化为字符串。"
   ]
  },
  {
   "cell_type": "markdown",
   "id": "388c4365",
   "metadata": {},
   "source": [
    "timeout参数"
   ]
  },
  {
   "cell_type": "code",
   "execution_count": 14,
   "id": "b6fc657c",
   "metadata": {},
   "outputs": [
    {
     "name": "stdout",
     "output_type": "stream",
     "text": [
      "b'{\\n  \"args\": {}, \\n  \"headers\": {\\n    \"Accept-Encoding\": \"identity\", \\n    \"Host\": \"httpbin.org\", \\n    \"User-Agent\": \"Python-urllib/3.9\", \\n    \"X-Amzn-Trace-Id\": \"Root=1-62728757-45a082ec552ced68513f297a\"\\n  }, \\n  \"origin\": \"111.181.30.190\", \\n  \"url\": \"https://httpbin.org/get\"\\n}\\n'\n"
     ]
    }
   ],
   "source": [
    "response = urllib.request.urlopen('https://httpbin.org/get',timeout=1)\n",
    "print(response.read())"
   ]
  },
  {
   "cell_type": "markdown",
   "id": "34401dd5",
   "metadata": {},
   "source": [
    "对于超时的，可以通过设置这个超时时间来控制一个网页如果长时间为响应，就跳过它的抓取。这可以利用try except语句来实现"
   ]
  },
  {
   "cell_type": "code",
   "execution_count": 17,
   "id": "631bd4b4",
   "metadata": {},
   "outputs": [
    {
     "name": "stdout",
     "output_type": "stream",
     "text": [
      "TIME OUT\n"
     ]
    }
   ],
   "source": [
    "import socket\n",
    "import urllib.request\n",
    "import urllib.error\n",
    "\n",
    "try:\n",
    "    response = urllib.request.urlopen('http://httpbin.org/get',timeout=0.1)\n",
    "except urllib.error.URLError as e:\n",
    "    if isinstance(e.reason,socket.timeout):\n",
    "        print('TIME OUT')"
   ]
  },
  {
   "cell_type": "markdown",
   "id": "58bee41b",
   "metadata": {},
   "source": [
    "#### Request"
   ]
  },
  {
   "cell_type": "code",
   "execution_count": 18,
   "id": "d4e410c9",
   "metadata": {},
   "outputs": [
    {
     "name": "stdout",
     "output_type": "stream",
     "text": [
      "<!doctype html>\n",
      "<!--[if lt IE 7]>   <html class=\"no-js ie6 lt-ie7 lt-ie8 lt-ie9\">   <![endif]-->\n",
      "<!--[if IE 7]>      <html class=\"no-js ie7 lt-ie8 lt-ie9\">          <![endif]-->\n",
      "<!--[if IE 8]>      <html class=\"no-js ie8 lt-ie9\">                 <![endif]-->\n",
      "<!--[if gt IE 8]><!--><html class=\"no-js\" lang=\"en\" dir=\"ltr\">  <!--<![endif]-->\n",
      "\n",
      "<head>\n",
      "    <meta charset=\"utf-8\">\n",
      "    <meta http-equiv=\"X-UA-Compatible\" content=\"IE=edge\">\n",
      "\n",
      "    <link rel=\"prefetch\" href=\"//ajax.googleapis.com/ajax/libs/jquery/1.8.2/jquery.min.js\">\n",
      "    <link rel=\"prefetch\" href=\"//ajax.googleapis.com/ajax/libs/jqueryui/1.12.1/jquery-ui.min.js\">\n",
      "\n",
      "    <meta name=\"application-name\" content=\"Python.org\">\n",
      "    <meta name=\"msapplication-tooltip\" content=\"The official home of the Python Programming Language\">\n",
      "    <meta name=\"apple-mobile-web-app-title\" content=\"Python.org\">\n",
      "    <meta name=\"apple-mobile-web-app-capable\" content=\"yes\">\n",
      "    <meta name=\"apple-mobile-web-app-status-bar-style\" content=\"black\">\n",
      "\n",
      "    <meta name=\"viewport\" content=\"width=device-width, initial-scale=1.0\">\n",
      "    <meta name=\"HandheldFriendly\" content=\"True\">\n",
      "    <meta name=\"format-detection\" content=\"telephone=no\">\n",
      "    <meta http-equiv=\"cleartype\" content=\"on\">\n",
      "    <meta http-equiv=\"imagetoolbar\" content=\"false\">\n",
      "\n",
      "    <script async\n",
      "            src=\"https://media.ethicalads.io/media/client/v1.4.0/ethicalads.min.js\"\n",
      "            integrity=\"sha256-U3hKDidudIaxBDEzwGJApJgPEf2mWk6cfMWghrAa6i0= sha384-UcmsCqcNRSLW/dV3Lo1oCi2/VaurXbib6p4HyUEOeIa/4OpsrnucrugAefzVZJfI sha512-q4t1L4xEjGV2R4hzqCa41P8jrgFUS8xTb8rdNv4FGvw7FpydVj/kkxBJHOiaoxHa8olCcx1Slk9K+3sNbsM4ug==\"\n",
      "            crossorigin=\"anonymous\"\n",
      "    ></script>\n",
      "    <script src=\"/static/js/libs/modernizr.js\"></script>\n",
      "\n",
      "    <link href=\"/static/stylesheets/style.a193d3b62d35.css\" rel=\"stylesheet\" type=\"text/css\" media=\"all\" title=\"default\" />\n",
      "    <link href=\"/static/stylesheets/mq.f9187444a4a1.css\" rel=\"stylesheet\" type=\"text/css\" media=\"not print, braille, embossed, speech, tty\" />\n",
      "    \n",
      "\n",
      "    <!--[if (lte IE 8)&(!IEMobile)]>\n",
      "    <link href=\"/static/stylesheets/no-mq.bf0c425cdb73.css\" rel=\"stylesheet\" type=\"text/css\" media=\"screen\" />\n",
      "    \n",
      "    \n",
      "    <![endif]-->\n",
      "    <link rel=\"stylesheet\" href=\"//ajax.googleapis.com/ajax/libs/jqueryui/1.12.1/themes/smoothness/jquery-ui.css\">\n",
      "\n",
      "    \n",
      "    <link rel=\"icon\" type=\"image/x-icon\" href=\"/static/favicon.ico\">\n",
      "    <link rel=\"apple-touch-icon-precomposed\" sizes=\"144x144\" href=\"/static/apple-touch-icon-144x144-precomposed.png\">\n",
      "    <link rel=\"apple-touch-icon-precomposed\" sizes=\"114x114\" href=\"/static/apple-touch-icon-114x114-precomposed.png\">\n",
      "    <link rel=\"apple-touch-icon-precomposed\" sizes=\"72x72\" href=\"/static/apple-touch-icon-72x72-precomposed.png\">\n",
      "    <link rel=\"apple-touch-icon-precomposed\" href=\"/static/apple-touch-icon-precomposed.png\">\n",
      "    <link rel=\"apple-touch-icon\" href=\"/static/apple-touch-icon-precomposed.png\">\n",
      "\n",
      "    \n",
      "    <meta name=\"msapplication-TileImage\" content=\"/static/metro-icon-144x144-precomposed.png\"><!-- white shape -->\n",
      "    <meta name=\"msapplication-TileColor\" content=\"#3673a5\"><!-- python blue -->\n",
      "    <meta name=\"msapplication-navbutton-color\" content=\"#3673a5\">\n",
      "\n",
      "    <title>Welcome to Python.org</title>\n",
      "\n",
      "    <meta name=\"description\" content=\"The official home of the Python Programming Language\">\n",
      "    <meta name=\"keywords\" content=\"Python programming language object oriented web free open source software license documentation download community\">\n",
      "\n",
      "    \n",
      "    <meta property=\"og:type\" content=\"website\">\n",
      "    <meta property=\"og:site_name\" content=\"Python.org\">\n",
      "    <meta property=\"og:title\" content=\"Welcome to Python.org\">\n",
      "    <meta property=\"og:description\" content=\"The official home of the Python Programming Language\">\n",
      "    \n",
      "    <meta property=\"og:image\" content=\"https://www.python.org/static/opengraph-icon-200x200.png\">\n",
      "    <meta property=\"og:image:secure_url\" content=\"https://www.python.org/static/opengraph-icon-200x200.png\">\n",
      "    \n",
      "    <meta property=\"og:url\" content=\"https://www.python.org/\">\n",
      "\n",
      "    <link rel=\"author\" href=\"/static/humans.txt\">\n",
      "\n",
      "    <link rel=\"alternate\" type=\"application/rss+xml\" title=\"Python Enhancement Proposals\"\n",
      "          href=\"https://www.python.org/dev/peps/peps.rss/\">\n",
      "    <link rel=\"alternate\" type=\"application/rss+xml\" title=\"Python Job Opportunities\"\n",
      "          href=\"https://www.python.org/jobs/feed/rss/\">\n",
      "    <link rel=\"alternate\" type=\"application/rss+xml\" title=\"Python Software Foundation News\"\n",
      "          href=\"https://feeds.feedburner.com/PythonSoftwareFoundationNews\">\n",
      "    <link rel=\"alternate\" type=\"application/rss+xml\" title=\"Python Insider\"\n",
      "          href=\"https://feeds.feedburner.com/PythonInsider\">\n",
      "\n",
      "    \n",
      "\n",
      "    \n",
      "    <script type=\"application/ld+json\">\n",
      "     {\n",
      "       \"@context\": \"https://schema.org\",\n",
      "       \"@type\": \"WebSite\",\n",
      "       \"url\": \"https://www.python.org/\",\n",
      "       \"potentialAction\": {\n",
      "         \"@type\": \"SearchAction\",\n",
      "         \"target\": \"https://www.python.org/search/?q={search_term_string}\",\n",
      "         \"query-input\": \"required name=search_term_string\"\n",
      "       }\n",
      "     }\n",
      "    </script>\n",
      "\n",
      "    \n",
      "    <script type=\"text/javascript\">\n",
      "    var _gaq = _gaq || [];\n",
      "    _gaq.push(['_setAccount', 'UA-39055973-1']);\n",
      "    _gaq.push(['_trackPageview']);\n",
      "\n",
      "    (function() {\n",
      "        var ga = document.createElement('script'); ga.type = 'text/javascript'; ga.async = true;\n",
      "        ga.src = ('https:' == document.location.protocol ? 'https://ssl' : 'http://www') + '.google-analytics.com/ga.js';\n",
      "        var s = document.getElementsByTagName('script')[0]; s.parentNode.insertBefore(ga, s);\n",
      "    })();\n",
      "    </script>\n",
      "    \n",
      "</head>\n",
      "\n",
      "<body class=\"python home\" id=\"homepage\">\n",
      "\n",
      "    <div id=\"touchnav-wrapper\">\n",
      "\n",
      "        <div id=\"nojs\" class=\"do-not-print\">\n",
      "            <p><strong>Notice:</strong> While JavaScript is not essential for this website, your interaction with the content will be limited. Please turn JavaScript on for the full experience. </p>\n",
      "        </div>\n",
      "\n",
      "        <!--[if lte IE 8]>\n",
      "        <div id=\"oldie-warning\" class=\"do-not-print\">\n",
      "            <p>\n",
      "                <strong>Notice:</strong> Your browser is <em>ancient</em>. Please\n",
      "                <a href=\"http://browsehappy.com/\">upgrade to a different browser</a> to experience a better web.\n",
      "            </p>\n",
      "        </div>\n",
      "        <![endif]-->\n",
      "\n",
      "        <!-- Sister Site Links -->\n",
      "        <div id=\"top\" class=\"top-bar do-not-print\">\n",
      "\n",
      "            <nav class=\"meta-navigation container\" role=\"navigation\">\n",
      "\n",
      "                \n",
      "                <div class=\"skip-link screen-reader-text\">\n",
      "                    <a href=\"#content\" title=\"Skip to content\">Skip to content</a>\n",
      "                </div>\n",
      "\n",
      "                \n",
      "                <a id=\"close-python-network\" class=\"jump-link\" href=\"#python-network\" aria-hidden=\"true\">\n",
      "                    <span aria-hidden=\"true\" class=\"icon-arrow-down\"><span>&#9660;</span></span> Close\n",
      "                </a>\n",
      "\n",
      "                \n",
      "\n",
      "<ul class=\"menu\" role=\"tree\">\n",
      "    \n",
      "    <li class=\"python-meta current_item selectedcurrent_branch selected\">\n",
      "        <a href=\"/\" title=\"The Python Programming Language\" class=\"current_item selectedcurrent_branch selected\">Python</a>\n",
      "    </li>\n",
      "    \n",
      "    <li class=\"psf-meta \">\n",
      "        <a href=\"/psf-landing/\" title=\"The Python Software Foundation\" >PSF</a>\n",
      "    </li>\n",
      "    \n",
      "    <li class=\"docs-meta \">\n",
      "        <a href=\"https://docs.python.org\" title=\"Python Documentation\" >Docs</a>\n",
      "    </li>\n",
      "    \n",
      "    <li class=\"pypi-meta \">\n",
      "        <a href=\"https://pypi.org/\" title=\"Python Package Index\" >PyPI</a>\n",
      "    </li>\n",
      "    \n",
      "    <li class=\"jobs-meta \">\n",
      "        <a href=\"/jobs/\" title=\"Python Job Board\" >Jobs</a>\n",
      "    </li>\n",
      "    \n",
      "    <li class=\"shop-meta \">\n",
      "        <a href=\"/community-landing/\"  >Community</a>\n",
      "    </li>\n",
      "    \n",
      "</ul>\n",
      "\n",
      "\n",
      "                <a id=\"python-network\" class=\"jump-link\" href=\"#top\" aria-hidden=\"true\">\n",
      "                    <span aria-hidden=\"true\" class=\"icon-arrow-up\"><span>&#9650;</span></span> The Python Network\n",
      "                </a>\n",
      "\n",
      "            </nav>\n",
      "\n",
      "        </div>\n",
      "\n",
      "        <!-- Header elements -->\n",
      "        <header class=\"main-header\" role=\"banner\">\n",
      "            <div class=\"container\">\n",
      "\n",
      "                <h1 class=\"site-headline\">\n",
      "                    <a href=\"/\"><img class=\"python-logo\" src=\"/static/img/python-logo.png\" alt=\"python&trade;\"></a>\n",
      "                </h1>\n",
      "\n",
      "                <div class=\"options-bar-container do-not-print\">\n",
      "                    <a href=\"https://psfmember.org/civicrm/contribute/transact?reset=1&id=2\" class=\"donate-button\">Donate</a>\n",
      "                    <div class=\"options-bar\">\n",
      "                        \n",
      "                        <a id=\"site-map-link\" class=\"jump-to-menu\" href=\"#site-map\"><span class=\"menu-icon\">&equiv;</span> Menu</a><form class=\"search-the-site\" action=\"/search/\" method=\"get\">\n",
      "                            <fieldset title=\"Search Python.org\">\n",
      "\n",
      "                                <span aria-hidden=\"true\" class=\"icon-search\"></span>\n",
      "\n",
      "                                <label class=\"screen-reader-text\" for=\"id-search-field\">Search This Site</label>\n",
      "                                <input id=\"id-search-field\" name=\"q\" type=\"search\" role=\"textbox\" class=\"search-field\" placeholder=\"Search\" value=\"\" tabindex=\"1\">\n",
      "\n",
      "                                <button type=\"submit\" name=\"submit\" id=\"submit\" class=\"search-button\" title=\"Submit this Search\" tabindex=\"3\">\n",
      "                                    GO\n",
      "                                </button>\n",
      "\n",
      "                                \n",
      "                                <!--[if IE]><input type=\"text\" style=\"display: none;\" disabled=\"disabled\" size=\"1\" tabindex=\"4\"><![endif]-->\n",
      "\n",
      "                            </fieldset>\n",
      "                        </form><span class=\"breaker\"></span><div class=\"adjust-font-size\" aria-hidden=\"true\">\n",
      "                            <ul class=\"navigation menu\" aria-label=\"Adjust Text Size on Page\">\n",
      "                                <li class=\"tier-1 last\" aria-haspopup=\"true\">\n",
      "                                    <a href=\"#\" class=\"action-trigger\"><strong><small>A</small> A</strong></a>\n",
      "                                    <ul class=\"subnav menu\">\n",
      "                                        <li class=\"tier-2 element-1\" role=\"treeitem\"><a class=\"text-shrink\" title=\"Make Text Smaller\" href=\"javascript:;\">Smaller</a></li>\n",
      "                                        <li class=\"tier-2 element-2\" role=\"treeitem\"><a class=\"text-grow\" title=\"Make Text Larger\" href=\"javascript:;\">Larger</a></li>\n",
      "                                        <li class=\"tier-2 element-3\" role=\"treeitem\"><a class=\"text-reset\" title=\"Reset any font size changes I have made\" href=\"javascript:;\">Reset</a></li>\n",
      "                                    </ul>\n",
      "                                </li>\n",
      "                            </ul>\n",
      "                        </div><div class=\"winkwink-nudgenudge\">\n",
      "                            <ul class=\"navigation menu\" aria-label=\"Social Media Navigation\">\n",
      "                                <li class=\"tier-1 last\" aria-haspopup=\"true\">\n",
      "                                    <a href=\"#\" class=\"action-trigger\">Socialize</a>\n",
      "                                    <ul class=\"subnav menu\">\n",
      "                                        <li class=\"tier-2 element-1\" role=\"treeitem\"><a href=\"https://www.facebook.com/pythonlang?fref=ts\"><span aria-hidden=\"true\" class=\"icon-facebook\"></span>Facebook</a></li>\n",
      "                                        <li class=\"tier-2 element-2\" role=\"treeitem\"><a href=\"https://twitter.com/ThePSF\"><span aria-hidden=\"true\" class=\"icon-twitter\"></span>Twitter</a></li>\n",
      "                                        <li class=\"tier-2 element-3\" role=\"treeitem\"><a href=\"/community/irc/\"><span aria-hidden=\"true\" class=\"icon-freenode\"></span>Chat on IRC</a></li>\n",
      "                                    </ul>\n",
      "                                </li>\n",
      "                            </ul>\n",
      "                        </div>\n",
      "                        <span data-html-include=\"/authenticated\"></span>\n",
      "                    </div><!-- end options-bar -->\n",
      "                </div>\n",
      "\n",
      "                <nav id=\"mainnav\" class=\"python-navigation main-navigation do-not-print\" role=\"navigation\">\n",
      "                    \n",
      "                        \n",
      "<ul class=\"navigation menu\" role=\"menubar\" aria-label=\"Main Navigation\">\n",
      "  \n",
      "    \n",
      "    \n",
      "    <li id=\"about\" class=\"tier-1 element-1  \" aria-haspopup=\"true\">\n",
      "        <a href=\"/about/\" title=\"\" class=\"\">About</a>\n",
      "        \n",
      "            \n",
      "\n",
      "<ul class=\"subnav menu\" role=\"menu\" aria-hidden=\"true\">\n",
      "    \n",
      "        <li class=\"tier-2 element-1\" role=\"treeitem\"><a href=\"/about/apps/\" title=\"\">Applications</a></li>\n",
      "    \n",
      "        <li class=\"tier-2 element-2\" role=\"treeitem\"><a href=\"/about/quotes/\" title=\"\">Quotes</a></li>\n",
      "    \n",
      "        <li class=\"tier-2 element-3\" role=\"treeitem\"><a href=\"/about/gettingstarted/\" title=\"\">Getting Started</a></li>\n",
      "    \n",
      "        <li class=\"tier-2 element-4\" role=\"treeitem\"><a href=\"/about/help/\" title=\"\">Help</a></li>\n",
      "    \n",
      "        <li class=\"tier-2 element-5\" role=\"treeitem\"><a href=\"http://brochure.getpython.info/\" title=\"\">Python Brochure</a></li>\n",
      "    \n",
      "</ul>\n",
      "\n",
      "        \n",
      "    </li>\n",
      "    \n",
      "    \n",
      "    \n",
      "    <li id=\"downloads\" class=\"tier-1 element-2  \" aria-haspopup=\"true\">\n",
      "        <a href=\"/downloads/\" title=\"\" class=\"\">Downloads</a>\n",
      "        \n",
      "            \n",
      "\n",
      "<ul class=\"subnav menu\" role=\"menu\" aria-hidden=\"true\">\n",
      "    \n",
      "        <li class=\"tier-2 element-1\" role=\"treeitem\"><a href=\"/downloads/\" title=\"\">All releases</a></li>\n",
      "    \n",
      "        <li class=\"tier-2 element-2\" role=\"treeitem\"><a href=\"/downloads/source/\" title=\"\">Source code</a></li>\n",
      "    \n",
      "        <li class=\"tier-2 element-3\" role=\"treeitem\"><a href=\"/downloads/windows/\" title=\"\">Windows</a></li>\n",
      "    \n",
      "        <li class=\"tier-2 element-4\" role=\"treeitem\"><a href=\"/downloads/macos/\" title=\"\">macOS</a></li>\n",
      "    \n",
      "        <li class=\"tier-2 element-5\" role=\"treeitem\"><a href=\"/download/other/\" title=\"\">Other Platforms</a></li>\n",
      "    \n",
      "        <li class=\"tier-2 element-6\" role=\"treeitem\"><a href=\"https://docs.python.org/3/license.html\" title=\"\">License</a></li>\n",
      "    \n",
      "        <li class=\"tier-2 element-7\" role=\"treeitem\"><a href=\"/download/alternatives\" title=\"\">Alternative Implementations</a></li>\n",
      "    \n",
      "</ul>\n",
      "\n",
      "        \n",
      "    </li>\n",
      "    \n",
      "    \n",
      "    \n",
      "    <li id=\"documentation\" class=\"tier-1 element-3  \" aria-haspopup=\"true\">\n",
      "        <a href=\"/doc/\" title=\"\" class=\"\">Documentation</a>\n",
      "        \n",
      "            \n",
      "\n",
      "<ul class=\"subnav menu\" role=\"menu\" aria-hidden=\"true\">\n",
      "    \n",
      "        <li class=\"tier-2 element-1\" role=\"treeitem\"><a href=\"/doc/\" title=\"\">Docs</a></li>\n",
      "    \n",
      "        <li class=\"tier-2 element-2\" role=\"treeitem\"><a href=\"/doc/av\" title=\"\">Audio/Visual Talks</a></li>\n",
      "    \n",
      "        <li class=\"tier-2 element-3\" role=\"treeitem\"><a href=\"https://wiki.python.org/moin/BeginnersGuide\" title=\"\">Beginner&#39;s Guide</a></li>\n",
      "    \n",
      "        <li class=\"tier-2 element-4\" role=\"treeitem\"><a href=\"https://devguide.python.org/\" title=\"\">Developer&#39;s Guide</a></li>\n",
      "    \n",
      "        <li class=\"tier-2 element-5\" role=\"treeitem\"><a href=\"https://docs.python.org/faq/\" title=\"\">FAQ</a></li>\n",
      "    \n",
      "        <li class=\"tier-2 element-6\" role=\"treeitem\"><a href=\"http://wiki.python.org/moin/Languages\" title=\"\">Non-English Docs</a></li>\n",
      "    \n",
      "        <li class=\"tier-2 element-7\" role=\"treeitem\"><a href=\"http://python.org/dev/peps/\" title=\"\">PEP Index</a></li>\n",
      "    \n",
      "        <li class=\"tier-2 element-8\" role=\"treeitem\"><a href=\"https://wiki.python.org/moin/PythonBooks\" title=\"\">Python Books</a></li>\n",
      "    \n",
      "        <li class=\"tier-2 element-9\" role=\"treeitem\"><a href=\"/doc/essays/\" title=\"\">Python Essays</a></li>\n",
      "    \n",
      "</ul>\n",
      "\n",
      "        \n",
      "    </li>\n",
      "    \n",
      "    \n",
      "    \n",
      "    <li id=\"community\" class=\"tier-1 element-4  \" aria-haspopup=\"true\">\n",
      "        <a href=\"/community/\" title=\"\" class=\"\">Community</a>\n",
      "        \n",
      "            \n",
      "\n",
      "<ul class=\"subnav menu\" role=\"menu\" aria-hidden=\"true\">\n",
      "    \n",
      "        <li class=\"tier-2 element-1\" role=\"treeitem\"><a href=\"/community/diversity/\" title=\"\">Diversity</a></li>\n",
      "    \n",
      "        <li class=\"tier-2 element-2\" role=\"treeitem\"><a href=\"/community/lists/\" title=\"\">Mailing Lists</a></li>\n",
      "    \n",
      "        <li class=\"tier-2 element-3\" role=\"treeitem\"><a href=\"/community/irc/\" title=\"\">IRC</a></li>\n",
      "    \n",
      "        <li class=\"tier-2 element-4\" role=\"treeitem\"><a href=\"/community/forums/\" title=\"\">Forums</a></li>\n",
      "    \n",
      "        <li class=\"tier-2 element-5\" role=\"treeitem\"><a href=\"/psf/annual-report/2021/\" title=\"\">PSF Annual Impact Report</a></li>\n",
      "    \n",
      "        <li class=\"tier-2 element-6\" role=\"treeitem\"><a href=\"/community/workshops/\" title=\"\">Python Conferences</a></li>\n",
      "    \n",
      "        <li class=\"tier-2 element-7\" role=\"treeitem\"><a href=\"/community/sigs/\" title=\"\">Special Interest Groups</a></li>\n",
      "    \n",
      "        <li class=\"tier-2 element-8\" role=\"treeitem\"><a href=\"/community/logos/\" title=\"\">Python Logo</a></li>\n",
      "    \n",
      "        <li class=\"tier-2 element-9\" role=\"treeitem\"><a href=\"https://wiki.python.org/moin/\" title=\"\">Python Wiki</a></li>\n",
      "    \n",
      "        <li class=\"tier-2 element-10\" role=\"treeitem\"><a href=\"/community/merchandise/\" title=\"\">Merchandise</a></li>\n",
      "    \n",
      "        <li class=\"tier-2 element-11\" role=\"treeitem\"><a href=\"/community/awards\" title=\"\">Community Awards</a></li>\n",
      "    \n",
      "        <li class=\"tier-2 element-12\" role=\"treeitem\"><a href=\"/psf/conduct/\" title=\"\">Code of Conduct</a></li>\n",
      "    \n",
      "        <li class=\"tier-2 element-13\" role=\"treeitem\"><a href=\"/psf/get-involved/\" title=\"\">Get Involved</a></li>\n",
      "    \n",
      "        <li class=\"tier-2 element-14\" role=\"treeitem\"><a href=\"/psf/community-stories/\" title=\"\">Shared Stories</a></li>\n",
      "    \n",
      "</ul>\n",
      "\n",
      "        \n",
      "    </li>\n",
      "    \n",
      "    \n",
      "    \n",
      "    <li id=\"success-stories\" class=\"tier-1 element-5  \" aria-haspopup=\"true\">\n",
      "        <a href=\"/success-stories/\" title=\"success-stories\" class=\"\">Success Stories</a>\n",
      "        \n",
      "            \n",
      "\n",
      "<ul class=\"subnav menu\" role=\"menu\" aria-hidden=\"true\">\n",
      "    \n",
      "        <li class=\"tier-2 element-1\" role=\"treeitem\"><a href=\"/success-stories/category/arts/\" title=\"\">Arts</a></li>\n",
      "    \n",
      "        <li class=\"tier-2 element-2\" role=\"treeitem\"><a href=\"/success-stories/category/business/\" title=\"\">Business</a></li>\n",
      "    \n",
      "        <li class=\"tier-2 element-3\" role=\"treeitem\"><a href=\"/success-stories/category/education/\" title=\"\">Education</a></li>\n",
      "    \n",
      "        <li class=\"tier-2 element-4\" role=\"treeitem\"><a href=\"/success-stories/category/engineering/\" title=\"\">Engineering</a></li>\n",
      "    \n",
      "        <li class=\"tier-2 element-5\" role=\"treeitem\"><a href=\"/success-stories/category/government/\" title=\"\">Government</a></li>\n",
      "    \n",
      "        <li class=\"tier-2 element-6\" role=\"treeitem\"><a href=\"/success-stories/category/scientific/\" title=\"\">Scientific</a></li>\n",
      "    \n",
      "        <li class=\"tier-2 element-7\" role=\"treeitem\"><a href=\"/success-stories/category/software-development/\" title=\"\">Software Development</a></li>\n",
      "    \n",
      "</ul>\n",
      "\n",
      "        \n",
      "    </li>\n",
      "    \n",
      "    \n",
      "    \n",
      "    <li id=\"news\" class=\"tier-1 element-6  \" aria-haspopup=\"true\">\n",
      "        <a href=\"/blogs/\" title=\"News from around the Python world\" class=\"\">News</a>\n",
      "        \n",
      "            \n",
      "\n",
      "<ul class=\"subnav menu\" role=\"menu\" aria-hidden=\"true\">\n",
      "    \n",
      "        <li class=\"tier-2 element-1\" role=\"treeitem\"><a href=\"/blogs/\" title=\"Python Insider Blog Posts\">Python News</a></li>\n",
      "    \n",
      "        <li class=\"tier-2 element-2\" role=\"treeitem\"><a href=\"/psf/newsletter/\" title=\"Python Software Foundation Newsletter\">PSF Newsletter</a></li>\n",
      "    \n",
      "        <li class=\"tier-2 element-3\" role=\"treeitem\"><a href=\"http://planetpython.org/\" title=\"Planet Python\">Community News</a></li>\n",
      "    \n",
      "        <li class=\"tier-2 element-4\" role=\"treeitem\"><a href=\"http://pyfound.blogspot.com/\" title=\"PSF Blog\">PSF News</a></li>\n",
      "    \n",
      "        <li class=\"tier-2 element-5\" role=\"treeitem\"><a href=\"http://pycon.blogspot.com/\" title=\"PyCon Blog\">PyCon News</a></li>\n",
      "    \n",
      "</ul>\n",
      "\n",
      "        \n",
      "    </li>\n",
      "    \n",
      "    \n",
      "    \n",
      "    <li id=\"events\" class=\"tier-1 element-7  \" aria-haspopup=\"true\">\n",
      "        <a href=\"/events/\" title=\"\" class=\"\">Events</a>\n",
      "        \n",
      "            \n",
      "\n",
      "<ul class=\"subnav menu\" role=\"menu\" aria-hidden=\"true\">\n",
      "    \n",
      "        <li class=\"tier-2 element-1\" role=\"treeitem\"><a href=\"/events/python-events/\" title=\"\">Python Events</a></li>\n",
      "    \n",
      "        <li class=\"tier-2 element-2\" role=\"treeitem\"><a href=\"/events/python-user-group/\" title=\"\">User Group Events</a></li>\n",
      "    \n",
      "        <li class=\"tier-2 element-3\" role=\"treeitem\"><a href=\"/events/python-events/past/\" title=\"\">Python Events Archive</a></li>\n",
      "    \n",
      "        <li class=\"tier-2 element-4\" role=\"treeitem\"><a href=\"/events/python-user-group/past/\" title=\"\">User Group Events Archive</a></li>\n",
      "    \n",
      "        <li class=\"tier-2 element-5\" role=\"treeitem\"><a href=\"https://wiki.python.org/moin/PythonEventsCalendar#Submitting_an_Event\" title=\"\">Submit an Event</a></li>\n",
      "    \n",
      "</ul>\n",
      "\n",
      "        \n",
      "    </li>\n",
      "    \n",
      "    \n",
      "    \n",
      "    \n",
      "  \n",
      "</ul>\n",
      "\n",
      "                    \n",
      "                </nav>\n",
      "\n",
      "                <div class=\"header-banner \"> <!-- for optional \"do-not-print\" class -->\n",
      "                    \n",
      "        <div id=\"dive-into-python\" class=\"flex-slideshow slideshow\">\n",
      "\n",
      "            <ul class=\"launch-shell menu\" id=\"launch-shell\">\n",
      "                <li>\n",
      "                    <a class=\"button prompt\" id=\"start-shell\" data-shell-container=\"#dive-into-python\" href=\"/shell/\">&gt;_\n",
      "                        <span class=\"message\">Launch Interactive Shell</span>\n",
      "                    </a>\n",
      "                </li>\n",
      "            </ul>\n",
      "\n",
      "            <ul class=\"slides menu\">\n",
      "                \n",
      "                <li>\n",
      "                    <div class=\"slide-code\"><pre><code><span class=\"comment\"># Python 3: Fibonacci series up to n</span>\r\n",
      ">>> def fib(n):\r\n",
      ">>>     a, b = 0, 1\r\n",
      ">>>     while a &lt; n:\r\n",
      ">>>         print(a, end=' ')\r\n",
      ">>>         a, b = b, a+b\r\n",
      ">>>     print()\r\n",
      ">>> fib(1000)\r\n",
      "<span class=\"output\">0 1 1 2 3 5 8 13 21 34 55 89 144 233 377 610 987</span></code></pre></div>\n",
      "                    <div class=\"slide-copy\"><h1>Functions Defined</h1>\r\n",
      "<p>The core of extensible programming is defining functions. Python allows mandatory and optional arguments, keyword arguments, and even arbitrary argument lists. <a href=\"//docs.python.org/3/tutorial/controlflow.html#defining-functions\">More about defining functions in Python&nbsp;3</a></p></div>\n",
      "                </li>\n",
      "                \n",
      "                <li>\n",
      "                    <div class=\"slide-code\"><pre><code><span class=\"comment\"># Python 3: List comprehensions</span>\r\n",
      ">>> fruits = ['Banana', 'Apple', 'Lime']\r\n",
      ">>> loud_fruits = [fruit.upper() for fruit in fruits]\r\n",
      ">>> print(loud_fruits)\r\n",
      "<span class=\"output\">['BANANA', 'APPLE', 'LIME']</span>\r\n",
      "\r\n",
      "<span class=\"comment\"># List and the enumerate function</span>\r\n",
      ">>> list(enumerate(fruits))\r\n",
      "<span class=\"output\">[(0, 'Banana'), (1, 'Apple'), (2, 'Lime')]</span></code></pre></div>\n",
      "                    <div class=\"slide-copy\"><h1>Compound Data Types</h1>\r\n",
      "<p>Lists (known as arrays in other languages) are one of the compound data types that Python understands. Lists can be indexed, sliced and manipulated with other built-in functions. <a href=\"//docs.python.org/3/tutorial/introduction.html#lists\">More about lists in Python&nbsp;3</a></p></div>\n",
      "                </li>\n",
      "                \n",
      "                <li>\n",
      "                    <div class=\"slide-code\"><pre><code><span class=\"comment\"># Python 3: Simple arithmetic</span>\r\n",
      ">>> 1 / 2\r\n",
      "<span class=\"output\">0.5</span>\r\n",
      ">>> 2 ** 3\r\n",
      "<span class=\"output\">8</span>\r\n",
      ">>> 17 / 3  <span class=\"comment\"># classic division returns a float</span>\r\n",
      "<span class=\"output\">5.666666666666667</span>\r\n",
      ">>> 17 // 3  <span class=\"comment\"># floor division</span>\r\n",
      "<span class=\"output\">5</span></code></pre></div>\n",
      "                    <div class=\"slide-copy\"><h1>Intuitive Interpretation</h1>\r\n",
      "<p>Calculations are simple with Python, and expression syntax is straightforward: the operators <code>+</code>, <code>-</code>, <code>*</code> and <code>/</code> work as expected; parentheses <code>()</code> can be used for grouping. <a href=\"http://docs.python.org/3/tutorial/introduction.html#using-python-as-a-calculator\">More about simple math functions in Python&nbsp;3</a>.</p></div>\n",
      "                </li>\n",
      "                \n",
      "                <li>\n",
      "                    <div class=\"slide-code\"><pre><code><span class=\"comment\"># Python 3: Simple output (with Unicode)</span>\r\n",
      ">>> print(\"Hello, I'm Python!\")\r\n",
      "<span class=\"output\">Hello, I'm Python!</span>\r\n",
      "\r\n",
      "<span class=\"comment\"># Input, assignment</span>\r\n",
      ">>> name = input('What is your name?\\n')\r\n",
      ">>> print('Hi, %s.' % name)\r\n",
      "<span class=\"output\">What is your name?\r\n",
      "Python\r\n",
      "Hi, Python.</span></code></pre></div>\n",
      "                    <div class=\"slide-copy\"><h1>Quick &amp; Easy to Learn</h1>\r\n",
      "<p>Experienced programmers in any other language can pick up Python very quickly, and beginners find the clean syntax and indentation structure easy to learn. <a href=\"//docs.python.org/3/tutorial/\">Whet your appetite</a> with our Python&nbsp;3 overview.</p>\r\n",
      "                   </div>\n",
      "                </li>\n",
      "                \n",
      "                <li>\n",
      "                    <div class=\"slide-code\"><pre><code><span class=\"comment\"># For loop on a list</span>\r\n",
      ">>> numbers = [2, 4, 6, 8]\r\n",
      ">>> product = 1\r\n",
      ">>> for number in numbers:\r\n",
      "...    product = product * number\r\n",
      "... \r\n",
      ">>> print('The product is:', product)\r\n",
      "<span class=\"output\">The product is: 384</span></code></pre></div>\n",
      "                    <div class=\"slide-copy\"><h1>All the Flow You&rsquo;d Expect</h1>\r\n",
      "<p>Python knows the usual control flow statements that other languages speak &mdash; <code>if</code>, <code>for</code>, <code>while</code> and <code>range</code> &mdash; with some of its own twists, of course. <a href=\"//docs.python.org/3/tutorial/controlflow.html\">More control flow tools in Python&nbsp;3</a></p></div>\n",
      "                </li>\n",
      "                \n",
      "            </ul>\n",
      "        </div>\n",
      "\n",
      "\n",
      "                </div>\n",
      "\n",
      "                \n",
      "        <div class=\"introduction\">\n",
      "            <p>Python is a programming language that lets you work quickly <span class=\"breaker\"></span>and integrate systems more effectively. <a class=\"readmore\" href=\"/doc/\">Learn More</a></p>\n",
      "        </div>\n",
      "\n",
      "\n",
      "             </div><!-- end .container -->\n",
      "        </header>\n",
      "\n",
      "        <div id=\"content\" class=\"content-wrapper\">\n",
      "            <!-- Main Content Column -->\n",
      "            <div class=\"container\">\n",
      "\n",
      "                <section class=\"main-content \" role=\"main\">\n",
      "\n",
      "                    \n",
      "                    \n",
      "\n",
      "                    \n",
      "\n",
      "                    \n",
      "\n",
      "                <div class=\"notification-bar notification-bar--survey\" style=\"background-color: #ffdf76; color: #664e04; border-color: #004d7a; text-align: center; background-color: #004d7a; color: #fff; padding: 10px; margin: .5em; position: relative; width: 95%; background-color: #ffdf76; color: #664e04; border-color: #004d7a; border-radius: 1em;\">\n",
      "  <span class=\"notification-bar__icon\">\n",
      "    <i class=\"fa fa-chart-line\" aria-hidden=\"true\"></i>\n",
      "  </span>\n",
      "  <span class=\"notification-bar__message\">Contribute today to the 𝛑thon PSF Spring Fundraiser and show your love for Python! &nbsp;&nbsp;<a class=\"button button--dark button--small button--primary\" style=\"color: #606060; border-color: #006dad; background-color: #006dad;\" href=\"https://psfmember.org/civicrm/contribute/transact?reset=1&amp;id=37\"  target=\"_blank\" rel=\"noopener\">Donate Now</a>\n",
      "   </span>\n",
      "</div>\n",
      "\n",
      "\n",
      "                <div class=\"row\">\n",
      "\n",
      "                    <div class=\"small-widget get-started-widget\">\n",
      "                        <h2 class=\"widget-title\"><span aria-hidden=\"true\" class=\"icon-get-started\"></span>Get Started</h2>\r\n",
      "<p>Whether you're new to programming or an experienced developer, it's easy to learn and use Python.</p>\r\n",
      "<p><a href=\"/about/gettingstarted/\">Start with our Beginner&rsquo;s Guide</a></p>\n",
      "                    </div>\n",
      "\n",
      "                    <div class=\"small-widget download-widget\">\n",
      "                        <h2 class=\"widget-title\"><span aria-hidden=\"true\" class=\"icon-download\"></span>Download</h2>\n",
      "<p>Python source code and installers are available for download for all versions!</p>\n",
      "<p>Latest: <a href=\"/downloads/release/python-3104/\">Python 3.10.4</a></p>\n",
      "                    </div>\n",
      "\n",
      "                    <div class=\"small-widget documentation-widget\">\n",
      "                        <h2 class=\"widget-title\"><span aria-hidden=\"true\" class=\"icon-documentation\"></span>Docs</h2>\r\n",
      "<p>Documentation for Python's standard library, along with tutorials and guides, are available online.</p>\r\n",
      "<p><a href=\"https://docs.python.org\">docs.python.org</a></p>\n",
      "                    </div>\n",
      "\n",
      "                    <div class=\"small-widget jobs-widget last\">\n",
      "                        <h2 class=\"widget-title\"><span aria-hidden=\"true\" class=\"icon-jobs\"></span>Jobs</h2>\r\n",
      "<p>Looking for work or have a Python related position that you're trying to hire for? Our <strong>relaunched community-run job board</strong> is the place to go.</p>\r\n",
      "<p><a href=\"//jobs.python.org\">jobs.python.org</a></p>\n",
      "                    </div>\n",
      "\n",
      "                </div>\n",
      "\n",
      "                <div class=\"list-widgets row\">\n",
      "\n",
      "                    <div class=\"medium-widget blog-widget\">\n",
      "                        \n",
      "                        <div class=\"shrubbery\">\n",
      "                        \n",
      "                            <h2 class=\"widget-title\"><span aria-hidden=\"true\" class=\"icon-news\"></span>Latest News</h2>\n",
      "                            <p class=\"give-me-more\"><a href=\"https://blog.python.org\" title=\"More News\">More</a></p>\n",
      "                            \n",
      "                            <ul class=\"menu\">\n",
      "                                \n",
      "                                \n",
      "                                <li>\n",
      "<time datetime=\"2022-04-21T12:31:00.000003+00:00\"><span class=\"say-no-more\">2022-</span>04-21</time>\n",
      " <a href=\"http://pyfound.blogspot.com/2022/04/announcing-python-software-foundation.html\">Announcing Python Software Foundation Fellow Members for Q1 2022! 🎉</a></li>\n",
      "                                \n",
      "                                <li>\n",
      "<time datetime=\"2022-04-07T14:41:00.000003+00:00\"><span class=\"say-no-more\">2022-</span>04-07</time>\n",
      " <a href=\"http://pyfound.blogspot.com/2022/04/deb-nicholson-new-executive-director.html\">PSF Welcomes New Executive Director Deb Nicholson</a></li>\n",
      "                                \n",
      "                                <li>\n",
      "<time datetime=\"2022-04-06T10:33:00.000002+00:00\"><span class=\"say-no-more\">2022-</span>04-06</time>\n",
      " <a href=\"https://pythoninsider.blogspot.com/2022/04/the-last-python-311-alpha-3110a7-is.html\">The last Python 3.11 alpha (3.11.0a7) is available</a></li>\n",
      "                                \n",
      "                                <li>\n",
      "<time datetime=\"2022-03-24T12:08:00.000003+00:00\"><span class=\"say-no-more\">2022-</span>03-24</time>\n",
      " <a href=\"https://pythoninsider.blogspot.com/2022/03/python-3104-and-3912-are-now-available.html\">Python 3.10.4 and 3.9.12 are now available out of schedule</a></li>\n",
      "                                \n",
      "                                <li>\n",
      "<time datetime=\"2022-03-22T16:41:00.000001+00:00\"><span class=\"say-no-more\">2022-</span>03-22</time>\n",
      " <a href=\"http://pyfound.blogspot.com/2022/03/meta-deepens-its-investment-in-python.html\">Meta deepens its investment in the Python ecosystem</a></li>\n",
      "                                \n",
      "                            </ul>\n",
      "                        </div><!-- end .shrubbery -->\n",
      "\n",
      "                    </div>\n",
      "\n",
      "                    <div class=\"medium-widget event-widget last\">\n",
      "                        \n",
      "                        <div class=\"shrubbery\">\n",
      "                        \n",
      "                            <h2 class=\"widget-title\"><span aria-hidden=\"true\" class=\"icon-calendar\"></span>Upcoming Events</h2>\n",
      "                            <p class=\"give-me-more\"><a href=\"/events/calendars/\" title=\"More Events\">More</a></p>\n",
      "                            \n",
      "                            <ul class=\"menu\">\n",
      "                                \n",
      "                                \n",
      "                                \n",
      "                                <li>\n",
      "<time datetime=\"2022-05-06T00:00:00+00:00\"><span class=\"say-no-more\">2022-</span>05-06</time>\n",
      " <a href=\"/events/python-events/1257/\">PyCon Kenya Conference 2022</a></li>\n",
      "                                \n",
      "                                \n",
      "                                \n",
      "                                <li>\n",
      "<time datetime=\"2022-05-21T00:00:00+00:00\"><span class=\"say-no-more\">2022-</span>05-21</time>\n",
      " <a href=\"/events/python-user-group/1256/\">Django Girls Malabo</a></li>\n",
      "                                \n",
      "                                \n",
      "                                \n",
      "                                <li>\n",
      "<time datetime=\"2022-05-21T00:00:00+00:00\"><span class=\"say-no-more\">2022-</span>05-21</time>\n",
      " <a href=\"/events/python-user-group/1218/\">Django Girls Groningen</a></li>\n",
      "                                \n",
      "                                \n",
      "                                \n",
      "                                <li>\n",
      "<time datetime=\"2022-05-26T00:00:00+00:00\"><span class=\"say-no-more\">2022-</span>05-26</time>\n",
      " <a href=\"/events/python-events/1215/\">PyCon LT 2022</a></li>\n",
      "                                \n",
      "                                \n",
      "                                \n",
      "                                <li>\n",
      "<time datetime=\"2022-06-02T00:00:00+00:00\"><span class=\"say-no-more\">2022-</span>06-02</time>\n",
      " <a href=\"/events/python-events/1103/\">PyCon Italy 22</a></li>\n",
      "                                \n",
      "                                \n",
      "                            </ul>\n",
      "                        </div>\n",
      "\n",
      "                    </div>\n",
      "\n",
      "                </div>\n",
      "\n",
      "                <div class=\"row\">\n",
      "\n",
      "                    <div class=\"medium-widget success-stories-widget\">\n",
      "                        \n",
      "\n",
      "\n",
      "\n",
      "                        <div class=\"shrubbery\">\n",
      "                            \n",
      "\n",
      "                            <h2 class=\"widget-title\"><span aria-hidden=\"true\" class=\"icon-success-stories\"></span>Success Stories</h2>\n",
      "                            <p class=\"give-me-more\"><a href=\"/success-stories/\" title=\"More Success Stories\">More</a></p>\n",
      "\n",
      "                            \n",
      "                            <div class=\"success-story-item\" id=\"success-story-1101\">\n",
      "\n",
      "                            <blockquote>\n",
      "                                <a href=\"/success-stories/a-startup-healthcare-tech-firm-is-now-poised-for-the-future/\">“We feel much better equipped now to handle the challenges. And if we run into an issue, we’ll come to Caktus to hammer it out,&quot; said Stephen Johnston, VP of Engineering, at Force Therapeutics.</a>\n",
      "                            </blockquote>\n",
      "\n",
      "                            <table cellpadding=\"0\" cellspacing=\"0\" border=\"0\" width=\"100%\" class=\"quote-from\">\n",
      "                                <tbody>\n",
      "                                    <tr>\n",
      "                                        \n",
      "                                        <td><p><a href=\"/success-stories/a-startup-healthcare-tech-firm-is-now-poised-for-the-future/\">A Startup Healthcare Tech Firm Is Now Poised for the Future</a> <em>by Caktus Group</em></p></td>\n",
      "                                    </tr>\n",
      "                                </tbody>\n",
      "                            </table>\n",
      "                            </div>\n",
      "                            \n",
      "\n",
      "                        </div><!-- end .shrubbery -->\n",
      "\n",
      "                    </div>\n",
      "\n",
      "                    <div class=\"medium-widget applications-widget last\">\n",
      "                        <div class=\"shrubbery\">\n",
      "                            <h2 class=\"widget-title\"><span aria-hidden=\"true\" class=\"icon-python\"></span>Use Python for&hellip;</h2>\r\n",
      "<p class=\"give-me-more\"><a href=\"/about/apps\" title=\"More Applications\">More</a></p>\r\n",
      "\r\n",
      "<ul class=\"menu\">\r\n",
      "    <li><b>Web Development</b>:\r\n",
      "        <span class=\"tag-wrapper\"><a class=\"tag\" href=\"http://www.djangoproject.com/\">Django</a>, <a class=\"tag\" href=\"http://www.pylonsproject.org/\">Pyramid</a>, <a class=\"tag\" href=\"http://bottlepy.org\">Bottle</a>, <a class=\"tag\" href=\"http://tornadoweb.org\">Tornado</a>, <a href=\"http://flask.pocoo.org/\" class=\"tag\">Flask</a>, <a class=\"tag\" href=\"http://www.web2py.com/\">web2py</a></span></li>\r\n",
      "    <li><b>GUI Development</b>:\r\n",
      "        <span class=\"tag-wrapper\"><a class=\"tag\" href=\"http://wiki.python.org/moin/TkInter\">tkInter</a>, <a class=\"tag\" href=\"https://wiki.gnome.org/Projects/PyGObject\">PyGObject</a>, <a class=\"tag\" href=\"http://www.riverbankcomputing.co.uk/software/pyqt/intro\">PyQt</a>, <a class=\"tag\" href=\"https://wiki.qt.io/PySide\">PySide</a>, <a class=\"tag\" href=\"https://kivy.org/\">Kivy</a>, <a class=\"tag\" href=\"http://www.wxpython.org/\">wxPython</a></span></li>\r\n",
      "    <li><b>Scientific and Numeric</b>:\r\n",
      "        <span class=\"tag-wrapper\">\r\n",
      "<a class=\"tag\" href=\"http://www.scipy.org\">SciPy</a>, <a class=\"tag\" href=\"http://pandas.pydata.org/\">Pandas</a>, <a href=\"http://ipython.org\" class=\"tag\">IPython</a></span></li>\r\n",
      "    <li><b>Software Development</b>:\r\n",
      "        <span class=\"tag-wrapper\"><a class=\"tag\" href=\"http://buildbot.net/\">Buildbot</a>, <a class=\"tag\" href=\"http://trac.edgewall.org/\">Trac</a>, <a class=\"tag\" href=\"http://roundup.sourceforge.net/\">Roundup</a></span></li>\r\n",
      "    <li><b>System Administration</b>:\r\n",
      "        <span class=\"tag-wrapper\"><a class=\"tag\" href=\"http://www.ansible.com\">Ansible</a>, <a class=\"tag\" href=\"https://saltproject.io\">Salt</a>, <a class=\"tag\" href=\"https://www.openstack.org\">OpenStack</a>, <a class=\"tag\" href=\"https://xon.sh\">xonsh</a></span></li>\r\n",
      "</ul>\n",
      "                        </div><!-- end .shrubbery -->\n",
      "                    </div>\n",
      "\n",
      "                </div>\n",
      "\n",
      "                \n",
      "                <div class=\"pep-widget\">\n",
      "\n",
      "                    <h2 class=\"widget-title\">\n",
      "                        <span class=\"prompt\">&gt;&gt;&gt;</span> <a href=\"/dev/peps/\">Python Enhancement Proposals<span class=\"say-no-more\"> (PEPs)</span></a>: The future of Python<span class=\"say-no-more\"> is discussed here.</span>\n",
      "                        <a aria-hidden=\"true\" class=\"rss-link\" href=\"/dev/peps/peps.rss\"><span class=\"icon-feed\"></span> RSS</a>\n",
      "                    </h2>\n",
      "\n",
      "\n",
      "                    \n",
      "                    \n",
      "                </div>\n",
      "\n",
      "                                <div class=\"psf-widget\">\n",
      "\n",
      "                    <div class=\"python-logo\"></div>\n",
      "                    \n",
      "                    <h2 class=\"widget-title\">\r\n",
      "    <span class=\"prompt\">&gt;&gt;&gt;</span> <a href=\"/psf/\">Python Software Foundation</a>\r\n",
      "</h2>\r\n",
      "<p>The mission of the Python Software Foundation is to promote, protect, and advance the Python programming language, and to support and facilitate the growth of a diverse and international community of Python programmers. <a class=\"readmore\" href=\"/psf/\">Learn more</a> </p>\r\n",
      "<p class=\"click-these\">\r\n",
      "    <a class=\"button\" href=\"/users/membership/\">Become a Member</a>\r\n",
      "    <a class=\"button\" href=\"/psf/donations/\">Donate to the PSF</a>\r\n",
      "</p>\n",
      "                </div>\n",
      "\n",
      "\n",
      "\n",
      "\n",
      "                </section>\n",
      "\n",
      "                \n",
      "                \n",
      "\n",
      "                \n",
      "                \n",
      "\n",
      "\n",
      "            </div><!-- end .container -->\n",
      "        </div><!-- end #content .content-wrapper -->\n",
      "\n",
      "        <!-- Footer and social media list -->\n",
      "        \n",
      "        <footer id=\"site-map\" class=\"main-footer\" role=\"contentinfo\">\n",
      "            <div class=\"main-footer-links\">\n",
      "                <div class=\"container\">\n",
      "\n",
      "                    \n",
      "                    <a id=\"back-to-top-1\" class=\"jump-link\" href=\"#python-network\"><span aria-hidden=\"true\" class=\"icon-arrow-up\"><span>&#9650;</span></span> Back to Top</a>\n",
      "\n",
      "                    \n",
      "\n",
      "<ul class=\"sitemap navigation menu do-not-print\" role=\"tree\" id=\"container\">\n",
      "    \n",
      "    <li class=\"tier-1 element-1\">\n",
      "        <a href=\"/about/\" >About</a>\n",
      "        \n",
      "            \n",
      "\n",
      "<ul class=\"subnav menu\">\n",
      "    \n",
      "        <li class=\"tier-2 element-1\" role=\"treeitem\"><a href=\"/about/apps/\" title=\"\">Applications</a></li>\n",
      "    \n",
      "        <li class=\"tier-2 element-2\" role=\"treeitem\"><a href=\"/about/quotes/\" title=\"\">Quotes</a></li>\n",
      "    \n",
      "        <li class=\"tier-2 element-3\" role=\"treeitem\"><a href=\"/about/gettingstarted/\" title=\"\">Getting Started</a></li>\n",
      "    \n",
      "        <li class=\"tier-2 element-4\" role=\"treeitem\"><a href=\"/about/help/\" title=\"\">Help</a></li>\n",
      "    \n",
      "        <li class=\"tier-2 element-5\" role=\"treeitem\"><a href=\"http://brochure.getpython.info/\" title=\"\">Python Brochure</a></li>\n",
      "    \n",
      "</ul>\n",
      "\n",
      "        \n",
      "    </li>\n",
      "    \n",
      "    <li class=\"tier-1 element-2\">\n",
      "        <a href=\"/downloads/\" >Downloads</a>\n",
      "        \n",
      "            \n",
      "\n",
      "<ul class=\"subnav menu\">\n",
      "    \n",
      "        <li class=\"tier-2 element-1\" role=\"treeitem\"><a href=\"/downloads/\" title=\"\">All releases</a></li>\n",
      "    \n",
      "        <li class=\"tier-2 element-2\" role=\"treeitem\"><a href=\"/downloads/source/\" title=\"\">Source code</a></li>\n",
      "    \n",
      "        <li class=\"tier-2 element-3\" role=\"treeitem\"><a href=\"/downloads/windows/\" title=\"\">Windows</a></li>\n",
      "    \n",
      "        <li class=\"tier-2 element-4\" role=\"treeitem\"><a href=\"/downloads/macos/\" title=\"\">macOS</a></li>\n",
      "    \n",
      "        <li class=\"tier-2 element-5\" role=\"treeitem\"><a href=\"/download/other/\" title=\"\">Other Platforms</a></li>\n",
      "    \n",
      "        <li class=\"tier-2 element-6\" role=\"treeitem\"><a href=\"https://docs.python.org/3/license.html\" title=\"\">License</a></li>\n",
      "    \n",
      "        <li class=\"tier-2 element-7\" role=\"treeitem\"><a href=\"/download/alternatives\" title=\"\">Alternative Implementations</a></li>\n",
      "    \n",
      "</ul>\n",
      "\n",
      "        \n",
      "    </li>\n",
      "    \n",
      "    <li class=\"tier-1 element-3\">\n",
      "        <a href=\"/doc/\" >Documentation</a>\n",
      "        \n",
      "            \n",
      "\n",
      "<ul class=\"subnav menu\">\n",
      "    \n",
      "        <li class=\"tier-2 element-1\" role=\"treeitem\"><a href=\"/doc/\" title=\"\">Docs</a></li>\n",
      "    \n",
      "        <li class=\"tier-2 element-2\" role=\"treeitem\"><a href=\"/doc/av\" title=\"\">Audio/Visual Talks</a></li>\n",
      "    \n",
      "        <li class=\"tier-2 element-3\" role=\"treeitem\"><a href=\"https://wiki.python.org/moin/BeginnersGuide\" title=\"\">Beginner&#39;s Guide</a></li>\n",
      "    \n",
      "        <li class=\"tier-2 element-4\" role=\"treeitem\"><a href=\"https://devguide.python.org/\" title=\"\">Developer&#39;s Guide</a></li>\n",
      "    \n",
      "        <li class=\"tier-2 element-5\" role=\"treeitem\"><a href=\"https://docs.python.org/faq/\" title=\"\">FAQ</a></li>\n",
      "    \n",
      "        <li class=\"tier-2 element-6\" role=\"treeitem\"><a href=\"http://wiki.python.org/moin/Languages\" title=\"\">Non-English Docs</a></li>\n",
      "    \n",
      "        <li class=\"tier-2 element-7\" role=\"treeitem\"><a href=\"http://python.org/dev/peps/\" title=\"\">PEP Index</a></li>\n",
      "    \n",
      "        <li class=\"tier-2 element-8\" role=\"treeitem\"><a href=\"https://wiki.python.org/moin/PythonBooks\" title=\"\">Python Books</a></li>\n",
      "    \n",
      "        <li class=\"tier-2 element-9\" role=\"treeitem\"><a href=\"/doc/essays/\" title=\"\">Python Essays</a></li>\n",
      "    \n",
      "</ul>\n",
      "\n",
      "        \n",
      "    </li>\n",
      "    \n",
      "    <li class=\"tier-1 element-4\">\n",
      "        <a href=\"/community/\" >Community</a>\n",
      "        \n",
      "            \n",
      "\n",
      "<ul class=\"subnav menu\">\n",
      "    \n",
      "        <li class=\"tier-2 element-1\" role=\"treeitem\"><a href=\"/community/diversity/\" title=\"\">Diversity</a></li>\n",
      "    \n",
      "        <li class=\"tier-2 element-2\" role=\"treeitem\"><a href=\"/community/lists/\" title=\"\">Mailing Lists</a></li>\n",
      "    \n",
      "        <li class=\"tier-2 element-3\" role=\"treeitem\"><a href=\"/community/irc/\" title=\"\">IRC</a></li>\n",
      "    \n",
      "        <li class=\"tier-2 element-4\" role=\"treeitem\"><a href=\"/community/forums/\" title=\"\">Forums</a></li>\n",
      "    \n",
      "        <li class=\"tier-2 element-5\" role=\"treeitem\"><a href=\"/psf/annual-report/2021/\" title=\"\">PSF Annual Impact Report</a></li>\n",
      "    \n",
      "        <li class=\"tier-2 element-6\" role=\"treeitem\"><a href=\"/community/workshops/\" title=\"\">Python Conferences</a></li>\n",
      "    \n",
      "        <li class=\"tier-2 element-7\" role=\"treeitem\"><a href=\"/community/sigs/\" title=\"\">Special Interest Groups</a></li>\n",
      "    \n",
      "        <li class=\"tier-2 element-8\" role=\"treeitem\"><a href=\"/community/logos/\" title=\"\">Python Logo</a></li>\n",
      "    \n",
      "        <li class=\"tier-2 element-9\" role=\"treeitem\"><a href=\"https://wiki.python.org/moin/\" title=\"\">Python Wiki</a></li>\n",
      "    \n",
      "        <li class=\"tier-2 element-10\" role=\"treeitem\"><a href=\"/community/merchandise/\" title=\"\">Merchandise</a></li>\n",
      "    \n",
      "        <li class=\"tier-2 element-11\" role=\"treeitem\"><a href=\"/community/awards\" title=\"\">Community Awards</a></li>\n",
      "    \n",
      "        <li class=\"tier-2 element-12\" role=\"treeitem\"><a href=\"/psf/conduct/\" title=\"\">Code of Conduct</a></li>\n",
      "    \n",
      "        <li class=\"tier-2 element-13\" role=\"treeitem\"><a href=\"/psf/get-involved/\" title=\"\">Get Involved</a></li>\n",
      "    \n",
      "        <li class=\"tier-2 element-14\" role=\"treeitem\"><a href=\"/psf/community-stories/\" title=\"\">Shared Stories</a></li>\n",
      "    \n",
      "</ul>\n",
      "\n",
      "        \n",
      "    </li>\n",
      "    \n",
      "    <li class=\"tier-1 element-5\">\n",
      "        <a href=\"/success-stories/\" title=\"success-stories\">Success Stories</a>\n",
      "        \n",
      "            \n",
      "\n",
      "<ul class=\"subnav menu\">\n",
      "    \n",
      "        <li class=\"tier-2 element-1\" role=\"treeitem\"><a href=\"/success-stories/category/arts/\" title=\"\">Arts</a></li>\n",
      "    \n",
      "        <li class=\"tier-2 element-2\" role=\"treeitem\"><a href=\"/success-stories/category/business/\" title=\"\">Business</a></li>\n",
      "    \n",
      "        <li class=\"tier-2 element-3\" role=\"treeitem\"><a href=\"/success-stories/category/education/\" title=\"\">Education</a></li>\n",
      "    \n",
      "        <li class=\"tier-2 element-4\" role=\"treeitem\"><a href=\"/success-stories/category/engineering/\" title=\"\">Engineering</a></li>\n",
      "    \n",
      "        <li class=\"tier-2 element-5\" role=\"treeitem\"><a href=\"/success-stories/category/government/\" title=\"\">Government</a></li>\n",
      "    \n",
      "        <li class=\"tier-2 element-6\" role=\"treeitem\"><a href=\"/success-stories/category/scientific/\" title=\"\">Scientific</a></li>\n",
      "    \n",
      "        <li class=\"tier-2 element-7\" role=\"treeitem\"><a href=\"/success-stories/category/software-development/\" title=\"\">Software Development</a></li>\n",
      "    \n",
      "</ul>\n",
      "\n",
      "        \n",
      "    </li>\n",
      "    \n",
      "    <li class=\"tier-1 element-6\">\n",
      "        <a href=\"/blogs/\" title=\"News from around the Python world\">News</a>\n",
      "        \n",
      "            \n",
      "\n",
      "<ul class=\"subnav menu\">\n",
      "    \n",
      "        <li class=\"tier-2 element-1\" role=\"treeitem\"><a href=\"/blogs/\" title=\"Python Insider Blog Posts\">Python News</a></li>\n",
      "    \n",
      "        <li class=\"tier-2 element-2\" role=\"treeitem\"><a href=\"/psf/newsletter/\" title=\"Python Software Foundation Newsletter\">PSF Newsletter</a></li>\n",
      "    \n",
      "        <li class=\"tier-2 element-3\" role=\"treeitem\"><a href=\"http://planetpython.org/\" title=\"Planet Python\">Community News</a></li>\n",
      "    \n",
      "        <li class=\"tier-2 element-4\" role=\"treeitem\"><a href=\"http://pyfound.blogspot.com/\" title=\"PSF Blog\">PSF News</a></li>\n",
      "    \n",
      "        <li class=\"tier-2 element-5\" role=\"treeitem\"><a href=\"http://pycon.blogspot.com/\" title=\"PyCon Blog\">PyCon News</a></li>\n",
      "    \n",
      "</ul>\n",
      "\n",
      "        \n",
      "    </li>\n",
      "    \n",
      "    <li class=\"tier-1 element-7\">\n",
      "        <a href=\"/events/\" >Events</a>\n",
      "        \n",
      "            \n",
      "\n",
      "<ul class=\"subnav menu\">\n",
      "    \n",
      "        <li class=\"tier-2 element-1\" role=\"treeitem\"><a href=\"/events/python-events/\" title=\"\">Python Events</a></li>\n",
      "    \n",
      "        <li class=\"tier-2 element-2\" role=\"treeitem\"><a href=\"/events/python-user-group/\" title=\"\">User Group Events</a></li>\n",
      "    \n",
      "        <li class=\"tier-2 element-3\" role=\"treeitem\"><a href=\"/events/python-events/past/\" title=\"\">Python Events Archive</a></li>\n",
      "    \n",
      "        <li class=\"tier-2 element-4\" role=\"treeitem\"><a href=\"/events/python-user-group/past/\" title=\"\">User Group Events Archive</a></li>\n",
      "    \n",
      "        <li class=\"tier-2 element-5\" role=\"treeitem\"><a href=\"https://wiki.python.org/moin/PythonEventsCalendar#Submitting_an_Event\" title=\"\">Submit an Event</a></li>\n",
      "    \n",
      "</ul>\n",
      "\n",
      "        \n",
      "    </li>\n",
      "    \n",
      "    <li class=\"tier-1 element-8\">\n",
      "        <a href=\"/dev/\" >Contributing</a>\n",
      "        \n",
      "            \n",
      "\n",
      "<ul class=\"subnav menu\">\n",
      "    \n",
      "        <li class=\"tier-2 element-1\" role=\"treeitem\"><a href=\"https://devguide.python.org/\" title=\"\">Developer&#39;s Guide</a></li>\n",
      "    \n",
      "        <li class=\"tier-2 element-2\" role=\"treeitem\"><a href=\"https://bugs.python.org/\" title=\"\">Issue Tracker</a></li>\n",
      "    \n",
      "        <li class=\"tier-2 element-3\" role=\"treeitem\"><a href=\"https://mail.python.org/mailman/listinfo/python-dev\" title=\"\">python-dev list</a></li>\n",
      "    \n",
      "        <li class=\"tier-2 element-4\" role=\"treeitem\"><a href=\"/dev/core-mentorship/\" title=\"\">Core Mentorship</a></li>\n",
      "    \n",
      "        <li class=\"tier-2 element-5\" role=\"treeitem\"><a href=\"/dev/security/\" title=\"\">Report a Security Issue</a></li>\n",
      "    \n",
      "</ul>\n",
      "\n",
      "        \n",
      "    </li>\n",
      "    \n",
      "</ul>\n",
      "\n",
      "\n",
      "                    <a id=\"back-to-top-2\" class=\"jump-link\" href=\"#python-network\"><span aria-hidden=\"true\" class=\"icon-arrow-up\"><span>&#9650;</span></span> Back to Top</a>\n",
      "                    \n",
      "\n",
      "                </div><!-- end .container -->\n",
      "            </div> <!-- end .main-footer-links -->\n",
      "\n",
      "            <div class=\"site-base\">\n",
      "                <div class=\"container\">\n",
      "                    \n",
      "                    <ul class=\"footer-links navigation menu do-not-print\" role=\"tree\">\n",
      "                        <li class=\"tier-1 element-1\"><a href=\"/about/help/\">Help &amp; <span class=\"say-no-more\">General</span> Contact</a></li>\n",
      "                        <li class=\"tier-1 element-2\"><a href=\"/community/diversity/\">Diversity <span class=\"say-no-more\">Initiatives</span></a></li>\n",
      "                        <li class=\"tier-1 element-3\"><a href=\"https://github.com/python/pythondotorg/issues\">Submit Website Bug</a></li>\n",
      "                        <li class=\"tier-1 element-4\">\n",
      "                            <a href=\"https://status.python.org/\">Status <span class=\"python-status-indicator-default\" id=\"python-status-indicator\"></span></a>\n",
      "                        </li>\n",
      "                    </ul>\n",
      "\n",
      "                    <div class=\"copyright\">\n",
      "                        <p><small>\n",
      "                            <span class=\"pre\">Copyright &copy;2001-2022.</span>\n",
      "                            &nbsp;<span class=\"pre\"><a href=\"/psf-landing/\">Python Software Foundation</a></span>\n",
      "                            &nbsp;<span class=\"pre\"><a href=\"/about/legal/\">Legal Statements</a></span>\n",
      "                            &nbsp;<span class=\"pre\"><a href=\"/privacy/\">Privacy Policy</a></span>\n",
      "                            &nbsp;<span class=\"pre\"><a href=\"/psf/sponsorship/sponsors/#heroku\">Powered by Heroku</a></span>\n",
      "                        </small></p>\n",
      "                    </div>\n",
      "\n",
      "                </div><!-- end .container -->\n",
      "            </div><!-- end .site-base -->\n",
      "\n",
      "        </footer>\n",
      "        \n",
      "\n",
      "    </div><!-- end #touchnav-wrapper -->\n",
      "\n",
      "    \n",
      "    <script src=\"//ajax.googleapis.com/ajax/libs/jquery/1.8.2/jquery.min.js\"></script>\n",
      "    <script>window.jQuery || document.write('<script src=\"/static/js/libs/jquery-1.8.2.min.js\"><\\/script>')</script>\n",
      "    <script src=\"//ajax.googleapis.com/ajax/libs/jqueryui/1.12.1/jquery-ui.min.js\"></script>\n",
      "    <script>window.jQuery || document.write('<script src=\"/static/js/libs/jquery-ui-1.12.1.min.js\"><\\/script>')</script>\n",
      "\n",
      "    <script src=\"/static/js/libs/masonry.pkgd.min.js\"></script>\n",
      "    <script src=\"/static/js/libs/html-includes.js\"></script>\n",
      "\n",
      "    <script type=\"text/javascript\" src=\"/static/js/main-min.dd72c1659644.js\" charset=\"utf-8\"></script>\n",
      "    \n",
      "\n",
      "    <!--[if lte IE 7]>\n",
      "    <script type=\"text/javascript\" src=\"/static/js/plugins/IE8-min.8af6e26c7a3b.js\" charset=\"utf-8\"></script>\n",
      "    \n",
      "    \n",
      "    <![endif]-->\n",
      "\n",
      "    <!--[if lte IE 8]>\n",
      "    <script type=\"text/javascript\" src=\"/static/js/plugins/getComputedStyle-min.d41d8cd98f00.js\" charset=\"utf-8\"></script>\n",
      "    \n",
      "    \n",
      "    <![endif]-->\n",
      "\n",
      "    \n",
      "\n",
      "    \n",
      "    \n",
      "\n",
      "</body>\n",
      "</html>\n",
      "\n"
     ]
    }
   ],
   "source": [
    "import urllib.request\n",
    "request = urllib.request.Request('https://python.org')\n",
    "response = urllib.request.urlopen(request)\n",
    "print(response.read().decode('utf-8'))"
   ]
  },
  {
   "cell_type": "markdown",
   "id": "26b8e0bf",
   "metadata": {},
   "source": [
    "class urllib.request.Request(url,data=None,headers={},origin_req_host=None,unverifiable=False,method=None)  \n",
    "1.url参数必传  \n",
    "2.data如果要传，必须传bytes类型的。如果为字典，可以先用urllib.parse模块里的urlencode（）编码  \n",
    "3.headers是一个字典，它就是请求头，我们可以在构造请求时通过headers参数直接构造，也可以通过调用请求实例的add_header()方法添加  \n",
    "添加请求头时最常用的用法就是通过参数修改User-Agent来伪装浏览器，默认的User-Agent时Python-urllib，可以通过修改它来伪装成浏览器 \n",
    "4.origin_req_host指的是请求方的host名称或者IP地址  \n",
    "5.unverifiable表示这个请求是否无法验证的。例如，我们请求一个HTML文档中的图片，但是我们没有自动抓取图像的权限，这时unverifiable的值为True  \n",
    "5.method来指示方法，如GET、POST和PUT  "
   ]
  },
  {
   "cell_type": "code",
   "execution_count": 20,
   "id": "247721eb",
   "metadata": {},
   "outputs": [
    {
     "name": "stdout",
     "output_type": "stream",
     "text": [
      "{\n",
      "  \"args\": {}, \n",
      "  \"data\": \"\", \n",
      "  \"files\": {}, \n",
      "  \"form\": {\n",
      "    \"name\": \"Germay\"\n",
      "  }, \n",
      "  \"headers\": {\n",
      "    \"Accept-Encoding\": \"identity\", \n",
      "    \"Content-Length\": \"11\", \n",
      "    \"Content-Type\": \"application/x-www-form-urlencoded\", \n",
      "    \"Host\": \"httpbin.org\", \n",
      "    \"User-Agent\": \"Mozilla/5.0 (Windows NT 10.0; Win64; x64) AppleWebKit/537.36 (KHTML, like Gecko) Chrome/101.0.4951.41 Safari/537.36 Edg/101.0.1210.32\", \n",
      "    \"X-Amzn-Trace-Id\": \"Root=1-62728e9d-61ff2b8552044816161ec669\"\n",
      "  }, \n",
      "  \"json\": null, \n",
      "  \"origin\": \"111.181.30.190\", \n",
      "  \"url\": \"http://httpbin.org/post\"\n",
      "}\n",
      "\n"
     ]
    }
   ],
   "source": [
    "from urllib import request,parse\n",
    "\n",
    "url = 'http://httpbin.org/post'\n",
    "headers = {\n",
    "    'User-Agent':'Mozilla/5.0 (Windows NT 10.0; Win64; x64) AppleWebKit/537.36 (KHTML, like Gecko) Chrome/101.0.4951.41 Safari/537.36 Edg/101.0.1210.32',\n",
    "    'Host':'httpbin.org'\n",
    "}\n",
    "\n",
    "dict = {\n",
    "    'name':'Germay'\n",
    "}\n",
    "\n",
    "data = bytes(parse.urlencode(dict),encoding='utf-8')\n",
    "req = request.Request(url=url,data=data,headers=headers,method='POST')\n",
    "response = request.urlopen(req)\n",
    "print(response.read().decode('utf-8'))"
   ]
  },
  {
   "cell_type": "markdown",
   "id": "99d4938e",
   "metadata": {},
   "source": [
    "观察结果可以发现，成功设置了data、headers和method"
   ]
  },
  {
   "cell_type": "markdown",
   "id": "d8636aec",
   "metadata": {},
   "source": [
    "另外，headers也可以用add_header（）方法来添加：  \n",
    "req = request.Request(url=url,data=data,method='POST')  \n",
    "req.add_header( 'User-Agent','Mozilla/5.0 (Windows NT 10.0; Win64; x64) AppleWebKit/537.36 (KHTML, like Gecko) Chrome/101.0.4951.41 Safari/537.36 Edg/101.0.1210.32')"
   ]
  },
  {
   "cell_type": "markdown",
   "id": "88454506",
   "metadata": {},
   "source": [
    "#### 高级用法"
   ]
  },
  {
   "cell_type": "markdown",
   "id": "0ba8911a",
   "metadata": {},
   "source": [
    "更强大的工具Handler。处理器，几乎可以做到HTTP请求中所有的事情"
   ]
  },
  {
   "cell_type": "markdown",
   "id": "639afa74",
   "metadata": {},
   "source": [
    "##### BaseHandler"
   ]
  },
  {
   "cell_type": "markdown",
   "id": "71c62bcb",
   "metadata": {},
   "source": [
    "它是所有其他Handler的父类，它提供了最基本的方法  \n",
    "HTTPDefaultErrorHandler :用于处理HTTP相应错误，错误都会抛出HTTPError类型的异常。  \n",
    "HTTPRedirectHandler ：用于处理重定向  \n",
    "HTTPCookiesProcessor ：用于设置代理，默认代理为空  \n",
    "HTTPPasswordMgr ：用于密码管理，它维护了用户名和密码的表  \n",
    "ProxyHandler ：用于设置代理，默认代理为空  g\n",
    "HTTPBasicAuthHandler ：用于密码管理，如果一个连接打开时需要认证，那么可以用它解决认证问题  "
   ]
  },
  {
   "cell_type": "markdown",
   "id": "1014fde2",
   "metadata": {},
   "source": [
    "另一个比较重要的类就是OpenerDirector，我们可以称为Opener。Opener可以使用open（）方法，返回的类型和urlopen（）如初一辙。"
   ]
  },
  {
   "cell_type": "code",
   "execution_count": 2,
   "id": "0cd80fbe",
   "metadata": {},
   "outputs": [
    {
     "ename": "NameError",
     "evalue": "name 'p_add_password' is not defined",
     "output_type": "error",
     "traceback": [
      "\u001b[1;31m---------------------------------------------------------------------------\u001b[0m",
      "\u001b[1;31mNameError\u001b[0m                                 Traceback (most recent call last)",
      "\u001b[1;32mC:\\Users\\WRITIN~1\\AppData\\Local\\Temp/ipykernel_12676/3681901171.py\u001b[0m in \u001b[0;36m<module>\u001b[1;34m\u001b[0m\n\u001b[0;32m      9\u001b[0m \u001b[1;33m\u001b[0m\u001b[0m\n\u001b[0;32m     10\u001b[0m \u001b[0mp\u001b[0m \u001b[1;33m=\u001b[0m \u001b[0mHTTPPasswordMgrWithDefaultRealm\u001b[0m\u001b[1;33m(\u001b[0m\u001b[1;33m)\u001b[0m\u001b[1;33m\u001b[0m\u001b[1;33m\u001b[0m\u001b[0m\n\u001b[1;32m---> 11\u001b[1;33m \u001b[0mp_add_password\u001b[0m\u001b[1;33m(\u001b[0m\u001b[1;32mNone\u001b[0m\u001b[1;33m,\u001b[0m\u001b[0murl\u001b[0m\u001b[1;33m,\u001b[0m\u001b[0musername\u001b[0m\u001b[1;33m,\u001b[0m\u001b[0mpassword\u001b[0m\u001b[1;33m)\u001b[0m\u001b[1;33m\u001b[0m\u001b[1;33m\u001b[0m\u001b[0m\n\u001b[0m\u001b[0;32m     12\u001b[0m \u001b[0mauth_handler\u001b[0m \u001b[1;33m=\u001b[0m \u001b[0mHTTPBasicAuthHandler\u001b[0m\u001b[1;33m(\u001b[0m\u001b[0mp\u001b[0m\u001b[1;33m)\u001b[0m\u001b[1;33m\u001b[0m\u001b[1;33m\u001b[0m\u001b[0m\n\u001b[0;32m     13\u001b[0m \u001b[0mopener\u001b[0m \u001b[1;33m=\u001b[0m \u001b[0mbuild_opener\u001b[0m\u001b[1;33m(\u001b[0m\u001b[0mauth_handler\u001b[0m\u001b[1;33m)\u001b[0m\u001b[1;33m\u001b[0m\u001b[1;33m\u001b[0m\u001b[0m\n",
      "\u001b[1;31mNameError\u001b[0m: name 'p_add_password' is not defined"
     ]
    }
   ],
   "source": [
    "#验证\n",
    "from urllib.request import HTTPPasswordMgrWithDefaultRealm,HTTPBasicAuthHandler,build_opener\n",
    "from urllib.error import URLError\n",
    "import urllib.request\n",
    "\n",
    "username = 'username'\n",
    "password = 'password'\n",
    "url = 'http://localhost:5000/'\n",
    "\n",
    "p = HTTPPasswordMgrWithDefaultRealm()\n",
    "p_add_password(None,url,username,password)\n",
    "auth_handler = HTTPBasicAuthHandler(p)\n",
    "opener = build_opener(auth_handler)\n",
    "\n",
    "try:\n",
    "    result = opener.open(url)\n",
    "    html = result.read().decode('utf-8')\n",
    "    print(html)\n",
    "except URLError as e:\n",
    "    print(e.reason)"
   ]
  },
  {
   "cell_type": "markdown",
   "id": "29bb3f5a",
   "metadata": {},
   "source": [
    "##### 代理"
   ]
  },
  {
   "cell_type": "code",
   "execution_count": 5,
   "id": "419c2283",
   "metadata": {},
   "outputs": [
    {
     "name": "stdout",
     "output_type": "stream",
     "text": [
      "[WinError 10061] 由于目标计算机积极拒绝，无法连接。\n"
     ]
    }
   ],
   "source": [
    "from urllib.error import URLError\n",
    "from urllib.request import ProxyHandler,build_opener\n",
    "\n",
    "proxy_handler = ProxyHandler({\n",
    "    'http':'http://127.0.0.1:9743',\n",
    "    'https':'https://127.0.0.1:9743'\n",
    "})\n",
    "opener = build_opener(proxy_handler)\n",
    "try:\n",
    "    response = opener.open('https://www.baidu.com')\n",
    "    print(response.read().decode('utf-8'))\n",
    "except URLError as e:\n",
    "    print(e.reason)"
   ]
  },
  {
   "cell_type": "markdown",
   "id": "e1e8c698",
   "metadata": {},
   "source": [
    "这里在本地搭建了一个代理，它运行在9743端口上"
   ]
  },
  {
   "cell_type": "markdown",
   "id": "1b2b5be2",
   "metadata": {},
   "source": [
    "这里使用了ProxyHandler，其参数是一个字典，键名是协议类型（比如HTTP和HTPPS等），键值是代理链接，可以添加多个代理。  \n",
    "然后利用这个Handler及build_opener（）方法构造一个Opener，之后发送请求即可"
   ]
  },
  {
   "cell_type": "markdown",
   "id": "17e642a9",
   "metadata": {},
   "source": [
    "#### Cookies"
   ]
  },
  {
   "cell_type": "code",
   "execution_count": 16,
   "id": "db1e0de3",
   "metadata": {},
   "outputs": [
    {
     "name": "stdout",
     "output_type": "stream",
     "text": [
      "BAIDUID=A62FC0B3B42DFFF4FBAD0D6EC6555F94:FG=1\n",
      "BIDUPSID=A62FC0B3B42DFFF48934C2156F6B2AA4\n",
      "H_PS_PSSID=36309_31254_34812_35912_36166_34584_35979_36075_35863_36232_26350_36302_36314_36061\n",
      "PSTM=1651763831\n",
      "BDSVRTM=0\n",
      "BD_HOME=1\n"
     ]
    }
   ],
   "source": [
    "import http.cookiejar,urllib.request\n",
    "\n",
    "cookie = http.cookiejar.CookieJar()\n",
    "handler = urllib.request.HTTPCookieProcessor(cookie)\n",
    "opener = urllib.request.build_opener(handler)\n",
    "response = opener.open('http://www.baidu.com')\n",
    "for item in cookie:\n",
    "    print(item.name+\"=\"+item.value)"
   ]
  },
  {
   "cell_type": "markdown",
   "id": "b9897e45",
   "metadata": {},
   "source": [
    "可以看到，给出了Cookie的名称和值。  \n",
    "不过也可以输出成文件格式"
   ]
  },
  {
   "cell_type": "code",
   "execution_count": 20,
   "id": "f49aee4d",
   "metadata": {},
   "outputs": [
    {
     "ename": "NameError",
     "evalue": "name 'cookies' is not defined",
     "output_type": "error",
     "traceback": [
      "\u001b[1;31m---------------------------------------------------------------------------\u001b[0m",
      "\u001b[1;31mNameError\u001b[0m                                 Traceback (most recent call last)",
      "\u001b[1;32mC:\\Users\\WRITIN~1\\AppData\\Local\\Temp/ipykernel_12676/2157879040.py\u001b[0m in \u001b[0;36m<module>\u001b[1;34m\u001b[0m\n\u001b[0;32m      5\u001b[0m \u001b[0mresponse\u001b[0m \u001b[1;33m=\u001b[0m \u001b[0mopener\u001b[0m\u001b[1;33m.\u001b[0m\u001b[0mopen\u001b[0m\u001b[1;33m(\u001b[0m\u001b[1;34m'http://www.baidu.com'\u001b[0m\u001b[1;33m)\u001b[0m\u001b[1;33m\u001b[0m\u001b[1;33m\u001b[0m\u001b[0m\n\u001b[0;32m      6\u001b[0m \u001b[0mcookie\u001b[0m\u001b[1;33m.\u001b[0m\u001b[0msave\u001b[0m\u001b[1;33m(\u001b[0m\u001b[0mignore_discard\u001b[0m\u001b[1;33m=\u001b[0m\u001b[1;32mTrue\u001b[0m\u001b[1;33m,\u001b[0m\u001b[0mignore_expires\u001b[0m\u001b[1;33m=\u001b[0m\u001b[1;32mTrue\u001b[0m\u001b[1;33m)\u001b[0m\u001b[1;33m\u001b[0m\u001b[1;33m\u001b[0m\u001b[0m\n\u001b[1;32m----> 7\u001b[1;33m \u001b[0mprint\u001b[0m\u001b[1;33m(\u001b[0m\u001b[0mcookies\u001b[0m\u001b[1;33m.\u001b[0m\u001b[0mtxt\u001b[0m\u001b[1;33m)\u001b[0m\u001b[1;33m\u001b[0m\u001b[1;33m\u001b[0m\u001b[0m\n\u001b[0m",
      "\u001b[1;31mNameError\u001b[0m: name 'cookies' is not defined"
     ]
    }
   ],
   "source": [
    "filename = 'cookies.txt'\n",
    "cookie = http.cookiejar.MozillaCookieJar(filename)\n",
    "handler = urllib.request.HTTPCookieProcessor(cookie)\n",
    "opener = urllib.request.build_opener(handler)\n",
    "response = opener.open('http://www.baidu.com')\n",
    "cookie.save(ignore_discard=True,ignore_expires=True)\n",
    "print(cookies.txt)"
   ]
  },
  {
   "cell_type": "markdown",
   "id": "d0dbdd51",
   "metadata": {},
   "source": [
    "#### 异常处理"
   ]
  },
  {
   "cell_type": "markdown",
   "id": "215421f5",
   "metadata": {},
   "source": [
    "#### URLError"
   ]
  },
  {
   "cell_type": "markdown",
   "id": "66bfb1ca",
   "metadata": {},
   "source": [
    "URLError类来自urllib库的error模块，它继承自OSError类，是error异常模块的基类，由request模块生的异常都可以通过捕获这个类来处理|"
   ]
  },
  {
   "cell_type": "code",
   "execution_count": 24,
   "id": "be46ce0f",
   "metadata": {},
   "outputs": [
    {
     "name": "stdout",
     "output_type": "stream",
     "text": [
      "Not Found\n"
     ]
    }
   ],
   "source": [
    "from urllib import request,error\n",
    "try:\n",
    "    response = request.urlopen('https://cuiqingcai.com/index.htm')\n",
    "except error.URLError as e:\n",
    "    print(e.reason)"
   ]
  },
  {
   "cell_type": "markdown",
   "id": "7f529c9d",
   "metadata": {},
   "source": [
    "#### HTTPError"
   ]
  },
  {
   "cell_type": "markdown",
   "id": "214a58b0",
   "metadata": {},
   "source": [
    "它是URLError的子类，专门用来处理HTTP请求错误，比如认证请求失败等  \n",
    "1.code:返回HTTP状态码  \n",
    "2.reason：返回错误的原因  \n",
    "3.headers：返回请求头"
   ]
  },
  {
   "cell_type": "code",
   "execution_count": 27,
   "id": "5b8d0c49",
   "metadata": {},
   "outputs": [
    {
     "name": "stdout",
     "output_type": "stream",
     "text": [
      "Not Found 404 Server: GitHub.com\n",
      "Content-Type: text/html; charset=utf-8\n",
      "Access-Control-Allow-Origin: *\n",
      "ETag: \"6272da93-247b\"\n",
      "Content-Security-Policy: default-src 'none'; style-src 'unsafe-inline'; img-src data:; connect-src 'self'\n",
      "x-proxy-cache: MISS\n",
      "X-GitHub-Request-Id: 7754:1ABA:16F737:1941D8:6273EEBB\n",
      "Accept-Ranges: bytes\n",
      "Date: Thu, 05 May 2022 15:42:04 GMT\n",
      "Via: 1.1 varnish\n",
      "Age: 401\n",
      "X-Served-By: cache-hkg17921-HKG\n",
      "X-Cache: HIT\n",
      "X-Cache-Hits: 1\n",
      "X-Timer: S1651765325.979535,VS0,VE1\n",
      "Vary: Accept-Encoding\n",
      "X-Fastly-Request-ID: dabdc0181208906d4c679059e0ee143ade2f663d\n",
      "X-Cache-Lookup: Cache Miss\n",
      "X-Cache-Lookup: Cache Miss\n",
      "X-Cache-Lookup: Cache Miss\n",
      "Content-Length: 9339\n",
      "X-NWS-LOG-UUID: 17501831352823260970\n",
      "Connection: close\n",
      "X-Cache-Lookup: Cache Miss\n",
      "\n",
      "\n"
     ]
    }
   ],
   "source": [
    "from urllib import request,error\n",
    "\n",
    "try:\n",
    "    response = request.urlopen('https://cuiqingcai.com/index.htm')\n",
    "except error.URLError as e:\n",
    "    print(e.reason,e.code,e.headers,end='\\n')"
   ]
  },
  {
   "cell_type": "markdown",
   "id": "048e2f5d",
   "metadata": {},
   "source": [
    "由于URLError是HTTPError的父类，所以可以先选择捕获子类的错误，再去捕获父类的错误，所以上述代码更好的写法如下"
   ]
  },
  {
   "cell_type": "code",
   "execution_count": 31,
   "id": "806dd833",
   "metadata": {},
   "outputs": [
    {
     "name": "stdout",
     "output_type": "stream",
     "text": [
      "Not Found 404 Server: GitHub.com\n",
      "Content-Type: text/html; charset=utf-8\n",
      "Access-Control-Allow-Origin: *\n",
      "ETag: \"6272da93-247b\"\n",
      "Content-Security-Policy: default-src 'none'; style-src 'unsafe-inline'; img-src data:; connect-src 'self'\n",
      "x-proxy-cache: MISS\n",
      "X-GitHub-Request-Id: 7754:1ABA:16F737:1941D8:6273EEBB\n",
      "Accept-Ranges: bytes\n",
      "Date: Thu, 05 May 2022 15:48:45 GMT\n",
      "Via: 1.1 varnish\n",
      "Age: 801\n",
      "X-Served-By: cache-hkg17935-HKG\n",
      "X-Cache: HIT\n",
      "X-Cache-Hits: 1\n",
      "X-Timer: S1651765725.122117,VS0,VE1\n",
      "Vary: Accept-Encoding\n",
      "X-Fastly-Request-ID: 2cb2260270a00f4595bf9916a46ce7ac277d11f0\n",
      "X-Cache-Lookup: Cache Miss\n",
      "X-Cache-Lookup: Cache Miss\n",
      "Content-Length: 9339\n",
      "X-NWS-LOG-UUID: 4660493620829011409\n",
      "Connection: close\n",
      "X-Cache-Lookup: Cache Miss\n",
      "\n",
      "\n"
     ]
    }
   ],
   "source": [
    "from urllib import request,error\n",
    "\n",
    "try:\n",
    "    response = request.urlopen('https://cuiqingcai.com/index.htm')\n",
    "except error.HTTPError as e:\n",
    "    print(e.reason,e.code,e.headers,end='\\n')\n",
    "except error.URLError as e:\n",
    "    print(e.reason)\n",
    "else :\n",
    "    print('Request Successfully')"
   ]
  },
  {
   "cell_type": "markdown",
   "id": "ac9a6135",
   "metadata": {},
   "source": [
    "#### 解析链接"
   ]
  },
  {
   "cell_type": "markdown",
   "id": "49e81d8e",
   "metadata": {},
   "source": [
    "urllib库里还提供了parse模块，它定义了处理RUL的标准接口，实现URL各部分的抽取、合并以及链接转换。  \n",
    "它支持如下的URL处理：  \n",
    "file,ftp,gopher,hdl,http,https,imap,mailto,mms,news,nntp,prospero,rsync,rtsp,rtspu,sftp,sip,sips,snews,svn,svn+ssh,telnet和wais"
   ]
  },
  {
   "cell_type": "markdown",
   "id": "42493b2a",
   "metadata": {},
   "source": [
    "##### urlparse()"
   ]
  },
  {
   "cell_type": "code",
   "execution_count": 32,
   "id": "ec5fba62",
   "metadata": {},
   "outputs": [
    {
     "name": "stdout",
     "output_type": "stream",
     "text": [
      "<class 'urllib.parse.ParseResult'> ParseResult(scheme='https', netloc='www.baidu.com', path='/index.html', params='user', query='id=5', fragment='comment')\n"
     ]
    }
   ],
   "source": [
    "from urllib.parse import urlparse\n",
    "\n",
    "result = urlparse('https://www.baidu.com/index.html;user?id=5#comment')\n",
    "print(type(result),result)"
   ]
  },
  {
   "cell_type": "markdown",
   "id": "a30d037c",
   "metadata": {},
   "source": [
    "可以看到，urlparse()方法将其拆分成了6个部分。大体观察可以发现，解析时由特定的分隔符，比如：//前面是scheme,代表协议；netloc即为域名；后面是path。即访问路径；前面是params，代表参数；问号？后面是查询条件query，一般用作GET类型的URL；井号后面是锚点，用于直接定位页面内部的下拉位置"
   ]
  },
  {
   "cell_type": "markdown",
   "id": "c523fb2c",
   "metadata": {},
   "source": [
    "一个标准的链接格式：  \n",
    "scheme://netloc/path;params?query#fragment"
   ]
  },
  {
   "cell_type": "markdown",
   "id": "64656cb8",
   "metadata": {},
   "source": [
    "一个标准的URL都会符合这个规则，利用urlparse()方法可以将它拆分开来。  \n",
    "urllib.parse.urlparse(urlstring,scheme='',allow_fragments=True)  \n",
    "1.urlstring:待解析的URL  \n",
    "2.scheme：它是默认的协议（比如http或https等） \n",
    "3.allow_fragments:即是否忽略frament。如果被设置为False，fragment部分就会被忽略，它会被解析成为path、parameters或者query的一部分"
   ]
  },
  {
   "cell_type": "code",
   "execution_count": 2,
   "id": "0c3925e8",
   "metadata": {},
   "outputs": [
    {
     "name": "stdout",
     "output_type": "stream",
     "text": [
      "ParseResult(scheme='htpps', netloc='', path='www.baidu.com/index,html;user!id=5', params='', query='', fragment='comment')\n"
     ]
    }
   ],
   "source": [
    "from urllib.parse import urlparse\n",
    "\n",
    "result = urlparse('www.baidu.com/index,html;user!id=5#comment',scheme='htpps')\n",
    "print(result)"
   ]
  },
  {
   "cell_type": "markdown",
   "id": "262adc62",
   "metadata": {},
   "source": [
    "可以看到，URL中没有scheme的内容，如果加上scheme就会有该内容了  "
   ]
  },
  {
   "cell_type": "code",
   "execution_count": 4,
   "id": "dca7f385",
   "metadata": {},
   "outputs": [
    {
     "name": "stdout",
     "output_type": "stream",
     "text": [
      "ParseResult(scheme='http', netloc='www.baidu.com', path='/index,html', params='user!id=5', query='', fragment='comment')\n"
     ]
    }
   ],
   "source": [
    "result = urlparse('http://www.baidu.com/index,html;user!id=5#comment',scheme='https')\n",
    "print(result)"
   ]
  },
  {
   "cell_type": "markdown",
   "id": "1603d32d",
   "metadata": {},
   "source": [
    "可以看到，就算scheme参数是https，如果URL中也是http，其结果仍为http"
   ]
  },
  {
   "cell_type": "code",
   "execution_count": 11,
   "id": "0a9cc81b",
   "metadata": {},
   "outputs": [
    {
     "name": "stdout",
     "output_type": "stream",
     "text": [
      "ParseResult(scheme='http', netloc='www.baidu.com', path='/index.html', params='user!id=5#comment', query='', fragment='')\n"
     ]
    }
   ],
   "source": [
    "from urllib.parse import urlparse\n",
    "\n",
    "result = urlparse('http://www.baidu.com/index.html;user!id=5#comment',allow_fragments=False)\n",
    "print(result)"
   ]
  },
  {
   "cell_type": "markdown",
   "id": "abb4e762",
   "metadata": {},
   "source": [
    "假设URL中不含params和query"
   ]
  },
  {
   "cell_type": "code",
   "execution_count": 10,
   "id": "58e83d5e",
   "metadata": {},
   "outputs": [
    {
     "name": "stdout",
     "output_type": "stream",
     "text": [
      "ParseResult(scheme='http', netloc='www.baidu.com', path='/index.html#comment', params='', query='', fragment='')\n"
     ]
    }
   ],
   "source": [
    "result = urlparse('http://www.baidu.com/index.html#comment',allow_fragments=False)\n",
    "print(result)"
   ]
  },
  {
   "cell_type": "markdown",
   "id": "fa60048c",
   "metadata": {},
   "source": [
    "返回结果ParseResult实际上是一个元组，可以用索引顺序来获取，也可以用属性名来获取"
   ]
  },
  {
   "cell_type": "code",
   "execution_count": 13,
   "id": "251699ac",
   "metadata": {},
   "outputs": [
    {
     "name": "stdout",
     "output_type": "stream",
     "text": [
      "http http www.baidu.com www.baidu.com\n"
     ]
    }
   ],
   "source": [
    "from urllib.parse import urlparse\n",
    "\n",
    "result = urlparse('http://www.baidu.com/index.html#comment',allow_fragments=False)\n",
    "print(result.scheme,result[0],result.netloc,result[1])"
   ]
  },
  {
   "cell_type": "markdown",
   "id": "d78814b0",
   "metadata": {},
   "source": [
    "除了urlparse（）还有urlunparse（），它接受的参数是一个可迭代的对象，但是长度必为6，否则会出现参数数量不足或者过多的问题"
   ]
  },
  {
   "cell_type": "code",
   "execution_count": 15,
   "id": "c59da64d",
   "metadata": {},
   "outputs": [
    {
     "name": "stdout",
     "output_type": "stream",
     "text": [
      "http://www.baidu.com/index.html;user?a=6#comment\n"
     ]
    }
   ],
   "source": [
    "from urllib.parse import urlunparse\n",
    "\n",
    "data = ['http','www.baidu.com','index.html','user','a=6','comment']\n",
    "print(urlunparse(data))"
   ]
  },
  {
   "cell_type": "markdown",
   "id": "f8ce8df7",
   "metadata": {},
   "source": [
    "##### urlsplit"
   ]
  },
  {
   "cell_type": "markdown",
   "id": "ff7a7f47",
   "metadata": {},
   "source": [
    "这个方法和urlparse()方法非常类似，只不过它不再单独解析params这一部分，只返回5个结果。"
   ]
  },
  {
   "cell_type": "code",
   "execution_count": 3,
   "id": "7493fd36",
   "metadata": {},
   "outputs": [
    {
     "name": "stdout",
     "output_type": "stream",
     "text": [
      "SplitResult(scheme='https', netloc='www.baidu.com', path='/index.html;user', query='id=5', fragment='comment')\n"
     ]
    }
   ],
   "source": [
    "from urllib.parse import urlsplit\n",
    "result = urlsplit('https://www.baidu.com/index.html;user?id=5#comment')\n",
    "print(result)"
   ]
  },
  {
   "cell_type": "markdown",
   "id": "438cc13c",
   "metadata": {},
   "source": [
    "返回结果是SplitResult，它其实是一个元组类型，既可以用属性获取值，也可以用索引来获取"
   ]
  },
  {
   "cell_type": "markdown",
   "id": "44907206",
   "metadata": {},
   "source": [
    "##### urlunsplit"
   ]
  },
  {
   "cell_type": "markdown",
   "id": "924f86f3",
   "metadata": {},
   "source": [
    "与urlunsplit（）类似，它也是将链接各个部分组合完成完整链接的方法，传入的参数也是一个可迭代的对象，例如列表、元组等，唯一的区别是长度必须为5."
   ]
  },
  {
   "cell_type": "code",
   "execution_count": 5,
   "id": "dad779c8",
   "metadata": {},
   "outputs": [
    {
     "name": "stdout",
     "output_type": "stream",
     "text": [
      "http://www.baidu.com/index.html?a=6#comment\n"
     ]
    }
   ],
   "source": [
    "from urllib.parse import urlunsplit\n",
    "\n",
    "data = ['http','www.baidu.com','index.html','a=6','comment']\n",
    "print(urlunsplit(data))"
   ]
  },
  {
   "cell_type": "markdown",
   "id": "6cf57d80",
   "metadata": {},
   "source": [
    "##### urljoin()"
   ]
  },
  {
   "cell_type": "markdown",
   "id": "4c93cfd0",
   "metadata": {},
   "source": [
    "可以提供一个base_url（基础链接）作为第一个参数，将新的链接作为第二个参数，该方法会分析base_url的scheme、netloc和path这3个内容并对新连接缺失部分的进行补充"
   ]
  },
  {
   "cell_type": "code",
   "execution_count": 6,
   "id": "2a0566f7",
   "metadata": {},
   "outputs": [
    {
     "ename": "ModuleNotFoundError",
     "evalue": "No module named 'urllib.prase'",
     "output_type": "error",
     "traceback": [
      "\u001b[1;31m---------------------------------------------------------------------------\u001b[0m",
      "\u001b[1;31mModuleNotFoundError\u001b[0m                       Traceback (most recent call last)",
      "\u001b[1;32mC:\\Users\\WRITIN~1\\AppData\\Local\\Temp/ipykernel_11204/1243147667.py\u001b[0m in \u001b[0;36m<module>\u001b[1;34m\u001b[0m\n\u001b[1;32m----> 1\u001b[1;33m \u001b[1;32mfrom\u001b[0m \u001b[0murllib\u001b[0m\u001b[1;33m.\u001b[0m\u001b[0mprase\u001b[0m \u001b[1;32mimport\u001b[0m \u001b[0murljoin\u001b[0m\u001b[1;33m\u001b[0m\u001b[1;33m\u001b[0m\u001b[0m\n\u001b[0m",
      "\u001b[1;31mModuleNotFoundError\u001b[0m: No module named 'urllib.prase'"
     ]
    }
   ],
   "source": [
    "from urllib.prase import urljoin"
   ]
  },
  {
   "cell_type": "markdown",
   "id": "e01f74a7",
   "metadata": {},
   "source": [
    "## requests"
   ]
  },
  {
   "cell_type": "markdown",
   "id": "298201b5",
   "metadata": {},
   "source": [
    "urllib库中的urlopen（）方法实际上以GET方式请求网页，而requests中相应的方法就是get()方法。"
   ]
  },
  {
   "cell_type": "code",
   "execution_count": 7,
   "id": "ed9398f2",
   "metadata": {},
   "outputs": [
    {
     "name": "stdout",
     "output_type": "stream",
     "text": [
      "<class 'requests.models.Response'>\n",
      "200\n",
      "<class 'str'>\n",
      "<!DOCTYPE html>\r\n",
      "<!--STATUS OK--><html> <head><meta http-equiv=content-type content=text/html;charset=utf-8><meta http-equiv=X-UA-Compatible content=IE=Edge><meta content=always name=referrer><link rel=stylesheet type=text/css href=https://ss1.bdstatic.com/5eN1bjq8AAUYm2zgoY3K/r/www/cache/bdorz/baidu.min.css><title>ç¾åº¦ä¸ä¸ï¼ä½ å°±ç¥é</title></head> <body link=#0000cc> <div id=wrapper> <div id=head> <div class=head_wrapper> <div class=s_form> <div class=s_form_wrapper> <div id=lg> <img hidefocus=true src=//www.baidu.com/img/bd_logo1.png width=270 height=129> </div> <form id=form name=f action=//www.baidu.com/s class=fm> <input type=hidden name=bdorz_come value=1> <input type=hidden name=ie value=utf-8> <input type=hidden name=f value=8> <input type=hidden name=rsv_bp value=1> <input type=hidden name=rsv_idx value=1> <input type=hidden name=tn value=baidu><span class=\"bg s_ipt_wr\"><input id=kw name=wd class=s_ipt value maxlength=255 autocomplete=off autofocus=autofocus></span><span class=\"bg s_btn_wr\"><input type=submit id=su value=ç¾åº¦ä¸ä¸ class=\"bg s_btn\" autofocus></span> </form> </div> </div> <div id=u1> <a href=http://news.baidu.com name=tj_trnews class=mnav>æ°é»</a> <a href=https://www.hao123.com name=tj_trhao123 class=mnav>hao123</a> <a href=http://map.baidu.com name=tj_trmap class=mnav>å°å¾</a> <a href=http://v.baidu.com name=tj_trvideo class=mnav>è§é¢</a> <a href=http://tieba.baidu.com name=tj_trtieba class=mnav>è´´å§</a> <noscript> <a href=http://www.baidu.com/bdorz/login.gif?login&amp;tpl=mn&amp;u=http%3A%2F%2Fwww.baidu.com%2f%3fbdorz_come%3d1 name=tj_login class=lb>ç»å½</a> </noscript> <script>document.write('<a href=\"http://www.baidu.com/bdorz/login.gif?login&tpl=mn&u='+ encodeURIComponent(window.location.href+ (window.location.search === \"\" ? \"?\" : \"&\")+ \"bdorz_come=1\")+ '\" name=\"tj_login\" class=\"lb\">ç»å½</a>');\r\n",
      "                </script> <a href=//www.baidu.com/more/ name=tj_briicon class=bri style=\"display: block;\">æ´å¤äº§å</a> </div> </div> </div> <div id=ftCon> <div id=ftConw> <p id=lh> <a href=http://home.baidu.com>å",
      "³äºç¾åº¦</a> <a href=http://ir.baidu.com>About Baidu</a> </p> <p id=cp>&copy;2017&nbsp;Baidu&nbsp;<a href=http://www.baidu.com/duty/>ä½¿ç¨ç¾åº¦åå¿",
      "è¯»</a>&nbsp; <a href=http://jianyi.baidu.com/ class=cp-feedback>æè§åé¦</a>&nbsp;äº¬ICPè¯030173å·&nbsp; <img src=//www.baidu.com/img/gs.gif> </p> </div> </div> </div> </body> </html>\r\n",
      "\n",
      "<RequestsCookieJar[<Cookie BDORZ=27315 for .baidu.com/>]>\n"
     ]
    }
   ],
   "source": [
    "import requests\n",
    "\n",
    "r = requests.get('https://www.baidu.com/')\n",
    "print(type(r))\n",
    "print(r.status_code)\n",
    "print(type(r.text))\n",
    "print(r.text)\n",
    "print(r.cookies)"
   ]
  },
  {
   "cell_type": "markdown",
   "id": "9be0bfd1",
   "metadata": {},
   "source": [
    "该处使用了ger（）方法实现与urlopen()相同的操作，得到一个Response()对象，然后分别输出了Response的类型、状态码、响应体的类类型、内容以及Cookies。  \n",
    "可以发现，返回类型是requests.models.Response，响应体的类型是字符串str,Cookies的类型是RequestsCookieJar"
   ]
  },
  {
   "cell_type": "markdown",
   "id": "a6d4ca63",
   "metadata": {},
   "source": [
    "### GET"
   ]
  },
  {
   "cell_type": "markdown",
   "id": "2e1f5d91",
   "metadata": {},
   "source": [
    "添加额外的信息"
   ]
  },
  {
   "cell_type": "code",
   "execution_count": 8,
   "id": "8a6254a9",
   "metadata": {},
   "outputs": [
    {
     "name": "stdout",
     "output_type": "stream",
     "text": [
      "{\n",
      "  \"args\": {\n",
      "    \"age\": \"22\", \n",
      "    \"name\": \"germey\"\n",
      "  }, \n",
      "  \"headers\": {\n",
      "    \"Accept\": \"*/*\", \n",
      "    \"Accept-Encoding\": \"gzip, deflate, br\", \n",
      "    \"Host\": \"httpbin.org\", \n",
      "    \"User-Agent\": \"python-requests/2.26.0\", \n",
      "    \"X-Amzn-Trace-Id\": \"Root=1-62791a7c-1111008f4688625d33388266\"\n",
      "  }, \n",
      "  \"origin\": \"171.43.245.215\", \n",
      "  \"url\": \"http://httpbin.org/get?name=germey&age=22\"\n",
      "}\n",
      "\n"
     ]
    }
   ],
   "source": [
    "import requests\n",
    "\n",
    "data = {\n",
    "    'name':'germey',\n",
    "    'age':22\n",
    "}\n",
    "r = requests.get(\"http://httpbin.org/get\",params=data)\n",
    "print(r.text)"
   ]
  },
  {
   "cell_type": "markdown",
   "id": "0bb9449e",
   "metadata": {},
   "source": [
    "通过结果可知，请求的链接自动被构造成了：http://httpbin.org/get?age=22&name=germey  \n",
    "另外，网页的返回结果实际上str类型，但是它很特殊，是JSON格式。所以，想要直接返回结果，得到一个字典格式的话，可以直接调用json（）方法。"
   ]
  },
  {
   "cell_type": "code",
   "execution_count": 9,
   "id": "6216bd60",
   "metadata": {},
   "outputs": [
    {
     "name": "stdout",
     "output_type": "stream",
     "text": [
      "<class 'str'>\n",
      "{'args': {}, 'headers': {'Accept': '*/*', 'Accept-Encoding': 'gzip, deflate, br', 'Host': 'httpbin.org', 'User-Agent': 'python-requests/2.26.0', 'X-Amzn-Trace-Id': 'Root=1-62791b6b-07f7c0d83cccd87532edc62e'}, 'origin': '171.43.245.215', 'url': 'http://httpbin.org/get'}\n",
      "<class 'dict'>\n"
     ]
    }
   ],
   "source": [
    "import requests\n",
    "\n",
    "r = requests.get(\"http://httpbin.org/get\")\n",
    "print(type(r.text))\n",
    "print(r.json())\n",
    "print(type(r.json()))"
   ]
  },
  {
   "cell_type": "markdown",
   "id": "044f0012",
   "metadata": {},
   "source": [
    "#### 抓取网页"
   ]
  },
  {
   "cell_type": "code",
   "execution_count": 2,
   "id": "8173869b",
   "metadata": {},
   "outputs": [
    {
     "name": "stdout",
     "output_type": "stream",
     "text": [
      "[]\n"
     ]
    }
   ],
   "source": [
    "import requests\n",
    "import re\n",
    "\n",
    "headers = {\n",
    "    'User-Agent':'Mozilla/5.0 (Windows NT 10.0; Win64; x64) AppleWebKit/537.36 (KHTML, like Gecko) Chrome/101.0.4951.54 Safari/537.36'\n",
    "}\n",
    "r = requests.get(\"https://www.zhihu.com/explore\",headers=headers)\n",
    "pattern = re.compile('explore-feed.*?question_link.*?>(.*?)</a>',re.S)\n",
    "titles = re.findall(pattern,r.text)\n",
    "print(titles)"
   ]
  },
  {
   "cell_type": "markdown",
   "id": "54320c07",
   "metadata": {},
   "source": [
    "#### 抓取二进制数据"
   ]
  },
  {
   "cell_type": "code",
   "execution_count": 15,
   "id": "7e61814f",
   "metadata": {},
   "outputs": [
    {
     "ename": "SyntaxError",
     "evalue": "invalid syntax (Temp/ipykernel_11204/2626613227.py, line 5)",
     "output_type": "error",
     "traceback": [
      "\u001b[1;36m  File \u001b[1;32m\"C:\\Users\\WRITIN~1\\AppData\\Local\\Temp/ipykernel_11204/2626613227.py\"\u001b[1;36m, line \u001b[1;32m5\u001b[0m\n\u001b[1;33m    print(r.content)/\u001b[0m\n\u001b[1;37m                     ^\u001b[0m\n\u001b[1;31mSyntaxError\u001b[0m\u001b[1;31m:\u001b[0m invalid syntax\n"
     ]
    }
   ],
   "source": [
    "import requests\n",
    "\n",
    "r = requests.get(\"https://github.com/favicon.ico\")\n",
    "print(r.text)\n",
    "print(r.content)"
   ]
  },
  {
   "cell_type": "markdown",
   "id": "9bd537cb",
   "metadata": {},
   "source": [
    "前者是r.text的结果，另一个是content  \n",
    "后者有一个b，代表是bytes的数据。由于图片是二进制数据，所以前者在打印时转化为str类型，也就是图片直接转化为字符串。"
   ]
  },
  {
   "cell_type": "code",
   "execution_count": 17,
   "id": "898709e7",
   "metadata": {},
   "outputs": [
    {
     "ename": "ConnectionError",
     "evalue": "HTTPSConnectionPool(host='github.com', port=443): Max retries exceeded with url: /favicon.ico (Caused by NewConnectionError('<urllib3.connection.HTTPSConnection object at 0x00000203E3F79EB0>: Failed to establish a new connection: [WinError 10060] 由于连接方在一段时间后没有正确答复或连接的主机没有反应，连接尝试失败。'))",
     "output_type": "error",
     "traceback": [
      "\u001b[1;31m---------------------------------------------------------------------------\u001b[0m",
      "\u001b[1;31mTimeoutError\u001b[0m                              Traceback (most recent call last)",
      "\u001b[1;32mD:\\Anacoda\\lib\\site-packages\\urllib3\\connection.py\u001b[0m in \u001b[0;36m_new_conn\u001b[1;34m(self)\u001b[0m\n\u001b[0;32m    173\u001b[0m         \u001b[1;32mtry\u001b[0m\u001b[1;33m:\u001b[0m\u001b[1;33m\u001b[0m\u001b[1;33m\u001b[0m\u001b[0m\n\u001b[1;32m--> 174\u001b[1;33m             conn = connection.create_connection(\n\u001b[0m\u001b[0;32m    175\u001b[0m                 \u001b[1;33m(\u001b[0m\u001b[0mself\u001b[0m\u001b[1;33m.\u001b[0m\u001b[0m_dns_host\u001b[0m\u001b[1;33m,\u001b[0m \u001b[0mself\u001b[0m\u001b[1;33m.\u001b[0m\u001b[0mport\u001b[0m\u001b[1;33m)\u001b[0m\u001b[1;33m,\u001b[0m \u001b[0mself\u001b[0m\u001b[1;33m.\u001b[0m\u001b[0mtimeout\u001b[0m\u001b[1;33m,\u001b[0m \u001b[1;33m**\u001b[0m\u001b[0mextra_kw\u001b[0m\u001b[1;33m\u001b[0m\u001b[1;33m\u001b[0m\u001b[0m\n",
      "\u001b[1;32mD:\\Anacoda\\lib\\site-packages\\urllib3\\util\\connection.py\u001b[0m in \u001b[0;36mcreate_connection\u001b[1;34m(address, timeout, source_address, socket_options)\u001b[0m\n\u001b[0;32m     95\u001b[0m     \u001b[1;32mif\u001b[0m \u001b[0merr\u001b[0m \u001b[1;32mis\u001b[0m \u001b[1;32mnot\u001b[0m \u001b[1;32mNone\u001b[0m\u001b[1;33m:\u001b[0m\u001b[1;33m\u001b[0m\u001b[1;33m\u001b[0m\u001b[0m\n\u001b[1;32m---> 96\u001b[1;33m         \u001b[1;32mraise\u001b[0m \u001b[0merr\u001b[0m\u001b[1;33m\u001b[0m\u001b[1;33m\u001b[0m\u001b[0m\n\u001b[0m\u001b[0;32m     97\u001b[0m \u001b[1;33m\u001b[0m\u001b[0m\n",
      "\u001b[1;32mD:\\Anacoda\\lib\\site-packages\\urllib3\\util\\connection.py\u001b[0m in \u001b[0;36mcreate_connection\u001b[1;34m(address, timeout, source_address, socket_options)\u001b[0m\n\u001b[0;32m     85\u001b[0m                 \u001b[0msock\u001b[0m\u001b[1;33m.\u001b[0m\u001b[0mbind\u001b[0m\u001b[1;33m(\u001b[0m\u001b[0msource_address\u001b[0m\u001b[1;33m)\u001b[0m\u001b[1;33m\u001b[0m\u001b[1;33m\u001b[0m\u001b[0m\n\u001b[1;32m---> 86\u001b[1;33m             \u001b[0msock\u001b[0m\u001b[1;33m.\u001b[0m\u001b[0mconnect\u001b[0m\u001b[1;33m(\u001b[0m\u001b[0msa\u001b[0m\u001b[1;33m)\u001b[0m\u001b[1;33m\u001b[0m\u001b[1;33m\u001b[0m\u001b[0m\n\u001b[0m\u001b[0;32m     87\u001b[0m             \u001b[1;32mreturn\u001b[0m \u001b[0msock\u001b[0m\u001b[1;33m\u001b[0m\u001b[1;33m\u001b[0m\u001b[0m\n",
      "\u001b[1;31mTimeoutError\u001b[0m: [WinError 10060] 由于连接方在一段时间后没有正确答复或连接的主机没有反应，连接尝试失败。",
      "\nDuring handling of the above exception, another exception occurred:\n",
      "\u001b[1;31mNewConnectionError\u001b[0m                        Traceback (most recent call last)",
      "\u001b[1;32mD:\\Anacoda\\lib\\site-packages\\urllib3\\connectionpool.py\u001b[0m in \u001b[0;36murlopen\u001b[1;34m(self, method, url, body, headers, retries, redirect, assert_same_host, timeout, pool_timeout, release_conn, chunked, body_pos, **response_kw)\u001b[0m\n\u001b[0;32m    698\u001b[0m             \u001b[1;31m# Make the request on the httplib connection object.\u001b[0m\u001b[1;33m\u001b[0m\u001b[1;33m\u001b[0m\u001b[0m\n\u001b[1;32m--> 699\u001b[1;33m             httplib_response = self._make_request(\n\u001b[0m\u001b[0;32m    700\u001b[0m                 \u001b[0mconn\u001b[0m\u001b[1;33m,\u001b[0m\u001b[1;33m\u001b[0m\u001b[1;33m\u001b[0m\u001b[0m\n",
      "\u001b[1;32mD:\\Anacoda\\lib\\site-packages\\urllib3\\connectionpool.py\u001b[0m in \u001b[0;36m_make_request\u001b[1;34m(self, conn, method, url, timeout, chunked, **httplib_request_kw)\u001b[0m\n\u001b[0;32m    381\u001b[0m         \u001b[1;32mtry\u001b[0m\u001b[1;33m:\u001b[0m\u001b[1;33m\u001b[0m\u001b[1;33m\u001b[0m\u001b[0m\n\u001b[1;32m--> 382\u001b[1;33m             \u001b[0mself\u001b[0m\u001b[1;33m.\u001b[0m\u001b[0m_validate_conn\u001b[0m\u001b[1;33m(\u001b[0m\u001b[0mconn\u001b[0m\u001b[1;33m)\u001b[0m\u001b[1;33m\u001b[0m\u001b[1;33m\u001b[0m\u001b[0m\n\u001b[0m\u001b[0;32m    383\u001b[0m         \u001b[1;32mexcept\u001b[0m \u001b[1;33m(\u001b[0m\u001b[0mSocketTimeout\u001b[0m\u001b[1;33m,\u001b[0m \u001b[0mBaseSSLError\u001b[0m\u001b[1;33m)\u001b[0m \u001b[1;32mas\u001b[0m \u001b[0me\u001b[0m\u001b[1;33m:\u001b[0m\u001b[1;33m\u001b[0m\u001b[1;33m\u001b[0m\u001b[0m\n",
      "\u001b[1;32mD:\\Anacoda\\lib\\site-packages\\urllib3\\connectionpool.py\u001b[0m in \u001b[0;36m_validate_conn\u001b[1;34m(self, conn)\u001b[0m\n\u001b[0;32m   1009\u001b[0m         \u001b[1;32mif\u001b[0m \u001b[1;32mnot\u001b[0m \u001b[0mgetattr\u001b[0m\u001b[1;33m(\u001b[0m\u001b[0mconn\u001b[0m\u001b[1;33m,\u001b[0m \u001b[1;34m\"sock\"\u001b[0m\u001b[1;33m,\u001b[0m \u001b[1;32mNone\u001b[0m\u001b[1;33m)\u001b[0m\u001b[1;33m:\u001b[0m  \u001b[1;31m# AppEngine might not have  `.sock`\u001b[0m\u001b[1;33m\u001b[0m\u001b[1;33m\u001b[0m\u001b[0m\n\u001b[1;32m-> 1010\u001b[1;33m             \u001b[0mconn\u001b[0m\u001b[1;33m.\u001b[0m\u001b[0mconnect\u001b[0m\u001b[1;33m(\u001b[0m\u001b[1;33m)\u001b[0m\u001b[1;33m\u001b[0m\u001b[1;33m\u001b[0m\u001b[0m\n\u001b[0m\u001b[0;32m   1011\u001b[0m \u001b[1;33m\u001b[0m\u001b[0m\n",
      "\u001b[1;32mD:\\Anacoda\\lib\\site-packages\\urllib3\\connection.py\u001b[0m in \u001b[0;36mconnect\u001b[1;34m(self)\u001b[0m\n\u001b[0;32m    357\u001b[0m         \u001b[1;31m# Add certificate verification\u001b[0m\u001b[1;33m\u001b[0m\u001b[1;33m\u001b[0m\u001b[0m\n\u001b[1;32m--> 358\u001b[1;33m         \u001b[0mconn\u001b[0m \u001b[1;33m=\u001b[0m \u001b[0mself\u001b[0m\u001b[1;33m.\u001b[0m\u001b[0m_new_conn\u001b[0m\u001b[1;33m(\u001b[0m\u001b[1;33m)\u001b[0m\u001b[1;33m\u001b[0m\u001b[1;33m\u001b[0m\u001b[0m\n\u001b[0m\u001b[0;32m    359\u001b[0m         \u001b[0mhostname\u001b[0m \u001b[1;33m=\u001b[0m \u001b[0mself\u001b[0m\u001b[1;33m.\u001b[0m\u001b[0mhost\u001b[0m\u001b[1;33m\u001b[0m\u001b[1;33m\u001b[0m\u001b[0m\n",
      "\u001b[1;32mD:\\Anacoda\\lib\\site-packages\\urllib3\\connection.py\u001b[0m in \u001b[0;36m_new_conn\u001b[1;34m(self)\u001b[0m\n\u001b[0;32m    185\u001b[0m         \u001b[1;32mexcept\u001b[0m \u001b[0mSocketError\u001b[0m \u001b[1;32mas\u001b[0m \u001b[0me\u001b[0m\u001b[1;33m:\u001b[0m\u001b[1;33m\u001b[0m\u001b[1;33m\u001b[0m\u001b[0m\n\u001b[1;32m--> 186\u001b[1;33m             raise NewConnectionError(\n\u001b[0m\u001b[0;32m    187\u001b[0m                 \u001b[0mself\u001b[0m\u001b[1;33m,\u001b[0m \u001b[1;34m\"Failed to establish a new connection: %s\"\u001b[0m \u001b[1;33m%\u001b[0m \u001b[0me\u001b[0m\u001b[1;33m\u001b[0m\u001b[1;33m\u001b[0m\u001b[0m\n",
      "\u001b[1;31mNewConnectionError\u001b[0m: <urllib3.connection.HTTPSConnection object at 0x00000203E3F79EB0>: Failed to establish a new connection: [WinError 10060] 由于连接方在一段时间后没有正确答复或连接的主机没有反应，连接尝试失败。",
      "\nDuring handling of the above exception, another exception occurred:\n",
      "\u001b[1;31mMaxRetryError\u001b[0m                             Traceback (most recent call last)",
      "\u001b[1;32mD:\\Anacoda\\lib\\site-packages\\requests\\adapters.py\u001b[0m in \u001b[0;36msend\u001b[1;34m(self, request, stream, timeout, verify, cert, proxies)\u001b[0m\n\u001b[0;32m    438\u001b[0m             \u001b[1;32mif\u001b[0m \u001b[1;32mnot\u001b[0m \u001b[0mchunked\u001b[0m\u001b[1;33m:\u001b[0m\u001b[1;33m\u001b[0m\u001b[1;33m\u001b[0m\u001b[0m\n\u001b[1;32m--> 439\u001b[1;33m                 resp = conn.urlopen(\n\u001b[0m\u001b[0;32m    440\u001b[0m                     \u001b[0mmethod\u001b[0m\u001b[1;33m=\u001b[0m\u001b[0mrequest\u001b[0m\u001b[1;33m.\u001b[0m\u001b[0mmethod\u001b[0m\u001b[1;33m,\u001b[0m\u001b[1;33m\u001b[0m\u001b[1;33m\u001b[0m\u001b[0m\n",
      "\u001b[1;32mD:\\Anacoda\\lib\\site-packages\\urllib3\\connectionpool.py\u001b[0m in \u001b[0;36murlopen\u001b[1;34m(self, method, url, body, headers, retries, redirect, assert_same_host, timeout, pool_timeout, release_conn, chunked, body_pos, **response_kw)\u001b[0m\n\u001b[0;32m    754\u001b[0m \u001b[1;33m\u001b[0m\u001b[0m\n\u001b[1;32m--> 755\u001b[1;33m             retries = retries.increment(\n\u001b[0m\u001b[0;32m    756\u001b[0m                 \u001b[0mmethod\u001b[0m\u001b[1;33m,\u001b[0m \u001b[0murl\u001b[0m\u001b[1;33m,\u001b[0m \u001b[0merror\u001b[0m\u001b[1;33m=\u001b[0m\u001b[0me\u001b[0m\u001b[1;33m,\u001b[0m \u001b[0m_pool\u001b[0m\u001b[1;33m=\u001b[0m\u001b[0mself\u001b[0m\u001b[1;33m,\u001b[0m \u001b[0m_stacktrace\u001b[0m\u001b[1;33m=\u001b[0m\u001b[0msys\u001b[0m\u001b[1;33m.\u001b[0m\u001b[0mexc_info\u001b[0m\u001b[1;33m(\u001b[0m\u001b[1;33m)\u001b[0m\u001b[1;33m[\u001b[0m\u001b[1;36m2\u001b[0m\u001b[1;33m]\u001b[0m\u001b[1;33m\u001b[0m\u001b[1;33m\u001b[0m\u001b[0m\n",
      "\u001b[1;32mD:\\Anacoda\\lib\\site-packages\\urllib3\\util\\retry.py\u001b[0m in \u001b[0;36mincrement\u001b[1;34m(self, method, url, response, error, _pool, _stacktrace)\u001b[0m\n\u001b[0;32m    573\u001b[0m         \u001b[1;32mif\u001b[0m \u001b[0mnew_retry\u001b[0m\u001b[1;33m.\u001b[0m\u001b[0mis_exhausted\u001b[0m\u001b[1;33m(\u001b[0m\u001b[1;33m)\u001b[0m\u001b[1;33m:\u001b[0m\u001b[1;33m\u001b[0m\u001b[1;33m\u001b[0m\u001b[0m\n\u001b[1;32m--> 574\u001b[1;33m             \u001b[1;32mraise\u001b[0m \u001b[0mMaxRetryError\u001b[0m\u001b[1;33m(\u001b[0m\u001b[0m_pool\u001b[0m\u001b[1;33m,\u001b[0m \u001b[0murl\u001b[0m\u001b[1;33m,\u001b[0m \u001b[0merror\u001b[0m \u001b[1;32mor\u001b[0m \u001b[0mResponseError\u001b[0m\u001b[1;33m(\u001b[0m\u001b[0mcause\u001b[0m\u001b[1;33m)\u001b[0m\u001b[1;33m)\u001b[0m\u001b[1;33m\u001b[0m\u001b[1;33m\u001b[0m\u001b[0m\n\u001b[0m\u001b[0;32m    575\u001b[0m \u001b[1;33m\u001b[0m\u001b[0m\n",
      "\u001b[1;31mMaxRetryError\u001b[0m: HTTPSConnectionPool(host='github.com', port=443): Max retries exceeded with url: /favicon.ico (Caused by NewConnectionError('<urllib3.connection.HTTPSConnection object at 0x00000203E3F79EB0>: Failed to establish a new connection: [WinError 10060] 由于连接方在一段时间后没有正确答复或连接的主机没有反应，连接尝试失败。'))",
      "\nDuring handling of the above exception, another exception occurred:\n",
      "\u001b[1;31mConnectionError\u001b[0m                           Traceback (most recent call last)",
      "\u001b[1;32mC:\\Users\\WRITIN~1\\AppData\\Local\\Temp/ipykernel_11204/1742645078.py\u001b[0m in \u001b[0;36m<module>\u001b[1;34m\u001b[0m\n\u001b[0;32m      1\u001b[0m \u001b[1;32mimport\u001b[0m \u001b[0mrequests\u001b[0m\u001b[1;33m\u001b[0m\u001b[1;33m\u001b[0m\u001b[0m\n\u001b[0;32m      2\u001b[0m \u001b[1;33m\u001b[0m\u001b[0m\n\u001b[1;32m----> 3\u001b[1;33m \u001b[0mr\u001b[0m \u001b[1;33m=\u001b[0m \u001b[0mrequests\u001b[0m\u001b[1;33m.\u001b[0m\u001b[0mget\u001b[0m\u001b[1;33m(\u001b[0m\u001b[1;34m\"https://github.com/favicon.ico\"\u001b[0m\u001b[1;33m)\u001b[0m\u001b[1;33m\u001b[0m\u001b[1;33m\u001b[0m\u001b[0m\n\u001b[0m\u001b[0;32m      4\u001b[0m \u001b[1;32mwith\u001b[0m \u001b[0mopen\u001b[0m\u001b[1;33m(\u001b[0m\u001b[1;34m'favicon.ico'\u001b[0m\u001b[1;33m,\u001b[0m\u001b[1;34m'wb'\u001b[0m\u001b[1;33m)\u001b[0m \u001b[1;32mas\u001b[0m \u001b[0mf\u001b[0m\u001b[1;33m:\u001b[0m\u001b[1;33m\u001b[0m\u001b[1;33m\u001b[0m\u001b[0m\n\u001b[0;32m      5\u001b[0m     \u001b[0mf\u001b[0m\u001b[1;33m.\u001b[0m\u001b[0mwrite\u001b[0m\u001b[1;33m(\u001b[0m\u001b[0mr\u001b[0m\u001b[1;33m.\u001b[0m\u001b[0mcontent\u001b[0m\u001b[1;33m)\u001b[0m\u001b[1;33m\u001b[0m\u001b[1;33m\u001b[0m\u001b[0m\n",
      "\u001b[1;32mD:\\Anacoda\\lib\\site-packages\\requests\\api.py\u001b[0m in \u001b[0;36mget\u001b[1;34m(url, params, **kwargs)\u001b[0m\n\u001b[0;32m     73\u001b[0m     \"\"\"\n\u001b[0;32m     74\u001b[0m \u001b[1;33m\u001b[0m\u001b[0m\n\u001b[1;32m---> 75\u001b[1;33m     \u001b[1;32mreturn\u001b[0m \u001b[0mrequest\u001b[0m\u001b[1;33m(\u001b[0m\u001b[1;34m'get'\u001b[0m\u001b[1;33m,\u001b[0m \u001b[0murl\u001b[0m\u001b[1;33m,\u001b[0m \u001b[0mparams\u001b[0m\u001b[1;33m=\u001b[0m\u001b[0mparams\u001b[0m\u001b[1;33m,\u001b[0m \u001b[1;33m**\u001b[0m\u001b[0mkwargs\u001b[0m\u001b[1;33m)\u001b[0m\u001b[1;33m\u001b[0m\u001b[1;33m\u001b[0m\u001b[0m\n\u001b[0m\u001b[0;32m     76\u001b[0m \u001b[1;33m\u001b[0m\u001b[0m\n\u001b[0;32m     77\u001b[0m \u001b[1;33m\u001b[0m\u001b[0m\n",
      "\u001b[1;32mD:\\Anacoda\\lib\\site-packages\\requests\\api.py\u001b[0m in \u001b[0;36mrequest\u001b[1;34m(method, url, **kwargs)\u001b[0m\n\u001b[0;32m     59\u001b[0m     \u001b[1;31m# cases, and look like a memory leak in others.\u001b[0m\u001b[1;33m\u001b[0m\u001b[1;33m\u001b[0m\u001b[0m\n\u001b[0;32m     60\u001b[0m     \u001b[1;32mwith\u001b[0m \u001b[0msessions\u001b[0m\u001b[1;33m.\u001b[0m\u001b[0mSession\u001b[0m\u001b[1;33m(\u001b[0m\u001b[1;33m)\u001b[0m \u001b[1;32mas\u001b[0m \u001b[0msession\u001b[0m\u001b[1;33m:\u001b[0m\u001b[1;33m\u001b[0m\u001b[1;33m\u001b[0m\u001b[0m\n\u001b[1;32m---> 61\u001b[1;33m         \u001b[1;32mreturn\u001b[0m \u001b[0msession\u001b[0m\u001b[1;33m.\u001b[0m\u001b[0mrequest\u001b[0m\u001b[1;33m(\u001b[0m\u001b[0mmethod\u001b[0m\u001b[1;33m=\u001b[0m\u001b[0mmethod\u001b[0m\u001b[1;33m,\u001b[0m \u001b[0murl\u001b[0m\u001b[1;33m=\u001b[0m\u001b[0murl\u001b[0m\u001b[1;33m,\u001b[0m \u001b[1;33m**\u001b[0m\u001b[0mkwargs\u001b[0m\u001b[1;33m)\u001b[0m\u001b[1;33m\u001b[0m\u001b[1;33m\u001b[0m\u001b[0m\n\u001b[0m\u001b[0;32m     62\u001b[0m \u001b[1;33m\u001b[0m\u001b[0m\n\u001b[0;32m     63\u001b[0m \u001b[1;33m\u001b[0m\u001b[0m\n",
      "\u001b[1;32mD:\\Anacoda\\lib\\site-packages\\requests\\sessions.py\u001b[0m in \u001b[0;36mrequest\u001b[1;34m(self, method, url, params, data, headers, cookies, files, auth, timeout, allow_redirects, proxies, hooks, stream, verify, cert, json)\u001b[0m\n\u001b[0;32m    540\u001b[0m         }\n\u001b[0;32m    541\u001b[0m         \u001b[0msend_kwargs\u001b[0m\u001b[1;33m.\u001b[0m\u001b[0mupdate\u001b[0m\u001b[1;33m(\u001b[0m\u001b[0msettings\u001b[0m\u001b[1;33m)\u001b[0m\u001b[1;33m\u001b[0m\u001b[1;33m\u001b[0m\u001b[0m\n\u001b[1;32m--> 542\u001b[1;33m         \u001b[0mresp\u001b[0m \u001b[1;33m=\u001b[0m \u001b[0mself\u001b[0m\u001b[1;33m.\u001b[0m\u001b[0msend\u001b[0m\u001b[1;33m(\u001b[0m\u001b[0mprep\u001b[0m\u001b[1;33m,\u001b[0m \u001b[1;33m**\u001b[0m\u001b[0msend_kwargs\u001b[0m\u001b[1;33m)\u001b[0m\u001b[1;33m\u001b[0m\u001b[1;33m\u001b[0m\u001b[0m\n\u001b[0m\u001b[0;32m    543\u001b[0m \u001b[1;33m\u001b[0m\u001b[0m\n\u001b[0;32m    544\u001b[0m         \u001b[1;32mreturn\u001b[0m \u001b[0mresp\u001b[0m\u001b[1;33m\u001b[0m\u001b[1;33m\u001b[0m\u001b[0m\n",
      "\u001b[1;32mD:\\Anacoda\\lib\\site-packages\\requests\\sessions.py\u001b[0m in \u001b[0;36msend\u001b[1;34m(self, request, **kwargs)\u001b[0m\n\u001b[0;32m    653\u001b[0m \u001b[1;33m\u001b[0m\u001b[0m\n\u001b[0;32m    654\u001b[0m         \u001b[1;31m# Send the request\u001b[0m\u001b[1;33m\u001b[0m\u001b[1;33m\u001b[0m\u001b[0m\n\u001b[1;32m--> 655\u001b[1;33m         \u001b[0mr\u001b[0m \u001b[1;33m=\u001b[0m \u001b[0madapter\u001b[0m\u001b[1;33m.\u001b[0m\u001b[0msend\u001b[0m\u001b[1;33m(\u001b[0m\u001b[0mrequest\u001b[0m\u001b[1;33m,\u001b[0m \u001b[1;33m**\u001b[0m\u001b[0mkwargs\u001b[0m\u001b[1;33m)\u001b[0m\u001b[1;33m\u001b[0m\u001b[1;33m\u001b[0m\u001b[0m\n\u001b[0m\u001b[0;32m    656\u001b[0m \u001b[1;33m\u001b[0m\u001b[0m\n\u001b[0;32m    657\u001b[0m         \u001b[1;31m# Total elapsed time of the request (approximately)\u001b[0m\u001b[1;33m\u001b[0m\u001b[1;33m\u001b[0m\u001b[0m\n",
      "\u001b[1;32mD:\\Anacoda\\lib\\site-packages\\requests\\adapters.py\u001b[0m in \u001b[0;36msend\u001b[1;34m(self, request, stream, timeout, verify, cert, proxies)\u001b[0m\n\u001b[0;32m    514\u001b[0m                 \u001b[1;32mraise\u001b[0m \u001b[0mSSLError\u001b[0m\u001b[1;33m(\u001b[0m\u001b[0me\u001b[0m\u001b[1;33m,\u001b[0m \u001b[0mrequest\u001b[0m\u001b[1;33m=\u001b[0m\u001b[0mrequest\u001b[0m\u001b[1;33m)\u001b[0m\u001b[1;33m\u001b[0m\u001b[1;33m\u001b[0m\u001b[0m\n\u001b[0;32m    515\u001b[0m \u001b[1;33m\u001b[0m\u001b[0m\n\u001b[1;32m--> 516\u001b[1;33m             \u001b[1;32mraise\u001b[0m \u001b[0mConnectionError\u001b[0m\u001b[1;33m(\u001b[0m\u001b[0me\u001b[0m\u001b[1;33m,\u001b[0m \u001b[0mrequest\u001b[0m\u001b[1;33m=\u001b[0m\u001b[0mrequest\u001b[0m\u001b[1;33m)\u001b[0m\u001b[1;33m\u001b[0m\u001b[1;33m\u001b[0m\u001b[0m\n\u001b[0m\u001b[0;32m    517\u001b[0m \u001b[1;33m\u001b[0m\u001b[0m\n\u001b[0;32m    518\u001b[0m         \u001b[1;32mexcept\u001b[0m \u001b[0mClosedPoolError\u001b[0m \u001b[1;32mas\u001b[0m \u001b[0me\u001b[0m\u001b[1;33m:\u001b[0m\u001b[1;33m\u001b[0m\u001b[1;33m\u001b[0m\u001b[0m\n",
      "\u001b[1;31mConnectionError\u001b[0m: HTTPSConnectionPool(host='github.com', port=443): Max retries exceeded with url: /favicon.ico (Caused by NewConnectionError('<urllib3.connection.HTTPSConnection object at 0x00000203E3F79EB0>: Failed to establish a new connection: [WinError 10060] 由于连接方在一段时间后没有正确答复或连接的主机没有反应，连接尝试失败。'))"
     ]
    }
   ],
   "source": [
    "import requests\n",
    "\n",
    "r = requests.get(\"https://github.com/favicon.ico\")\n",
    "with open('favicon.ico','wb') as f:\n",
    "    f.write(r.content)"
   ]
  },
  {
   "cell_type": "markdown",
   "id": "204d193c",
   "metadata": {},
   "source": [
    "这里使用了open（）方法，它的第一个参数是文件名，第二个参数代表以二进制写的形式打开，可以向文件里写入二进制数据"
   ]
  },
  {
   "cell_type": "markdown",
   "id": "252210a4",
   "metadata": {},
   "source": [
    "#### 添加headers"
   ]
  },
  {
   "cell_type": "markdown",
   "id": "ab8f28f6",
   "metadata": {},
   "source": [
    "与urllib.request一样，也可以通过headers参数来传递头信息"
   ]
  },
  {
   "cell_type": "markdown",
   "id": "96fe8a4e",
   "metadata": {},
   "source": [
    "### POST"
   ]
  },
  {
   "cell_type": "code",
   "execution_count": 19,
   "id": "14bb91f6",
   "metadata": {},
   "outputs": [
    {
     "name": "stdout",
     "output_type": "stream",
     "text": [
      "{\n",
      "  \"args\": {}, \n",
      "  \"data\": \"\", \n",
      "  \"files\": {}, \n",
      "  \"form\": {\n",
      "    \"age\": \"22\", \n",
      "    \"name\": \"germey\"\n",
      "  }, \n",
      "  \"headers\": {\n",
      "    \"Accept\": \"*/*\", \n",
      "    \"Accept-Encoding\": \"gzip, deflate, br\", \n",
      "    \"Content-Length\": \"18\", \n",
      "    \"Content-Type\": \"application/x-www-form-urlencoded\", \n",
      "    \"Host\": \"httpbin.org\", \n",
      "    \"User-Agent\": \"python-requests/2.26.0\", \n",
      "    \"X-Amzn-Trace-Id\": \"Root=1-6279243a-7e9f62f00badf1b44303c248\"\n",
      "  }, \n",
      "  \"json\": null, \n",
      "  \"origin\": \"171.43.245.215\", \n",
      "  \"url\": \"http://httpbin.org/post\"\n",
      "}\n",
      "\n"
     ]
    }
   ],
   "source": [
    "import requests\n",
    "\n",
    "data = {'name':'germey','age':'22'}\n",
    "r = requests.post(\"http://httpbin.org/post\",data=data)\n",
    "print(r.text)"
   ]
  },
  {
   "cell_type": "markdown",
   "id": "c4ada2a5",
   "metadata": {},
   "source": [
    "### 响应"
   ]
  },
  {
   "cell_type": "markdown",
   "id": "c468c5a0",
   "metadata": {},
   "source": [
    "在上面的实例中，我们使用了text和content获取了相应的内容。此外，还有很多属性和方法可以用来获取其他信息，比如状态码、响应头、Cookies等"
   ]
  },
  {
   "cell_type": "code",
   "execution_count": 22,
   "id": "1e4bf1c6",
   "metadata": {},
   "outputs": [
    {
     "name": "stdout",
     "output_type": "stream",
     "text": [
      "<class 'int'> 403\n",
      "<class 'requests.structures.CaseInsensitiveDict'> {'Server': 'Tengine', 'Date': 'Mon, 09 May 2022 14:33:52 GMT', 'Content-Type': 'text/html', 'Transfer-Encoding': 'chunked', 'Connection': 'keep-alive', 'Vary': 'Accept-Encoding', 'Strict-Transport-Security': 'max-age=31536000; includeSubDomains; preload', 'Content-Encoding': 'gzip'}\n",
      "<class 'requests.cookies.RequestsCookieJar'> <RequestsCookieJar[]>\n",
      "<class 'str'> https://www.jianshu.com/\n",
      "<class 'list'> [<Response [301]>]\n"
     ]
    }
   ],
   "source": [
    "import requests\n",
    "\n",
    "r = requests.get('http://www.jianshu.com')\n",
    "print(type(r.status_code),r.status_code)\n",
    "print(type(r.headers),r.headers)\n",
    "print(type(r.cookies),r.cookies)\n",
    "print(type(r.url),r.url)\n",
    "print(type(r.history),r.history)"
   ]
  },
  {
   "cell_type": "code",
   "execution_count": 23,
   "id": "5a5af6a8",
   "metadata": {},
   "outputs": [],
   "source": [
    "import requests\n",
    "\n",
    "r = requests.get('http://www.jianshu.com')\n",
    "exit() if not r.status_code == requests.codes.ok else print('Request Successfully')"
   ]
  },
  {
   "cell_type": "code",
   "execution_count": 1,
   "id": "03913f86",
   "metadata": {},
   "outputs": [
    {
     "ename": "FileNotFoundError",
     "evalue": "[Errno 2] No such file or directory: 'favicon.ico'",
     "output_type": "error",
     "traceback": [
      "\u001b[1;31m---------------------------------------------------------------------------\u001b[0m",
      "\u001b[1;31mFileNotFoundError\u001b[0m                         Traceback (most recent call last)",
      "\u001b[1;32mC:\\Users\\WRITIN~1\\AppData\\Local\\Temp/ipykernel_8268/3943155545.py\u001b[0m in \u001b[0;36m<module>\u001b[1;34m\u001b[0m\n\u001b[0;32m      1\u001b[0m \u001b[1;32mimport\u001b[0m \u001b[0mrequests\u001b[0m\u001b[1;33m\u001b[0m\u001b[1;33m\u001b[0m\u001b[0m\n\u001b[0;32m      2\u001b[0m \u001b[1;33m\u001b[0m\u001b[0m\n\u001b[1;32m----> 3\u001b[1;33m \u001b[0mfiles\u001b[0m \u001b[1;33m=\u001b[0m \u001b[1;33m{\u001b[0m\u001b[1;34m'file'\u001b[0m\u001b[1;33m:\u001b[0m\u001b[0mopen\u001b[0m\u001b[1;33m(\u001b[0m\u001b[1;34m'favicon.ico'\u001b[0m\u001b[1;33m,\u001b[0m\u001b[1;34m'rb'\u001b[0m\u001b[1;33m)\u001b[0m\u001b[1;33m}\u001b[0m\u001b[1;33m\u001b[0m\u001b[1;33m\u001b[0m\u001b[0m\n\u001b[0m\u001b[0;32m      4\u001b[0m \u001b[0mr\u001b[0m \u001b[1;33m=\u001b[0m \u001b[0mrequests\u001b[0m\u001b[1;33m.\u001b[0m\u001b[0mpost\u001b[0m\u001b[1;33m(\u001b[0m\u001b[1;34m\"http://httpbin.org/post\"\u001b[0m\u001b[1;33m,\u001b[0m\u001b[0mfiles\u001b[0m\u001b[1;33m=\u001b[0m\u001b[0mfiles\u001b[0m\u001b[1;33m)\u001b[0m\u001b[1;33m\u001b[0m\u001b[1;33m\u001b[0m\u001b[0m\n\u001b[0;32m      5\u001b[0m \u001b[0mprint\u001b[0m\u001b[1;33m(\u001b[0m\u001b[0mr\u001b[0m\u001b[1;33m.\u001b[0m\u001b[0mtext\u001b[0m\u001b[1;33m)\u001b[0m\u001b[1;33m\u001b[0m\u001b[1;33m\u001b[0m\u001b[0m\n",
      "\u001b[1;31mFileNotFoundError\u001b[0m: [Errno 2] No such file or directory: 'favicon.ico'"
     ]
    }
   ],
   "source": [
    "import requests\n",
    "\n",
    "files = {'file':open('favicon.ico','rb')}\n",
    "r = requests.post(\"http://httpbin.org/post\",files=files)\n",
    "print(r.text)"
   ]
  },
  {
   "cell_type": "markdown",
   "id": "dfb23edb",
   "metadata": {},
   "source": [
    "### 高级用法"
   ]
  },
  {
   "cell_type": "markdown",
   "id": "dc866d7a",
   "metadata": {},
   "source": [
    "### 文件上传"
   ]
  },
  {
   "cell_type": "markdown",
   "id": "0519cd1e",
   "metadata": {},
   "source": [
    "#### Cookies"
   ]
  },
  {
   "cell_type": "code",
   "execution_count": 4,
   "id": "cb760638",
   "metadata": {},
   "outputs": [
    {
     "name": "stdout",
     "output_type": "stream",
     "text": [
      "<RequestsCookieJar[<Cookie BDORZ=27315 for .baidu.com/>]>\n",
      "BDORZ=27315\n"
     ]
    }
   ],
   "source": [
    "import requests\n",
    "\n",
    "r = requests.get(\"https://www.baidu.com\")\n",
    "print(r.cookies)\n",
    "for key,value in r.cookies.items():\n",
    "    print(key + '=' + value)"
   ]
  },
  {
   "cell_type": "markdown",
   "id": "bf0a7ddb",
   "metadata": {},
   "source": [
    "这里我们首先调用cookies属性既可成功得到Cookies，可以发现它是RequestCookieJar类型。然后用items()方法将其转化为元组组成的列表"
   ]
  },
  {
   "cell_type": "code",
   "execution_count": 16,
   "id": "a19b2a6c",
   "metadata": {},
   "outputs": [
    {
     "name": "stdout",
     "output_type": "stream",
     "text": [
      "\n"
     ]
    }
   ],
   "source": [
    "import requests\n",
    "\n",
    "headers = {\n",
    "    'Cookie':'_zap=914c7061-bc67-40d8-9d2f-307d9203368a; d_c0=\"APCfpUiOjROPTny1k41UpIDGLfgRghMrJsg=|1628697163\"; _xsrf=ZFeEdqQ2pLrCK55wCH5EZVkKZkOkpXRf; __snaker__id=jxZ3erivx0VO75TL; _9755xjdesxxd_=32; YD00517437729195:WM_TID=eHSkDGk8jLlAQUFAQAJ79YQGeWeQef1b; q_c1=45705d6745e14ca2aa7e8db26508061c|1645972962000|1645972962000; captcha_session_v2=2|1:0|10:1652104512|18:captcha_session_v2|88:d2xKZUROR3pGb01nTEQrT2gvNytrR2k1Uk5MYVo2aDVlUUUzeFVESjFlazBkUEVwa3RrYlJqaS85TkJYRHFjNw==|5741ff6f88b2c3bd13c26dce6db6c59f8783a742af65e9b30c7687408d5983ba; YD00517437729195:WM_NI=lEQ/IgzDntCyopWZtBMEXuAZ/ubtjc6xPlHTP3n8QHW1s1w6bXJ4HCNdSGOjEije1A1/ffYtzuJq1d5W/BebF2jmjqtwbYuF8SBAQ9kpAQVqXwRtgB3yzRQJsLkV3uwbcFM=; YD00517437729195:WM_NIKE=9ca17ae2e6ffcda170e2e6ee8fef33b8889a8dfc6ba3b08ba2d84b969e8b87d15f9aa699a3bc3cbb8c9e97fb2af0fea7c3b92ab09b9fd0cc6dba9ca295c273adb099bbf74a8f9b9896c452edabae95e969f6a8a08dcb6094eda2d9d44495efbdd2f63ea28886d5cb498ebc9da8ce6287b7a686b44bf3f1aa87dc80baab8692b470f789e1a3e86a86eea68ee97bb8a9aebaf84efc8d8ea2d433a9b08fb2d57b9ca99e95e64af1a7b6b3d442b194a5b7b27fb5beada7d037e2a3; gdxidpyhxdE=OI7WZLerCjMqftxEXq0ZvDo/gBqyVwAEND9x1+AHhe1pe\\D6NVsPoj1VwQHW7caVfBS\\hwwBpTEMJ0cNyL9c1A4Cp4A2sYn5Xi3c+GjN5ZLTJhAxzd3rWIjZG5fVWnki//kOS2K+l2\\jDJlBY1n9U9Bmvv+raqJmKZZqTL6uTBsZ+5ZS:1652105416421; z_c0=\"2|1:0|10:1652104528|4:z_c0|92:Mi4xSkN0bEJnQUFBQUFBOEotbFNJNk5FeWNBQUFDRUFsVk5UNnFnWWdEUlZINzZqYVFuVGlhZDFadTRBWWNCd0tTdHdR|dfd4846cca7c46cc4b512ef3574051350571ae18ea20ad1815efe71ac3c45cc2\"; Hm_lvt_98beee57fd2ef70ccdd5ca52b9740c49=1651671713,1651908657,1652104513,1652183970; NOT_UNREGISTER_WAITING=1; tst=r; Hm_lpvt_98beee57fd2ef70ccdd5ca52b9740c49=1652184559; SESSIONID=SKJvMgXr1BjPmBQqrqXU1CwJqjozChEYVKEJGWF9lX9; JOID=U1AWBUkkTyfJsNa9ECPltbM3ZAUBfg9ou_647mcWBEac2ZflassUXKy61LMRBswkiVZzO4UXG_x6J3EnFjtn0WA=; osd=VFoUA0ojRSXPs9G3EiXmsrk1YgYGdA1uuPmy7GEVA0ye35TiYMkSX6uw1rUSAcYmj1V0MYcRGPtwJXckETFl12M=; KLBRSID=ed2ad9934af8a1f80db52dcb08d13344|1652184558|1652183964',\n",
    "    'Host':'www.zhihhu.com',\n",
    "    'User-Agent':'Mozilla/5.0 (Windows NT 10.0; Win64; x64) AppleWebKit/537.36 (KHTML, like Gecko) Chrome/101.0.4951.54 Safari/537.36',\n",
    "}\n",
    "r = requests.get(\"https://www.zhihu.com/\",headers=headers)\n",
    "print(r.text)"
   ]
  },
  {
   "cell_type": "code",
   "execution_count": 17,
   "id": "e691228c",
   "metadata": {},
   "outputs": [
    {
     "name": "stdout",
     "output_type": "stream",
     "text": [
      "<!doctype html>\n",
      "<html lang=\"zh\" data-hairline=\"true\" data-theme=\"light\"><head><meta charSet=\"utf-8\"/><title data-rh=\"true\">首页 - 知乎</title><meta name=\"viewport\" content=\"width=device-width,initial-scale=1,maximum-scale=1\"/><meta name=\"renderer\" content=\"webkit\"/><meta name=\"force-rendering\" content=\"webkit\"/><meta http-equiv=\"X-UA-Compatible\" content=\"IE=edge,chrome=1\"/><meta name=\"google-site-verification\" content=\"FTeR0c8arOPKh8c5DYh_9uu98_zJbaWw53J-Sch9MTg\"/><meta name=\"description\" property=\"og:description\" content=\"知乎，中文互联网高质量的问答社区和创作者聚集的原创内容平台，于 2011 年 1 月正式上线，以「让人们更好的分享知识、经验和见解，找到自己的解答」为品牌使命。知乎凭借认真、专业、友善的社区氛围、独特的产品机制以及结构化和易获得的优质内容，聚集了中文互联网科技、商业、影视、时尚、文化等领域最具创造力的人群，已成为综合性、全品类、在诸多领域具有关键影响力的知识分享社区和创作者聚集的原创内容平台，建立起了以社区驱动的内容变现商业模式。\"/><link data-rh=\"true\" rel=\"apple-touch-icon\" href=\"https://static.zhihu.com/heifetz/assets/apple-touch-icon-152.a53ae37b.png\"/><link data-rh=\"true\" rel=\"apple-touch-icon\" href=\"https://static.zhihu.com/heifetz/assets/apple-touch-icon-152.a53ae37b.png\" sizes=\"152x152\"/><link data-rh=\"true\" rel=\"apple-touch-icon\" href=\"https://static.zhihu.com/heifetz/assets/apple-touch-icon-120.bbce8f18.png\" sizes=\"120x120\"/><link data-rh=\"true\" rel=\"apple-touch-icon\" href=\"https://static.zhihu.com/heifetz/assets/apple-touch-icon-76.cbade8f9.png\" sizes=\"76x76\"/><link data-rh=\"true\" rel=\"apple-touch-icon\" href=\"https://static.zhihu.com/heifetz/assets/apple-touch-icon-60.8f6c52aa.png\" sizes=\"60x60\"/><link crossorigin=\"\" rel=\"shortcut icon\" type=\"image/x-icon\" href=\"https://static.zhihu.com/heifetz/favicon.ico\"/><link crossorigin=\"\" rel=\"search\" type=\"application/opensearchdescription+xml\" href=\"https://static.zhihu.com/heifetz/search.xml\" title=\"知乎\"/><link rel=\"dns-prefetch\" href=\"//static.zhimg.com\"/><link rel=\"dns-prefetch\" href=\"//pica.zhimg.com\"/><link rel=\"dns-prefetch\" href=\"//pic1.zhimg.com\"/><link rel=\"dns-prefetch\" href=\"//pic2.zhimg.com\"/><link rel=\"dns-prefetch\" href=\"//pic3.zhimg.com\"/><link rel=\"dns-prefetch\" href=\"//pic4.zhimg.com\"/><link rel=\"dns-prefetch\" href=\"//static.zhihu.com\"/><style data-emotion-css=\"1m4merm\">.u-safeAreaInset-top{height:constant(safe-area-inset-top) !important;height:env(safe-area-inset-top) !important;}.u-safeAreaInset-bottom{height:constant(safe-area-inset-bottom) !important;height:env(safe-area-inset-bottom) !important;}</style><link href=\"https://static.zhihu.com/heifetz/main.app.216a26f4.8b918e2d834ece9a884f.css\" crossorigin=\"\" rel=\"stylesheet\"/><link href=\"https://static.zhihu.com/heifetz/main.shared_f30f7459f944e851b885959dfde412e92f3a8d2e_CSS.216a26f4.410b976d5fb6340f6949.css\" crossorigin=\"\" rel=\"stylesheet\"/><link href=\"https://static.zhihu.com/heifetz/main.topstory-routes.216a26f4.c89b74abcb712457b52a.css\" crossorigin=\"\" rel=\"stylesheet\"/><script nonce=\"51a1a006-0423-4698-a1f5-5aa50acc2ca7\">!function(){\"use strict\";!function(e,n){var r=[];function t(e){return function(){r.push([e,arguments])}}n.Raven={captureException:t(\"captureException\"),captureMessage:t(\"captureMessage\"),captureBreadcrumb:t(\"captureBreadcrumb\")};var a,o,c,i,s,u=\"undefined\"!=typeof DOMError;function d(e){var n=e instanceof Error||e instanceof ErrorEvent||u&&e instanceof DOMError||e instanceof DOMException;Raven.captureException(n?e:new Error(e.message||e.reason))}n.addEventListener(\"unhandledrejection\",d),n.addEventListener(\"error\",d,!0),a=e.src,o=e,c=function(){r.forEach(function(e){var n;(n=Raven)[e[0]].apply(n,e[1])}),n.removeEventListener(\"unhandledrejection\",d),n.removeEventListener(\"error\",d,!0)},i=document.head||document.getElementsByTagName(\"head\")[0],(s=document.createElement(\"script\")).crossOrigin=o.crossOrigin,s.dataset.sentryConfig=o[\"data-sentry-config\"],s.onload=c,s.src=a,i.appendChild(s)}({\"defer\":true,\"crossOrigin\":\"anonymous\",\"src\":\"https://unpkg.zhimg.com/@cfe/sentry-script@1.3.1/dist/init.js\",\"data-sentry-config\":\"{\\\"dsn\\\":\\\"https://2d8d764432cc4f6fb3bc78ab9528299d@crash2.zhihu.com/1224\\\",\\\"sampleRate\\\":0.1,\\\"release\\\":\\\"4158-27e3b105\\\",\\\"ignoreErrorNames\\\":[\\\"NetworkError\\\",\\\"SecurityError\\\"],\\\"ignoreErrorsPreset\\\":\\\"ReactApp\\\",\\\"tags\\\":{\\\"app_name\\\":\\\"heifetz\\\"}}\"},window)}();\n",
      "</script></head><body class=\"Topstory-body\"><div id=\"root\"><div><div class=\"LoadingBar\"></div><div><style data-emotion-css=\"1x8hcdw\">.css-1x8hcdw{background-color:#FFFFFF;-webkit-transition-property:background-color,box-shadow;transition-property:background-color,box-shadow;-webkit-transition-duration:0.25s;transition-duration:0.25s;-webkit-transition-timing-function:ease-in;transition-timing-function:ease-in;}</style><header role=\"banner\" class=\"Sticky AppHeader css-1x8hcdw\" data-za-module=\"TopNavBar\"><style data-emotion-css=\"qqgmyv\">.css-qqgmyv{width:auto;max-width:1156px;min-width:1000px;padding-left:16px;padding-right:30px;}.css-qqgmyv .AppHeader-userInfo{margin-left:30px;width:auto;}.css-qqgmyv .AppHeader-TabsLink.is-active,.css-qqgmyv .AppHeader-TabsLink:hover{color:#121212;}</style><div class=\"AppHeader-inner css-qqgmyv\"><a href=\"//www.zhihu.com\" aria-label=\"知乎\"><style data-emotion-css=\"1hlrcxk\">.css-1hlrcxk{-webkit-transition-property:fill;transition-property:fill;-webkit-transition-duration:0.25s;transition-duration:0.25s;-webkit-transition-timing-function:ease-in;transition-timing-function:ease-in;}</style><svg viewBox=\"0 0 64 30\" fill=\"#0066FF\" width=\"64\" height=\"30\" class=\"css-1hlrcxk\"><path d=\"M29.05 4.582H16.733V25.94h3.018l.403 2.572 4.081-2.572h4.815V4.582zm-5.207 18.69l-2.396 1.509-.235-1.508h-1.724V7.233h6.78v16.04h-2.425zM14.46 14.191H9.982c0-.471.033-.954.039-1.458v-5.5h5.106V5.935a1.352 1.352 0 0 0-.404-.957 1.378 1.378 0 0 0-.968-.396H5.783c.028-.088.056-.177.084-.255.274-.82 1.153-3.326 1.153-3.326a4.262 4.262 0 0 0-2.413.698c-.57.4-.912.682-1.371 1.946-.532 1.453-.997 2.856-1.31 3.693C1.444 8.674.28 11.025.28 11.025a5.85 5.85 0 0 0 2.52-.61c1.119-.593 1.679-1.502 2.054-2.883l.09-.3h2.334v5.5c0 .5-.045.982-.073 1.46h-4.12c-.71 0-1.39.278-1.893.775a2.638 2.638 0 0 0-.783 1.874h6.527a17.717 17.717 0 0 1-.778 3.649 16.796 16.796 0 0 1-3.012 5.273A33.104 33.104 0 0 1 0 28.74s3.13 1.175 5.425-.954c1.388-1.292 2.631-3.814 3.23-5.727a28.09 28.09 0 0 0 1.12-5.229h5.967v-1.37a1.254 1.254 0 0 0-.373-.899 1.279 1.279 0 0 0-.909-.37z\"></path><path d=\"M11.27 19.675l-2.312 1.491 5.038 7.458a6.905 6.905 0 0 0 .672-2.218 3.15 3.15 0 0 0-.28-2.168l-3.118-4.563zM51.449 15.195V5.842c4.181-.205 7.988-.405 9.438-.483l.851-.05c.387-.399.885-2.395.689-3.021-.073-.25-.213-.666-.638-.555a33.279 33.279 0 0 1-4.277.727c-2.766.321-3.97.404-7.804.682-6.718.487-12.709.72-12.709.72a2.518 2.518 0 0 0 .788 1.834 2.567 2.567 0 0 0 1.883.706c2.278-.095 5.598-.25 8.996-.41v9.203h-12.78c0 .703.281 1.377.783 1.874a2.69 2.69 0 0 0 1.892.777h10.105v7.075c0 .887-.464 1.192-1.231 1.214h-3.92a4.15 4.15 0 0 0 .837 1.544 4.2 4.2 0 0 0 1.403 1.067 6.215 6.215 0 0 0 2.71.277c1.36-.066 2.967-.826 2.967-3.57v-7.607h11.28c.342 0 .67-.135.91-.374.242-.239.378-.563.378-.902v-1.375H51.449z\"></path><path d=\"M42.614 8.873a2.304 2.304 0 0 0-1.508-.926 2.334 2.334 0 0 0-1.727.405l-.376.272 4.255 5.85 2.24-1.62-2.884-3.98zM57.35 8.68l-3.125 4.097 2.24 1.663 4.517-5.927-.375-.277a2.32 2.32 0 0 0-1.722-.452 2.327 2.327 0 0 0-1.536.896z\"></path></svg></a><style data-emotion-css=\"g0ay3v\">.css-g0ay3v{margin-left:25px;margin-right:15px;}.css-g0ay3v .AppHeader-Tab{padding-left:15px;padding-right:15px;}.css-g0ay3v .Tabs-link.is-active::after{height:4px;}</style><ul role=\"tablist\" class=\"Tabs AppHeader-Tabs css-g0ay3v\"><li role=\"tab\" class=\"Tabs-item AppHeader-Tab Tabs-item--noMeta\"><style data-emotion-css=\"1f6tgea\">.css-1f6tgea{color:undefined !important;-webkit-transition-property:color;transition-property:color;-webkit-transition-duration:0.25s;transition-duration:0.25s;-webkit-transition-timing-function:ease-in;transition-timing-function:ease-in;}.css-1f6tgea.is-active,.css-1f6tgea:hover{opacity:1;}.css-1f6tgea.is-active::after{background-color:#0066FF !important;}</style><a class=\"Tabs-link AppHeader-TabsLink is-active css-1f6tgea\" tabindex=\"0\" data-za-not-track-link=\"true\" href=\"//www.zhihu.com/\">首页</a></li><li role=\"tab\" class=\"Tabs-item AppHeader-Tab Tabs-item--noMeta\"><a class=\"Tabs-link AppHeader-TabsLink css-1f6tgea\" tabindex=\"0\" data-za-not-track-link=\"true\" href=\"//www.zhihu.com/xen/vip-web\">会员</a></li><li role=\"tab\" class=\"Tabs-item AppHeader-Tab Tabs-item--noMeta\"><a class=\"Tabs-link AppHeader-TabsLink css-1f6tgea\" tabindex=\"0\" data-za-not-track-link=\"true\" href=\"//www.zhihu.com/explore\">发现</a></li><li role=\"tab\" class=\"Tabs-item AppHeader-Tab Tabs-item--noMeta\"><a class=\"Tabs-link AppHeader-TabsLink css-1f6tgea\" tabindex=\"0\" data-za-not-track-link=\"true\" href=\"//www.zhihu.com/question/waiting\">等你来答</a></li></ul><style data-emotion-css=\"1acwmmj\">.css-1acwmmj{box-sizing:border-box;margin:0;min-width:0;-webkit-flex:1;-ms-flex:1;flex:1;-webkit-box-pack:center;-webkit-justify-content:center;-ms-flex-pack:center;justify-content:center;display:-webkit-box;display:-webkit-flex;display:-ms-flexbox;display:flex;}</style><div class=\"css-1acwmmj\"><style data-emotion-css=\"10fy1q8\">.css-10fy1q8{max-width:482px;}.css-10fy1q8 .SearchBar-input{border-radius:999px;padding-left:16px;}.css-10fy1q8 .SearchBar-askButton{border-radius:999px;width:70px;margin-left:12px;}.css-10fy1q8 .SearchBar-searchButton{border-bottom-right-radius:999px;border-top-right-radius:999px;}</style><div class=\"SearchBar AppHeader-SearchBar css-10fy1q8\" role=\"search\" data-za-module=\"PresetWordItem\"><form class=\"SearchBar-tool\"><div><div class=\"Popover\"><style data-emotion-css=\"11bw1mm\">.css-11bw1mm{border-color:undefined !important;-webkit-transition-property:background-color,border,color;transition-property:background-color,border,color;-webkit-transition-duration:0.25s;transition-duration:0.25s;-webkit-transition-timing-function:ease-in;transition-timing-function:ease-in;}.css-11bw1mm{border-color:undefined !important;-webkit-transition-property:background-color,border,color;transition-property:background-color,border,color;-webkit-transition-duration:0.25s;transition-duration:0.25s;-webkit-transition-timing-function:ease-in;transition-timing-function:ease-in;}.css-11bw1mm{border-color:undefined !important;-webkit-transition-property:background-color,border,color;transition-property:background-color,border,color;-webkit-transition-duration:0.25s;transition-duration:0.25s;-webkit-transition-timing-function:ease-in;transition-timing-function:ease-in;}.css-11bw1mm{border-color:undefined !important;-webkit-transition-property:background-color,border,color;transition-property:background-color,border,color;-webkit-transition-duration:0.25s;transition-duration:0.25s;-webkit-transition-timing-function:ease-in;transition-timing-function:ease-in;}</style><label class=\"SearchBar-input css-11bw1mm Input-wrapper Input-wrapper--grey\"><input type=\"text\" maxLength=\"100\" value=\"\" autoComplete=\"off\" role=\"combobox\" aria-expanded=\"false\" aria-autocomplete=\"list\" aria-activedescendant=\"null--1\" id=\"null-toggle\" aria-haspopup=\"true\" aria-owns=\"null-content\" class=\"Input\" placeholder=\"\"/><button aria-label=\"搜索\" type=\"button\" class=\"Button SearchBar-searchButton Button--primary\"><style data-emotion-css=\"1dlt5yv\">.css-1dlt5yv{-webkit-transition-property:color;transition-property:color;-webkit-transition-duration:0.25s;transition-duration:0.25s;-webkit-transition-timing-function:ease-in;transition-timing-function:ease-in;}.css-1dlt5yv:hover{opacity:1;}</style><span style=\"display:inline-flex;align-items:center\">​<svg width=\"18\" height=\"18\" viewBox=\"0 0 24 24\" data-new-api=\"Search24\" data-old-api=\"Search\" class=\"Zi Zi--Search SearchBar-searchIcon css-1dlt5yv\" fill=\"currentColor\"><g fill-rule=\"evenodd\" clip-rule=\"evenodd\"><path d=\"M11.5 18.389c3.875 0 7-3.118 7-6.945 0-3.826-3.125-6.944-7-6.944s-7 3.118-7 6.944 3.125 6.945 7 6.945zm0 1.5c4.694 0 8.5-3.78 8.5-8.445C20 6.781 16.194 3 11.5 3S3 6.78 3 11.444c0 4.664 3.806 8.445 8.5 8.445z\"></path><path d=\"M16.47 16.97a.75.75 0 011.06 0l3.5 3.5a.75.75 0 11-1.06 1.06l-3.5-3.5a.75.75 0 010-1.06z\"></path></g></svg></span></button></label></div></div></form><style data-emotion-css=\"3q84jd\">.css-3q84jd{background-color:undefined !important;color:undefined !important;border:undefined !important;-webkit-transition-property:background-color,color;transition-property:background-color,color;-webkit-transition-duration:0.25s;transition-duration:0.25s;-webkit-transition-timing-function:ease-in;transition-timing-function:ease-in;}.css-3q84jd:hover{opacity:1;}</style><button type=\"button\" class=\"Button SearchBar-askButton css-3q84jd Button--primary Button--blue\">提问</button></div></div><div class=\"AppHeader-userInfo\"><style data-emotion-css=\"79elbk\">.css-79elbk{position:relative;}</style><button type=\"button\" class=\"Button AppHeader-notifications css-79elbk Button--plain\"><style data-emotion-css=\"7dgah8\">.css-7dgah8{-webkit-transition-property:color,opacity;transition-property:color,opacity;-webkit-transition-duration:0.25s;transition-duration:0.25s;-webkit-transition-timing-function:ease-in;transition-timing-function:ease-in;}.css-7dgah8:hover{opacity:1;}</style><span style=\"display:inline-flex;align-items:center\">​<svg width=\"22\" height=\"22\" viewBox=\"0 0 24 24\" data-new-api=\"BellFill24\" data-old-api=\"Bell\" class=\"Zi Zi--Bell css-7dgah8\" fill=\"currentColor\"><path d=\"M9.723 21.271c0-.42.34-.76.76-.76h3.043a.76.76 0 010 1.521h-3.043a.76.76 0 01-.76-.76z\" fill-rule=\"evenodd\" clip-rule=\"evenodd\"></path><path d=\"M11.153 3.115c0-.618.376-1.115.844-1.115.469 0 .845.499.845 1.115v.183c3.997.369 7.012 4.117 7.024 8.515v5.655h.253a.76.76 0 110 1.521H3.891a.76.76 0 010-1.521h.253v-5.655c.011-4.392 3.02-8.137 7.009-8.514v-.184z\"></path></svg></span></button><button type=\"button\" class=\"Button AppHeader-messages css-79elbk Button--plain\"><span style=\"display:inline-flex;align-items:center\">​<svg width=\"22\" height=\"22\" viewBox=\"0 0 24 24\" data-new-api=\"ChatBubbleTwoFill24\" data-old-api=\"Comments\" class=\"Zi Zi--Comments css-7dgah8\" fill=\"currentColor\"><path d=\"M2 11c0 1.79.553 3.45 1.498 4.82L2.6 18.667a.6.6 0 00.751.753l3.07-.96A8.5 8.5 0 102 11zm11.46 9.414c-.457.16-.506.794-.034.904A6.96 6.96 0 0015 21.5c1.148 0 2.422-.31 3.444-.912.357-.217.658-.378 1.043-.252l1.414.42c.357.112.679-.168.574-.546l-.47-1.57a.736.736 0 01.05-.632c.602-1.108.945-2.32.945-3.498 0-1.07-.248-2.11-.7-3.046-.21-.435-.815-.25-.872.23-.47 3.954-3.211 7.394-6.968 8.72z\" fill-rule=\"evenodd\" clip-rule=\"evenodd\"></path></svg></span></button><div class=\"AppHeader-profile\"><button type=\"button\" class=\"Button AppHeader-profileEntry Button--plain\"><img class=\"Avatar AppHeader-profileAvatar\" width=\"30\" height=\"30\" src=\"https://pic1.zhimg.com/v2-abed1a8c04700ba7d72b45195223e0ff_is.jpeg\" srcSet=\"https://pic1.zhimg.com/v2-abed1a8c04700ba7d72b45195223e0ff_im.jpeg 2x\" alt=\"点击打开undefined的主页\"/></button></div></div></div><div></div></header></div><div><span style=\"position:absolute;top:-10000px;left:-10000px\" role=\"log\" aria-live=\"assertive\"></span></div><main role=\"main\" class=\"App-main\"><div class=\"Topstory\"><div></div><div class=\"Topstory-container\"><div class=\"Topstory-mainColumn\"><div class=\"Topstory-mainColumnCard\"><div class=\"Card Topstory-noMarginCard Topstory-tabCard\"><nav class=\"TopstoryTabs Topstory-tabs\"><a tabindex=\"0\" aria-controls=\"Topstory-follow\" class=\"TopstoryTabs-link Topstory-tabsLink\" data-za-detail-view-id=\"9122\" data-za-extra=\"{&quot;button&quot;:{&quot;text&quot;:&quot;关注&quot;}}\" href=\"/follow\">关注</a><a tabindex=\"0\" aria-controls=\"Topstory-recommend\" class=\"TopstoryTabs-link Topstory-tabsLink is-active\" data-za-detail-view-id=\"9122\" data-za-extra=\"{&quot;button&quot;:{&quot;text&quot;:&quot;推荐&quot;}}\" href=\"/\">推荐</a><a tabindex=\"0\" aria-controls=\"Topstory-hot\" class=\"TopstoryTabs-link Topstory-tabsLink\" data-za-detail-view-id=\"9122\" data-za-extra=\"{&quot;button&quot;:{&quot;text&quot;:&quot;热榜&quot;}}\" href=\"/hot\">热榜</a><a tabindex=\"0\" aria-controls=\"Topstory-zvideo\" class=\"TopstoryTabs-link Topstory-tabsLink\" data-za-detail-view-id=\"9122\" data-za-extra=\"{&quot;button&quot;:{&quot;text&quot;:&quot;视频&quot;}}\" href=\"/zvideo\">视频</a></nav><div><div class=\"Sticky\"></div></div></div><div id=\"TopstoryContent\" class=\"Topstory-content\"><div class=\"ListShortcut\"><div class=\"Topstory-recommend\" data-zop-feedlistfather=\"0\"><div class=\"\" role=\"list\"><div class=\"Card TopstoryItem TopstoryItem-isRecommend\" tabindex=\"0\"><div class=\"Feed\"><div><div class=\"ContentItem ZVideoItem\" expandedHeight=\"0\" data-zop=\"{&quot;authorName&quot;:&quot;人类早期驯服&quot;,&quot;itemId&quot;:&quot;1506436108439744512&quot;,&quot;title&quot;:&quot;野生德芙纵享丝滑的珍贵影像&quot;,&quot;type&quot;:&quot;zvideo&quot;}\"><h2 class=\"ContentItem-title\"><span><a href=\"https://www.zhihu.com/zvideo/1506436108439744512\" target=\"_blank\" rel=\"noopener noreferrer\">野生德芙纵享丝滑的珍贵影像</a></span></h2><style data-emotion-css=\"1hrc83f\">.css-1hrc83f{box-sizing:border-box;margin:0;min-width:0;margin-top:16px;margin-bottom:16px;}</style><div class=\"css-1hrc83f\"><style data-emotion-css=\"dpoqzr\">.css-dpoqzr{margin:0px;}</style><div class=\"ZVideoItem-video css-dpoqzr\"><div style=\"width:100%;height:100%\" class=\"ZVideoItem-player\"><style data-emotion-css=\"uwwqev\">.css-uwwqev{width:100%;height:100%;}</style><iframe title=\"video\" src=\"https://video.zhihu.com/video/1506435806588211200?itemId=1506436108439744512&amp;itemType=zvideo&amp;player=%7B%22shouldShowPageFullScreenButton%22%3Atrue%7D\" allowfullscreen=\"\" frameBorder=\"0\" class=\"css-uwwqev\"></iframe></div></div></div><div class=\"RichContent is-collapsed\"><div class=\"RichContent-inner\"><style data-emotion-css=\"3jt6os\">.css-3jt6os .FileLinkCard{-webkit-align-items:center;-webkit-box-align:center;-ms-flex-align:center;align-items:center;background-color:rgba(246,246,246,0.88);border-radius:12px;box-sizing:border-box;display:-webkit-box;display:-webkit-flex;display:-ms-flexbox;display:flex;margin:1em auto;max-width:100%;overflow:hidden;padding:12px;position:relative;width:390px;}.css-3jt6os .FileLinkCard-icon{-webkit-flex-shrink:0;-ms-flex-negative:0;flex-shrink:0;height:30px;width:30px;}.css-3jt6os .FileLinkCard-info{margin-left:12px;}.css-3jt6os .FileLinkCard-name{color:#121212;font-size:15px;font-weight:500;line-height:21px;display:-webkit-box;text-overflow:ellipsis;overflow:hidden;-webkit-box-orient:vertical;-webkit-line-clamp:2;}.css-3jt6os .FileLinkCard-meta{color:#999999;font-size:12px;display:-webkit-box;display:-webkit-flex;display:-ms-flexbox;display:flex;line-height:14px;margin-top:5px;}.css-3jt6os .FileLinkCard-source{white-space:pre;}</style><style data-emotion-css=\"1wr1m8\">.css-1wr1m8 .LinkCard.new{position:relative;display:-webkit-box;display:-webkit-flex;display:-ms-flexbox;display:flex;box-sizing:border-box;-webkit-flex-direction:row;-ms-flex-direction:row;flex-direction:row;-webkit-align-items:center;-webkit-box-align:center;-ms-flex-align:center;align-items:center;width:390px;min-height:84px;border-radius:8px;max-width:100%;overflow:hidden;margin:16px auto;padding:12px 12px 9px 12px;background-color:#F6F6F6;}.css-1wr1m8 .LinkCard.new,.css-1wr1m8 .LinkCard.new:hover{-webkit-text-decoration:none;text-decoration:none;border:none !important;color:inherit !important;}.css-1wr1m8 .LinkCard.new .LinkCard-contents{display:block;-webkit-flex:1 1 auto;-ms-flex:1 1 auto;flex:1 1 auto;position:relative;}.css-1wr1m8 .LinkCard.new .LinkCard-contents .loading{height:14px;background:#EBEBEB;border-radius:7px;}.css-1wr1m8 .LinkCard.new .LinkCard-contents.withTitle{margin-bottom:3px;}.css-1wr1m8 .LinkCard.new .LinkCard-title{display:-webkit-box;font-size:15px;font-weight:500;line-height:1.4;margin-bottom:2px;color:#121212;text-overflow:ellipsis;overflow:hidden;-webkit-box-orient:vertical;-webkit-line-clamp:1;}.css-1wr1m8 .LinkCard.new .LinkCard-title.two-line{line-height:20px;display:-webkit-box;text-overflow:ellipsis;overflow:hidden;-webkit-box-orient:vertical;-webkit-line-clamp:2;}.css-1wr1m8 .LinkCard.new .LinkCard-title.loading{margin-bottom:8px;width:80%;}.css-1wr1m8 .LinkCard.new .LinkCard-title.loading.withTitle{margin-bottom:6px;}.css-1wr1m8 .LinkCard.new .LinkCard-title.loadingTitle{margin-bottom:5px;}.css-1wr1m8 .LinkCard.new .LinkCard-excerpt{display:-webkit-box;text-overflow:ellipsis;font-size:13px;line-height:18px;color:#999999;margin-bottom:4px;overflow:hidden;-webkit-box-orient:vertical;-webkit-line-clamp:1;}.css-1wr1m8 .LinkCard.new .LinkCard-excerpt .LinkCard-author{color:#444444;}.css-1wr1m8 .LinkCard.new .LinkCard-desc{display:-webkit-box;font-size:13px;height:18px;line-height:18px;color:#999999;word-break:break-all;text-overflow:ellipsis;overflow:hidden;-webkit-box-orient:vertical;-webkit-line-clamp:1;}.css-1wr1m8 .LinkCard.new .LinkCard-desc .LinkCard-tag,.css-1wr1m8 .LinkCard.new .LinkCard-desc .tag{display:inline-block;font-size:11px;margin-left:8px;padding:0 4px;border-radius:3px;background:rgba(211,211,211,0.3);}.css-1wr1m8 .LinkCard.new .LinkCard-desc.loading{width:40%;}.css-1wr1m8 .LinkCard.new .LinkCard-desc svg{margin-right:2px;}.css-1wr1m8 .LinkCard.new .LinkCard-image{-webkit-flex:0 0 auto;-ms-flex:0 0 auto;flex:0 0 auto;background-color:#EBEBEB;background-size:cover;background-position:center;position:relative;display:block;width:60px;height:60px;margin-left:20px;object-fit:cover;border-radius:inherit;overflow:hidden;}.css-1wr1m8 .LinkCard.new .LinkCard-image.LinkCard-image--default{display:-webkit-box;display:-webkit-flex;display:-ms-flexbox;display:flex;-webkit-align-items:center;-webkit-box-align:center;-ms-flex-align:center;align-items:center;-webkit-box-pack:center;-webkit-justify-content:center;-ms-flex-pack:center;justify-content:center;background-color:#EBEBEB;color:#D3D3D3;}.css-1wr1m8 .LinkCard.new .LinkCard-image.LinkCard-image--default svg{color:#999999;}.css-1wr1m8 .LinkCard.new .LinkCard-image img{width:100%;height:100%;object-fit:cover;}.css-1wr1m8 .LinkCard.new .LinkCard-image .LinkCard-image--video{display:-webkit-box;display:-webkit-flex;display:-ms-flexbox;display:flex;-webkit-align-items:center;-webkit-box-align:center;-ms-flex-align:center;align-items:center;-webkit-box-pack:center;-webkit-justify-content:center;-ms-flex-pack:center;justify-content:center;position:absolute;top:50%;left:50%;-webkit-transform:translateX(-50%) translateY(-50%);-ms-transform:translateX(-50%) translateY(-50%);transform:translateX(-50%) translateY(-50%);width:24px;height:24px;border-radius:12px;background:rgba(255,255,255,0.9);pointer-events:none;}.css-1wr1m8 .LinkCard.new .LinkCard-image .LinkCard-image--video svg{color:#444444;}.css-1wr1m8 .LinkCard.new .LinkCard-richText .text{color:#444444;}.css-1wr1m8 .LinkCard.new .LinkCard-richText .bold{font-weight:600;}.css-1wr1m8 .LinkCard.new .LinkCard-richText .tag{margin-left:4px;}.css-1wr1m8 .LinkCard.old{position:relative;display:block;margin:1em auto;width:390px;box-sizing:border-box;border-radius:12px;max-width:100%;overflow:hidden;}.css-1wr1m8 .LinkCard.old,.css-1wr1m8 .LinkCard.old:hover{-webkit-text-decoration:none;text-decoration:none;border:none !important;color:inherit !important;}.css-1wr1m8 .LinkCard-ecommerceLoadingCard{position:relative;display:-webkit-box;display:-webkit-flex;display:-ms-flexbox;display:flex;-webkit-align-items:center;-webkit-box-align:center;-ms-flex-align:center;align-items:center;-webkit-box-pack:justify;-webkit-justify-content:space-between;-ms-flex-pack:justify;justify-content:space-between;padding:12px;border-radius:inherit;height:80px;box-sizing:border-box;background:rgba(246,246,246,0.88);color:#D3D3D3;}.css-1wr1m8 .LinkCard-ecommerceLoadingCardAvatarWrapper{width:60px;height:60px;background:#EBEBEB;display:-webkit-box;display:-webkit-flex;display:-ms-flexbox;display:flex;-webkit-align-items:center;-webkit-box-align:center;-ms-flex-align:center;align-items:center;-webkit-box-pack:center;-webkit-justify-content:center;-ms-flex-pack:center;justify-content:center;border-radius:6px;margin-right:10px;}.css-1wr1m8 .LinkCard-ecommerceLoadingCardNetwork{width:20px;height:20px;}.css-1wr1m8 .LinkCard-ecommerceLoadingCardLoadingbar{height:60px;-webkit-flex:1;-ms-flex:1;flex:1;display:-webkit-box;display:-webkit-flex;display:-ms-flexbox;display:flex;-webkit-flex-direction:column;-ms-flex-direction:column;flex-direction:column;}.css-1wr1m8 .LinkCard-ecommerceLoadingCardLoadingbar span{height:16px;display:inline-block;background:#EBEBEB;}.css-1wr1m8 .LinkCard-ecommerceLoadingCardLoadingbar span:nth-of-type(1){width:60px;margin-bottom:4px;}.css-1wr1m8 .LinkCard-ecommerceLoadingCardLoadingbar span:nth-of-type(2){width:127px;}</style><style data-emotion-css=\"hypxot\">.css-hypxot .LinkCard.old{position:relative;display:block;margin:1em auto;width:390px;box-sizing:border-box;border-radius:12px;max-width:100%;overflow:hidden;}.css-hypxot .LinkCard.old,.css-hypxot .LinkCard.old:hover{-webkit-text-decoration:none;text-decoration:none;border:none !important;color:inherit !important;}.css-hypxot .LinkCard-ecommerceLoadingCard{position:relative;display:-webkit-box;display:-webkit-flex;display:-ms-flexbox;display:flex;-webkit-align-items:center;-webkit-box-align:center;-ms-flex-align:center;align-items:center;-webkit-box-pack:justify;-webkit-justify-content:space-between;-ms-flex-pack:justify;justify-content:space-between;padding:12px;border-radius:inherit;height:80px;box-sizing:border-box;background:rgba(246,246,246,0.88);color:#D3D3D3;}.css-hypxot .LinkCard-ecommerceLoadingCardAvatarWrapper{width:60px;height:60px;background:#EBEBEB;display:-webkit-box;display:-webkit-flex;display:-ms-flexbox;display:flex;-webkit-align-items:center;-webkit-box-align:center;-ms-flex-align:center;align-items:center;-webkit-box-pack:center;-webkit-justify-content:center;-ms-flex-pack:center;justify-content:center;border-radius:6px;margin-right:10px;}.css-hypxot .LinkCard-ecommerceLoadingCardNetwork{width:20px;height:20px;}.css-hypxot .LinkCard-ecommerceLoadingCardLoadingbar{height:60px;-webkit-flex:1;-ms-flex:1;flex:1;display:-webkit-box;display:-webkit-flex;display:-ms-flexbox;display:flex;-webkit-flex-direction:column;-ms-flex-direction:column;flex-direction:column;}.css-hypxot .LinkCard-ecommerceLoadingCardLoadingbar span{height:16px;display:inline-block;background:#EBEBEB;}.css-hypxot .LinkCard-ecommerceLoadingCardLoadingbar span:nth-of-type(1){width:60px;margin-bottom:4px;}.css-hypxot .LinkCard-ecommerceLoadingCardLoadingbar span:nth-of-type(2){width:127px;}.css-hypxot .LinkCard.new{position:relative;display:-webkit-box;display:-webkit-flex;display:-ms-flexbox;display:flex;box-sizing:border-box;-webkit-flex-direction:row;-ms-flex-direction:row;flex-direction:row;-webkit-align-items:center;-webkit-box-align:center;-ms-flex-align:center;align-items:center;width:390px;min-height:84px;border-radius:8px;max-width:100%;overflow:hidden;margin:16px auto;padding:12px 12px 9px 12px;background-color:#F6F6F6;}.css-hypxot .LinkCard.new,.css-hypxot .LinkCard.new:hover{-webkit-text-decoration:none;text-decoration:none;border:none !important;color:inherit !important;}.css-hypxot .LinkCard.new .LinkCard-contents{display:block;-webkit-flex:1 1 auto;-ms-flex:1 1 auto;flex:1 1 auto;position:relative;}.css-hypxot .LinkCard.new .LinkCard-contents .loading{height:14px;background:#EBEBEB;border-radius:7px;}.css-hypxot .LinkCard.new .LinkCard-contents.withTitle{margin-bottom:3px;}.css-hypxot .LinkCard.new .LinkCard-title{display:-webkit-box;font-size:15px;font-weight:500;line-height:1.4;margin-bottom:2px;color:#121212;text-overflow:ellipsis;overflow:hidden;-webkit-box-orient:vertical;-webkit-line-clamp:1;}.css-hypxot .LinkCard.new .LinkCard-title.two-line{line-height:20px;display:-webkit-box;text-overflow:ellipsis;overflow:hidden;-webkit-box-orient:vertical;-webkit-line-clamp:2;}.css-hypxot .LinkCard.new .LinkCard-title.loading{margin-bottom:8px;width:80%;}.css-hypxot .LinkCard.new .LinkCard-title.loading.withTitle{margin-bottom:6px;}.css-hypxot .LinkCard.new .LinkCard-title.loadingTitle{margin-bottom:5px;}.css-hypxot .LinkCard.new .LinkCard-excerpt{display:-webkit-box;text-overflow:ellipsis;font-size:13px;line-height:18px;color:#999999;margin-bottom:4px;overflow:hidden;-webkit-box-orient:vertical;-webkit-line-clamp:1;}.css-hypxot .LinkCard.new .LinkCard-excerpt .LinkCard-author{color:#444444;}.css-hypxot .LinkCard.new .LinkCard-desc{display:-webkit-box;font-size:13px;height:18px;line-height:18px;color:#999999;word-break:break-all;text-overflow:ellipsis;overflow:hidden;-webkit-box-orient:vertical;-webkit-line-clamp:1;}.css-hypxot .LinkCard.new .LinkCard-desc .LinkCard-tag,.css-hypxot .LinkCard.new .LinkCard-desc .tag{display:inline-block;font-size:11px;margin-left:8px;padding:0 4px;border-radius:3px;background:rgba(211,211,211,0.3);}.css-hypxot .LinkCard.new .LinkCard-desc.loading{width:40%;}.css-hypxot .LinkCard.new .LinkCard-desc svg{margin-right:2px;}.css-hypxot .LinkCard.new .LinkCard-image{-webkit-flex:0 0 auto;-ms-flex:0 0 auto;flex:0 0 auto;background-color:#EBEBEB;background-size:cover;background-position:center;position:relative;display:block;width:60px;height:60px;margin-left:20px;object-fit:cover;border-radius:inherit;overflow:hidden;}.css-hypxot .LinkCard.new .LinkCard-image.LinkCard-image--default{display:-webkit-box;display:-webkit-flex;display:-ms-flexbox;display:flex;-webkit-align-items:center;-webkit-box-align:center;-ms-flex-align:center;align-items:center;-webkit-box-pack:center;-webkit-justify-content:center;-ms-flex-pack:center;justify-content:center;background-color:#EBEBEB;color:#D3D3D3;}.css-hypxot .LinkCard.new .LinkCard-image.LinkCard-image--default svg{color:#999999;}.css-hypxot .LinkCard.new .LinkCard-image img{width:100%;height:100%;object-fit:cover;}.css-hypxot .LinkCard.new .LinkCard-image .LinkCard-image--video{display:-webkit-box;display:-webkit-flex;display:-ms-flexbox;display:flex;-webkit-align-items:center;-webkit-box-align:center;-ms-flex-align:center;align-items:center;-webkit-box-pack:center;-webkit-justify-content:center;-ms-flex-pack:center;justify-content:center;position:absolute;top:50%;left:50%;-webkit-transform:translateX(-50%) translateY(-50%);-ms-transform:translateX(-50%) translateY(-50%);transform:translateX(-50%) translateY(-50%);width:24px;height:24px;border-radius:12px;background:rgba(255,255,255,0.9);pointer-events:none;}.css-hypxot .LinkCard.new .LinkCard-image .LinkCard-image--video svg{color:#444444;}.css-hypxot .LinkCard.new .LinkCard-richText .text{color:#444444;}.css-hypxot .LinkCard.new .LinkCard-richText .bold{font-weight:600;}.css-hypxot .LinkCard.new .LinkCard-richText .tag{margin-left:4px;}.css-hypxot .FileLinkCard{-webkit-align-items:center;-webkit-box-align:center;-ms-flex-align:center;align-items:center;background-color:rgba(246,246,246,0.88);border-radius:12px;box-sizing:border-box;display:-webkit-box;display:-webkit-flex;display:-ms-flexbox;display:flex;margin:1em auto;max-width:100%;overflow:hidden;padding:12px;position:relative;width:390px;}.css-hypxot .FileLinkCard-icon{-webkit-flex-shrink:0;-ms-flex-negative:0;flex-shrink:0;height:30px;width:30px;}.css-hypxot .FileLinkCard-info{margin-left:12px;}.css-hypxot .FileLinkCard-name{color:#121212;font-size:15px;font-weight:500;line-height:21px;display:-webkit-box;text-overflow:ellipsis;overflow:hidden;-webkit-box-orient:vertical;-webkit-line-clamp:2;}.css-hypxot .FileLinkCard-meta{color:#999999;font-size:12px;display:-webkit-box;display:-webkit-flex;display:-ms-flexbox;display:flex;line-height:14px;margin-top:5px;}.css-hypxot .FileLinkCard-source{white-space:pre;}</style><style data-emotion-css=\"14bz7qe animation-1sh55c5\">.css-14bz7qe{word-break:break-word;line-height:1.6;}.css-14bz7qe a.UserLink-link{color:#175199;}.css-14bz7qe a.UserLink-link:hover{border-bottom:1px solid #175199;}.css-14bz7qe lazy[data-lazy-status]{background-color:#F6F6F6;}.css-14bz7qe lazy[data-lazy-status=\"ok\"]{background-color:transparent;-webkit-animation:animation-1sh55c5 0.5s ease-in;animation:animation-1sh55c5 0.5s ease-in;}.css-14bz7qe > [data-first-child]{margin-top:0;}.css-14bz7qe > :last-child{margin-bottom:0;}.css-14bz7qe h1,.css-14bz7qe h2{clear:left;margin-top:calc((1.4em * 2) / 1.2);margin-bottom:calc(1.4em / 1.2);font-size:1.2em;line-height:1.5;font-weight:600;}.css-14bz7qe h3,.css-14bz7qe h4,.css-14bz7qe h5,.css-14bz7qe h6{clear:left;margin-top:calc((1.4em * 1.5) / 1.1);margin-bottom:calc(1.4em / 1.1);font-size:1.1em;line-height:1.5;font-weight:600;}.css-14bz7qe u{-webkit-text-decoration:none;text-decoration:none;border-bottom:1px dashed #808080;}.css-14bz7qe b{font-weight:600;}.css-14bz7qe sup{font-size:0.8em;}.css-14bz7qe sup[data-draft-type='reference']{color:#175199;}.css-14bz7qe a:focus{outline:none;-webkit-transition:box-shadow 0.3s;transition:box-shadow 0.3s;}html[data-focus-visible] .css-14bz7qe a:focus{box-shadow:0 0 0 2px #FFFFFF,0 0 0 4px rgba(0,102,255,0.3);}.css-14bz7qe a.ztext-link,.css-14bz7qe a.internal,.css-14bz7qe a.external{-webkit-text-decoration:none;text-decoration:none;cursor:pointer;border-bottom:1px solid #808080;}.css-14bz7qe a.ztext-link:hover,.css-14bz7qe a.internal:hover,.css-14bz7qe a.external:hover{color:#175199;border-bottom:1px solid #175199;}.css-14bz7qe a.ztext-link > .ellipsis::after,.css-14bz7qe a.internal > .ellipsis::after,.css-14bz7qe a.external > .ellipsis::after{content:'...';}.css-14bz7qe a.ztext-link > .invisible,.css-14bz7qe a.internal > .invisible,.css-14bz7qe a.external > .invisible{font:0/0 a;color:transparent;text-shadow:none;background-color:transparent;}.css-14bz7qe a.ztext-link u,.css-14bz7qe a.internal u,.css-14bz7qe a.external u{border:none;}.css-14bz7qe a.member_mention{color:#175199;}.css-14bz7qe a.member_mention:hover{border-bottom:1px solid #175199;}.css-14bz7qe p{margin:1.4em 0;}.css-14bz7qe p.ztext-empty-paragraph{margin:calc((2.8em- (1.4em * 2 + 1.6em)) / 2) 0;}.css-14bz7qe p.ztext-empty-paragraph + .ztext-empty-paragraph{margin:1.4em 0;}.css-14bz7qe hr{margin:4em auto;width:240px;max-width:100%;border:none;border-top:1px solid #D3D3D3;}.css-14bz7qe img[eeimg]{max-width:100%;vertical-align:middle;}.css-14bz7qe img[eeimg=\"1\"]{margin:0 3px;display:inline-block;}.css-14bz7qe img[eeimg=\"2\"]{margin:1.4em 0;display:block;}.css-14bz7qe blockquote{margin:1.4em 0;padding-left:1em;color:#646464;border-left:3px solid #D3D3D3;}.css-14bz7qe ol,.css-14bz7qe ul{margin:1.4em 0;padding:0;}.css-14bz7qe ol ol,.css-14bz7qe ul ol,.css-14bz7qe ol ul,.css-14bz7qe ul ul{margin:0;}.css-14bz7qe ol > ol,.css-14bz7qe ul > ol,.css-14bz7qe ol > ul,.css-14bz7qe ul > ul{display:table-row;}.css-14bz7qe ol > ol::before,.css-14bz7qe ul > ol::before,.css-14bz7qe ol > ul::before,.css-14bz7qe ul > ul::before{display:table-cell;content:'';}.css-14bz7qe ul{display:table;}.css-14bz7qe ul>li{display:table-row;list-style:none;}.css-14bz7qe ul>li::before{display:table-cell;content:'•  ';white-space:pre;}.css-14bz7qe ol{display:table;counter-reset:ol;}.css-14bz7qe ol > li{display:table-row;list-style:none;}.css-14bz7qe ol > li::before{display:table-cell;text-align:right;counter-increment:ol;content:counter(ol) '. ';white-space:pre;}.css-14bz7qe ol ol{counter-reset:ol2;}.css-14bz7qe ol ol li::before{counter-increment:ol2;content:counter(ol2) '. ';}.css-14bz7qe ol ol ol{counter-reset:ol3;}.css-14bz7qe ol ol ol li::before{counter-increment:ol3;content:counter(ol3) '. ';}.css-14bz7qe ol ol ol ol{counter-reset:ol4;}.css-14bz7qe ol ol ol ol li::before{counter-increment:ol4;content:counter(ol4) '. ';}.css-14bz7qe figure{margin:1.4em 0;}.css-14bz7qe figure .content_image,.css-14bz7qe figure .origin_image{margin:0 auto;}.css-14bz7qe figure figcaption{margin-top:calc(0.6em / 0.9);padding:0 1em;font-size:0.9em;line-height:1.5;text-align:center;color:#999999;}.css-14bz7qe figure + figure{margin-top:calc(1.4em * 1.6);}.css-14bz7qe figure[data-size='small'],.css-14bz7qe figure:not([data-size]) > [data-size='small']{clear:both;}.css-14bz7qe figure[data-size='left'],.css-14bz7qe figure:not([data-size]) > [data-size='left']{float:left;margin:0 20px 20px 0;max-width:33%;}.css-14bz7qe figure[data-size='right'],.css-14bz7qe figure:not([data-size]) > [data-size='right']{float:right;margin:0 0 20px 20px;max-width:33%;}.css-14bz7qe figure[data-size='collapse']{margin-bottom:0;}.css-14bz7qe figure[data-size='collapse'] + figure{margin-top:0;}.css-14bz7qe .content_image,.css-14bz7qe .origin_image{display:block;max-width:100%;margin:1.4em auto;}.css-14bz7qe .content_image[data-size='small'],.css-14bz7qe .origin_image[data-size='small']{max-width:40%;}.css-14bz7qe .content_image.zh-lightbox-thumb,.css-14bz7qe .origin_image.zh-lightbox-thumb{cursor:-webkit-zoom-in;cursor:-moz-zoom-in;cursor:zoom-in;}.css-14bz7qe code{margin:0 2px;padding:3px 4px;border-radius:3px;font-size:0.9em;background-color:#F6F6F6;}.css-14bz7qe pre{margin:1.4em 0;padding:calc(0.8em / 0.9);font-size:0.9em;word-break:initial;word-wrap:initial;white-space:pre;overflow:auto;-webkit-overflow-scrolling:touch;background:#F6F6F6;border-radius:4px;}.css-14bz7qe pre code{margin:0;padding:0;font-size:inherit;border-radius:0;background-color:inherit;}.css-14bz7qe li pre{white-space:pre-wrap;}.css-14bz7qe table[data-draft-type='table']{border-collapse:collapse;font-size:15px;margin:1.4em auto;max-width:100%;table-layout:fixed;text-align:left;width:100%;}.css-14bz7qe table[data-draft-type='table'][data-size='small']{min-width:260px;width:40%;}.css-14bz7qe table[data-draft-type='table'][data-row-style='striped'] tr:nth-of-type(2n + 1){background:#F6F6F6;}.css-14bz7qe table[data-draft-type='table'] td,.css-14bz7qe table[data-draft-type='table'] th{border:1px solid #D3D3D3;line-height:24px;height:24px;padding:3px 12px;}.css-14bz7qe table[data-draft-type='table'] th{background:#EBEBEB;color:#121212;font-weight:500;}.css-14bz7qe .video-box,.css-14bz7qe .link-box{position:relative;display:-webkit-box;display:-webkit-flex;display:-ms-flexbox;display:flex;-webkit-box-pack:justify;-webkit-justify-content:space-between;-ms-flex-pack:justify;justify-content:space-between;margin:1.4em 0;overflow:auto;white-space:normal;cursor:pointer;border:solid 1px #EBEBEB;border-radius:4px;}.css-14bz7qe .highlight{margin:1em 0;}.css-14bz7qe .highlight pre{margin:0;}.css-14bz7qe .highlight .hll{background-color:#FDFDFD;}.css-14bz7qe .highlight .c{font-style:italic;color:#999999;}.css-14bz7qe .highlight .err{color:#F1403C;}.css-14bz7qe .highlight .k{font-weight:600;}.css-14bz7qe .highlight .o{font-weight:600;}.css-14bz7qe .highlight .cm{font-style:italic;color:#999999;}.css-14bz7qe .highlight .cp{font-weight:600;color:#999999;}.css-14bz7qe .highlight .c1{font-style:italic;color:#999999;}.css-14bz7qe .highlight .cs{font-style:italic;font-weight:600;color:#999999;}.css-14bz7qe .highlight .gd{color:#FF3366;}.css-14bz7qe .highlight .ge{font-style:italic;}.css-14bz7qe .highlight .gr{color:#F1403C;}.css-14bz7qe .highlight .gh{color:#999999;}.css-14bz7qe .highlight .gi{color:#12b370;}.css-14bz7qe .highlight .go{color:#808080;}.css-14bz7qe .highlight .gp{color:#646464;}.css-14bz7qe .highlight .gs{font-weight:600;}.css-14bz7qe .highlight .gu{color:#999999;}.css-14bz7qe .highlight .gt{color:#F1403C;}.css-14bz7qe .highlight .kc{font-weight:600;}.css-14bz7qe .highlight .kd{font-weight:600;}.css-14bz7qe .highlight .kn{font-weight:600;}.css-14bz7qe .highlight .kp{font-weight:600;}.css-14bz7qe .highlight .kr{font-weight:600;}.css-14bz7qe .highlight .kt{font-weight:600;color:#175199;}.css-14bz7qe .highlight .m{color:#0066FF;}.css-14bz7qe .highlight .s{color:#F1403C;}.css-14bz7qe .highlight .na{color:#0066FF;}.css-14bz7qe .highlight .nb{color:#0066FF;}.css-14bz7qe .highlight .nc{font-weight:600;color:#175199;}.css-14bz7qe .highlight .no{color:#0066FF;}.css-14bz7qe .highlight .ni{color:#5555DD;}.css-14bz7qe .highlight .ne{font-weight:600;color:#F1403C;}.css-14bz7qe .highlight .nf{font-weight:600;color:#F1403C;}.css-14bz7qe .highlight .nn{color:#646464;}.css-14bz7qe .highlight .nt{color:#175199;}.css-14bz7qe .highlight .nv{color:#0066FF;}.css-14bz7qe .highlight .ow{font-weight:600;}.css-14bz7qe .highlight .w{color:#BFBFBF;}.css-14bz7qe .highlight .mf{color:#0066FF;}.css-14bz7qe .highlight .mh{color:#0066FF;}.css-14bz7qe .highlight .mi{color:#0066FF;}.css-14bz7qe .highlight .mo{color:#0066FF;}.css-14bz7qe .highlight .sb{color:#F1403C;}.css-14bz7qe .highlight .sc{color:#F1403C;}.css-14bz7qe .highlight .sd{color:#F1403C;}.css-14bz7qe .highlight .s2{color:#F1403C;}.css-14bz7qe .highlight .se{color:#F1403C;}.css-14bz7qe .highlight .sh{color:#F1403C;}.css-14bz7qe .highlight .si{color:#F1403C;}.css-14bz7qe .highlight .sx{color:#F1403C;}.css-14bz7qe .highlight .sr{color:#A5542F;}.css-14bz7qe .highlight .s1{color:#F1403C;}.css-14bz7qe .highlight .ss{color:#F1403C;}.css-14bz7qe .highlight .bp{color:#999999;}.css-14bz7qe .highlight .vc{color:#0066FF;}.css-14bz7qe .highlight .vg{color:#0066FF;}.css-14bz7qe .highlight .vi{color:#0066FF;}.css-14bz7qe .highlight .il{color:#0066FF;}.css-14bz7qe .highlight::-webkit-scrollbar{width:6px;height:6px;}.css-14bz7qe .highlight::-webkit-scrollbar-thumb:horizontal{background-color:rgba(18,18,18,0.5);border-radius:6px;}.css-14bz7qe .highlight::-webkit-scrollbar-thumb:horizontal:hover{background-color:rgba(18,18,18,0.6);}.css-14bz7qe .LinkCard.old{position:relative;display:block;margin:1em auto;width:390px;box-sizing:border-box;border-radius:12px;max-width:100%;overflow:hidden;}.css-14bz7qe .LinkCard.old,.css-14bz7qe .LinkCard.old:hover{-webkit-text-decoration:none;text-decoration:none;border:none !important;color:inherit !important;}.css-14bz7qe .LinkCard-ecommerceLoadingCard{position:relative;display:-webkit-box;display:-webkit-flex;display:-ms-flexbox;display:flex;-webkit-align-items:center;-webkit-box-align:center;-ms-flex-align:center;align-items:center;-webkit-box-pack:justify;-webkit-justify-content:space-between;-ms-flex-pack:justify;justify-content:space-between;padding:12px;border-radius:inherit;height:80px;box-sizing:border-box;background:rgba(246,246,246,0.88);color:#D3D3D3;}.css-14bz7qe .LinkCard-ecommerceLoadingCardAvatarWrapper{width:60px;height:60px;background:#EBEBEB;display:-webkit-box;display:-webkit-flex;display:-ms-flexbox;display:flex;-webkit-align-items:center;-webkit-box-align:center;-ms-flex-align:center;align-items:center;-webkit-box-pack:center;-webkit-justify-content:center;-ms-flex-pack:center;justify-content:center;border-radius:6px;margin-right:10px;}.css-14bz7qe .LinkCard-ecommerceLoadingCardNetwork{width:20px;height:20px;}.css-14bz7qe .LinkCard-ecommerceLoadingCardLoadingbar{height:60px;-webkit-flex:1;-ms-flex:1;flex:1;display:-webkit-box;display:-webkit-flex;display:-ms-flexbox;display:flex;-webkit-flex-direction:column;-ms-flex-direction:column;flex-direction:column;}.css-14bz7qe .LinkCard-ecommerceLoadingCardLoadingbar span{height:16px;display:inline-block;background:#EBEBEB;}.css-14bz7qe .LinkCard-ecommerceLoadingCardLoadingbar span:nth-of-type(1){width:60px;margin-bottom:4px;}.css-14bz7qe .LinkCard-ecommerceLoadingCardLoadingbar span:nth-of-type(2){width:127px;}.css-14bz7qe .LinkCard.new{position:relative;display:-webkit-box;display:-webkit-flex;display:-ms-flexbox;display:flex;box-sizing:border-box;-webkit-flex-direction:row;-ms-flex-direction:row;flex-direction:row;-webkit-align-items:center;-webkit-box-align:center;-ms-flex-align:center;align-items:center;width:390px;min-height:84px;border-radius:8px;max-width:100%;overflow:hidden;margin:16px auto;padding:12px 12px 9px 12px;background-color:#F6F6F6;}.css-14bz7qe .LinkCard.new,.css-14bz7qe .LinkCard.new:hover{-webkit-text-decoration:none;text-decoration:none;border:none !important;color:inherit !important;}.css-14bz7qe .LinkCard.new .LinkCard-contents{display:block;-webkit-flex:1 1 auto;-ms-flex:1 1 auto;flex:1 1 auto;position:relative;}.css-14bz7qe .LinkCard.new .LinkCard-contents .loading{height:14px;background:#EBEBEB;border-radius:7px;}.css-14bz7qe .LinkCard.new .LinkCard-contents.withTitle{margin-bottom:3px;}.css-14bz7qe .LinkCard.new .LinkCard-title{display:-webkit-box;font-size:15px;font-weight:500;line-height:1.4;margin-bottom:2px;color:#121212;text-overflow:ellipsis;overflow:hidden;-webkit-box-orient:vertical;-webkit-line-clamp:1;}.css-14bz7qe .LinkCard.new .LinkCard-title.two-line{line-height:20px;display:-webkit-box;text-overflow:ellipsis;overflow:hidden;-webkit-box-orient:vertical;-webkit-line-clamp:2;}.css-14bz7qe .LinkCard.new .LinkCard-title.loading{margin-bottom:8px;width:80%;}.css-14bz7qe .LinkCard.new .LinkCard-title.loading.withTitle{margin-bottom:6px;}.css-14bz7qe .LinkCard.new .LinkCard-title.loadingTitle{margin-bottom:5px;}.css-14bz7qe .LinkCard.new .LinkCard-excerpt{display:-webkit-box;text-overflow:ellipsis;font-size:13px;line-height:18px;color:#999999;margin-bottom:4px;overflow:hidden;-webkit-box-orient:vertical;-webkit-line-clamp:1;}.css-14bz7qe .LinkCard.new .LinkCard-excerpt .LinkCard-author{color:#444444;}.css-14bz7qe .LinkCard.new .LinkCard-desc{display:-webkit-box;font-size:13px;height:18px;line-height:18px;color:#999999;word-break:break-all;text-overflow:ellipsis;overflow:hidden;-webkit-box-orient:vertical;-webkit-line-clamp:1;}.css-14bz7qe .LinkCard.new .LinkCard-desc .LinkCard-tag,.css-14bz7qe .LinkCard.new .LinkCard-desc .tag{display:inline-block;font-size:11px;margin-left:8px;padding:0 4px;border-radius:3px;background:rgba(211,211,211,0.3);}.css-14bz7qe .LinkCard.new .LinkCard-desc.loading{width:40%;}.css-14bz7qe .LinkCard.new .LinkCard-desc svg{margin-right:2px;}.css-14bz7qe .LinkCard.new .LinkCard-image{-webkit-flex:0 0 auto;-ms-flex:0 0 auto;flex:0 0 auto;background-color:#EBEBEB;background-size:cover;background-position:center;position:relative;display:block;width:60px;height:60px;margin-left:20px;object-fit:cover;border-radius:inherit;overflow:hidden;}.css-14bz7qe .LinkCard.new .LinkCard-image.LinkCard-image--default{display:-webkit-box;display:-webkit-flex;display:-ms-flexbox;display:flex;-webkit-align-items:center;-webkit-box-align:center;-ms-flex-align:center;align-items:center;-webkit-box-pack:center;-webkit-justify-content:center;-ms-flex-pack:center;justify-content:center;background-color:#EBEBEB;color:#D3D3D3;}.css-14bz7qe .LinkCard.new .LinkCard-image.LinkCard-image--default svg{color:#999999;}.css-14bz7qe .LinkCard.new .LinkCard-image img{width:100%;height:100%;object-fit:cover;}.css-14bz7qe .LinkCard.new .LinkCard-image .LinkCard-image--video{display:-webkit-box;display:-webkit-flex;display:-ms-flexbox;display:flex;-webkit-align-items:center;-webkit-box-align:center;-ms-flex-align:center;align-items:center;-webkit-box-pack:center;-webkit-justify-content:center;-ms-flex-pack:center;justify-content:center;position:absolute;top:50%;left:50%;-webkit-transform:translateX(-50%) translateY(-50%);-ms-transform:translateX(-50%) translateY(-50%);transform:translateX(-50%) translateY(-50%);width:24px;height:24px;border-radius:12px;background:rgba(255,255,255,0.9);pointer-events:none;}.css-14bz7qe .LinkCard.new .LinkCard-image .LinkCard-image--video svg{color:#444444;}.css-14bz7qe .LinkCard.new .LinkCard-richText .text{color:#444444;}.css-14bz7qe .LinkCard.new .LinkCard-richText .bold{font-weight:600;}.css-14bz7qe .LinkCard.new .LinkCard-richText .tag{margin-left:4px;}.css-14bz7qe .FileLinkCard{-webkit-align-items:center;-webkit-box-align:center;-ms-flex-align:center;align-items:center;background-color:rgba(246,246,246,0.88);border-radius:12px;box-sizing:border-box;display:-webkit-box;display:-webkit-flex;display:-ms-flexbox;display:flex;margin:1em auto;max-width:100%;overflow:hidden;padding:12px;position:relative;width:390px;}.css-14bz7qe .FileLinkCard-icon{-webkit-flex-shrink:0;-ms-flex-negative:0;flex-shrink:0;height:30px;width:30px;}.css-14bz7qe .FileLinkCard-info{margin-left:12px;}.css-14bz7qe .FileLinkCard-name{color:#121212;font-size:15px;font-weight:500;line-height:21px;display:-webkit-box;text-overflow:ellipsis;overflow:hidden;-webkit-box-orient:vertical;-webkit-line-clamp:2;}.css-14bz7qe .FileLinkCard-meta{color:#999999;font-size:12px;display:-webkit-box;display:-webkit-flex;display:-ms-flexbox;display:flex;line-height:14px;margin-top:5px;}.css-14bz7qe .FileLinkCard-source{white-space:pre;}@-webkit-keyframes animation-1sh55c5{from{opacity:0;}to{opacity:1;}}@keyframes animation-1sh55c5{from{opacity:0;}to{opacity:1;}}</style><span class=\"RichText ztext CopyrightRichText-richText css-14bz7qe\" options=\"[object Object]\" itemProp=\"text\"></span><button type=\"button\" class=\"Button ContentItem-more Button--plain\">阅读全文<span style=\"display:inline-flex;align-items:center\">​<svg width=\"24\" height=\"24\" viewBox=\"0 0 24 24\" data-new-api=\"ArrowDownSmall24\" data-old-api=\"ArrowDown\" class=\"Zi Zi--ArrowDown ContentItem-arrowIcon\" fill=\"currentColor\"><path d=\"M12 13.248L8.22 9.223a.684.684 0 00-1.01 0 .796.796 0 000 1.075l4.15 4.42a.867.867 0 001.28 0l4.15-4.42a.796.796 0 000-1.075.684.684 0 00-1.01 0L12 13.248z\" fill-rule=\"evenodd\" clip-rule=\"evenodd\"></path></svg></span></button></div><div class=\"ContentItem-actions\"><style data-emotion-css=\"1cd8nnu\">.css-1cd8nnu{margin-bottom:14px;}</style><div class=\"css-1cd8nnu\"><div class=\"ContentItem-actions ZVideoToolbar ContentItem-action ZVideoItem-toolbar\"><span><button aria-label=\"赞同 447 \" aria-live=\"polite\" type=\"button\" class=\"Button VoteButton VoteButton--up\"><span style=\"display:inline-flex;align-items:center\">​<svg width=\"10\" height=\"10\" viewBox=\"0 0 24 24\" data-new-api=\"AgreeFill24\" data-old-api=\"TriangleUp\" class=\"Zi Zi--TriangleUp VoteButton-TriangleUp\" fill=\"currentColor\"><path d=\"M13.792 3.681c-.781-1.406-2.803-1.406-3.584 0l-7.79 14.023c-.76 1.367.228 3.046 1.791 3.046h15.582c1.563 0 2.55-1.68 1.791-3.046l-7.79-14.023z\" fill-rule=\"evenodd\" clip-rule=\"evenodd\"></path></svg></span>赞同 447</button><button aria-label=\"反对\" aria-live=\"polite\" type=\"button\" class=\"Button VoteButton VoteButton--down\"><span style=\"display:inline-flex;align-items:center\">​<svg width=\"10\" height=\"10\" viewBox=\"0 0 24 24\" data-new-api=\"OpposeFill24\" data-old-api=\"TriangleDown\" class=\"Zi Zi--TriangleDown\" fill=\"currentColor\"><path d=\"M13.792 20.319c-.781 1.406-2.803 1.406-3.584 0L2.418 6.296c-.76-1.367.228-3.046 1.791-3.046h15.582c1.563 0 2.55 1.68 1.791 3.046l-7.79 14.023z\" fill-rule=\"evenodd\" clip-rule=\"evenodd\"></path></svg></span></button></span><button type=\"button\" class=\"Button ContentItem-action Button--plain Button--withIcon Button--withLabel\"><span style=\"display:inline-flex;align-items:center\">​<svg width=\"1.2em\" height=\"1.2em\" viewBox=\"0 0 24 24\" data-new-api=\"ChatBubbleFill24\" data-old-api=\"Comment\" class=\"Zi Zi--Comment Button-zi\" fill=\"currentColor\"><path d=\"M11.982 3C17.211 3 21 7.271 21 12.014c0 1.514-.441 3.072-1.215 4.496a.946.946 0 00-.063.813l.603 2.018c.135.487-.279.847-.738.703l-1.818-.54c-.495-.163-.882.044-1.341.324C15.114 20.602 13.476 21 12 21c-4.464 0-9-3.452-9-9.014C3 7.19 6.87 3 11.982 3z\"></path></svg></span>28 条评论</button><div class=\"Popover ShareMenu ContentItem-action\"><div class=\"ShareMenu-toggler\" id=\"null-toggle\" aria-haspopup=\"true\" aria-expanded=\"false\" aria-owns=\"null-content\"><button type=\"button\" class=\"Button Button--plain Button--withIcon Button--withLabel\"><span style=\"display:inline-flex;align-items:center\">​<svg width=\"1.2em\" height=\"1.2em\" viewBox=\"0 0 24 24\" data-new-api=\"PaperplaneFill24\" data-old-api=\"Share\" class=\"Zi Zi--Share Button-zi\" fill=\"currentColor\"><path d=\"M20.223 1.881a.8.8 0 011.205.778l-1.874 16.393a.9.9 0 01-1.204.742l-4.617-1.692a.7.7 0 00-.83.28l-1.929 3.021c-.43.674-1.474.37-1.474-.43v-3.866a.8.8 0 01.18-.505l5.809-7.15a.595.595 0 00-.897-.782l-5.933 6.357a1.1 1.1 0 01-1.257.251l-4.085-1.847a.8.8 0 01-.08-1.415L20.223 1.88z\"></path></svg></span>分享</button></div></div><button type=\"button\" class=\"Button ContentItem-action Button--plain Button--withIcon Button--withLabel\"><span style=\"display:inline-flex;align-items:center\">​<svg width=\"1.2em\" height=\"1.2em\" viewBox=\"0 0 24 24\" data-new-api=\"StarFill24\" data-old-api=\"Star\" class=\"Zi Zi--Star Button-zi\" fill=\"currentColor\"><path d=\"M10.484 3.307c.673-1.168 2.358-1.168 3.032 0l2.377 4.122a.25.25 0 00.165.12l4.655.987c1.319.28 1.84 1.882.937 2.884l-3.186 3.535a.25.25 0 00-.063.193l.5 4.733c.142 1.34-1.222 2.33-2.453 1.782l-4.346-1.938a.25.25 0 00-.204 0l-4.346 1.938c-1.231.549-2.595-.442-2.453-1.782l.5-4.733a.25.25 0 00-.064-.193L2.35 11.42c-.903-1.002-.382-2.604.937-2.884l4.655-.987a.25.25 0 00.164-.12l2.378-4.122z\"></path></svg></span>收藏</button><button aria-live=\"polite\" currentUser=\"[object Object]\" type=\"button\" class=\"Button ContentItem-action Button--plain Button--withIcon Button--withLabel\"><span style=\"display:inline-flex;align-items:center\">​<svg width=\"1.2em\" height=\"1.2em\" viewBox=\"0 0 24 24\" data-new-api=\"HeartFill24\" data-old-api=\"Heart\" class=\"Zi Zi--Heart Button-zi\" fill=\"currentColor\"><path d=\"M12.004 4.934c1.015-.944 2.484-1.618 3.98-1.618 3.48 0 6.53 3.265 6.15 7.614-.11 1.254-.686 2.55-1.458 3.753-.778 1.215-1.79 2.392-2.845 3.419-1.054 1.028-2.168 1.923-3.161 2.566a9.96 9.96 0 01-1.41.777c-.418.182-.862.32-1.268.32s-.848-.137-1.267-.317a9.918 9.918 0 01-1.407-.771c-.992-.64-2.103-1.53-3.156-2.555-1.052-1.024-2.062-2.2-2.84-3.417-.77-1.208-1.346-2.51-1.456-3.775-.38-4.349 2.67-7.614 6.15-7.614 1.484 0 2.983.673 3.988 1.618z\" fill-rule=\"evenodd\" clip-rule=\"evenodd\"></path></svg></span>喜欢</button><button type=\"button\" class=\"Button ContentItem-action Button--plain\"><span style=\"display:inline-flex;align-items:center\">​<svg width=\"1.2em\" height=\"1.2em\" viewBox=\"0 0 24 24\" data-new-api=\"FlagFill24\" data-old-api=\"FlagFill24\" class=\"ZDI ZDI--FlagFill24\" fill=\"currentColor\"><path d=\"M12.842 4.421c-1.86-1.24-3.957-1.408-5.798-1.025-1.827.38-3.467 1.313-4.47 2.381a.75.75 0 00-.171.732l4.44 14.546a.75.75 0 101.434-.438l-1.08-3.542c.025-.018.053-.036.083-.054.298-.184.801-.415 1.568-.523 1.386-.197 2.307.129 3.341.543l.187.075c1.005.405 2.161.872 3.791.804 1.401-.003 2.707-.45 3.67-1.015a5.217 5.217 0 001.212-.953c.284-.312.581-.752.581-1.255V5.046a.75.75 0 00-1.17-.622c-1.82 1.23-4.881 1.823-7.618-.003z\"></path></svg></span> 举报</button><div class=\"Popover ContentItem-action\"><button aria-label=\"更多\" id=\"null-toggle\" aria-haspopup=\"true\" aria-expanded=\"false\" aria-owns=\"null-content\" type=\"button\" class=\"Button OptionsButton Button--plain Button--withIcon Button--iconOnly\"><span style=\"display:inline-flex;align-items:center\">​<svg width=\"1.2em\" height=\"1.2em\" viewBox=\"0 0 24 24\" data-new-api=\"Dots24\" data-old-api=\"Dots\" class=\"Zi Zi--Dots Button-zi\" fill=\"currentColor\"><path d=\"M5.34 12a1.665 1.665 0 11-3.33 0 1.665 1.665 0 013.33 0zm8.325 0a1.665 1.665 0 11-3.33 0 1.665 1.665 0 013.33 0zm8.325 0a1.665 1.665 0 11-3.33 0 1.665 1.665 0 013.33 0z\"></path></svg></span></button></div></div></div></div></div></div></div></div></div><div class=\"Card TopstoryItem TopstoryItem-isRecommend\" tabindex=\"0\"><div class=\"Feed\"><div><div class=\"ContentItem AnswerItem\" data-zop=\"{&quot;authorName&quot;:&quot;宝之大者&quot;,&quot;itemId&quot;:1327805592,&quot;title&quot;:&quot;如果《王者荣耀》里的英雄去参加高考，你觉得谁最有可能拿到状元？&quot;,&quot;type&quot;:&quot;answer&quot;}\" name=\"1327805592\" itemProp=\"answer\" itemType=\"http://schema.org/Answer\" itemscope=\"\"><h2 class=\"ContentItem-title\"><div itemProp=\"zhihu:question\" itemType=\"http://schema.org/Question\" itemscope=\"\"><meta itemProp=\"url\" content=\"https://www.zhihu.com/question/405770200\"/><meta itemProp=\"name\" content=\"如果《王者荣耀》里的英雄去参加高考，你觉得谁最有可能拿到状元？\"/><a target=\"_blank\" data-za-detail-view-element_name=\"Title\" data-za-detail-view-id=\"2812\" href=\"//www.zhihu.com/question/405770200/answer/1327805592\">如果《王者荣耀》里的英雄去参加高考，你觉得谁最有可能拿到状元？</a></div></h2><meta itemProp=\"image\"/><meta itemProp=\"upvoteCount\" content=\"28311\"/><meta itemProp=\"url\" content=\"https://www.zhihu.com/question/405770200/answer/1327805592\"/><meta itemProp=\"dateCreated\" content=\"2020-07-09T02:49:46.000Z\"/><meta itemProp=\"dateModified\" content=\"2021-11-20T14:59:57.000Z\"/><meta itemProp=\"commentCount\" content=\"852\"/><div class=\"RichContent is-collapsed\"><div class=\"RichContent-inner\"><style data-emotion-css=\"3jt6os\">.css-3jt6os .FileLinkCard{-webkit-align-items:center;-webkit-box-align:center;-ms-flex-align:center;align-items:center;background-color:rgba(246,246,246,0.88);border-radius:12px;box-sizing:border-box;display:-webkit-box;display:-webkit-flex;display:-ms-flexbox;display:flex;margin:1em auto;max-width:100%;overflow:hidden;padding:12px;position:relative;width:390px;}.css-3jt6os .FileLinkCard-icon{-webkit-flex-shrink:0;-ms-flex-negative:0;flex-shrink:0;height:30px;width:30px;}.css-3jt6os .FileLinkCard-info{margin-left:12px;}.css-3jt6os .FileLinkCard-name{color:#121212;font-size:15px;font-weight:500;line-height:21px;display:-webkit-box;text-overflow:ellipsis;overflow:hidden;-webkit-box-orient:vertical;-webkit-line-clamp:2;}.css-3jt6os .FileLinkCard-meta{color:#999999;font-size:12px;display:-webkit-box;display:-webkit-flex;display:-ms-flexbox;display:flex;line-height:14px;margin-top:5px;}.css-3jt6os .FileLinkCard-source{white-space:pre;}</style><style data-emotion-css=\"1wr1m8\">.css-1wr1m8 .LinkCard.new{position:relative;display:-webkit-box;display:-webkit-flex;display:-ms-flexbox;display:flex;box-sizing:border-box;-webkit-flex-direction:row;-ms-flex-direction:row;flex-direction:row;-webkit-align-items:center;-webkit-box-align:center;-ms-flex-align:center;align-items:center;width:390px;min-height:84px;border-radius:8px;max-width:100%;overflow:hidden;margin:16px auto;padding:12px 12px 9px 12px;background-color:#F6F6F6;}.css-1wr1m8 .LinkCard.new,.css-1wr1m8 .LinkCard.new:hover{-webkit-text-decoration:none;text-decoration:none;border:none !important;color:inherit !important;}.css-1wr1m8 .LinkCard.new .LinkCard-contents{display:block;-webkit-flex:1 1 auto;-ms-flex:1 1 auto;flex:1 1 auto;position:relative;}.css-1wr1m8 .LinkCard.new .LinkCard-contents .loading{height:14px;background:#EBEBEB;border-radius:7px;}.css-1wr1m8 .LinkCard.new .LinkCard-contents.withTitle{margin-bottom:3px;}.css-1wr1m8 .LinkCard.new .LinkCard-title{display:-webkit-box;font-size:15px;font-weight:500;line-height:1.4;margin-bottom:2px;color:#121212;text-overflow:ellipsis;overflow:hidden;-webkit-box-orient:vertical;-webkit-line-clamp:1;}.css-1wr1m8 .LinkCard.new .LinkCard-title.two-line{line-height:20px;display:-webkit-box;text-overflow:ellipsis;overflow:hidden;-webkit-box-orient:vertical;-webkit-line-clamp:2;}.css-1wr1m8 .LinkCard.new .LinkCard-title.loading{margin-bottom:8px;width:80%;}.css-1wr1m8 .LinkCard.new .LinkCard-title.loading.withTitle{margin-bottom:6px;}.css-1wr1m8 .LinkCard.new .LinkCard-title.loadingTitle{margin-bottom:5px;}.css-1wr1m8 .LinkCard.new .LinkCard-excerpt{display:-webkit-box;text-overflow:ellipsis;font-size:13px;line-height:18px;color:#999999;margin-bottom:4px;overflow:hidden;-webkit-box-orient:vertical;-webkit-line-clamp:1;}.css-1wr1m8 .LinkCard.new .LinkCard-excerpt .LinkCard-author{color:#444444;}.css-1wr1m8 .LinkCard.new .LinkCard-desc{display:-webkit-box;font-size:13px;height:18px;line-height:18px;color:#999999;word-break:break-all;text-overflow:ellipsis;overflow:hidden;-webkit-box-orient:vertical;-webkit-line-clamp:1;}.css-1wr1m8 .LinkCard.new .LinkCard-desc .LinkCard-tag,.css-1wr1m8 .LinkCard.new .LinkCard-desc .tag{display:inline-block;font-size:11px;margin-left:8px;padding:0 4px;border-radius:3px;background:rgba(211,211,211,0.3);}.css-1wr1m8 .LinkCard.new .LinkCard-desc.loading{width:40%;}.css-1wr1m8 .LinkCard.new .LinkCard-desc svg{margin-right:2px;}.css-1wr1m8 .LinkCard.new .LinkCard-image{-webkit-flex:0 0 auto;-ms-flex:0 0 auto;flex:0 0 auto;background-color:#EBEBEB;background-size:cover;background-position:center;position:relative;display:block;width:60px;height:60px;margin-left:20px;object-fit:cover;border-radius:inherit;overflow:hidden;}.css-1wr1m8 .LinkCard.new .LinkCard-image.LinkCard-image--default{display:-webkit-box;display:-webkit-flex;display:-ms-flexbox;display:flex;-webkit-align-items:center;-webkit-box-align:center;-ms-flex-align:center;align-items:center;-webkit-box-pack:center;-webkit-justify-content:center;-ms-flex-pack:center;justify-content:center;background-color:#EBEBEB;color:#D3D3D3;}.css-1wr1m8 .LinkCard.new .LinkCard-image.LinkCard-image--default svg{color:#999999;}.css-1wr1m8 .LinkCard.new .LinkCard-image img{width:100%;height:100%;object-fit:cover;}.css-1wr1m8 .LinkCard.new .LinkCard-image .LinkCard-image--video{display:-webkit-box;display:-webkit-flex;display:-ms-flexbox;display:flex;-webkit-align-items:center;-webkit-box-align:center;-ms-flex-align:center;align-items:center;-webkit-box-pack:center;-webkit-justify-content:center;-ms-flex-pack:center;justify-content:center;position:absolute;top:50%;left:50%;-webkit-transform:translateX(-50%) translateY(-50%);-ms-transform:translateX(-50%) translateY(-50%);transform:translateX(-50%) translateY(-50%);width:24px;height:24px;border-radius:12px;background:rgba(255,255,255,0.9);pointer-events:none;}.css-1wr1m8 .LinkCard.new .LinkCard-image .LinkCard-image--video svg{color:#444444;}.css-1wr1m8 .LinkCard.new .LinkCard-richText .text{color:#444444;}.css-1wr1m8 .LinkCard.new .LinkCard-richText .bold{font-weight:600;}.css-1wr1m8 .LinkCard.new .LinkCard-richText .tag{margin-left:4px;}.css-1wr1m8 .LinkCard.old{position:relative;display:block;margin:1em auto;width:390px;box-sizing:border-box;border-radius:12px;max-width:100%;overflow:hidden;}.css-1wr1m8 .LinkCard.old,.css-1wr1m8 .LinkCard.old:hover{-webkit-text-decoration:none;text-decoration:none;border:none !important;color:inherit !important;}.css-1wr1m8 .LinkCard-ecommerceLoadingCard{position:relative;display:-webkit-box;display:-webkit-flex;display:-ms-flexbox;display:flex;-webkit-align-items:center;-webkit-box-align:center;-ms-flex-align:center;align-items:center;-webkit-box-pack:justify;-webkit-justify-content:space-between;-ms-flex-pack:justify;justify-content:space-between;padding:12px;border-radius:inherit;height:80px;box-sizing:border-box;background:rgba(246,246,246,0.88);color:#D3D3D3;}.css-1wr1m8 .LinkCard-ecommerceLoadingCardAvatarWrapper{width:60px;height:60px;background:#EBEBEB;display:-webkit-box;display:-webkit-flex;display:-ms-flexbox;display:flex;-webkit-align-items:center;-webkit-box-align:center;-ms-flex-align:center;align-items:center;-webkit-box-pack:center;-webkit-justify-content:center;-ms-flex-pack:center;justify-content:center;border-radius:6px;margin-right:10px;}.css-1wr1m8 .LinkCard-ecommerceLoadingCardNetwork{width:20px;height:20px;}.css-1wr1m8 .LinkCard-ecommerceLoadingCardLoadingbar{height:60px;-webkit-flex:1;-ms-flex:1;flex:1;display:-webkit-box;display:-webkit-flex;display:-ms-flexbox;display:flex;-webkit-flex-direction:column;-ms-flex-direction:column;flex-direction:column;}.css-1wr1m8 .LinkCard-ecommerceLoadingCardLoadingbar span{height:16px;display:inline-block;background:#EBEBEB;}.css-1wr1m8 .LinkCard-ecommerceLoadingCardLoadingbar span:nth-of-type(1){width:60px;margin-bottom:4px;}.css-1wr1m8 .LinkCard-ecommerceLoadingCardLoadingbar span:nth-of-type(2){width:127px;}</style><style data-emotion-css=\"hypxot\">.css-hypxot .LinkCard.old{position:relative;display:block;margin:1em auto;width:390px;box-sizing:border-box;border-radius:12px;max-width:100%;overflow:hidden;}.css-hypxot .LinkCard.old,.css-hypxot .LinkCard.old:hover{-webkit-text-decoration:none;text-decoration:none;border:none !important;color:inherit !important;}.css-hypxot .LinkCard-ecommerceLoadingCard{position:relative;display:-webkit-box;display:-webkit-flex;display:-ms-flexbox;display:flex;-webkit-align-items:center;-webkit-box-align:center;-ms-flex-align:center;align-items:center;-webkit-box-pack:justify;-webkit-justify-content:space-between;-ms-flex-pack:justify;justify-content:space-between;padding:12px;border-radius:inherit;height:80px;box-sizing:border-box;background:rgba(246,246,246,0.88);color:#D3D3D3;}.css-hypxot .LinkCard-ecommerceLoadingCardAvatarWrapper{width:60px;height:60px;background:#EBEBEB;display:-webkit-box;display:-webkit-flex;display:-ms-flexbox;display:flex;-webkit-align-items:center;-webkit-box-align:center;-ms-flex-align:center;align-items:center;-webkit-box-pack:center;-webkit-justify-content:center;-ms-flex-pack:center;justify-content:center;border-radius:6px;margin-right:10px;}.css-hypxot .LinkCard-ecommerceLoadingCardNetwork{width:20px;height:20px;}.css-hypxot .LinkCard-ecommerceLoadingCardLoadingbar{height:60px;-webkit-flex:1;-ms-flex:1;flex:1;display:-webkit-box;display:-webkit-flex;display:-ms-flexbox;display:flex;-webkit-flex-direction:column;-ms-flex-direction:column;flex-direction:column;}.css-hypxot .LinkCard-ecommerceLoadingCardLoadingbar span{height:16px;display:inline-block;background:#EBEBEB;}.css-hypxot .LinkCard-ecommerceLoadingCardLoadingbar span:nth-of-type(1){width:60px;margin-bottom:4px;}.css-hypxot .LinkCard-ecommerceLoadingCardLoadingbar span:nth-of-type(2){width:127px;}.css-hypxot .LinkCard.new{position:relative;display:-webkit-box;display:-webkit-flex;display:-ms-flexbox;display:flex;box-sizing:border-box;-webkit-flex-direction:row;-ms-flex-direction:row;flex-direction:row;-webkit-align-items:center;-webkit-box-align:center;-ms-flex-align:center;align-items:center;width:390px;min-height:84px;border-radius:8px;max-width:100%;overflow:hidden;margin:16px auto;padding:12px 12px 9px 12px;background-color:#F6F6F6;}.css-hypxot .LinkCard.new,.css-hypxot .LinkCard.new:hover{-webkit-text-decoration:none;text-decoration:none;border:none !important;color:inherit !important;}.css-hypxot .LinkCard.new .LinkCard-contents{display:block;-webkit-flex:1 1 auto;-ms-flex:1 1 auto;flex:1 1 auto;position:relative;}.css-hypxot .LinkCard.new .LinkCard-contents .loading{height:14px;background:#EBEBEB;border-radius:7px;}.css-hypxot .LinkCard.new .LinkCard-contents.withTitle{margin-bottom:3px;}.css-hypxot .LinkCard.new .LinkCard-title{display:-webkit-box;font-size:15px;font-weight:500;line-height:1.4;margin-bottom:2px;color:#121212;text-overflow:ellipsis;overflow:hidden;-webkit-box-orient:vertical;-webkit-line-clamp:1;}.css-hypxot .LinkCard.new .LinkCard-title.two-line{line-height:20px;display:-webkit-box;text-overflow:ellipsis;overflow:hidden;-webkit-box-orient:vertical;-webkit-line-clamp:2;}.css-hypxot .LinkCard.new .LinkCard-title.loading{margin-bottom:8px;width:80%;}.css-hypxot .LinkCard.new .LinkCard-title.loading.withTitle{margin-bottom:6px;}.css-hypxot .LinkCard.new .LinkCard-title.loadingTitle{margin-bottom:5px;}.css-hypxot .LinkCard.new .LinkCard-excerpt{display:-webkit-box;text-overflow:ellipsis;font-size:13px;line-height:18px;color:#999999;margin-bottom:4px;overflow:hidden;-webkit-box-orient:vertical;-webkit-line-clamp:1;}.css-hypxot .LinkCard.new .LinkCard-excerpt .LinkCard-author{color:#444444;}.css-hypxot .LinkCard.new .LinkCard-desc{display:-webkit-box;font-size:13px;height:18px;line-height:18px;color:#999999;word-break:break-all;text-overflow:ellipsis;overflow:hidden;-webkit-box-orient:vertical;-webkit-line-clamp:1;}.css-hypxot .LinkCard.new .LinkCard-desc .LinkCard-tag,.css-hypxot .LinkCard.new .LinkCard-desc .tag{display:inline-block;font-size:11px;margin-left:8px;padding:0 4px;border-radius:3px;background:rgba(211,211,211,0.3);}.css-hypxot .LinkCard.new .LinkCard-desc.loading{width:40%;}.css-hypxot .LinkCard.new .LinkCard-desc svg{margin-right:2px;}.css-hypxot .LinkCard.new .LinkCard-image{-webkit-flex:0 0 auto;-ms-flex:0 0 auto;flex:0 0 auto;background-color:#EBEBEB;background-size:cover;background-position:center;position:relative;display:block;width:60px;height:60px;margin-left:20px;object-fit:cover;border-radius:inherit;overflow:hidden;}.css-hypxot .LinkCard.new .LinkCard-image.LinkCard-image--default{display:-webkit-box;display:-webkit-flex;display:-ms-flexbox;display:flex;-webkit-align-items:center;-webkit-box-align:center;-ms-flex-align:center;align-items:center;-webkit-box-pack:center;-webkit-justify-content:center;-ms-flex-pack:center;justify-content:center;background-color:#EBEBEB;color:#D3D3D3;}.css-hypxot .LinkCard.new .LinkCard-image.LinkCard-image--default svg{color:#999999;}.css-hypxot .LinkCard.new .LinkCard-image img{width:100%;height:100%;object-fit:cover;}.css-hypxot .LinkCard.new .LinkCard-image .LinkCard-image--video{display:-webkit-box;display:-webkit-flex;display:-ms-flexbox;display:flex;-webkit-align-items:center;-webkit-box-align:center;-ms-flex-align:center;align-items:center;-webkit-box-pack:center;-webkit-justify-content:center;-ms-flex-pack:center;justify-content:center;position:absolute;top:50%;left:50%;-webkit-transform:translateX(-50%) translateY(-50%);-ms-transform:translateX(-50%) translateY(-50%);transform:translateX(-50%) translateY(-50%);width:24px;height:24px;border-radius:12px;background:rgba(255,255,255,0.9);pointer-events:none;}.css-hypxot .LinkCard.new .LinkCard-image .LinkCard-image--video svg{color:#444444;}.css-hypxot .LinkCard.new .LinkCard-richText .text{color:#444444;}.css-hypxot .LinkCard.new .LinkCard-richText .bold{font-weight:600;}.css-hypxot .LinkCard.new .LinkCard-richText .tag{margin-left:4px;}.css-hypxot .FileLinkCard{-webkit-align-items:center;-webkit-box-align:center;-ms-flex-align:center;align-items:center;background-color:rgba(246,246,246,0.88);border-radius:12px;box-sizing:border-box;display:-webkit-box;display:-webkit-flex;display:-ms-flexbox;display:flex;margin:1em auto;max-width:100%;overflow:hidden;padding:12px;position:relative;width:390px;}.css-hypxot .FileLinkCard-icon{-webkit-flex-shrink:0;-ms-flex-negative:0;flex-shrink:0;height:30px;width:30px;}.css-hypxot .FileLinkCard-info{margin-left:12px;}.css-hypxot .FileLinkCard-name{color:#121212;font-size:15px;font-weight:500;line-height:21px;display:-webkit-box;text-overflow:ellipsis;overflow:hidden;-webkit-box-orient:vertical;-webkit-line-clamp:2;}.css-hypxot .FileLinkCard-meta{color:#999999;font-size:12px;display:-webkit-box;display:-webkit-flex;display:-ms-flexbox;display:flex;line-height:14px;margin-top:5px;}.css-hypxot .FileLinkCard-source{white-space:pre;}</style><style data-emotion-css=\"14bz7qe animation-1sh55c5\">.css-14bz7qe{word-break:break-word;line-height:1.6;}.css-14bz7qe a.UserLink-link{color:#175199;}.css-14bz7qe a.UserLink-link:hover{border-bottom:1px solid #175199;}.css-14bz7qe lazy[data-lazy-status]{background-color:#F6F6F6;}.css-14bz7qe lazy[data-lazy-status=\"ok\"]{background-color:transparent;-webkit-animation:animation-1sh55c5 0.5s ease-in;animation:animation-1sh55c5 0.5s ease-in;}.css-14bz7qe > [data-first-child]{margin-top:0;}.css-14bz7qe > :last-child{margin-bottom:0;}.css-14bz7qe h1,.css-14bz7qe h2{clear:left;margin-top:calc((1.4em * 2) / 1.2);margin-bottom:calc(1.4em / 1.2);font-size:1.2em;line-height:1.5;font-weight:600;}.css-14bz7qe h3,.css-14bz7qe h4,.css-14bz7qe h5,.css-14bz7qe h6{clear:left;margin-top:calc((1.4em * 1.5) / 1.1);margin-bottom:calc(1.4em / 1.1);font-size:1.1em;line-height:1.5;font-weight:600;}.css-14bz7qe u{-webkit-text-decoration:none;text-decoration:none;border-bottom:1px dashed #808080;}.css-14bz7qe b{font-weight:600;}.css-14bz7qe sup{font-size:0.8em;}.css-14bz7qe sup[data-draft-type='reference']{color:#175199;}.css-14bz7qe a:focus{outline:none;-webkit-transition:box-shadow 0.3s;transition:box-shadow 0.3s;}html[data-focus-visible] .css-14bz7qe a:focus{box-shadow:0 0 0 2px #FFFFFF,0 0 0 4px rgba(0,102,255,0.3);}.css-14bz7qe a.ztext-link,.css-14bz7qe a.internal,.css-14bz7qe a.external{-webkit-text-decoration:none;text-decoration:none;cursor:pointer;border-bottom:1px solid #808080;}.css-14bz7qe a.ztext-link:hover,.css-14bz7qe a.internal:hover,.css-14bz7qe a.external:hover{color:#175199;border-bottom:1px solid #175199;}.css-14bz7qe a.ztext-link > .ellipsis::after,.css-14bz7qe a.internal > .ellipsis::after,.css-14bz7qe a.external > .ellipsis::after{content:'...';}.css-14bz7qe a.ztext-link > .invisible,.css-14bz7qe a.internal > .invisible,.css-14bz7qe a.external > .invisible{font:0/0 a;color:transparent;text-shadow:none;background-color:transparent;}.css-14bz7qe a.ztext-link u,.css-14bz7qe a.internal u,.css-14bz7qe a.external u{border:none;}.css-14bz7qe a.member_mention{color:#175199;}.css-14bz7qe a.member_mention:hover{border-bottom:1px solid #175199;}.css-14bz7qe p{margin:1.4em 0;}.css-14bz7qe p.ztext-empty-paragraph{margin:calc((2.8em- (1.4em * 2 + 1.6em)) / 2) 0;}.css-14bz7qe p.ztext-empty-paragraph + .ztext-empty-paragraph{margin:1.4em 0;}.css-14bz7qe hr{margin:4em auto;width:240px;max-width:100%;border:none;border-top:1px solid #D3D3D3;}.css-14bz7qe img[eeimg]{max-width:100%;vertical-align:middle;}.css-14bz7qe img[eeimg=\"1\"]{margin:0 3px;display:inline-block;}.css-14bz7qe img[eeimg=\"2\"]{margin:1.4em 0;display:block;}.css-14bz7qe blockquote{margin:1.4em 0;padding-left:1em;color:#646464;border-left:3px solid #D3D3D3;}.css-14bz7qe ol,.css-14bz7qe ul{margin:1.4em 0;padding:0;}.css-14bz7qe ol ol,.css-14bz7qe ul ol,.css-14bz7qe ol ul,.css-14bz7qe ul ul{margin:0;}.css-14bz7qe ol > ol,.css-14bz7qe ul > ol,.css-14bz7qe ol > ul,.css-14bz7qe ul > ul{display:table-row;}.css-14bz7qe ol > ol::before,.css-14bz7qe ul > ol::before,.css-14bz7qe ol > ul::before,.css-14bz7qe ul > ul::before{display:table-cell;content:'';}.css-14bz7qe ul{display:table;}.css-14bz7qe ul>li{display:table-row;list-style:none;}.css-14bz7qe ul>li::before{display:table-cell;content:'•  ';white-space:pre;}.css-14bz7qe ol{display:table;counter-reset:ol;}.css-14bz7qe ol > li{display:table-row;list-style:none;}.css-14bz7qe ol > li::before{display:table-cell;text-align:right;counter-increment:ol;content:counter(ol) '. ';white-space:pre;}.css-14bz7qe ol ol{counter-reset:ol2;}.css-14bz7qe ol ol li::before{counter-increment:ol2;content:counter(ol2) '. ';}.css-14bz7qe ol ol ol{counter-reset:ol3;}.css-14bz7qe ol ol ol li::before{counter-increment:ol3;content:counter(ol3) '. ';}.css-14bz7qe ol ol ol ol{counter-reset:ol4;}.css-14bz7qe ol ol ol ol li::before{counter-increment:ol4;content:counter(ol4) '. ';}.css-14bz7qe figure{margin:1.4em 0;}.css-14bz7qe figure .content_image,.css-14bz7qe figure .origin_image{margin:0 auto;}.css-14bz7qe figure figcaption{margin-top:calc(0.6em / 0.9);padding:0 1em;font-size:0.9em;line-height:1.5;text-align:center;color:#999999;}.css-14bz7qe figure + figure{margin-top:calc(1.4em * 1.6);}.css-14bz7qe figure[data-size='small'],.css-14bz7qe figure:not([data-size]) > [data-size='small']{clear:both;}.css-14bz7qe figure[data-size='left'],.css-14bz7qe figure:not([data-size]) > [data-size='left']{float:left;margin:0 20px 20px 0;max-width:33%;}.css-14bz7qe figure[data-size='right'],.css-14bz7qe figure:not([data-size]) > [data-size='right']{float:right;margin:0 0 20px 20px;max-width:33%;}.css-14bz7qe figure[data-size='collapse']{margin-bottom:0;}.css-14bz7qe figure[data-size='collapse'] + figure{margin-top:0;}.css-14bz7qe .content_image,.css-14bz7qe .origin_image{display:block;max-width:100%;margin:1.4em auto;}.css-14bz7qe .content_image[data-size='small'],.css-14bz7qe .origin_image[data-size='small']{max-width:40%;}.css-14bz7qe .content_image.zh-lightbox-thumb,.css-14bz7qe .origin_image.zh-lightbox-thumb{cursor:-webkit-zoom-in;cursor:-moz-zoom-in;cursor:zoom-in;}.css-14bz7qe code{margin:0 2px;padding:3px 4px;border-radius:3px;font-size:0.9em;background-color:#F6F6F6;}.css-14bz7qe pre{margin:1.4em 0;padding:calc(0.8em / 0.9);font-size:0.9em;word-break:initial;word-wrap:initial;white-space:pre;overflow:auto;-webkit-overflow-scrolling:touch;background:#F6F6F6;border-radius:4px;}.css-14bz7qe pre code{margin:0;padding:0;font-size:inherit;border-radius:0;background-color:inherit;}.css-14bz7qe li pre{white-space:pre-wrap;}.css-14bz7qe table[data-draft-type='table']{border-collapse:collapse;font-size:15px;margin:1.4em auto;max-width:100%;table-layout:fixed;text-align:left;width:100%;}.css-14bz7qe table[data-draft-type='table'][data-size='small']{min-width:260px;width:40%;}.css-14bz7qe table[data-draft-type='table'][data-row-style='striped'] tr:nth-of-type(2n + 1){background:#F6F6F6;}.css-14bz7qe table[data-draft-type='table'] td,.css-14bz7qe table[data-draft-type='table'] th{border:1px solid #D3D3D3;line-height:24px;height:24px;padding:3px 12px;}.css-14bz7qe table[data-draft-type='table'] th{background:#EBEBEB;color:#121212;font-weight:500;}.css-14bz7qe .video-box,.css-14bz7qe .link-box{position:relative;display:-webkit-box;display:-webkit-flex;display:-ms-flexbox;display:flex;-webkit-box-pack:justify;-webkit-justify-content:space-between;-ms-flex-pack:justify;justify-content:space-between;margin:1.4em 0;overflow:auto;white-space:normal;cursor:pointer;border:solid 1px #EBEBEB;border-radius:4px;}.css-14bz7qe .highlight{margin:1em 0;}.css-14bz7qe .highlight pre{margin:0;}.css-14bz7qe .highlight .hll{background-color:#FDFDFD;}.css-14bz7qe .highlight .c{font-style:italic;color:#999999;}.css-14bz7qe .highlight .err{color:#F1403C;}.css-14bz7qe .highlight .k{font-weight:600;}.css-14bz7qe .highlight .o{font-weight:600;}.css-14bz7qe .highlight .cm{font-style:italic;color:#999999;}.css-14bz7qe .highlight .cp{font-weight:600;color:#999999;}.css-14bz7qe .highlight .c1{font-style:italic;color:#999999;}.css-14bz7qe .highlight .cs{font-style:italic;font-weight:600;color:#999999;}.css-14bz7qe .highlight .gd{color:#FF3366;}.css-14bz7qe .highlight .ge{font-style:italic;}.css-14bz7qe .highlight .gr{color:#F1403C;}.css-14bz7qe .highlight .gh{color:#999999;}.css-14bz7qe .highlight .gi{color:#12b370;}.css-14bz7qe .highlight .go{color:#808080;}.css-14bz7qe .highlight .gp{color:#646464;}.css-14bz7qe .highlight .gs{font-weight:600;}.css-14bz7qe .highlight .gu{color:#999999;}.css-14bz7qe .highlight .gt{color:#F1403C;}.css-14bz7qe .highlight .kc{font-weight:600;}.css-14bz7qe .highlight .kd{font-weight:600;}.css-14bz7qe .highlight .kn{font-weight:600;}.css-14bz7qe .highlight .kp{font-weight:600;}.css-14bz7qe .highlight .kr{font-weight:600;}.css-14bz7qe .highlight .kt{font-weight:600;color:#175199;}.css-14bz7qe .highlight .m{color:#0066FF;}.css-14bz7qe .highlight .s{color:#F1403C;}.css-14bz7qe .highlight .na{color:#0066FF;}.css-14bz7qe .highlight .nb{color:#0066FF;}.css-14bz7qe .highlight .nc{font-weight:600;color:#175199;}.css-14bz7qe .highlight .no{color:#0066FF;}.css-14bz7qe .highlight .ni{color:#5555DD;}.css-14bz7qe .highlight .ne{font-weight:600;color:#F1403C;}.css-14bz7qe .highlight .nf{font-weight:600;color:#F1403C;}.css-14bz7qe .highlight .nn{color:#646464;}.css-14bz7qe .highlight .nt{color:#175199;}.css-14bz7qe .highlight .nv{color:#0066FF;}.css-14bz7qe .highlight .ow{font-weight:600;}.css-14bz7qe .highlight .w{color:#BFBFBF;}.css-14bz7qe .highlight .mf{color:#0066FF;}.css-14bz7qe .highlight .mh{color:#0066FF;}.css-14bz7qe .highlight .mi{color:#0066FF;}.css-14bz7qe .highlight .mo{color:#0066FF;}.css-14bz7qe .highlight .sb{color:#F1403C;}.css-14bz7qe .highlight .sc{color:#F1403C;}.css-14bz7qe .highlight .sd{color:#F1403C;}.css-14bz7qe .highlight .s2{color:#F1403C;}.css-14bz7qe .highlight .se{color:#F1403C;}.css-14bz7qe .highlight .sh{color:#F1403C;}.css-14bz7qe .highlight .si{color:#F1403C;}.css-14bz7qe .highlight .sx{color:#F1403C;}.css-14bz7qe .highlight .sr{color:#A5542F;}.css-14bz7qe .highlight .s1{color:#F1403C;}.css-14bz7qe .highlight .ss{color:#F1403C;}.css-14bz7qe .highlight .bp{color:#999999;}.css-14bz7qe .highlight .vc{color:#0066FF;}.css-14bz7qe .highlight .vg{color:#0066FF;}.css-14bz7qe .highlight .vi{color:#0066FF;}.css-14bz7qe .highlight .il{color:#0066FF;}.css-14bz7qe .highlight::-webkit-scrollbar{width:6px;height:6px;}.css-14bz7qe .highlight::-webkit-scrollbar-thumb:horizontal{background-color:rgba(18,18,18,0.5);border-radius:6px;}.css-14bz7qe .highlight::-webkit-scrollbar-thumb:horizontal:hover{background-color:rgba(18,18,18,0.6);}.css-14bz7qe .LinkCard.old{position:relative;display:block;margin:1em auto;width:390px;box-sizing:border-box;border-radius:12px;max-width:100%;overflow:hidden;}.css-14bz7qe .LinkCard.old,.css-14bz7qe .LinkCard.old:hover{-webkit-text-decoration:none;text-decoration:none;border:none !important;color:inherit !important;}.css-14bz7qe .LinkCard-ecommerceLoadingCard{position:relative;display:-webkit-box;display:-webkit-flex;display:-ms-flexbox;display:flex;-webkit-align-items:center;-webkit-box-align:center;-ms-flex-align:center;align-items:center;-webkit-box-pack:justify;-webkit-justify-content:space-between;-ms-flex-pack:justify;justify-content:space-between;padding:12px;border-radius:inherit;height:80px;box-sizing:border-box;background:rgba(246,246,246,0.88);color:#D3D3D3;}.css-14bz7qe .LinkCard-ecommerceLoadingCardAvatarWrapper{width:60px;height:60px;background:#EBEBEB;display:-webkit-box;display:-webkit-flex;display:-ms-flexbox;display:flex;-webkit-align-items:center;-webkit-box-align:center;-ms-flex-align:center;align-items:center;-webkit-box-pack:center;-webkit-justify-content:center;-ms-flex-pack:center;justify-content:center;border-radius:6px;margin-right:10px;}.css-14bz7qe .LinkCard-ecommerceLoadingCardNetwork{width:20px;height:20px;}.css-14bz7qe .LinkCard-ecommerceLoadingCardLoadingbar{height:60px;-webkit-flex:1;-ms-flex:1;flex:1;display:-webkit-box;display:-webkit-flex;display:-ms-flexbox;display:flex;-webkit-flex-direction:column;-ms-flex-direction:column;flex-direction:column;}.css-14bz7qe .LinkCard-ecommerceLoadingCardLoadingbar span{height:16px;display:inline-block;background:#EBEBEB;}.css-14bz7qe .LinkCard-ecommerceLoadingCardLoadingbar span:nth-of-type(1){width:60px;margin-bottom:4px;}.css-14bz7qe .LinkCard-ecommerceLoadingCardLoadingbar span:nth-of-type(2){width:127px;}.css-14bz7qe .LinkCard.new{position:relative;display:-webkit-box;display:-webkit-flex;display:-ms-flexbox;display:flex;box-sizing:border-box;-webkit-flex-direction:row;-ms-flex-direction:row;flex-direction:row;-webkit-align-items:center;-webkit-box-align:center;-ms-flex-align:center;align-items:center;width:390px;min-height:84px;border-radius:8px;max-width:100%;overflow:hidden;margin:16px auto;padding:12px 12px 9px 12px;background-color:#F6F6F6;}.css-14bz7qe .LinkCard.new,.css-14bz7qe .LinkCard.new:hover{-webkit-text-decoration:none;text-decoration:none;border:none !important;color:inherit !important;}.css-14bz7qe .LinkCard.new .LinkCard-contents{display:block;-webkit-flex:1 1 auto;-ms-flex:1 1 auto;flex:1 1 auto;position:relative;}.css-14bz7qe .LinkCard.new .LinkCard-contents .loading{height:14px;background:#EBEBEB;border-radius:7px;}.css-14bz7qe .LinkCard.new .LinkCard-contents.withTitle{margin-bottom:3px;}.css-14bz7qe .LinkCard.new .LinkCard-title{display:-webkit-box;font-size:15px;font-weight:500;line-height:1.4;margin-bottom:2px;color:#121212;text-overflow:ellipsis;overflow:hidden;-webkit-box-orient:vertical;-webkit-line-clamp:1;}.css-14bz7qe .LinkCard.new .LinkCard-title.two-line{line-height:20px;display:-webkit-box;text-overflow:ellipsis;overflow:hidden;-webkit-box-orient:vertical;-webkit-line-clamp:2;}.css-14bz7qe .LinkCard.new .LinkCard-title.loading{margin-bottom:8px;width:80%;}.css-14bz7qe .LinkCard.new .LinkCard-title.loading.withTitle{margin-bottom:6px;}.css-14bz7qe .LinkCard.new .LinkCard-title.loadingTitle{margin-bottom:5px;}.css-14bz7qe .LinkCard.new .LinkCard-excerpt{display:-webkit-box;text-overflow:ellipsis;font-size:13px;line-height:18px;color:#999999;margin-bottom:4px;overflow:hidden;-webkit-box-orient:vertical;-webkit-line-clamp:1;}.css-14bz7qe .LinkCard.new .LinkCard-excerpt .LinkCard-author{color:#444444;}.css-14bz7qe .LinkCard.new .LinkCard-desc{display:-webkit-box;font-size:13px;height:18px;line-height:18px;color:#999999;word-break:break-all;text-overflow:ellipsis;overflow:hidden;-webkit-box-orient:vertical;-webkit-line-clamp:1;}.css-14bz7qe .LinkCard.new .LinkCard-desc .LinkCard-tag,.css-14bz7qe .LinkCard.new .LinkCard-desc .tag{display:inline-block;font-size:11px;margin-left:8px;padding:0 4px;border-radius:3px;background:rgba(211,211,211,0.3);}.css-14bz7qe .LinkCard.new .LinkCard-desc.loading{width:40%;}.css-14bz7qe .LinkCard.new .LinkCard-desc svg{margin-right:2px;}.css-14bz7qe .LinkCard.new .LinkCard-image{-webkit-flex:0 0 auto;-ms-flex:0 0 auto;flex:0 0 auto;background-color:#EBEBEB;background-size:cover;background-position:center;position:relative;display:block;width:60px;height:60px;margin-left:20px;object-fit:cover;border-radius:inherit;overflow:hidden;}.css-14bz7qe .LinkCard.new .LinkCard-image.LinkCard-image--default{display:-webkit-box;display:-webkit-flex;display:-ms-flexbox;display:flex;-webkit-align-items:center;-webkit-box-align:center;-ms-flex-align:center;align-items:center;-webkit-box-pack:center;-webkit-justify-content:center;-ms-flex-pack:center;justify-content:center;background-color:#EBEBEB;color:#D3D3D3;}.css-14bz7qe .LinkCard.new .LinkCard-image.LinkCard-image--default svg{color:#999999;}.css-14bz7qe .LinkCard.new .LinkCard-image img{width:100%;height:100%;object-fit:cover;}.css-14bz7qe .LinkCard.new .LinkCard-image .LinkCard-image--video{display:-webkit-box;display:-webkit-flex;display:-ms-flexbox;display:flex;-webkit-align-items:center;-webkit-box-align:center;-ms-flex-align:center;align-items:center;-webkit-box-pack:center;-webkit-justify-content:center;-ms-flex-pack:center;justify-content:center;position:absolute;top:50%;left:50%;-webkit-transform:translateX(-50%) translateY(-50%);-ms-transform:translateX(-50%) translateY(-50%);transform:translateX(-50%) translateY(-50%);width:24px;height:24px;border-radius:12px;background:rgba(255,255,255,0.9);pointer-events:none;}.css-14bz7qe .LinkCard.new .LinkCard-image .LinkCard-image--video svg{color:#444444;}.css-14bz7qe .LinkCard.new .LinkCard-richText .text{color:#444444;}.css-14bz7qe .LinkCard.new .LinkCard-richText .bold{font-weight:600;}.css-14bz7qe .LinkCard.new .LinkCard-richText .tag{margin-left:4px;}.css-14bz7qe .FileLinkCard{-webkit-align-items:center;-webkit-box-align:center;-ms-flex-align:center;align-items:center;background-color:rgba(246,246,246,0.88);border-radius:12px;box-sizing:border-box;display:-webkit-box;display:-webkit-flex;display:-ms-flexbox;display:flex;margin:1em auto;max-width:100%;overflow:hidden;padding:12px;position:relative;width:390px;}.css-14bz7qe .FileLinkCard-icon{-webkit-flex-shrink:0;-ms-flex-negative:0;flex-shrink:0;height:30px;width:30px;}.css-14bz7qe .FileLinkCard-info{margin-left:12px;}.css-14bz7qe .FileLinkCard-name{color:#121212;font-size:15px;font-weight:500;line-height:21px;display:-webkit-box;text-overflow:ellipsis;overflow:hidden;-webkit-box-orient:vertical;-webkit-line-clamp:2;}.css-14bz7qe .FileLinkCard-meta{color:#999999;font-size:12px;display:-webkit-box;display:-webkit-flex;display:-ms-flexbox;display:flex;line-height:14px;margin-top:5px;}.css-14bz7qe .FileLinkCard-source{white-space:pre;}@-webkit-keyframes animation-1sh55c5{from{opacity:0;}to{opacity:1;}}@keyframes animation-1sh55c5{from{opacity:0;}to{opacity:1;}}</style><span class=\"RichText ztext CopyrightRichText-richText css-14bz7qe\" options=\"[object Object]\" itemProp=\"text\">宝之大者：通报批评我校多位同学在高考期间，未按照学校相关规定进行考试。 高三（3）班的 元歌同学使用傀儡替考，本体在教室外面使用作业帮。被发现后自称“哪一个才是真正的我，我自己也搞不明白”。高三（8）班的 兰陵王同学在考试期间多次从座位上消失，随后全班同学头上都冒出了惊叹号。高三（2）班的 梦奇同学，在老师询问其姓名时含糊其辞，被取消考试资格。高三（3）班的 盾山同学，因为同样的原因，也被取消考试资格。高三（6）班…</span><button type=\"button\" class=\"Button ContentItem-more Button--plain\">阅读全文<span style=\"display:inline-flex;align-items:center\">​<svg width=\"24\" height=\"24\" viewBox=\"0 0 24 24\" data-new-api=\"ArrowDownSmall24\" data-old-api=\"ArrowDown\" class=\"Zi Zi--ArrowDown ContentItem-arrowIcon\" fill=\"currentColor\"><path d=\"M12 13.248L8.22 9.223a.684.684 0 00-1.01 0 .796.796 0 000 1.075l4.15 4.42a.867.867 0 001.28 0l4.15-4.42a.796.796 0 000-1.075.684.684 0 00-1.01 0L12 13.248z\" fill-rule=\"evenodd\" clip-rule=\"evenodd\"></path></svg></span></button></div><div class=\"ContentItem-actions\"><span><button aria-label=\"赞同 2.8 万\" aria-live=\"polite\" type=\"button\" class=\"Button VoteButton VoteButton--up\"><span style=\"display:inline-flex;align-items:center\">​<svg width=\"10\" height=\"10\" viewBox=\"0 0 24 24\" data-new-api=\"AgreeFill24\" data-old-api=\"TriangleUp\" class=\"Zi Zi--TriangleUp VoteButton-TriangleUp\" fill=\"currentColor\"><path d=\"M13.792 3.681c-.781-1.406-2.803-1.406-3.584 0l-7.79 14.023c-.76 1.367.228 3.046 1.791 3.046h15.582c1.563 0 2.55-1.68 1.791-3.046l-7.79-14.023z\" fill-rule=\"evenodd\" clip-rule=\"evenodd\"></path></svg></span>赞同 2.8 万</button><button aria-label=\"反对\" aria-live=\"polite\" type=\"button\" class=\"Button VoteButton VoteButton--down\"><span style=\"display:inline-flex;align-items:center\">​<svg width=\"10\" height=\"10\" viewBox=\"0 0 24 24\" data-new-api=\"OpposeFill24\" data-old-api=\"TriangleDown\" class=\"Zi Zi--TriangleDown\" fill=\"currentColor\"><path d=\"M13.792 20.319c-.781 1.406-2.803 1.406-3.584 0L2.418 6.296c-.76-1.367.228-3.046 1.791-3.046h15.582c1.563 0 2.55 1.68 1.791 3.046l-7.79 14.023z\" fill-rule=\"evenodd\" clip-rule=\"evenodd\"></path></svg></span></button></span><button type=\"button\" class=\"Button ContentItem-action Button--plain Button--withIcon Button--withLabel\"><span style=\"display:inline-flex;align-items:center\">​<svg width=\"1.2em\" height=\"1.2em\" viewBox=\"0 0 24 24\" data-new-api=\"ChatBubbleFill24\" data-old-api=\"Comment\" class=\"Zi Zi--Comment Button-zi\" fill=\"currentColor\"><path d=\"M11.982 3C17.211 3 21 7.271 21 12.014c0 1.514-.441 3.072-1.215 4.496a.946.946 0 00-.063.813l.603 2.018c.135.487-.279.847-.738.703l-1.818-.54c-.495-.163-.882.044-1.341.324C15.114 20.602 13.476 21 12 21c-4.464 0-9-3.452-9-9.014C3 7.19 6.87 3 11.982 3z\"></path></svg></span>852 条评论</button><div class=\"Popover ShareMenu ContentItem-action\"><div class=\"ShareMenu-toggler\" id=\"null-toggle\" aria-haspopup=\"true\" aria-expanded=\"false\" aria-owns=\"null-content\"><button type=\"button\" class=\"Button Button--plain Button--withIcon Button--withLabel\"><span style=\"display:inline-flex;align-items:center\">​<svg width=\"1.2em\" height=\"1.2em\" viewBox=\"0 0 24 24\" data-new-api=\"PaperplaneFill24\" data-old-api=\"Share\" class=\"Zi Zi--Share Button-zi\" fill=\"currentColor\"><path d=\"M20.223 1.881a.8.8 0 011.205.778l-1.874 16.393a.9.9 0 01-1.204.742l-4.617-1.692a.7.7 0 00-.83.28l-1.929 3.021c-.43.674-1.474.37-1.474-.43v-3.866a.8.8 0 01.18-.505l5.809-7.15a.595.595 0 00-.897-.782l-5.933 6.357a1.1 1.1 0 01-1.257.251l-4.085-1.847a.8.8 0 01-.08-1.415L20.223 1.88z\"></path></svg></span>分享</button></div></div><button type=\"button\" class=\"Button ContentItem-action Button--plain Button--withIcon Button--withLabel\"><span style=\"display:inline-flex;align-items:center\">​<svg width=\"1.2em\" height=\"1.2em\" viewBox=\"0 0 24 24\" data-new-api=\"StarFill24\" data-old-api=\"Star\" class=\"Zi Zi--Star Button-zi\" fill=\"currentColor\"><path d=\"M10.484 3.307c.673-1.168 2.358-1.168 3.032 0l2.377 4.122a.25.25 0 00.165.12l4.655.987c1.319.28 1.84 1.882.937 2.884l-3.186 3.535a.25.25 0 00-.063.193l.5 4.733c.142 1.34-1.222 2.33-2.453 1.782l-4.346-1.938a.25.25 0 00-.204 0l-4.346 1.938c-1.231.549-2.595-.442-2.453-1.782l.5-4.733a.25.25 0 00-.064-.193L2.35 11.42c-.903-1.002-.382-2.604.937-2.884l4.655-.987a.25.25 0 00.164-.12l2.378-4.122z\"></path></svg></span>收藏</button><button aria-live=\"polite\" type=\"button\" class=\"Button ContentItem-action Button--plain Button--withIcon Button--withLabel\"><span style=\"display:inline-flex;align-items:center\">​<svg width=\"1.2em\" height=\"1.2em\" viewBox=\"0 0 24 24\" data-new-api=\"HeartFill24\" data-old-api=\"Heart\" class=\"Zi Zi--Heart Button-zi\" fill=\"currentColor\"><path d=\"M12.004 4.934c1.015-.944 2.484-1.618 3.98-1.618 3.48 0 6.53 3.265 6.15 7.614-.11 1.254-.686 2.55-1.458 3.753-.778 1.215-1.79 2.392-2.845 3.419-1.054 1.028-2.168 1.923-3.161 2.566a9.96 9.96 0 01-1.41.777c-.418.182-.862.32-1.268.32s-.848-.137-1.267-.317a9.918 9.918 0 01-1.407-.771c-.992-.64-2.103-1.53-3.156-2.555-1.052-1.024-2.062-2.2-2.84-3.417-.77-1.208-1.346-2.51-1.456-3.775-.38-4.349 2.67-7.614 6.15-7.614 1.484 0 2.983.673 3.988 1.618z\" fill-rule=\"evenodd\" clip-rule=\"evenodd\"></path></svg></span>喜欢</button><div class=\"Popover ContentItem-action\"><button aria-label=\"更多\" id=\"null-toggle\" aria-haspopup=\"true\" aria-expanded=\"false\" aria-owns=\"null-content\" type=\"button\" class=\"Button OptionsButton Button--plain Button--withIcon Button--iconOnly\"><span style=\"display:inline-flex;align-items:center\">​<svg width=\"1.2em\" height=\"1.2em\" viewBox=\"0 0 24 24\" data-new-api=\"Dots24\" data-old-api=\"Dots\" class=\"Zi Zi--Dots Button-zi\" fill=\"currentColor\"><path d=\"M5.34 12a1.665 1.665 0 11-3.33 0 1.665 1.665 0 013.33 0zm8.325 0a1.665 1.665 0 11-3.33 0 1.665 1.665 0 013.33 0zm8.325 0a1.665 1.665 0 11-3.33 0 1.665 1.665 0 013.33 0z\"></path></svg></span></button></div></div></div><div><div><div class=\"\"></div><div class=\"ModalLoading-content\"><svg width=\"30\" height=\"30\" viewBox=\"0 0 66 66\" xmlns=\"http://www.w3.org/2000/svg\" class=\"CircleLoadingBar\" aria-hidden=\"true\"><g><circle class=\"path\" fill=\"none\" stroke-width=\"6\" stroke-linecap=\"round\" cx=\"33\" cy=\"33\" r=\"30\"></circle></g></svg></div></div></div></div></div></div></div><div class=\"Card TopstoryItem TopstoryItem-isRecommend\" tabindex=\"0\"><div class=\"Feed\"><div><div class=\"ContentItem AnswerItem\" data-zop=\"{&quot;authorName&quot;:&quot;哈喽树先生&quot;,&quot;itemId&quot;:2460294022,&quot;title&quot;:&quot;如何看待年轻人“躺平”的现象？&quot;,&quot;type&quot;:&quot;answer&quot;}\" name=\"2460294022\" itemProp=\"answer\" itemType=\"http://schema.org/Answer\" itemscope=\"\"><h2 class=\"ContentItem-title\"><div itemProp=\"zhihu:question\" itemType=\"http://schema.org/Question\" itemscope=\"\"><meta itemProp=\"url\" content=\"https://www.zhihu.com/question/459392094\"/><meta itemProp=\"name\" content=\"如何看待年轻人“躺平”的现象？\"/><a target=\"_blank\" data-za-detail-view-element_name=\"Title\" data-za-detail-view-id=\"2812\" href=\"//www.zhihu.com/question/459392094/answer/2460294022\">如何看待年轻人“躺平”的现象？</a></div></h2><meta itemProp=\"image\"/><meta itemProp=\"upvoteCount\" content=\"6000\"/><meta itemProp=\"url\" content=\"https://www.zhihu.com/question/459392094/answer/2460294022\"/><meta itemProp=\"dateCreated\" content=\"2022-04-27T09:51:28.000Z\"/><meta itemProp=\"dateModified\" content=\"2022-05-06T14:01:49.000Z\"/><meta itemProp=\"commentCount\" content=\"430\"/><div class=\"RichContent is-collapsed\"><div class=\"RichContent-inner\"><style data-emotion-css=\"3jt6os\">.css-3jt6os .FileLinkCard{-webkit-align-items:center;-webkit-box-align:center;-ms-flex-align:center;align-items:center;background-color:rgba(246,246,246,0.88);border-radius:12px;box-sizing:border-box;display:-webkit-box;display:-webkit-flex;display:-ms-flexbox;display:flex;margin:1em auto;max-width:100%;overflow:hidden;padding:12px;position:relative;width:390px;}.css-3jt6os .FileLinkCard-icon{-webkit-flex-shrink:0;-ms-flex-negative:0;flex-shrink:0;height:30px;width:30px;}.css-3jt6os .FileLinkCard-info{margin-left:12px;}.css-3jt6os .FileLinkCard-name{color:#121212;font-size:15px;font-weight:500;line-height:21px;display:-webkit-box;text-overflow:ellipsis;overflow:hidden;-webkit-box-orient:vertical;-webkit-line-clamp:2;}.css-3jt6os .FileLinkCard-meta{color:#999999;font-size:12px;display:-webkit-box;display:-webkit-flex;display:-ms-flexbox;display:flex;line-height:14px;margin-top:5px;}.css-3jt6os .FileLinkCard-source{white-space:pre;}</style><style data-emotion-css=\"1wr1m8\">.css-1wr1m8 .LinkCard.new{position:relative;display:-webkit-box;display:-webkit-flex;display:-ms-flexbox;display:flex;box-sizing:border-box;-webkit-flex-direction:row;-ms-flex-direction:row;flex-direction:row;-webkit-align-items:center;-webkit-box-align:center;-ms-flex-align:center;align-items:center;width:390px;min-height:84px;border-radius:8px;max-width:100%;overflow:hidden;margin:16px auto;padding:12px 12px 9px 12px;background-color:#F6F6F6;}.css-1wr1m8 .LinkCard.new,.css-1wr1m8 .LinkCard.new:hover{-webkit-text-decoration:none;text-decoration:none;border:none !important;color:inherit !important;}.css-1wr1m8 .LinkCard.new .LinkCard-contents{display:block;-webkit-flex:1 1 auto;-ms-flex:1 1 auto;flex:1 1 auto;position:relative;}.css-1wr1m8 .LinkCard.new .LinkCard-contents .loading{height:14px;background:#EBEBEB;border-radius:7px;}.css-1wr1m8 .LinkCard.new .LinkCard-contents.withTitle{margin-bottom:3px;}.css-1wr1m8 .LinkCard.new .LinkCard-title{display:-webkit-box;font-size:15px;font-weight:500;line-height:1.4;margin-bottom:2px;color:#121212;text-overflow:ellipsis;overflow:hidden;-webkit-box-orient:vertical;-webkit-line-clamp:1;}.css-1wr1m8 .LinkCard.new .LinkCard-title.two-line{line-height:20px;display:-webkit-box;text-overflow:ellipsis;overflow:hidden;-webkit-box-orient:vertical;-webkit-line-clamp:2;}.css-1wr1m8 .LinkCard.new .LinkCard-title.loading{margin-bottom:8px;width:80%;}.css-1wr1m8 .LinkCard.new .LinkCard-title.loading.withTitle{margin-bottom:6px;}.css-1wr1m8 .LinkCard.new .LinkCard-title.loadingTitle{margin-bottom:5px;}.css-1wr1m8 .LinkCard.new .LinkCard-excerpt{display:-webkit-box;text-overflow:ellipsis;font-size:13px;line-height:18px;color:#999999;margin-bottom:4px;overflow:hidden;-webkit-box-orient:vertical;-webkit-line-clamp:1;}.css-1wr1m8 .LinkCard.new .LinkCard-excerpt .LinkCard-author{color:#444444;}.css-1wr1m8 .LinkCard.new .LinkCard-desc{display:-webkit-box;font-size:13px;height:18px;line-height:18px;color:#999999;word-break:break-all;text-overflow:ellipsis;overflow:hidden;-webkit-box-orient:vertical;-webkit-line-clamp:1;}.css-1wr1m8 .LinkCard.new .LinkCard-desc .LinkCard-tag,.css-1wr1m8 .LinkCard.new .LinkCard-desc .tag{display:inline-block;font-size:11px;margin-left:8px;padding:0 4px;border-radius:3px;background:rgba(211,211,211,0.3);}.css-1wr1m8 .LinkCard.new .LinkCard-desc.loading{width:40%;}.css-1wr1m8 .LinkCard.new .LinkCard-desc svg{margin-right:2px;}.css-1wr1m8 .LinkCard.new .LinkCard-image{-webkit-flex:0 0 auto;-ms-flex:0 0 auto;flex:0 0 auto;background-color:#EBEBEB;background-size:cover;background-position:center;position:relative;display:block;width:60px;height:60px;margin-left:20px;object-fit:cover;border-radius:inherit;overflow:hidden;}.css-1wr1m8 .LinkCard.new .LinkCard-image.LinkCard-image--default{display:-webkit-box;display:-webkit-flex;display:-ms-flexbox;display:flex;-webkit-align-items:center;-webkit-box-align:center;-ms-flex-align:center;align-items:center;-webkit-box-pack:center;-webkit-justify-content:center;-ms-flex-pack:center;justify-content:center;background-color:#EBEBEB;color:#D3D3D3;}.css-1wr1m8 .LinkCard.new .LinkCard-image.LinkCard-image--default svg{color:#999999;}.css-1wr1m8 .LinkCard.new .LinkCard-image img{width:100%;height:100%;object-fit:cover;}.css-1wr1m8 .LinkCard.new .LinkCard-image .LinkCard-image--video{display:-webkit-box;display:-webkit-flex;display:-ms-flexbox;display:flex;-webkit-align-items:center;-webkit-box-align:center;-ms-flex-align:center;align-items:center;-webkit-box-pack:center;-webkit-justify-content:center;-ms-flex-pack:center;justify-content:center;position:absolute;top:50%;left:50%;-webkit-transform:translateX(-50%) translateY(-50%);-ms-transform:translateX(-50%) translateY(-50%);transform:translateX(-50%) translateY(-50%);width:24px;height:24px;border-radius:12px;background:rgba(255,255,255,0.9);pointer-events:none;}.css-1wr1m8 .LinkCard.new .LinkCard-image .LinkCard-image--video svg{color:#444444;}.css-1wr1m8 .LinkCard.new .LinkCard-richText .text{color:#444444;}.css-1wr1m8 .LinkCard.new .LinkCard-richText .bold{font-weight:600;}.css-1wr1m8 .LinkCard.new .LinkCard-richText .tag{margin-left:4px;}.css-1wr1m8 .LinkCard.old{position:relative;display:block;margin:1em auto;width:390px;box-sizing:border-box;border-radius:12px;max-width:100%;overflow:hidden;}.css-1wr1m8 .LinkCard.old,.css-1wr1m8 .LinkCard.old:hover{-webkit-text-decoration:none;text-decoration:none;border:none !important;color:inherit !important;}.css-1wr1m8 .LinkCard-ecommerceLoadingCard{position:relative;display:-webkit-box;display:-webkit-flex;display:-ms-flexbox;display:flex;-webkit-align-items:center;-webkit-box-align:center;-ms-flex-align:center;align-items:center;-webkit-box-pack:justify;-webkit-justify-content:space-between;-ms-flex-pack:justify;justify-content:space-between;padding:12px;border-radius:inherit;height:80px;box-sizing:border-box;background:rgba(246,246,246,0.88);color:#D3D3D3;}.css-1wr1m8 .LinkCard-ecommerceLoadingCardAvatarWrapper{width:60px;height:60px;background:#EBEBEB;display:-webkit-box;display:-webkit-flex;display:-ms-flexbox;display:flex;-webkit-align-items:center;-webkit-box-align:center;-ms-flex-align:center;align-items:center;-webkit-box-pack:center;-webkit-justify-content:center;-ms-flex-pack:center;justify-content:center;border-radius:6px;margin-right:10px;}.css-1wr1m8 .LinkCard-ecommerceLoadingCardNetwork{width:20px;height:20px;}.css-1wr1m8 .LinkCard-ecommerceLoadingCardLoadingbar{height:60px;-webkit-flex:1;-ms-flex:1;flex:1;display:-webkit-box;display:-webkit-flex;display:-ms-flexbox;display:flex;-webkit-flex-direction:column;-ms-flex-direction:column;flex-direction:column;}.css-1wr1m8 .LinkCard-ecommerceLoadingCardLoadingbar span{height:16px;display:inline-block;background:#EBEBEB;}.css-1wr1m8 .LinkCard-ecommerceLoadingCardLoadingbar span:nth-of-type(1){width:60px;margin-bottom:4px;}.css-1wr1m8 .LinkCard-ecommerceLoadingCardLoadingbar span:nth-of-type(2){width:127px;}</style><style data-emotion-css=\"hypxot\">.css-hypxot .LinkCard.old{position:relative;display:block;margin:1em auto;width:390px;box-sizing:border-box;border-radius:12px;max-width:100%;overflow:hidden;}.css-hypxot .LinkCard.old,.css-hypxot .LinkCard.old:hover{-webkit-text-decoration:none;text-decoration:none;border:none !important;color:inherit !important;}.css-hypxot .LinkCard-ecommerceLoadingCard{position:relative;display:-webkit-box;display:-webkit-flex;display:-ms-flexbox;display:flex;-webkit-align-items:center;-webkit-box-align:center;-ms-flex-align:center;align-items:center;-webkit-box-pack:justify;-webkit-justify-content:space-between;-ms-flex-pack:justify;justify-content:space-between;padding:12px;border-radius:inherit;height:80px;box-sizing:border-box;background:rgba(246,246,246,0.88);color:#D3D3D3;}.css-hypxot .LinkCard-ecommerceLoadingCardAvatarWrapper{width:60px;height:60px;background:#EBEBEB;display:-webkit-box;display:-webkit-flex;display:-ms-flexbox;display:flex;-webkit-align-items:center;-webkit-box-align:center;-ms-flex-align:center;align-items:center;-webkit-box-pack:center;-webkit-justify-content:center;-ms-flex-pack:center;justify-content:center;border-radius:6px;margin-right:10px;}.css-hypxot .LinkCard-ecommerceLoadingCardNetwork{width:20px;height:20px;}.css-hypxot .LinkCard-ecommerceLoadingCardLoadingbar{height:60px;-webkit-flex:1;-ms-flex:1;flex:1;display:-webkit-box;display:-webkit-flex;display:-ms-flexbox;display:flex;-webkit-flex-direction:column;-ms-flex-direction:column;flex-direction:column;}.css-hypxot .LinkCard-ecommerceLoadingCardLoadingbar span{height:16px;display:inline-block;background:#EBEBEB;}.css-hypxot .LinkCard-ecommerceLoadingCardLoadingbar span:nth-of-type(1){width:60px;margin-bottom:4px;}.css-hypxot .LinkCard-ecommerceLoadingCardLoadingbar span:nth-of-type(2){width:127px;}.css-hypxot .LinkCard.new{position:relative;display:-webkit-box;display:-webkit-flex;display:-ms-flexbox;display:flex;box-sizing:border-box;-webkit-flex-direction:row;-ms-flex-direction:row;flex-direction:row;-webkit-align-items:center;-webkit-box-align:center;-ms-flex-align:center;align-items:center;width:390px;min-height:84px;border-radius:8px;max-width:100%;overflow:hidden;margin:16px auto;padding:12px 12px 9px 12px;background-color:#F6F6F6;}.css-hypxot .LinkCard.new,.css-hypxot .LinkCard.new:hover{-webkit-text-decoration:none;text-decoration:none;border:none !important;color:inherit !important;}.css-hypxot .LinkCard.new .LinkCard-contents{display:block;-webkit-flex:1 1 auto;-ms-flex:1 1 auto;flex:1 1 auto;position:relative;}.css-hypxot .LinkCard.new .LinkCard-contents .loading{height:14px;background:#EBEBEB;border-radius:7px;}.css-hypxot .LinkCard.new .LinkCard-contents.withTitle{margin-bottom:3px;}.css-hypxot .LinkCard.new .LinkCard-title{display:-webkit-box;font-size:15px;font-weight:500;line-height:1.4;margin-bottom:2px;color:#121212;text-overflow:ellipsis;overflow:hidden;-webkit-box-orient:vertical;-webkit-line-clamp:1;}.css-hypxot .LinkCard.new .LinkCard-title.two-line{line-height:20px;display:-webkit-box;text-overflow:ellipsis;overflow:hidden;-webkit-box-orient:vertical;-webkit-line-clamp:2;}.css-hypxot .LinkCard.new .LinkCard-title.loading{margin-bottom:8px;width:80%;}.css-hypxot .LinkCard.new .LinkCard-title.loading.withTitle{margin-bottom:6px;}.css-hypxot .LinkCard.new .LinkCard-title.loadingTitle{margin-bottom:5px;}.css-hypxot .LinkCard.new .LinkCard-excerpt{display:-webkit-box;text-overflow:ellipsis;font-size:13px;line-height:18px;color:#999999;margin-bottom:4px;overflow:hidden;-webkit-box-orient:vertical;-webkit-line-clamp:1;}.css-hypxot .LinkCard.new .LinkCard-excerpt .LinkCard-author{color:#444444;}.css-hypxot .LinkCard.new .LinkCard-desc{display:-webkit-box;font-size:13px;height:18px;line-height:18px;color:#999999;word-break:break-all;text-overflow:ellipsis;overflow:hidden;-webkit-box-orient:vertical;-webkit-line-clamp:1;}.css-hypxot .LinkCard.new .LinkCard-desc .LinkCard-tag,.css-hypxot .LinkCard.new .LinkCard-desc .tag{display:inline-block;font-size:11px;margin-left:8px;padding:0 4px;border-radius:3px;background:rgba(211,211,211,0.3);}.css-hypxot .LinkCard.new .LinkCard-desc.loading{width:40%;}.css-hypxot .LinkCard.new .LinkCard-desc svg{margin-right:2px;}.css-hypxot .LinkCard.new .LinkCard-image{-webkit-flex:0 0 auto;-ms-flex:0 0 auto;flex:0 0 auto;background-color:#EBEBEB;background-size:cover;background-position:center;position:relative;display:block;width:60px;height:60px;margin-left:20px;object-fit:cover;border-radius:inherit;overflow:hidden;}.css-hypxot .LinkCard.new .LinkCard-image.LinkCard-image--default{display:-webkit-box;display:-webkit-flex;display:-ms-flexbox;display:flex;-webkit-align-items:center;-webkit-box-align:center;-ms-flex-align:center;align-items:center;-webkit-box-pack:center;-webkit-justify-content:center;-ms-flex-pack:center;justify-content:center;background-color:#EBEBEB;color:#D3D3D3;}.css-hypxot .LinkCard.new .LinkCard-image.LinkCard-image--default svg{color:#999999;}.css-hypxot .LinkCard.new .LinkCard-image img{width:100%;height:100%;object-fit:cover;}.css-hypxot .LinkCard.new .LinkCard-image .LinkCard-image--video{display:-webkit-box;display:-webkit-flex;display:-ms-flexbox;display:flex;-webkit-align-items:center;-webkit-box-align:center;-ms-flex-align:center;align-items:center;-webkit-box-pack:center;-webkit-justify-content:center;-ms-flex-pack:center;justify-content:center;position:absolute;top:50%;left:50%;-webkit-transform:translateX(-50%) translateY(-50%);-ms-transform:translateX(-50%) translateY(-50%);transform:translateX(-50%) translateY(-50%);width:24px;height:24px;border-radius:12px;background:rgba(255,255,255,0.9);pointer-events:none;}.css-hypxot .LinkCard.new .LinkCard-image .LinkCard-image--video svg{color:#444444;}.css-hypxot .LinkCard.new .LinkCard-richText .text{color:#444444;}.css-hypxot .LinkCard.new .LinkCard-richText .bold{font-weight:600;}.css-hypxot .LinkCard.new .LinkCard-richText .tag{margin-left:4px;}.css-hypxot .FileLinkCard{-webkit-align-items:center;-webkit-box-align:center;-ms-flex-align:center;align-items:center;background-color:rgba(246,246,246,0.88);border-radius:12px;box-sizing:border-box;display:-webkit-box;display:-webkit-flex;display:-ms-flexbox;display:flex;margin:1em auto;max-width:100%;overflow:hidden;padding:12px;position:relative;width:390px;}.css-hypxot .FileLinkCard-icon{-webkit-flex-shrink:0;-ms-flex-negative:0;flex-shrink:0;height:30px;width:30px;}.css-hypxot .FileLinkCard-info{margin-left:12px;}.css-hypxot .FileLinkCard-name{color:#121212;font-size:15px;font-weight:500;line-height:21px;display:-webkit-box;text-overflow:ellipsis;overflow:hidden;-webkit-box-orient:vertical;-webkit-line-clamp:2;}.css-hypxot .FileLinkCard-meta{color:#999999;font-size:12px;display:-webkit-box;display:-webkit-flex;display:-ms-flexbox;display:flex;line-height:14px;margin-top:5px;}.css-hypxot .FileLinkCard-source{white-space:pre;}</style><style data-emotion-css=\"14bz7qe animation-1sh55c5\">.css-14bz7qe{word-break:break-word;line-height:1.6;}.css-14bz7qe a.UserLink-link{color:#175199;}.css-14bz7qe a.UserLink-link:hover{border-bottom:1px solid #175199;}.css-14bz7qe lazy[data-lazy-status]{background-color:#F6F6F6;}.css-14bz7qe lazy[data-lazy-status=\"ok\"]{background-color:transparent;-webkit-animation:animation-1sh55c5 0.5s ease-in;animation:animation-1sh55c5 0.5s ease-in;}.css-14bz7qe > [data-first-child]{margin-top:0;}.css-14bz7qe > :last-child{margin-bottom:0;}.css-14bz7qe h1,.css-14bz7qe h2{clear:left;margin-top:calc((1.4em * 2) / 1.2);margin-bottom:calc(1.4em / 1.2);font-size:1.2em;line-height:1.5;font-weight:600;}.css-14bz7qe h3,.css-14bz7qe h4,.css-14bz7qe h5,.css-14bz7qe h6{clear:left;margin-top:calc((1.4em * 1.5) / 1.1);margin-bottom:calc(1.4em / 1.1);font-size:1.1em;line-height:1.5;font-weight:600;}.css-14bz7qe u{-webkit-text-decoration:none;text-decoration:none;border-bottom:1px dashed #808080;}.css-14bz7qe b{font-weight:600;}.css-14bz7qe sup{font-size:0.8em;}.css-14bz7qe sup[data-draft-type='reference']{color:#175199;}.css-14bz7qe a:focus{outline:none;-webkit-transition:box-shadow 0.3s;transition:box-shadow 0.3s;}html[data-focus-visible] .css-14bz7qe a:focus{box-shadow:0 0 0 2px #FFFFFF,0 0 0 4px rgba(0,102,255,0.3);}.css-14bz7qe a.ztext-link,.css-14bz7qe a.internal,.css-14bz7qe a.external{-webkit-text-decoration:none;text-decoration:none;cursor:pointer;border-bottom:1px solid #808080;}.css-14bz7qe a.ztext-link:hover,.css-14bz7qe a.internal:hover,.css-14bz7qe a.external:hover{color:#175199;border-bottom:1px solid #175199;}.css-14bz7qe a.ztext-link > .ellipsis::after,.css-14bz7qe a.internal > .ellipsis::after,.css-14bz7qe a.external > .ellipsis::after{content:'...';}.css-14bz7qe a.ztext-link > .invisible,.css-14bz7qe a.internal > .invisible,.css-14bz7qe a.external > .invisible{font:0/0 a;color:transparent;text-shadow:none;background-color:transparent;}.css-14bz7qe a.ztext-link u,.css-14bz7qe a.internal u,.css-14bz7qe a.external u{border:none;}.css-14bz7qe a.member_mention{color:#175199;}.css-14bz7qe a.member_mention:hover{border-bottom:1px solid #175199;}.css-14bz7qe p{margin:1.4em 0;}.css-14bz7qe p.ztext-empty-paragraph{margin:calc((2.8em- (1.4em * 2 + 1.6em)) / 2) 0;}.css-14bz7qe p.ztext-empty-paragraph + .ztext-empty-paragraph{margin:1.4em 0;}.css-14bz7qe hr{margin:4em auto;width:240px;max-width:100%;border:none;border-top:1px solid #D3D3D3;}.css-14bz7qe img[eeimg]{max-width:100%;vertical-align:middle;}.css-14bz7qe img[eeimg=\"1\"]{margin:0 3px;display:inline-block;}.css-14bz7qe img[eeimg=\"2\"]{margin:1.4em 0;display:block;}.css-14bz7qe blockquote{margin:1.4em 0;padding-left:1em;color:#646464;border-left:3px solid #D3D3D3;}.css-14bz7qe ol,.css-14bz7qe ul{margin:1.4em 0;padding:0;}.css-14bz7qe ol ol,.css-14bz7qe ul ol,.css-14bz7qe ol ul,.css-14bz7qe ul ul{margin:0;}.css-14bz7qe ol > ol,.css-14bz7qe ul > ol,.css-14bz7qe ol > ul,.css-14bz7qe ul > ul{display:table-row;}.css-14bz7qe ol > ol::before,.css-14bz7qe ul > ol::before,.css-14bz7qe ol > ul::before,.css-14bz7qe ul > ul::before{display:table-cell;content:'';}.css-14bz7qe ul{display:table;}.css-14bz7qe ul>li{display:table-row;list-style:none;}.css-14bz7qe ul>li::before{display:table-cell;content:'•  ';white-space:pre;}.css-14bz7qe ol{display:table;counter-reset:ol;}.css-14bz7qe ol > li{display:table-row;list-style:none;}.css-14bz7qe ol > li::before{display:table-cell;text-align:right;counter-increment:ol;content:counter(ol) '. ';white-space:pre;}.css-14bz7qe ol ol{counter-reset:ol2;}.css-14bz7qe ol ol li::before{counter-increment:ol2;content:counter(ol2) '. ';}.css-14bz7qe ol ol ol{counter-reset:ol3;}.css-14bz7qe ol ol ol li::before{counter-increment:ol3;content:counter(ol3) '. ';}.css-14bz7qe ol ol ol ol{counter-reset:ol4;}.css-14bz7qe ol ol ol ol li::before{counter-increment:ol4;content:counter(ol4) '. ';}.css-14bz7qe figure{margin:1.4em 0;}.css-14bz7qe figure .content_image,.css-14bz7qe figure .origin_image{margin:0 auto;}.css-14bz7qe figure figcaption{margin-top:calc(0.6em / 0.9);padding:0 1em;font-size:0.9em;line-height:1.5;text-align:center;color:#999999;}.css-14bz7qe figure + figure{margin-top:calc(1.4em * 1.6);}.css-14bz7qe figure[data-size='small'],.css-14bz7qe figure:not([data-size]) > [data-size='small']{clear:both;}.css-14bz7qe figure[data-size='left'],.css-14bz7qe figure:not([data-size]) > [data-size='left']{float:left;margin:0 20px 20px 0;max-width:33%;}.css-14bz7qe figure[data-size='right'],.css-14bz7qe figure:not([data-size]) > [data-size='right']{float:right;margin:0 0 20px 20px;max-width:33%;}.css-14bz7qe figure[data-size='collapse']{margin-bottom:0;}.css-14bz7qe figure[data-size='collapse'] + figure{margin-top:0;}.css-14bz7qe .content_image,.css-14bz7qe .origin_image{display:block;max-width:100%;margin:1.4em auto;}.css-14bz7qe .content_image[data-size='small'],.css-14bz7qe .origin_image[data-size='small']{max-width:40%;}.css-14bz7qe .content_image.zh-lightbox-thumb,.css-14bz7qe .origin_image.zh-lightbox-thumb{cursor:-webkit-zoom-in;cursor:-moz-zoom-in;cursor:zoom-in;}.css-14bz7qe code{margin:0 2px;padding:3px 4px;border-radius:3px;font-size:0.9em;background-color:#F6F6F6;}.css-14bz7qe pre{margin:1.4em 0;padding:calc(0.8em / 0.9);font-size:0.9em;word-break:initial;word-wrap:initial;white-space:pre;overflow:auto;-webkit-overflow-scrolling:touch;background:#F6F6F6;border-radius:4px;}.css-14bz7qe pre code{margin:0;padding:0;font-size:inherit;border-radius:0;background-color:inherit;}.css-14bz7qe li pre{white-space:pre-wrap;}.css-14bz7qe table[data-draft-type='table']{border-collapse:collapse;font-size:15px;margin:1.4em auto;max-width:100%;table-layout:fixed;text-align:left;width:100%;}.css-14bz7qe table[data-draft-type='table'][data-size='small']{min-width:260px;width:40%;}.css-14bz7qe table[data-draft-type='table'][data-row-style='striped'] tr:nth-of-type(2n + 1){background:#F6F6F6;}.css-14bz7qe table[data-draft-type='table'] td,.css-14bz7qe table[data-draft-type='table'] th{border:1px solid #D3D3D3;line-height:24px;height:24px;padding:3px 12px;}.css-14bz7qe table[data-draft-type='table'] th{background:#EBEBEB;color:#121212;font-weight:500;}.css-14bz7qe .video-box,.css-14bz7qe .link-box{position:relative;display:-webkit-box;display:-webkit-flex;display:-ms-flexbox;display:flex;-webkit-box-pack:justify;-webkit-justify-content:space-between;-ms-flex-pack:justify;justify-content:space-between;margin:1.4em 0;overflow:auto;white-space:normal;cursor:pointer;border:solid 1px #EBEBEB;border-radius:4px;}.css-14bz7qe .highlight{margin:1em 0;}.css-14bz7qe .highlight pre{margin:0;}.css-14bz7qe .highlight .hll{background-color:#FDFDFD;}.css-14bz7qe .highlight .c{font-style:italic;color:#999999;}.css-14bz7qe .highlight .err{color:#F1403C;}.css-14bz7qe .highlight .k{font-weight:600;}.css-14bz7qe .highlight .o{font-weight:600;}.css-14bz7qe .highlight .cm{font-style:italic;color:#999999;}.css-14bz7qe .highlight .cp{font-weight:600;color:#999999;}.css-14bz7qe .highlight .c1{font-style:italic;color:#999999;}.css-14bz7qe .highlight .cs{font-style:italic;font-weight:600;color:#999999;}.css-14bz7qe .highlight .gd{color:#FF3366;}.css-14bz7qe .highlight .ge{font-style:italic;}.css-14bz7qe .highlight .gr{color:#F1403C;}.css-14bz7qe .highlight .gh{color:#999999;}.css-14bz7qe .highlight .gi{color:#12b370;}.css-14bz7qe .highlight .go{color:#808080;}.css-14bz7qe .highlight .gp{color:#646464;}.css-14bz7qe .highlight .gs{font-weight:600;}.css-14bz7qe .highlight .gu{color:#999999;}.css-14bz7qe .highlight .gt{color:#F1403C;}.css-14bz7qe .highlight .kc{font-weight:600;}.css-14bz7qe .highlight .kd{font-weight:600;}.css-14bz7qe .highlight .kn{font-weight:600;}.css-14bz7qe .highlight .kp{font-weight:600;}.css-14bz7qe .highlight .kr{font-weight:600;}.css-14bz7qe .highlight .kt{font-weight:600;color:#175199;}.css-14bz7qe .highlight .m{color:#0066FF;}.css-14bz7qe .highlight .s{color:#F1403C;}.css-14bz7qe .highlight .na{color:#0066FF;}.css-14bz7qe .highlight .nb{color:#0066FF;}.css-14bz7qe .highlight .nc{font-weight:600;color:#175199;}.css-14bz7qe .highlight .no{color:#0066FF;}.css-14bz7qe .highlight .ni{color:#5555DD;}.css-14bz7qe .highlight .ne{font-weight:600;color:#F1403C;}.css-14bz7qe .highlight .nf{font-weight:600;color:#F1403C;}.css-14bz7qe .highlight .nn{color:#646464;}.css-14bz7qe .highlight .nt{color:#175199;}.css-14bz7qe .highlight .nv{color:#0066FF;}.css-14bz7qe .highlight .ow{font-weight:600;}.css-14bz7qe .highlight .w{color:#BFBFBF;}.css-14bz7qe .highlight .mf{color:#0066FF;}.css-14bz7qe .highlight .mh{color:#0066FF;}.css-14bz7qe .highlight .mi{color:#0066FF;}.css-14bz7qe .highlight .mo{color:#0066FF;}.css-14bz7qe .highlight .sb{color:#F1403C;}.css-14bz7qe .highlight .sc{color:#F1403C;}.css-14bz7qe .highlight .sd{color:#F1403C;}.css-14bz7qe .highlight .s2{color:#F1403C;}.css-14bz7qe .highlight .se{color:#F1403C;}.css-14bz7qe .highlight .sh{color:#F1403C;}.css-14bz7qe .highlight .si{color:#F1403C;}.css-14bz7qe .highlight .sx{color:#F1403C;}.css-14bz7qe .highlight .sr{color:#A5542F;}.css-14bz7qe .highlight .s1{color:#F1403C;}.css-14bz7qe .highlight .ss{color:#F1403C;}.css-14bz7qe .highlight .bp{color:#999999;}.css-14bz7qe .highlight .vc{color:#0066FF;}.css-14bz7qe .highlight .vg{color:#0066FF;}.css-14bz7qe .highlight .vi{color:#0066FF;}.css-14bz7qe .highlight .il{color:#0066FF;}.css-14bz7qe .highlight::-webkit-scrollbar{width:6px;height:6px;}.css-14bz7qe .highlight::-webkit-scrollbar-thumb:horizontal{background-color:rgba(18,18,18,0.5);border-radius:6px;}.css-14bz7qe .highlight::-webkit-scrollbar-thumb:horizontal:hover{background-color:rgba(18,18,18,0.6);}.css-14bz7qe .LinkCard.old{position:relative;display:block;margin:1em auto;width:390px;box-sizing:border-box;border-radius:12px;max-width:100%;overflow:hidden;}.css-14bz7qe .LinkCard.old,.css-14bz7qe .LinkCard.old:hover{-webkit-text-decoration:none;text-decoration:none;border:none !important;color:inherit !important;}.css-14bz7qe .LinkCard-ecommerceLoadingCard{position:relative;display:-webkit-box;display:-webkit-flex;display:-ms-flexbox;display:flex;-webkit-align-items:center;-webkit-box-align:center;-ms-flex-align:center;align-items:center;-webkit-box-pack:justify;-webkit-justify-content:space-between;-ms-flex-pack:justify;justify-content:space-between;padding:12px;border-radius:inherit;height:80px;box-sizing:border-box;background:rgba(246,246,246,0.88);color:#D3D3D3;}.css-14bz7qe .LinkCard-ecommerceLoadingCardAvatarWrapper{width:60px;height:60px;background:#EBEBEB;display:-webkit-box;display:-webkit-flex;display:-ms-flexbox;display:flex;-webkit-align-items:center;-webkit-box-align:center;-ms-flex-align:center;align-items:center;-webkit-box-pack:center;-webkit-justify-content:center;-ms-flex-pack:center;justify-content:center;border-radius:6px;margin-right:10px;}.css-14bz7qe .LinkCard-ecommerceLoadingCardNetwork{width:20px;height:20px;}.css-14bz7qe .LinkCard-ecommerceLoadingCardLoadingbar{height:60px;-webkit-flex:1;-ms-flex:1;flex:1;display:-webkit-box;display:-webkit-flex;display:-ms-flexbox;display:flex;-webkit-flex-direction:column;-ms-flex-direction:column;flex-direction:column;}.css-14bz7qe .LinkCard-ecommerceLoadingCardLoadingbar span{height:16px;display:inline-block;background:#EBEBEB;}.css-14bz7qe .LinkCard-ecommerceLoadingCardLoadingbar span:nth-of-type(1){width:60px;margin-bottom:4px;}.css-14bz7qe .LinkCard-ecommerceLoadingCardLoadingbar span:nth-of-type(2){width:127px;}.css-14bz7qe .LinkCard.new{position:relative;display:-webkit-box;display:-webkit-flex;display:-ms-flexbox;display:flex;box-sizing:border-box;-webkit-flex-direction:row;-ms-flex-direction:row;flex-direction:row;-webkit-align-items:center;-webkit-box-align:center;-ms-flex-align:center;align-items:center;width:390px;min-height:84px;border-radius:8px;max-width:100%;overflow:hidden;margin:16px auto;padding:12px 12px 9px 12px;background-color:#F6F6F6;}.css-14bz7qe .LinkCard.new,.css-14bz7qe .LinkCard.new:hover{-webkit-text-decoration:none;text-decoration:none;border:none !important;color:inherit !important;}.css-14bz7qe .LinkCard.new .LinkCard-contents{display:block;-webkit-flex:1 1 auto;-ms-flex:1 1 auto;flex:1 1 auto;position:relative;}.css-14bz7qe .LinkCard.new .LinkCard-contents .loading{height:14px;background:#EBEBEB;border-radius:7px;}.css-14bz7qe .LinkCard.new .LinkCard-contents.withTitle{margin-bottom:3px;}.css-14bz7qe .LinkCard.new .LinkCard-title{display:-webkit-box;font-size:15px;font-weight:500;line-height:1.4;margin-bottom:2px;color:#121212;text-overflow:ellipsis;overflow:hidden;-webkit-box-orient:vertical;-webkit-line-clamp:1;}.css-14bz7qe .LinkCard.new .LinkCard-title.two-line{line-height:20px;display:-webkit-box;text-overflow:ellipsis;overflow:hidden;-webkit-box-orient:vertical;-webkit-line-clamp:2;}.css-14bz7qe .LinkCard.new .LinkCard-title.loading{margin-bottom:8px;width:80%;}.css-14bz7qe .LinkCard.new .LinkCard-title.loading.withTitle{margin-bottom:6px;}.css-14bz7qe .LinkCard.new .LinkCard-title.loadingTitle{margin-bottom:5px;}.css-14bz7qe .LinkCard.new .LinkCard-excerpt{display:-webkit-box;text-overflow:ellipsis;font-size:13px;line-height:18px;color:#999999;margin-bottom:4px;overflow:hidden;-webkit-box-orient:vertical;-webkit-line-clamp:1;}.css-14bz7qe .LinkCard.new .LinkCard-excerpt .LinkCard-author{color:#444444;}.css-14bz7qe .LinkCard.new .LinkCard-desc{display:-webkit-box;font-size:13px;height:18px;line-height:18px;color:#999999;word-break:break-all;text-overflow:ellipsis;overflow:hidden;-webkit-box-orient:vertical;-webkit-line-clamp:1;}.css-14bz7qe .LinkCard.new .LinkCard-desc .LinkCard-tag,.css-14bz7qe .LinkCard.new .LinkCard-desc .tag{display:inline-block;font-size:11px;margin-left:8px;padding:0 4px;border-radius:3px;background:rgba(211,211,211,0.3);}.css-14bz7qe .LinkCard.new .LinkCard-desc.loading{width:40%;}.css-14bz7qe .LinkCard.new .LinkCard-desc svg{margin-right:2px;}.css-14bz7qe .LinkCard.new .LinkCard-image{-webkit-flex:0 0 auto;-ms-flex:0 0 auto;flex:0 0 auto;background-color:#EBEBEB;background-size:cover;background-position:center;position:relative;display:block;width:60px;height:60px;margin-left:20px;object-fit:cover;border-radius:inherit;overflow:hidden;}.css-14bz7qe .LinkCard.new .LinkCard-image.LinkCard-image--default{display:-webkit-box;display:-webkit-flex;display:-ms-flexbox;display:flex;-webkit-align-items:center;-webkit-box-align:center;-ms-flex-align:center;align-items:center;-webkit-box-pack:center;-webkit-justify-content:center;-ms-flex-pack:center;justify-content:center;background-color:#EBEBEB;color:#D3D3D3;}.css-14bz7qe .LinkCard.new .LinkCard-image.LinkCard-image--default svg{color:#999999;}.css-14bz7qe .LinkCard.new .LinkCard-image img{width:100%;height:100%;object-fit:cover;}.css-14bz7qe .LinkCard.new .LinkCard-image .LinkCard-image--video{display:-webkit-box;display:-webkit-flex;display:-ms-flexbox;display:flex;-webkit-align-items:center;-webkit-box-align:center;-ms-flex-align:center;align-items:center;-webkit-box-pack:center;-webkit-justify-content:center;-ms-flex-pack:center;justify-content:center;position:absolute;top:50%;left:50%;-webkit-transform:translateX(-50%) translateY(-50%);-ms-transform:translateX(-50%) translateY(-50%);transform:translateX(-50%) translateY(-50%);width:24px;height:24px;border-radius:12px;background:rgba(255,255,255,0.9);pointer-events:none;}.css-14bz7qe .LinkCard.new .LinkCard-image .LinkCard-image--video svg{color:#444444;}.css-14bz7qe .LinkCard.new .LinkCard-richText .text{color:#444444;}.css-14bz7qe .LinkCard.new .LinkCard-richText .bold{font-weight:600;}.css-14bz7qe .LinkCard.new .LinkCard-richText .tag{margin-left:4px;}.css-14bz7qe .FileLinkCard{-webkit-align-items:center;-webkit-box-align:center;-ms-flex-align:center;align-items:center;background-color:rgba(246,246,246,0.88);border-radius:12px;box-sizing:border-box;display:-webkit-box;display:-webkit-flex;display:-ms-flexbox;display:flex;margin:1em auto;max-width:100%;overflow:hidden;padding:12px;position:relative;width:390px;}.css-14bz7qe .FileLinkCard-icon{-webkit-flex-shrink:0;-ms-flex-negative:0;flex-shrink:0;height:30px;width:30px;}.css-14bz7qe .FileLinkCard-info{margin-left:12px;}.css-14bz7qe .FileLinkCard-name{color:#121212;font-size:15px;font-weight:500;line-height:21px;display:-webkit-box;text-overflow:ellipsis;overflow:hidden;-webkit-box-orient:vertical;-webkit-line-clamp:2;}.css-14bz7qe .FileLinkCard-meta{color:#999999;font-size:12px;display:-webkit-box;display:-webkit-flex;display:-ms-flexbox;display:flex;line-height:14px;margin-top:5px;}.css-14bz7qe .FileLinkCard-source{white-space:pre;}@-webkit-keyframes animation-1sh55c5{from{opacity:0;}to{opacity:1;}}@keyframes animation-1sh55c5{from{opacity:0;}to{opacity:1;}}</style><span class=\"RichText ztext CopyrightRichText-richText css-14bz7qe\" options=\"[object Object]\" itemProp=\"text\">哈喽树先生：吾有一计，可立解当前人口经济危局 一.党员干部响应国家政策，九千多万党员带头生孩子，不设上限越多越好，评级评职称如两人各类条件相同，谁生孩子多选谁 生孩子得吃喝拉撒住医疗教育，这样能拉动内需提供就业岗位解决地产过剩问题 这时候有同志说了，生多了我们也养不起啊 别急，有政策! 二.推出“党员贷” 众所周知党员干部都比较清贫，又想起带头作怕养不起，所以银行隆重推出党员贷，供你们买房，养娃，也可以拿去投资，随…</span><button type=\"button\" class=\"Button ContentItem-more Button--plain\">阅读全文<span style=\"display:inline-flex;align-items:center\">​<svg width=\"24\" height=\"24\" viewBox=\"0 0 24 24\" data-new-api=\"ArrowDownSmall24\" data-old-api=\"ArrowDown\" class=\"Zi Zi--ArrowDown ContentItem-arrowIcon\" fill=\"currentColor\"><path d=\"M12 13.248L8.22 9.223a.684.684 0 00-1.01 0 .796.796 0 000 1.075l4.15 4.42a.867.867 0 001.28 0l4.15-4.42a.796.796 0 000-1.075.684.684 0 00-1.01 0L12 13.248z\" fill-rule=\"evenodd\" clip-rule=\"evenodd\"></path></svg></span></button></div><div class=\"ContentItem-actions\"><span><button aria-label=\"赞同 6000 \" aria-live=\"polite\" type=\"button\" class=\"Button VoteButton VoteButton--up\"><span style=\"display:inline-flex;align-items:center\">​<svg width=\"10\" height=\"10\" viewBox=\"0 0 24 24\" data-new-api=\"AgreeFill24\" data-old-api=\"TriangleUp\" class=\"Zi Zi--TriangleUp VoteButton-TriangleUp\" fill=\"currentColor\"><path d=\"M13.792 3.681c-.781-1.406-2.803-1.406-3.584 0l-7.79 14.023c-.76 1.367.228 3.046 1.791 3.046h15.582c1.563 0 2.55-1.68 1.791-3.046l-7.79-14.023z\" fill-rule=\"evenodd\" clip-rule=\"evenodd\"></path></svg></span>赞同 6000</button><button aria-label=\"反对\" aria-live=\"polite\" type=\"button\" class=\"Button VoteButton VoteButton--down\"><span style=\"display:inline-flex;align-items:center\">​<svg width=\"10\" height=\"10\" viewBox=\"0 0 24 24\" data-new-api=\"OpposeFill24\" data-old-api=\"TriangleDown\" class=\"Zi Zi--TriangleDown\" fill=\"currentColor\"><path d=\"M13.792 20.319c-.781 1.406-2.803 1.406-3.584 0L2.418 6.296c-.76-1.367.228-3.046 1.791-3.046h15.582c1.563 0 2.55 1.68 1.791 3.046l-7.79 14.023z\" fill-rule=\"evenodd\" clip-rule=\"evenodd\"></path></svg></span></button></span><button type=\"button\" class=\"Button ContentItem-action Button--plain Button--withIcon Button--withLabel\"><span style=\"display:inline-flex;align-items:center\">​<svg width=\"1.2em\" height=\"1.2em\" viewBox=\"0 0 24 24\" data-new-api=\"ChatBubbleFill24\" data-old-api=\"Comment\" class=\"Zi Zi--Comment Button-zi\" fill=\"currentColor\"><path d=\"M11.982 3C17.211 3 21 7.271 21 12.014c0 1.514-.441 3.072-1.215 4.496a.946.946 0 00-.063.813l.603 2.018c.135.487-.279.847-.738.703l-1.818-.54c-.495-.163-.882.044-1.341.324C15.114 20.602 13.476 21 12 21c-4.464 0-9-3.452-9-9.014C3 7.19 6.87 3 11.982 3z\"></path></svg></span>430 条评论</button><div class=\"Popover ShareMenu ContentItem-action\"><div class=\"ShareMenu-toggler\" id=\"null-toggle\" aria-haspopup=\"true\" aria-expanded=\"false\" aria-owns=\"null-content\"><button type=\"button\" class=\"Button Button--plain Button--withIcon Button--withLabel\"><span style=\"display:inline-flex;align-items:center\">​<svg width=\"1.2em\" height=\"1.2em\" viewBox=\"0 0 24 24\" data-new-api=\"PaperplaneFill24\" data-old-api=\"Share\" class=\"Zi Zi--Share Button-zi\" fill=\"currentColor\"><path d=\"M20.223 1.881a.8.8 0 011.205.778l-1.874 16.393a.9.9 0 01-1.204.742l-4.617-1.692a.7.7 0 00-.83.28l-1.929 3.021c-.43.674-1.474.37-1.474-.43v-3.866a.8.8 0 01.18-.505l5.809-7.15a.595.595 0 00-.897-.782l-5.933 6.357a1.1 1.1 0 01-1.257.251l-4.085-1.847a.8.8 0 01-.08-1.415L20.223 1.88z\"></path></svg></span>分享</button></div></div><button type=\"button\" class=\"Button ContentItem-action Button--plain Button--withIcon Button--withLabel\"><span style=\"display:inline-flex;align-items:center\">​<svg width=\"1.2em\" height=\"1.2em\" viewBox=\"0 0 24 24\" data-new-api=\"StarFill24\" data-old-api=\"Star\" class=\"Zi Zi--Star Button-zi\" fill=\"currentColor\"><path d=\"M10.484 3.307c.673-1.168 2.358-1.168 3.032 0l2.377 4.122a.25.25 0 00.165.12l4.655.987c1.319.28 1.84 1.882.937 2.884l-3.186 3.535a.25.25 0 00-.063.193l.5 4.733c.142 1.34-1.222 2.33-2.453 1.782l-4.346-1.938a.25.25 0 00-.204 0l-4.346 1.938c-1.231.549-2.595-.442-2.453-1.782l.5-4.733a.25.25 0 00-.064-.193L2.35 11.42c-.903-1.002-.382-2.604.937-2.884l4.655-.987a.25.25 0 00.164-.12l2.378-4.122z\"></path></svg></span>收藏</button><button aria-live=\"polite\" type=\"button\" class=\"Button ContentItem-action Button--plain Button--withIcon Button--withLabel\"><span style=\"display:inline-flex;align-items:center\">​<svg width=\"1.2em\" height=\"1.2em\" viewBox=\"0 0 24 24\" data-new-api=\"HeartFill24\" data-old-api=\"Heart\" class=\"Zi Zi--Heart Button-zi\" fill=\"currentColor\"><path d=\"M12.004 4.934c1.015-.944 2.484-1.618 3.98-1.618 3.48 0 6.53 3.265 6.15 7.614-.11 1.254-.686 2.55-1.458 3.753-.778 1.215-1.79 2.392-2.845 3.419-1.054 1.028-2.168 1.923-3.161 2.566a9.96 9.96 0 01-1.41.777c-.418.182-.862.32-1.268.32s-.848-.137-1.267-.317a9.918 9.918 0 01-1.407-.771c-.992-.64-2.103-1.53-3.156-2.555-1.052-1.024-2.062-2.2-2.84-3.417-.77-1.208-1.346-2.51-1.456-3.775-.38-4.349 2.67-7.614 6.15-7.614 1.484 0 2.983.673 3.988 1.618z\" fill-rule=\"evenodd\" clip-rule=\"evenodd\"></path></svg></span>喜欢</button><div class=\"Popover ContentItem-action\"><button aria-label=\"更多\" id=\"null-toggle\" aria-haspopup=\"true\" aria-expanded=\"false\" aria-owns=\"null-content\" type=\"button\" class=\"Button OptionsButton Button--plain Button--withIcon Button--iconOnly\"><span style=\"display:inline-flex;align-items:center\">​<svg width=\"1.2em\" height=\"1.2em\" viewBox=\"0 0 24 24\" data-new-api=\"Dots24\" data-old-api=\"Dots\" class=\"Zi Zi--Dots Button-zi\" fill=\"currentColor\"><path d=\"M5.34 12a1.665 1.665 0 11-3.33 0 1.665 1.665 0 013.33 0zm8.325 0a1.665 1.665 0 11-3.33 0 1.665 1.665 0 013.33 0zm8.325 0a1.665 1.665 0 11-3.33 0 1.665 1.665 0 013.33 0z\"></path></svg></span></button></div></div></div><div><div><div class=\"\"></div><div class=\"ModalLoading-content\"><svg width=\"30\" height=\"30\" viewBox=\"0 0 66 66\" xmlns=\"http://www.w3.org/2000/svg\" class=\"CircleLoadingBar\" aria-hidden=\"true\"><g><circle class=\"path\" fill=\"none\" stroke-width=\"6\" stroke-linecap=\"round\" cx=\"33\" cy=\"33\" r=\"30\"></circle></g></svg></div></div></div></div></div></div></div><div class=\"Card TopstoryItem TopstoryItem--advertCard TopstoryItem-isRecommend\" tabindex=\"0\"><div class=\"Pc-feedAd-container \"><div class=\"Pc-feedAd\"><div class=\"Pc-feedAd-card\"><a target=\"_blank\" href=\"https://www.agora.io/cn/form/leads?utm_source=zhihu&amp;utm_medium=cpc&amp;utm_campaign=pc_form&amp;utm_term=wenan&amp;utm_content=sdk\"><div class=\"Pc-feedAd-card-brand\"><div class=\"Pc-feedAd-card-brand-wrapper \"><img src=\"https://pic3.zhimg.com/v2-58d12009a81cb8978985d4ecfa55682f_xl.png?source=d6434cab\" alt=\"logo\"/><span class=\"Pc-feedAd-card-brand--bold\">声网Agora SDK</span><div class=\"Pc-feedAd-card-brand-metaText\"> </div></div></div></a><div class=\"advert-signpc \"><div class=\"advert-signpc-label\">广告​<svg class=\"Icon Icon--triangle advert-signpc-svg\" viewBox=\"0 0 24 24\"><path d=\"M9.218 16.78a.737.737 0 0 0 1.052 0l4.512-4.249a.758.758 0 0 0 0-1.063L10.27 7.22a.737.737 0 0 0-1.052 0 .759.759 0 0 0-.001 1.063L13 12l-3.782 3.716a.758.758 0 0 0 0 1.063z\" fill-rule=\"evenodd\"></path></svg></div><div class=\"advert-signpc-popup advert-signpc-popup--isHidden\"><span class=\"advert-signpc-popup-arrow\"></span><div class=\"advert-signpc-popup-menu\"><button type=\"button\">不感兴趣</button><a target=\"_blank\" rel=\"noopener noreferrer\" href=\"/promotion-intro\">知乎广告介绍</a></div></div></div><a target=\"_blank\" href=\"https://www.agora.io/cn/form/leads?utm_source=zhihu&amp;utm_medium=cpc&amp;utm_campaign=pc_form&amp;utm_term=wenan&amp;utm_content=sdk\"><h2 class=\"Pc-feedAd-card-title\">一个实时音视频SDK，满足全场景社交需求，一键接入</h2><div class=\"Pc-feedAd-card-content  \"><div class=\"AdvertImg Pc-feedAd-card-content-cover\"><img src=\"https://pic2.zhimg.com/v2-8bf2e70107832f4907c26859076ae59d_bh.jpg?source=d6434cab\" alt=\"图片\"/></div><div class=\"Pc-feedAd-card-content-detail\"><span>产品开发技术难度大、成本高、周期长？实时互动延迟高，用户体验差？声网实时音视频，API接口丰富，简单易用。支持百万人实时语音及视频互动。适用于各种场景需求，每月10000分钟免费使用</span><span class=\"Pc-feedAd-card-content-detail-cta  \">查看详情<span style=\"display:inline-flex;align-items:center\">​<svg class=\"Icon Icon--triangle Pc-feedAd-card-content-detail-svg\" viewBox=\"0 0 24 24\"><path d=\"M9.218 16.78a.737.737 0 0 0 1.052 0l4.512-4.249a.758.758 0 0 0 0-1.063L10.27 7.22a.737.737 0 0 0-1.052 0 .759.759 0 0 0-.001 1.063L13 12l-3.782 3.716a.758.758 0 0 0 0 1.063z\" fill-rule=\"evenodd\"></path></svg></span></span></div></div></a></div></div></div></div><div class=\"Card TopstoryItem TopstoryItem-isRecommend\" tabindex=\"0\"><div class=\"Feed\"><div><div class=\"ContentItem AnswerItem\" data-zop=\"{&quot;authorName&quot;:&quot;魔力懒猫&quot;,&quot;itemId&quot;:2475689884,&quot;title&quot;:&quot;如何评价galgame制作者无需谈过恋爱这种观点？&quot;,&quot;type&quot;:&quot;answer&quot;}\" name=\"2475689884\" itemProp=\"answer\" itemType=\"http://schema.org/Answer\" itemscope=\"\"><h2 class=\"ContentItem-title\"><div itemProp=\"zhihu:question\" itemType=\"http://schema.org/Question\" itemscope=\"\"><meta itemProp=\"url\" content=\"https://www.zhihu.com/question/393138556\"/><meta itemProp=\"name\" content=\"如何评价galgame制作者无需谈过恋爱这种观点？\"/><a target=\"_blank\" data-za-detail-view-element_name=\"Title\" data-za-detail-view-id=\"2812\" href=\"//www.zhihu.com/question/393138556/answer/2475689884\">如何评价galgame制作者无需谈过恋爱这种观点？</a></div></h2><meta itemProp=\"image\" content=\"https://pic1.zhimg.com/50/v2-37bad39c6306e53d4a7dc7880622749c_hd.jpg\"/><meta itemProp=\"upvoteCount\" content=\"250\"/><meta itemProp=\"url\" content=\"https://www.zhihu.com/question/393138556/answer/2475689884\"/><meta itemProp=\"dateCreated\" content=\"2022-05-08T04:23:11.000Z\"/><meta itemProp=\"dateModified\" content=\"2022-05-09T04:50:14.000Z\"/><meta itemProp=\"commentCount\" content=\"23\"/><div class=\"RichContent is-collapsed\"><div class=\"RichContent-cover\"><div class=\"RichContent-cover-inner\"><div class=\"VagueImage\" data-src=\"https://pic1.zhimg.com/50/v2-37bad39c6306e53d4a7dc7880622749c_400x224.jpg\"><div class=\"VagueImage-mask is-active\"></div></div></div></div><div class=\"RichContent-inner\"><style data-emotion-css=\"3jt6os\">.css-3jt6os .FileLinkCard{-webkit-align-items:center;-webkit-box-align:center;-ms-flex-align:center;align-items:center;background-color:rgba(246,246,246,0.88);border-radius:12px;box-sizing:border-box;display:-webkit-box;display:-webkit-flex;display:-ms-flexbox;display:flex;margin:1em auto;max-width:100%;overflow:hidden;padding:12px;position:relative;width:390px;}.css-3jt6os .FileLinkCard-icon{-webkit-flex-shrink:0;-ms-flex-negative:0;flex-shrink:0;height:30px;width:30px;}.css-3jt6os .FileLinkCard-info{margin-left:12px;}.css-3jt6os .FileLinkCard-name{color:#121212;font-size:15px;font-weight:500;line-height:21px;display:-webkit-box;text-overflow:ellipsis;overflow:hidden;-webkit-box-orient:vertical;-webkit-line-clamp:2;}.css-3jt6os .FileLinkCard-meta{color:#999999;font-size:12px;display:-webkit-box;display:-webkit-flex;display:-ms-flexbox;display:flex;line-height:14px;margin-top:5px;}.css-3jt6os .FileLinkCard-source{white-space:pre;}</style><style data-emotion-css=\"1wr1m8\">.css-1wr1m8 .LinkCard.new{position:relative;display:-webkit-box;display:-webkit-flex;display:-ms-flexbox;display:flex;box-sizing:border-box;-webkit-flex-direction:row;-ms-flex-direction:row;flex-direction:row;-webkit-align-items:center;-webkit-box-align:center;-ms-flex-align:center;align-items:center;width:390px;min-height:84px;border-radius:8px;max-width:100%;overflow:hidden;margin:16px auto;padding:12px 12px 9px 12px;background-color:#F6F6F6;}.css-1wr1m8 .LinkCard.new,.css-1wr1m8 .LinkCard.new:hover{-webkit-text-decoration:none;text-decoration:none;border:none !important;color:inherit !important;}.css-1wr1m8 .LinkCard.new .LinkCard-contents{display:block;-webkit-flex:1 1 auto;-ms-flex:1 1 auto;flex:1 1 auto;position:relative;}.css-1wr1m8 .LinkCard.new .LinkCard-contents .loading{height:14px;background:#EBEBEB;border-radius:7px;}.css-1wr1m8 .LinkCard.new .LinkCard-contents.withTitle{margin-bottom:3px;}.css-1wr1m8 .LinkCard.new .LinkCard-title{display:-webkit-box;font-size:15px;font-weight:500;line-height:1.4;margin-bottom:2px;color:#121212;text-overflow:ellipsis;overflow:hidden;-webkit-box-orient:vertical;-webkit-line-clamp:1;}.css-1wr1m8 .LinkCard.new .LinkCard-title.two-line{line-height:20px;display:-webkit-box;text-overflow:ellipsis;overflow:hidden;-webkit-box-orient:vertical;-webkit-line-clamp:2;}.css-1wr1m8 .LinkCard.new .LinkCard-title.loading{margin-bottom:8px;width:80%;}.css-1wr1m8 .LinkCard.new .LinkCard-title.loading.withTitle{margin-bottom:6px;}.css-1wr1m8 .LinkCard.new .LinkCard-title.loadingTitle{margin-bottom:5px;}.css-1wr1m8 .LinkCard.new .LinkCard-excerpt{display:-webkit-box;text-overflow:ellipsis;font-size:13px;line-height:18px;color:#999999;margin-bottom:4px;overflow:hidden;-webkit-box-orient:vertical;-webkit-line-clamp:1;}.css-1wr1m8 .LinkCard.new .LinkCard-excerpt .LinkCard-author{color:#444444;}.css-1wr1m8 .LinkCard.new .LinkCard-desc{display:-webkit-box;font-size:13px;height:18px;line-height:18px;color:#999999;word-break:break-all;text-overflow:ellipsis;overflow:hidden;-webkit-box-orient:vertical;-webkit-line-clamp:1;}.css-1wr1m8 .LinkCard.new .LinkCard-desc .LinkCard-tag,.css-1wr1m8 .LinkCard.new .LinkCard-desc .tag{display:inline-block;font-size:11px;margin-left:8px;padding:0 4px;border-radius:3px;background:rgba(211,211,211,0.3);}.css-1wr1m8 .LinkCard.new .LinkCard-desc.loading{width:40%;}.css-1wr1m8 .LinkCard.new .LinkCard-desc svg{margin-right:2px;}.css-1wr1m8 .LinkCard.new .LinkCard-image{-webkit-flex:0 0 auto;-ms-flex:0 0 auto;flex:0 0 auto;background-color:#EBEBEB;background-size:cover;background-position:center;position:relative;display:block;width:60px;height:60px;margin-left:20px;object-fit:cover;border-radius:inherit;overflow:hidden;}.css-1wr1m8 .LinkCard.new .LinkCard-image.LinkCard-image--default{display:-webkit-box;display:-webkit-flex;display:-ms-flexbox;display:flex;-webkit-align-items:center;-webkit-box-align:center;-ms-flex-align:center;align-items:center;-webkit-box-pack:center;-webkit-justify-content:center;-ms-flex-pack:center;justify-content:center;background-color:#EBEBEB;color:#D3D3D3;}.css-1wr1m8 .LinkCard.new .LinkCard-image.LinkCard-image--default svg{color:#999999;}.css-1wr1m8 .LinkCard.new .LinkCard-image img{width:100%;height:100%;object-fit:cover;}.css-1wr1m8 .LinkCard.new .LinkCard-image .LinkCard-image--video{display:-webkit-box;display:-webkit-flex;display:-ms-flexbox;display:flex;-webkit-align-items:center;-webkit-box-align:center;-ms-flex-align:center;align-items:center;-webkit-box-pack:center;-webkit-justify-content:center;-ms-flex-pack:center;justify-content:center;position:absolute;top:50%;left:50%;-webkit-transform:translateX(-50%) translateY(-50%);-ms-transform:translateX(-50%) translateY(-50%);transform:translateX(-50%) translateY(-50%);width:24px;height:24px;border-radius:12px;background:rgba(255,255,255,0.9);pointer-events:none;}.css-1wr1m8 .LinkCard.new .LinkCard-image .LinkCard-image--video svg{color:#444444;}.css-1wr1m8 .LinkCard.new .LinkCard-richText .text{color:#444444;}.css-1wr1m8 .LinkCard.new .LinkCard-richText .bold{font-weight:600;}.css-1wr1m8 .LinkCard.new .LinkCard-richText .tag{margin-left:4px;}.css-1wr1m8 .LinkCard.old{position:relative;display:block;margin:1em auto;width:390px;box-sizing:border-box;border-radius:12px;max-width:100%;overflow:hidden;}.css-1wr1m8 .LinkCard.old,.css-1wr1m8 .LinkCard.old:hover{-webkit-text-decoration:none;text-decoration:none;border:none !important;color:inherit !important;}.css-1wr1m8 .LinkCard-ecommerceLoadingCard{position:relative;display:-webkit-box;display:-webkit-flex;display:-ms-flexbox;display:flex;-webkit-align-items:center;-webkit-box-align:center;-ms-flex-align:center;align-items:center;-webkit-box-pack:justify;-webkit-justify-content:space-between;-ms-flex-pack:justify;justify-content:space-between;padding:12px;border-radius:inherit;height:80px;box-sizing:border-box;background:rgba(246,246,246,0.88);color:#D3D3D3;}.css-1wr1m8 .LinkCard-ecommerceLoadingCardAvatarWrapper{width:60px;height:60px;background:#EBEBEB;display:-webkit-box;display:-webkit-flex;display:-ms-flexbox;display:flex;-webkit-align-items:center;-webkit-box-align:center;-ms-flex-align:center;align-items:center;-webkit-box-pack:center;-webkit-justify-content:center;-ms-flex-pack:center;justify-content:center;border-radius:6px;margin-right:10px;}.css-1wr1m8 .LinkCard-ecommerceLoadingCardNetwork{width:20px;height:20px;}.css-1wr1m8 .LinkCard-ecommerceLoadingCardLoadingbar{height:60px;-webkit-flex:1;-ms-flex:1;flex:1;display:-webkit-box;display:-webkit-flex;display:-ms-flexbox;display:flex;-webkit-flex-direction:column;-ms-flex-direction:column;flex-direction:column;}.css-1wr1m8 .LinkCard-ecommerceLoadingCardLoadingbar span{height:16px;display:inline-block;background:#EBEBEB;}.css-1wr1m8 .LinkCard-ecommerceLoadingCardLoadingbar span:nth-of-type(1){width:60px;margin-bottom:4px;}.css-1wr1m8 .LinkCard-ecommerceLoadingCardLoadingbar span:nth-of-type(2){width:127px;}</style><style data-emotion-css=\"hypxot\">.css-hypxot .LinkCard.old{position:relative;display:block;margin:1em auto;width:390px;box-sizing:border-box;border-radius:12px;max-width:100%;overflow:hidden;}.css-hypxot .LinkCard.old,.css-hypxot .LinkCard.old:hover{-webkit-text-decoration:none;text-decoration:none;border:none !important;color:inherit !important;}.css-hypxot .LinkCard-ecommerceLoadingCard{position:relative;display:-webkit-box;display:-webkit-flex;display:-ms-flexbox;display:flex;-webkit-align-items:center;-webkit-box-align:center;-ms-flex-align:center;align-items:center;-webkit-box-pack:justify;-webkit-justify-content:space-between;-ms-flex-pack:justify;justify-content:space-between;padding:12px;border-radius:inherit;height:80px;box-sizing:border-box;background:rgba(246,246,246,0.88);color:#D3D3D3;}.css-hypxot .LinkCard-ecommerceLoadingCardAvatarWrapper{width:60px;height:60px;background:#EBEBEB;display:-webkit-box;display:-webkit-flex;display:-ms-flexbox;display:flex;-webkit-align-items:center;-webkit-box-align:center;-ms-flex-align:center;align-items:center;-webkit-box-pack:center;-webkit-justify-content:center;-ms-flex-pack:center;justify-content:center;border-radius:6px;margin-right:10px;}.css-hypxot .LinkCard-ecommerceLoadingCardNetwork{width:20px;height:20px;}.css-hypxot .LinkCard-ecommerceLoadingCardLoadingbar{height:60px;-webkit-flex:1;-ms-flex:1;flex:1;display:-webkit-box;display:-webkit-flex;display:-ms-flexbox;display:flex;-webkit-flex-direction:column;-ms-flex-direction:column;flex-direction:column;}.css-hypxot .LinkCard-ecommerceLoadingCardLoadingbar span{height:16px;display:inline-block;background:#EBEBEB;}.css-hypxot .LinkCard-ecommerceLoadingCardLoadingbar span:nth-of-type(1){width:60px;margin-bottom:4px;}.css-hypxot .LinkCard-ecommerceLoadingCardLoadingbar span:nth-of-type(2){width:127px;}.css-hypxot .LinkCard.new{position:relative;display:-webkit-box;display:-webkit-flex;display:-ms-flexbox;display:flex;box-sizing:border-box;-webkit-flex-direction:row;-ms-flex-direction:row;flex-direction:row;-webkit-align-items:center;-webkit-box-align:center;-ms-flex-align:center;align-items:center;width:390px;min-height:84px;border-radius:8px;max-width:100%;overflow:hidden;margin:16px auto;padding:12px 12px 9px 12px;background-color:#F6F6F6;}.css-hypxot .LinkCard.new,.css-hypxot .LinkCard.new:hover{-webkit-text-decoration:none;text-decoration:none;border:none !important;color:inherit !important;}.css-hypxot .LinkCard.new .LinkCard-contents{display:block;-webkit-flex:1 1 auto;-ms-flex:1 1 auto;flex:1 1 auto;position:relative;}.css-hypxot .LinkCard.new .LinkCard-contents .loading{height:14px;background:#EBEBEB;border-radius:7px;}.css-hypxot .LinkCard.new .LinkCard-contents.withTitle{margin-bottom:3px;}.css-hypxot .LinkCard.new .LinkCard-title{display:-webkit-box;font-size:15px;font-weight:500;line-height:1.4;margin-bottom:2px;color:#121212;text-overflow:ellipsis;overflow:hidden;-webkit-box-orient:vertical;-webkit-line-clamp:1;}.css-hypxot .LinkCard.new .LinkCard-title.two-line{line-height:20px;display:-webkit-box;text-overflow:ellipsis;overflow:hidden;-webkit-box-orient:vertical;-webkit-line-clamp:2;}.css-hypxot .LinkCard.new .LinkCard-title.loading{margin-bottom:8px;width:80%;}.css-hypxot .LinkCard.new .LinkCard-title.loading.withTitle{margin-bottom:6px;}.css-hypxot .LinkCard.new .LinkCard-title.loadingTitle{margin-bottom:5px;}.css-hypxot .LinkCard.new .LinkCard-excerpt{display:-webkit-box;text-overflow:ellipsis;font-size:13px;line-height:18px;color:#999999;margin-bottom:4px;overflow:hidden;-webkit-box-orient:vertical;-webkit-line-clamp:1;}.css-hypxot .LinkCard.new .LinkCard-excerpt .LinkCard-author{color:#444444;}.css-hypxot .LinkCard.new .LinkCard-desc{display:-webkit-box;font-size:13px;height:18px;line-height:18px;color:#999999;word-break:break-all;text-overflow:ellipsis;overflow:hidden;-webkit-box-orient:vertical;-webkit-line-clamp:1;}.css-hypxot .LinkCard.new .LinkCard-desc .LinkCard-tag,.css-hypxot .LinkCard.new .LinkCard-desc .tag{display:inline-block;font-size:11px;margin-left:8px;padding:0 4px;border-radius:3px;background:rgba(211,211,211,0.3);}.css-hypxot .LinkCard.new .LinkCard-desc.loading{width:40%;}.css-hypxot .LinkCard.new .LinkCard-desc svg{margin-right:2px;}.css-hypxot .LinkCard.new .LinkCard-image{-webkit-flex:0 0 auto;-ms-flex:0 0 auto;flex:0 0 auto;background-color:#EBEBEB;background-size:cover;background-position:center;position:relative;display:block;width:60px;height:60px;margin-left:20px;object-fit:cover;border-radius:inherit;overflow:hidden;}.css-hypxot .LinkCard.new .LinkCard-image.LinkCard-image--default{display:-webkit-box;display:-webkit-flex;display:-ms-flexbox;display:flex;-webkit-align-items:center;-webkit-box-align:center;-ms-flex-align:center;align-items:center;-webkit-box-pack:center;-webkit-justify-content:center;-ms-flex-pack:center;justify-content:center;background-color:#EBEBEB;color:#D3D3D3;}.css-hypxot .LinkCard.new .LinkCard-image.LinkCard-image--default svg{color:#999999;}.css-hypxot .LinkCard.new .LinkCard-image img{width:100%;height:100%;object-fit:cover;}.css-hypxot .LinkCard.new .LinkCard-image .LinkCard-image--video{display:-webkit-box;display:-webkit-flex;display:-ms-flexbox;display:flex;-webkit-align-items:center;-webkit-box-align:center;-ms-flex-align:center;align-items:center;-webkit-box-pack:center;-webkit-justify-content:center;-ms-flex-pack:center;justify-content:center;position:absolute;top:50%;left:50%;-webkit-transform:translateX(-50%) translateY(-50%);-ms-transform:translateX(-50%) translateY(-50%);transform:translateX(-50%) translateY(-50%);width:24px;height:24px;border-radius:12px;background:rgba(255,255,255,0.9);pointer-events:none;}.css-hypxot .LinkCard.new .LinkCard-image .LinkCard-image--video svg{color:#444444;}.css-hypxot .LinkCard.new .LinkCard-richText .text{color:#444444;}.css-hypxot .LinkCard.new .LinkCard-richText .bold{font-weight:600;}.css-hypxot .LinkCard.new .LinkCard-richText .tag{margin-left:4px;}.css-hypxot .FileLinkCard{-webkit-align-items:center;-webkit-box-align:center;-ms-flex-align:center;align-items:center;background-color:rgba(246,246,246,0.88);border-radius:12px;box-sizing:border-box;display:-webkit-box;display:-webkit-flex;display:-ms-flexbox;display:flex;margin:1em auto;max-width:100%;overflow:hidden;padding:12px;position:relative;width:390px;}.css-hypxot .FileLinkCard-icon{-webkit-flex-shrink:0;-ms-flex-negative:0;flex-shrink:0;height:30px;width:30px;}.css-hypxot .FileLinkCard-info{margin-left:12px;}.css-hypxot .FileLinkCard-name{color:#121212;font-size:15px;font-weight:500;line-height:21px;display:-webkit-box;text-overflow:ellipsis;overflow:hidden;-webkit-box-orient:vertical;-webkit-line-clamp:2;}.css-hypxot .FileLinkCard-meta{color:#999999;font-size:12px;display:-webkit-box;display:-webkit-flex;display:-ms-flexbox;display:flex;line-height:14px;margin-top:5px;}.css-hypxot .FileLinkCard-source{white-space:pre;}</style><style data-emotion-css=\"14bz7qe animation-1sh55c5\">.css-14bz7qe{word-break:break-word;line-height:1.6;}.css-14bz7qe a.UserLink-link{color:#175199;}.css-14bz7qe a.UserLink-link:hover{border-bottom:1px solid #175199;}.css-14bz7qe lazy[data-lazy-status]{background-color:#F6F6F6;}.css-14bz7qe lazy[data-lazy-status=\"ok\"]{background-color:transparent;-webkit-animation:animation-1sh55c5 0.5s ease-in;animation:animation-1sh55c5 0.5s ease-in;}.css-14bz7qe > [data-first-child]{margin-top:0;}.css-14bz7qe > :last-child{margin-bottom:0;}.css-14bz7qe h1,.css-14bz7qe h2{clear:left;margin-top:calc((1.4em * 2) / 1.2);margin-bottom:calc(1.4em / 1.2);font-size:1.2em;line-height:1.5;font-weight:600;}.css-14bz7qe h3,.css-14bz7qe h4,.css-14bz7qe h5,.css-14bz7qe h6{clear:left;margin-top:calc((1.4em * 1.5) / 1.1);margin-bottom:calc(1.4em / 1.1);font-size:1.1em;line-height:1.5;font-weight:600;}.css-14bz7qe u{-webkit-text-decoration:none;text-decoration:none;border-bottom:1px dashed #808080;}.css-14bz7qe b{font-weight:600;}.css-14bz7qe sup{font-size:0.8em;}.css-14bz7qe sup[data-draft-type='reference']{color:#175199;}.css-14bz7qe a:focus{outline:none;-webkit-transition:box-shadow 0.3s;transition:box-shadow 0.3s;}html[data-focus-visible] .css-14bz7qe a:focus{box-shadow:0 0 0 2px #FFFFFF,0 0 0 4px rgba(0,102,255,0.3);}.css-14bz7qe a.ztext-link,.css-14bz7qe a.internal,.css-14bz7qe a.external{-webkit-text-decoration:none;text-decoration:none;cursor:pointer;border-bottom:1px solid #808080;}.css-14bz7qe a.ztext-link:hover,.css-14bz7qe a.internal:hover,.css-14bz7qe a.external:hover{color:#175199;border-bottom:1px solid #175199;}.css-14bz7qe a.ztext-link > .ellipsis::after,.css-14bz7qe a.internal > .ellipsis::after,.css-14bz7qe a.external > .ellipsis::after{content:'...';}.css-14bz7qe a.ztext-link > .invisible,.css-14bz7qe a.internal > .invisible,.css-14bz7qe a.external > .invisible{font:0/0 a;color:transparent;text-shadow:none;background-color:transparent;}.css-14bz7qe a.ztext-link u,.css-14bz7qe a.internal u,.css-14bz7qe a.external u{border:none;}.css-14bz7qe a.member_mention{color:#175199;}.css-14bz7qe a.member_mention:hover{border-bottom:1px solid #175199;}.css-14bz7qe p{margin:1.4em 0;}.css-14bz7qe p.ztext-empty-paragraph{margin:calc((2.8em- (1.4em * 2 + 1.6em)) / 2) 0;}.css-14bz7qe p.ztext-empty-paragraph + .ztext-empty-paragraph{margin:1.4em 0;}.css-14bz7qe hr{margin:4em auto;width:240px;max-width:100%;border:none;border-top:1px solid #D3D3D3;}.css-14bz7qe img[eeimg]{max-width:100%;vertical-align:middle;}.css-14bz7qe img[eeimg=\"1\"]{margin:0 3px;display:inline-block;}.css-14bz7qe img[eeimg=\"2\"]{margin:1.4em 0;display:block;}.css-14bz7qe blockquote{margin:1.4em 0;padding-left:1em;color:#646464;border-left:3px solid #D3D3D3;}.css-14bz7qe ol,.css-14bz7qe ul{margin:1.4em 0;padding:0;}.css-14bz7qe ol ol,.css-14bz7qe ul ol,.css-14bz7qe ol ul,.css-14bz7qe ul ul{margin:0;}.css-14bz7qe ol > ol,.css-14bz7qe ul > ol,.css-14bz7qe ol > ul,.css-14bz7qe ul > ul{display:table-row;}.css-14bz7qe ol > ol::before,.css-14bz7qe ul > ol::before,.css-14bz7qe ol > ul::before,.css-14bz7qe ul > ul::before{display:table-cell;content:'';}.css-14bz7qe ul{display:table;}.css-14bz7qe ul>li{display:table-row;list-style:none;}.css-14bz7qe ul>li::before{display:table-cell;content:'•  ';white-space:pre;}.css-14bz7qe ol{display:table;counter-reset:ol;}.css-14bz7qe ol > li{display:table-row;list-style:none;}.css-14bz7qe ol > li::before{display:table-cell;text-align:right;counter-increment:ol;content:counter(ol) '. ';white-space:pre;}.css-14bz7qe ol ol{counter-reset:ol2;}.css-14bz7qe ol ol li::before{counter-increment:ol2;content:counter(ol2) '. ';}.css-14bz7qe ol ol ol{counter-reset:ol3;}.css-14bz7qe ol ol ol li::before{counter-increment:ol3;content:counter(ol3) '. ';}.css-14bz7qe ol ol ol ol{counter-reset:ol4;}.css-14bz7qe ol ol ol ol li::before{counter-increment:ol4;content:counter(ol4) '. ';}.css-14bz7qe figure{margin:1.4em 0;}.css-14bz7qe figure .content_image,.css-14bz7qe figure .origin_image{margin:0 auto;}.css-14bz7qe figure figcaption{margin-top:calc(0.6em / 0.9);padding:0 1em;font-size:0.9em;line-height:1.5;text-align:center;color:#999999;}.css-14bz7qe figure + figure{margin-top:calc(1.4em * 1.6);}.css-14bz7qe figure[data-size='small'],.css-14bz7qe figure:not([data-size]) > [data-size='small']{clear:both;}.css-14bz7qe figure[data-size='left'],.css-14bz7qe figure:not([data-size]) > [data-size='left']{float:left;margin:0 20px 20px 0;max-width:33%;}.css-14bz7qe figure[data-size='right'],.css-14bz7qe figure:not([data-size]) > [data-size='right']{float:right;margin:0 0 20px 20px;max-width:33%;}.css-14bz7qe figure[data-size='collapse']{margin-bottom:0;}.css-14bz7qe figure[data-size='collapse'] + figure{margin-top:0;}.css-14bz7qe .content_image,.css-14bz7qe .origin_image{display:block;max-width:100%;margin:1.4em auto;}.css-14bz7qe .content_image[data-size='small'],.css-14bz7qe .origin_image[data-size='small']{max-width:40%;}.css-14bz7qe .content_image.zh-lightbox-thumb,.css-14bz7qe .origin_image.zh-lightbox-thumb{cursor:-webkit-zoom-in;cursor:-moz-zoom-in;cursor:zoom-in;}.css-14bz7qe code{margin:0 2px;padding:3px 4px;border-radius:3px;font-size:0.9em;background-color:#F6F6F6;}.css-14bz7qe pre{margin:1.4em 0;padding:calc(0.8em / 0.9);font-size:0.9em;word-break:initial;word-wrap:initial;white-space:pre;overflow:auto;-webkit-overflow-scrolling:touch;background:#F6F6F6;border-radius:4px;}.css-14bz7qe pre code{margin:0;padding:0;font-size:inherit;border-radius:0;background-color:inherit;}.css-14bz7qe li pre{white-space:pre-wrap;}.css-14bz7qe table[data-draft-type='table']{border-collapse:collapse;font-size:15px;margin:1.4em auto;max-width:100%;table-layout:fixed;text-align:left;width:100%;}.css-14bz7qe table[data-draft-type='table'][data-size='small']{min-width:260px;width:40%;}.css-14bz7qe table[data-draft-type='table'][data-row-style='striped'] tr:nth-of-type(2n + 1){background:#F6F6F6;}.css-14bz7qe table[data-draft-type='table'] td,.css-14bz7qe table[data-draft-type='table'] th{border:1px solid #D3D3D3;line-height:24px;height:24px;padding:3px 12px;}.css-14bz7qe table[data-draft-type='table'] th{background:#EBEBEB;color:#121212;font-weight:500;}.css-14bz7qe .video-box,.css-14bz7qe .link-box{position:relative;display:-webkit-box;display:-webkit-flex;display:-ms-flexbox;display:flex;-webkit-box-pack:justify;-webkit-justify-content:space-between;-ms-flex-pack:justify;justify-content:space-between;margin:1.4em 0;overflow:auto;white-space:normal;cursor:pointer;border:solid 1px #EBEBEB;border-radius:4px;}.css-14bz7qe .highlight{margin:1em 0;}.css-14bz7qe .highlight pre{margin:0;}.css-14bz7qe .highlight .hll{background-color:#FDFDFD;}.css-14bz7qe .highlight .c{font-style:italic;color:#999999;}.css-14bz7qe .highlight .err{color:#F1403C;}.css-14bz7qe .highlight .k{font-weight:600;}.css-14bz7qe .highlight .o{font-weight:600;}.css-14bz7qe .highlight .cm{font-style:italic;color:#999999;}.css-14bz7qe .highlight .cp{font-weight:600;color:#999999;}.css-14bz7qe .highlight .c1{font-style:italic;color:#999999;}.css-14bz7qe .highlight .cs{font-style:italic;font-weight:600;color:#999999;}.css-14bz7qe .highlight .gd{color:#FF3366;}.css-14bz7qe .highlight .ge{font-style:italic;}.css-14bz7qe .highlight .gr{color:#F1403C;}.css-14bz7qe .highlight .gh{color:#999999;}.css-14bz7qe .highlight .gi{color:#12b370;}.css-14bz7qe .highlight .go{color:#808080;}.css-14bz7qe .highlight .gp{color:#646464;}.css-14bz7qe .highlight .gs{font-weight:600;}.css-14bz7qe .highlight .gu{color:#999999;}.css-14bz7qe .highlight .gt{color:#F1403C;}.css-14bz7qe .highlight .kc{font-weight:600;}.css-14bz7qe .highlight .kd{font-weight:600;}.css-14bz7qe .highlight .kn{font-weight:600;}.css-14bz7qe .highlight .kp{font-weight:600;}.css-14bz7qe .highlight .kr{font-weight:600;}.css-14bz7qe .highlight .kt{font-weight:600;color:#175199;}.css-14bz7qe .highlight .m{color:#0066FF;}.css-14bz7qe .highlight .s{color:#F1403C;}.css-14bz7qe .highlight .na{color:#0066FF;}.css-14bz7qe .highlight .nb{color:#0066FF;}.css-14bz7qe .highlight .nc{font-weight:600;color:#175199;}.css-14bz7qe .highlight .no{color:#0066FF;}.css-14bz7qe .highlight .ni{color:#5555DD;}.css-14bz7qe .highlight .ne{font-weight:600;color:#F1403C;}.css-14bz7qe .highlight .nf{font-weight:600;color:#F1403C;}.css-14bz7qe .highlight .nn{color:#646464;}.css-14bz7qe .highlight .nt{color:#175199;}.css-14bz7qe .highlight .nv{color:#0066FF;}.css-14bz7qe .highlight .ow{font-weight:600;}.css-14bz7qe .highlight .w{color:#BFBFBF;}.css-14bz7qe .highlight .mf{color:#0066FF;}.css-14bz7qe .highlight .mh{color:#0066FF;}.css-14bz7qe .highlight .mi{color:#0066FF;}.css-14bz7qe .highlight .mo{color:#0066FF;}.css-14bz7qe .highlight .sb{color:#F1403C;}.css-14bz7qe .highlight .sc{color:#F1403C;}.css-14bz7qe .highlight .sd{color:#F1403C;}.css-14bz7qe .highlight .s2{color:#F1403C;}.css-14bz7qe .highlight .se{color:#F1403C;}.css-14bz7qe .highlight .sh{color:#F1403C;}.css-14bz7qe .highlight .si{color:#F1403C;}.css-14bz7qe .highlight .sx{color:#F1403C;}.css-14bz7qe .highlight .sr{color:#A5542F;}.css-14bz7qe .highlight .s1{color:#F1403C;}.css-14bz7qe .highlight .ss{color:#F1403C;}.css-14bz7qe .highlight .bp{color:#999999;}.css-14bz7qe .highlight .vc{color:#0066FF;}.css-14bz7qe .highlight .vg{color:#0066FF;}.css-14bz7qe .highlight .vi{color:#0066FF;}.css-14bz7qe .highlight .il{color:#0066FF;}.css-14bz7qe .highlight::-webkit-scrollbar{width:6px;height:6px;}.css-14bz7qe .highlight::-webkit-scrollbar-thumb:horizontal{background-color:rgba(18,18,18,0.5);border-radius:6px;}.css-14bz7qe .highlight::-webkit-scrollbar-thumb:horizontal:hover{background-color:rgba(18,18,18,0.6);}.css-14bz7qe .LinkCard.old{position:relative;display:block;margin:1em auto;width:390px;box-sizing:border-box;border-radius:12px;max-width:100%;overflow:hidden;}.css-14bz7qe .LinkCard.old,.css-14bz7qe .LinkCard.old:hover{-webkit-text-decoration:none;text-decoration:none;border:none !important;color:inherit !important;}.css-14bz7qe .LinkCard-ecommerceLoadingCard{position:relative;display:-webkit-box;display:-webkit-flex;display:-ms-flexbox;display:flex;-webkit-align-items:center;-webkit-box-align:center;-ms-flex-align:center;align-items:center;-webkit-box-pack:justify;-webkit-justify-content:space-between;-ms-flex-pack:justify;justify-content:space-between;padding:12px;border-radius:inherit;height:80px;box-sizing:border-box;background:rgba(246,246,246,0.88);color:#D3D3D3;}.css-14bz7qe .LinkCard-ecommerceLoadingCardAvatarWrapper{width:60px;height:60px;background:#EBEBEB;display:-webkit-box;display:-webkit-flex;display:-ms-flexbox;display:flex;-webkit-align-items:center;-webkit-box-align:center;-ms-flex-align:center;align-items:center;-webkit-box-pack:center;-webkit-justify-content:center;-ms-flex-pack:center;justify-content:center;border-radius:6px;margin-right:10px;}.css-14bz7qe .LinkCard-ecommerceLoadingCardNetwork{width:20px;height:20px;}.css-14bz7qe .LinkCard-ecommerceLoadingCardLoadingbar{height:60px;-webkit-flex:1;-ms-flex:1;flex:1;display:-webkit-box;display:-webkit-flex;display:-ms-flexbox;display:flex;-webkit-flex-direction:column;-ms-flex-direction:column;flex-direction:column;}.css-14bz7qe .LinkCard-ecommerceLoadingCardLoadingbar span{height:16px;display:inline-block;background:#EBEBEB;}.css-14bz7qe .LinkCard-ecommerceLoadingCardLoadingbar span:nth-of-type(1){width:60px;margin-bottom:4px;}.css-14bz7qe .LinkCard-ecommerceLoadingCardLoadingbar span:nth-of-type(2){width:127px;}.css-14bz7qe .LinkCard.new{position:relative;display:-webkit-box;display:-webkit-flex;display:-ms-flexbox;display:flex;box-sizing:border-box;-webkit-flex-direction:row;-ms-flex-direction:row;flex-direction:row;-webkit-align-items:center;-webkit-box-align:center;-ms-flex-align:center;align-items:center;width:390px;min-height:84px;border-radius:8px;max-width:100%;overflow:hidden;margin:16px auto;padding:12px 12px 9px 12px;background-color:#F6F6F6;}.css-14bz7qe .LinkCard.new,.css-14bz7qe .LinkCard.new:hover{-webkit-text-decoration:none;text-decoration:none;border:none !important;color:inherit !important;}.css-14bz7qe .LinkCard.new .LinkCard-contents{display:block;-webkit-flex:1 1 auto;-ms-flex:1 1 auto;flex:1 1 auto;position:relative;}.css-14bz7qe .LinkCard.new .LinkCard-contents .loading{height:14px;background:#EBEBEB;border-radius:7px;}.css-14bz7qe .LinkCard.new .LinkCard-contents.withTitle{margin-bottom:3px;}.css-14bz7qe .LinkCard.new .LinkCard-title{display:-webkit-box;font-size:15px;font-weight:500;line-height:1.4;margin-bottom:2px;color:#121212;text-overflow:ellipsis;overflow:hidden;-webkit-box-orient:vertical;-webkit-line-clamp:1;}.css-14bz7qe .LinkCard.new .LinkCard-title.two-line{line-height:20px;display:-webkit-box;text-overflow:ellipsis;overflow:hidden;-webkit-box-orient:vertical;-webkit-line-clamp:2;}.css-14bz7qe .LinkCard.new .LinkCard-title.loading{margin-bottom:8px;width:80%;}.css-14bz7qe .LinkCard.new .LinkCard-title.loading.withTitle{margin-bottom:6px;}.css-14bz7qe .LinkCard.new .LinkCard-title.loadingTitle{margin-bottom:5px;}.css-14bz7qe .LinkCard.new .LinkCard-excerpt{display:-webkit-box;text-overflow:ellipsis;font-size:13px;line-height:18px;color:#999999;margin-bottom:4px;overflow:hidden;-webkit-box-orient:vertical;-webkit-line-clamp:1;}.css-14bz7qe .LinkCard.new .LinkCard-excerpt .LinkCard-author{color:#444444;}.css-14bz7qe .LinkCard.new .LinkCard-desc{display:-webkit-box;font-size:13px;height:18px;line-height:18px;color:#999999;word-break:break-all;text-overflow:ellipsis;overflow:hidden;-webkit-box-orient:vertical;-webkit-line-clamp:1;}.css-14bz7qe .LinkCard.new .LinkCard-desc .LinkCard-tag,.css-14bz7qe .LinkCard.new .LinkCard-desc .tag{display:inline-block;font-size:11px;margin-left:8px;padding:0 4px;border-radius:3px;background:rgba(211,211,211,0.3);}.css-14bz7qe .LinkCard.new .LinkCard-desc.loading{width:40%;}.css-14bz7qe .LinkCard.new .LinkCard-desc svg{margin-right:2px;}.css-14bz7qe .LinkCard.new .LinkCard-image{-webkit-flex:0 0 auto;-ms-flex:0 0 auto;flex:0 0 auto;background-color:#EBEBEB;background-size:cover;background-position:center;position:relative;display:block;width:60px;height:60px;margin-left:20px;object-fit:cover;border-radius:inherit;overflow:hidden;}.css-14bz7qe .LinkCard.new .LinkCard-image.LinkCard-image--default{display:-webkit-box;display:-webkit-flex;display:-ms-flexbox;display:flex;-webkit-align-items:center;-webkit-box-align:center;-ms-flex-align:center;align-items:center;-webkit-box-pack:center;-webkit-justify-content:center;-ms-flex-pack:center;justify-content:center;background-color:#EBEBEB;color:#D3D3D3;}.css-14bz7qe .LinkCard.new .LinkCard-image.LinkCard-image--default svg{color:#999999;}.css-14bz7qe .LinkCard.new .LinkCard-image img{width:100%;height:100%;object-fit:cover;}.css-14bz7qe .LinkCard.new .LinkCard-image .LinkCard-image--video{display:-webkit-box;display:-webkit-flex;display:-ms-flexbox;display:flex;-webkit-align-items:center;-webkit-box-align:center;-ms-flex-align:center;align-items:center;-webkit-box-pack:center;-webkit-justify-content:center;-ms-flex-pack:center;justify-content:center;position:absolute;top:50%;left:50%;-webkit-transform:translateX(-50%) translateY(-50%);-ms-transform:translateX(-50%) translateY(-50%);transform:translateX(-50%) translateY(-50%);width:24px;height:24px;border-radius:12px;background:rgba(255,255,255,0.9);pointer-events:none;}.css-14bz7qe .LinkCard.new .LinkCard-image .LinkCard-image--video svg{color:#444444;}.css-14bz7qe .LinkCard.new .LinkCard-richText .text{color:#444444;}.css-14bz7qe .LinkCard.new .LinkCard-richText .bold{font-weight:600;}.css-14bz7qe .LinkCard.new .LinkCard-richText .tag{margin-left:4px;}.css-14bz7qe .FileLinkCard{-webkit-align-items:center;-webkit-box-align:center;-ms-flex-align:center;align-items:center;background-color:rgba(246,246,246,0.88);border-radius:12px;box-sizing:border-box;display:-webkit-box;display:-webkit-flex;display:-ms-flexbox;display:flex;margin:1em auto;max-width:100%;overflow:hidden;padding:12px;position:relative;width:390px;}.css-14bz7qe .FileLinkCard-icon{-webkit-flex-shrink:0;-ms-flex-negative:0;flex-shrink:0;height:30px;width:30px;}.css-14bz7qe .FileLinkCard-info{margin-left:12px;}.css-14bz7qe .FileLinkCard-name{color:#121212;font-size:15px;font-weight:500;line-height:21px;display:-webkit-box;text-overflow:ellipsis;overflow:hidden;-webkit-box-orient:vertical;-webkit-line-clamp:2;}.css-14bz7qe .FileLinkCard-meta{color:#999999;font-size:12px;display:-webkit-box;display:-webkit-flex;display:-ms-flexbox;display:flex;line-height:14px;margin-top:5px;}.css-14bz7qe .FileLinkCard-source{white-space:pre;}@-webkit-keyframes animation-1sh55c5{from{opacity:0;}to{opacity:1;}}@keyframes animation-1sh55c5{from{opacity:0;}to{opacity:1;}}</style><span class=\"RichText ztext CopyrightRichText-richText css-14bz7qe\" options=\"[object Object]\" itemProp=\"text\">魔力懒猫：直接看看别人怎么写感情的如何？事实上评价最高的一批GAL想找一个核心情感是爱情的反而比较难。 提醒：其他galgame部分重剧透 一、Galgame里对爱情的描写可以多离谱？1.爱你的情感有如爱上学。我们以《白色相簿2》为例，他是这样描写的： 既然作者都提了，那我们就用中学生拒绝上学的视角来看看： 这不就是学校被人欺负了得了抑郁症的家里蹲回家打游戏的情绪吗？ 这一幕出现在浮气线春希请假上班的段落。我们来看同样的描写都在…</span><button type=\"button\" class=\"Button ContentItem-more Button--plain\">阅读全文<span style=\"display:inline-flex;align-items:center\">​<svg width=\"24\" height=\"24\" viewBox=\"0 0 24 24\" data-new-api=\"ArrowDownSmall24\" data-old-api=\"ArrowDown\" class=\"Zi Zi--ArrowDown ContentItem-arrowIcon\" fill=\"currentColor\"><path d=\"M12 13.248L8.22 9.223a.684.684 0 00-1.01 0 .796.796 0 000 1.075l4.15 4.42a.867.867 0 001.28 0l4.15-4.42a.796.796 0 000-1.075.684.684 0 00-1.01 0L12 13.248z\" fill-rule=\"evenodd\" clip-rule=\"evenodd\"></path></svg></span></button></div><div class=\"ContentItem-actions\"><span><button aria-label=\"赞同 250 \" aria-live=\"polite\" type=\"button\" class=\"Button VoteButton VoteButton--up\"><span style=\"display:inline-flex;align-items:center\">​<svg width=\"10\" height=\"10\" viewBox=\"0 0 24 24\" data-new-api=\"AgreeFill24\" data-old-api=\"TriangleUp\" class=\"Zi Zi--TriangleUp VoteButton-TriangleUp\" fill=\"currentColor\"><path d=\"M13.792 3.681c-.781-1.406-2.803-1.406-3.584 0l-7.79 14.023c-.76 1.367.228 3.046 1.791 3.046h15.582c1.563 0 2.55-1.68 1.791-3.046l-7.79-14.023z\" fill-rule=\"evenodd\" clip-rule=\"evenodd\"></path></svg></span>赞同 250</button><button aria-label=\"反对\" aria-live=\"polite\" type=\"button\" class=\"Button VoteButton VoteButton--down\"><span style=\"display:inline-flex;align-items:center\">​<svg width=\"10\" height=\"10\" viewBox=\"0 0 24 24\" data-new-api=\"OpposeFill24\" data-old-api=\"TriangleDown\" class=\"Zi Zi--TriangleDown\" fill=\"currentColor\"><path d=\"M13.792 20.319c-.781 1.406-2.803 1.406-3.584 0L2.418 6.296c-.76-1.367.228-3.046 1.791-3.046h15.582c1.563 0 2.55 1.68 1.791 3.046l-7.79 14.023z\" fill-rule=\"evenodd\" clip-rule=\"evenodd\"></path></svg></span></button></span><button type=\"button\" class=\"Button ContentItem-action Button--plain Button--withIcon Button--withLabel\"><span style=\"display:inline-flex;align-items:center\">​<svg width=\"1.2em\" height=\"1.2em\" viewBox=\"0 0 24 24\" data-new-api=\"ChatBubbleFill24\" data-old-api=\"Comment\" class=\"Zi Zi--Comment Button-zi\" fill=\"currentColor\"><path d=\"M11.982 3C17.211 3 21 7.271 21 12.014c0 1.514-.441 3.072-1.215 4.496a.946.946 0 00-.063.813l.603 2.018c.135.487-.279.847-.738.703l-1.818-.54c-.495-.163-.882.044-1.341.324C15.114 20.602 13.476 21 12 21c-4.464 0-9-3.452-9-9.014C3 7.19 6.87 3 11.982 3z\"></path></svg></span>23 条评论</button><div class=\"Popover ShareMenu ContentItem-action\"><div class=\"ShareMenu-toggler\" id=\"null-toggle\" aria-haspopup=\"true\" aria-expanded=\"false\" aria-owns=\"null-content\"><button type=\"button\" class=\"Button Button--plain Button--withIcon Button--withLabel\"><span style=\"display:inline-flex;align-items:center\">​<svg width=\"1.2em\" height=\"1.2em\" viewBox=\"0 0 24 24\" data-new-api=\"PaperplaneFill24\" data-old-api=\"Share\" class=\"Zi Zi--Share Button-zi\" fill=\"currentColor\"><path d=\"M20.223 1.881a.8.8 0 011.205.778l-1.874 16.393a.9.9 0 01-1.204.742l-4.617-1.692a.7.7 0 00-.83.28l-1.929 3.021c-.43.674-1.474.37-1.474-.43v-3.866a.8.8 0 01.18-.505l5.809-7.15a.595.595 0 00-.897-.782l-5.933 6.357a1.1 1.1 0 01-1.257.251l-4.085-1.847a.8.8 0 01-.08-1.415L20.223 1.88z\"></path></svg></span>分享</button></div></div><button type=\"button\" class=\"Button ContentItem-action Button--plain Button--withIcon Button--withLabel\"><span style=\"display:inline-flex;align-items:center\">​<svg width=\"1.2em\" height=\"1.2em\" viewBox=\"0 0 24 24\" data-new-api=\"StarFill24\" data-old-api=\"Star\" class=\"Zi Zi--Star Button-zi\" fill=\"currentColor\"><path d=\"M10.484 3.307c.673-1.168 2.358-1.168 3.032 0l2.377 4.122a.25.25 0 00.165.12l4.655.987c1.319.28 1.84 1.882.937 2.884l-3.186 3.535a.25.25 0 00-.063.193l.5 4.733c.142 1.34-1.222 2.33-2.453 1.782l-4.346-1.938a.25.25 0 00-.204 0l-4.346 1.938c-1.231.549-2.595-.442-2.453-1.782l.5-4.733a.25.25 0 00-.064-.193L2.35 11.42c-.903-1.002-.382-2.604.937-2.884l4.655-.987a.25.25 0 00.164-.12l2.378-4.122z\"></path></svg></span>收藏</button><button aria-live=\"polite\" type=\"button\" class=\"Button ContentItem-action Button--plain Button--withIcon Button--withLabel\"><span style=\"display:inline-flex;align-items:center\">​<svg width=\"1.2em\" height=\"1.2em\" viewBox=\"0 0 24 24\" data-new-api=\"HeartFill24\" data-old-api=\"Heart\" class=\"Zi Zi--Heart Button-zi\" fill=\"currentColor\"><path d=\"M12.004 4.934c1.015-.944 2.484-1.618 3.98-1.618 3.48 0 6.53 3.265 6.15 7.614-.11 1.254-.686 2.55-1.458 3.753-.778 1.215-1.79 2.392-2.845 3.419-1.054 1.028-2.168 1.923-3.161 2.566a9.96 9.96 0 01-1.41.777c-.418.182-.862.32-1.268.32s-.848-.137-1.267-.317a9.918 9.918 0 01-1.407-.771c-.992-.64-2.103-1.53-3.156-2.555-1.052-1.024-2.062-2.2-2.84-3.417-.77-1.208-1.346-2.51-1.456-3.775-.38-4.349 2.67-7.614 6.15-7.614 1.484 0 2.983.673 3.988 1.618z\" fill-rule=\"evenodd\" clip-rule=\"evenodd\"></path></svg></span>喜欢</button><div class=\"Popover ContentItem-action\"><button aria-label=\"更多\" id=\"null-toggle\" aria-haspopup=\"true\" aria-expanded=\"false\" aria-owns=\"null-content\" type=\"button\" class=\"Button OptionsButton Button--plain Button--withIcon Button--iconOnly\"><span style=\"display:inline-flex;align-items:center\">​<svg width=\"1.2em\" height=\"1.2em\" viewBox=\"0 0 24 24\" data-new-api=\"Dots24\" data-old-api=\"Dots\" class=\"Zi Zi--Dots Button-zi\" fill=\"currentColor\"><path d=\"M5.34 12a1.665 1.665 0 11-3.33 0 1.665 1.665 0 013.33 0zm8.325 0a1.665 1.665 0 11-3.33 0 1.665 1.665 0 013.33 0zm8.325 0a1.665 1.665 0 11-3.33 0 1.665 1.665 0 013.33 0z\"></path></svg></span></button></div></div></div><div><div><div class=\"\"></div><div class=\"ModalLoading-content\"><svg width=\"30\" height=\"30\" viewBox=\"0 0 66 66\" xmlns=\"http://www.w3.org/2000/svg\" class=\"CircleLoadingBar\" aria-hidden=\"true\"><g><circle class=\"path\" fill=\"none\" stroke-width=\"6\" stroke-linecap=\"round\" cx=\"33\" cy=\"33\" r=\"30\"></circle></g></svg></div></div></div></div></div></div></div><div class=\"Card TopstoryItem TopstoryItem-isRecommend\" tabindex=\"0\"><div class=\"Feed\"><div><div class=\"ContentItem ZVideoItem\" expandedHeight=\"0\" data-zop=\"{&quot;authorName&quot;:&quot;牛比利斯山&quot;,&quot;itemId&quot;:&quot;1506849373417422848&quot;,&quot;title&quot;:&quot;Neural Implicit Flow - 基于数据面向复杂网格的流体力学降维&quot;,&quot;type&quot;:&quot;zvideo&quot;}\"><h2 class=\"ContentItem-title\"><span><a href=\"https://www.zhihu.com/zvideo/1506849373417422848\" target=\"_blank\" rel=\"noopener noreferrer\">Neural Implicit Flow - 基于数据面向复杂网格的流体力学降维</a></span></h2><style data-emotion-css=\"1hrc83f\">.css-1hrc83f{box-sizing:border-box;margin:0;min-width:0;margin-top:16px;margin-bottom:16px;}</style><div class=\"css-1hrc83f\"><style data-emotion-css=\"dpoqzr\">.css-dpoqzr{margin:0px;}</style><div class=\"ZVideoItem-video css-dpoqzr\"><div style=\"width:100%;height:100%\" class=\"ZVideoItem-player\"><style data-emotion-css=\"uwwqev\">.css-uwwqev{width:100%;height:100%;}</style><iframe title=\"video\" src=\"https://video.zhihu.com/video/1506828061157232640?itemId=1506849373417422848&amp;itemType=zvideo&amp;player=%7B%22shouldShowPageFullScreenButton%22%3Atrue%7D\" allowfullscreen=\"\" frameBorder=\"0\" class=\"css-uwwqev\"></iframe></div></div></div><div class=\"RichContent is-collapsed\"><div class=\"RichContent-inner\"><style data-emotion-css=\"3jt6os\">.css-3jt6os .FileLinkCard{-webkit-align-items:center;-webkit-box-align:center;-ms-flex-align:center;align-items:center;background-color:rgba(246,246,246,0.88);border-radius:12px;box-sizing:border-box;display:-webkit-box;display:-webkit-flex;display:-ms-flexbox;display:flex;margin:1em auto;max-width:100%;overflow:hidden;padding:12px;position:relative;width:390px;}.css-3jt6os .FileLinkCard-icon{-webkit-flex-shrink:0;-ms-flex-negative:0;flex-shrink:0;height:30px;width:30px;}.css-3jt6os .FileLinkCard-info{margin-left:12px;}.css-3jt6os .FileLinkCard-name{color:#121212;font-size:15px;font-weight:500;line-height:21px;display:-webkit-box;text-overflow:ellipsis;overflow:hidden;-webkit-box-orient:vertical;-webkit-line-clamp:2;}.css-3jt6os .FileLinkCard-meta{color:#999999;font-size:12px;display:-webkit-box;display:-webkit-flex;display:-ms-flexbox;display:flex;line-height:14px;margin-top:5px;}.css-3jt6os .FileLinkCard-source{white-space:pre;}</style><style data-emotion-css=\"1wr1m8\">.css-1wr1m8 .LinkCard.new{position:relative;display:-webkit-box;display:-webkit-flex;display:-ms-flexbox;display:flex;box-sizing:border-box;-webkit-flex-direction:row;-ms-flex-direction:row;flex-direction:row;-webkit-align-items:center;-webkit-box-align:center;-ms-flex-align:center;align-items:center;width:390px;min-height:84px;border-radius:8px;max-width:100%;overflow:hidden;margin:16px auto;padding:12px 12px 9px 12px;background-color:#F6F6F6;}.css-1wr1m8 .LinkCard.new,.css-1wr1m8 .LinkCard.new:hover{-webkit-text-decoration:none;text-decoration:none;border:none !important;color:inherit !important;}.css-1wr1m8 .LinkCard.new .LinkCard-contents{display:block;-webkit-flex:1 1 auto;-ms-flex:1 1 auto;flex:1 1 auto;position:relative;}.css-1wr1m8 .LinkCard.new .LinkCard-contents .loading{height:14px;background:#EBEBEB;border-radius:7px;}.css-1wr1m8 .LinkCard.new .LinkCard-contents.withTitle{margin-bottom:3px;}.css-1wr1m8 .LinkCard.new .LinkCard-title{display:-webkit-box;font-size:15px;font-weight:500;line-height:1.4;margin-bottom:2px;color:#121212;text-overflow:ellipsis;overflow:hidden;-webkit-box-orient:vertical;-webkit-line-clamp:1;}.css-1wr1m8 .LinkCard.new .LinkCard-title.two-line{line-height:20px;display:-webkit-box;text-overflow:ellipsis;overflow:hidden;-webkit-box-orient:vertical;-webkit-line-clamp:2;}.css-1wr1m8 .LinkCard.new .LinkCard-title.loading{margin-bottom:8px;width:80%;}.css-1wr1m8 .LinkCard.new .LinkCard-title.loading.withTitle{margin-bottom:6px;}.css-1wr1m8 .LinkCard.new .LinkCard-title.loadingTitle{margin-bottom:5px;}.css-1wr1m8 .LinkCard.new .LinkCard-excerpt{display:-webkit-box;text-overflow:ellipsis;font-size:13px;line-height:18px;color:#999999;margin-bottom:4px;overflow:hidden;-webkit-box-orient:vertical;-webkit-line-clamp:1;}.css-1wr1m8 .LinkCard.new .LinkCard-excerpt .LinkCard-author{color:#444444;}.css-1wr1m8 .LinkCard.new .LinkCard-desc{display:-webkit-box;font-size:13px;height:18px;line-height:18px;color:#999999;word-break:break-all;text-overflow:ellipsis;overflow:hidden;-webkit-box-orient:vertical;-webkit-line-clamp:1;}.css-1wr1m8 .LinkCard.new .LinkCard-desc .LinkCard-tag,.css-1wr1m8 .LinkCard.new .LinkCard-desc .tag{display:inline-block;font-size:11px;margin-left:8px;padding:0 4px;border-radius:3px;background:rgba(211,211,211,0.3);}.css-1wr1m8 .LinkCard.new .LinkCard-desc.loading{width:40%;}.css-1wr1m8 .LinkCard.new .LinkCard-desc svg{margin-right:2px;}.css-1wr1m8 .LinkCard.new .LinkCard-image{-webkit-flex:0 0 auto;-ms-flex:0 0 auto;flex:0 0 auto;background-color:#EBEBEB;background-size:cover;background-position:center;position:relative;display:block;width:60px;height:60px;margin-left:20px;object-fit:cover;border-radius:inherit;overflow:hidden;}.css-1wr1m8 .LinkCard.new .LinkCard-image.LinkCard-image--default{display:-webkit-box;display:-webkit-flex;display:-ms-flexbox;display:flex;-webkit-align-items:center;-webkit-box-align:center;-ms-flex-align:center;align-items:center;-webkit-box-pack:center;-webkit-justify-content:center;-ms-flex-pack:center;justify-content:center;background-color:#EBEBEB;color:#D3D3D3;}.css-1wr1m8 .LinkCard.new .LinkCard-image.LinkCard-image--default svg{color:#999999;}.css-1wr1m8 .LinkCard.new .LinkCard-image img{width:100%;height:100%;object-fit:cover;}.css-1wr1m8 .LinkCard.new .LinkCard-image .LinkCard-image--video{display:-webkit-box;display:-webkit-flex;display:-ms-flexbox;display:flex;-webkit-align-items:center;-webkit-box-align:center;-ms-flex-align:center;align-items:center;-webkit-box-pack:center;-webkit-justify-content:center;-ms-flex-pack:center;justify-content:center;position:absolute;top:50%;left:50%;-webkit-transform:translateX(-50%) translateY(-50%);-ms-transform:translateX(-50%) translateY(-50%);transform:translateX(-50%) translateY(-50%);width:24px;height:24px;border-radius:12px;background:rgba(255,255,255,0.9);pointer-events:none;}.css-1wr1m8 .LinkCard.new .LinkCard-image .LinkCard-image--video svg{color:#444444;}.css-1wr1m8 .LinkCard.new .LinkCard-richText .text{color:#444444;}.css-1wr1m8 .LinkCard.new .LinkCard-richText .bold{font-weight:600;}.css-1wr1m8 .LinkCard.new .LinkCard-richText .tag{margin-left:4px;}.css-1wr1m8 .LinkCard.old{position:relative;display:block;margin:1em auto;width:390px;box-sizing:border-box;border-radius:12px;max-width:100%;overflow:hidden;}.css-1wr1m8 .LinkCard.old,.css-1wr1m8 .LinkCard.old:hover{-webkit-text-decoration:none;text-decoration:none;border:none !important;color:inherit !important;}.css-1wr1m8 .LinkCard-ecommerceLoadingCard{position:relative;display:-webkit-box;display:-webkit-flex;display:-ms-flexbox;display:flex;-webkit-align-items:center;-webkit-box-align:center;-ms-flex-align:center;align-items:center;-webkit-box-pack:justify;-webkit-justify-content:space-between;-ms-flex-pack:justify;justify-content:space-between;padding:12px;border-radius:inherit;height:80px;box-sizing:border-box;background:rgba(246,246,246,0.88);color:#D3D3D3;}.css-1wr1m8 .LinkCard-ecommerceLoadingCardAvatarWrapper{width:60px;height:60px;background:#EBEBEB;display:-webkit-box;display:-webkit-flex;display:-ms-flexbox;display:flex;-webkit-align-items:center;-webkit-box-align:center;-ms-flex-align:center;align-items:center;-webkit-box-pack:center;-webkit-justify-content:center;-ms-flex-pack:center;justify-content:center;border-radius:6px;margin-right:10px;}.css-1wr1m8 .LinkCard-ecommerceLoadingCardNetwork{width:20px;height:20px;}.css-1wr1m8 .LinkCard-ecommerceLoadingCardLoadingbar{height:60px;-webkit-flex:1;-ms-flex:1;flex:1;display:-webkit-box;display:-webkit-flex;display:-ms-flexbox;display:flex;-webkit-flex-direction:column;-ms-flex-direction:column;flex-direction:column;}.css-1wr1m8 .LinkCard-ecommerceLoadingCardLoadingbar span{height:16px;display:inline-block;background:#EBEBEB;}.css-1wr1m8 .LinkCard-ecommerceLoadingCardLoadingbar span:nth-of-type(1){width:60px;margin-bottom:4px;}.css-1wr1m8 .LinkCard-ecommerceLoadingCardLoadingbar span:nth-of-type(2){width:127px;}</style><style data-emotion-css=\"hypxot\">.css-hypxot .LinkCard.old{position:relative;display:block;margin:1em auto;width:390px;box-sizing:border-box;border-radius:12px;max-width:100%;overflow:hidden;}.css-hypxot .LinkCard.old,.css-hypxot .LinkCard.old:hover{-webkit-text-decoration:none;text-decoration:none;border:none !important;color:inherit !important;}.css-hypxot .LinkCard-ecommerceLoadingCard{position:relative;display:-webkit-box;display:-webkit-flex;display:-ms-flexbox;display:flex;-webkit-align-items:center;-webkit-box-align:center;-ms-flex-align:center;align-items:center;-webkit-box-pack:justify;-webkit-justify-content:space-between;-ms-flex-pack:justify;justify-content:space-between;padding:12px;border-radius:inherit;height:80px;box-sizing:border-box;background:rgba(246,246,246,0.88);color:#D3D3D3;}.css-hypxot .LinkCard-ecommerceLoadingCardAvatarWrapper{width:60px;height:60px;background:#EBEBEB;display:-webkit-box;display:-webkit-flex;display:-ms-flexbox;display:flex;-webkit-align-items:center;-webkit-box-align:center;-ms-flex-align:center;align-items:center;-webkit-box-pack:center;-webkit-justify-content:center;-ms-flex-pack:center;justify-content:center;border-radius:6px;margin-right:10px;}.css-hypxot .LinkCard-ecommerceLoadingCardNetwork{width:20px;height:20px;}.css-hypxot .LinkCard-ecommerceLoadingCardLoadingbar{height:60px;-webkit-flex:1;-ms-flex:1;flex:1;display:-webkit-box;display:-webkit-flex;display:-ms-flexbox;display:flex;-webkit-flex-direction:column;-ms-flex-direction:column;flex-direction:column;}.css-hypxot .LinkCard-ecommerceLoadingCardLoadingbar span{height:16px;display:inline-block;background:#EBEBEB;}.css-hypxot .LinkCard-ecommerceLoadingCardLoadingbar span:nth-of-type(1){width:60px;margin-bottom:4px;}.css-hypxot .LinkCard-ecommerceLoadingCardLoadingbar span:nth-of-type(2){width:127px;}.css-hypxot .LinkCard.new{position:relative;display:-webkit-box;display:-webkit-flex;display:-ms-flexbox;display:flex;box-sizing:border-box;-webkit-flex-direction:row;-ms-flex-direction:row;flex-direction:row;-webkit-align-items:center;-webkit-box-align:center;-ms-flex-align:center;align-items:center;width:390px;min-height:84px;border-radius:8px;max-width:100%;overflow:hidden;margin:16px auto;padding:12px 12px 9px 12px;background-color:#F6F6F6;}.css-hypxot .LinkCard.new,.css-hypxot .LinkCard.new:hover{-webkit-text-decoration:none;text-decoration:none;border:none !important;color:inherit !important;}.css-hypxot .LinkCard.new .LinkCard-contents{display:block;-webkit-flex:1 1 auto;-ms-flex:1 1 auto;flex:1 1 auto;position:relative;}.css-hypxot .LinkCard.new .LinkCard-contents .loading{height:14px;background:#EBEBEB;border-radius:7px;}.css-hypxot .LinkCard.new .LinkCard-contents.withTitle{margin-bottom:3px;}.css-hypxot .LinkCard.new .LinkCard-title{display:-webkit-box;font-size:15px;font-weight:500;line-height:1.4;margin-bottom:2px;color:#121212;text-overflow:ellipsis;overflow:hidden;-webkit-box-orient:vertical;-webkit-line-clamp:1;}.css-hypxot .LinkCard.new .LinkCard-title.two-line{line-height:20px;display:-webkit-box;text-overflow:ellipsis;overflow:hidden;-webkit-box-orient:vertical;-webkit-line-clamp:2;}.css-hypxot .LinkCard.new .LinkCard-title.loading{margin-bottom:8px;width:80%;}.css-hypxot .LinkCard.new .LinkCard-title.loading.withTitle{margin-bottom:6px;}.css-hypxot .LinkCard.new .LinkCard-title.loadingTitle{margin-bottom:5px;}.css-hypxot .LinkCard.new .LinkCard-excerpt{display:-webkit-box;text-overflow:ellipsis;font-size:13px;line-height:18px;color:#999999;margin-bottom:4px;overflow:hidden;-webkit-box-orient:vertical;-webkit-line-clamp:1;}.css-hypxot .LinkCard.new .LinkCard-excerpt .LinkCard-author{color:#444444;}.css-hypxot .LinkCard.new .LinkCard-desc{display:-webkit-box;font-size:13px;height:18px;line-height:18px;color:#999999;word-break:break-all;text-overflow:ellipsis;overflow:hidden;-webkit-box-orient:vertical;-webkit-line-clamp:1;}.css-hypxot .LinkCard.new .LinkCard-desc .LinkCard-tag,.css-hypxot .LinkCard.new .LinkCard-desc .tag{display:inline-block;font-size:11px;margin-left:8px;padding:0 4px;border-radius:3px;background:rgba(211,211,211,0.3);}.css-hypxot .LinkCard.new .LinkCard-desc.loading{width:40%;}.css-hypxot .LinkCard.new .LinkCard-desc svg{margin-right:2px;}.css-hypxot .LinkCard.new .LinkCard-image{-webkit-flex:0 0 auto;-ms-flex:0 0 auto;flex:0 0 auto;background-color:#EBEBEB;background-size:cover;background-position:center;position:relative;display:block;width:60px;height:60px;margin-left:20px;object-fit:cover;border-radius:inherit;overflow:hidden;}.css-hypxot .LinkCard.new .LinkCard-image.LinkCard-image--default{display:-webkit-box;display:-webkit-flex;display:-ms-flexbox;display:flex;-webkit-align-items:center;-webkit-box-align:center;-ms-flex-align:center;align-items:center;-webkit-box-pack:center;-webkit-justify-content:center;-ms-flex-pack:center;justify-content:center;background-color:#EBEBEB;color:#D3D3D3;}.css-hypxot .LinkCard.new .LinkCard-image.LinkCard-image--default svg{color:#999999;}.css-hypxot .LinkCard.new .LinkCard-image img{width:100%;height:100%;object-fit:cover;}.css-hypxot .LinkCard.new .LinkCard-image .LinkCard-image--video{display:-webkit-box;display:-webkit-flex;display:-ms-flexbox;display:flex;-webkit-align-items:center;-webkit-box-align:center;-ms-flex-align:center;align-items:center;-webkit-box-pack:center;-webkit-justify-content:center;-ms-flex-pack:center;justify-content:center;position:absolute;top:50%;left:50%;-webkit-transform:translateX(-50%) translateY(-50%);-ms-transform:translateX(-50%) translateY(-50%);transform:translateX(-50%) translateY(-50%);width:24px;height:24px;border-radius:12px;background:rgba(255,255,255,0.9);pointer-events:none;}.css-hypxot .LinkCard.new .LinkCard-image .LinkCard-image--video svg{color:#444444;}.css-hypxot .LinkCard.new .LinkCard-richText .text{color:#444444;}.css-hypxot .LinkCard.new .LinkCard-richText .bold{font-weight:600;}.css-hypxot .LinkCard.new .LinkCard-richText .tag{margin-left:4px;}.css-hypxot .FileLinkCard{-webkit-align-items:center;-webkit-box-align:center;-ms-flex-align:center;align-items:center;background-color:rgba(246,246,246,0.88);border-radius:12px;box-sizing:border-box;display:-webkit-box;display:-webkit-flex;display:-ms-flexbox;display:flex;margin:1em auto;max-width:100%;overflow:hidden;padding:12px;position:relative;width:390px;}.css-hypxot .FileLinkCard-icon{-webkit-flex-shrink:0;-ms-flex-negative:0;flex-shrink:0;height:30px;width:30px;}.css-hypxot .FileLinkCard-info{margin-left:12px;}.css-hypxot .FileLinkCard-name{color:#121212;font-size:15px;font-weight:500;line-height:21px;display:-webkit-box;text-overflow:ellipsis;overflow:hidden;-webkit-box-orient:vertical;-webkit-line-clamp:2;}.css-hypxot .FileLinkCard-meta{color:#999999;font-size:12px;display:-webkit-box;display:-webkit-flex;display:-ms-flexbox;display:flex;line-height:14px;margin-top:5px;}.css-hypxot .FileLinkCard-source{white-space:pre;}</style><style data-emotion-css=\"14bz7qe animation-1sh55c5\">.css-14bz7qe{word-break:break-word;line-height:1.6;}.css-14bz7qe a.UserLink-link{color:#175199;}.css-14bz7qe a.UserLink-link:hover{border-bottom:1px solid #175199;}.css-14bz7qe lazy[data-lazy-status]{background-color:#F6F6F6;}.css-14bz7qe lazy[data-lazy-status=\"ok\"]{background-color:transparent;-webkit-animation:animation-1sh55c5 0.5s ease-in;animation:animation-1sh55c5 0.5s ease-in;}.css-14bz7qe > [data-first-child]{margin-top:0;}.css-14bz7qe > :last-child{margin-bottom:0;}.css-14bz7qe h1,.css-14bz7qe h2{clear:left;margin-top:calc((1.4em * 2) / 1.2);margin-bottom:calc(1.4em / 1.2);font-size:1.2em;line-height:1.5;font-weight:600;}.css-14bz7qe h3,.css-14bz7qe h4,.css-14bz7qe h5,.css-14bz7qe h6{clear:left;margin-top:calc((1.4em * 1.5) / 1.1);margin-bottom:calc(1.4em / 1.1);font-size:1.1em;line-height:1.5;font-weight:600;}.css-14bz7qe u{-webkit-text-decoration:none;text-decoration:none;border-bottom:1px dashed #808080;}.css-14bz7qe b{font-weight:600;}.css-14bz7qe sup{font-size:0.8em;}.css-14bz7qe sup[data-draft-type='reference']{color:#175199;}.css-14bz7qe a:focus{outline:none;-webkit-transition:box-shadow 0.3s;transition:box-shadow 0.3s;}html[data-focus-visible] .css-14bz7qe a:focus{box-shadow:0 0 0 2px #FFFFFF,0 0 0 4px rgba(0,102,255,0.3);}.css-14bz7qe a.ztext-link,.css-14bz7qe a.internal,.css-14bz7qe a.external{-webkit-text-decoration:none;text-decoration:none;cursor:pointer;border-bottom:1px solid #808080;}.css-14bz7qe a.ztext-link:hover,.css-14bz7qe a.internal:hover,.css-14bz7qe a.external:hover{color:#175199;border-bottom:1px solid #175199;}.css-14bz7qe a.ztext-link > .ellipsis::after,.css-14bz7qe a.internal > .ellipsis::after,.css-14bz7qe a.external > .ellipsis::after{content:'...';}.css-14bz7qe a.ztext-link > .invisible,.css-14bz7qe a.internal > .invisible,.css-14bz7qe a.external > .invisible{font:0/0 a;color:transparent;text-shadow:none;background-color:transparent;}.css-14bz7qe a.ztext-link u,.css-14bz7qe a.internal u,.css-14bz7qe a.external u{border:none;}.css-14bz7qe a.member_mention{color:#175199;}.css-14bz7qe a.member_mention:hover{border-bottom:1px solid #175199;}.css-14bz7qe p{margin:1.4em 0;}.css-14bz7qe p.ztext-empty-paragraph{margin:calc((2.8em- (1.4em * 2 + 1.6em)) / 2) 0;}.css-14bz7qe p.ztext-empty-paragraph + .ztext-empty-paragraph{margin:1.4em 0;}.css-14bz7qe hr{margin:4em auto;width:240px;max-width:100%;border:none;border-top:1px solid #D3D3D3;}.css-14bz7qe img[eeimg]{max-width:100%;vertical-align:middle;}.css-14bz7qe img[eeimg=\"1\"]{margin:0 3px;display:inline-block;}.css-14bz7qe img[eeimg=\"2\"]{margin:1.4em 0;display:block;}.css-14bz7qe blockquote{margin:1.4em 0;padding-left:1em;color:#646464;border-left:3px solid #D3D3D3;}.css-14bz7qe ol,.css-14bz7qe ul{margin:1.4em 0;padding:0;}.css-14bz7qe ol ol,.css-14bz7qe ul ol,.css-14bz7qe ol ul,.css-14bz7qe ul ul{margin:0;}.css-14bz7qe ol > ol,.css-14bz7qe ul > ol,.css-14bz7qe ol > ul,.css-14bz7qe ul > ul{display:table-row;}.css-14bz7qe ol > ol::before,.css-14bz7qe ul > ol::before,.css-14bz7qe ol > ul::before,.css-14bz7qe ul > ul::before{display:table-cell;content:'';}.css-14bz7qe ul{display:table;}.css-14bz7qe ul>li{display:table-row;list-style:none;}.css-14bz7qe ul>li::before{display:table-cell;content:'•  ';white-space:pre;}.css-14bz7qe ol{display:table;counter-reset:ol;}.css-14bz7qe ol > li{display:table-row;list-style:none;}.css-14bz7qe ol > li::before{display:table-cell;text-align:right;counter-increment:ol;content:counter(ol) '. ';white-space:pre;}.css-14bz7qe ol ol{counter-reset:ol2;}.css-14bz7qe ol ol li::before{counter-increment:ol2;content:counter(ol2) '. ';}.css-14bz7qe ol ol ol{counter-reset:ol3;}.css-14bz7qe ol ol ol li::before{counter-increment:ol3;content:counter(ol3) '. ';}.css-14bz7qe ol ol ol ol{counter-reset:ol4;}.css-14bz7qe ol ol ol ol li::before{counter-increment:ol4;content:counter(ol4) '. ';}.css-14bz7qe figure{margin:1.4em 0;}.css-14bz7qe figure .content_image,.css-14bz7qe figure .origin_image{margin:0 auto;}.css-14bz7qe figure figcaption{margin-top:calc(0.6em / 0.9);padding:0 1em;font-size:0.9em;line-height:1.5;text-align:center;color:#999999;}.css-14bz7qe figure + figure{margin-top:calc(1.4em * 1.6);}.css-14bz7qe figure[data-size='small'],.css-14bz7qe figure:not([data-size]) > [data-size='small']{clear:both;}.css-14bz7qe figure[data-size='left'],.css-14bz7qe figure:not([data-size]) > [data-size='left']{float:left;margin:0 20px 20px 0;max-width:33%;}.css-14bz7qe figure[data-size='right'],.css-14bz7qe figure:not([data-size]) > [data-size='right']{float:right;margin:0 0 20px 20px;max-width:33%;}.css-14bz7qe figure[data-size='collapse']{margin-bottom:0;}.css-14bz7qe figure[data-size='collapse'] + figure{margin-top:0;}.css-14bz7qe .content_image,.css-14bz7qe .origin_image{display:block;max-width:100%;margin:1.4em auto;}.css-14bz7qe .content_image[data-size='small'],.css-14bz7qe .origin_image[data-size='small']{max-width:40%;}.css-14bz7qe .content_image.zh-lightbox-thumb,.css-14bz7qe .origin_image.zh-lightbox-thumb{cursor:-webkit-zoom-in;cursor:-moz-zoom-in;cursor:zoom-in;}.css-14bz7qe code{margin:0 2px;padding:3px 4px;border-radius:3px;font-size:0.9em;background-color:#F6F6F6;}.css-14bz7qe pre{margin:1.4em 0;padding:calc(0.8em / 0.9);font-size:0.9em;word-break:initial;word-wrap:initial;white-space:pre;overflow:auto;-webkit-overflow-scrolling:touch;background:#F6F6F6;border-radius:4px;}.css-14bz7qe pre code{margin:0;padding:0;font-size:inherit;border-radius:0;background-color:inherit;}.css-14bz7qe li pre{white-space:pre-wrap;}.css-14bz7qe table[data-draft-type='table']{border-collapse:collapse;font-size:15px;margin:1.4em auto;max-width:100%;table-layout:fixed;text-align:left;width:100%;}.css-14bz7qe table[data-draft-type='table'][data-size='small']{min-width:260px;width:40%;}.css-14bz7qe table[data-draft-type='table'][data-row-style='striped'] tr:nth-of-type(2n + 1){background:#F6F6F6;}.css-14bz7qe table[data-draft-type='table'] td,.css-14bz7qe table[data-draft-type='table'] th{border:1px solid #D3D3D3;line-height:24px;height:24px;padding:3px 12px;}.css-14bz7qe table[data-draft-type='table'] th{background:#EBEBEB;color:#121212;font-weight:500;}.css-14bz7qe .video-box,.css-14bz7qe .link-box{position:relative;display:-webkit-box;display:-webkit-flex;display:-ms-flexbox;display:flex;-webkit-box-pack:justify;-webkit-justify-content:space-between;-ms-flex-pack:justify;justify-content:space-between;margin:1.4em 0;overflow:auto;white-space:normal;cursor:pointer;border:solid 1px #EBEBEB;border-radius:4px;}.css-14bz7qe .highlight{margin:1em 0;}.css-14bz7qe .highlight pre{margin:0;}.css-14bz7qe .highlight .hll{background-color:#FDFDFD;}.css-14bz7qe .highlight .c{font-style:italic;color:#999999;}.css-14bz7qe .highlight .err{color:#F1403C;}.css-14bz7qe .highlight .k{font-weight:600;}.css-14bz7qe .highlight .o{font-weight:600;}.css-14bz7qe .highlight .cm{font-style:italic;color:#999999;}.css-14bz7qe .highlight .cp{font-weight:600;color:#999999;}.css-14bz7qe .highlight .c1{font-style:italic;color:#999999;}.css-14bz7qe .highlight .cs{font-style:italic;font-weight:600;color:#999999;}.css-14bz7qe .highlight .gd{color:#FF3366;}.css-14bz7qe .highlight .ge{font-style:italic;}.css-14bz7qe .highlight .gr{color:#F1403C;}.css-14bz7qe .highlight .gh{color:#999999;}.css-14bz7qe .highlight .gi{color:#12b370;}.css-14bz7qe .highlight .go{color:#808080;}.css-14bz7qe .highlight .gp{color:#646464;}.css-14bz7qe .highlight .gs{font-weight:600;}.css-14bz7qe .highlight .gu{color:#999999;}.css-14bz7qe .highlight .gt{color:#F1403C;}.css-14bz7qe .highlight .kc{font-weight:600;}.css-14bz7qe .highlight .kd{font-weight:600;}.css-14bz7qe .highlight .kn{font-weight:600;}.css-14bz7qe .highlight .kp{font-weight:600;}.css-14bz7qe .highlight .kr{font-weight:600;}.css-14bz7qe .highlight .kt{font-weight:600;color:#175199;}.css-14bz7qe .highlight .m{color:#0066FF;}.css-14bz7qe .highlight .s{color:#F1403C;}.css-14bz7qe .highlight .na{color:#0066FF;}.css-14bz7qe .highlight .nb{color:#0066FF;}.css-14bz7qe .highlight .nc{font-weight:600;color:#175199;}.css-14bz7qe .highlight .no{color:#0066FF;}.css-14bz7qe .highlight .ni{color:#5555DD;}.css-14bz7qe .highlight .ne{font-weight:600;color:#F1403C;}.css-14bz7qe .highlight .nf{font-weight:600;color:#F1403C;}.css-14bz7qe .highlight .nn{color:#646464;}.css-14bz7qe .highlight .nt{color:#175199;}.css-14bz7qe .highlight .nv{color:#0066FF;}.css-14bz7qe .highlight .ow{font-weight:600;}.css-14bz7qe .highlight .w{color:#BFBFBF;}.css-14bz7qe .highlight .mf{color:#0066FF;}.css-14bz7qe .highlight .mh{color:#0066FF;}.css-14bz7qe .highlight .mi{color:#0066FF;}.css-14bz7qe .highlight .mo{color:#0066FF;}.css-14bz7qe .highlight .sb{color:#F1403C;}.css-14bz7qe .highlight .sc{color:#F1403C;}.css-14bz7qe .highlight .sd{color:#F1403C;}.css-14bz7qe .highlight .s2{color:#F1403C;}.css-14bz7qe .highlight .se{color:#F1403C;}.css-14bz7qe .highlight .sh{color:#F1403C;}.css-14bz7qe .highlight .si{color:#F1403C;}.css-14bz7qe .highlight .sx{color:#F1403C;}.css-14bz7qe .highlight .sr{color:#A5542F;}.css-14bz7qe .highlight .s1{color:#F1403C;}.css-14bz7qe .highlight .ss{color:#F1403C;}.css-14bz7qe .highlight .bp{color:#999999;}.css-14bz7qe .highlight .vc{color:#0066FF;}.css-14bz7qe .highlight .vg{color:#0066FF;}.css-14bz7qe .highlight .vi{color:#0066FF;}.css-14bz7qe .highlight .il{color:#0066FF;}.css-14bz7qe .highlight::-webkit-scrollbar{width:6px;height:6px;}.css-14bz7qe .highlight::-webkit-scrollbar-thumb:horizontal{background-color:rgba(18,18,18,0.5);border-radius:6px;}.css-14bz7qe .highlight::-webkit-scrollbar-thumb:horizontal:hover{background-color:rgba(18,18,18,0.6);}.css-14bz7qe .LinkCard.old{position:relative;display:block;margin:1em auto;width:390px;box-sizing:border-box;border-radius:12px;max-width:100%;overflow:hidden;}.css-14bz7qe .LinkCard.old,.css-14bz7qe .LinkCard.old:hover{-webkit-text-decoration:none;text-decoration:none;border:none !important;color:inherit !important;}.css-14bz7qe .LinkCard-ecommerceLoadingCard{position:relative;display:-webkit-box;display:-webkit-flex;display:-ms-flexbox;display:flex;-webkit-align-items:center;-webkit-box-align:center;-ms-flex-align:center;align-items:center;-webkit-box-pack:justify;-webkit-justify-content:space-between;-ms-flex-pack:justify;justify-content:space-between;padding:12px;border-radius:inherit;height:80px;box-sizing:border-box;background:rgba(246,246,246,0.88);color:#D3D3D3;}.css-14bz7qe .LinkCard-ecommerceLoadingCardAvatarWrapper{width:60px;height:60px;background:#EBEBEB;display:-webkit-box;display:-webkit-flex;display:-ms-flexbox;display:flex;-webkit-align-items:center;-webkit-box-align:center;-ms-flex-align:center;align-items:center;-webkit-box-pack:center;-webkit-justify-content:center;-ms-flex-pack:center;justify-content:center;border-radius:6px;margin-right:10px;}.css-14bz7qe .LinkCard-ecommerceLoadingCardNetwork{width:20px;height:20px;}.css-14bz7qe .LinkCard-ecommerceLoadingCardLoadingbar{height:60px;-webkit-flex:1;-ms-flex:1;flex:1;display:-webkit-box;display:-webkit-flex;display:-ms-flexbox;display:flex;-webkit-flex-direction:column;-ms-flex-direction:column;flex-direction:column;}.css-14bz7qe .LinkCard-ecommerceLoadingCardLoadingbar span{height:16px;display:inline-block;background:#EBEBEB;}.css-14bz7qe .LinkCard-ecommerceLoadingCardLoadingbar span:nth-of-type(1){width:60px;margin-bottom:4px;}.css-14bz7qe .LinkCard-ecommerceLoadingCardLoadingbar span:nth-of-type(2){width:127px;}.css-14bz7qe .LinkCard.new{position:relative;display:-webkit-box;display:-webkit-flex;display:-ms-flexbox;display:flex;box-sizing:border-box;-webkit-flex-direction:row;-ms-flex-direction:row;flex-direction:row;-webkit-align-items:center;-webkit-box-align:center;-ms-flex-align:center;align-items:center;width:390px;min-height:84px;border-radius:8px;max-width:100%;overflow:hidden;margin:16px auto;padding:12px 12px 9px 12px;background-color:#F6F6F6;}.css-14bz7qe .LinkCard.new,.css-14bz7qe .LinkCard.new:hover{-webkit-text-decoration:none;text-decoration:none;border:none !important;color:inherit !important;}.css-14bz7qe .LinkCard.new .LinkCard-contents{display:block;-webkit-flex:1 1 auto;-ms-flex:1 1 auto;flex:1 1 auto;position:relative;}.css-14bz7qe .LinkCard.new .LinkCard-contents .loading{height:14px;background:#EBEBEB;border-radius:7px;}.css-14bz7qe .LinkCard.new .LinkCard-contents.withTitle{margin-bottom:3px;}.css-14bz7qe .LinkCard.new .LinkCard-title{display:-webkit-box;font-size:15px;font-weight:500;line-height:1.4;margin-bottom:2px;color:#121212;text-overflow:ellipsis;overflow:hidden;-webkit-box-orient:vertical;-webkit-line-clamp:1;}.css-14bz7qe .LinkCard.new .LinkCard-title.two-line{line-height:20px;display:-webkit-box;text-overflow:ellipsis;overflow:hidden;-webkit-box-orient:vertical;-webkit-line-clamp:2;}.css-14bz7qe .LinkCard.new .LinkCard-title.loading{margin-bottom:8px;width:80%;}.css-14bz7qe .LinkCard.new .LinkCard-title.loading.withTitle{margin-bottom:6px;}.css-14bz7qe .LinkCard.new .LinkCard-title.loadingTitle{margin-bottom:5px;}.css-14bz7qe .LinkCard.new .LinkCard-excerpt{display:-webkit-box;text-overflow:ellipsis;font-size:13px;line-height:18px;color:#999999;margin-bottom:4px;overflow:hidden;-webkit-box-orient:vertical;-webkit-line-clamp:1;}.css-14bz7qe .LinkCard.new .LinkCard-excerpt .LinkCard-author{color:#444444;}.css-14bz7qe .LinkCard.new .LinkCard-desc{display:-webkit-box;font-size:13px;height:18px;line-height:18px;color:#999999;word-break:break-all;text-overflow:ellipsis;overflow:hidden;-webkit-box-orient:vertical;-webkit-line-clamp:1;}.css-14bz7qe .LinkCard.new .LinkCard-desc .LinkCard-tag,.css-14bz7qe .LinkCard.new .LinkCard-desc .tag{display:inline-block;font-size:11px;margin-left:8px;padding:0 4px;border-radius:3px;background:rgba(211,211,211,0.3);}.css-14bz7qe .LinkCard.new .LinkCard-desc.loading{width:40%;}.css-14bz7qe .LinkCard.new .LinkCard-desc svg{margin-right:2px;}.css-14bz7qe .LinkCard.new .LinkCard-image{-webkit-flex:0 0 auto;-ms-flex:0 0 auto;flex:0 0 auto;background-color:#EBEBEB;background-size:cover;background-position:center;position:relative;display:block;width:60px;height:60px;margin-left:20px;object-fit:cover;border-radius:inherit;overflow:hidden;}.css-14bz7qe .LinkCard.new .LinkCard-image.LinkCard-image--default{display:-webkit-box;display:-webkit-flex;display:-ms-flexbox;display:flex;-webkit-align-items:center;-webkit-box-align:center;-ms-flex-align:center;align-items:center;-webkit-box-pack:center;-webkit-justify-content:center;-ms-flex-pack:center;justify-content:center;background-color:#EBEBEB;color:#D3D3D3;}.css-14bz7qe .LinkCard.new .LinkCard-image.LinkCard-image--default svg{color:#999999;}.css-14bz7qe .LinkCard.new .LinkCard-image img{width:100%;height:100%;object-fit:cover;}.css-14bz7qe .LinkCard.new .LinkCard-image .LinkCard-image--video{display:-webkit-box;display:-webkit-flex;display:-ms-flexbox;display:flex;-webkit-align-items:center;-webkit-box-align:center;-ms-flex-align:center;align-items:center;-webkit-box-pack:center;-webkit-justify-content:center;-ms-flex-pack:center;justify-content:center;position:absolute;top:50%;left:50%;-webkit-transform:translateX(-50%) translateY(-50%);-ms-transform:translateX(-50%) translateY(-50%);transform:translateX(-50%) translateY(-50%);width:24px;height:24px;border-radius:12px;background:rgba(255,255,255,0.9);pointer-events:none;}.css-14bz7qe .LinkCard.new .LinkCard-image .LinkCard-image--video svg{color:#444444;}.css-14bz7qe .LinkCard.new .LinkCard-richText .text{color:#444444;}.css-14bz7qe .LinkCard.new .LinkCard-richText .bold{font-weight:600;}.css-14bz7qe .LinkCard.new .LinkCard-richText .tag{margin-left:4px;}.css-14bz7qe .FileLinkCard{-webkit-align-items:center;-webkit-box-align:center;-ms-flex-align:center;align-items:center;background-color:rgba(246,246,246,0.88);border-radius:12px;box-sizing:border-box;display:-webkit-box;display:-webkit-flex;display:-ms-flexbox;display:flex;margin:1em auto;max-width:100%;overflow:hidden;padding:12px;position:relative;width:390px;}.css-14bz7qe .FileLinkCard-icon{-webkit-flex-shrink:0;-ms-flex-negative:0;flex-shrink:0;height:30px;width:30px;}.css-14bz7qe .FileLinkCard-info{margin-left:12px;}.css-14bz7qe .FileLinkCard-name{color:#121212;font-size:15px;font-weight:500;line-height:21px;display:-webkit-box;text-overflow:ellipsis;overflow:hidden;-webkit-box-orient:vertical;-webkit-line-clamp:2;}.css-14bz7qe .FileLinkCard-meta{color:#999999;font-size:12px;display:-webkit-box;display:-webkit-flex;display:-ms-flexbox;display:flex;line-height:14px;margin-top:5px;}.css-14bz7qe .FileLinkCard-source{white-space:pre;}@-webkit-keyframes animation-1sh55c5{from{opacity:0;}to{opacity:1;}}@keyframes animation-1sh55c5{from{opacity:0;}to{opacity:1;}}</style><span class=\"RichText ztext CopyrightRichText-richText css-14bz7qe\" options=\"[object Object]\" itemProp=\"text\">从1965年Lumley开始，降低流体力学的维度，就是一个非常重要的课题了。为什么呢？因为降低维度之后，人们才能将许多“低维”系统领域研究者们的数十年来的贡献，搬到流体力学领域来使用。例如控制领域的东西拿过来…</span><button type=\"button\" class=\"Button ContentItem-more Button--plain\">阅读全文<span style=\"display:inline-flex;align-items:center\">​<svg width=\"24\" height=\"24\" viewBox=\"0 0 24 24\" data-new-api=\"ArrowDownSmall24\" data-old-api=\"ArrowDown\" class=\"Zi Zi--ArrowDown ContentItem-arrowIcon\" fill=\"currentColor\"><path d=\"M12 13.248L8.22 9.223a.684.684 0 00-1.01 0 .796.796 0 000 1.075l4.15 4.42a.867.867 0 001.28 0l4.15-4.42a.796.796 0 000-1.075.684.684 0 00-1.01 0L12 13.248z\" fill-rule=\"evenodd\" clip-rule=\"evenodd\"></path></svg></span></button></div><div class=\"ContentItem-actions\"><style data-emotion-css=\"1cd8nnu\">.css-1cd8nnu{margin-bottom:14px;}</style><div class=\"css-1cd8nnu\"><div class=\"ContentItem-actions ZVideoToolbar ContentItem-action ZVideoItem-toolbar\"><span><button aria-label=\"赞同 10 \" aria-live=\"polite\" type=\"button\" class=\"Button VoteButton VoteButton--up\"><span style=\"display:inline-flex;align-items:center\">​<svg width=\"10\" height=\"10\" viewBox=\"0 0 24 24\" data-new-api=\"AgreeFill24\" data-old-api=\"TriangleUp\" class=\"Zi Zi--TriangleUp VoteButton-TriangleUp\" fill=\"currentColor\"><path d=\"M13.792 3.681c-.781-1.406-2.803-1.406-3.584 0l-7.79 14.023c-.76 1.367.228 3.046 1.791 3.046h15.582c1.563 0 2.55-1.68 1.791-3.046l-7.79-14.023z\" fill-rule=\"evenodd\" clip-rule=\"evenodd\"></path></svg></span>赞同 10</button><button aria-label=\"反对\" aria-live=\"polite\" type=\"button\" class=\"Button VoteButton VoteButton--down\"><span style=\"display:inline-flex;align-items:center\">​<svg width=\"10\" height=\"10\" viewBox=\"0 0 24 24\" data-new-api=\"OpposeFill24\" data-old-api=\"TriangleDown\" class=\"Zi Zi--TriangleDown\" fill=\"currentColor\"><path d=\"M13.792 20.319c-.781 1.406-2.803 1.406-3.584 0L2.418 6.296c-.76-1.367.228-3.046 1.791-3.046h15.582c1.563 0 2.55 1.68 1.791 3.046l-7.79 14.023z\" fill-rule=\"evenodd\" clip-rule=\"evenodd\"></path></svg></span></button></span><button type=\"button\" class=\"Button ContentItem-action Button--plain Button--withIcon Button--withLabel\"><span style=\"display:inline-flex;align-items:center\">​<svg width=\"1.2em\" height=\"1.2em\" viewBox=\"0 0 24 24\" data-new-api=\"ChatBubbleFill24\" data-old-api=\"Comment\" class=\"Zi Zi--Comment Button-zi\" fill=\"currentColor\"><path d=\"M11.982 3C17.211 3 21 7.271 21 12.014c0 1.514-.441 3.072-1.215 4.496a.946.946 0 00-.063.813l.603 2.018c.135.487-.279.847-.738.703l-1.818-.54c-.495-.163-.882.044-1.341.324C15.114 20.602 13.476 21 12 21c-4.464 0-9-3.452-9-9.014C3 7.19 6.87 3 11.982 3z\"></path></svg></span>1 条评论</button><div class=\"Popover ShareMenu ContentItem-action\"><div class=\"ShareMenu-toggler\" id=\"null-toggle\" aria-haspopup=\"true\" aria-expanded=\"false\" aria-owns=\"null-content\"><button type=\"button\" class=\"Button Button--plain Button--withIcon Button--withLabel\"><span style=\"display:inline-flex;align-items:center\">​<svg width=\"1.2em\" height=\"1.2em\" viewBox=\"0 0 24 24\" data-new-api=\"PaperplaneFill24\" data-old-api=\"Share\" class=\"Zi Zi--Share Button-zi\" fill=\"currentColor\"><path d=\"M20.223 1.881a.8.8 0 011.205.778l-1.874 16.393a.9.9 0 01-1.204.742l-4.617-1.692a.7.7 0 00-.83.28l-1.929 3.021c-.43.674-1.474.37-1.474-.43v-3.866a.8.8 0 01.18-.505l5.809-7.15a.595.595 0 00-.897-.782l-5.933 6.357a1.1 1.1 0 01-1.257.251l-4.085-1.847a.8.8 0 01-.08-1.415L20.223 1.88z\"></path></svg></span>分享</button></div></div><button type=\"button\" class=\"Button ContentItem-action Button--plain Button--withIcon Button--withLabel\"><span style=\"display:inline-flex;align-items:center\">​<svg width=\"1.2em\" height=\"1.2em\" viewBox=\"0 0 24 24\" data-new-api=\"StarFill24\" data-old-api=\"Star\" class=\"Zi Zi--Star Button-zi\" fill=\"currentColor\"><path d=\"M10.484 3.307c.673-1.168 2.358-1.168 3.032 0l2.377 4.122a.25.25 0 00.165.12l4.655.987c1.319.28 1.84 1.882.937 2.884l-3.186 3.535a.25.25 0 00-.063.193l.5 4.733c.142 1.34-1.222 2.33-2.453 1.782l-4.346-1.938a.25.25 0 00-.204 0l-4.346 1.938c-1.231.549-2.595-.442-2.453-1.782l.5-4.733a.25.25 0 00-.064-.193L2.35 11.42c-.903-1.002-.382-2.604.937-2.884l4.655-.987a.25.25 0 00.164-.12l2.378-4.122z\"></path></svg></span>收藏</button><button aria-live=\"polite\" currentUser=\"[object Object]\" type=\"button\" class=\"Button ContentItem-action Button--plain Button--withIcon Button--withLabel\"><span style=\"display:inline-flex;align-items:center\">​<svg width=\"1.2em\" height=\"1.2em\" viewBox=\"0 0 24 24\" data-new-api=\"HeartFill24\" data-old-api=\"Heart\" class=\"Zi Zi--Heart Button-zi\" fill=\"currentColor\"><path d=\"M12.004 4.934c1.015-.944 2.484-1.618 3.98-1.618 3.48 0 6.53 3.265 6.15 7.614-.11 1.254-.686 2.55-1.458 3.753-.778 1.215-1.79 2.392-2.845 3.419-1.054 1.028-2.168 1.923-3.161 2.566a9.96 9.96 0 01-1.41.777c-.418.182-.862.32-1.268.32s-.848-.137-1.267-.317a9.918 9.918 0 01-1.407-.771c-.992-.64-2.103-1.53-3.156-2.555-1.052-1.024-2.062-2.2-2.84-3.417-.77-1.208-1.346-2.51-1.456-3.775-.38-4.349 2.67-7.614 6.15-7.614 1.484 0 2.983.673 3.988 1.618z\" fill-rule=\"evenodd\" clip-rule=\"evenodd\"></path></svg></span>喜欢</button><button type=\"button\" class=\"Button ContentItem-action Button--plain\"><span style=\"display:inline-flex;align-items:center\">​<svg width=\"1.2em\" height=\"1.2em\" viewBox=\"0 0 24 24\" data-new-api=\"FlagFill24\" data-old-api=\"FlagFill24\" class=\"ZDI ZDI--FlagFill24\" fill=\"currentColor\"><path d=\"M12.842 4.421c-1.86-1.24-3.957-1.408-5.798-1.025-1.827.38-3.467 1.313-4.47 2.381a.75.75 0 00-.171.732l4.44 14.546a.75.75 0 101.434-.438l-1.08-3.542c.025-.018.053-.036.083-.054.298-.184.801-.415 1.568-.523 1.386-.197 2.307.129 3.341.543l.187.075c1.005.405 2.161.872 3.791.804 1.401-.003 2.707-.45 3.67-1.015a5.217 5.217 0 001.212-.953c.284-.312.581-.752.581-1.255V5.046a.75.75 0 00-1.17-.622c-1.82 1.23-4.881 1.823-7.618-.003z\"></path></svg></span> 举报</button><div class=\"Popover ContentItem-action\"><button aria-label=\"更多\" id=\"null-toggle\" aria-haspopup=\"true\" aria-expanded=\"false\" aria-owns=\"null-content\" type=\"button\" class=\"Button OptionsButton Button--plain Button--withIcon Button--iconOnly\"><span style=\"display:inline-flex;align-items:center\">​<svg width=\"1.2em\" height=\"1.2em\" viewBox=\"0 0 24 24\" data-new-api=\"Dots24\" data-old-api=\"Dots\" class=\"Zi Zi--Dots Button-zi\" fill=\"currentColor\"><path d=\"M5.34 12a1.665 1.665 0 11-3.33 0 1.665 1.665 0 013.33 0zm8.325 0a1.665 1.665 0 11-3.33 0 1.665 1.665 0 013.33 0zm8.325 0a1.665 1.665 0 11-3.33 0 1.665 1.665 0 013.33 0z\"></path></svg></span></button></div></div></div></div></div></div></div></div></div><div class=\"Card TopstoryItem TopstoryItem-isRecommend\" tabindex=\"0\"><div class=\"Feed\"><div><div class=\"ContentItem AnswerItem\" data-zop=\"{&quot;authorName&quot;:&quot;法海&quot;,&quot;itemId&quot;:2342221210,&quot;title&quot;:&quot;现实中的武器怎么附魔？&quot;,&quot;type&quot;:&quot;answer&quot;}\" name=\"2342221210\" itemProp=\"answer\" itemType=\"http://schema.org/Answer\" itemscope=\"\"><h2 class=\"ContentItem-title\"><div itemProp=\"zhihu:question\" itemType=\"http://schema.org/Question\" itemscope=\"\"><meta itemProp=\"url\" content=\"https://www.zhihu.com/question/508098161\"/><meta itemProp=\"name\" content=\"现实中的武器怎么附魔？\"/><a target=\"_blank\" data-za-detail-view-element_name=\"Title\" data-za-detail-view-id=\"2812\" href=\"//www.zhihu.com/question/508098161/answer/2342221210\">现实中的武器怎么附魔？</a></div></h2><meta itemProp=\"image\"/><meta itemProp=\"upvoteCount\" content=\"1963\"/><meta itemProp=\"url\" content=\"https://www.zhihu.com/question/508098161/answer/2342221210\"/><meta itemProp=\"dateCreated\" content=\"2022-02-10T07:36:08.000Z\"/><meta itemProp=\"dateModified\" content=\"2022-02-10T07:47:37.000Z\"/><meta itemProp=\"commentCount\" content=\"134\"/><div class=\"RichContent is-collapsed\"><div class=\"RichContent-inner\"><style data-emotion-css=\"3jt6os\">.css-3jt6os .FileLinkCard{-webkit-align-items:center;-webkit-box-align:center;-ms-flex-align:center;align-items:center;background-color:rgba(246,246,246,0.88);border-radius:12px;box-sizing:border-box;display:-webkit-box;display:-webkit-flex;display:-ms-flexbox;display:flex;margin:1em auto;max-width:100%;overflow:hidden;padding:12px;position:relative;width:390px;}.css-3jt6os .FileLinkCard-icon{-webkit-flex-shrink:0;-ms-flex-negative:0;flex-shrink:0;height:30px;width:30px;}.css-3jt6os .FileLinkCard-info{margin-left:12px;}.css-3jt6os .FileLinkCard-name{color:#121212;font-size:15px;font-weight:500;line-height:21px;display:-webkit-box;text-overflow:ellipsis;overflow:hidden;-webkit-box-orient:vertical;-webkit-line-clamp:2;}.css-3jt6os .FileLinkCard-meta{color:#999999;font-size:12px;display:-webkit-box;display:-webkit-flex;display:-ms-flexbox;display:flex;line-height:14px;margin-top:5px;}.css-3jt6os .FileLinkCard-source{white-space:pre;}</style><style data-emotion-css=\"1wr1m8\">.css-1wr1m8 .LinkCard.new{position:relative;display:-webkit-box;display:-webkit-flex;display:-ms-flexbox;display:flex;box-sizing:border-box;-webkit-flex-direction:row;-ms-flex-direction:row;flex-direction:row;-webkit-align-items:center;-webkit-box-align:center;-ms-flex-align:center;align-items:center;width:390px;min-height:84px;border-radius:8px;max-width:100%;overflow:hidden;margin:16px auto;padding:12px 12px 9px 12px;background-color:#F6F6F6;}.css-1wr1m8 .LinkCard.new,.css-1wr1m8 .LinkCard.new:hover{-webkit-text-decoration:none;text-decoration:none;border:none !important;color:inherit !important;}.css-1wr1m8 .LinkCard.new .LinkCard-contents{display:block;-webkit-flex:1 1 auto;-ms-flex:1 1 auto;flex:1 1 auto;position:relative;}.css-1wr1m8 .LinkCard.new .LinkCard-contents .loading{height:14px;background:#EBEBEB;border-radius:7px;}.css-1wr1m8 .LinkCard.new .LinkCard-contents.withTitle{margin-bottom:3px;}.css-1wr1m8 .LinkCard.new .LinkCard-title{display:-webkit-box;font-size:15px;font-weight:500;line-height:1.4;margin-bottom:2px;color:#121212;text-overflow:ellipsis;overflow:hidden;-webkit-box-orient:vertical;-webkit-line-clamp:1;}.css-1wr1m8 .LinkCard.new .LinkCard-title.two-line{line-height:20px;display:-webkit-box;text-overflow:ellipsis;overflow:hidden;-webkit-box-orient:vertical;-webkit-line-clamp:2;}.css-1wr1m8 .LinkCard.new .LinkCard-title.loading{margin-bottom:8px;width:80%;}.css-1wr1m8 .LinkCard.new .LinkCard-title.loading.withTitle{margin-bottom:6px;}.css-1wr1m8 .LinkCard.new .LinkCard-title.loadingTitle{margin-bottom:5px;}.css-1wr1m8 .LinkCard.new .LinkCard-excerpt{display:-webkit-box;text-overflow:ellipsis;font-size:13px;line-height:18px;color:#999999;margin-bottom:4px;overflow:hidden;-webkit-box-orient:vertical;-webkit-line-clamp:1;}.css-1wr1m8 .LinkCard.new .LinkCard-excerpt .LinkCard-author{color:#444444;}.css-1wr1m8 .LinkCard.new .LinkCard-desc{display:-webkit-box;font-size:13px;height:18px;line-height:18px;color:#999999;word-break:break-all;text-overflow:ellipsis;overflow:hidden;-webkit-box-orient:vertical;-webkit-line-clamp:1;}.css-1wr1m8 .LinkCard.new .LinkCard-desc .LinkCard-tag,.css-1wr1m8 .LinkCard.new .LinkCard-desc .tag{display:inline-block;font-size:11px;margin-left:8px;padding:0 4px;border-radius:3px;background:rgba(211,211,211,0.3);}.css-1wr1m8 .LinkCard.new .LinkCard-desc.loading{width:40%;}.css-1wr1m8 .LinkCard.new .LinkCard-desc svg{margin-right:2px;}.css-1wr1m8 .LinkCard.new .LinkCard-image{-webkit-flex:0 0 auto;-ms-flex:0 0 auto;flex:0 0 auto;background-color:#EBEBEB;background-size:cover;background-position:center;position:relative;display:block;width:60px;height:60px;margin-left:20px;object-fit:cover;border-radius:inherit;overflow:hidden;}.css-1wr1m8 .LinkCard.new .LinkCard-image.LinkCard-image--default{display:-webkit-box;display:-webkit-flex;display:-ms-flexbox;display:flex;-webkit-align-items:center;-webkit-box-align:center;-ms-flex-align:center;align-items:center;-webkit-box-pack:center;-webkit-justify-content:center;-ms-flex-pack:center;justify-content:center;background-color:#EBEBEB;color:#D3D3D3;}.css-1wr1m8 .LinkCard.new .LinkCard-image.LinkCard-image--default svg{color:#999999;}.css-1wr1m8 .LinkCard.new .LinkCard-image img{width:100%;height:100%;object-fit:cover;}.css-1wr1m8 .LinkCard.new .LinkCard-image .LinkCard-image--video{display:-webkit-box;display:-webkit-flex;display:-ms-flexbox;display:flex;-webkit-align-items:center;-webkit-box-align:center;-ms-flex-align:center;align-items:center;-webkit-box-pack:center;-webkit-justify-content:center;-ms-flex-pack:center;justify-content:center;position:absolute;top:50%;left:50%;-webkit-transform:translateX(-50%) translateY(-50%);-ms-transform:translateX(-50%) translateY(-50%);transform:translateX(-50%) translateY(-50%);width:24px;height:24px;border-radius:12px;background:rgba(255,255,255,0.9);pointer-events:none;}.css-1wr1m8 .LinkCard.new .LinkCard-image .LinkCard-image--video svg{color:#444444;}.css-1wr1m8 .LinkCard.new .LinkCard-richText .text{color:#444444;}.css-1wr1m8 .LinkCard.new .LinkCard-richText .bold{font-weight:600;}.css-1wr1m8 .LinkCard.new .LinkCard-richText .tag{margin-left:4px;}.css-1wr1m8 .LinkCard.old{position:relative;display:block;margin:1em auto;width:390px;box-sizing:border-box;border-radius:12px;max-width:100%;overflow:hidden;}.css-1wr1m8 .LinkCard.old,.css-1wr1m8 .LinkCard.old:hover{-webkit-text-decoration:none;text-decoration:none;border:none !important;color:inherit !important;}.css-1wr1m8 .LinkCard-ecommerceLoadingCard{position:relative;display:-webkit-box;display:-webkit-flex;display:-ms-flexbox;display:flex;-webkit-align-items:center;-webkit-box-align:center;-ms-flex-align:center;align-items:center;-webkit-box-pack:justify;-webkit-justify-content:space-between;-ms-flex-pack:justify;justify-content:space-between;padding:12px;border-radius:inherit;height:80px;box-sizing:border-box;background:rgba(246,246,246,0.88);color:#D3D3D3;}.css-1wr1m8 .LinkCard-ecommerceLoadingCardAvatarWrapper{width:60px;height:60px;background:#EBEBEB;display:-webkit-box;display:-webkit-flex;display:-ms-flexbox;display:flex;-webkit-align-items:center;-webkit-box-align:center;-ms-flex-align:center;align-items:center;-webkit-box-pack:center;-webkit-justify-content:center;-ms-flex-pack:center;justify-content:center;border-radius:6px;margin-right:10px;}.css-1wr1m8 .LinkCard-ecommerceLoadingCardNetwork{width:20px;height:20px;}.css-1wr1m8 .LinkCard-ecommerceLoadingCardLoadingbar{height:60px;-webkit-flex:1;-ms-flex:1;flex:1;display:-webkit-box;display:-webkit-flex;display:-ms-flexbox;display:flex;-webkit-flex-direction:column;-ms-flex-direction:column;flex-direction:column;}.css-1wr1m8 .LinkCard-ecommerceLoadingCardLoadingbar span{height:16px;display:inline-block;background:#EBEBEB;}.css-1wr1m8 .LinkCard-ecommerceLoadingCardLoadingbar span:nth-of-type(1){width:60px;margin-bottom:4px;}.css-1wr1m8 .LinkCard-ecommerceLoadingCardLoadingbar span:nth-of-type(2){width:127px;}</style><style data-emotion-css=\"hypxot\">.css-hypxot .LinkCard.old{position:relative;display:block;margin:1em auto;width:390px;box-sizing:border-box;border-radius:12px;max-width:100%;overflow:hidden;}.css-hypxot .LinkCard.old,.css-hypxot .LinkCard.old:hover{-webkit-text-decoration:none;text-decoration:none;border:none !important;color:inherit !important;}.css-hypxot .LinkCard-ecommerceLoadingCard{position:relative;display:-webkit-box;display:-webkit-flex;display:-ms-flexbox;display:flex;-webkit-align-items:center;-webkit-box-align:center;-ms-flex-align:center;align-items:center;-webkit-box-pack:justify;-webkit-justify-content:space-between;-ms-flex-pack:justify;justify-content:space-between;padding:12px;border-radius:inherit;height:80px;box-sizing:border-box;background:rgba(246,246,246,0.88);color:#D3D3D3;}.css-hypxot .LinkCard-ecommerceLoadingCardAvatarWrapper{width:60px;height:60px;background:#EBEBEB;display:-webkit-box;display:-webkit-flex;display:-ms-flexbox;display:flex;-webkit-align-items:center;-webkit-box-align:center;-ms-flex-align:center;align-items:center;-webkit-box-pack:center;-webkit-justify-content:center;-ms-flex-pack:center;justify-content:center;border-radius:6px;margin-right:10px;}.css-hypxot .LinkCard-ecommerceLoadingCardNetwork{width:20px;height:20px;}.css-hypxot .LinkCard-ecommerceLoadingCardLoadingbar{height:60px;-webkit-flex:1;-ms-flex:1;flex:1;display:-webkit-box;display:-webkit-flex;display:-ms-flexbox;display:flex;-webkit-flex-direction:column;-ms-flex-direction:column;flex-direction:column;}.css-hypxot .LinkCard-ecommerceLoadingCardLoadingbar span{height:16px;display:inline-block;background:#EBEBEB;}.css-hypxot .LinkCard-ecommerceLoadingCardLoadingbar span:nth-of-type(1){width:60px;margin-bottom:4px;}.css-hypxot .LinkCard-ecommerceLoadingCardLoadingbar span:nth-of-type(2){width:127px;}.css-hypxot .LinkCard.new{position:relative;display:-webkit-box;display:-webkit-flex;display:-ms-flexbox;display:flex;box-sizing:border-box;-webkit-flex-direction:row;-ms-flex-direction:row;flex-direction:row;-webkit-align-items:center;-webkit-box-align:center;-ms-flex-align:center;align-items:center;width:390px;min-height:84px;border-radius:8px;max-width:100%;overflow:hidden;margin:16px auto;padding:12px 12px 9px 12px;background-color:#F6F6F6;}.css-hypxot .LinkCard.new,.css-hypxot .LinkCard.new:hover{-webkit-text-decoration:none;text-decoration:none;border:none !important;color:inherit !important;}.css-hypxot .LinkCard.new .LinkCard-contents{display:block;-webkit-flex:1 1 auto;-ms-flex:1 1 auto;flex:1 1 auto;position:relative;}.css-hypxot .LinkCard.new .LinkCard-contents .loading{height:14px;background:#EBEBEB;border-radius:7px;}.css-hypxot .LinkCard.new .LinkCard-contents.withTitle{margin-bottom:3px;}.css-hypxot .LinkCard.new .LinkCard-title{display:-webkit-box;font-size:15px;font-weight:500;line-height:1.4;margin-bottom:2px;color:#121212;text-overflow:ellipsis;overflow:hidden;-webkit-box-orient:vertical;-webkit-line-clamp:1;}.css-hypxot .LinkCard.new .LinkCard-title.two-line{line-height:20px;display:-webkit-box;text-overflow:ellipsis;overflow:hidden;-webkit-box-orient:vertical;-webkit-line-clamp:2;}.css-hypxot .LinkCard.new .LinkCard-title.loading{margin-bottom:8px;width:80%;}.css-hypxot .LinkCard.new .LinkCard-title.loading.withTitle{margin-bottom:6px;}.css-hypxot .LinkCard.new .LinkCard-title.loadingTitle{margin-bottom:5px;}.css-hypxot .LinkCard.new .LinkCard-excerpt{display:-webkit-box;text-overflow:ellipsis;font-size:13px;line-height:18px;color:#999999;margin-bottom:4px;overflow:hidden;-webkit-box-orient:vertical;-webkit-line-clamp:1;}.css-hypxot .LinkCard.new .LinkCard-excerpt .LinkCard-author{color:#444444;}.css-hypxot .LinkCard.new .LinkCard-desc{display:-webkit-box;font-size:13px;height:18px;line-height:18px;color:#999999;word-break:break-all;text-overflow:ellipsis;overflow:hidden;-webkit-box-orient:vertical;-webkit-line-clamp:1;}.css-hypxot .LinkCard.new .LinkCard-desc .LinkCard-tag,.css-hypxot .LinkCard.new .LinkCard-desc .tag{display:inline-block;font-size:11px;margin-left:8px;padding:0 4px;border-radius:3px;background:rgba(211,211,211,0.3);}.css-hypxot .LinkCard.new .LinkCard-desc.loading{width:40%;}.css-hypxot .LinkCard.new .LinkCard-desc svg{margin-right:2px;}.css-hypxot .LinkCard.new .LinkCard-image{-webkit-flex:0 0 auto;-ms-flex:0 0 auto;flex:0 0 auto;background-color:#EBEBEB;background-size:cover;background-position:center;position:relative;display:block;width:60px;height:60px;margin-left:20px;object-fit:cover;border-radius:inherit;overflow:hidden;}.css-hypxot .LinkCard.new .LinkCard-image.LinkCard-image--default{display:-webkit-box;display:-webkit-flex;display:-ms-flexbox;display:flex;-webkit-align-items:center;-webkit-box-align:center;-ms-flex-align:center;align-items:center;-webkit-box-pack:center;-webkit-justify-content:center;-ms-flex-pack:center;justify-content:center;background-color:#EBEBEB;color:#D3D3D3;}.css-hypxot .LinkCard.new .LinkCard-image.LinkCard-image--default svg{color:#999999;}.css-hypxot .LinkCard.new .LinkCard-image img{width:100%;height:100%;object-fit:cover;}.css-hypxot .LinkCard.new .LinkCard-image .LinkCard-image--video{display:-webkit-box;display:-webkit-flex;display:-ms-flexbox;display:flex;-webkit-align-items:center;-webkit-box-align:center;-ms-flex-align:center;align-items:center;-webkit-box-pack:center;-webkit-justify-content:center;-ms-flex-pack:center;justify-content:center;position:absolute;top:50%;left:50%;-webkit-transform:translateX(-50%) translateY(-50%);-ms-transform:translateX(-50%) translateY(-50%);transform:translateX(-50%) translateY(-50%);width:24px;height:24px;border-radius:12px;background:rgba(255,255,255,0.9);pointer-events:none;}.css-hypxot .LinkCard.new .LinkCard-image .LinkCard-image--video svg{color:#444444;}.css-hypxot .LinkCard.new .LinkCard-richText .text{color:#444444;}.css-hypxot .LinkCard.new .LinkCard-richText .bold{font-weight:600;}.css-hypxot .LinkCard.new .LinkCard-richText .tag{margin-left:4px;}.css-hypxot .FileLinkCard{-webkit-align-items:center;-webkit-box-align:center;-ms-flex-align:center;align-items:center;background-color:rgba(246,246,246,0.88);border-radius:12px;box-sizing:border-box;display:-webkit-box;display:-webkit-flex;display:-ms-flexbox;display:flex;margin:1em auto;max-width:100%;overflow:hidden;padding:12px;position:relative;width:390px;}.css-hypxot .FileLinkCard-icon{-webkit-flex-shrink:0;-ms-flex-negative:0;flex-shrink:0;height:30px;width:30px;}.css-hypxot .FileLinkCard-info{margin-left:12px;}.css-hypxot .FileLinkCard-name{color:#121212;font-size:15px;font-weight:500;line-height:21px;display:-webkit-box;text-overflow:ellipsis;overflow:hidden;-webkit-box-orient:vertical;-webkit-line-clamp:2;}.css-hypxot .FileLinkCard-meta{color:#999999;font-size:12px;display:-webkit-box;display:-webkit-flex;display:-ms-flexbox;display:flex;line-height:14px;margin-top:5px;}.css-hypxot .FileLinkCard-source{white-space:pre;}</style><style data-emotion-css=\"14bz7qe animation-1sh55c5\">.css-14bz7qe{word-break:break-word;line-height:1.6;}.css-14bz7qe a.UserLink-link{color:#175199;}.css-14bz7qe a.UserLink-link:hover{border-bottom:1px solid #175199;}.css-14bz7qe lazy[data-lazy-status]{background-color:#F6F6F6;}.css-14bz7qe lazy[data-lazy-status=\"ok\"]{background-color:transparent;-webkit-animation:animation-1sh55c5 0.5s ease-in;animation:animation-1sh55c5 0.5s ease-in;}.css-14bz7qe > [data-first-child]{margin-top:0;}.css-14bz7qe > :last-child{margin-bottom:0;}.css-14bz7qe h1,.css-14bz7qe h2{clear:left;margin-top:calc((1.4em * 2) / 1.2);margin-bottom:calc(1.4em / 1.2);font-size:1.2em;line-height:1.5;font-weight:600;}.css-14bz7qe h3,.css-14bz7qe h4,.css-14bz7qe h5,.css-14bz7qe h6{clear:left;margin-top:calc((1.4em * 1.5) / 1.1);margin-bottom:calc(1.4em / 1.1);font-size:1.1em;line-height:1.5;font-weight:600;}.css-14bz7qe u{-webkit-text-decoration:none;text-decoration:none;border-bottom:1px dashed #808080;}.css-14bz7qe b{font-weight:600;}.css-14bz7qe sup{font-size:0.8em;}.css-14bz7qe sup[data-draft-type='reference']{color:#175199;}.css-14bz7qe a:focus{outline:none;-webkit-transition:box-shadow 0.3s;transition:box-shadow 0.3s;}html[data-focus-visible] .css-14bz7qe a:focus{box-shadow:0 0 0 2px #FFFFFF,0 0 0 4px rgba(0,102,255,0.3);}.css-14bz7qe a.ztext-link,.css-14bz7qe a.internal,.css-14bz7qe a.external{-webkit-text-decoration:none;text-decoration:none;cursor:pointer;border-bottom:1px solid #808080;}.css-14bz7qe a.ztext-link:hover,.css-14bz7qe a.internal:hover,.css-14bz7qe a.external:hover{color:#175199;border-bottom:1px solid #175199;}.css-14bz7qe a.ztext-link > .ellipsis::after,.css-14bz7qe a.internal > .ellipsis::after,.css-14bz7qe a.external > .ellipsis::after{content:'...';}.css-14bz7qe a.ztext-link > .invisible,.css-14bz7qe a.internal > .invisible,.css-14bz7qe a.external > .invisible{font:0/0 a;color:transparent;text-shadow:none;background-color:transparent;}.css-14bz7qe a.ztext-link u,.css-14bz7qe a.internal u,.css-14bz7qe a.external u{border:none;}.css-14bz7qe a.member_mention{color:#175199;}.css-14bz7qe a.member_mention:hover{border-bottom:1px solid #175199;}.css-14bz7qe p{margin:1.4em 0;}.css-14bz7qe p.ztext-empty-paragraph{margin:calc((2.8em- (1.4em * 2 + 1.6em)) / 2) 0;}.css-14bz7qe p.ztext-empty-paragraph + .ztext-empty-paragraph{margin:1.4em 0;}.css-14bz7qe hr{margin:4em auto;width:240px;max-width:100%;border:none;border-top:1px solid #D3D3D3;}.css-14bz7qe img[eeimg]{max-width:100%;vertical-align:middle;}.css-14bz7qe img[eeimg=\"1\"]{margin:0 3px;display:inline-block;}.css-14bz7qe img[eeimg=\"2\"]{margin:1.4em 0;display:block;}.css-14bz7qe blockquote{margin:1.4em 0;padding-left:1em;color:#646464;border-left:3px solid #D3D3D3;}.css-14bz7qe ol,.css-14bz7qe ul{margin:1.4em 0;padding:0;}.css-14bz7qe ol ol,.css-14bz7qe ul ol,.css-14bz7qe ol ul,.css-14bz7qe ul ul{margin:0;}.css-14bz7qe ol > ol,.css-14bz7qe ul > ol,.css-14bz7qe ol > ul,.css-14bz7qe ul > ul{display:table-row;}.css-14bz7qe ol > ol::before,.css-14bz7qe ul > ol::before,.css-14bz7qe ol > ul::before,.css-14bz7qe ul > ul::before{display:table-cell;content:'';}.css-14bz7qe ul{display:table;}.css-14bz7qe ul>li{display:table-row;list-style:none;}.css-14bz7qe ul>li::before{display:table-cell;content:'•  ';white-space:pre;}.css-14bz7qe ol{display:table;counter-reset:ol;}.css-14bz7qe ol > li{display:table-row;list-style:none;}.css-14bz7qe ol > li::before{display:table-cell;text-align:right;counter-increment:ol;content:counter(ol) '. ';white-space:pre;}.css-14bz7qe ol ol{counter-reset:ol2;}.css-14bz7qe ol ol li::before{counter-increment:ol2;content:counter(ol2) '. ';}.css-14bz7qe ol ol ol{counter-reset:ol3;}.css-14bz7qe ol ol ol li::before{counter-increment:ol3;content:counter(ol3) '. ';}.css-14bz7qe ol ol ol ol{counter-reset:ol4;}.css-14bz7qe ol ol ol ol li::before{counter-increment:ol4;content:counter(ol4) '. ';}.css-14bz7qe figure{margin:1.4em 0;}.css-14bz7qe figure .content_image,.css-14bz7qe figure .origin_image{margin:0 auto;}.css-14bz7qe figure figcaption{margin-top:calc(0.6em / 0.9);padding:0 1em;font-size:0.9em;line-height:1.5;text-align:center;color:#999999;}.css-14bz7qe figure + figure{margin-top:calc(1.4em * 1.6);}.css-14bz7qe figure[data-size='small'],.css-14bz7qe figure:not([data-size]) > [data-size='small']{clear:both;}.css-14bz7qe figure[data-size='left'],.css-14bz7qe figure:not([data-size]) > [data-size='left']{float:left;margin:0 20px 20px 0;max-width:33%;}.css-14bz7qe figure[data-size='right'],.css-14bz7qe figure:not([data-size]) > [data-size='right']{float:right;margin:0 0 20px 20px;max-width:33%;}.css-14bz7qe figure[data-size='collapse']{margin-bottom:0;}.css-14bz7qe figure[data-size='collapse'] + figure{margin-top:0;}.css-14bz7qe .content_image,.css-14bz7qe .origin_image{display:block;max-width:100%;margin:1.4em auto;}.css-14bz7qe .content_image[data-size='small'],.css-14bz7qe .origin_image[data-size='small']{max-width:40%;}.css-14bz7qe .content_image.zh-lightbox-thumb,.css-14bz7qe .origin_image.zh-lightbox-thumb{cursor:-webkit-zoom-in;cursor:-moz-zoom-in;cursor:zoom-in;}.css-14bz7qe code{margin:0 2px;padding:3px 4px;border-radius:3px;font-size:0.9em;background-color:#F6F6F6;}.css-14bz7qe pre{margin:1.4em 0;padding:calc(0.8em / 0.9);font-size:0.9em;word-break:initial;word-wrap:initial;white-space:pre;overflow:auto;-webkit-overflow-scrolling:touch;background:#F6F6F6;border-radius:4px;}.css-14bz7qe pre code{margin:0;padding:0;font-size:inherit;border-radius:0;background-color:inherit;}.css-14bz7qe li pre{white-space:pre-wrap;}.css-14bz7qe table[data-draft-type='table']{border-collapse:collapse;font-size:15px;margin:1.4em auto;max-width:100%;table-layout:fixed;text-align:left;width:100%;}.css-14bz7qe table[data-draft-type='table'][data-size='small']{min-width:260px;width:40%;}.css-14bz7qe table[data-draft-type='table'][data-row-style='striped'] tr:nth-of-type(2n + 1){background:#F6F6F6;}.css-14bz7qe table[data-draft-type='table'] td,.css-14bz7qe table[data-draft-type='table'] th{border:1px solid #D3D3D3;line-height:24px;height:24px;padding:3px 12px;}.css-14bz7qe table[data-draft-type='table'] th{background:#EBEBEB;color:#121212;font-weight:500;}.css-14bz7qe .video-box,.css-14bz7qe .link-box{position:relative;display:-webkit-box;display:-webkit-flex;display:-ms-flexbox;display:flex;-webkit-box-pack:justify;-webkit-justify-content:space-between;-ms-flex-pack:justify;justify-content:space-between;margin:1.4em 0;overflow:auto;white-space:normal;cursor:pointer;border:solid 1px #EBEBEB;border-radius:4px;}.css-14bz7qe .highlight{margin:1em 0;}.css-14bz7qe .highlight pre{margin:0;}.css-14bz7qe .highlight .hll{background-color:#FDFDFD;}.css-14bz7qe .highlight .c{font-style:italic;color:#999999;}.css-14bz7qe .highlight .err{color:#F1403C;}.css-14bz7qe .highlight .k{font-weight:600;}.css-14bz7qe .highlight .o{font-weight:600;}.css-14bz7qe .highlight .cm{font-style:italic;color:#999999;}.css-14bz7qe .highlight .cp{font-weight:600;color:#999999;}.css-14bz7qe .highlight .c1{font-style:italic;color:#999999;}.css-14bz7qe .highlight .cs{font-style:italic;font-weight:600;color:#999999;}.css-14bz7qe .highlight .gd{color:#FF3366;}.css-14bz7qe .highlight .ge{font-style:italic;}.css-14bz7qe .highlight .gr{color:#F1403C;}.css-14bz7qe .highlight .gh{color:#999999;}.css-14bz7qe .highlight .gi{color:#12b370;}.css-14bz7qe .highlight .go{color:#808080;}.css-14bz7qe .highlight .gp{color:#646464;}.css-14bz7qe .highlight .gs{font-weight:600;}.css-14bz7qe .highlight .gu{color:#999999;}.css-14bz7qe .highlight .gt{color:#F1403C;}.css-14bz7qe .highlight .kc{font-weight:600;}.css-14bz7qe .highlight .kd{font-weight:600;}.css-14bz7qe .highlight .kn{font-weight:600;}.css-14bz7qe .highlight .kp{font-weight:600;}.css-14bz7qe .highlight .kr{font-weight:600;}.css-14bz7qe .highlight .kt{font-weight:600;color:#175199;}.css-14bz7qe .highlight .m{color:#0066FF;}.css-14bz7qe .highlight .s{color:#F1403C;}.css-14bz7qe .highlight .na{color:#0066FF;}.css-14bz7qe .highlight .nb{color:#0066FF;}.css-14bz7qe .highlight .nc{font-weight:600;color:#175199;}.css-14bz7qe .highlight .no{color:#0066FF;}.css-14bz7qe .highlight .ni{color:#5555DD;}.css-14bz7qe .highlight .ne{font-weight:600;color:#F1403C;}.css-14bz7qe .highlight .nf{font-weight:600;color:#F1403C;}.css-14bz7qe .highlight .nn{color:#646464;}.css-14bz7qe .highlight .nt{color:#175199;}.css-14bz7qe .highlight .nv{color:#0066FF;}.css-14bz7qe .highlight .ow{font-weight:600;}.css-14bz7qe .highlight .w{color:#BFBFBF;}.css-14bz7qe .highlight .mf{color:#0066FF;}.css-14bz7qe .highlight .mh{color:#0066FF;}.css-14bz7qe .highlight .mi{color:#0066FF;}.css-14bz7qe .highlight .mo{color:#0066FF;}.css-14bz7qe .highlight .sb{color:#F1403C;}.css-14bz7qe .highlight .sc{color:#F1403C;}.css-14bz7qe .highlight .sd{color:#F1403C;}.css-14bz7qe .highlight .s2{color:#F1403C;}.css-14bz7qe .highlight .se{color:#F1403C;}.css-14bz7qe .highlight .sh{color:#F1403C;}.css-14bz7qe .highlight .si{color:#F1403C;}.css-14bz7qe .highlight .sx{color:#F1403C;}.css-14bz7qe .highlight .sr{color:#A5542F;}.css-14bz7qe .highlight .s1{color:#F1403C;}.css-14bz7qe .highlight .ss{color:#F1403C;}.css-14bz7qe .highlight .bp{color:#999999;}.css-14bz7qe .highlight .vc{color:#0066FF;}.css-14bz7qe .highlight .vg{color:#0066FF;}.css-14bz7qe .highlight .vi{color:#0066FF;}.css-14bz7qe .highlight .il{color:#0066FF;}.css-14bz7qe .highlight::-webkit-scrollbar{width:6px;height:6px;}.css-14bz7qe .highlight::-webkit-scrollbar-thumb:horizontal{background-color:rgba(18,18,18,0.5);border-radius:6px;}.css-14bz7qe .highlight::-webkit-scrollbar-thumb:horizontal:hover{background-color:rgba(18,18,18,0.6);}.css-14bz7qe .LinkCard.old{position:relative;display:block;margin:1em auto;width:390px;box-sizing:border-box;border-radius:12px;max-width:100%;overflow:hidden;}.css-14bz7qe .LinkCard.old,.css-14bz7qe .LinkCard.old:hover{-webkit-text-decoration:none;text-decoration:none;border:none !important;color:inherit !important;}.css-14bz7qe .LinkCard-ecommerceLoadingCard{position:relative;display:-webkit-box;display:-webkit-flex;display:-ms-flexbox;display:flex;-webkit-align-items:center;-webkit-box-align:center;-ms-flex-align:center;align-items:center;-webkit-box-pack:justify;-webkit-justify-content:space-between;-ms-flex-pack:justify;justify-content:space-between;padding:12px;border-radius:inherit;height:80px;box-sizing:border-box;background:rgba(246,246,246,0.88);color:#D3D3D3;}.css-14bz7qe .LinkCard-ecommerceLoadingCardAvatarWrapper{width:60px;height:60px;background:#EBEBEB;display:-webkit-box;display:-webkit-flex;display:-ms-flexbox;display:flex;-webkit-align-items:center;-webkit-box-align:center;-ms-flex-align:center;align-items:center;-webkit-box-pack:center;-webkit-justify-content:center;-ms-flex-pack:center;justify-content:center;border-radius:6px;margin-right:10px;}.css-14bz7qe .LinkCard-ecommerceLoadingCardNetwork{width:20px;height:20px;}.css-14bz7qe .LinkCard-ecommerceLoadingCardLoadingbar{height:60px;-webkit-flex:1;-ms-flex:1;flex:1;display:-webkit-box;display:-webkit-flex;display:-ms-flexbox;display:flex;-webkit-flex-direction:column;-ms-flex-direction:column;flex-direction:column;}.css-14bz7qe .LinkCard-ecommerceLoadingCardLoadingbar span{height:16px;display:inline-block;background:#EBEBEB;}.css-14bz7qe .LinkCard-ecommerceLoadingCardLoadingbar span:nth-of-type(1){width:60px;margin-bottom:4px;}.css-14bz7qe .LinkCard-ecommerceLoadingCardLoadingbar span:nth-of-type(2){width:127px;}.css-14bz7qe .LinkCard.new{position:relative;display:-webkit-box;display:-webkit-flex;display:-ms-flexbox;display:flex;box-sizing:border-box;-webkit-flex-direction:row;-ms-flex-direction:row;flex-direction:row;-webkit-align-items:center;-webkit-box-align:center;-ms-flex-align:center;align-items:center;width:390px;min-height:84px;border-radius:8px;max-width:100%;overflow:hidden;margin:16px auto;padding:12px 12px 9px 12px;background-color:#F6F6F6;}.css-14bz7qe .LinkCard.new,.css-14bz7qe .LinkCard.new:hover{-webkit-text-decoration:none;text-decoration:none;border:none !important;color:inherit !important;}.css-14bz7qe .LinkCard.new .LinkCard-contents{display:block;-webkit-flex:1 1 auto;-ms-flex:1 1 auto;flex:1 1 auto;position:relative;}.css-14bz7qe .LinkCard.new .LinkCard-contents .loading{height:14px;background:#EBEBEB;border-radius:7px;}.css-14bz7qe .LinkCard.new .LinkCard-contents.withTitle{margin-bottom:3px;}.css-14bz7qe .LinkCard.new .LinkCard-title{display:-webkit-box;font-size:15px;font-weight:500;line-height:1.4;margin-bottom:2px;color:#121212;text-overflow:ellipsis;overflow:hidden;-webkit-box-orient:vertical;-webkit-line-clamp:1;}.css-14bz7qe .LinkCard.new .LinkCard-title.two-line{line-height:20px;display:-webkit-box;text-overflow:ellipsis;overflow:hidden;-webkit-box-orient:vertical;-webkit-line-clamp:2;}.css-14bz7qe .LinkCard.new .LinkCard-title.loading{margin-bottom:8px;width:80%;}.css-14bz7qe .LinkCard.new .LinkCard-title.loading.withTitle{margin-bottom:6px;}.css-14bz7qe .LinkCard.new .LinkCard-title.loadingTitle{margin-bottom:5px;}.css-14bz7qe .LinkCard.new .LinkCard-excerpt{display:-webkit-box;text-overflow:ellipsis;font-size:13px;line-height:18px;color:#999999;margin-bottom:4px;overflow:hidden;-webkit-box-orient:vertical;-webkit-line-clamp:1;}.css-14bz7qe .LinkCard.new .LinkCard-excerpt .LinkCard-author{color:#444444;}.css-14bz7qe .LinkCard.new .LinkCard-desc{display:-webkit-box;font-size:13px;height:18px;line-height:18px;color:#999999;word-break:break-all;text-overflow:ellipsis;overflow:hidden;-webkit-box-orient:vertical;-webkit-line-clamp:1;}.css-14bz7qe .LinkCard.new .LinkCard-desc .LinkCard-tag,.css-14bz7qe .LinkCard.new .LinkCard-desc .tag{display:inline-block;font-size:11px;margin-left:8px;padding:0 4px;border-radius:3px;background:rgba(211,211,211,0.3);}.css-14bz7qe .LinkCard.new .LinkCard-desc.loading{width:40%;}.css-14bz7qe .LinkCard.new .LinkCard-desc svg{margin-right:2px;}.css-14bz7qe .LinkCard.new .LinkCard-image{-webkit-flex:0 0 auto;-ms-flex:0 0 auto;flex:0 0 auto;background-color:#EBEBEB;background-size:cover;background-position:center;position:relative;display:block;width:60px;height:60px;margin-left:20px;object-fit:cover;border-radius:inherit;overflow:hidden;}.css-14bz7qe .LinkCard.new .LinkCard-image.LinkCard-image--default{display:-webkit-box;display:-webkit-flex;display:-ms-flexbox;display:flex;-webkit-align-items:center;-webkit-box-align:center;-ms-flex-align:center;align-items:center;-webkit-box-pack:center;-webkit-justify-content:center;-ms-flex-pack:center;justify-content:center;background-color:#EBEBEB;color:#D3D3D3;}.css-14bz7qe .LinkCard.new .LinkCard-image.LinkCard-image--default svg{color:#999999;}.css-14bz7qe .LinkCard.new .LinkCard-image img{width:100%;height:100%;object-fit:cover;}.css-14bz7qe .LinkCard.new .LinkCard-image .LinkCard-image--video{display:-webkit-box;display:-webkit-flex;display:-ms-flexbox;display:flex;-webkit-align-items:center;-webkit-box-align:center;-ms-flex-align:center;align-items:center;-webkit-box-pack:center;-webkit-justify-content:center;-ms-flex-pack:center;justify-content:center;position:absolute;top:50%;left:50%;-webkit-transform:translateX(-50%) translateY(-50%);-ms-transform:translateX(-50%) translateY(-50%);transform:translateX(-50%) translateY(-50%);width:24px;height:24px;border-radius:12px;background:rgba(255,255,255,0.9);pointer-events:none;}.css-14bz7qe .LinkCard.new .LinkCard-image .LinkCard-image--video svg{color:#444444;}.css-14bz7qe .LinkCard.new .LinkCard-richText .text{color:#444444;}.css-14bz7qe .LinkCard.new .LinkCard-richText .bold{font-weight:600;}.css-14bz7qe .LinkCard.new .LinkCard-richText .tag{margin-left:4px;}.css-14bz7qe .FileLinkCard{-webkit-align-items:center;-webkit-box-align:center;-ms-flex-align:center;align-items:center;background-color:rgba(246,246,246,0.88);border-radius:12px;box-sizing:border-box;display:-webkit-box;display:-webkit-flex;display:-ms-flexbox;display:flex;margin:1em auto;max-width:100%;overflow:hidden;padding:12px;position:relative;width:390px;}.css-14bz7qe .FileLinkCard-icon{-webkit-flex-shrink:0;-ms-flex-negative:0;flex-shrink:0;height:30px;width:30px;}.css-14bz7qe .FileLinkCard-info{margin-left:12px;}.css-14bz7qe .FileLinkCard-name{color:#121212;font-size:15px;font-weight:500;line-height:21px;display:-webkit-box;text-overflow:ellipsis;overflow:hidden;-webkit-box-orient:vertical;-webkit-line-clamp:2;}.css-14bz7qe .FileLinkCard-meta{color:#999999;font-size:12px;display:-webkit-box;display:-webkit-flex;display:-ms-flexbox;display:flex;line-height:14px;margin-top:5px;}.css-14bz7qe .FileLinkCard-source{white-space:pre;}@-webkit-keyframes animation-1sh55c5{from{opacity:0;}to{opacity:1;}}@keyframes animation-1sh55c5{from{opacity:0;}to{opacity:1;}}</style><span class=\"RichText ztext CopyrightRichText-richText css-14bz7qe\" options=\"[object Object]\" itemProp=\"text\">法海：一看这提问，题主肯定没在农村生活过，和村里人打过架。作为一个曾经的村里人，我给大家科普下村里 泼妇们打架用的附魔武器;1.长柄武器“恶魔之舌”简介： 将拖把在旱厕里浸一下，可以获得附魔效果“群体驱散光环”+“击退效果”+“远程攻击距离+5”，群体敌人见此武器100%驱散，单体敌人被攻击100%后退，用力甩击能产生溅射远程攻击效果；类似武器在田间地头，是插过农家肥桶里的扁担还有长柄粪勺。 2.远程武器“世仇之泪”简介…</span><button type=\"button\" class=\"Button ContentItem-more Button--plain\">阅读全文<span style=\"display:inline-flex;align-items:center\">​<svg width=\"24\" height=\"24\" viewBox=\"0 0 24 24\" data-new-api=\"ArrowDownSmall24\" data-old-api=\"ArrowDown\" class=\"Zi Zi--ArrowDown ContentItem-arrowIcon\" fill=\"currentColor\"><path d=\"M12 13.248L8.22 9.223a.684.684 0 00-1.01 0 .796.796 0 000 1.075l4.15 4.42a.867.867 0 001.28 0l4.15-4.42a.796.796 0 000-1.075.684.684 0 00-1.01 0L12 13.248z\" fill-rule=\"evenodd\" clip-rule=\"evenodd\"></path></svg></span></button></div><div class=\"ContentItem-actions\"><span><button aria-label=\"赞同 1963 \" aria-live=\"polite\" type=\"button\" class=\"Button VoteButton VoteButton--up\"><span style=\"display:inline-flex;align-items:center\">​<svg width=\"10\" height=\"10\" viewBox=\"0 0 24 24\" data-new-api=\"AgreeFill24\" data-old-api=\"TriangleUp\" class=\"Zi Zi--TriangleUp VoteButton-TriangleUp\" fill=\"currentColor\"><path d=\"M13.792 3.681c-.781-1.406-2.803-1.406-3.584 0l-7.79 14.023c-.76 1.367.228 3.046 1.791 3.046h15.582c1.563 0 2.55-1.68 1.791-3.046l-7.79-14.023z\" fill-rule=\"evenodd\" clip-rule=\"evenodd\"></path></svg></span>赞同 1963</button><button aria-label=\"反对\" aria-live=\"polite\" type=\"button\" class=\"Button VoteButton VoteButton--down\"><span style=\"display:inline-flex;align-items:center\">​<svg width=\"10\" height=\"10\" viewBox=\"0 0 24 24\" data-new-api=\"OpposeFill24\" data-old-api=\"TriangleDown\" class=\"Zi Zi--TriangleDown\" fill=\"currentColor\"><path d=\"M13.792 20.319c-.781 1.406-2.803 1.406-3.584 0L2.418 6.296c-.76-1.367.228-3.046 1.791-3.046h15.582c1.563 0 2.55 1.68 1.791 3.046l-7.79 14.023z\" fill-rule=\"evenodd\" clip-rule=\"evenodd\"></path></svg></span></button></span><button type=\"button\" class=\"Button ContentItem-action Button--plain Button--withIcon Button--withLabel\"><span style=\"display:inline-flex;align-items:center\">​<svg width=\"1.2em\" height=\"1.2em\" viewBox=\"0 0 24 24\" data-new-api=\"ChatBubbleFill24\" data-old-api=\"Comment\" class=\"Zi Zi--Comment Button-zi\" fill=\"currentColor\"><path d=\"M11.982 3C17.211 3 21 7.271 21 12.014c0 1.514-.441 3.072-1.215 4.496a.946.946 0 00-.063.813l.603 2.018c.135.487-.279.847-.738.703l-1.818-.54c-.495-.163-.882.044-1.341.324C15.114 20.602 13.476 21 12 21c-4.464 0-9-3.452-9-9.014C3 7.19 6.87 3 11.982 3z\"></path></svg></span>134 条评论</button><div class=\"Popover ShareMenu ContentItem-action\"><div class=\"ShareMenu-toggler\" id=\"null-toggle\" aria-haspopup=\"true\" aria-expanded=\"false\" aria-owns=\"null-content\"><button type=\"button\" class=\"Button Button--plain Button--withIcon Button--withLabel\"><span style=\"display:inline-flex;align-items:center\">​<svg width=\"1.2em\" height=\"1.2em\" viewBox=\"0 0 24 24\" data-new-api=\"PaperplaneFill24\" data-old-api=\"Share\" class=\"Zi Zi--Share Button-zi\" fill=\"currentColor\"><path d=\"M20.223 1.881a.8.8 0 011.205.778l-1.874 16.393a.9.9 0 01-1.204.742l-4.617-1.692a.7.7 0 00-.83.28l-1.929 3.021c-.43.674-1.474.37-1.474-.43v-3.866a.8.8 0 01.18-.505l5.809-7.15a.595.595 0 00-.897-.782l-5.933 6.357a1.1 1.1 0 01-1.257.251l-4.085-1.847a.8.8 0 01-.08-1.415L20.223 1.88z\"></path></svg></span>分享</button></div></div><button type=\"button\" class=\"Button ContentItem-action Button--plain Button--withIcon Button--withLabel\"><span style=\"display:inline-flex;align-items:center\">​<svg width=\"1.2em\" height=\"1.2em\" viewBox=\"0 0 24 24\" data-new-api=\"StarFill24\" data-old-api=\"Star\" class=\"Zi Zi--Star Button-zi\" fill=\"currentColor\"><path d=\"M10.484 3.307c.673-1.168 2.358-1.168 3.032 0l2.377 4.122a.25.25 0 00.165.12l4.655.987c1.319.28 1.84 1.882.937 2.884l-3.186 3.535a.25.25 0 00-.063.193l.5 4.733c.142 1.34-1.222 2.33-2.453 1.782l-4.346-1.938a.25.25 0 00-.204 0l-4.346 1.938c-1.231.549-2.595-.442-2.453-1.782l.5-4.733a.25.25 0 00-.064-.193L2.35 11.42c-.903-1.002-.382-2.604.937-2.884l4.655-.987a.25.25 0 00.164-.12l2.378-4.122z\"></path></svg></span>收藏</button><button aria-live=\"polite\" type=\"button\" class=\"Button ContentItem-action Button--plain Button--withIcon Button--withLabel\"><span style=\"display:inline-flex;align-items:center\">​<svg width=\"1.2em\" height=\"1.2em\" viewBox=\"0 0 24 24\" data-new-api=\"HeartFill24\" data-old-api=\"Heart\" class=\"Zi Zi--Heart Button-zi\" fill=\"currentColor\"><path d=\"M12.004 4.934c1.015-.944 2.484-1.618 3.98-1.618 3.48 0 6.53 3.265 6.15 7.614-.11 1.254-.686 2.55-1.458 3.753-.778 1.215-1.79 2.392-2.845 3.419-1.054 1.028-2.168 1.923-3.161 2.566a9.96 9.96 0 01-1.41.777c-.418.182-.862.32-1.268.32s-.848-.137-1.267-.317a9.918 9.918 0 01-1.407-.771c-.992-.64-2.103-1.53-3.156-2.555-1.052-1.024-2.062-2.2-2.84-3.417-.77-1.208-1.346-2.51-1.456-3.775-.38-4.349 2.67-7.614 6.15-7.614 1.484 0 2.983.673 3.988 1.618z\" fill-rule=\"evenodd\" clip-rule=\"evenodd\"></path></svg></span>喜欢</button><div class=\"Popover ContentItem-action\"><button aria-label=\"更多\" id=\"null-toggle\" aria-haspopup=\"true\" aria-expanded=\"false\" aria-owns=\"null-content\" type=\"button\" class=\"Button OptionsButton Button--plain Button--withIcon Button--iconOnly\"><span style=\"display:inline-flex;align-items:center\">​<svg width=\"1.2em\" height=\"1.2em\" viewBox=\"0 0 24 24\" data-new-api=\"Dots24\" data-old-api=\"Dots\" class=\"Zi Zi--Dots Button-zi\" fill=\"currentColor\"><path d=\"M5.34 12a1.665 1.665 0 11-3.33 0 1.665 1.665 0 013.33 0zm8.325 0a1.665 1.665 0 11-3.33 0 1.665 1.665 0 013.33 0zm8.325 0a1.665 1.665 0 11-3.33 0 1.665 1.665 0 013.33 0z\"></path></svg></span></button></div></div></div><div><div><div class=\"\"></div><div class=\"ModalLoading-content\"><svg width=\"30\" height=\"30\" viewBox=\"0 0 66 66\" xmlns=\"http://www.w3.org/2000/svg\" class=\"CircleLoadingBar\" aria-hidden=\"true\"><g><circle class=\"path\" fill=\"none\" stroke-width=\"6\" stroke-linecap=\"round\" cx=\"33\" cy=\"33\" r=\"30\"></circle></g></svg></div></div></div></div></div></div></div><div role=\"listitem\"></div></div></div></div></div></div></div><div class=\"GlobalSideBar\"><div><div class=\"Sticky\"><div class=\"Card GlobalSideBar-category\" role=\"complementary\" aria-label=\"分类入口\"><ul class=\"GlobalSideBar-categoryList\"><li class=\"GlobalSideBar-categoryItem\"><a href=\"/lives\" target=\"_blank\" title=\"Live\" style=\"color:#ffcf00\" data-za-not-track-link=\"true\" type=\"button\" class=\"Button Button--plain\"><span class=\"GlobalSideBar-categoryIcon\"><svg width=\"24\" height=\"24\" viewBox=\"0 0 24 24\" data-new-api=\"Live24\" data-old-api=\"Live\" class=\"Zi Zi--Live\" fill=\"currentColor\"><path d=\"M13.693 10.354l1.634-7.542c.195-.901-.16-1.083-.798-.39l-9.18 9.97c-.638.693-.377 1.254.582 1.254h5.376l-1.634 7.542c-.195.901.16 1.083.798.39l9.18-9.97c.638-.693.377-1.254-.582-1.254h-5.376z\"></path></svg></span><span class=\"GlobalSideBar-categoryLabel\">Live</span></a></li><li class=\"GlobalSideBar-categoryItem\"><a href=\"/pub/\" target=\"_blank\" title=\"书店\" style=\"color:#43d480\" data-za-not-track-link=\"true\" type=\"button\" class=\"Button Button--plain\"><span class=\"GlobalSideBar-categoryIcon\"><svg width=\"24\" height=\"24\" viewBox=\"0 0 24 24\" data-new-api=\"Ebook24\" data-old-api=\"Ebook\" class=\"Zi Zi--Ebook\" fill=\"currentColor\"><path d=\"M16 17.649V2.931a.92.92 0 00-.044-.283.943.943 0 00-1.183-.604L4.655 5.235A.932.932 0 004 6.122v14.947c0 .514.421.931.941.931H19.06c.52 0 .941-.417.941-.93V7.292a.936.936 0 00-.941-.931h-.773v12.834a.935.935 0 01-.83.924L6.464 21.416c-.02.002 2.94-.958 8.883-2.881a.932.932 0 00.653-.886z\" fill-rule=\"evenodd\" clip-rule=\"evenodd\"></path></svg></span><span class=\"GlobalSideBar-categoryLabel\">书店</span></a></li><li class=\"GlobalSideBar-categoryItem\"><a href=\"/roundtable\" target=\"_blank\" title=\"圆桌\" style=\"color:#0066FF\" data-za-not-track-link=\"true\" type=\"button\" class=\"Button Button--plain\"><span class=\"GlobalSideBar-categoryIcon\"><svg width=\"24\" height=\"24\" viewBox=\"0 0 24 24\" data-new-api=\"Org24\" data-old-api=\"Org\" class=\"Zi Zi--Org\" fill=\"currentColor\"><path d=\"M10.786 8.41a8.938 8.938 0 00-3.968-2.528c-.305-1.719.814-3.337 2.442-3.741 1.221-.405 2.646.101 3.46 1.011 1.045 1.38.915 3.64.814 4.348-.102 1.315-1.221 3.034-1.323 3.135-.305-.809-.814-1.517-1.425-2.225zm-2.442 2.832c-1.526.202-3.052 1.01-4.171 2.123-1.12-.404-1.934-1.314-2.137-2.427-.316-2.427 1.526-3.64 2.849-3.842 1.628-.372 2.849.505 4.07 1.415 1.146 1.012 2.035 2.63 2.035 2.73-.916-.202-1.832-.1-2.646 0zm4.986.303c.509-.607.931-1.585 1.12-2.225.318-1.039.61-3.134.203-4.651 1.323-1.011 3.154-1.011 4.477.303 1.235 1.146 1.018 2.933.814 3.438-.663 1.581-1.933 2.326-3.256 2.832-1.221.404-3.256.303-3.358.303zm-2.645 1.011c-.51.607-.916 1.416-1.221 2.326-.407 1.314-.643 3.06-.102 4.55-1.323 1.011-3.256 1.011-4.477-.202-1.198-1.124-1.018-2.933-.814-3.438.599-1.605 1.933-2.326 3.256-2.831.916-.304 3.256-.405 3.358-.405zm9.259-1.82c1.018.404 1.933 1.315 2.035 2.427.233 2.57-1.526 3.64-2.849 3.842-1.526 0-2.85-.505-4.07-1.415-1.018-.81-2.035-2.528-2.035-2.63.916.203 1.831.102 2.645 0 1.628-.404 3.053-1.112 4.274-2.224zm-6.716 4.854c1.065 1.08 2.442 2.022 4.07 2.528.306 1.719-.814 3.235-2.442 3.741-1.22.404-2.645-.101-3.46-1.011-1.1-1.481-1.017-3.54-.915-4.247.102-1.315 1.221-3.034 1.323-3.135.305.708.721 1.44 1.424 2.124z\"></path></svg></span><span class=\"GlobalSideBar-categoryLabel\">圆桌</span></a></li><li class=\"GlobalSideBar-categoryItem\"><a href=\"//zhuanlan.zhihu.com\" target=\"_blank\" title=\"专栏\" style=\"color:#0f88eb\" data-za-not-track-link=\"true\" type=\"button\" class=\"Button Button--plain\"><span class=\"GlobalSideBar-categoryIcon\"><svg width=\"24\" height=\"24\" viewBox=\"0 0 24 24\" data-new-api=\"PencilFill24\" data-old-api=\"Edit\" class=\"Zi Zi--Edit\" fill=\"currentColor\"><path d=\"M7.841 20.043l-4.328 1.18a.6.6 0 01-.737-.736l1.18-4.324a1.2 1.2 0 01.314-.539l8.094-7.995a.9.9 0 011.268.003l2.736 2.736a.9.9 0 01.004 1.268l-7.196 7.296-.802.802a1.2 1.2 0 01-.533.31zM19.703 4.81l-.514-.513a2.542 2.542 0 00-3.595 0l-.999 1.067a.9.9 0 00.02 1.252l2.77 2.768a.9.9 0 001.25.02l1.068-.999a2.542 2.542 0 000-3.594z\"></path></svg></span><span class=\"GlobalSideBar-categoryLabel\">专栏</span></a></li><li class=\"GlobalSideBar-categoryItem\"><a href=\"/consult\" target=\"_blank\" title=\"付费咨询\" style=\"color:#5478f0\" data-za-not-track-link=\"true\" type=\"button\" class=\"Button Button--plain\"><span class=\"GlobalSideBar-categoryIcon\"><svg width=\"24\" height=\"24\" viewBox=\"0 0 24 24\" data-new-api=\"CurrencyBubbleFill24\" data-old-api=\"Infinity\" class=\"Zi Zi--Infinity\" fill=\"currentColor\"><path d=\"M2 5.4A2.4 2.4 0 014.4 3h15.2A2.4 2.4 0 0122 5.4v10.5a2.4 2.4 0 01-2.4 2.4h-2.208l-.24 2.878a.8.8 0 01-1.387.475L12.692 18.3H4.4A2.4 2.4 0 012 15.9V5.4zm8.758 1.849a.75.75 0 00-1.115 1.003l1.607 1.786v.462h-1.5a.75.75 0 000 1.5h1.5v1.75a.75.75 0 001.5 0V12h1.5a.75.75 0 000-1.5h-1.5v-.462l1.607-1.786a.75.75 0 00-1.115-1.003L12 8.629l-1.242-1.38z\" fill-rule=\"evenodd\" clip-rule=\"evenodd\"></path></svg></span><span class=\"GlobalSideBar-categoryLabel\">付费咨询</span></a></li><li class=\"GlobalSideBar-categoryItem\"><a href=\"/wiki\" target=\"_blank\" title=\"百科\" style=\"color:#5868D1\" data-za-not-track-link=\"true\" type=\"button\" class=\"Button Button--plain\"><span class=\"GlobalSideBar-categoryIcon\"><svg width=\"24\" height=\"24\" viewBox=\"0 0 24 24\" data-new-api=\"KnowledgeBase24\" data-old-api=\"KnowledgeBase\" class=\"Zi Zi--KnowledgeBase\" fill=\"currentColor\"><path d=\"M21 9.749v9.91c0 .74-.604 1.341-1.35 1.341H4.35C3.604 21 3 20.4 3 19.659V9.319c0-.503.283-.963.733-1.193l4.892-2.5V3.341c0-.74.604-1.341 1.35-1.341.267 0 .527.078.749.225l9.675 6.408c.375.249.601.668.601 1.116zM8.297 8.307L5.372 9.802A.223.223 0 005.25 10v8.54c0 .124.1.224.225.224h8.586a.223.223 0 00.124-.41l-4.959-3.259a1.339 1.339 0 01-.601-1.116V8.506a.224.224 0 00-.328-.199z\"></path></svg></span><span class=\"GlobalSideBar-categoryLabel\">百科</span></a></li></ul></div><div class=\"Card\" role=\"complementary\" aria-label=\"更多分类入口\"><ul class=\"GlobalSideBar-navList\"><li class=\"GlobalSideBar-navItem GlobalSideBar-starItem\"><a target=\"_blank\" data-za-not-track-link=\"true\" type=\"button\" class=\"Button GlobalSideBar-navLink Button--plain\" href=\"/collections/mine\"><svg width=\"18\" height=\"18\" viewBox=\"0 0 24 24\" data-new-api=\"StarFill24\" data-old-api=\"Star\" class=\"Zi Zi--Star GlobalSideBar-navIcon\" fill=\"currentColor\"><path d=\"M10.484 3.307c.673-1.168 2.358-1.168 3.032 0l2.377 4.122a.25.25 0 00.165.12l4.655.987c1.319.28 1.84 1.882.937 2.884l-3.186 3.535a.25.25 0 00-.063.193l.5 4.733c.142 1.34-1.222 2.33-2.453 1.782l-4.346-1.938a.25.25 0 00-.204 0l-4.346 1.938c-1.231.549-2.595-.442-2.453-1.782l.5-4.733a.25.25 0 00-.064-.193L2.35 11.42c-.903-1.002-.382-2.604.937-2.884l4.655-.987a.25.25 0 00.164-.12l2.378-4.122z\"></path></svg><span class=\"GlobalSideBar-navText\">我的收藏</span></a></li><li class=\"GlobalSideBar-navItem GlobalSideBar-questionListItem\"><a target=\"_blank\" data-za-not-track-link=\"true\" type=\"button\" class=\"Button GlobalSideBar-navLink Button--plain\" href=\"/people/1200652e3c53bd55c2f1e12d557afd31/following/questions\"><svg width=\"18\" height=\"18\" viewBox=\"0 0 24 24\" data-new-api=\"QuestionBubbleFill24\" data-old-api=\"HelpBubble\" class=\"Zi Zi--HelpBubble GlobalSideBar-navIcon\" fill=\"currentColor\"><path d=\"M5.088 1.968c.323-.044.72-.044 1.153-.044h11.518c.433 0 .83 0 1.152.044.356.047.732.16 1.04.469.31.309.422.685.47 1.04.043.323.043.72.043 1.153v13.232c0 .433 0 .83-.043 1.152-.048.356-.16.732-.47 1.04-.308.31-.684.422-1.04.47-.322.043-.72.043-1.152.043h-3.796l-3.932 2.857c-.115.084-.26.19-.397.26a.995.995 0 01-.827.071c-.359-.135-.509-.432-.573-.6a3.363 3.363 0 01-.125-.458l-.477-2.13H6.24c-.433 0-.83 0-1.153-.043-.355-.048-.73-.16-1.04-.47-.309-.308-.421-.684-.47-1.04-.042-.322-.042-.72-.042-1.152V4.63c0-.433 0-.83.043-1.153.048-.355.16-.731.47-1.04.308-.31.684-.422 1.04-.47zm5.827 8.93c0-.095 0-.142.029-.171.03-.03.076-.03.17-.03h1.01a1.63 1.63 0 001.5-1.629 1.63 1.63 0 00-1.626-1.634c-.832 0-1.531.655-1.616 1.469-.011.102-.016.153-.045.178-.028.026-.075.026-.168.026H8.947c-.095 0-.142 0-.172-.031s-.027-.077-.022-.168C8.847 7.201 10.27 5.8 11.998 5.8a3.26 3.26 0 013.25 3.268 3.264 3.264 0 01-2.7 3.222c-.041.007-.062.01-.074.024-.012.014-.012.035-.012.076v.797c0 .094 0 .141-.029.17-.03.03-.076.03-.17.03h-1.148c-.095 0-.142 0-.171-.03-.03-.029-.03-.076-.03-.17v-2.29zm-.31 4.05c0-.094 0-.141.03-.17.029-.03.076-.03.17-.03h1.922c.094 0 .141 0 .17.03.03.029.03.076.03.17v1.402c0 .094 0 .141-.03.17-.029.03-.076.03-.17.03h-1.922c-.094 0-.141 0-.17-.03-.03-.029-.03-.076-.03-.17v-1.402z\" fill-rule=\"evenodd\" clip-rule=\"evenodd\"></path></svg><span class=\"GlobalSideBar-navText\">我关注的问题</span></a></li><li class=\"GlobalSideBar-navItem GlobalSideBar-inviteItem\"><a target=\"_blank\" data-za-not-track-link=\"true\" type=\"button\" class=\"Button GlobalSideBar-navLink Button--plain\" href=\"/question/waiting?type=invite\"><svg width=\"18\" height=\"18\" viewBox=\"0 0 24 24\" data-new-api=\"UserPlusFill24\" data-old-api=\"Invite\" class=\"Zi Zi--Invite GlobalSideBar-navIcon\" fill=\"currentColor\"><path d=\"M5.5 7.5A5.5 5.5 0 0111 2a5.5 5.5 0 015.5 5.5A5.5 5.5 0 0111 13a5.5 5.5 0 01-5.5-5.5zm8.11 9.498c.404-.408.91-1 1.17-1.51.067-.133.13-.284.165-.442.034-.15.058-.373-.033-.602a.872.872 0 00-.545-.509 1.37 1.37 0 00-.604-.043c-.657.082-1.518.184-2.373.24-.867.055-1.68.058-2.254-.041-1.189-.204-2.045-.19-2.781.087-.722.272-1.25.773-1.804 1.302-1.533 1.462-2.434 3.311-2.65 4.831-.11.78.535 1.339 1.199 1.339h8.1a.96.96 0 00.955-.929c.06-1.767.7-2.96 1.456-3.723zm5.596-2.292a.706.706 0 00-1.412 0v2.588h-2.588a.706.706 0 000 1.412h2.588v2.588a.706.706 0 101.412 0v-2.588h2.588a.706.706 0 000-1.412h-2.588v-2.588z\" fill-rule=\"evenodd\" clip-rule=\"evenodd\"></path></svg><span class=\"GlobalSideBar-navText\">我的邀请</span></a></li><li class=\"GlobalSideBar-navItem GlobalSideBar-serviceItem\"><a target=\"_blank\" data-za-not-track-link=\"true\" type=\"button\" class=\"Button GlobalSideBar-navLink Button--plain\" href=\"/community\"><svg width=\"18\" height=\"18\" viewBox=\"0 0 24 24\" data-new-api=\"TextBubbleFill24\" data-old-api=\"Community\" class=\"Zi Zi--Community GlobalSideBar-navIcon\" fill=\"currentColor\"><path d=\"M4.4 3A2.4 2.4 0 002 5.4v10.5a2.4 2.4 0 002.4 2.4h8.292l3.073 3.353a.8.8 0 001.387-.475l.24-2.878H19.6a2.4 2.4 0 002.4-2.4V5.4A2.4 2.4 0 0019.6 3H4.4zm2.1 4.75a.75.75 0 000 1.5h9a.75.75 0 000-1.5h-9zm-.75 4.75a.75.75 0 01.75-.75h4.495a.75.75 0 010 1.5H6.5a.75.75 0 01-.75-.75z\" fill-rule=\"evenodd\" clip-rule=\"evenodd\"></path></svg><span class=\"GlobalSideBar-navText\">站务中心</span></a></li><li class=\"GlobalSideBar-navItem GlobalSideBar-help-centerItem\"><a target=\"_blank\" data-za-not-track-link=\"true\" type=\"button\" class=\"Button GlobalSideBar-navLink Button--plain\" href=\"/help-center\"><svg width=\"18\" height=\"18\" viewBox=\"0 0 16 16\" data-new-api=\"HeadMicrophoneFill16\" data-old-api=\"HeadMicrophoneFill16\" class=\"ZDI ZDI--HeadMicrophoneFill16 GlobalSideBar-navIcon\" fill=\"currentColor\"><path d=\"M8 2.763a4.376 4.376 0 00-4.33 3.744h.065c.861 0 1.559.697 1.559 1.558v2.595c0 .861-.698 1.559-1.559 1.559A2.485 2.485 0 011.25 9.733v-.741c0-.867.444-1.63 1.117-2.075a5.638 5.638 0 0111.266 0 2.483 2.483 0 011.117 2.075v.741c0 1.19-.836 2.184-1.952 2.428a5.077 5.077 0 01-4.242 2.283H8a.631.631 0 010-1.263h.556c1.116 0 2.12-.478 2.818-1.241a1.557 1.557 0 01-.668-1.28V8.065a1.558 1.558 0 011.624-1.558A4.376 4.376 0 008 2.763z\" fill-rule=\"evenodd\" clip-rule=\"evenodd\"></path></svg><span class=\"GlobalSideBar-navText\">帮助与客服</span></a></li><li class=\"GlobalSideBar-navItem GlobalSideBar-copyrightItem\"><a target=\"_blank\" data-za-not-track-link=\"true\" type=\"button\" class=\"Button GlobalSideBar-navLink Button--plain\" href=\"/copyright\"><svg width=\"18\" height=\"18\" viewBox=\"0 0 24 24\" data-new-api=\"CopyrightFill24\" data-old-api=\"Copyright\" class=\"Zi Zi--Copyright GlobalSideBar-navIcon\" fill=\"currentColor\"><path d=\"M22 12c0 5.523-4.477 10-10 10S2 17.523 2 12 6.477 2 12 2s10 4.477 10 10zm-9.114-4.957a4.59 4.59 0 00-3.292.816 5 5 0 00-1.937 2.868 5.227 5.227 0 00.333 3.483 4.865 4.865 0 002.453 2.41 4.557 4.557 0 003.384.104 4.827 4.827 0 002.583-2.26.75.75 0 00-1.32-.712 3.327 3.327 0 01-1.777 1.562c-.74.27-1.547.245-2.273-.07a3.366 3.366 0 01-1.692-1.672 3.727 3.727 0 01-.236-2.48 3.5 3.5 0 011.35-2.01 3.09 3.09 0 012.219-.553c.774.107 1.495.51 2.022 1.146a.75.75 0 001.155-.958 4.703 4.703 0 00-2.972-1.674z\" fill-rule=\"evenodd\" clip-rule=\"evenodd\"></path></svg><span class=\"GlobalSideBar-navText\">版权服务中心</span></a></li></ul></div></div></div></div></div></div></main><div data-zop-usertoken=\"{}\"></div></div></div><script id=\"js-clientConfig\" type=\"text/json\">{\"fetchRoot\":{\"www\":\"https:\\u002F\\u002Fwww.zhihu.com\",\"api\":\"https:\\u002F\\u002Fapi.zhihu.com\",\"lens\":\"https:\\u002F\\u002Flens.zhihu.com\",\"zhuanlan\":\"https:\\u002F\\u002Fzhuanlan.zhihu.com\",\"walletpay\":\"https:\\u002F\\u002Fwalletpay.zhihu.com\",\"captcha\":\"https:\\u002F\\u002Fcaptcha.zhihu.com\",\"vzuu\":\"https:\\u002F\\u002Fv.vzuu.com\",\"openapi\":\"https:\\u002F\\u002Fopenapi.zhihu.com\"},\"host\":\"zhihu.com\",\"protocol\":\"https:\",\"wwwHost\":\"www.zhihu.com\",\"videoHost\":\"video.zhihu.com\",\"allowSignUp\":true}</script><script id=\"js-initialData\" type=\"text/json\">{\"initialState\":{\"common\":{\"ask\":{}},\"loading\":{\"global\":{\"count\":0},\"local\":{\"topstory\\u002FgetCommercialBanner\\u002F\":false,\"topstory\\u002FgetRecommend\\u002F\":false}},\"club\":{\"tags\":{},\"admins\":{\"data\":[]},\"members\":{\"data\":[]},\"explore\":{\"candidateSyncClubs\":{}},\"profile\":{},\"checkin\":{},\"comments\":{\"paging\":{},\"loading\":{},\"meta\":{},\"ids\":{}},\"postList\":{\"paging\":{},\"loading\":{},\"ids\":{}},\"recommend\":{\"data\":[]},\"silences\":{\"data\":[]},\"application\":{\"profile\":null}},\"entities\":{\"users\":{\"1200652e3c53bd55c2f1e12d557afd31\":{\"uid\":909833245397508100,\"userType\":\"people\",\"id\":\"1200652e3c53bd55c2f1e12d557afd31\"},\"ren-lei-zao-qi-xun-fu\":{\"id\":\"7c4ebe1e27a9f9d3ea7fc41341f08754\",\"type\":\"people\",\"url\":\"https:\\u002F\\u002Fapi.zhihu.com\\u002Fpeople\\u002F7c4ebe1e27a9f9d3ea7fc41341f08754\",\"userType\":\"people\",\"urlToken\":\"ren-lei-zao-qi-xun-fu\",\"name\":\"人类早期驯服\",\"headline\":\"人类早期驯服野生生物的珍贵影像，每周更新~\",\"avatarUrl\":\"https:\\u002F\\u002Fpic4.zhimg.com\\u002F50\\u002Fv2-56f221fe064865a3876b98686a1092c0_m.jpg\",\"isOrg\":false,\"gender\":0,\"badge\":[],\"followersCount\":202948,\"isFollowing\":false,\"isFollowed\":false},\"niu-bi-li-si-shan\":{\"id\":\"38f7d40c20b9c6e6b2ddacb68cfd10e6\",\"type\":\"people\",\"url\":\"https:\\u002F\\u002Fapi.zhihu.com\\u002Fpeople\\u002F38f7d40c20b9c6e6b2ddacb68cfd10e6\",\"userType\":\"people\",\"urlToken\":\"niu-bi-li-si-shan\",\"name\":\"牛比利斯山\",\"headline\":\"努力推动面向航空航天的机器学习和计算科学\",\"avatarUrl\":\"https:\\u002F\\u002Fpic2.zhimg.com\\u002F50\\u002Fv2-d8d75c1b28701f197872cb8b0ea540b6_m.jpg\",\"isOrg\":false,\"gender\":1,\"badge\":[],\"followersCount\":1016,\"isFollowing\":false,\"isFollowed\":false}},\"questions\":{},\"answers\":{\"1327805592\":{\"id\":1327805592,\"type\":\"answer\",\"url\":\"https:\\u002F\\u002Fapi.zhihu.com\\u002Fanswers\\u002F1327805592\",\"author\":{\"id\":\"f4045425de757cfe3a8d10443f7597f4\",\"type\":\"people\",\"url\":\"https:\\u002F\\u002Fapi.zhihu.com\\u002Fpeople\\u002Ff4045425de757cfe3a8d10443f7597f4\",\"userType\":\"people\",\"urlToken\":\"zhang-ruo-xin-53\",\"name\":\"宝之大者\",\"headline\":\"我就只这一生，何来苟且的余裕？\",\"avatarUrl\":\"https:\\u002F\\u002Fpic3.zhimg.com\\u002F50\\u002Fv2-002f696564168942f7e38e5aad74b3dc_m.jpg\",\"isOrg\":false,\"gender\":1,\"badge\":[{\"type\":\"identity\",\"description\":\"复旦大学 临床医学博士在读\"},{\"type\":\"identity_people\",\"description\":\"复旦大学 临床医学博士在读\",\"topics\":[],\"topicNames\":[],\"topicIds\":[]}],\"followersCount\":90639,\"isFollowing\":false,\"isFollowed\":false},\"createdTime\":1594262986,\"updatedTime\":1637420397,\"voteupCount\":28311,\"thanksCount\":4139,\"commentCount\":852,\"isCopyable\":true,\"question\":{\"id\":405770200,\"type\":\"question\",\"url\":\"https:\\u002F\\u002Fapi.zhihu.com\\u002Fquestions\\u002F405770200\",\"author\":{\"id\":\"0\",\"type\":\"people\",\"url\":\"\",\"userType\":\"people\",\"urlToken\":\"\",\"name\":\"匿名用户\",\"headline\":\"\",\"avatarUrl\":\"https:\\u002F\\u002Fpic2.zhimg.com\\u002Fv2-d41c2ceaed8f51999522f903672a521f_m.jpg\"},\"title\":\"如果《王者荣耀》里的英雄去参加高考，你觉得谁最有可能拿到状元？\",\"created\":1594215596,\"answerCount\":489,\"followerCount\":1244,\"commentCount\":82,\"boundTopicIds\":[253,307,5830,163534,390533],\"isFollowing\":false,\"excerpt\":\"\",\"relationship\":{\"isAuthor\":false},\"detail\":\"\",\"questionType\":\"normal\"},\"excerpt\":\"通报批评我校多位同学在高考期间，未按照学校相关规定进行考试。 高三（3）班的 元歌同学使用傀儡替考，本体在教室外面使用作业帮。被发现后自称“哪一个才是真正的我，我自己也搞不明白”。高三（8）班的 兰陵王同学在考试期间多次从座位上消失，随后全班同学头上都冒出了惊叹号。高三（2）班的 梦奇同学，在老师询问其姓名时含糊其辞，被取消考试资格。高三（3）班的 盾山同学，因为同样的原因，也被取消考试资格。高三（6）班…\",\"excerptNew\":\"通报批评我校多位同学在高考期间，未按照学校相关规定进行考试。 高三（3）班的 元歌同学使用傀儡替考，本体在教室外面使用作业帮。被发现后自称“哪一个才是真正的我，我自己也搞不明白”。高三（8）班的 兰陵王同学在考试期间多次从座位上消失，随后全班同学头上都冒出了惊叹号。高三（2）班的 梦奇同学，在老师询问其姓名时含糊其辞，被取消考试资格。高三（3）班的 盾山同学，因为同样的原因，也被取消考试资格。高三（6）班…\",\"previewType\":\"default\",\"previewText\":\"\",\"reshipmentSettings\":\"allowed\",\"content\":\"\\u003Ch2\\u003E通报批评\\u003C\\u002Fh2\\u003E\\u003Cp data-pid=\\\"ltaomJ_H\\\"\\u003E我校多位同学在高考期间，未按照学校相关规定进行考试。\\u003C\\u002Fp\\u003E\\u003Cp data-pid=\\\"GHcs5u-t\\\"\\u003E高三（3）班的\\u003Cb\\u003E元歌\\u003C\\u002Fb\\u003E同学使用傀儡替考，本体在教室外面使用作业帮。被发现后自称“哪一个才是真正的我，我自己也搞不明白”。\\u003C\\u002Fp\\u003E\\u003Cp data-pid=\\\"UQLwt08Y\\\"\\u003E高三（8）班的\\u003Cb\\u003E兰陵王\\u003C\\u002Fb\\u003E同学在考试期间多次从座位上消失，随后全班同学头上都冒出了惊叹号。\\u003C\\u002Fp\\u003E\\u003Cp data-pid=\\\"yLxryo-A\\\"\\u003E高三（2）班的\\u003Cb\\u003E梦奇\\u003C\\u002Fb\\u003E同学，在老师询问其姓名时含糊其辞，被取消考试资格。\\u003C\\u002Fp\\u003E\\u003Cp data-pid=\\\"tadU9FM-\\\"\\u003E高三（3）班的\\u003Cb\\u003E盾山\\u003C\\u002Fb\\u003E同学，因为同样的原因，也被取消考试资格。\\u003C\\u002Fp\\u003E\\u003Cp data-pid=\\\"poI4UhmD\\\"\\u003E高三（6）班的\\u003Cb\\u003E曹操\\u003C\\u002Fb\\u003E同学公然抄袭邻座司马懿，并声称“宁教我负天下人”，其行为属于明知故犯，目无师长，严重违反学校相关管理纪律。\\u003C\\u002Fp\\u003E\\u003Cp data-pid=\\\"bDvglJ9H\\\"\\u003E高三（12）班的\\u003Cb\\u003E刘邦\\u003C\\u002Fb\\u003E同学，考试期间突然消失，并出现在隔壁考场张良的课桌旁。\\u003C\\u002Fp\\u003E\\u003Cp data-pid=\\\"GvPQ1__x\\\"\\u003E高三（1）班的\\u003Cb\\u003E小乔\\u003C\\u002Fb\\u003E同学，考试过程中反复吹起前桌答题卡。\\u003C\\u002Fp\\u003E\\u003Cp data-pid=\\\"1hX-k-kG\\\"\\u003E高三（10）班的\\u003Cb\\u003E百里守约\\u003C\\u002Fb\\u003E，考试前擅自布置眼睛，考试中用狙击镜偷看他人答卷。\\u003C\\u002Fp\\u003E\\u003Cp data-pid=\\\"7VSBdFgh\\\"\\u003E高三（14）班的\\u003Cb\\u003E典韦\\u003C\\u002Fb\\u003E同学，考试期间突然发狂，撕碎答题纸。\\u003C\\u002Fp\\u003E\\u003Cp data-pid=\\\"UEKY3GER\\\"\\u003E高三（9）班的\\u003Cb\\u003E钟馗\\u003C\\u002Fb\\u003E同学，明目张胆钩走诸葛亮的试卷。\\u003C\\u002Fp\\u003E\\u003Cp data-pid=\\\"bgYuRQTj\\\"\\u003E高三（11）班的\\u003Cb\\u003E老夫子\\u003C\\u002Fb\\u003E同学，将监考老师绑在明灯上，号称自己是“万世师表”。情节特别严重！\\u003C\\u002Fp\\u003E\\u003Cp data-pid=\\\"o6Ryo6w3\\\"\\u003E高三（12）班的\\u003Cb\\u003E阿珂\\u003C\\u002Fb\\u003E同学，多次背刺监考老师，被驱赶出考场。\\u003C\\u002Fp\\u003E\\u003Cp data-pid=\\\"DzdHQBv-\\\"\\u003E高三（17）班的\\u003Cb\\u003E武则天\\u003C\\u002Fb\\u003E同学，考试期间开大，获取其他同学视野。并对监考老师说出“朕偶尔也想任性一把”、“叫我女王大人”等狂妄之词。\\u003C\\u002Fp\\u003E\\u003Cp data-pid=\\\"rMuEhfIM\\\"\\u003E高三（4）班的\\u003Cb\\u003E云中君\\u003C\\u002Fb\\u003E同学，擅自变成鸟人，且发型不符合规定。\\u003C\\u002Fp\\u003E\\u003Cp data-pid=\\\"VfoDYfMz\\\"\\u003E高三（9）班的\\u003Cb\\u003E达摩\\u003C\\u002Fb\\u003E同学，赤裸上半身参加考试，行为有伤风化，被禁止入场。\\u003C\\u002Fp\\u003E\\u003Cp data-pid=\\\"qx7TReaZ\\\"\\u003E高三（10）班的\\u003Cb\\u003E大乔\\u003C\\u002Fb\\u003E同学，使用电梯流回家翻书再重返考场，目无法纪。\\u003C\\u002Fp\\u003E\\u003Cp data-pid=\\\"7kt3sExl\\\"\\u003E高三（5）班的\\u003Cb\\u003E马超\\u003C\\u002Fb\\u003E同学，坚持要携带4把长枪进入考场，被监考老师取消考试资格。\\u003C\\u002Fp\\u003E\\u003Cp data-pid=\\\"zhqcFo_d\\\"\\u003E高三（7）班的\\u003Cb\\u003E芈月\\u003C\\u002Fb\\u003E同学，因为擅自携带野生动物进场，被一并取消考试资格。\\u003C\\u002Fp\\u003E\\u003Cp data-pid=\\\"bk9wwssY\\\"\\u003E高三（18）班的\\u003Cb\\u003E瑶\\u003C\\u002Fb\\u003E同学，未经允许骑在别的同学身上阅卷，多次劝阻无效。\\u003C\\u002Fp\\u003E\\u003Cp data-pid=\\\"j17rF5k7\\\"\\u003E高三（17）班的\\u003Cb\\u003E上官婉儿\\u003C\\u002Fb\\u003E，反复和监考老师说“我会上天”之类奇怪的话，被老师警告。\\u003C\\u002Fp\\u003E\\u003Cp data-pid=\\\"1lklj3n1\\\"\\u003E高三（15）班的\\u003Cb\\u003E干将\\u003C\\u002Fb\\u003E和同班的\\u003Cb\\u003E莫邪\\u003C\\u002Fb\\u003E，坚持两人共同答题，在老师多次劝阻无用后，竟公然抱在一起。这是严重影响校风建设的行为！\\u003C\\u002Fp\\u003E\\u003Cp data-pid=\\\"7Hcm2arr\\\"\\u003E以上各位同学严重违反校规校纪，给本校带来了不良的社会评价。\\u003C\\u002Fp\\u003E\\u003Cp data-pid=\\\"Z3GbFDg5\\\"\\u003E为严肃规范学风，警戒他人，杜绝此类现象的发生，根据教育部门有关规定，经校委会研究决定，给予以上诸位同学全校通报批评处分，本次普通高等学校招生全国统一考试成绩记为零分。\\u003C\\u002Fp\\u003E\\u003Cp data-pid=\\\"bu0EYxTK\\\"\\u003E希望全校学生以此为戒！在学校中严格遵照规定考试，如再发生类似现象，学校将给予严肃处理！\\u003C\\u002Fp\\u003E\\u003Cp data-pid=\\\"XfMkF5mh\\\"\\u003E\\u003Cb\\u003E    特此通报！\\u003C\\u002Fb\\u003E\\u003C\\u002Fp\\u003E\\u003Cp class=\\\"ztext-empty-paragraph\\\"\\u003E\\u003Cbr\\u002F\\u003E\\u003C\\u002Fp\\u003E\\u003Cp class=\\\"ztext-empty-paragraph\\\"\\u003E\\u003Cbr\\u002F\\u003E\\u003C\\u002Fp\\u003E\\u003Cp data-pid=\\\"g_nFAbE1\\\"\\u003E                                                                                          稷下学院政教处\\u003C\\u002Fp\\u003E\\u003Cp data-pid=\\\"wbgN2F1m\\\"\\u003E                                                                                          2020年7月9日\\u003C\\u002Fp\\u003E\\u003Cfigure data-size=\\\"normal\\\"\\u003E\\u003Cimg src=\\\"https:\\u002F\\u002Fpic1.zhimg.com\\u002F50\\u002Fv2-a13664b95b06bda43bdccc82411da612_720w.jpg?source=1940ef5c\\\" data-size=\\\"normal\\\" data-rawwidth=\\\"460\\\" data-rawheight=\\\"367\\\" data-default-watermark-src=\\\"https:\\u002F\\u002Fpic3.zhimg.com\\u002F50\\u002Fv2-d95e1d7d4ac0d06cd35a047109dd193f_720w.jpg?source=1940ef5c\\\" class=\\\"origin_image zh-lightbox-thumb\\\" width=\\\"460\\\" data-original=\\\"https:\\u002F\\u002Fpic2.zhimg.com\\u002Fv2-a13664b95b06bda43bdccc82411da612_r.jpg?source=1940ef5c\\\"\\u002F\\u003E\\u003Cfigcaption\\u003E没有给我点赞就想走，根本没把我放在盐里！\\u003C\\u002Ffigcaption\\u003E\\u003C\\u002Ffigure\\u003E\\u003Cp data-pid=\\\"PfyGDRR3\\\"\\u003E最后，祝各位小伙伴考出一个好成绩！\\u003C\\u002Fp\\u003E\\u003Cp data-pid=\\\"3VPdcozP\\\"\\u003E也感谢 \\u003Ca class=\\\"member_mention\\\" href=\\\"https:\\u002F\\u002Fwww.zhihu.com\\u002Fpeople\\u002Ff35ba1ba4c8797d7b703ca018773ebeb\\\" data-hash=\\\"f35ba1ba4c8797d7b703ca018773ebeb\\\" data-hovercard=\\\"p$b$f35ba1ba4c8797d7b703ca018773ebeb\\\"\\u003E@铅文\\u003C\\u002Fa\\u003E  提供这个段子的点子⁄(⁄ ⁄•⁄ω⁄•⁄ ⁄)⁄\\u003C\\u002Fp\\u003E\\u003Cp data-pid=\\\"_RwAa-z6\\\"\\u003E感谢 \\u003Ca class=\\\"member_mention\\\" href=\\\"https:\\u002F\\u002Fwww.zhihu.com\\u002Fpeople\\u002F7c19e05b34d7280fbfa3533fccc09089\\\" data-hash=\\\"7c19e05b34d7280fbfa3533fccc09089\\\" data-hovercard=\\\"p$b$7c19e05b34d7280fbfa3533fccc09089\\\"\\u003E@校花的男友\\u003C\\u002Fa\\u003E 、 \\u003Ca class=\\\"member_mention\\\" href=\\\"https:\\u002F\\u002Fwww.zhihu.com\\u002Fpeople\\u002F9b6a7438abab2d11561f61c5a448985d\\\" data-hash=\\\"9b6a7438abab2d11561f61c5a448985d\\\" data-hovercard=\\\"p$b$9b6a7438abab2d11561f61c5a448985d\\\"\\u003E@半眸浅笑\\u003C\\u002Fa\\u003E 、 \\u003Ca class=\\\"member_mention\\\" href=\\\"https:\\u002F\\u002Fwww.zhihu.com\\u002Fpeople\\u002F30b048dec306500836768412d3273361\\\" data-hash=\\\"30b048dec306500836768412d3273361\\\" data-hovercard=\\\"p$b$30b048dec306500836768412d3273361\\\"\\u003E@深南旧巷\\u003C\\u002Fa\\u003E 知友提醒，抖音有与我文案类似的视频。\\u003C\\u002Fp\\u003E\\u003Cp data-pid=\\\"cevt8xim\\\"\\u003E属于不规范转载，不过我看过之后，觉得人家配了视频，也算二次创作。\\u003C\\u002Fp\\u003E\\u003Cp data-pid=\\\"et4uTc6a\\\"\\u003E而且这就是个段子，博人一乐，我不想较真。\\u003C\\u002Fp\\u003E\\u003Ch2\\u003E推荐阅读：高考干货，来自语文单科省十的宝之大者。\\u003C\\u002Fh2\\u003E\\u003Ca href=\\\"https:\\u002F\\u002Fwww.zhihu.com\\u002Fquestion\\u002F442912614\\u002Fanswer\\u002F2222777915\\\" data-draft-node=\\\"block\\\" data-draft-type=\\\"link-card\\\" data-image=\\\"https:\\u002F\\u002Fpic2.zhimg.com\\u002Fv2-1423e0d3cedf46f67769ee539ef5b57d_ipico.jpg\\\" data-image-width=\\\"749\\\" data-image-height=\\\"705\\\" class=\\\"internal\\\"\\u003E哪种字体利于高考啊？\\u003C\\u002Fa\\u003E\\u003Cp\\u003E\\u003C\\u002Fp\\u003E\",\"markInfos\":[],\"relationship\":{\"isThanked\":false,\"isNothelp\":false,\"voting\":0,\"upvotedFolloweeIds\":[]},\"isLabeled\":false,\"visitedCount\":773144,\"creationRelationship\":{},\"favoriteCount\":3591},\"2342221210\":{\"id\":2342221210,\"type\":\"answer\",\"url\":\"https:\\u002F\\u002Fapi.zhihu.com\\u002Fanswers\\u002F2342221210\",\"author\":{\"id\":\"0eec1b73a18f6abee0c29aaadc5b7527\",\"type\":\"people\",\"url\":\"https:\\u002F\\u002Fapi.zhihu.com\\u002Fpeople\\u002F0eec1b73a18f6abee0c29aaadc5b7527\",\"userType\":\"people\",\"urlToken\":\"toolber\",\"name\":\"法海\",\"headline\":\"杠就是你赢，杠就是你对。\",\"avatarUrl\":\"https:\\u002F\\u002Fpic4.zhimg.com\\u002F50\\u002F21aa37d775b5fe3d8698ff4712dfd1f7_m.jpg\",\"isOrg\":false,\"gender\":0,\"badge\":[],\"followersCount\":7905,\"isFollowing\":false,\"isFollowed\":false},\"createdTime\":1644478568,\"updatedTime\":1644479257,\"voteupCount\":1963,\"thanksCount\":285,\"commentCount\":134,\"isCopyable\":true,\"question\":{\"id\":508098161,\"type\":\"question\",\"url\":\"https:\\u002F\\u002Fapi.zhihu.com\\u002Fquestions\\u002F508098161\",\"author\":{\"id\":\"49ff7c69b5e970595bb2359614df8a5f\",\"type\":\"people\",\"url\":\"https:\\u002F\\u002Fapi.zhihu.com\\u002Fpeople\\u002F49ff7c69b5e970595bb2359614df8a5f\",\"userType\":\"people\",\"urlToken\":\"jiu-ren-bu-fu-84-34\",\"name\":\"旧人不覆\",\"headline\":\"学生\",\"avatarUrl\":\"https:\\u002F\\u002Fpic1.zhimg.com\\u002F50\\u002Fv2-a81fe49ccd25ac7422cea95eab700482_m.jpg\",\"isOrg\":false,\"gender\":0,\"badge\":[],\"followersCount\":2,\"isFollowing\":false,\"isFollowed\":false},\"title\":\"现实中的武器怎么附魔？\",\"created\":1640325828,\"answerCount\":184,\"followerCount\":481,\"commentCount\":7,\"boundTopicIds\":[1234,4810,16053,44909,210577],\"isFollowing\":false,\"excerpt\":\"\",\"relationship\":{\"isAuthor\":false},\"detail\":\"\",\"questionType\":\"normal\"},\"excerpt\":\"一看这提问，题主肯定没在农村生活过，和村里人打过架。作为一个曾经的村里人，我给大家科普下村里 泼妇们打架用的附魔武器;1.长柄武器“恶魔之舌”简介： 将拖把在旱厕里浸一下，可以获得附魔效果“群体驱散光环”+“击退效果”+“远程攻击距离+5”，群体敌人见此武器100%驱散，单体敌人被攻击100%后退，用力甩击能产生溅射远程攻击效果；类似武器在田间地头，是插过农家肥桶里的扁担还有长柄粪勺。 2.远程武器“世仇之泪”简介…\",\"excerptNew\":\"一看这提问，题主肯定没在农村生活过，和村里人打过架。作为一个曾经的村里人，我给大家科普下村里 泼妇们打架用的附魔武器;1.长柄武器“恶魔之舌”简介： 将拖把在旱厕里浸一下，可以获得附魔效果“群体驱散光环”+“击退效果”+“远程攻击距离+5”，群体敌人见此武器100%驱散，单体敌人被攻击100%后退，用力甩击能产生溅射远程攻击效果；类似武器在田间地头，是插过农家肥桶里的扁担还有长柄粪勺。 2.远程武器“世仇之泪”简介…\",\"previewType\":\"default\",\"previewText\":\"\",\"reshipmentSettings\":\"allowed\",\"content\":\"\\u003Cp data-pid=\\\"IFEB6rvf\\\"\\u003E一看这提问，题主肯定没在农村生活过，和村里人打过架。作为一个曾经的村里人，我给大家科普下村里\\u003Cb\\u003E泼妇们打架用的附魔武器;\\u003C\\u002Fb\\u003E\\u003C\\u002Fp\\u003E\\u003Cp data-pid=\\\"XRnbfN43\\\"\\u003E1.长柄武器“恶魔之舌”简介：\\u003C\\u002Fp\\u003E\\u003Cp data-pid=\\\"OvHTvOda\\\"\\u003E将拖把在旱厕里浸一下，可以获得附魔效果“群体驱散光环”+“击退效果”+“远程攻击距离+5”，群体敌人见此武器100%驱散，单体敌人被攻击100%后退，用力甩击能产生溅射远程攻击效果；类似武器在田间地头，是插过农家肥桶里的扁担还有长柄粪勺。\\u003C\\u002Fp\\u003E\\u003Cp data-pid=\\\"6tcWRXyr\\\"\\u003E2.远程武器“世仇之泪”简介：\\u003C\\u002Fp\\u003E\\u003Cp data-pid=\\\"oHLgjnw7\\\"\\u003E仇恨吸引+群嘲类附魔武器，一般在他人嫁娶喜事路上，撒纸钱or冥钞，就能牢牢拉住怪物仇恨，持续时间通常是终身有效。此时纸钱or冥钞自带群嘲效果；类似武器还包含在他人至亲葬礼上，挂喜字旗，放鞭炮等；\\u003C\\u002Fp\\u003E\\u003Cp data-pid=\\\"EtPuhmLW\\\"\\u003E3.女性角色专属附魔武器“月神之血”，简介：\\u003C\\u002Fp\\u003E\\u003Cp data-pid=\\\"bedcyp_5\\\"\\u003E在早年农村斗殴，女性拉开裤裆掏出月经带or卫生巾参与斗殴，使用过的上述物体，均已附魔“雄性驱离光环”+“沉默（击中后打击雄性攻击信心）”+“打断技能（雄性手忙脚乱）”，同时含有“女性攻击力上升（双方）”+“敌方女性仇恨加倍”的负面效果；\\u003C\\u002Fp\\u003E\\u003Cp data-pid=\\\"OmolqqdB\\\"\\u003E4.女性角色专属附魔武器“贱妇的代价”，简介：\\u003C\\u002Fp\\u003E\\u003Cp data-pid=\\\"O7jgzeKS\\\"\\u003E擀面杖一根+使用过的避孕套一个（最好含有体液），将TT套在擀面杖上（正反面均可）。该武器为正室打小三，老婆打造谣自己老公不行的村妇等用途，伴随使用咒语“我家的老*怎么会招惹你这种骚婊？”“他见了老娘就跟这个棒槌一样硬，你个骚婊整天关心他，老娘今儿个就给你尝尝新鲜的！”，对目标攻击极强，如储精囊在目标上炸裂将产生暴击效果——在N个周期内，该目标会被全村标记为，“吃过那玩意儿的人”，村内地位下降。同时使用者气势+9，短期内对所有目标产生震慑效果。\\u003C\\u002Fp\\u003E\\u003Cp data-pid=\\\"hKrSDGg_\\\"\\u003E\\u003Cb\\u003E近些年新产的附魔：\\u003C\\u002Fb\\u003E\\u003C\\u002Fp\\u003E\\u003Cp data-pid=\\\"kWkdabqF\\\"\\u003E1.对敌宠物专属附魔武器“混乱的爱”，简介：\\u003C\\u002Fp\\u003E\\u003Cp data-pid=\\\"wqq8fGhW\\\"\\u003E牲口催情粉，使用该粉末对牲口舔盐块附魔或与盐粉混合后产生附魔效果——“敌方宠物理智下降，攻击判定混乱”+“下崽周期混乱”（这对养殖户来说挺烦的），通常是对付乱吃自家苗的牛羊，直接撒放在村道或者怪物巢穴附近\\u003C\\u002Fp\\u003E\\u003Cp data-pid=\\\"bSLb9VaJ\\\"\\u003E2.近战武器“马爸爸的闪光”，简介：\\u003C\\u002Fp\\u003E\\u003Cp data-pid=\\\"aohw5jyF\\\"\\u003E淘宝有售的赶猪棒子——自带“雷电攻击+99”的附魔棒子，商店有售，玩家自行购买即可；\\u003C\\u002Fp\\u003E\\u003Cp data-pid=\\\"aziav31i\\\"\\u003E3.攻城武器+大规模AOE附魔武器“村委之哀伤”，简介：\\u003C\\u002Fp\\u003E\\u003Cp data-pid=\\\"U_d0cppz\\\"\\u003E吸粪车1辆+旱厕若干，构成魔法武器“村委之哀伤”。作者仅见于村委欺负老实人，特别是已经跟子女住城里的老实人，占人地，占人房，占人年终分红多年或绿帽多年。该武器为攻城武器，主要用于对村委会、村支书、村会计家建筑进行攻击。攻击完成后，被攻击建筑物主人家持续精神不振时间1个月，全村轻度精神不振1个月。若气温高于30度，首次攻击暴击率上升为100%；若气温低于零下20度，建筑主人精神不振时间将长达半年。\\u003C\\u002Fp\\u003E\\u003Cp\\u003E\\u003C\\u002Fp\\u003E\",\"markInfos\":[],\"relationship\":{\"isThanked\":false,\"isNothelp\":false,\"voting\":0,\"upvotedFolloweeIds\":[]},\"isLabeled\":false,\"visitedCount\":124726,\"creationRelationship\":{},\"favoriteCount\":958},\"2460294022\":{\"id\":2460294022,\"type\":\"answer\",\"url\":\"https:\\u002F\\u002Fapi.zhihu.com\\u002Fanswers\\u002F2460294022\",\"author\":{\"id\":\"882f8183c456bdec271b8e1677b06b40\",\"type\":\"people\",\"url\":\"https:\\u002F\\u002Fapi.zhihu.com\\u002Fpeople\\u002F882f8183c456bdec271b8e1677b06b40\",\"userType\":\"people\",\"urlToken\":\"ha-lou-shu-xian-sheng-69\",\"name\":\"哈喽树先生\",\"headline\":\"文不能措词，武不能防身\",\"avatarUrl\":\"https:\\u002F\\u002Fpic1.zhimg.com\\u002F50\\u002Fv2-2345f76fdb2aeaaf04696784564c6eb8_m.jpg\",\"isOrg\":false,\"gender\":1,\"badge\":[],\"followersCount\":99,\"isFollowing\":false,\"isFollowed\":false},\"createdTime\":1651053088,\"updatedTime\":1651845709,\"voteupCount\":6000,\"thanksCount\":543,\"commentCount\":430,\"isCopyable\":true,\"question\":{\"id\":459392094,\"type\":\"question\",\"url\":\"https:\\u002F\\u002Fapi.zhihu.com\\u002Fquestions\\u002F459392094\",\"author\":{\"id\":\"b0a93fc2c8396dac4512f7227dcf85a2\",\"type\":\"people\",\"url\":\"https:\\u002F\\u002Fapi.zhihu.com\\u002Fpeople\\u002Fb0a93fc2c8396dac4512f7227dcf85a2\",\"userType\":\"people\",\"urlToken\":\"free-2-78\",\"name\":\"free\",\"headline\":\"硬件工程师\",\"avatarUrl\":\"https:\\u002F\\u002Fpic4.zhimg.com\\u002F50\\u002F3c83044216f58983b77638556d94c779_m.jpg\",\"isOrg\":false,\"gender\":0,\"badge\":[],\"followersCount\":546,\"isFollowing\":false,\"isFollowed\":false},\"title\":\"如何看待年轻人“躺平”的现象？\",\"created\":1620973587,\"answerCount\":2467,\"followerCount\":8057,\"commentCount\":52,\"boundTopicIds\":[12706,27782,105508,110044],\"isFollowing\":false,\"excerpt\":\"\",\"relationship\":{\"isAuthor\":false},\"detail\":\"\",\"questionType\":\"normal\"},\"excerpt\":\"吾有一计，可立解当前人口经济危局 一.党员干部响应国家政策，九千多万党员带头生孩子，不设上限越多越好，评级评职称如两人各类条件相同，谁生孩子多选谁 生孩子得吃喝拉撒住医疗教育，这样能拉动内需提供就业岗位解决地产过剩问题 这时候有同志说了，生多了我们也养不起啊 别急，有政策! 二.推出“党员贷” 众所周知党员干部都比较清贫，又想起带头作怕养不起，所以银行隆重推出党员贷，供你们买房，养娃，也可以拿去投资，随…\",\"excerptNew\":\"吾有一计，可立解当前人口经济危局 一.党员干部响应国家政策，九千多万党员带头生孩子，不设上限越多越好，评级评职称如两人各类条件相同，谁生孩子多选谁 生孩子得吃喝拉撒住医疗教育，这样能拉动内需提供就业岗位解决地产过剩问题 这时候有同志说了，生多了我们也养不起啊 别急，有政策! 二.推出“党员贷” 众所周知党员干部都比较清贫，又想起带头作怕养不起，所以银行隆重推出党员贷，供你们买房，养娃，也可以拿去投资，随…\",\"previewType\":\"default\",\"previewText\":\"\",\"reshipmentSettings\":\"allowed\",\"content\":\"\\u003Cp data-pid=\\\"4GY0_qCT\\\"\\u003E吾有一计，可立解当前人口经济危局\\u003C\\u002Fp\\u003E\\u003Cp data-pid=\\\"9C6_uKSu\\\"\\u003E一.党员干部响应国家政策，九千多万党员带头生孩子，不设上限越多越好，评级评职称如两人各类条件相同，谁生孩子多选谁\\u003C\\u002Fp\\u003E\\u003Cp data-pid=\\\"9C6_uKSu\\\" class=\\\"ztext-empty-paragraph\\\"\\u003E\\u003Cbr\\u002F\\u003E\\u003C\\u002Fp\\u003E\\u003Cp data-pid=\\\"9C6_uKSu\\\"\\u003E生孩子得吃喝拉撒住医疗教育，这样能拉动内需提供就业岗位解决地产过剩问题\\u003C\\u002Fp\\u003E\\u003Cp data-pid=\\\"9C6_uKSu\\\" class=\\\"ztext-empty-paragraph\\\"\\u003E\\u003Cbr\\u002F\\u003E\\u003C\\u002Fp\\u003E\\u003Cp data-pid=\\\"9C6_uKSu\\\"\\u003E这时候有同志说了，生多了我们也养不起啊\\u003C\\u002Fp\\u003E\\u003Cp data-pid=\\\"9C6_uKSu\\\"\\u003E别急，有政策!\\u003C\\u002Fp\\u003E\\u003Cp data-pid=\\\"9C6_uKSu\\\"\\u003E二.推出“党员贷”\\u003C\\u002Fp\\u003E\\u003Cp data-pid=\\\"9C6_uKSu\\\"\\u003E众所周知党员干部都比较清贫，又想起带头作怕养不起，所以银行隆重推出党员贷，供你们买房，养娃，也可以拿去投资，随便怎么花。鉴于党员们资质信誉特别好，普通人贷款上限三十年，你们六十年起步，最好一百年，为啥?百年，党，这几个字眼多好，多红。还不完可以子女继承，党员干部的子女们肯定也都是信誉好资质好，所以完全可以继承\\u003C\\u002Fp\\u003E\\u003Cp data-pid=\\\"9C6_uKSu\\\" class=\\\"ztext-empty-paragraph\\\"\\u003E\\u003Cbr\\u002F\\u003E\\u003C\\u002Fp\\u003E\\u003Cp data-pid=\\\"9C6_uKSu\\\"\\u003E那么党员子女有话要说了，我们不想生下来就还贷款啊，别急，有政策!\\u003C\\u002Fp\\u003E\\u003Cp data-pid=\\\"9C6_uKSu\\\" class=\\\"ztext-empty-paragraph\\\"\\u003E\\u003Cbr\\u002F\\u003E\\u003C\\u002Fp\\u003E\\u003Cp data-pid=\\\"9C6_uKSu\\\"\\u003E三.成功继承党员贷的干部子女，没入党的自动入党，没出生的，出生即党员，你看，有的人一辈子想入都入不了，你出生就是党员，这是什么差距?你可以对别人大声自豪的说，我是百年党员贷继承\\u003C\\u002Fp\\u003E\\u003Cp data-pid=\\\"9C6_uKSu\\\" class=\\\"ztext-empty-paragraph\\\"\\u003E\\u003Cbr\\u002F\\u003E\\u003C\\u002Fp\\u003E\\u003Cp data-pid=\\\"9C6_uKSu\\\"\\u003E那么这时候高干子女们又有话说了，我爸是高级干部，他爹是基层干部，同样继承，但都是普通党员，不公平吧?别急，有政策!\\u003C\\u002Fp\\u003E\\u003Cp data-pid=\\\"9C6_uKSu\\\" class=\\\"ztext-empty-paragraph\\\"\\u003E\\u003Cbr\\u002F\\u003E\\u003C\\u002Fp\\u003E\\u003Cp data-pid=\\\"9C6_uKSu\\\"\\u003E四成功继承百年党员贷的干部子女，可以根据双亲生前最高职务级别继承部分职务级别，举例:你爹生前是正三品刑部侍郎，你成功的继承了百年党员贷，那么你成年后便可以直接成为六品刑部主事，以此类推，这样保证了干部子女继承平衡州还能保证根正苗红，千秋万世的传下去，多好、上的学肯定是干部子弟学校，大家都是继承者，但你爹的官最大，那么在学校里就没人敢惹你，因为都知道你将来是要当大官的，都会拥护你\\u003C\\u002Fp\\u003E\\u003Cp data-pid=\\\"Uk-qHqLV\\\"\\u003E好处还有很多，依我的智商目前只想到这些，欢迎大家补充，总之这是个一石好多鸟的办法，建议立即全国推行，不出五年，全国形式必定一片大好\\u003C\\u002Fp\\u003E\\u003Cp class=\\\"ztext-empty-paragraph\\\"\\u003E\\u003Cbr\\u002F\\u003E\\u003C\\u002Fp\\u003E\\u003Cp data-pid=\\\"9C6_uKSu\\\" class=\\\"ztext-empty-paragraph\\\"\\u003E\\u003Cbr\\u002F\\u003E\\u003C\\u002Fp\\u003E\\u003Cp class=\\\"ztext-empty-paragraph\\\"\\u003E\\u003Cbr\\u002F\\u003E\\u003C\\u002Fp\\u003E\\u003Cp data-pid=\\\"meVvwRQf\\\"\\u003E更更更更\\u003C\\u002Fp\\u003E\\u003Cp data-pid=\\\"lgFcP7N1\\\"\\u003E五.富强 民主 文明 和谐\\u003C\\u002Fp\\u003E\\u003Cp data-pid=\\\"21qZO86b\\\"\\u003E     自由 平等 公正 法治\\u003C\\u002Fp\\u003E\\u003Cp data-pid=\\\"F8W287a2\\\"\\u003E     爱国 敬业 诚信 友善\\u003C\\u002Fp\\u003E\",\"markInfos\":[],\"relationship\":{\"isThanked\":false,\"isNothelp\":false,\"voting\":0,\"upvotedFolloweeIds\":[]},\"isLabeled\":false,\"visitedCount\":261389,\"creationRelationship\":{},\"favoriteCount\":696},\"2475689884\":{\"id\":2475689884,\"type\":\"answer\",\"url\":\"https:\\u002F\\u002Fapi.zhihu.com\\u002Fanswers\\u002F2475689884\",\"author\":{\"id\":\"bfc852ff2bd064fe87bcb32f066909cf\",\"type\":\"people\",\"url\":\"https:\\u002F\\u002Fapi.zhihu.com\\u002Fpeople\\u002Fbfc852ff2bd064fe87bcb32f066909cf\",\"userType\":\"people\",\"urlToken\":\"mo-li-lan-mao\",\"name\":\"魔力懒猫\",\"headline\":\"\",\"avatarUrl\":\"https:\\u002F\\u002Fpic4.zhimg.com\\u002F50\\u002Fv2-abed1a8c04700ba7d72b45195223e0ff_m.jpg\",\"isOrg\":false,\"gender\":0,\"badge\":[],\"followersCount\":1352,\"isFollowing\":false,\"isFollowed\":false},\"createdTime\":1651983791,\"updatedTime\":1652071814,\"voteupCount\":250,\"thanksCount\":58,\"commentCount\":23,\"isCopyable\":true,\"question\":{\"id\":393138556,\"type\":\"question\",\"url\":\"https:\\u002F\\u002Fapi.zhihu.com\\u002Fquestions\\u002F393138556\",\"author\":{\"id\":\"9bb7ce58e5d666be85b575e130471360\",\"type\":\"people\",\"url\":\"https:\\u002F\\u002Fapi.zhihu.com\\u002Fpeople\\u002F9bb7ce58e5d666be85b575e130471360\",\"userType\":\"people\",\"urlToken\":\"yu-si-58-38\",\"name\":\"孟徽杭\",\"headline\":\"对现今道德的怀疑，将会席卷这世界\",\"avatarUrl\":\"https:\\u002F\\u002Fpic1.zhimg.com\\u002F50\\u002Fv2-db77b540ace66cc623cf4893e58a4c3f_m.jpg\",\"isOrg\":false,\"gender\":1,\"badge\":[],\"followersCount\":1661,\"isFollowing\":false,\"isFollowed\":false},\"title\":\"如何评价galgame制作者无需谈过恋爱这种观点？\",\"created\":1588816182,\"answerCount\":391,\"followerCount\":746,\"commentCount\":47,\"boundTopicIds\":[1045,21575,166033],\"isFollowing\":false,\"excerpt\":\"\",\"relationship\":{\"isAuthor\":false},\"detail\":\"\",\"questionType\":\"normal\"},\"thumbnail\":\"https:\\u002F\\u002Fpic1.zhimg.com\\u002F50\\u002Fv2-37bad39c6306e53d4a7dc7880622749c_hd.jpg\",\"excerpt\":\"直接看看别人怎么写感情的如何？事实上评价最高的一批GAL想找一个核心情感是爱情的反而比较难。 提醒：其他galgame部分重剧透 一、Galgame里对爱情的描写可以多离谱？1.爱你的情感有如爱上学。我们以《白色相簿2》为例，他是这样描写的： 既然作者都提了，那我们就用中学生拒绝上学的视角来看看： 这不就是学校被人欺负了得了抑郁症的家里蹲回家打游戏的情绪吗？ 这一幕出现在浮气线春希请假上班的段落。我们来看同样的描写都在…\",\"excerptNew\":\"直接看看别人怎么写感情的如何？事实上评价最高的一批GAL想找一个核心情感是爱情的反而比较难。 提醒：其他galgame部分重剧透 一、Galgame里对爱情的描写可以多离谱？1.爱你的情感有如爱上学。我们以《白色相簿2》为例，他是这样描写的： 既然作者都提了，那我们就用中学生拒绝上学的视角来看看： 这不就是学校被人欺负了得了抑郁症的家里蹲回家打游戏的情绪吗？ 这一幕出现在浮气线春希请假上班的段落。我们来看同样的描写都在…\",\"previewType\":\"default\",\"previewText\":\"\",\"reshipmentSettings\":\"allowed\",\"content\":\"\\u003Cp data-pid=\\\"6CEyi0qX\\\"\\u003E直接看看别人怎么写感情的如何？事实上评价最高的一批GAL想找一个核心情感是爱情的反而比较难。\\u003C\\u002Fp\\u003E\\u003Cp data-pid=\\\"dGQk10ew\\\"\\u003E提醒：其他galgame部分重剧透\\u003C\\u002Fp\\u003E\\u003Ch2\\u003E一、Galgame里对爱情的描写可以多离谱？\\u003C\\u002Fh2\\u003E\\u003Ch3\\u003E1.爱你的情感有如爱上学。\\u003C\\u002Fh3\\u003E\\u003Cp data-pid=\\\"-_o_H8TB\\\"\\u003E我们以《白色相簿2》为例，他是这样描写的：\\u003C\\u002Fp\\u003E\\u003Cfigure data-size=\\\"normal\\\"\\u003E\\u003Cimg src=\\\"https:\\u002F\\u002Fpic1.zhimg.com\\u002F50\\u002Fv2-598840fa57499654c90bbd02a0be2055_720w.jpg?source=1940ef5c\\\" data-size=\\\"normal\\\" data-rawwidth=\\\"696\\\" data-rawheight=\\\"580\\\" data-default-watermark-src=\\\"https:\\u002F\\u002Fpic3.zhimg.com\\u002F50\\u002Fv2-5af02791f7ce9591fb219e641d8fc823_720w.jpg?source=1940ef5c\\\" class=\\\"origin_image zh-lightbox-thumb\\\" width=\\\"696\\\" data-original=\\\"https:\\u002F\\u002Fpic1.zhimg.com\\u002Fv2-598840fa57499654c90bbd02a0be2055_r.jpg?source=1940ef5c\\\"\\u002F\\u003E\\u003Cfigcaption\\u003E中学生拒绝上学\\u003C\\u002Ffigcaption\\u003E\\u003C\\u002Ffigure\\u003E\\u003Cp data-pid=\\\"jbqrdCMk\\\"\\u003E既然作者都提了，那我们就用中学生拒绝上学的视角来看看：\\u003C\\u002Fp\\u003E\\u003Cfigure data-size=\\\"normal\\\"\\u003E\\u003Cimg src=\\\"https:\\u002F\\u002Fpic1.zhimg.com\\u002F50\\u002Fv2-8080a08b28565d26e46109e4c78d1c49_720w.jpg?source=1940ef5c\\\" data-caption=\\\"\\\" data-size=\\\"normal\\\" data-rawwidth=\\\"675\\\" data-rawheight=\\\"1128\\\" data-default-watermark-src=\\\"https:\\u002F\\u002Fpica.zhimg.com\\u002F50\\u002Fv2-d8e57c28588cf1253dbc2ebc51ac4a70_720w.jpg?source=1940ef5c\\\" class=\\\"origin_image zh-lightbox-thumb\\\" width=\\\"675\\\" data-original=\\\"https:\\u002F\\u002Fpica.zhimg.com\\u002Fv2-8080a08b28565d26e46109e4c78d1c49_r.jpg?source=1940ef5c\\\"\\u002F\\u003E\\u003C\\u002Ffigure\\u003E\\u003Cp data-pid=\\\"VM3VuGH5\\\"\\u003E这不就是学校被人欺负了得了抑郁症的家里蹲回家打游戏的情绪吗？\\u003C\\u002Fp\\u003E\\u003Cp data-pid=\\\"LaJx0pGw\\\"\\u003E这一幕出现在浮气线春希请假上班的段落。我们来看同样的描写都在讲什么：\\u003C\\u002Fp\\u003E\\u003Cfigure data-size=\\\"normal\\\"\\u003E\\u003Cimg src=\\\"https:\\u002F\\u002Fpic2.zhimg.com\\u002F50\\u002Fv2-55a614922db5eb0dec233ac3edca2890_720w.jpg?source=1940ef5c\\\" data-caption=\\\"\\\" data-size=\\\"normal\\\" data-rawwidth=\\\"2295\\\" data-rawheight=\\\"1678\\\" data-default-watermark-src=\\\"https:\\u002F\\u002Fpic2.zhimg.com\\u002F50\\u002Fv2-26909b6f77177b92bf84f7d5bf104239_720w.jpg?source=1940ef5c\\\" class=\\\"origin_image zh-lightbox-thumb\\\" width=\\\"2295\\\" data-original=\\\"https:\\u002F\\u002Fpic1.zhimg.com\\u002Fv2-55a614922db5eb0dec233ac3edca2890_r.jpg?source=1940ef5c\\\"\\u002F\\u003E\\u003C\\u002Ffigure\\u003E\\u003Cp data-pid=\\\"VEIrkyxQ\\\"\\u003E同一段描写先后出现在要去上班、要去见未婚妻、要去给女朋友送礼物、要去把女朋友的闺蜜抓到女朋友的生日宴会上。\\u003C\\u002Fp\\u003E\\u003Cp data-pid=\\\"WCR7XRT3\\\"\\u003E你说这是因为男主出轨吧……其中有一段是雪菜要去见男主。一 样 的 描 写。 \\u003C\\u002Fp\\u003E\\u003Cp data-pid=\\\"LJfJ8QMM\\\"\\u003E大多数朋友都可以get到这是在写责任感强迫自己去做一件事的情绪。\\u003C\\u002Fp\\u003E\\u003Cp data-pid=\\\"NEu3oAxc\\\"\\u003E但是当我们注意到这个情绪是家里蹲拒绝上学的情绪之后，整件事就变得非常滑稽了。\\u003C\\u002Fp\\u003E\\u003Cp data-pid=\\\"wzb-TAcG\\\"\\u003E...辍学回家打游戏有多大概率真的跟出轨\\u002F出门照顾病人是一个心理状态？\\u003C\\u002Fp\\u003E\\u003Cp data-pid=\\\"9-v2MQxo\\\"\\u003E说到家里蹲，故事还真的有写校园欺凌和家里蹲的事。\\u003C\\u002Fp\\u003E\\u003Ch3\\u003E2.被你抛弃之后打扮成了以前出门打工的样子\\u003C\\u002Fh3\\u003E\\u003Cfigure data-size=\\\"normal\\\"\\u003E\\u003Cimg src=\\\"https:\\u002F\\u002Fpic3.zhimg.com\\u002F50\\u002Fv2-ce8f02259020f7be543cd58dfff7cc77_720w.jpg?source=1940ef5c\\\" data-caption=\\\"\\\" data-size=\\\"normal\\\" data-rawwidth=\\\"817\\\" data-rawheight=\\\"643\\\" data-default-watermark-src=\\\"https:\\u002F\\u002Fpica.zhimg.com\\u002F50\\u002Fv2-bdeafab69a2586249e11e1417561564f_720w.jpg?source=1940ef5c\\\" class=\\\"origin_image zh-lightbox-thumb\\\" width=\\\"817\\\" data-original=\\\"https:\\u002F\\u002Fpic2.zhimg.com\\u002Fv2-ce8f02259020f7be543cd58dfff7cc77_r.jpg?source=1940ef5c\\\"\\u002F\\u003E\\u003C\\u002Ffigure\\u003E\\u003Cp data-pid=\\\"sSb_KX6k\\\"\\u003E被弟弟笑话是家里蹲，穿上土气衣服、编上麻花辫子、戴上眼镜\\u003C\\u002Fp\\u003E\\u003Cp data-pid=\\\"p-0RXcE_\\\"\\u003E我们聊白洁的穿搭描写时会用奇迹暖暖把白洁的穿搭再现出来，雪菜这边的穿搭就要简单多了：\\u003C\\u002Fp\\u003E\\u003Cfigure data-size=\\\"normal\\\"\\u003E\\u003Cimg src=\\\"https:\\u002F\\u002Fpic3.zhimg.com\\u002F50\\u002Fv2-6b8908d89de5a178ef2276af4d2b639b_720w.jpg?source=1940ef5c\\\" data-caption=\\\"\\\" data-size=\\\"normal\\\" data-rawwidth=\\\"361\\\" data-rawheight=\\\"755\\\" data-default-watermark-src=\\\"https:\\u002F\\u002Fpica.zhimg.com\\u002F50\\u002Fv2-4ea1c82fa42b4f7052e967e304cca6c1_720w.jpg?source=1940ef5c\\\" class=\\\"content_image\\\" width=\\\"361\\\"\\u002F\\u003E\\u003C\\u002Ffigure\\u003E\\u003Cp data-pid=\\\"Byv1Hrmp\\\"\\u003E没错，上图就是雪菜被抛弃后的样子。\\u003C\\u002Fp\\u003E\\u003Cp data-pid=\\\"85K1XaWr\\\"\\u003E同时也是大明星冬马走街上怕被认出来时的变装风格：\\u003C\\u002Fp\\u003E\\u003Cfigure data-size=\\\"normal\\\"\\u003E\\u003Cimg src=\\\"https:\\u002F\\u002Fpic2.zhimg.com\\u002F50\\u002Fv2-0b39a4b03fe36e7a5a38ccd901bc7875_720w.jpg?source=1940ef5c\\\" data-caption=\\\"\\\" data-size=\\\"normal\\\" data-rawwidth=\\\"813\\\" data-rawheight=\\\"640\\\" data-default-watermark-src=\\\"https:\\u002F\\u002Fpic3.zhimg.com\\u002F50\\u002Fv2-1582cf20ebbceca16ffaa7d2c264781a_720w.jpg?source=1940ef5c\\\" class=\\\"origin_image zh-lightbox-thumb\\\" width=\\\"813\\\" data-original=\\\"https:\\u002F\\u002Fpic3.zhimg.com\\u002Fv2-0b39a4b03fe36e7a5a38ccd901bc7875_r.jpg?source=1940ef5c\\\"\\u002F\\u003E\\u003C\\u002Ffigure\\u003E\\u003Cfigure data-size=\\\"normal\\\"\\u003E\\u003Cimg src=\\\"https:\\u002F\\u002Fpica.zhimg.com\\u002F50\\u002Fv2-7b55b80a2b028cb18a412d30cbdb76b5_720w.jpg?source=1940ef5c\\\" data-caption=\\\"\\\" data-size=\\\"normal\\\" data-rawwidth=\\\"342\\\" data-rawheight=\\\"745\\\" data-default-watermark-src=\\\"https:\\u002F\\u002Fpic2.zhimg.com\\u002F50\\u002Fv2-41ae38540e9d90d567bddf2dde8f72d5_720w.jpg?source=1940ef5c\\\" class=\\\"content_image\\\" width=\\\"342\\\"\\u002F\\u003E\\u003C\\u002Ffigure\\u003E\\u003Cp data-pid=\\\"gRu7zC_0\\\"\\u003E衣服我们可以参考这一套：\\u003C\\u002Fp\\u003E\\u003Cfigure data-size=\\\"normal\\\"\\u003E\\u003Cimg src=\\\"https:\\u002F\\u002Fpic1.zhimg.com\\u002F50\\u002Fv2-09794152c93c2c63f831f8078776076c_720w.jpg?source=1940ef5c\\\" data-caption=\\\"\\\" data-size=\\\"normal\\\" data-rawwidth=\\\"326\\\" data-rawheight=\\\"755\\\" data-default-watermark-src=\\\"https:\\u002F\\u002Fpic2.zhimg.com\\u002F50\\u002Fv2-332e1e2075cf7013103827b6fd984787_720w.jpg?source=1940ef5c\\\" class=\\\"content_image\\\" width=\\\"326\\\"\\u002F\\u003E\\u003C\\u002Ffigure\\u003E\\u003Cp data-pid=\\\"kb0dMoBE\\\"\\u003E虽然立绘之间差别也没有很大就是了……\\u003C\\u002Fp\\u003E\\u003Cp data-pid=\\\"lzmzx6rg\\\"\\u003E倒是雪菜在这一段的关于生活状态的叙述非常有意思。\\u003C\\u002Fp\\u003E\\u003Cblockquote data-pid=\\\"ULHuii53\\\"\\u003E就算无聊也忍耐着消磨时间到晚上，喝着不想喝的酒，醉醺醺地晚回家，在家人面前装作我们关系很好的样子。\\u003C\\u002Fblockquote\\u003E\\u003Cp data-pid=\\\"8uJh4BgU\\\"\\u003E这倒确实是一个经典的委屈藏在肚里自己咽下去的意象，它的艺术形象是这种样的：\\u003C\\u002Fp\\u003E\\u003Cfigure data-size=\\\"normal\\\"\\u003E\\u003Cimg src=\\\"https:\\u002F\\u002Fpica.zhimg.com\\u002F50\\u002Fv2-4442a6714de1c77abfee49db7387ecc8_720w.jpg?source=1940ef5c\\\" data-caption=\\\"\\\" data-size=\\\"normal\\\" data-rawwidth=\\\"261\\\" data-rawheight=\\\"278\\\" data-default-watermark-src=\\\"https:\\u002F\\u002Fpica.zhimg.com\\u002F50\\u002Fv2-e1efd842bf55be7559e77e9204599d6d_720w.jpg?source=1940ef5c\\\" class=\\\"content_image\\\" width=\\\"261\\\"\\u002F\\u003E\\u003C\\u002Ffigure\\u003E\\u003Cp data-pid=\\\"0-9I77vT\\\"\\u003E70年代日本经济腾飞，男人们纷纷开始加班加点超额工作。于是乎那些晚上按时回家的男人们被周围人视作无能的表现。到了90年代广场协议日元大幅度升值导致订单锐减，无班可加，回家又会被认为没有用。这种社会压力之下形成了每天下班后在外面喝到深夜，装得很忙的一种文化氛围。\\u003C\\u002Fp\\u003E\\u003Cp data-pid=\\\"jEaweCab\\\"\\u003E正因如此这是一种在日本人尽皆知的艺术形象，90年代也正是作者丸户的学生时代的背景。\\u003C\\u002Fp\\u003E\\u003Cblockquote data-pid=\\\"DME2YAhp\\\"\\u003E骗他说要去约会，然后一个人看电影\\u003C\\u002Fblockquote\\u003E\\u003Cp data-pid=\\\"PyTL3P9p\\\"\\u003E08年前后经济危机失业潮。这一形象更进化成了失业的中年人面对房贷的压力孩子的学费为了不让家人担心每天早上穿得整整齐齐出去找工作，然后因为日本的终身雇佣制在失业潮中根本找不到工作，最后只能每天每天穿着西装在公园里发呆的的形象，甚至成为了小黄本的一类主题。\\u003C\\u002Fp\\u003E\\u003Cp data-pid=\\\"juPbBMKe\\\"\\u003E这则是白色相簿2创作时期的背景。\\u003C\\u002Fp\\u003E\\u003Cfigure data-size=\\\"normal\\\"\\u003E\\u003Cimg src=\\\"https:\\u002F\\u002Fpic1.zhimg.com\\u002F50\\u002Fv2-95f65d43b9f6c9f2272c4f50ac8e9042_720w.jpg?source=1940ef5c\\\" data-caption=\\\"\\\" data-size=\\\"normal\\\" data-rawwidth=\\\"790\\\" data-rawheight=\\\"621\\\" data-default-watermark-src=\\\"https:\\u002F\\u002Fpic2.zhimg.com\\u002F50\\u002Fv2-b0319f59415317160b32c659a5728884_720w.jpg?source=1940ef5c\\\" class=\\\"origin_image zh-lightbox-thumb\\\" width=\\\"790\\\" data-original=\\\"https:\\u002F\\u002Fpic1.zhimg.com\\u002Fv2-95f65d43b9f6c9f2272c4f50ac8e9042_r.jpg?source=1940ef5c\\\"\\u002F\\u003E\\u003C\\u002Ffigure\\u003E\\u003Cp data-pid=\\\"xN_P1qE1\\\"\\u003E配在这里就更是格外荒诞了，尤其作家本人对自己写了什么心中有数，还专门在故事中点了出来。\\u003C\\u002Fp\\u003E\\u003Ch3\\u003E3.离开你的原因是想让孩子独立。\\u003C\\u002Fh3\\u003E\\u003Cfigure data-size=\\\"normal\\\"\\u003E\\u003Cimg src=\\\"https:\\u002F\\u002Fpic2.zhimg.com\\u002F50\\u002Fv2-0f215b5428c7d1035667b581367eb3c6_720w.jpg?source=1940ef5c\\\" data-caption=\\\"\\\" data-size=\\\"normal\\\" data-rawwidth=\\\"1275\\\" data-rawheight=\\\"718\\\" data-default-watermark-src=\\\"https:\\u002F\\u002Fpica.zhimg.com\\u002F50\\u002Fv2-eeb163fa5038c88f0eb733563099b96a_720w.jpg?source=1940ef5c\\\" class=\\\"origin_image zh-lightbox-thumb\\\" width=\\\"1275\\\" data-original=\\\"https:\\u002F\\u002Fpica.zhimg.com\\u002Fv2-0f215b5428c7d1035667b581367eb3c6_r.jpg?source=1940ef5c\\\"\\u002F\\u003E\\u003C\\u002Ffigure\\u003E\\u003Cfigure data-size=\\\"normal\\\"\\u003E\\u003Cimg src=\\\"https:\\u002F\\u002Fpic1.zhimg.com\\u002F50\\u002Fv2-d57d1f642fab2d02de151f6f3c5e0243_720w.jpg?source=1940ef5c\\\" data-caption=\\\"\\\" data-size=\\\"normal\\\" data-rawwidth=\\\"1272\\\" data-rawheight=\\\"715\\\" data-default-watermark-src=\\\"https:\\u002F\\u002Fpica.zhimg.com\\u002F50\\u002Fv2-0c0a7ea8faa97c84b80fd70364fed5b8_720w.jpg?source=1940ef5c\\\" class=\\\"origin_image zh-lightbox-thumb\\\" width=\\\"1272\\\" data-original=\\\"https:\\u002F\\u002Fpic2.zhimg.com\\u002Fv2-d57d1f642fab2d02de151f6f3c5e0243_r.jpg?source=1940ef5c\\\"\\u002F\\u003E\\u003C\\u002Ffigure\\u003E\\u003Cp data-pid=\\\"UCVgbXq2\\\"\\u003E快问我“这不是别人开当事人玩笑吗？”\\u003C\\u002Fp\\u003E\\u003Cp data-pid=\\\"k88xDvta\\\"\\u003E下面上当事人心理活动：\\u003C\\u002Fp\\u003E\\u003Cfigure data-size=\\\"normal\\\"\\u003E\\u003Cimg src=\\\"https:\\u002F\\u002Fpic2.zhimg.com\\u002F50\\u002Fv2-66c6905dd69d7dd2e0bddbd649e70f60_720w.jpg?source=1940ef5c\\\" data-caption=\\\"\\\" data-size=\\\"normal\\\" data-rawwidth=\\\"1470\\\" data-rawheight=\\\"823\\\" data-default-watermark-src=\\\"https:\\u002F\\u002Fpic1.zhimg.com\\u002F50\\u002Fv2-13fa49876f98327b58f13f9426825ecc_720w.jpg?source=1940ef5c\\\" class=\\\"origin_image zh-lightbox-thumb\\\" width=\\\"1470\\\" data-original=\\\"https:\\u002F\\u002Fpica.zhimg.com\\u002Fv2-66c6905dd69d7dd2e0bddbd649e70f60_r.jpg?source=1940ef5c\\\"\\u002F\\u003E\\u003C\\u002Ffigure\\u003E\\u003Cp data-pid=\\\"7C7UQ6X4\\\"\\u003E情侣分手的理由和闺蜜分手的理由一样也就算了，跟妈妈告别孩子的理由居然也可以一样。\\u003C\\u002Fp\\u003E\\u003Ch3\\u003E4.到妈妈怀里来\\u003C\\u002Fh3\\u003E\\u003Cfigure data-size=\\\"normal\\\"\\u003E\\u003Cimg src=\\\"https:\\u002F\\u002Fpic3.zhimg.com\\u002F50\\u002Fv2-3f07cbc9a7faa5c140bd1df281fd870e_720w.jpg?source=1940ef5c\\\" data-caption=\\\"\\\" data-size=\\\"normal\\\" data-rawwidth=\\\"824\\\" data-rawheight=\\\"642\\\" data-default-watermark-src=\\\"https:\\u002F\\u002Fpic1.zhimg.com\\u002F50\\u002Fv2-c285862a04c5a4224806b2b5b4fa194e_720w.jpg?source=1940ef5c\\\" class=\\\"origin_image zh-lightbox-thumb\\\" width=\\\"824\\\" data-original=\\\"https:\\u002F\\u002Fpic1.zhimg.com\\u002Fv2-3f07cbc9a7faa5c140bd1df281fd870e_r.jpg?source=1940ef5c\\\"\\u002F\\u003E\\u003C\\u002Ffigure\\u003E\\u003Cp data-pid=\\\"V5qtTc_V\\\"\\u003E还在下一段回忆的时候复述强调一遍：\\u003C\\u002Fp\\u003E\\u003Cfigure data-size=\\\"normal\\\"\\u003E\\u003Cimg src=\\\"https:\\u002F\\u002Fpic3.zhimg.com\\u002F50\\u002Fv2-0ca58c100ca649af4e7ab3125fe8660c_720w.jpg?source=1940ef5c\\\" data-caption=\\\"\\\" data-size=\\\"normal\\\" data-rawwidth=\\\"817\\\" data-rawheight=\\\"644\\\" data-default-watermark-src=\\\"https:\\u002F\\u002Fpic1.zhimg.com\\u002F50\\u002Fv2-03610667ca41e63636179815c8673241_720w.jpg?source=1940ef5c\\\" class=\\\"origin_image zh-lightbox-thumb\\\" width=\\\"817\\\" data-original=\\\"https:\\u002F\\u002Fpic3.zhimg.com\\u002Fv2-0ca58c100ca649af4e7ab3125fe8660c_r.jpg?source=1940ef5c\\\"\\u002F\\u003E\\u003C\\u002Ffigure\\u003E\\u003Cp data-pid=\\\"5Vpteb9D\\\"\\u003E当然，在浮气线寻求虚假的爱的时也是一样描写就是了：\\u003C\\u002Fp\\u003E\\u003Cfigure data-size=\\\"normal\\\"\\u003E\\u003Cimg src=\\\"https:\\u002F\\u002Fpic3.zhimg.com\\u002F50\\u002Fv2-a83e5d077a4d1a55dbcd5ecd0ff040b3_720w.jpg?source=1940ef5c\\\" data-caption=\\\"\\\" data-size=\\\"normal\\\" data-rawwidth=\\\"808\\\" data-rawheight=\\\"634\\\" data-default-watermark-src=\\\"https:\\u002F\\u002Fpic2.zhimg.com\\u002F50\\u002Fv2-feae4fcf9904bb248247937fa28c5fb4_720w.jpg?source=1940ef5c\\\" class=\\\"origin_image zh-lightbox-thumb\\\" width=\\\"808\\\" data-original=\\\"https:\\u002F\\u002Fpic4.zhimg.com\\u002Fv2-a83e5d077a4d1a55dbcd5ecd0ff040b3_r.jpg?source=1940ef5c\\\"\\u002F\\u003E\\u003C\\u002Ffigure\\u003E\\u003Cp data-pid=\\\"_2cMiUWo\\\"\\u003E千晶NE也是一样的\\u003C\\u002Fp\\u003E\\u003Cfigure data-size=\\\"normal\\\"\\u003E\\u003Cimg src=\\\"https:\\u002F\\u002Fpic2.zhimg.com\\u002F50\\u002Fv2-37ea34332cf4ddc688c26931a5ea69ea_720w.jpg?source=1940ef5c\\\" data-caption=\\\"\\\" data-size=\\\"normal\\\" data-rawwidth=\\\"803\\\" data-rawheight=\\\"571\\\" data-default-watermark-src=\\\"https:\\u002F\\u002Fpic3.zhimg.com\\u002F50\\u002Fv2-053cf50e21dbac41a2a19fe556db6e02_720w.jpg?source=1940ef5c\\\" class=\\\"origin_image zh-lightbox-thumb\\\" width=\\\"803\\\" data-original=\\\"https:\\u002F\\u002Fpica.zhimg.com\\u002Fv2-37ea34332cf4ddc688c26931a5ea69ea_r.jpg?source=1940ef5c\\\"\\u002F\\u003E\\u003C\\u002Ffigure\\u003E\\u003Cp data-pid=\\\"uJ6-4wWJ\\\"\\u003E最离谱的是作者甚至专门设计剧情线给你对比这个对母亲的情感与对男主的情感来回转移的过程。\\u003C\\u002Fp\\u003E\\u003Cfigure data-size=\\\"normal\\\"\\u003E\\u003Cimg src=\\\"https:\\u002F\\u002Fpic1.zhimg.com\\u002F50\\u002Fv2-e54012bf781ae086e0e7645c76b4a8fc_720w.jpg?source=1940ef5c\\\" data-caption=\\\"\\\" data-size=\\\"normal\\\" data-rawwidth=\\\"850\\\" data-rawheight=\\\"1391\\\" data-default-watermark-src=\\\"https:\\u002F\\u002Fpic2.zhimg.com\\u002F50\\u002Fv2-3a2a698f5b9f1ba7543ba1c98bc25e0c_720w.jpg?source=1940ef5c\\\" class=\\\"origin_image zh-lightbox-thumb\\\" width=\\\"850\\\" data-original=\\\"https:\\u002F\\u002Fpic3.zhimg.com\\u002Fv2-e54012bf781ae086e0e7645c76b4a8fc_r.jpg?source=1940ef5c\\\"\\u002F\\u003E\\u003C\\u002Ffigure\\u003E\\u003Cp data-pid=\\\"J8esVt1w\\\"\\u003E可能有的网友已经有种型月重工的感觉了。\\u003C\\u002Fp\\u003E\\u003Cfigure data-size=\\\"normal\\\"\\u003E\\u003Cimg src=\\\"https:\\u002F\\u002Fpic1.zhimg.com\\u002F50\\u002Fv2-12867fcc0ba068d03bf61ba5736baa39_720w.jpg?source=1940ef5c\\\" data-caption=\\\"\\\" data-size=\\\"normal\\\" data-rawwidth=\\\"427\\\" data-rawheight=\\\"601\\\" data-default-watermark-src=\\\"https:\\u002F\\u002Fpic1.zhimg.com\\u002F50\\u002Fv2-93a2ba624ec31207133809ab26d30ef0_720w.jpg?source=1940ef5c\\\" class=\\\"origin_image zh-lightbox-thumb\\\" width=\\\"427\\\" data-original=\\\"https:\\u002F\\u002Fpica.zhimg.com\\u002Fv2-12867fcc0ba068d03bf61ba5736baa39_r.jpg?source=1940ef5c\\\"\\u002F\\u003E\\u003C\\u002Ffigure\\u003E\\u003Cp data-pid=\\\"1i5Alo4o\\\"\\u003E“我害怕见你就像辍学家里蹲害怕上学”\\u003C\\u002Fp\\u003E\\u003Cp data-pid=\\\"_1ETQm8d\\\"\\u003E“我被你抛弃就像中年男性失去了一份工作”\\u003C\\u002Fp\\u003E\\u003Cp data-pid=\\\"EoW6Nzr_\\\"\\u003E“我离开你就像你妈妈要让你独立”\\u003C\\u002Fp\\u003E\\u003Cp data-pid=\\\"hXWufdS-\\\"\\u003E“看到你的瞬间就像回家打开了游戏”\\u003C\\u002Fp\\u003E\\u003Cp data-pid=\\\"Koz2xF0j\\\"\\u003E“我需要你就像小孩需要他的妈咪”\\u003C\\u002Fp\\u003E\\u003Cp data-pid=\\\"5MuyYLWc\\\"\\u003E像这样的jojo奇妙比喻，一定会影响恋爱体验中的现实感吧？\\u003C\\u002Fp\\u003E\\u003Cp data-pid=\\\"JxiDEOyk\\\"\\u003E“他们说这是真爱，是情感最真实的Galgame”\\u003C\\u002Fp\\u003E\\u003Cfigure data-size=\\\"normal\\\"\\u003E\\u003Cimg src=\\\"https:\\u002F\\u002Fpica.zhimg.com\\u002F50\\u002Fv2-84bbb39ae2e05be5584ad4275fadd6d9_720w.jpg?source=1940ef5c\\\" data-caption=\\\"\\\" data-size=\\\"normal\\\" data-rawwidth=\\\"890\\\" data-rawheight=\\\"658\\\" data-default-watermark-src=\\\"https:\\u002F\\u002Fpic3.zhimg.com\\u002F50\\u002Fv2-079668652be92f4e71aa0dfc09321659_720w.jpg?source=1940ef5c\\\" class=\\\"origin_image zh-lightbox-thumb\\\" width=\\\"890\\\" data-original=\\\"https:\\u002F\\u002Fpic2.zhimg.com\\u002Fv2-84bbb39ae2e05be5584ad4275fadd6d9_r.jpg?source=1940ef5c\\\"\\u002F\\u003E\\u003C\\u002Ffigure\\u003E\\u003Cp data-pid=\\\"bdcxJakG\\\"\\u003E怎么说呢就，毕竟人的性癖是自由的。也不排除真有人跟亲妈是真爱。\\u003C\\u002Fp\\u003E\\u003Cp data-pid=\\\"_YohgN5y\\\"\\u003E不过重点在于，丸户有心理学背景。\\u003C\\u002Fp\\u003E\\u003Ch3\\u003E5.情感移入\\u003C\\u002Fh3\\u003E\\u003Cfigure data-size=\\\"normal\\\"\\u003E\\u003Cimg src=\\\"https:\\u002F\\u002Fpic2.zhimg.com\\u002F50\\u002Fv2-70eb1f8a398f50c1a93bc009b45c5f1f_720w.jpg?source=1940ef5c\\\" data-caption=\\\"\\\" data-size=\\\"normal\\\" data-rawwidth=\\\"1279\\\" data-rawheight=\\\"719\\\" data-default-watermark-src=\\\"https:\\u002F\\u002Fpic2.zhimg.com\\u002F50\\u002Fv2-fc08a9e0f7272110f40dab5d10d21403_720w.jpg?source=1940ef5c\\\" class=\\\"origin_image zh-lightbox-thumb\\\" width=\\\"1279\\\" data-original=\\\"https:\\u002F\\u002Fpic1.zhimg.com\\u002Fv2-70eb1f8a398f50c1a93bc009b45c5f1f_r.jpg?source=1940ef5c\\\"\\u002F\\u003E\\u003C\\u002Ffigure\\u003E\\u003Cp data-pid=\\\"jDQnJm3d\\\"\\u003E情感移入这个词又叫移情。其描述的语境，使用频率最高的词汇是移情别恋，其次是寄情。对于文艺作品创作者来说移情体验几乎就是创作者的日常。\\u003C\\u002Fp\\u003E\\u003Cp data-pid=\\\"983Frk4s\\\"\\u003E具体到情感移入这个心理学词汇上，它特指在催眠疗法与自由联想疗法中，心理咨询师让来访者将对重要的人的情绪像投影一样投射到心理咨询师身上的手法。\\u003C\\u002Fp\\u003E\\u003Cp data-pid=\\\"pXpAcsfR\\\"\\u003E在针对亲密关系的修复中，将咨询师投射成妈妈就是最基本最常见的一种情景。\\u003C\\u002Fp\\u003E\\u003Cfigure data-size=\\\"normal\\\"\\u003E\\u003Cimg src=\\\"https:\\u002F\\u002Fpic2.zhimg.com\\u002F50\\u002Fv2-2def92250d991bd952885b9d42ab6d00_720w.jpg?source=1940ef5c\\\" data-caption=\\\"\\\" data-size=\\\"normal\\\" data-rawwidth=\\\"1323\\\" data-rawheight=\\\"931\\\" data-default-watermark-src=\\\"https:\\u002F\\u002Fpic1.zhimg.com\\u002F50\\u002Fv2-4e920fd70b514d7a53e3abc3f6bd5052_720w.jpg?source=1940ef5c\\\" class=\\\"origin_image zh-lightbox-thumb\\\" width=\\\"1323\\\" data-original=\\\"https:\\u002F\\u002Fpic1.zhimg.com\\u002Fv2-2def92250d991bd952885b9d42ab6d00_r.jpg?source=1940ef5c\\\"\\u002F\\u003E\\u003C\\u002Ffigure\\u003E\\u003Cp data-pid=\\\"x_aogThO\\\"\\u003E平心而论这种将“他物”的情感来回移植是日常生活中非常常见的情况。创作者模仿生活状态进行写作是最基本的写作手法，只是一般创作者是不自知的。\\u003C\\u002Fp\\u003E\\u003Cp data-pid=\\\"e3IxcDR_\\\"\\u003E但丸户这种摆明了有心理学的背景对这件事的门清的人来说，情况就完全不一样了。\\u003C\\u002Fp\\u003E\\u003Cblockquote data-pid=\\\"86zmDk6z\\\"\\u003EIC 总场42 冬马宅\\u003Cbr\\u002F\\u003E春冬雪\\u003Cbr\\u002F\\u003E春希 毕竟想想看啊，小木曾是主唱、我也有solo。只有冬马是什么表现的场合都没有对吧？\\u003Cbr\\u002F\\u003E雪菜 说起来…也是啊\\u003Cbr\\u002F\\u003E和纱 就算如此、这种胡闹般的举动能行得通吗。这样简直就是上街卖艺\\u003Cbr\\u002F\\u003E春希 上街卖艺有哪不好吗？冬马、你莫非、这意思不会打算说我们的舞台是艺术吧？\\u003Cbr\\u002F\\u003E和纱 没、倒没不必那么自卑…\\u003Cbr\\u002F\\u003E春希 说了很多次了吧？我啊、冬马的厉害之处被忽视掉很让人不爽\\u003Cbr\\u002F\\u003E雪菜 北原君…\\u003C\\u002Fblockquote\\u003E\\u003Cp data-pid=\\\"mJ5Hh7zo\\\"\\u003E情感移入完全是可以移“自恋”，形成“爱你就是爱自己”的互动模式。\\u003C\\u002Fp\\u003E\\u003Cblockquote data-pid=\\\"E4BRf2PN\\\"\\u003E不共戴天 83-4 通话\\u003Cbr\\u002F\\u003E冬雪\\u003Cbr\\u002F\\u003E雪菜 呜…呜啊啊啊啊…呜呜呜呜呜啊啊啊啊啊啊~！！！！\\u003Cbr\\u002F\\u003E和纱 所以说、雪菜你为什么要哭啊！这些事不是都和你没有关系的吗！\\u003Cbr\\u002F\\u003E雪菜 可是、可是…、怎么会、妈妈她…怎么会！\\u003Cbr\\u002F\\u003E和纱 不是你的妈妈。是我的！\\u003C\\u002Fblockquote\\u003E\\u003Cp data-pid=\\\"19Fo5Rjc\\\"\\u003E作者门清的情况下，再移母亲就有一种刻意为之的嘲讽在其中。作者还将这一点在作品中点明了出来。事实上我们最开始的对比图中，描写“不愿上班”“母亲离开孩子”的桥段在各自的6组同架构剧情中都只出现过一次。只要作者本人有掩盖的意图，修改了这一部分。我们再要对这一点进行说明就会难得多。\\u003C\\u002Fp\\u003E\\u003Cp data-pid=\\\"cH5x5rkP\\\"\\u003E毕竟“春希对雪菜的感情是曜子对和纱的感情”这种事说起来怎么听怎么KUSO.\\u003C\\u002Fp\\u003E\\u003Cp data-pid=\\\"iD5q2d6Z\\\"\\u003E丸户这种根本不相信爱情的作者，用明着告诉你：文艺作品中的爱情本质就是杂烩，是火锅店的自助调料区。\\u003C\\u002Fp\\u003E\\u003Cp data-pid=\\\"-I6LTPn3\\\"\\u003E是什么不重要，重要的是得贴合用户需求，看人下菜碟。\\u003C\\u002Fp\\u003E\\u003Ch2\\u003E二、GalGame玩家的侧写\\u003C\\u002Fh2\\u003E\\u003Ch3\\u003E1.死宅真恶心。\\u003C\\u002Fh3\\u003E\\u003Cp data-pid=\\\"7rHeA48k\\\"\\u003E从HGame走向GalGame总是免不了提到“宫崎勤”这三个字。OTAKU御宅本是类似于“阁下”的一种冷僻敬称。出身于庆应大学的一批动画从业者捡起了这个词开始称呼彼此，扩散而来成为了亚文化圈子里称呼为了自己的兴趣倾注热情与精力的狂热爱好者的尊称。\\u003C\\u002Fp\\u003E\\u003Cfigure data-size=\\\"normal\\\"\\u003E\\u003Cimg src=\\\"https:\\u002F\\u002Fpic2.zhimg.com\\u002F50\\u002Fv2-998841a8e3963eaeb24c0f9f98b9cb63_720w.jpg?source=1940ef5c\\\" data-caption=\\\"\\\" data-size=\\\"normal\\\" data-rawwidth=\\\"575\\\" data-rawheight=\\\"496\\\" data-default-watermark-src=\\\"https:\\u002F\\u002Fpic2.zhimg.com\\u002F50\\u002Fv2-18ea2e82521b1591ac881fdc328665e8_720w.jpg?source=1940ef5c\\\" class=\\\"origin_image zh-lightbox-thumb\\\" width=\\\"575\\\" data-original=\\\"https:\\u002F\\u002Fpic1.zhimg.com\\u002Fv2-998841a8e3963eaeb24c0f9f98b9cb63_r.jpg?source=1940ef5c\\\"\\u002F\\u003E\\u003C\\u002Ffigure\\u003E\\u003Cp data-pid=\\\"pl8k4Mgd\\\"\\u003E宫崎勤事件之后OTAKU瞬间成为恋童癖、强奸犯预备役的代名词。\\u003C\\u002Fp\\u003E\\u003Cfigure data-size=\\\"normal\\\"\\u003E\\u003Cimg src=\\\"https:\\u002F\\u002Fpic1.zhimg.com\\u002F50\\u002Fv2-4481fdcd9fe2347c4e47083b3e175812_720w.jpg?source=1940ef5c\\\" data-caption=\\\"\\\" data-size=\\\"normal\\\" data-rawwidth=\\\"1078\\\" data-rawheight=\\\"606\\\" data-default-watermark-src=\\\"https:\\u002F\\u002Fpica.zhimg.com\\u002F50\\u002Fv2-68f84019dfbe69d52cccc461343efa0e_720w.jpg?source=1940ef5c\\\" class=\\\"origin_image zh-lightbox-thumb\\\" width=\\\"1078\\\" data-original=\\\"https:\\u002F\\u002Fpic2.zhimg.com\\u002Fv2-4481fdcd9fe2347c4e47083b3e175812_r.jpg?source=1940ef5c\\\"\\u002F\\u003E\\u003C\\u002Ffigure\\u003E\\u003Cp data-pid=\\\"Rphq-Drb\\\"\\u003E成为道德鄙视链的最末端，也成了被孤立、被鄙视，在学园生活中往往只能与同好互舔伤口。\\u003C\\u002Fp\\u003E\\u003Cfigure data-size=\\\"normal\\\"\\u003E\\u003Cimg src=\\\"https:\\u002F\\u002Fpic1.zhimg.com\\u002F50\\u002Fv2-c7d7c6fc415f64a163997584a531f3e1_720w.jpg?source=1940ef5c\\\" data-caption=\\\"\\\" data-size=\\\"normal\\\" data-rawwidth=\\\"1087\\\" data-rawheight=\\\"610\\\" data-default-watermark-src=\\\"https:\\u002F\\u002Fpic3.zhimg.com\\u002F50\\u002Fv2-c9d8281ba6a4d6715fba2d05681a9fda_720w.jpg?source=1940ef5c\\\" class=\\\"origin_image zh-lightbox-thumb\\\" width=\\\"1087\\\" data-original=\\\"https:\\u002F\\u002Fpica.zhimg.com\\u002Fv2-c7d7c6fc415f64a163997584a531f3e1_r.jpg?source=1940ef5c\\\"\\u002F\\u003E\\u003C\\u002Ffigure\\u003E\\u003Cp data-pid=\\\"kDOjILR4\\\"\\u003E然而互舔伤口的同好往往也会顶不住压力成为\\u003Cb\\u003E隐宅\\u003C\\u002Fb\\u003E，在日本这个吃饭都要喊出“我开动了”提醒周围人一起动筷子的集体主义社会中成为孤家寡人。\\u003C\\u002Fp\\u003E\\u003Cfigure data-size=\\\"normal\\\"\\u003E\\u003Cimg src=\\\"https:\\u002F\\u002Fpic3.zhimg.com\\u002F50\\u002Fv2-0637e51ea82f4478b941941b8f027219_720w.jpg?source=1940ef5c\\\" data-caption=\\\"\\\" data-size=\\\"normal\\\" data-rawwidth=\\\"1086\\\" data-rawheight=\\\"609\\\" data-default-watermark-src=\\\"https:\\u002F\\u002Fpic3.zhimg.com\\u002F50\\u002Fv2-d47da44bdd02912893b7950ef58e0c39_720w.jpg?source=1940ef5c\\\" class=\\\"origin_image zh-lightbox-thumb\\\" width=\\\"1086\\\" data-original=\\\"https:\\u002F\\u002Fpica.zhimg.com\\u002Fv2-0637e51ea82f4478b941941b8f027219_r.jpg?source=1940ef5c\\\"\\u002F\\u003E\\u003C\\u002Ffigure\\u003E\\u003Ch3\\u003E2.不敢回家\\u003C\\u002Fh3\\u003E\\u003Cfigure data-size=\\\"normal\\\"\\u003E\\u003Cimg src=\\\"https:\\u002F\\u002Fpic2.zhimg.com\\u002F50\\u002Fv2-1762cb5fa8b7ff3d776559a474f647d2_720w.jpg?source=1940ef5c\\\" data-caption=\\\"\\\" data-size=\\\"normal\\\" data-rawwidth=\\\"720\\\" data-rawheight=\\\"567\\\" data-default-watermark-src=\\\"https:\\u002F\\u002Fpica.zhimg.com\\u002F50\\u002Fv2-50de1b8020f9570fe250f6e5da507ad1_720w.jpg?source=1940ef5c\\\" class=\\\"origin_image zh-lightbox-thumb\\\" width=\\\"720\\\" data-original=\\\"https:\\u002F\\u002Fpic3.zhimg.com\\u002Fv2-1762cb5fa8b7ff3d776559a474f647d2_r.jpg?source=1940ef5c\\\"\\u002F\\u003E\\u003C\\u002Ffigure\\u003E\\u003Cp data-pid=\\\"bOHO9FyZ\\\"\\u003E前文说过，作者的中学时期正是广场协议日本金融泡沫破裂订单数锐减的时期，而作品的创作时间点则是08年席卷全球的次贷危机失业潮。\\u003C\\u002Fp\\u003E\\u003Cp data-pid=\\\"Oha8vdg6\\\"\\u003E这就牵扯到一个问题：房贷。\\u003C\\u002Fp\\u003E\\u003Cp data-pid=\\\"-40br5nG\\\"\\u003E日本政府应对广场协议和巴黎协议的做法是大量印钱。在实体经济受挫的情况下大量热钱涌入金融市场与房地产市场，5年房价跳涨五倍。\\u003C\\u002Fp\\u003E\\u003Cfigure data-size=\\\"normal\\\"\\u003E\\u003Cimg src=\\\"https:\\u002F\\u002Fpic1.zhimg.com\\u002F50\\u002Fv2-ab851532ff610fa9db97b904710b3391_720w.jpg?source=1940ef5c\\\" data-caption=\\\"\\\" data-size=\\\"normal\\\" data-rawwidth=\\\"720\\\" data-rawheight=\\\"405\\\" data-default-watermark-src=\\\"https:\\u002F\\u002Fpic1.zhimg.com\\u002F50\\u002Fv2-ecc72085352ed654a8efc9ca949d97b4_720w.jpg?source=1940ef5c\\\" class=\\\"origin_image zh-lightbox-thumb\\\" width=\\\"720\\\" data-original=\\\"https:\\u002F\\u002Fpica.zhimg.com\\u002Fv2-ab851532ff610fa9db97b904710b3391_r.jpg?source=1940ef5c\\\"\\u002F\\u003E\\u003C\\u002Ffigure\\u003E\\u003Cp data-pid=\\\"_qzrfxHt\\\"\\u003E以98年14岁中二来计算，差不多就是84年前后生人。当时的日本社会年轻人的最主流侧写是在有很多兄弟姐妹，走向社会结婚生子拼搏的几年中住在这种组合屋中，然后在孩子出生几年之后才自食其力的换房。老恋爱漫画就有将男女主搬进新房开始新生活作为终点的作品，虽然我忘了是哪部。\\u003C\\u002Fp\\u003E\\u003Cfigure data-size=\\\"normal\\\"\\u003E\\u003Cimg src=\\\"https:\\u002F\\u002Fpica.zhimg.com\\u002F50\\u002Fv2-c6adba652b3b051fdb682d399c8e5433_720w.jpg?source=1940ef5c\\\" data-caption=\\\"\\\" data-size=\\\"normal\\\" data-rawwidth=\\\"720\\\" data-rawheight=\\\"405\\\" data-default-watermark-src=\\\"https:\\u002F\\u002Fpic2.zhimg.com\\u002F50\\u002Fv2-41c613ca1fca3ef7e5e50a96f34c6f32_720w.jpg?source=1940ef5c\\\" class=\\\"origin_image zh-lightbox-thumb\\\" width=\\\"720\\\" data-original=\\\"https:\\u002F\\u002Fpica.zhimg.com\\u002Fv2-c6adba652b3b051fdb682d399c8e5433_r.jpg?source=1940ef5c\\\"\\u002F\\u003E\\u003C\\u002Ffigure\\u003E\\u003Cp data-pid=\\\"oSl-e34f\\\"\\u003E换句话说，作者这一代，以及他的同学平辈人就是在房价最高点接盘的那批人。也正是这一代人创作出来的作品里中学生打工补贴家用成了普遍描写。\\u003C\\u002Fp\\u003E\\u003Cp data-pid=\\\"I0FZGqh9\\\"\\u003E当年日本政府为了进一步鼓励购房，甚至一度推出了50~100年的房屋贷款。产生了后来日本独有的社会现象：中年失业的男性以再也不跟老婆孩子见面为代价净身出户。\\u003C\\u002Fp\\u003E\\u003Cfigure data-size=\\\"normal\\\"\\u003E\\u003Cimg src=\\\"https:\\u002F\\u002Fpic3.zhimg.com\\u002F50\\u002Fv2-b7d2cd146d00c618ecdf1d4808f474d3_720w.jpg?source=1940ef5c\\\" data-caption=\\\"\\\" data-size=\\\"normal\\\" data-rawwidth=\\\"1274\\\" data-rawheight=\\\"721\\\" data-default-watermark-src=\\\"https:\\u002F\\u002Fpic1.zhimg.com\\u002F50\\u002Fv2-b2d41fb9cd88c5701baa6b674eab401b_720w.jpg?source=1940ef5c\\\" class=\\\"origin_image zh-lightbox-thumb\\\" width=\\\"1274\\\" data-original=\\\"https:\\u002F\\u002Fpic2.zhimg.com\\u002Fv2-b7d2cd146d00c618ecdf1d4808f474d3_r.jpg?source=1940ef5c\\\"\\u002F\\u003E\\u003C\\u002Ffigure\\u003E\\u003Cp data-pid=\\\"Tk4gf08a\\\"\\u003E虽然在剧中，春希和千晶的父亲都是父母大量吵架最后离开。但剧本外很多读者的家庭背景是\\u003Cb\\u003E父亲为了维持老婆孩子的生活不变\\u003C\\u002Fb\\u003E，独自抗下房贷远走他乡成为流浪汉。\\u003C\\u002Fp\\u003E\\u003Cfigure data-size=\\\"normal\\\"\\u003E\\u003Cimg src=\\\"https:\\u002F\\u002Fpic1.zhimg.com\\u002F50\\u002Fv2-228195f7bf48f9418087b05970a383cc_720w.jpg?source=1940ef5c\\\" data-caption=\\\"\\\" data-size=\\\"normal\\\" data-rawwidth=\\\"1277\\\" data-rawheight=\\\"642\\\" data-default-watermark-src=\\\"https:\\u002F\\u002Fpic2.zhimg.com\\u002F50\\u002Fv2-4a093465d90dddfc8ff7268517a4f98d_720w.jpg?source=1940ef5c\\\" class=\\\"origin_image zh-lightbox-thumb\\\" width=\\\"1277\\\" data-original=\\\"https:\\u002F\\u002Fpica.zhimg.com\\u002Fv2-228195f7bf48f9418087b05970a383cc_r.jpg?source=1940ef5c\\\"\\u002F\\u003E\\u003C\\u002Ffigure\\u003E\\u003Cp data-pid=\\\"us8SYUnt\\\"\\u003E剧中也是，则出现了“为了维护家中的气氛”亲子双双选择不点破孩子在学校被孤立的剧情。\\u003C\\u002Fp\\u003E\\u003Cp data-pid=\\\"vMSDzf7X\\\"\\u003E以维护表面上的一团和气。\\u003C\\u002Fp\\u003E\\u003Cfigure data-size=\\\"normal\\\"\\u003E\\u003Cimg src=\\\"https:\\u002F\\u002Fpic4.zhimg.com\\u002F50\\u002Fv2-e27148b3002998144785c8edeff35c51_720w.jpg?source=1940ef5c\\\" data-caption=\\\"\\\" data-size=\\\"normal\\\" data-rawwidth=\\\"1080\\\" data-rawheight=\\\"2815\\\" data-default-watermark-src=\\\"https:\\u002F\\u002Fpic2.zhimg.com\\u002F50\\u002Fv2-f7ea4ae133745602f37c775617149de9_720w.jpg?source=1940ef5c\\\" class=\\\"origin_image zh-lightbox-thumb\\\" width=\\\"1080\\\" data-original=\\\"https:\\u002F\\u002Fpic1.zhimg.com\\u002Fv2-e27148b3002998144785c8edeff35c51_r.jpg?source=1940ef5c\\\"\\u002F\\u003E\\u003C\\u002Ffigure\\u003E\\u003Cp data-pid=\\\"yDcOwdHi\\\"\\u003E俗称的“报喜不报忧”产生了没有工作整天在外面流浪的父辈的共情。\\u003C\\u002Fp\\u003E\\u003Cfigure data-size=\\\"normal\\\"\\u003E\\u003Cimg src=\\\"https:\\u002F\\u002Fpic1.zhimg.com\\u002F50\\u002Fv2-2f4c1605b0532e345f32574e3655b7db_720w.jpg?source=1940ef5c\\\" data-caption=\\\"\\\" data-size=\\\"normal\\\" data-rawwidth=\\\"897\\\" data-rawheight=\\\"504\\\" data-default-watermark-src=\\\"https:\\u002F\\u002Fpic2.zhimg.com\\u002F50\\u002Fv2-3a11f09521cca749fe0bd50eaa235586_720w.jpg?source=1940ef5c\\\" class=\\\"origin_image zh-lightbox-thumb\\\" width=\\\"897\\\" data-original=\\\"https:\\u002F\\u002Fpic2.zhimg.com\\u002Fv2-2f4c1605b0532e345f32574e3655b7db_r.jpg?source=1940ef5c\\\"\\u002F\\u003E\\u003C\\u002Ffigure\\u003E\\u003Cp data-pid=\\\"8VJuJPLF\\\"\\u003E亦或者是因为“要守护家人”而放弃自己的兴趣放弃做自己。\\u003C\\u002Fp\\u003E\\u003Cp data-pid=\\\"jbj3tUKX\\\"\\u003E白色相簿2在这一点上更进一步采取了“永远不会夸孩子，开口就是贬损的母亲”这种人物设定。\\u003C\\u002Fp\\u003E\\u003Cfigure data-size=\\\"normal\\\"\\u003E\\u003Cimg src=\\\"https:\\u002F\\u002Fpic3.zhimg.com\\u002F50\\u002Fv2-1662168592f978c1c94de4be0f68926d_720w.jpg?source=1940ef5c\\\" data-caption=\\\"\\\" data-size=\\\"normal\\\" data-rawwidth=\\\"1094\\\" data-rawheight=\\\"2268\\\" data-default-watermark-src=\\\"https:\\u002F\\u002Fpica.zhimg.com\\u002F50\\u002Fv2-fe30d24b26eb08fc988aa19bfe8bb987_720w.jpg?source=1940ef5c\\\" class=\\\"origin_image zh-lightbox-thumb\\\" width=\\\"1094\\\" data-original=\\\"https:\\u002F\\u002Fpic2.zhimg.com\\u002Fv2-1662168592f978c1c94de4be0f68926d_r.jpg?source=1940ef5c\\\"\\u002F\\u003E\\u003C\\u002Ffigure\\u003E\\u003Cp data-pid=\\\"33zpt__y\\\"\\u003E当母亲的怀抱变成铁处女一般的刑具，你还会向她求助吗？\\u003C\\u002Fp\\u003E\\u003Ch3\\u003E3.校园欺凌剧情\\u003C\\u002Fh3\\u003E\\u003Cp data-pid=\\\"mcpSpEon\\\"\\u003E上面说的这种思维在于，黄金时期的日本是一个“一亿总中流”的中产阶级社会。中产阶级不像富裕阶级天然受到尊重享受他人的服务，也不像底层需要为温饱而奔波。对于中产阶级来说主要追求就是体面。社交与尊重。由此而来的就是“读空气”照顾气氛的需求。\\u003C\\u002Fp\\u003E\\u003Cfigure data-size=\\\"normal\\\"\\u003E\\u003Cimg src=\\\"https:\\u002F\\u002Fpic1.zhimg.com\\u002F50\\u002Fv2-f793810ea430f4f3d1898d5ecf487af8_720w.jpg?source=1940ef5c\\\" data-caption=\\\"\\\" data-size=\\\"normal\\\" data-rawwidth=\\\"822\\\" data-rawheight=\\\"641\\\" data-default-watermark-src=\\\"https:\\u002F\\u002Fpic1.zhimg.com\\u002F50\\u002Fv2-ecefaf98e79f771a62b7cd4d044e7e86_720w.jpg?source=1940ef5c\\\" class=\\\"origin_image zh-lightbox-thumb\\\" width=\\\"822\\\" data-original=\\\"https:\\u002F\\u002Fpic3.zhimg.com\\u002Fv2-f793810ea430f4f3d1898d5ecf487af8_r.jpg?source=1940ef5c\\\"\\u002F\\u003E\\u003C\\u002Ffigure\\u003E\\u003Cp data-pid=\\\"uc2U3O1M\\\"\\u003E这个词换个中国文化下的常用语大概呈现出的就是下面这种效果：\\u003C\\u002Fp\\u003E\\u003Cp data-pid=\\\"GMN_ubhO\\\"\\u003E“你不喝，就是不给面子”\\u003C\\u002Fp\\u003E\\u003Cp data-pid=\\\"a97yXzPj\\\"\\u003E“你不来，就是不合群”\\u003C\\u002Fp\\u003E\\u003Cp data-pid=\\\"Zdrxvjrj\\\"\\u003E在ACG亚文化圈子的定式中，主人公一般是不读气氛KY的那个：\\u003C\\u002Fp\\u003E\\u003Cfigure data-size=\\\"normal\\\"\\u003E\\u003Cimg src=\\\"https:\\u002F\\u002Fpic1.zhimg.com\\u002F50\\u002Fv2-c5621f46b4b6ade41ba49de8c9cedd36_720w.jpg?source=1940ef5c\\\" data-caption=\\\"\\\" data-size=\\\"normal\\\" data-rawwidth=\\\"1087\\\" data-rawheight=\\\"611\\\" data-default-watermark-src=\\\"https:\\u002F\\u002Fpic1.zhimg.com\\u002F50\\u002Fv2-d63f100f8c68c303dd23fb848f9de027_720w.jpg?source=1940ef5c\\\" class=\\\"origin_image zh-lightbox-thumb\\\" width=\\\"1087\\\" data-original=\\\"https:\\u002F\\u002Fpic3.zhimg.com\\u002Fv2-c5621f46b4b6ade41ba49de8c9cedd36_r.jpg?source=1940ef5c\\\"\\u002F\\u003E\\u003C\\u002Ffigure\\u003E\\u003Cp data-pid=\\\"yH3YBb00\\\"\\u003E在涉及到欺凌排挤剧情的作品中，有些话就是地痞无赖强迫主人公做事的定番：\\u003C\\u002Fp\\u003E\\u003Cp data-pid=\\\"vY82OXyk\\\"\\u003E读下空气啊\\u003C\\u002Fp\\u003E\\u003Cfigure data-size=\\\"normal\\\"\\u003E\\u003Cimg src=\\\"https:\\u002F\\u002Fpica.zhimg.com\\u002F50\\u002Fv2-763fa6fdf3aa4832c61afe60592b1cda_720w.jpg?source=1940ef5c\\\" data-caption=\\\"\\\" data-size=\\\"normal\\\" data-rawwidth=\\\"1083\\\" data-rawheight=\\\"607\\\" data-default-watermark-src=\\\"https:\\u002F\\u002Fpica.zhimg.com\\u002F50\\u002Fv2-e7832f6300af749b83fc1de0f039e872_720w.jpg?source=1940ef5c\\\" class=\\\"origin_image zh-lightbox-thumb\\\" width=\\\"1083\\\" data-original=\\\"https:\\u002F\\u002Fpic3.zhimg.com\\u002Fv2-763fa6fdf3aa4832c61afe60592b1cda_r.jpg?source=1940ef5c\\\"\\u002F\\u003E\\u003C\\u002Ffigure\\u003E\\u003Cp data-pid=\\\"s6faMOSD\\\"\\u003E大家好好相处\\u003C\\u002Fp\\u003E\\u003Cfigure data-size=\\\"normal\\\"\\u003E\\u003Cimg src=\\\"https:\\u002F\\u002Fpic1.zhimg.com\\u002F50\\u002Fv2-5b1e2643738831ddc5d2d1a866372ffc_720w.jpg?source=1940ef5c\\\" data-caption=\\\"\\\" data-size=\\\"normal\\\" data-rawwidth=\\\"1259\\\" data-rawheight=\\\"942\\\" data-default-watermark-src=\\\"https:\\u002F\\u002Fpic3.zhimg.com\\u002F50\\u002Fv2-3de0ba83def4f4defb0d0cd1f39af2d8_720w.jpg?source=1940ef5c\\\" class=\\\"origin_image zh-lightbox-thumb\\\" width=\\\"1259\\\" data-original=\\\"https:\\u002F\\u002Fpic3.zhimg.com\\u002Fv2-5b1e2643738831ddc5d2d1a866372ffc_r.jpg?source=1940ef5c\\\"\\u002F\\u003E\\u003C\\u002Ffigure\\u003E\\u003Cp data-pid=\\\"We4KgmRr\\\"\\u003E负起责任来\\u003C\\u002Fp\\u003E\\u003Cfigure data-size=\\\"normal\\\"\\u003E\\u003Cimg src=\\\"https:\\u002F\\u002Fpic1.zhimg.com\\u002F50\\u002Fv2-0072d76d4dfe5c7a68e21cf84a000b27_720w.jpg?source=1940ef5c\\\" data-caption=\\\"\\\" data-size=\\\"normal\\\" data-rawwidth=\\\"720\\\" data-rawheight=\\\"543\\\" data-default-watermark-src=\\\"https:\\u002F\\u002Fpic3.zhimg.com\\u002F50\\u002Fv2-834c28349e874df6cb62a359b0e49d4a_720w.jpg?source=1940ef5c\\\" class=\\\"origin_image zh-lightbox-thumb\\\" width=\\\"720\\\" data-original=\\\"https:\\u002F\\u002Fpic1.zhimg.com\\u002Fv2-0072d76d4dfe5c7a68e21cf84a000b27_r.jpg?source=1940ef5c\\\"\\u002F\\u003E\\u003C\\u002Ffigure\\u003E\\u003Cp data-pid=\\\"zuU3mDBD\\\"\\u003E类似这种对话在大众向的剧集里一般是幼儿园、失控教室中的新手老师这样哄小孩的情景，宅向的深夜动画一般出现在欺凌剧情中，在ero向一般就是RAPE剧情的定番了。\\u003C\\u002Fp\\u003E\\u003Cp data-pid=\\\"0HGGjllx\\\"\\u003E就像同志、小姐和翔这样的词汇一样，是使用过程中被负面化了的熟语。成句。\\u003C\\u002Fp\\u003E\\u003Cblockquote data-pid=\\\"3P0Inw3Y\\\"\\u003EIC 总场44 高中教室\\u003Cbr\\u002F\\u003E春冬亲\\u003Cbr\\u002F\\u003E男学生1 北原、这是材料列表。本山转回来要检查一下\\u003Cbr\\u002F\\u003E女学生1 呐北原君、篮球部进货的咨询、今天放学后能空出来吗？\\u003Cbr\\u002F\\u003E亲志 喂春希。今天开出来的最新赔率在这…\\u003Cbr\\u002F\\u003E春希 之前就说了的吧…只限这次谁来都不会帮的。不好意思去找别人吧\\u003Cbr\\u002F\\u003E男学生1 明白了明白了。只要过一下眼就可以了…如果你能忍得了这个\\u003Cbr\\u002F\\u003E女学生1 时间要到了也可以的吗…大家在等着的\\u003Cbr\\u002F\\u003E亲志 让MISS峰城大附属变成大混战的是你本人吧。\\u003Cb\\u003E好好负起责任来啊\\u003C\\u002Fb\\u003E\\u003Cbr\\u002F\\u003E春希 不要一个劲戳我的弱的地方啊。也光就擅长拜托人的方法了。说到底…\\u003C\\u002Fblockquote\\u003E\\u003Cp data-pid=\\\"hwTUWmIu\\\"\\u003E在宅向的恋爱作品定番一般是这样：\\u003C\\u002Fp\\u003E\\u003Cfigure data-size=\\\"normal\\\"\\u003E\\u003Cimg src=\\\"https:\\u002F\\u002Fpic1.zhimg.com\\u002F50\\u002Fv2-5c6c638eb224b0e3c0f6365da258fedd_720w.jpg?source=1940ef5c\\\" data-caption=\\\"\\\" data-size=\\\"normal\\\" data-rawwidth=\\\"1553\\\" data-rawheight=\\\"1043\\\" data-default-watermark-src=\\\"https:\\u002F\\u002Fpica.zhimg.com\\u002F50\\u002Fv2-b95a4168e2f52d16bb0e495e65e29e63_720w.jpg?source=1940ef5c\\\" class=\\\"origin_image zh-lightbox-thumb\\\" width=\\\"1553\\\" data-original=\\\"https:\\u002F\\u002Fpica.zhimg.com\\u002Fv2-5c6c638eb224b0e3c0f6365da258fedd_r.jpg?source=1940ef5c\\\"\\u002F\\u003E\\u003C\\u002Ffigure\\u003E\\u003Cp data-pid=\\\"hfQFAlfN\\\"\\u003E地痞流氓缠住女主，然后男主上去解围说“没看她不愿意吗”\\u003C\\u002Fp\\u003E\\u003Cp data-pid=\\\"T33V2MU4\\\"\\u003E男性受到欺凌的定番一般是跑腿和要钱：\\u003C\\u002Fp\\u003E\\u003Cfigure data-size=\\\"normal\\\"\\u003E\\u003Cimg src=\\\"https:\\u002F\\u002Fpic3.zhimg.com\\u002F50\\u002Fv2-f8cd8528eb8f6415dc8085a3fa2ed337_720w.jpg?source=1940ef5c\\\" data-caption=\\\"\\\" data-size=\\\"normal\\\" data-rawwidth=\\\"1086\\\" data-rawheight=\\\"607\\\" data-default-watermark-src=\\\"https:\\u002F\\u002Fpic1.zhimg.com\\u002F50\\u002Fv2-a13f70110b2d234a85169fce2bdaeec5_720w.jpg?source=1940ef5c\\\" class=\\\"origin_image zh-lightbox-thumb\\\" width=\\\"1086\\\" data-original=\\\"https:\\u002F\\u002Fpic3.zhimg.com\\u002Fv2-f8cd8528eb8f6415dc8085a3fa2ed337_r.jpg?source=1940ef5c\\\"\\u002F\\u003E\\u003C\\u002Ffigure\\u003E\\u003Cp data-pid=\\\"B-YW8kaR\\\"\\u003E女性受到欺凌的定番一般是荡妇羞辱和造谣：\\u003C\\u002Fp\\u003E\\u003Cfigure data-size=\\\"normal\\\"\\u003E\\u003Cimg src=\\\"https:\\u002F\\u002Fpic1.zhimg.com\\u002F50\\u002Fv2-04a5dd9123f28a1108e79576b0c572b1_720w.jpg?source=1940ef5c\\\" data-caption=\\\"\\\" data-size=\\\"normal\\\" data-rawwidth=\\\"821\\\" data-rawheight=\\\"643\\\" data-default-watermark-src=\\\"https:\\u002F\\u002Fpica.zhimg.com\\u002F50\\u002Fv2-a4805cb30af15e5e914cc36cef6acc36_720w.jpg?source=1940ef5c\\\" class=\\\"origin_image zh-lightbox-thumb\\\" width=\\\"821\\\" data-original=\\\"https:\\u002F\\u002Fpica.zhimg.com\\u002Fv2-04a5dd9123f28a1108e79576b0c572b1_r.jpg?source=1940ef5c\\\"\\u002F\\u003E\\u003C\\u002Ffigure\\u003E\\u003Cp data-pid=\\\"-YPS0D9_\\\"\\u003EGalgame这边的坐标是哪里呢？深度御宅向ERO Game\\u003C\\u002Fp\\u003E\\u003Cp data-pid=\\\"bIuiVUu2\\\"\\u003E这边类似剧情一般安排在男主身边的武也等人身上。\\u003C\\u002Fp\\u003E\\u003Cfigure data-size=\\\"normal\\\"\\u003E\\u003Cimg src=\\\"https:\\u002F\\u002Fpic3.zhimg.com\\u002F50\\u002Fv2-e3d0f2402d76e37fa0eec45bc61e1a63_720w.jpg?source=1940ef5c\\\" data-caption=\\\"\\\" data-size=\\\"normal\\\" data-rawwidth=\\\"821\\\" data-rawheight=\\\"644\\\" data-default-watermark-src=\\\"https:\\u002F\\u002Fpic1.zhimg.com\\u002F50\\u002Fv2-5e9c9b57f13da365839caf8aa21e7f74_720w.jpg?source=1940ef5c\\\" class=\\\"origin_image zh-lightbox-thumb\\\" width=\\\"821\\\" data-original=\\\"https:\\u002F\\u002Fpic3.zhimg.com\\u002Fv2-e3d0f2402d76e37fa0eec45bc61e1a63_r.jpg?source=1940ef5c\\\"\\u002F\\u003E\\u003C\\u002Ffigure\\u003E\\u003Cfigure data-size=\\\"normal\\\"\\u003E\\u003Cimg src=\\\"https:\\u002F\\u002Fpic1.zhimg.com\\u002F50\\u002Fv2-4443f1ab6778bf8e75dd0c2192dba6fa_720w.jpg?source=1940ef5c\\\" data-caption=\\\"\\\" data-size=\\\"normal\\\" data-rawwidth=\\\"816\\\" data-rawheight=\\\"645\\\" data-default-watermark-src=\\\"https:\\u002F\\u002Fpic2.zhimg.com\\u002F50\\u002Fv2-cf643273a9427cf6ba7573c6bd2ba526_720w.jpg?source=1940ef5c\\\" class=\\\"origin_image zh-lightbox-thumb\\\" width=\\\"816\\\" data-original=\\\"https:\\u002F\\u002Fpic1.zhimg.com\\u002Fv2-4443f1ab6778bf8e75dd0c2192dba6fa_r.jpg?source=1940ef5c\\\"\\u002F\\u003E\\u003C\\u002Ffigure\\u003E\\u003Cp data-pid=\\\"TYsQy8ho\\\"\\u003E大概这样的画风：\\u003C\\u002Fp\\u003E\\u003Cfigure data-size=\\\"normal\\\"\\u003E\\u003Cimg src=\\\"https:\\u002F\\u002Fpic1.zhimg.com\\u002F50\\u002Fv2-f6854509032ec4f59de6689666adb4dd_720w.jpg?source=1940ef5c\\\" data-caption=\\\"\\\" data-size=\\\"normal\\\" data-rawwidth=\\\"823\\\" data-rawheight=\\\"650\\\" data-default-watermark-src=\\\"https:\\u002F\\u002Fpic1.zhimg.com\\u002F50\\u002Fv2-a2c242bb25f979a848bdc938eec526a3_720w.jpg?source=1940ef5c\\\" class=\\\"origin_image zh-lightbox-thumb\\\" width=\\\"823\\\" data-original=\\\"https:\\u002F\\u002Fpic3.zhimg.com\\u002Fv2-f6854509032ec4f59de6689666adb4dd_r.jpg?source=1940ef5c\\\"\\u002F\\u003E\\u003C\\u002Ffigure\\u003E\\u003Cp data-pid=\\\"rEOGnAy8\\\"\\u003E每当剧情走向积极正面的高潮桥段时画风一般是主人公开始拒绝讨好无关的他人，而与之相对的剧情走向至暗时刻时一般时是这种画风：\\u003C\\u002Fp\\u003E\\u003Cfigure data-size=\\\"normal\\\"\\u003E\\u003Cimg src=\\\"https:\\u002F\\u002Fpica.zhimg.com\\u002F50\\u002Fv2-6359373e95645a1e0ab20aacf32fee02_720w.jpg?source=1940ef5c\\\" data-caption=\\\"\\\" data-size=\\\"normal\\\" data-rawwidth=\\\"814\\\" data-rawheight=\\\"639\\\" data-default-watermark-src=\\\"https:\\u002F\\u002Fpic2.zhimg.com\\u002F50\\u002Fv2-a7b8cafa1736f1f8477902e3d6d2d96d_720w.jpg?source=1940ef5c\\\" class=\\\"origin_image zh-lightbox-thumb\\\" width=\\\"814\\\" data-original=\\\"https:\\u002F\\u002Fpica.zhimg.com\\u002Fv2-6359373e95645a1e0ab20aacf32fee02_r.jpg?source=1940ef5c\\\"\\u002F\\u003E\\u003C\\u002Ffigure\\u003E\\u003Ch3\\u003E4.从业者的交点\\u003C\\u002Fh3\\u003E\\u003Cp data-pid=\\\"-X6hMkfq\\\"\\u003E说回90年代，宫崎勤事件对当时的erogame业界产生了巨大冲击，但受到更大冲击的是动画业界。彼时火红发展的OVA动画直接被宣判死亡。许多优秀的业者也是在这一时期流入Galgame业界，作为本回答主角的叶子社也正是这一时期成立的。\\u003C\\u002Fp\\u003E\\u003Cp data-pid=\\\"z76_Yb5E\\\"\\u003E这一至暗时代结束于一部自我心理解剖的现象级作品。\\u003C\\u002Fp\\u003E\\u003Cfigure data-size=\\\"normal\\\"\\u003E\\u003Cimg src=\\\"https:\\u002F\\u002Fpic2.zhimg.com\\u002F50\\u002Fv2-14ca47b84f64aa8999e6c5abf2143655_720w.jpg?source=1940ef5c\\\" data-caption=\\\"\\\" data-size=\\\"normal\\\" data-rawwidth=\\\"801\\\" data-rawheight=\\\"598\\\" data-default-watermark-src=\\\"https:\\u002F\\u002Fpic3.zhimg.com\\u002F50\\u002Fv2-56670e4b27af64ce1d805a1493524d8a_720w.jpg?source=1940ef5c\\\" class=\\\"origin_image zh-lightbox-thumb\\\" width=\\\"801\\\" data-original=\\\"https:\\u002F\\u002Fpic3.zhimg.com\\u002Fv2-14ca47b84f64aa8999e6c5abf2143655_r.jpg?source=1940ef5c\\\"\\u002F\\u003E\\u003C\\u002Ffigure\\u003E\\u003Cp data-pid=\\\"dCTIVTzP\\\"\\u003E战后世代的英雄是打击罪恶的铁人28、黄金世代的英雄是对抗恐龙帝国的盖塔，失落世代的英雄是在崩坏的世界中与逃避现实冲动战斗的EVA。\\u003C\\u002Fp\\u003E\\u003Cp data-pid=\\\"dUgalAZL\\\"\\u003EEVA的成功也带动了黑暗系、郁系、泣系作品的出现。\\u003C\\u002Fp\\u003E\\u003Cfigure data-size=\\\"normal\\\"\\u003E\\u003Cimg src=\\\"https:\\u002F\\u002Fpic1.zhimg.com\\u002F50\\u002Fv2-1865bc1224865334c9cc1176c25bf6ad_720w.jpg?source=1940ef5c\\\" data-caption=\\\"\\\" data-size=\\\"normal\\\" data-rawwidth=\\\"885\\\" data-rawheight=\\\"659\\\" data-default-watermark-src=\\\"https:\\u002F\\u002Fpic3.zhimg.com\\u002F50\\u002Fv2-8370b1d3a9009c70042249bb695bc18f_720w.jpg?source=1940ef5c\\\" class=\\\"origin_image zh-lightbox-thumb\\\" width=\\\"885\\\" data-original=\\\"https:\\u002F\\u002Fpic3.zhimg.com\\u002Fv2-1865bc1224865334c9cc1176c25bf6ad_r.jpg?source=1940ef5c\\\"\\u002F\\u003E\\u003C\\u002Ffigure\\u003E\\u003Cp data-pid=\\\"Ho1EbLos\\\"\\u003E陪伴病重妹妹最后时刻的加奈妹妹\\u003C\\u002Fp\\u003E\\u003Cfigure data-size=\\\"normal\\\"\\u003E\\u003Cimg src=\\\"https:\\u002F\\u002Fpic3.zhimg.com\\u002F50\\u002Fv2-43db8d8b7503ff68a3f26bbd70e91a71_720w.jpg?source=1940ef5c\\\" data-caption=\\\"\\\" data-size=\\\"normal\\\" data-rawwidth=\\\"898\\\" data-rawheight=\\\"663\\\" data-default-watermark-src=\\\"https:\\u002F\\u002Fpic2.zhimg.com\\u002F50\\u002Fv2-c37bda2d8778660083acce0719bac44c_720w.jpg?source=1940ef5c\\\" class=\\\"origin_image zh-lightbox-thumb\\\" width=\\\"898\\\" data-original=\\\"https:\\u002F\\u002Fpica.zhimg.com\\u002Fv2-43db8d8b7503ff68a3f26bbd70e91a71_r.jpg?source=1940ef5c\\\"\\u002F\\u003E\\u003C\\u002Ffigure\\u003E\\u003Cp data-pid=\\\"pPTMXydC\\\"\\u003E如同波西米亚人一般由社会边缘人组成的互舔伤口的拟合家庭的家族计画。\\u003C\\u002Fp\\u003E\\u003Cfigure data-size=\\\"normal\\\"\\u003E\\u003Cimg src=\\\"https:\\u002F\\u002Fpic2.zhimg.com\\u002F50\\u002Fv2-db23475534705a59d379e4bc5896932e_720w.jpg?source=1940ef5c\\\" data-caption=\\\"\\\" data-size=\\\"normal\\\" data-rawwidth=\\\"1067\\\" data-rawheight=\\\"605\\\" data-default-watermark-src=\\\"https:\\u002F\\u002Fpic3.zhimg.com\\u002F50\\u002Fv2-59bad6fac7e584a06b9c20e4d1c28be4_720w.jpg?source=1940ef5c\\\" class=\\\"origin_image zh-lightbox-thumb\\\" width=\\\"1067\\\" data-original=\\\"https:\\u002F\\u002Fpic2.zhimg.com\\u002Fv2-db23475534705a59d379e4bc5896932e_r.jpg?source=1940ef5c\\\"\\u002F\\u003E\\u003C\\u002Ffigure\\u003E\\u003Cp data-pid=\\\"mxuX9LR5\\\"\\u003E“妈妈你不要动，无论发生什么都不可以过来，我要一个人努力，努力试着走到那里，妈妈是我的终点，和空一起当终点”\\u003C\\u002Fp\\u003E\\u003Cp data-pid=\\\"nHVVE8pQ\\\"\\u003E“不可以，观铃，不可以过来，不可以抵达终点，才刚刚开始不是吗，我们要找回失去的东西，本应十年前就开始的幸福生活 ”（注：AIR原作2000年发售）\\u003C\\u002Fp\\u003E\\u003Cfigure data-size=\\\"normal\\\"\\u003E\\u003Cimg src=\\\"https:\\u002F\\u002Fpica.zhimg.com\\u002F50\\u002Fv2-68ac7398f0e95c476b64f28d3bfa2bcc_720w.jpg?source=1940ef5c\\\" data-caption=\\\"\\\" data-size=\\\"normal\\\" data-rawwidth=\\\"1276\\\" data-rawheight=\\\"721\\\" data-default-watermark-src=\\\"https:\\u002F\\u002Fpic2.zhimg.com\\u002F50\\u002Fv2-6b678a00eae509069d492f16fe83d5b9_720w.jpg?source=1940ef5c\\\" class=\\\"origin_image zh-lightbox-thumb\\\" width=\\\"1276\\\" data-original=\\\"https:\\u002F\\u002Fpic1.zhimg.com\\u002Fv2-68ac7398f0e95c476b64f28d3bfa2bcc_r.jpg?source=1940ef5c\\\"\\u002F\\u003E\\u003C\\u002Ffigure\\u003E\\u003Cp data-pid=\\\"Sp9vK634\\\"\\u003E“虽然发生过很多事情，有过艰辛，也有过痛苦，但我努力过真是太好了，因为我的幸福和终点在一起真是太好了，因为我不是孤身一人了，所以，所以呢，我要到达终点了”\\u003C\\u002Fp\\u003E\\u003Cp data-pid=\\\"mDHuQttB\\\"\\u003E“不可以，要从现在开始，我不是说了要从现在开始吗！”\\u003C\\u002Fp\\u003E\\u003Cfigure data-size=\\\"normal\\\"\\u003E\\u003Cimg src=\\\"https:\\u002F\\u002Fpica.zhimg.com\\u002F50\\u002Fv2-b75dbc4f8894bdf473dc6279693f023b_720w.jpg?source=1940ef5c\\\" data-caption=\\\"\\\" data-size=\\\"normal\\\" data-rawwidth=\\\"752\\\" data-rawheight=\\\"448\\\" data-default-watermark-src=\\\"https:\\u002F\\u002Fpica.zhimg.com\\u002F50\\u002Fv2-8e84951a8eb19264ec295ce491a18924_720w.jpg?source=1940ef5c\\\" class=\\\"origin_image zh-lightbox-thumb\\\" width=\\\"752\\\" data-original=\\\"https:\\u002F\\u002Fpica.zhimg.com\\u002Fv2-b75dbc4f8894bdf473dc6279693f023b_r.jpg?source=1940ef5c\\\"\\u002F\\u003E\\u003C\\u002Ffigure\\u003E\\u003Cp data-pid=\\\"D3ARcIVg\\\"\\u003E在轮回中努力挣扎到达了妈妈怀中这个“最幸福地方”的AIR\\u003C\\u002Fp\\u003E\\u003Cfigure data-size=\\\"normal\\\"\\u003E\\u003Cimg src=\\\"https:\\u002F\\u002Fpic2.zhimg.com\\u002F50\\u002Fv2-2e2cf4f4a936b030a944e51bdf59d80d_720w.jpg?source=1940ef5c\\\" data-caption=\\\"\\\" data-size=\\\"normal\\\" data-rawwidth=\\\"1083\\\" data-rawheight=\\\"601\\\" data-default-watermark-src=\\\"https:\\u002F\\u002Fpic1.zhimg.com\\u002F50\\u002Fv2-64dee031195ad1ed923045e265aeb227_720w.jpg?source=1940ef5c\\\" class=\\\"origin_image zh-lightbox-thumb\\\" width=\\\"1083\\\" data-original=\\\"https:\\u002F\\u002Fpica.zhimg.com\\u002Fv2-2e2cf4f4a936b030a944e51bdf59d80d_r.jpg?source=1940ef5c\\\"\\u002F\\u003E\\u003C\\u002Ffigure\\u003E\\u003Cp data-pid=\\\"aqUGi28f\\\"\\u003E搞砸了一切自暴自弃度过了一生的朋也在收集到13个光玉之后，在坡道前犹豫当初是否不应该搭话的Clannad\\u003C\\u002Fp\\u003E\\u003Cfigure data-size=\\\"normal\\\"\\u003E\\u003Cimg src=\\\"https:\\u002F\\u002Fpic1.zhimg.com\\u002F50\\u002Fv2-67b088f4a8a04a7fc645356833f530c8_720w.jpg?source=1940ef5c\\\" data-caption=\\\"\\\" data-size=\\\"normal\\\" data-rawwidth=\\\"1279\\\" data-rawheight=\\\"716\\\" data-default-watermark-src=\\\"https:\\u002F\\u002Fpic2.zhimg.com\\u002F50\\u002Fv2-f5296f083c4e8f7b0358254c8cc5c65b_720w.jpg?source=1940ef5c\\\" class=\\\"origin_image zh-lightbox-thumb\\\" width=\\\"1279\\\" data-original=\\\"https:\\u002F\\u002Fpica.zhimg.com\\u002Fv2-67b088f4a8a04a7fc645356833f530c8_r.jpg?source=1940ef5c\\\"\\u002F\\u003E\\u003C\\u002Ffigure\\u003E\\u003Cp data-pid=\\\"BNqCnSsz\\\"\\u003E把你从黑暗中救出来变得勇敢的little busters\\u003C\\u002Fp\\u003E\\u003Cfigure data-size=\\\"normal\\\"\\u003E\\u003Cimg src=\\\"https:\\u002F\\u002Fpic2.zhimg.com\\u002F50\\u002Fv2-4c5ea07c41d62743eaa395c789a7b129_720w.jpg?source=1940ef5c\\\" data-caption=\\\"\\\" data-size=\\\"normal\\\" data-rawwidth=\\\"495\\\" data-rawheight=\\\"366\\\" data-default-watermark-src=\\\"https:\\u002F\\u002Fpica.zhimg.com\\u002F50\\u002Fv2-b1a1ca982ed026da5777112ec902da02_720w.jpg?source=1940ef5c\\\" class=\\\"origin_image zh-lightbox-thumb\\\" width=\\\"495\\\" data-original=\\\"https:\\u002F\\u002Fpic3.zhimg.com\\u002Fv2-4c5ea07c41d62743eaa395c789a7b129_r.jpg?source=1940ef5c\\\"\\u002F\\u003E\\u003C\\u002Ffigure\\u003E\\u003Cp data-pid=\\\"YAA-8iia\\\"\\u003E从想要拯救每一个人的梦中觉醒只做一个人英雄的fate\\u003C\\u002Fp\\u003E\\u003Cfigure data-size=\\\"normal\\\"\\u003E\\u003Cimg src=\\\"https:\\u002F\\u002Fpic3.zhimg.com\\u002F50\\u002Fv2-c4d01263a02d4166c103f24c2f7e18e5_720w.jpg?source=1940ef5c\\\" data-caption=\\\"\\\" data-size=\\\"normal\\\" data-rawwidth=\\\"900\\\" data-rawheight=\\\"503\\\" data-default-watermark-src=\\\"https:\\u002F\\u002Fpic2.zhimg.com\\u002F50\\u002Fv2-feee5babefb98a7a7e230e57de758959_720w.jpg?source=1940ef5c\\\" class=\\\"origin_image zh-lightbox-thumb\\\" width=\\\"900\\\" data-original=\\\"https:\\u002F\\u002Fpic1.zhimg.com\\u002Fv2-c4d01263a02d4166c103f24c2f7e18e5_r.jpg?source=1940ef5c\\\"\\u002F\\u003E\\u003C\\u002Ffigure\\u003E\\u003Cp data-pid=\\\"gv42Bi13\\\"\\u003Emeta系的开山之作，拯救屏幕前你的臭作\\u003C\\u002Fp\\u003E\\u003Cfigure data-size=\\\"normal\\\"\\u003E\\u003Cimg src=\\\"https:\\u002F\\u002Fpic1.zhimg.com\\u002F50\\u002Fv2-753ab1a648bc0fcd4ad70b6f3f3e8d84_720w.jpg?source=1940ef5c\\\" data-caption=\\\"\\\" data-size=\\\"normal\\\" data-rawwidth=\\\"893\\\" data-rawheight=\\\"619\\\" data-default-watermark-src=\\\"https:\\u002F\\u002Fpic3.zhimg.com\\u002F50\\u002Fv2-31975f2f28315790298bd1164d57af82_720w.jpg?source=1940ef5c\\\" class=\\\"origin_image zh-lightbox-thumb\\\" width=\\\"893\\\" data-original=\\\"https:\\u002F\\u002Fpic1.zhimg.com\\u002Fv2-753ab1a648bc0fcd4ad70b6f3f3e8d84_r.jpg?source=1940ef5c\\\"\\u002F\\u003E\\u003C\\u002Ffigure\\u003E\\u003Cp data-pid=\\\"vUnHlsLZ\\\"\\u003E在无尽的轮回中寻求解法的寒蝉\\u003C\\u002Fp\\u003E\\u003Cfigure data-size=\\\"normal\\\"\\u003E\\u003Cimg src=\\\"https:\\u002F\\u002Fpic3.zhimg.com\\u002F50\\u002Fv2-d8ac97bb6da44d52c85868302abc734a_720w.jpg?source=1940ef5c\\\" data-caption=\\\"\\\" data-size=\\\"normal\\\" data-rawwidth=\\\"1191\\\" data-rawheight=\\\"665\\\" data-default-watermark-src=\\\"https:\\u002F\\u002Fpic2.zhimg.com\\u002F50\\u002Fv2-4302dadff81fa31af23ec9f4e153817d_720w.jpg?source=1940ef5c\\\" class=\\\"origin_image zh-lightbox-thumb\\\" width=\\\"1191\\\" data-original=\\\"https:\\u002F\\u002Fpica.zhimg.com\\u002Fv2-d8ac97bb6da44d52c85868302abc734a_r.jpg?source=1940ef5c\\\"\\u002F\\u003E\\u003C\\u002Ffigure\\u003E\\u003Cp data-pid=\\\"4TFLYEjS\\\"\\u003E在崩坏的世界中穿梭平行世界夺回日常的Muv-luv\\u003C\\u002Fp\\u003E\\u003Cfigure data-size=\\\"normal\\\"\\u003E\\u003Cimg src=\\\"https:\\u002F\\u002Fpic2.zhimg.com\\u002F50\\u002Fv2-b136d7da1a6531e997162d67185d1dca_720w.jpg?source=1940ef5c\\\" data-caption=\\\"\\\" data-size=\\\"normal\\\" data-rawwidth=\\\"1920\\\" data-rawheight=\\\"1080\\\" data-default-watermark-src=\\\"https:\\u002F\\u002Fpic3.zhimg.com\\u002F50\\u002Fv2-97c555762551d1653a91434a4f7f0774_720w.jpg?source=1940ef5c\\\" class=\\\"origin_image zh-lightbox-thumb\\\" width=\\\"1920\\\" data-original=\\\"https:\\u002F\\u002Fpic1.zhimg.com\\u002Fv2-b136d7da1a6531e997162d67185d1dca_r.jpg?source=1940ef5c\\\"\\u002F\\u003E\\u003C\\u002Ffigure\\u003E\\u003Cp data-pid=\\\"5-Wp-eCg\\\"\\u003E带他回来才能拯救大家的Ever17\\u003C\\u002Fp\\u003E\\u003Cfigure data-size=\\\"normal\\\"\\u003E\\u003Cimg src=\\\"https:\\u002F\\u002Fpic2.zhimg.com\\u002F50\\u002Fv2-35bf17595c3f8bbe5df7d22de7d45dd0_720w.jpg?source=1940ef5c\\\" data-caption=\\\"\\\" data-size=\\\"normal\\\" data-rawwidth=\\\"1280\\\" data-rawheight=\\\"716\\\" data-default-watermark-src=\\\"https:\\u002F\\u002Fpica.zhimg.com\\u002F50\\u002Fv2-5e69e8cf28984756fe9e3967c35fbe37_720w.jpg?source=1940ef5c\\\" class=\\\"origin_image zh-lightbox-thumb\\\" width=\\\"1280\\\" data-original=\\\"https:\\u002F\\u002Fpic1.zhimg.com\\u002Fv2-35bf17595c3f8bbe5df7d22de7d45dd0_r.jpg?source=1940ef5c\\\"\\u002F\\u003E\\u003C\\u002Ffigure\\u003E\\u003Cp data-pid=\\\"qB_0ZMpv\\\"\\u003E天户岩：天照大神（太阳）生气了躲了起来，进入永夜的日本八方神明聚集起来想办法将天照大神带出来。\\u003C\\u002Fp\\u003E\\u003Cp data-pid=\\\"vHM2zhWV\\\"\\u003E黄金时代的Galgame业者与当时作为读者的丸户，他们的人生是有交点的，有共感的。\\u003C\\u002Fp\\u003E\\u003Cp data-pid=\\\"PIaa0HHD\\\"\\u003E这个共感的点就是一代人的共同记忆。\\u003C\\u002Fp\\u003E\\u003Cp data-pid=\\\"UHvhEORD\\\"\\u003E甲儿和正太郎拼命守护的世界真的、崩坏了呀\\u003C\\u002Fp\\u003E\\u003Ch2\\u003E三、玩剧情向的Galgame真的是冲着谈恋爱来的吗？\\u003C\\u002Fh2\\u003E\\u003Cp data-pid=\\\"0AUBG3CX\\\"\\u003E来做个选择题吧：生活在同样崩坏了的世界中的创作者们，对于那些父亲在经济危机中离开、在学校因为喜欢ACG而被孤立被欺负，没能成为家里的男子汉无颜面对母亲，逃到Galgame世界来的家里蹲说些怎样的话呢？\\u003C\\u002Fp\\u003E\\u003Cp data-pid=\\\"MdDHES-l\\\"\\u003E1.多大人了还喜欢这个？ 2.做你自己就会有人喜欢你的\\u003C\\u002Fp\\u003E\\u003Cp data-pid=\\\"GLgp5ccx\\\"\\u003E1.一点长进都没有 2.不知道怎么办的时候有我\\u003C\\u002Fp\\u003E\\u003Cp data-pid=\\\"QflbI2dz\\\"\\u003E1.又骗人，你就是嘴硬  2.是你的话没问题的\\u003C\\u002Fp\\u003E\\u003Cp data-pid=\\\"yRZlXrJ3\\\"\\u003E1.因为你妈妈太爱你了 2.我也是一样的\\u003C\\u002Fp\\u003E\\u003Cp data-pid=\\\"GkGG8wbM\\\"\\u003E1.这是为你好 2.那就交给你了\\u003C\\u002Fp\\u003E\\u003Cp data-pid=\\\"EDRd3U_I\\\"\\u003E1.都是因为你才会这样的 2.我来想点办法\\u003C\\u002Fp\\u003E\\u003Cp data-pid=\\\"6hBovoPD\\\"\\u003E1.那不都过去的事了吗 2.你一定很辛苦吧\\u003C\\u002Fp\\u003E\\u003Cp data-pid=\\\"qU8xcaDX\\\"\\u003E1.你救得了谁啊 2.这次轮到我来救你了\\u003C\\u002Fp\\u003E\\u003Cp data-pid=\\\"-Wkce8oM\\\"\\u003E1.我家孩子很坚强，一定会没事的。 2.不是都在哭了嘛\\u003C\\u002Fp\\u003E\\u003Cp data-pid=\\\"isfD_oMW\\\"\\u003E听说选对的概率只有1\\u002F4096。\\u003C\\u002Fp\\u003E\\u003Cp data-pid=\\\"sBhkGdPx\\\"\\u003E有人说选择左边是更高情商的做法，是社会化更好的做法，能站在更多人的一边。\\u003C\\u002Fp\\u003E\\u003Cp data-pid=\\\"tz3oKsmq\\\"\\u003E站在人堆里一定会感觉很安全吧？\\u003C\\u002Fp\\u003E\\u003Cp data-pid=\\\"WUge3u_O\\\"\\u003E但是说到底玩游戏的人要的是：\\u003C\\u002Fp\\u003E\\u003Cp data-pid=\\\"QorJULD6\\\"\\u003E我变强了、我变勇敢了、我被接受了、我得到了尊重了\\u003C\\u002Fp\\u003E\\u003Cp data-pid=\\\"OLCm2bTj\\\"\\u003E我要证明我是值得被爱的\\u003C\\u002Fp\\u003E\\u003Cp data-pid=\\\"NK5i_dhz\\\"\\u003E在选择前，我们再加入一个场外信息：\\u003C\\u002Fp\\u003E\\u003Cp data-pid=\\\"YVIPIFlM\\\"\\u003E宫崎勤在2006年被判死刑，08年执行死刑。这是在白色相簿2制作周期内发生的事。\\u003C\\u002Fp\\u003E\\u003Cp data-pid=\\\"xcQaXnkG\\\"\\u003E宫崎勤犯案时曾留下过当时很流行的拆字游戏作为字谜：\\u003C\\u002Fp\\u003E\\u003Cp data-pid=\\\"2sPVO4zb\\\"\\u003E“绘梨香”，“風邪”，“咳”，“喉”，“楽”，“死”\\u003C\\u002Fp\\u003E\\u003Cp data-pid=\\\"kT0-5Qq1\\\"\\u003EERIKA，KAZE，SEKI，NODO，RAKU，SHI\\u003C\\u002Fp\\u003E\\u003Cp data-pid=\\\"7v0TOJ4C\\\"\\u003EIKIKAE SASERAREZ KINODOKU\\u003C\\u002Fp\\u003E\\u003Cp data-pid=\\\"2q4j1H3E\\\"\\u003E“生き返させられず、気の毒”\\u003C\\u002Fp\\u003E\\u003Cp data-pid=\\\"rfbaje8n\\\"\\u003E“不能起死回生了，真可怜”\\u003C\\u002Fp\\u003E\\u003Cp data-pid=\\\"Zp4fCSLB\\\"\\u003E真理  遗骨 烧 证明 鉴定\\u003C\\u002Fp\\u003E\\u003Cp data-pid=\\\"3w6IBIdG\\\"\\u003EMARI，IKOTSU，YAKI，SHOUMEI，KANTEI\\u003C\\u002Fp\\u003E\\u003Cp data-pid=\\\"Qw-U9noS\\\"\\u003EMIYASAKI  TSUTOMU KIREINI  HAKOE \\u003C\\u002Fp\\u003E\\u003Cp data-pid=\\\"URQl0gDV\\\"\\u003E“宮崎勤綺麗に箱え”\\u003C\\u002Fp\\u003E\\u003Cp data-pid=\\\"87_Gw8Jj\\\"\\u003E“宫崎勤漂亮地装箱”\\u003C\\u002Fp\\u003E\\u003Cp data-pid=\\\"FZdJPA0x\\\"\\u003E宫崎勤曾化名为“今田勇子”落网之后警方解开字谜发现，犯人挑衅地将自己名字都嵌入了字谜当中。\\u003C\\u002Fp\\u003E\\u003Cp data-pid=\\\"fcYdb4vG\\\"\\u003E始作俑者挑衅地将自己的名字嵌入解谜环节当中，给你一个解谜并救她们的机会，你会怎么选？\\u003C\\u002Fp\\u003E\\u003Ch2\\u003E四、什么才是真东西\\u003C\\u002Fh2\\u003E\\u003Cp data-pid=\\\"yFLkYQBT\\\"\\u003E题主的问题是Galgame制作者是不是真的需要谈过恋爱，卖给母胎单身的阿宅的东西是不是幻想就够了。\\u003C\\u002Fp\\u003E\\u003Cp data-pid=\\\"60qHJor4\\\"\\u003E不，文艺创作中的真实指的是真情实感，追求的是你经历过，我也经历过的共鸣。\\u003C\\u002Fp\\u003E\\u003Cp data-pid=\\\"0wy0MHul\\\"\\u003E我会告诉你：黄金时代的galgame就是为祭奠失落十年而摆设的灵堂。\\u003C\\u002Fp\\u003E\\u003Cfigure data-size=\\\"normal\\\"\\u003E\\u003Cimg src=\\\"https:\\u002F\\u002Fpica.zhimg.com\\u002F50\\u002Fv2-f0734816a9dd78d878bc89d07575634d_720w.jpg?source=1940ef5c\\\" data-caption=\\\"\\\" data-size=\\\"normal\\\" data-rawwidth=\\\"1156\\\" data-rawheight=\\\"53\\\" class=\\\"origin_image zh-lightbox-thumb\\\" width=\\\"1156\\\" data-original=\\\"https:\\u002F\\u002Fpic2.zhimg.com\\u002Fv2-f0734816a9dd78d878bc89d07575634d_r.jpg?source=1940ef5c\\\"\\u002F\\u003E\\u003C\\u002Ffigure\\u003E\\u003Cp data-pid=\\\"whKrLRAn\\\"\\u003E你要做的是真真正正去好好看看观众，看见前面那么多高分作品，想必大家可以理解galgame剧本的得分点到底是什么，什么才是高分作品的“格”。\\u003C\\u002Fp\\u003E\\u003Cp data-pid=\\\"Z_PI02rl\\\"\\u003E你要做的是安慰大家，鼓励大家，逗大家开心。\\u003C\\u002Fp\\u003E\\u003Cp data-pid=\\\"VAEZzWoR\\\"\\u003E你要做的是告诉大家在苦难行军的过程中彼此并不孤独。\\u003C\\u002Fp\\u003E\\u003Cp data-pid=\\\"QZjWZWZ_\\\"\\u003E真东西并不是放实拍的恋爱纪录片给一堆母胎单身的阿宅，而恰恰是彻彻底底的御宅族话题，尼特的情感，家里蹲的经历。\\u003C\\u002Fp\\u003E\\u003Cp data-pid=\\\"CPEgEm2k\\\"\\u003E写出你一个人待在房间里的辗转难眠\\u003C\\u002Fp\\u003E\\u003Cfigure data-size=\\\"normal\\\"\\u003E\\u003Cimg src=\\\"https:\\u002F\\u002Fpic1.zhimg.com\\u002F50\\u002Fv2-886b73ed053c1f35f515994a0bce2e3e_720w.jpg?source=1940ef5c\\\" data-caption=\\\"\\\" data-size=\\\"normal\\\" data-rawwidth=\\\"815\\\" data-rawheight=\\\"636\\\" data-default-watermark-src=\\\"https:\\u002F\\u002Fpic1.zhimg.com\\u002F50\\u002Fv2-23f573ec85d923efbcc7d04238248e51_720w.jpg?source=1940ef5c\\\" class=\\\"origin_image zh-lightbox-thumb\\\" width=\\\"815\\\" data-original=\\\"https:\\u002F\\u002Fpica.zhimg.com\\u002Fv2-886b73ed053c1f35f515994a0bce2e3e_r.jpg?source=1940ef5c\\\"\\u002F\\u003E\\u003C\\u002Ffigure\\u003E\\u003Cp data-pid=\\\"uTmqX49k\\\"\\u003E写出你顶着升学的压力玩的游戏的痴迷\\u003C\\u002Fp\\u003E\\u003Cfigure data-size=\\\"normal\\\"\\u003E\\u003Cimg src=\\\"https:\\u002F\\u002Fpica.zhimg.com\\u002F50\\u002Fv2-b87b9b5939ab00e2c6cb1726ca453400_720w.jpg?source=1940ef5c\\\" data-caption=\\\"\\\" data-size=\\\"normal\\\" data-rawwidth=\\\"821\\\" data-rawheight=\\\"644\\\" data-default-watermark-src=\\\"https:\\u002F\\u002Fpic1.zhimg.com\\u002F50\\u002Fv2-6c98296e94675c6463f7b0a42c5eb2ff_720w.jpg?source=1940ef5c\\\" class=\\\"origin_image zh-lightbox-thumb\\\" width=\\\"821\\\" data-original=\\\"https:\\u002F\\u002Fpic1.zhimg.com\\u002Fv2-b87b9b5939ab00e2c6cb1726ca453400_r.jpg?source=1940ef5c\\\"\\u002F\\u003E\\u003C\\u002Ffigure\\u003E\\u003Cp data-pid=\\\"HBsRfrXJ\\\"\\u003E写出你抱着妈妈做的饭躲在电脑前玩游戏的羞涩\\u003C\\u002Fp\\u003E\\u003Cfigure data-size=\\\"normal\\\"\\u003E\\u003Cimg src=\\\"https:\\u002F\\u002Fpic3.zhimg.com\\u002F50\\u002Fv2-f2f8d70593d2b487fbdbc61490e53045_720w.jpg?source=1940ef5c\\\" data-caption=\\\"\\\" data-size=\\\"normal\\\" data-rawwidth=\\\"1277\\\" data-rawheight=\\\"709\\\" data-default-watermark-src=\\\"https:\\u002F\\u002Fpica.zhimg.com\\u002F50\\u002Fv2-d10cdf0dcee150a9b6c9c0390b5ece1b_720w.jpg?source=1940ef5c\\\" class=\\\"origin_image zh-lightbox-thumb\\\" width=\\\"1277\\\" data-original=\\\"https:\\u002F\\u002Fpic3.zhimg.com\\u002Fv2-f2f8d70593d2b487fbdbc61490e53045_r.jpg?source=1940ef5c\\\"\\u002F\\u003E\\u003C\\u002Ffigure\\u003E\\u003Cp data-pid=\\\"OBJzPLSV\\\"\\u003E写出你出新游戏后迫不及待与同好分享的雀跃\\u003C\\u002Fp\\u003E\\u003Cfigure data-size=\\\"normal\\\"\\u003E\\u003Cimg src=\\\"https:\\u002F\\u002Fpic1.zhimg.com\\u002F50\\u002Fv2-73397390328356c3f94c19d084a61e91_720w.jpg?source=1940ef5c\\\" data-caption=\\\"\\\" data-size=\\\"normal\\\" data-rawwidth=\\\"1278\\\" data-rawheight=\\\"717\\\" data-default-watermark-src=\\\"https:\\u002F\\u002Fpic3.zhimg.com\\u002F50\\u002Fv2-1980b62bef0048afcf838a83dfed38e0_720w.jpg?source=1940ef5c\\\" class=\\\"origin_image zh-lightbox-thumb\\\" width=\\\"1278\\\" data-original=\\\"https:\\u002F\\u002Fpic3.zhimg.com\\u002Fv2-73397390328356c3f94c19d084a61e91_r.jpg?source=1940ef5c\\\"\\u002F\\u003E\\u003C\\u002Ffigure\\u003E\\u003Cp data-pid=\\\"dvV5RcTD\\\"\\u003E写出你为了游戏写影评的热情\\u003C\\u002Fp\\u003E\\u003Cfigure data-size=\\\"normal\\\"\\u003E\\u003Cimg src=\\\"https:\\u002F\\u002Fpic1.zhimg.com\\u002F50\\u002Fv2-cbac3acdb6bb6a1bc07a9da34a43a28d_720w.jpg?source=1940ef5c\\\" data-caption=\\\"\\\" data-size=\\\"normal\\\" data-rawwidth=\\\"1087\\\" data-rawheight=\\\"609\\\" data-default-watermark-src=\\\"https:\\u002F\\u002Fpic3.zhimg.com\\u002F50\\u002Fv2-d360b948b26c2d7afd794dd98f8eefbc_720w.jpg?source=1940ef5c\\\" class=\\\"origin_image zh-lightbox-thumb\\\" width=\\\"1087\\\" data-original=\\\"https:\\u002F\\u002Fpica.zhimg.com\\u002Fv2-cbac3acdb6bb6a1bc07a9da34a43a28d_r.jpg?source=1940ef5c\\\"\\u002F\\u003E\\u003C\\u002Ffigure\\u003E\\u003Cp data-pid=\\\"qmfNvwgM\\\"\\u003E写出你加入游戏公司想要做出自己梦想中游戏的跃跃欲试\\u003C\\u002Fp\\u003E\\u003Cfigure data-size=\\\"normal\\\"\\u003E\\u003Cimg src=\\\"https:\\u002F\\u002Fpic2.zhimg.com\\u002F50\\u002Fv2-0a3269aa47890fb747c8c11e465d0c8b_720w.jpg?source=1940ef5c\\\" data-caption=\\\"\\\" data-size=\\\"normal\\\" data-rawwidth=\\\"821\\\" data-rawheight=\\\"638\\\" data-default-watermark-src=\\\"https:\\u002F\\u002Fpic1.zhimg.com\\u002F50\\u002Fv2-d62beb162d9b0fa31046350d3f9cc9bc_720w.jpg?source=1940ef5c\\\" class=\\\"origin_image zh-lightbox-thumb\\\" width=\\\"821\\\" data-original=\\\"https:\\u002F\\u002Fpic2.zhimg.com\\u002Fv2-0a3269aa47890fb747c8c11e465d0c8b_r.jpg?source=1940ef5c\\\"\\u002F\\u003E\\u003C\\u002Ffigure\\u003E\\u003Cp data-pid=\\\"f6yBFtyd\\\"\\u003E什么东京都健全条例什么漫画有害论什么有害图书规制法案，这些在玩游戏时在耳边BB什么道德三观之类鬼东西的，你要为了你的读者狠狠踢他们屁股。\\u003C\\u002Fp\\u003E\\u003Cfigure data-size=\\\"normal\\\"\\u003E\\u003Cimg src=\\\"https:\\u002F\\u002Fpica.zhimg.com\\u002F50\\u002Fv2-cec582d9cd0944005b8f0b73fd9ee013_720w.jpg?source=1940ef5c\\\" data-caption=\\\"\\\" data-size=\\\"normal\\\" data-rawwidth=\\\"815\\\" data-rawheight=\\\"322\\\" data-default-watermark-src=\\\"https:\\u002F\\u002Fpic1.zhimg.com\\u002F50\\u002Fv2-8909584d1765d1f52150d7ddccda8349_720w.jpg?source=1940ef5c\\\" class=\\\"origin_image zh-lightbox-thumb\\\" width=\\\"815\\\" data-original=\\\"https:\\u002F\\u002Fpica.zhimg.com\\u002Fv2-cec582d9cd0944005b8f0b73fd9ee013_r.jpg?source=1940ef5c\\\"\\u002F\\u003E\\u003C\\u002Ffigure\\u003E\\u003Cp data-pid=\\\"KF30RsjV\\\"\\u003E给我把你对游戏的爱写出来啊！浑蛋\\u003C\\u002Fp\\u003E\\u003Cfigure data-size=\\\"normal\\\"\\u003E\\u003Cimg src=\\\"https:\\u002F\\u002Fpica.zhimg.com\\u002F50\\u002Fv2-dc7f6490d1d8030bb57f21181a9a7baa_720w.jpg?source=1940ef5c\\\" data-caption=\\\"\\\" data-size=\\\"normal\\\" data-rawwidth=\\\"864\\\" data-rawheight=\\\"1981\\\" data-default-watermark-src=\\\"https:\\u002F\\u002Fpic1.zhimg.com\\u002F50\\u002Fv2-b95480f4ebab0e3fd3c4293b20a56dd2_720w.jpg?source=1940ef5c\\\" class=\\\"origin_image zh-lightbox-thumb\\\" width=\\\"864\\\" data-original=\\\"https:\\u002F\\u002Fpic2.zhimg.com\\u002Fv2-dc7f6490d1d8030bb57f21181a9a7baa_r.jpg?source=1940ef5c\\\"\\u002F\\u003E\\u003C\\u002Ffigure\\u003E\\u003Cp\\u003E\\u003C\\u002Fp\\u003E\",\"markInfos\":[],\"relationship\":{\"isThanked\":false,\"isNothelp\":false,\"voting\":0,\"upvotedFolloweeIds\":[]},\"isLabeled\":true,\"visitedCount\":17302,\"thumbnails\":[\"https:\\u002F\\u002Fpic1.zhimg.com\\u002F50\\u002Fv2-37bad39c6306e53d4a7dc7880622749c_hd.jpg\",\"https:\\u002F\\u002Fpic2.zhimg.com\\u002F50\\u002Fv2-5d4f0d2ae39e01b22442689f8d751f38_hd.jpg\",\"https:\\u002F\\u002Fpic1.zhimg.com\\u002F50\\u002Fv2-fb90a2a515e3074643fb309775488ac2_hd.jpg\",\"https:\\u002F\\u002Fpic4.zhimg.com\\u002F50\\u002Fv2-d072bab8183a676b69990ab01914c7fa_hd.jpg\",\"https:\\u002F\\u002Fpic1.zhimg.com\\u002F50\\u002Fv2-b45613983d71813231b5e194f837d24a_hd.jpg\",\"https:\\u002F\\u002Fpic2.zhimg.com\\u002F50\\u002Fv2-98c2a29c46d21edcef92bd79f8e5c6ea_hd.jpg\",\"https:\\u002F\\u002Fpic1.zhimg.com\\u002F50\\u002Fv2-61f2a17897cc1f10a1b713b196564b21_hd.jpg\",\"https:\\u002F\\u002Fpic4.zhimg.com\\u002F50\\u002Fv2-8451fc5a2d93d8ccd06f691510b9e5a3_hd.jpg\",\"https:\\u002F\\u002Fpic3.zhimg.com\\u002F50\\u002Fv2-c0a61f032d6c2e7744c84ef30ecf95bd_hd.jpg\",\"https:\\u002F\\u002Fpic3.zhimg.com\\u002F50\\u002Fv2-b0ea8a50565ee2167d2ac1e495816ed0_hd.jpg\",\"https:\\u002F\\u002Fpic2.zhimg.com\\u002F50\\u002Fv2-bc520901aec251c33dd1681ec3fad03b_hd.jpg\",\"https:\\u002F\\u002Fpic4.zhimg.com\\u002F50\\u002Fv2-9f32f3a4a4adb12464bef5b8b479e537_hd.jpg\",\"https:\\u002F\\u002Fpic3.zhimg.com\\u002F50\\u002Fv2-3b6fc022fa6d44972d9905f56dd61564_hd.jpg\",\"https:\\u002F\\u002Fpic1.zhimg.com\\u002F50\\u002Fv2-17a799c6e51288c389e786a5f03faaf6_hd.jpg\",\"https:\\u002F\\u002Fpic1.zhimg.com\\u002F50\\u002Fv2-ddb0d47c33937943db43efaac09d4ed1_hd.jpg\",\"https:\\u002F\\u002Fpic4.zhimg.com\\u002F50\\u002Fv2-6f722f346fd0ebbbd30031f605fbbcd1_hd.jpg\",\"https:\\u002F\\u002Fpic3.zhimg.com\\u002F50\\u002Fv2-8404c2f37bb8080e7dcc04e68360fc8b_hd.jpg\",\"https:\\u002F\\u002Fpic4.zhimg.com\\u002F50\\u002Fv2-fb62c0d449e9d250b6ec5d93503da4f5_hd.jpg\",\"https:\\u002F\\u002Fpic4.zhimg.com\\u002F50\\u002Fv2-31de8bba085924b3a10317f98123b0c0_hd.jpg\",\"https:\\u002F\\u002Fpic4.zhimg.com\\u002F50\\u002Fv2-5df45475bb3bfb7ca3d2cadeed08643e_hd.jpg\",\"https:\\u002F\\u002Fpic2.zhimg.com\\u002F50\\u002Fv2-44e137a0a71aa403044c674b1f7e846e_hd.jpg\",\"https:\\u002F\\u002Fpic4.zhimg.com\\u002F50\\u002Fv2-e0e8926a195825f3c2fe023ca9ce5213_hd.jpg\",\"https:\\u002F\\u002Fpic1.zhimg.com\\u002F50\\u002Fv2-35f3a1310038d8a73a69263638563066_hd.jpg\",\"https:\\u002F\\u002Fpic3.zhimg.com\\u002F50\\u002Fv2-67cebba935e04d8b5d5fcb1ebb07af46_hd.jpg\",\"https:\\u002F\\u002Fpic4.zhimg.com\\u002F50\\u002Fv2-59b6bd3b6e72ee2b5cc681d1c24818bd_hd.jpg\",\"https:\\u002F\\u002Fpic2.zhimg.com\\u002F50\\u002Fv2-729a203f98dd2bd53bb3aa2dba64aabf_hd.jpg\",\"https:\\u002F\\u002Fpic4.zhimg.com\\u002F50\\u002Fv2-082b4cf05586d615dc9661c24b574648_hd.jpg\",\"https:\\u002F\\u002Fpic3.zhimg.com\\u002F50\\u002Fv2-92d0ba4294e758f31901e2dd3241f522_hd.jpg\",\"https:\\u002F\\u002Fpic1.zhimg.com\\u002F50\\u002Fv2-bdc9df23aa26c34d73963c41a7a29260_hd.jpg\",\"https:\\u002F\\u002Fpic1.zhimg.com\\u002F50\\u002Fv2-1213442b6671ec7bb88aaf4e6c1eede9_hd.jpg\",\"https:\\u002F\\u002Fpic3.zhimg.com\\u002F50\\u002Fv2-630f1b0525ae15a70734b39052a425ba_hd.jpg\",\"https:\\u002F\\u002Fpic4.zhimg.com\\u002F50\\u002Fv2-11a3b86bb89ab598287325d9ee584465_hd.jpg\"],\"creationRelationship\":{},\"favoriteCount\":271}},\"articles\":{},\"columns\":{},\"topics\":{},\"roundtables\":{},\"favlists\":{},\"comments\":{},\"notifications\":{},\"ebooks\":{},\"activities\":{},\"feeds\":{\"0_1652185294.315\":{\"id\":\"0_1652185294.315\",\"type\":\"feed\",\"offset\":0,\"verb\":\"COMMON_CARD\",\"createdTime\":1652185294,\"updatedTime\":1652185294,\"target\":{\"id\":\"1506436108439744512\",\"schema\":\"zvideo\"},\"brief\":\"{\\\"source\\\": \\\"TS\\\", \\\"type\\\": \\\"zvideo\\\", \\\"id\\\": 1506436108439744512}\",\"uninterestReasons\":[{\"reasonId\":3,\"reasonType\":\"topic\",\"objectToken\":\"20708438\",\"objectType\":\"topic\",\"reasonText\":\"沙雕（网络用语）\"},{\"reasonId\":3,\"reasonType\":\"topic\",\"objectToken\":\"20050650\",\"objectType\":\"topic\",\"reasonText\":\"超级人类\"},{\"reasonId\":3,\"reasonType\":\"topic\",\"objectToken\":\"19744969\",\"objectType\":\"topic\",\"reasonText\":\"德芙巧克力\"},{\"reasonId\":3,\"reasonType\":\"topic\",\"objectToken\":\"19566655\",\"objectType\":\"topic\",\"reasonText\":\"配音\"},{\"reasonId\":2,\"reasonType\":\"creator\",\"objectToken\":\"7c4ebe1e27a9f9d3ea7fc41341f08754\",\"objectType\":\"people\",\"reasonText\":\"人类早期驯服创作的内容\"}],\"attachedInfo\":\"Co8GCP37l5bptK2NuAEQYxoTMTUwNjQzNjEwODQzOTc0NDUxMiDA1tyTBii\\u002FAzAcQABKKgohVFNfU09VUkNFX0E1X1pWSURFT19CWV9DNV9DUkVBVE9SEgEwGAAgAGIgMjI3OGI2Y2ZhNDQ4NmJmODNjZGFlMGRjOTJkODUyZGRogKD6xKfs+\\u002FMUchMxNTA2NDM2MTA4NDM5NzQ0NTEyggFOaHR0cHM6Ly9waWNhLnpoaW1nLmNvbS92Mi1kMTY3NjAyZWY3NmM2N2FkNTgwNjdmZDgzYmYxNmQwYy5qcGc\\u002Fc291cmNlPTM4MmVlODlhqgEJcmVjb21tZW5k8gEFCAsSATHyAQoIDBIGTm9ybWFs8gEoCAoSJDFhNGEzODk5LWVjYWMtNDE3ZS05YzY1LTMzNTlkMGVkZTZlZYgCltCr74owkgIgN2M0ZWJlMWUyN2E5ZjlkM2VhN2ZjNDEzNDFmMDg3NTSaAgDKAhRGaXJzdEJydXNoV2VpZ2h0UnVsZcoCFVJlYmFja1ZpZGVvV2VpZ2h0UnVsZcoCGkhpZ2hMZXZlbENyZWF0b3JXZWlnaHRSdWxlygIXWnZpZGVvRXhwYW5kV1dlaWdodFJ1bGXKAhtWaWRlb05ldHdvcmtTY2VuZVdlaWdodFJ1bGXKAh5admlkZW9Vc2VyUGVyZmVyZW5jZVdlaWdodFJ1bGXKAhtadmlkZW9CaWxpUHJvbW90ZVdlaWdodFJ1bGXKAg5DdXJyZW5jeVJhbmtlcsoCHFRvcFNsb3RDb21tZXJjaWFsQnJlYWtJblJ1bGXaAiFUU19TT1VSQ0VfQTVfWlZJREVPX0JZX0M1X0NSRUFUT1LgAgDoAgP6AgtOT1JNQUxfRkxPV4oDIDgzNDFiMzBlMDIwNzQ0Yjc4MzY4MmQxYmQ3NjE5MTIxmgMGCgJ2MhAAsAPpyge4AwDCAyTotoXov4cgMjAuMiDkuIfnmoTnlKjmiLflhbPms6jkuoYgVEHSAxwxMi40IOS4h+aSreaUviDCtyA0NDcg6LWe5ZCM2AMAkgIzChMxNTA2NDM2MTA4NDM5NzQ0NTEyEhMxNTA2NDM2MTA4NDM5NzQ0NTEyGGMiBVZJREVP\",\"actors\":[{\"id\":\"19550228\",\"type\":\"topic\",\"url\":\"https:\\u002F\\u002Fwww.zhihu.com\\u002Ftopic\\u002F19550228\\u002Fhot\",\"avatarUrl\":\"https:\\u002F\\u002Fpic4.zhimg.com\\u002F50\\u002Fe82bab09c_s.jpg\",\"name\":\"随便看看\",\"excerpt\":\"\",\"introduction\":\"\"}],\"showActorTime\":false,\"actionText\":\"随便看看\",\"actionTextTpl\":\"热门内容, 来自: {}\",\"actionCard\":false},\"1_1652185294.589\":{\"id\":\"1_1652185294.589\",\"type\":\"feed\",\"offset\":1,\"verb\":\"TOPIC_ACKNOWLEDGED_ANSWER\",\"createdTime\":1652185294,\"updatedTime\":1652185294,\"target\":{\"id\":1327805592,\"schema\":\"answer\"},\"brief\":\"{\\\"source\\\": \\\"TS\\\", \\\"type\\\": \\\"answer\\\", \\\"id\\\": 1327805592}\",\"uninterestReasons\":[{\"reasonId\":3,\"reasonType\":\"topic\",\"objectToken\":\"19551147\",\"objectType\":\"topic\",\"reasonText\":\"生活\"},{\"reasonId\":3,\"reasonType\":\"topic\",\"objectToken\":\"20034016\",\"objectType\":\"topic\",\"reasonText\":\"王者荣耀\"},{\"reasonId\":3,\"reasonType\":\"topic\",\"objectToken\":\"19550994\",\"objectType\":\"topic\",\"reasonText\":\"游戏\"},{\"reasonId\":3,\"reasonType\":\"topic\",\"objectToken\":\"19567664\",\"objectType\":\"topic\",\"reasonText\":\"高考\"},{\"reasonId\":2,\"reasonType\":\"creator\",\"objectToken\":\"f4045425de757cfe3a8d10443f7597f4\",\"objectType\":\"people\",\"reasonText\":\"宝之大者创作的内容\"}],\"attachedInfo\":\"CogECP37l5bptK2NuAEQBBoJMjcxNDg2ODQwIMqLmvgFKJfdATDUBkABSiwKI1RTX1NPVVJDRV9aUkVDQUxMX1RFWFRfVE9XX1RPV0VSX1YxEgEwGAAgAFoINTI0NDg3NTZiIDIyNzhiNmNmYTQ0ODZiZjgzY2RhZTBkYzkyZDg1MmRkcgoxMzI3ODA1NTkyigEJNDA1NzcwMjAwqgEJcmVjb21tZW5k8gEFCAsSATHyAQoIDBIGTm9ybWFs8gEoCAoSJDAzYzA2NjcyLTgyOTItNDFhOC1iMWQwLWQ2MGI1MzFhYzQxYYgCltCr74owkgIgZjQwNDU0MjVkZTc1N2NmZTNhOGQxMDQ0M2Y3NTk3ZjSaAgDKAhRGaXJzdEJydXNoV2VpZ2h0UnVsZcoCDkN1cnJlbmN5UmFua2Vy2gIjVFNfU09VUkNFX1pSRUNBTExfVEVYVF9UT1dfVE9XRVJfVjHoAgP6AgtOT1JNQUxfRkxPV4oDIDgzNDFiMzBlMDIwNzQ0Yjc4MzY4MmQxYmQ3NjE5MTIxmgMGCgJ2MhAAqAOYmC\\u002FCAyXlpI3ml6blpKflraYg5Li05bqK5Yy75a2m5Y2a5aOr5Zyo6K+7ygMYaWRlbnRpdHksaWRlbnRpdHlfcGVvcGxl0gMcMi44IOS4h+i1nuWQjCDCtyA0MTM5IOaUtuiXj9gDAJICJQoJMjcxNDg2ODQwEgoxMzI3ODA1NTkyGAQiCklNQUdFX1RFWFQ=\",\"actors\":[{\"id\":\"19550228\",\"type\":\"topic\",\"url\":\"https:\\u002F\\u002Fwww.zhihu.com\\u002Ftopic\\u002F19550228\\u002Fhot\",\"avatarUrl\":\"https:\\u002F\\u002Fpic4.zhimg.com\\u002F50\\u002Fe82bab09c_s.jpg\",\"name\":\"随便看看\",\"excerpt\":\"\",\"introduction\":\"\"}],\"showActorTime\":false,\"actionText\":\"随便看看\",\"actionTextTpl\":\"热门内容, 来自: {}\",\"actionCard\":false},\"2_1652185294.377\":{\"id\":\"2_1652185294.377\",\"type\":\"feed\",\"offset\":2,\"verb\":\"TOPIC_ACKNOWLEDGED_ANSWER\",\"createdTime\":1652185294,\"updatedTime\":1652185294,\"target\":{\"id\":2460294022,\"schema\":\"answer\"},\"brief\":\"{\\\"source\\\": \\\"TS\\\", \\\"type\\\": \\\"answer\\\", \\\"id\\\": 2460294022}\",\"uninterestReasons\":[{\"reasonId\":3,\"reasonType\":\"topic\",\"objectToken\":\"19588362\",\"objectType\":\"topic\",\"reasonText\":\"年轻人\"},{\"reasonId\":3,\"reasonType\":\"topic\",\"objectToken\":\"19860414\",\"objectType\":\"topic\",\"reasonText\":\"热点话题\"},{\"reasonId\":3,\"reasonType\":\"topic\",\"objectToken\":\"19874028\",\"objectType\":\"topic\",\"reasonText\":\"高房价\"},{\"reasonId\":3,\"reasonType\":\"topic\",\"objectToken\":\"19633259\",\"objectType\":\"topic\",\"reasonText\":\"加班文化\"},{\"reasonId\":2,\"reasonType\":\"creator\",\"objectToken\":\"882f8183c456bdec271b8e1677b06b40\",\"objectType\":\"people\",\"reasonText\":\"哈喽树先生创作的内容\"}],\"attachedInfo\":\"CqQDCP37l5bptK2NuAEQBBoJNDc3NDA5NDgyIKCkpJMGKPAuMK4DQAJKHAoTVFNfU09VUkNFX0ZFRURSRV9WMhIBMBgAIABaCDY0MzY3NDYzYiAyMjc4YjZjZmE0NDg2YmY4M2NkYWUwZGM5MmQ4NTJkZHIKMjQ2MDI5NDAyMooBCTQ1OTM5MjA5NKoBCXJlY29tbWVuZPIBBQgLEgEx8gEKCAwSBk5vcm1hbPIBKAgKEiQ2MWIzNDhkOC1lZTllLTQ4OGQtYWU5NC05NGFlZWY0ZTM2M2SIApbQq++KMJICIDg4MmY4MTgzYzQ1NmJkZWMyNzFiOGUxNjc3YjA2YjQwmgIAygIURmlyc3RCcnVzaFdlaWdodFJ1bGXKAg5DdXJyZW5jeVJhbmtlctoCE1RTX1NPVVJDRV9GRUVEUkVfVjLoAgP6AgtOT1JNQUxfRkxPV4oDIDgzNDFiMzBlMDIwNzQ0Yjc4MzY4MmQxYmQ3NjE5MTIxmgMGCgJ2MhAAqAON+g\\u002FCAwDSAxk2MDAwIOi1nuWQjCDCtyA0MzAg6K+E6K662AMAkgIlCgk0Nzc0MDk0ODISCjI0NjAyOTQwMjIYBCIKSU1BR0VfVEVYVA==\",\"actors\":[{\"id\":\"19550228\",\"type\":\"topic\",\"url\":\"https:\\u002F\\u002Fwww.zhihu.com\\u002Ftopic\\u002F19550228\\u002Fhot\",\"avatarUrl\":\"https:\\u002F\\u002Fpic4.zhimg.com\\u002F50\\u002Fe82bab09c_s.jpg\",\"name\":\"随便看看\",\"excerpt\":\"\",\"introduction\":\"\"}],\"showActorTime\":false,\"actionText\":\"随便看看\",\"actionTextTpl\":\"热门内容, 来自: {}\",\"actionCard\":false},\"3_1652185294.820\":{\"id\":\"3_1652185294.820\",\"type\":\"feed\",\"offset\":3,\"verb\":\"TOPIC_ACKNOWLEDGED_ANSWER\",\"createdTime\":1652185294,\"updatedTime\":1652185294,\"target\":{\"id\":2475689884,\"schema\":\"answer\"},\"brief\":\"{\\\"source\\\": \\\"TS\\\", \\\"type\\\": \\\"answer\\\", \\\"id\\\": 2475689884}\",\"uninterestReasons\":[{\"reasonId\":3,\"reasonType\":\"topic\",\"objectToken\":\"19553361\",\"objectType\":\"topic\",\"reasonText\":\"游戏开发\"},{\"reasonId\":3,\"reasonType\":\"topic\",\"objectToken\":\"19614798\",\"objectType\":\"topic\",\"reasonText\":\"Galgame\"},{\"reasonId\":3,\"reasonType\":\"topic\",\"objectToken\":\"20041214\",\"objectType\":\"topic\",\"reasonText\":\"视觉小说\"},{\"reasonId\":2,\"reasonType\":\"creator\",\"objectToken\":\"bfc852ff2bd064fe87bcb32f066909cf\",\"objectType\":\"people\",\"reasonText\":\"魔力懒猫创作的内容\"}],\"attachedInfo\":\"Cp4DCP37l5bptK2NuAEQBBoJNDgwMjA5MjY0IK+L3ZMGKPoBMBdAA0oMCgNIb3QSATEYACAAWgg0OTY0MjcyM2IgMjI3OGI2Y2ZhNDQ4NmJmODNjZGFlMGRjOTJkODUyZGRyCjI0NzU2ODk4ODSKAQkzOTMxMzg1NTaqAQlyZWNvbW1lbmTyAQUICxIBMfIBCggMEgZOb3JtYWzyASgIChIkMTA3MjNkZDYtZWE4Yi00Y2I0LWEwNzgtYjAwOGQ2YTc2MTg4iAKW0KvvijCSAiBiZmM4NTJmZjJiZDA2NGZlODdiY2IzMmYwNjY5MDljZpoCAMoCFEZpcnN0QnJ1c2hXZWlnaHRSdWxlygIaSGlnaExldmVsQ3JlYXRvcldlaWdodFJ1bGXKAg5DdXJyZW5jeVJhbmtlctoCA0hvdOgCA\\u002FoCC05PUk1BTF9GTE9XigMgODM0MWIzMGUwMjA3NDRiNzgzNjgyZDFiZDc2MTkxMjGaAwYKAnYyEACoA5aHAcIDANIDFzI1MCDotZ7lkIwgwrcgNTgg5pS26JeP2AMAkgIlCgk0ODAyMDkyNjQSCjI0NzU2ODk4ODQYBCIKSU1BR0VfVEVYVA==\",\"actors\":[{\"id\":\"19550228\",\"type\":\"topic\",\"url\":\"https:\\u002F\\u002Fwww.zhihu.com\\u002Ftopic\\u002F19550228\\u002Fhot\",\"avatarUrl\":\"https:\\u002F\\u002Fpic4.zhimg.com\\u002F50\\u002Fe82bab09c_s.jpg\",\"name\":\"随便看看\",\"excerpt\":\"\",\"introduction\":\"\"}],\"showActorTime\":false,\"actionText\":\"随便看看\",\"actionTextTpl\":\"热门内容, 来自: {}\",\"actionCard\":false},\"4_1652185294.838\":{\"id\":\"4_1652185294.838\",\"type\":\"feed\",\"offset\":4,\"verb\":\"COMMON_CARD\",\"createdTime\":1652185294,\"updatedTime\":1652185294,\"target\":{\"id\":\"1506849373417422848\",\"schema\":\"zvideo\"},\"brief\":\"{\\\"source\\\": \\\"TS\\\", \\\"type\\\": \\\"zvideo\\\", \\\"id\\\": 1506849373417422848}\",\"uninterestReasons\":[{\"reasonId\":3,\"reasonType\":\"topic\",\"objectToken\":\"19559450\",\"objectType\":\"topic\",\"reasonText\":\"机器学习\"},{\"reasonId\":3,\"reasonType\":\"topic\",\"objectToken\":\"19572388\",\"objectType\":\"topic\",\"reasonText\":\"计算流体力学（CFD）\"},{\"reasonId\":3,\"reasonType\":\"topic\",\"objectToken\":\"19559455\",\"objectType\":\"topic\",\"reasonText\":\"空气动力学\"},{\"reasonId\":3,\"reasonType\":\"topic\",\"objectToken\":\"19613730\",\"objectType\":\"topic\",\"reasonText\":\"计算机图形学\"},{\"reasonId\":2,\"reasonType\":\"creator\",\"objectToken\":\"38f7d40c20b9c6e6b2ddacb68cfd10e6\",\"objectType\":\"people\",\"reasonText\":\"牛比利斯山创作的内容\"}],\"attachedInfo\":\"CrMFCP37l5bptK2NuAEQYxoTMTUwNjg0OTM3MzQxNzQyMjg0OCCErOGTBigKMAFABEovCiZUU19TT1VSQ0VfWlZJREVPX0ZFRURfVFdPX1RPV0VSX1JFQ0FMTBIBMBgAIABiIDIyNzhiNmNmYTQ0ODZiZjgzY2RhZTBkYzkyZDg1MmRkaICg+Na1hNX0FHITMTUwNjg0OTM3MzQxNzQyMjg0OIIBTmh0dHBzOi8vcGljMS56aGltZy5jb20vdjItMzFhMTk5ODQ1YzczMDhjY2VmNDNiNjk5MjdhMTllOTcuanBnP3NvdXJjZT0zODJlZTg5YaoBCXJlY29tbWVuZPIBBQgLEgEx8gEKCAwSBk5vcm1hbPIBKAgKEiQ2NTA4NmU1Zi0yYjI1LTRlMTUtOTY2Yy0xMmQ3YWFkMTA1OTGIApbQq++KMJICIDM4ZjdkNDBjMjBiOWM2ZTZiMmRkYWNiNjhjZmQxMGU2mgIAygIURmlyc3RCcnVzaFdlaWdodFJ1bGXKAhVSZWJhY2tWaWRlb1dlaWdodFJ1bGXKAhdadmlkZW9FeHBhbmRXV2VpZ2h0UnVsZcoCG1ZpZGVvTmV0d29ya1NjZW5lV2VpZ2h0UnVsZcoCHlp2aWRlb1VzZXJQZXJmZXJlbmNlV2VpZ2h0UnVsZcoCG1p2aWRlb0JpbGlQcm9tb3RlV2VpZ2h0UnVsZcoCDkN1cnJlbmN5UmFua2Vy2gImVFNfU09VUkNFX1pWSURFT19GRUVEX1RXT19UT1dFUl9SRUNBTEzgAgDoAgP6AgtOT1JNQUxfRkxPV4oDIDgzNDFiMzBlMDIwNzQ0Yjc4MzY4MmQxYmQ3NjE5MTIxmgMGCgJ2MhAAsAOSIrgDAMIDANIDGDQzNzAg5pKt5pS+IMK3IDEwIOi1nuWQjNgDAJICMwoTMTUwNjg0OTM3MzQxNzQyMjg0OBITMTUwNjg0OTM3MzQxNzQyMjg0OBhjIgVWSURFTw==\",\"actors\":[{\"id\":\"19550228\",\"type\":\"topic\",\"url\":\"https:\\u002F\\u002Fwww.zhihu.com\\u002Ftopic\\u002F19550228\\u002Fhot\",\"avatarUrl\":\"https:\\u002F\\u002Fpic4.zhimg.com\\u002F50\\u002Fe82bab09c_s.jpg\",\"name\":\"随便看看\",\"excerpt\":\"\",\"introduction\":\"\"}],\"showActorTime\":false,\"actionText\":\"随便看看\",\"actionTextTpl\":\"热门内容, 来自: {}\",\"actionCard\":false},\"5_1652185294.952\":{\"id\":\"5_1652185294.952\",\"type\":\"feed\",\"offset\":5,\"verb\":\"TOPIC_ACKNOWLEDGED_ANSWER\",\"createdTime\":1652185294,\"updatedTime\":1652185294,\"target\":{\"id\":2342221210,\"schema\":\"answer\"},\"brief\":\"{\\\"source\\\": \\\"TS\\\", \\\"type\\\": \\\"answer\\\", \\\"id\\\": 2342221210}\",\"uninterestReasons\":[{\"reasonId\":3,\"reasonType\":\"topic\",\"objectToken\":\"19564645\",\"objectType\":\"topic\",\"reasonText\":\"武器\"},{\"reasonId\":3,\"reasonType\":\"topic\",\"objectToken\":\"20172955\",\"objectType\":\"topic\",\"reasonText\":\"《我的世界》中国版\"},{\"reasonId\":3,\"reasonType\":\"topic\",\"objectToken\":\"19598367\",\"objectType\":\"topic\",\"reasonText\":\"Minecraft（游戏《我的世界》）\"},{\"reasonId\":3,\"reasonType\":\"topic\",\"objectToken\":\"19684571\",\"objectType\":\"topic\",\"reasonText\":\"医学常识\"},{\"reasonId\":2,\"reasonType\":\"creator\",\"objectToken\":\"0eec1b73a18f6abee0c29aaadc5b7527\",\"objectType\":\"people\",\"reasonText\":\"法海创作的内容\"}],\"attachedInfo\":\"CoQDCP37l5bptK2NuAEQBBoJNDU1OTQwOTE3IOiAk5AGKKsPMIYBQAVKDAoDSG90EgExGAAgAFoINzUxOTIyMzBiIDIyNzhiNmNmYTQ0ODZiZjgzY2RhZTBkYzkyZDg1MmRkcgoyMzQyMjIxMjEwigEJNTA4MDk4MTYxqgEJcmVjb21tZW5k8gEFCAsSATHyAQoIDBIGTm9ybWFs8gEoCAoSJGFkOTk1ZmNmLTJhZWQtNDQ2Ny1hODhjLWU1YjJmOTg1NmNhMYgCltCr74owkgIgMGVlYzFiNzNhMThmNmFiZWUwYzI5YWFhZGM1Yjc1MjeaAgDKAhRGaXJzdEJydXNoV2VpZ2h0UnVsZcoCDkN1cnJlbmN5UmFua2Vy2gIDSG906AID+gILTk9STUFMX0ZMT1eKAyA4MzQxYjMwZTAyMDc0NGI3ODM2ODJkMWJkNzYxOTEyMZoDBgoCdjIQAKgDts4HwgMA0gMZMTk2MyDotZ7lkIwgwrcgMjg1IOaUtuiXj9gDAJICJQoJNDU1OTQwOTE3EgoyMzQyMjIxMjEwGAQiCklNQUdFX1RFWFQ=\",\"actors\":[{\"id\":\"19550228\",\"type\":\"topic\",\"url\":\"https:\\u002F\\u002Fwww.zhihu.com\\u002Ftopic\\u002F19550228\\u002Fhot\",\"avatarUrl\":\"https:\\u002F\\u002Fpic4.zhimg.com\\u002F50\\u002Fe82bab09c_s.jpg\",\"name\":\"随便看看\",\"excerpt\":\"\",\"introduction\":\"\"}],\"showActorTime\":false,\"actionText\":\"随便看看\",\"actionTextTpl\":\"热门内容, 来自: {}\",\"actionCard\":false}},\"pins\":{},\"promotions\":{},\"drafts\":{},\"chats\":{},\"posts\":{},\"clubs\":{},\"clubTags\":{},\"zvideos\":{\"1506436108439744512\":{\"id\":\"1506436108439744512\",\"type\":\"zvideo\",\"title\":\"野生德芙纵享丝滑的珍贵影像\",\"description\":\"\",\"memberId\":536383367,\"voteCount\":447,\"commentCount\":28,\"author\":\"ren-lei-zao-qi-xun-fu\",\"thumbnailExtraInfo\":{\"videoId\":\"1506435806588211200\",\"type\":\"video\",\"url\":\"https:\\u002F\\u002Fpica.zhimg.com\\u002Fv2-d167602ef76c67ad58067fd83bf16d0c.jpg?source=382ee89a\",\"height\":1080,\"width\":1920,\"duration\":257,\"playlist\":{\"ld\":{\"url\":\"https:\\u002F\\u002Fvdn3.vzuu.com\\u002FSD\\u002Fee10b8c0-ce25-11ec-9a02-b2f5232017a6-v4_t10001111-wfic6WAvNM.mp4?disable_local_cache=1&bu=b9ce98d5&c=avc.4.0&f=mp4&expiration=1652188894&auth_key=1652188894-0-0-c017a04d6f4877b89e51257cfb1001be&v=tx&pu=da4bec50\",\"bitrate\":835,\"duration\":257,\"format\":\"mp4\",\"fps\":23,\"height\":476,\"size\":26928358,\"width\":848},\"sd\":{\"url\":\"https:\\u002F\\u002Fvdn3.vzuu.com\\u002FSD\\u002Fee10b8c0-ce25-11ec-9a02-b2f5232017a6-v4_t10001111-wfic6WAvNM.mp4?disable_local_cache=1&bu=b9ce98d5&c=avc.4.0&f=mp4&expiration=1652188894&auth_key=1652188894-0-0-c017a04d6f4877b89e51257cfb1001be&v=tx&pu=da4bec50\",\"bitrate\":835,\"duration\":257,\"format\":\"mp4\",\"fps\":23,\"height\":476,\"size\":26928358,\"width\":848},\"hd\":{\"url\":\"https:\\u002F\\u002Fvdn3.vzuu.com\\u002FHD\\u002Fee10b8c0-ce25-11ec-9a02-b2f5232017a6-v4_t10001111-wfic6WAvNM.mp4?disable_local_cache=1&bu=b9ce98d5&c=avc.4.0&f=mp4&expiration=1652188894&auth_key=1652188894-0-0-ad063c75df500a3a9a6cf2f4d5deee01&v=tx&pu=da4bec50\",\"bitrate\":1342,\"duration\":257,\"format\":\"mp4\",\"fps\":23,\"height\":720,\"size\":43262344,\"width\":1280}},\"showMakerEntrance\":false},\"playCount\":124265,\"excerpt\":\"\",\"creationRelationship\":{\"renderJson\":\"{}\"}},\"1506849373417422848\":{\"id\":\"1506849373417422848\",\"type\":\"zvideo\",\"title\":\"Neural Implicit Flow - 基于数据面向复杂网格的流体力学降维\",\"description\":\"从1965年Lumley开始，降低流体力学的维度，就是一个非常重要的课题了。为什么呢？因为降低维度之后，人们才能将许多“低维”系统领域研究者们的数十年来的贡献，搬到流体力学领域来使用。例如控制领域的东西拿过来修改下就实现流动控制。不仅如此，从纯粹建模角度说，降维能够帮助我们更有效率的建模、采样。这已经是不少领域的共识。 本工作将流体力学的降维方向推进到下一个层面，即处理前所未有的三维多尺度复杂网格的数据。…\",\"memberId\":5963770,\"voteCount\":10,\"commentCount\":1,\"author\":\"niu-bi-li-si-shan\",\"thumbnailExtraInfo\":{\"videoId\":\"1506828061157232640\",\"type\":\"video\",\"url\":\"https:\\u002F\\u002Fpic1.zhimg.com\\u002Fv2-31a199845c7308ccef43b69927a19e97.jpg?source=382ee89a\",\"height\":720,\"width\":1280,\"duration\":1238,\"playlist\":{\"ld\":{\"url\":\"https:\\u002F\\u002Fvdn3.vzuu.com\\u002FSD\\u002Faccad65e-ceff-11ec-8fc0-d24001230522-v4_t10000011-wfjBq2tKNW.mp4?disable_local_cache=1&bu=b9ce98d5&c=avc.4.0&f=mp4&expiration=1652188894&auth_key=1652188894-0-0-4fef6daccf7be62a53d532fb2453dedc&v=tx&pu=da4bec50\",\"bitrate\":247,\"duration\":1238,\"format\":\"mp4\",\"fps\":24,\"height\":476,\"size\":38256203,\"width\":848},\"sd\":{\"url\":\"https:\\u002F\\u002Fvdn3.vzuu.com\\u002FSD\\u002Faccad65e-ceff-11ec-8fc0-d24001230522-v4_t10000011-wfjBq2tKNW.mp4?disable_local_cache=1&bu=b9ce98d5&c=avc.4.0&f=mp4&expiration=1652188894&auth_key=1652188894-0-0-4fef6daccf7be62a53d532fb2453dedc&v=tx&pu=da4bec50\",\"bitrate\":247,\"duration\":1238,\"format\":\"mp4\",\"fps\":24,\"height\":476,\"size\":38256203,\"width\":848},\"hd\":{\"url\":\"https:\\u002F\\u002Fvdn3.vzuu.com\\u002FHD\\u002Faccad65e-ceff-11ec-8fc0-d24001230522-v4_t10000011-wfjBq2tKNW.mp4?disable_local_cache=1&bu=b9ce98d5&c=avc.4.0&f=mp4&expiration=1652188894&auth_key=1652188894-0-0-7c79ff01b28067e35c25bedd91b513a2&v=tx&pu=da4bec50\",\"bitrate\":356,\"duration\":1238,\"format\":\"mp4\",\"fps\":24,\"height\":720,\"size\":55187556,\"width\":1280}},\"showMakerEntrance\":false},\"playCount\":4370,\"excerpt\":\"从1965年Lumley开始，降低流体力学的维度，就是一个非常重要的课题了。为什么呢？因为降低维度之后，人们才能将许多“低维”系统领域研究者们的数十年来的贡献，搬到流体力学领域来使用。例如控制领域的东西拿过来修改下就实现流动控制。不仅如此，从纯粹建模角度说，降维能够帮助我们更有效率的建模、采样。这已经是不少领域的共识。 本工作将流体力学的降维方向推进到下一个层面，即处理前所未有的三维多尺度复杂网格的数据。…\",\"creationRelationship\":{\"renderJson\":\"{}\"}}},\"zvideoContributions\":{},\"briefs\":{},\"eduCourses\":{},\"feedAdverts\":{\"AD_2267377_16521852948700\":{\"id\":\"AD_2267377_16521852948700\",\"type\":\"feed_advert\",\"brief\":\"{\\\"source\\\":\\\"PR\\\",\\\"type\\\":\\\"feed_advert\\\",\\\"id\\\":2267377}\",\"actionText\":\"\",\"attachedInfo\":\"CkwI\\u002FfuXlum0rY24AZABAdoBJDllOGQ2YThjLWZmZjItNDViYy1hMzM2LWE1YzA5NzFhMTMwOfIBBggMEgJBZPoCC0FEVkVSVF9GTE9XMhQtNTE4MDYyODY5NDMwNDY4NjU5NQ==\",\"ad\":{\"count\":0,\"position\":0,\"adVerb\":\"PROMOTE_URL_CARD\",\"closeTrack\":\"https:\\u002F\\u002Fsugar.zhihu.com\\u002Fplutus_adreaper?pdi=1592213720896474&tu=https%3A%2F%2Fwww.agora.io%2Fcn%2Fform%2Fleads%3Futm_source%3Dzhihu%26utm_medium%3Dcpc%26utm_campaign%3Dpc_form%26utm_term%3Dwenan%26utm_content%3Dsdk&ut=45705d6745e14ca2aa7e8db26508061c&pf=4&ed=CjEEfR4wM318R2NXBzYuUUYkW3sObm4meRN_BVQ2Lx1Ycgl-C3o7JntAMV8XMTYNXGNYI1x-aHJ4EmFQBnY8WVZ0Cn0PdmN5aEY7WgNiegJSfAxsWzdncGhGPVoAY30WCTUEewtyfCw7GGNXBmJ1A19yD2xNKmdyehU3XQVlKAoIIAh7AiJueHRBNlBTantTDXEDfFx1P3osFTFTFyQ_DVpzDHgJe29ydxF0BkZtfBYKMAR4CHRreOPpwsZkEM49&idi=100010066&nt=0&ar=0.00000000000000000005771331355475805\",\"revertCloseTrack\":\"https:\\u002F\\u002Fsugar.zhihu.com\\u002Fplutus_adreaper?ed=CjEEch4wM318R2NXBzYuUUYkW3sObm4meRN_BVQ2Lx1Ycgl-C3o7JntAMV8XMTYNXGNYI1x-aHJ4EmFQBnY8WVZ0Cn0PdmN5aEY7WgNiegJSfAxsWzdncGhGPVoAY30WCTUEewtyfCw7GGNXBmJ1A19yD2xNKmdyehU3XQVlKAoIIAh7AiJueHRBNlBTantTDXEDfFx1P3osFTFTFyQ_DVpzDHgJe29ydxF0BkZtfBYKMAR4CHRreA96AvBfRCuK&ut=45705d6745e14ca2aa7e8db26508061c&tu=https%3A%2F%2Fwww.agora.io%2Fcn%2Fform%2Fleads%3Futm_source%3Dzhihu%26utm_medium%3Dcpc%26utm_campaign%3Dpc_form%26utm_term%3Dwenan%26utm_content%3Dsdk&ar=0.00000000000000000005771331355475805&pf=4&idi=100010066&nt=0&pdi=1592213720896474\",\"template\":\"web_image_feed\",\"loadTracks\":[\"https:\\u002F\\u002Fsugar.zhihu.com\\u002Fplutus_adreaper?idi=100010066&pdi=1592213720896474&ed=CjEEeB4wM318R2NXBzYuUUYkW3sObm4meRN_BVQ2Lx1Ycgl-C3o7JntAMV8XMTYNXGNYI1x-aHJ4EmFQBnY8WVZ0Cn0PdmN5aEY7WgNiegJSfAxsWzdncGhGPVoAY30WCTUEewtyfCw7GGNXBmJ1A19yD2xNKmdyehU3XQVlKAoIIAh7AiJueHRBNlBTantTDXEDfFx1P3osFTFTFyQ_DVpzDHgJe29ydxF0BkZtfBYKMAR4CHRreFVxd2a4q5Bz&ut=45705d6745e14ca2aa7e8db26508061c&nt=0&tu=https%3A%2F%2Fwww.agora.io%2Fcn%2Fform%2Fleads%3Futm_source%3Dzhihu%26utm_medium%3Dcpc%26utm_campaign%3Dpc_form%26utm_term%3Dwenan%26utm_content%3Dsdk&pf=4&ar=0.00000000000000000005771331355475805\"],\"creatives\":[{\"landingUrl\":\"https:\\u002F\\u002Fwww.agora.io\\u002Fcn\\u002Fform\\u002Fleads?utm_source=zhihu&utm_medium=cpc&utm_campaign=pc_form&utm_term=wenan&utm_content=sdk\",\"image\":\"https:\\u002F\\u002Fpic2.zhimg.com\\u002Fv2-8bf2e70107832f4907c26859076ae59d_bh.jpg?source=d6434cab\",\"image2x\":\"\",\"title\":\"一个实时音视频SDK，满足全场景社交需求，一键接入\",\"description\":\"产品开发技术难度大、成本高、周期长？实时互动延迟高，用户体验差？声网实时音视频，API接口丰富，简单易用。支持百万人实时语音及视频互动。适用于各种场景需求，每月10000分钟免费使用\",\"button\":\"查看详情\",\"actionButton\":false,\"footer\":{\"value\":\"\"},\"cta\":{\"value\":\"查看详情\"},\"brand\":{\"id\":0,\"name\":\"声网Agora SDK\",\"logo\":\"https:\\u002F\\u002Fpic3.zhimg.com\\u002Fv2-58d12009a81cb8978985d4ecfa55682f_xl.png?source=d6434cab\"},\"appPromotionUrl\":\"\",\"nativeUrl\":\"\",\"deepUrl\":\"\",\"videoWatchNum\":0,\"zaAdInfo\":\"CPGxigEQByIBMV2y9MROYNOPigE=\",\"zaAdInfoJson\":\"{\\\"ad_id\\\":2267377,\\\"ad_zone_id\\\":7,\\\"category\\\":\\\"1\\\",\\\"timestamp\\\":1652185300,\\\"creative_id\\\":2262995}\",\"externalClickUrl\":\"\",\"impressionTracks\":[\"https:\\u002F\\u002Fsugar.zhihu.com\\u002Fplutus_adreaper?nt=0&ut=45705d6745e14ca2aa7e8db26508061c&ar=0.00000000000000000005771331355475805&ed=CjEEeR4wM318R2NXBzYuUUYkW3sObm4meRN_BVQ2Lx1Ycgl-C3o7JntAMV8XMTYNXGNYI1x-aHJ4EmFQBnY8WVZ0Cn0PdmN5aEY7WgNiegJSfAxsWzdncGhGPVoAY30WCTUEewtyfCw7GGNXBmJ1A19yD2xNKmdyehU3XQVlKAoIIAh7AiJueHRBNlBTantTDXEDfFx1P3osFTFTFyQ_DVpzDHgJe29ydxF0BkZtfBYKMAR4CHRreFrMh9FOO70E&pdi=1592213720896474&pf=4&idi=100010066&tu=https%3A%2F%2Fwww.agora.io%2Fcn%2Fform%2Fleads%3Futm_source%3Dzhihu%26utm_medium%3Dcpc%26utm_campaign%3Dpc_form%26utm_term%3Dwenan%26utm_content%3Dsdk\"],\"clickTracks\":[\"https:\\u002F\\u002Fsugar.zhihu.com\\u002Fplutus_adreaper?pf=4&nt=0&idi=100010066&ar=0.00000000000000000005771331355475805&ed=CjEEfh4wM318R2NXBzYuUUYkW3sObm4meRN_BVQ2Lx1Ycgl-C3o7JntAMV8XMTYNXGNYI1x-aHJ4EmFQBnY8WVZ0Cn0PdmN5aEY7WgNiegJSfAxsWzdncGhGPVoAY30WCTUEewtyfCw7GGNXBmJ1A19yD2xNKmdyehU3XQVlKAoIIAh7AiJueHRBNlBTantTDXEDfFx1P3osFTFTFyQ_DVpzDHgJe29ydxF0BkZtfBYKMAR4CHRreJ6UhIxxy6xI&pdi=1592213720896474&ut=45705d6745e14ca2aa7e8db26508061c&tu=https%3A%2F%2Fwww.agora.io%2Fcn%2Fform%2Fleads%3Futm_source%3Dzhihu%26utm_medium%3Dcpc%26utm_campaign%3Dpc_form%26utm_term%3Dwenan%26utm_content%3Dsdk\"],\"id\":2267377,\"name\":\"\",\"conversionTracks\":[\"https:\\u002F\\u002Fsugar.zhihu.com\\u002Fplutus_adreaper?ed=CjEEfx4wM318R2NXBzYuUUYkW3sObm4meRN_BVQ2Lx1Ycgl-C3o7JntAMV8XMTYNXGNYI1x-aHJ4EmFQBnY8WVZ0Cn0PdmN5aEY7WgNiegJSfAxsWzdncGhGPVoAY30WCTUEewtyfCw7GGNXBmJ1A19yD2xNKmdyehU3XQVlKAoIIAh7AiJueHRBNlBTantTDXEDfFx1P3osFTFTFyQ_DVpzDHgJe29ydxF0BkZtfBYKMAR4CHRreOgItJap0lTg&ut=45705d6745e14ca2aa7e8db26508061c&ar=0.00000000000000000005771331355475805&nt=0&tu=https%3A%2F%2Fwww.agora.io%2Fcn%2Fform%2Fleads%3Futm_source%3Dzhihu%26utm_medium%3Dcpc%26utm_campaign%3Dpc_form%26utm_term%3Dwenan%26utm_content%3Dsdk&pdi=1592213720896474&pf=4&idi=100010066\"],\"contentType\":\"\",\"targetToken\":\"\"}],\"voteUpCount\":0,\"commentCount\":0,\"isFollowing\":false,\"category\":1,\"id\":2267377,\"canInteract\":false,\"userId\":0,\"ctr\":0,\"displayAdvertisingTag\":true,\"debugTracks\":[\"https:\\u002F\\u002Fsugar.zhihu.com\\u002Fplutus_adreaper?ut=45705d6745e14ca2aa7e8db26508061c&pdi=1592213720896474&ed=CjEEcx4wM318R2NXBzYuUUYkW3sObm4meRN_BVQ2Lx1Ycgl-C3o7JntAMV8XMTYNXGNYI1x-aHJ4EmFQBnY8WVZ0Cn0PdmN5aEY7WgNiegJSfAxsWzdncGhGPVoAY30WCTUEewtyfCw7GGNXBmJ1A19yD2xNKmdyehU3XQVlKAoIIAh7AiJueHRBNlBTantTDXEDfFx1P3osFTFTFyQ_DVpzDHgJe29ydxF0BkZtfBYKMAR4CHRreOQiEQ8JLxRQ&ar=0.00000000000000000005771331355475805&nt=0&tu=https%3A%2F%2Fwww.agora.io%2Fcn%2Fform%2Fleads%3Futm_source%3Dzhihu%26utm_medium%3Dcpc%26utm_campaign%3Dpc_form%26utm_term%3Dwenan%26utm_content%3Dsdk&pf=4&idi=100010066\"],\"landPrefetch\":false,\"nativePrefetch\":true,\"isNewWebview\":true,\"experimentInfo\":\"{}\",\"downloadSilent\":false,\"isSpeeding\":false,\"brand\":{\"name\":\"声网Agora SDK\",\"logo\":\"https:\\u002F\\u002Fpic3.zhimg.com\\u002Fv2-58d12009a81cb8978985d4ecfa55682f_xl.png?source=d6434cab\",\"type\":\"brand\",\"actionText\":\"\"}},\"adList\":[],\"adjson\":\"{\\\"ads\\\":[{\\\"id\\\":2267377,\\\"ad_zone_id\\\":7,\\\"template\\\":\\\"web_image_feed\\\",\\\"style\\\":\\\"psi_7\\\",\\\"impression_tracks\\\":[\\\"https:\\u002F\\u002Fsugar.zhihu.com\\u002Fplutus_adreaper?ar=0.00000000000000000005771331355475805\\\\u0026pf=4\\\\u0026ed=CjEEeB4wM318R2NXBzYuUUYkW3sObm4meRN_BVQ2Lx1Ycgl-C3o7JntAMV8XMTYNXGNYI1x-aHJ4EmFQBnY8WVZ0Cn0PdmN5aEY7WgNiegJSfAxsWzdncGhGPVoAY30WCTUEewtyfCw7GGNXBmJ1A19yD2xNKmdyehU3XQVlKAoIIAh7AiJueHRBNlBTantTDXEDfFx1P3osFTFTFyQ_DVpzDHgJe29ydxF0BkZtfBYKMAR4CHRreFVxd2a4q5Bz\\\\u0026nt=0\\\\u0026tu=https%3A%2F%2Fwww.agora.io%2Fcn%2Fform%2Fleads%3Futm_source%3Dzhihu%26utm_medium%3Dcpc%26utm_campaign%3Dpc_form%26utm_term%3Dwenan%26utm_content%3Dsdk\\\\u0026pdi=1592213720896474\\\\u0026idi=100010066\\\\u0026ut=45705d6745e14ca2aa7e8db26508061c\\\"],\\\"view_tracks\\\":[\\\"https:\\u002F\\u002Fsugar.zhihu.com\\u002Fplutus_adreaper?ut=45705d6745e14ca2aa7e8db26508061c\\\\u0026ar=0.00000000000000000005771331355475805\\\\u0026nt=0\\\\u0026ed=CjEEeR4wM318R2NXBzYuUUYkW3sObm4meRN_BVQ2Lx1Ycgl-C3o7JntAMV8XMTYNXGNYI1x-aHJ4EmFQBnY8WVZ0Cn0PdmN5aEY7WgNiegJSfAxsWzdncGhGPVoAY30WCTUEewtyfCw7GGNXBmJ1A19yD2xNKmdyehU3XQVlKAoIIAh7AiJueHRBNlBTantTDXEDfFx1P3osFTFTFyQ_DVpzDHgJe29ydxF0BkZtfBYKMAR4CHRreFrMh9FOO70E\\\\u0026tu=https%3A%2F%2Fwww.agora.io%2Fcn%2Fform%2Fleads%3Futm_source%3Dzhihu%26utm_medium%3Dcpc%26utm_campaign%3Dpc_form%26utm_term%3Dwenan%26utm_content%3Dsdk\\\\u0026pdi=1592213720896474\\\\u0026pf=4\\\\u0026idi=100010066\\\"],\\\"click_tracks\\\":[\\\"https:\\u002F\\u002Fsugar.zhihu.com\\u002Fplutus_adreaper?idi=100010066\\\\u0026pf=4\\\\u0026ed=CjEEfh4wM318R2NXBzYuUUYkW3sObm4meRN_BVQ2Lx1Ycgl-C3o7JntAMV8XMTYNXGNYI1x-aHJ4EmFQBnY8WVZ0Cn0PdmN5aEY7WgNiegJSfAxsWzdncGhGPVoAY30WCTUEewtyfCw7GGNXBmJ1A19yD2xNKmdyehU3XQVlKAoIIAh7AiJueHRBNlBTantTDXEDfFx1P3osFTFTFyQ_DVpzDHgJe29ydxF0BkZtfBYKMAR4CHRreJ6UhIxxy6xI\\\\u0026ar=0.00000000000000000005771331355475805\\\\u0026nt=0\\\\u0026tu=https%3A%2F%2Fwww.agora.io%2Fcn%2Fform%2Fleads%3Futm_source%3Dzhihu%26utm_medium%3Dcpc%26utm_campaign%3Dpc_form%26utm_term%3Dwenan%26utm_content%3Dsdk\\\\u0026pdi=1592213720896474\\\\u0026ut=45705d6745e14ca2aa7e8db26508061c\\\"],\\\"close_tracks\\\":[\\\"https:\\u002F\\u002Fsugar.zhihu.com\\u002Fplutus_adreaper?ut=45705d6745e14ca2aa7e8db26508061c\\\\u0026pdi=1592213720896474\\\\u0026nt=0\\\\u0026ar=0.00000000000000000005771331355475805\\\\u0026tu=https%3A%2F%2Fwww.agora.io%2Fcn%2Fform%2Fleads%3Futm_source%3Dzhihu%26utm_medium%3Dcpc%26utm_campaign%3Dpc_form%26utm_term%3Dwenan%26utm_content%3Dsdk\\\\u0026pf=4\\\\u0026idi=100010066\\\\u0026ed=CjEEfR4wM318R2NXBzYuUUYkW3sObm4meRN_BVQ2Lx1Ycgl-C3o7JntAMV8XMTYNXGNYI1x-aHJ4EmFQBnY8WVZ0Cn0PdmN5aEY7WgNiegJSfAxsWzdncGhGPVoAY30WCTUEewtyfCw7GGNXBmJ1A19yD2xNKmdyehU3XQVlKAoIIAh7AiJueHRBNlBTantTDXEDfFx1P3osFTFTFyQ_DVpzDHgJe29ydxF0BkZtfBYKMAR4CHRreOPpwsZkEM49\\\"],\\\"debug_tracks\\\":[\\\"https:\\u002F\\u002Fsugar.zhihu.com\\u002Fplutus_adreaper?pdi=1592213720896474\\\\u0026ar=0.00000000000000000005771331355475805\\\\u0026ed=CjEEcx4wM318R2NXBzYuUUYkW3sObm4meRN_BVQ2Lx1Ycgl-C3o7JntAMV8XMTYNXGNYI1x-aHJ4EmFQBnY8WVZ0Cn0PdmN5aEY7WgNiegJSfAxsWzdncGhGPVoAY30WCTUEewtyfCw7GGNXBmJ1A19yD2xNKmdyehU3XQVlKAoIIAh7AiJueHRBNlBTantTDXEDfFx1P3osFTFTFyQ_DVpzDHgJe29ydxF0BkZtfBYKMAR4CHRreOQiEQ8JLxRQ\\\\u0026pf=4\\\\u0026idi=100010066\\\\u0026ut=45705d6745e14ca2aa7e8db26508061c\\\\u0026nt=0\\\\u0026tu=https%3A%2F%2Fwww.agora.io%2Fcn%2Fform%2Fleads%3Futm_source%3Dzhihu%26utm_medium%3Dcpc%26utm_campaign%3Dpc_form%26utm_term%3Dwenan%26utm_content%3Dsdk\\\"],\\\"conversion_tracks\\\":[\\\"https:\\u002F\\u002Fsugar.zhihu.com\\u002Fplutus_adreaper?pf=4\\\\u0026ar=0.00000000000000000005771331355475805\\\\u0026ut=45705d6745e14ca2aa7e8db26508061c\\\\u0026idi=100010066\\\\u0026ed=CjEEfx4wM318R2NXBzYuUUYkW3sObm4meRN_BVQ2Lx1Ycgl-C3o7JntAMV8XMTYNXGNYI1x-aHJ4EmFQBnY8WVZ0Cn0PdmN5aEY7WgNiegJSfAxsWzdncGhGPVoAY30WCTUEewtyfCw7GGNXBmJ1A19yD2xNKmdyehU3XQVlKAoIIAh7AiJueHRBNlBTantTDXEDfFx1P3osFTFTFyQ_DVpzDHgJe29ydxF0BkZtfBYKMAR4CHRreOgItJap0lTg\\\\u0026pdi=1592213720896474\\\\u0026nt=0\\\\u0026tu=https%3A%2F%2Fwww.agora.io%2Fcn%2Fform%2Fleads%3Futm_source%3Dzhihu%26utm_medium%3Dcpc%26utm_campaign%3Dpc_form%26utm_term%3Dwenan%26utm_content%3Dsdk\\\"],\\\"extra_conversion_tracks\\\":{\\\"call_back\\\":[\\\"https:\\u002F\\u002Fsugar.zhihu.com\\u002Fplutus_adreaper_callback?si=2b106fba-ab16-4f76-befc-370439af5ec8\\\\u0026os=3\\\\u0026zid=7\\\\u0026zaid=2267377\\\\u0026zcid=2262995\\\\u0026cid=2262995\\\\u0026event=__EVENTTYPE__\\\\u0026value=__EVENTVALUE__\\\\u0026ts=__TIMESTAMP__\\\\u0026cts=__TS__\\\\u0026mh=1200652e3c53bd55c2f1e12d557afd31\\\"]},\\\"za_ad_info\\\":\\\"CPGxigEQByIBMV2y9MROYNOPigE=\\\",\\\"za_ad_info_json\\\":\\\"{\\\\\\\"ad_id\\\\\\\":2267377,\\\\\\\"ad_zone_id\\\\\\\":7,\\\\\\\"category\\\\\\\":\\\\\\\"1\\\\\\\",\\\\\\\"timestamp\\\\\\\":1652185300,\\\\\\\"creative_id\\\\\\\":2262995}\\\",\\\"creatives\\\":[{\\\"id\\\":2262995,\\\"asset\\\":{\\\"brand_name\\\":\\\"声网Agora SDK\\\",\\\"brand_logo\\\":\\\"https:\\u002F\\u002Fpic3.zhimg.com\\u002Fv2-58d12009a81cb8978985d4ecfa55682f_xl.png?source=d6434cab\\\",\\\"title\\\":\\\"一个实时音视频SDK，满足全场景社交需求，一键接入\\\",\\\"desc\\\":\\\"产品开发技术难度大、成本高、周期长？实时互动延迟高，用户体验差？声网实时音视频，API接口丰富，简单易用。支持百万人实时语音及视频互动。适用于各种场景需求，每月10000分钟免费使用\\\",\\\"imgs\\\":[\\\"https:\\u002F\\u002Fpic2.zhimg.com\\u002Fv2-8bf2e70107832f4907c26859076ae59d_bh.jpg?source=d6434cab\\\"],\\\"landing_url\\\":\\\"https:\\u002F\\u002Fwww.agora.io\\u002Fcn\\u002Fform\\u002Fleads?utm_source=zhihu\\\\u0026utm_medium=cpc\\\\u0026utm_campaign=pc_form\\\\u0026utm_term=wenan\\\\u0026utm_content=sdk\\\",\\\"img_size\\\":1,\\\"cta\\\":\\\"查看详情\\\",\\\"image_ratio_extra\\\":{\\\"width\\\":25,\\\"height\\\":14},\\\"native_asset\\\":{},\\\"img_full_screen\\\":false}}],\\\"expand\\\":{\\\"display_advertising_tag\\\":true,\\\"download_silent\\\":false,\\\"is_new_webview\\\":true,\\\"is_cdn_speeding\\\":false,\\\"extra\\\":{\\\"parameters\\\":\\\"plugcb=https%3A%2F%2Fsugar.zhihu.com%2Fplutus_adreaper_callback%3Fcid%3D2262995%26ccid%3D1377599%26adid%3D2267377%26zoneid%3D7%26adsource%3Deffect%26sid%3D2b106fba-ab16-4f76-befc-370439af5ec8\\\",\\\"sign\\\":\\\"2b106fba-ab16-4f76-befc-370439af5ec8\\\"},\\\"is_apk_market_direct\\\":false,\\\"interactive\\\":{\\\"deliver_time\\\":\\\"25 分钟前\\\",\\\"browse_string\\\":\\\"25.5 万\\\",\\\"participate_string\\\":\\\"154 \\\",\\\"slide_time_one\\\":3,\\\"slide_time_two\\\":10,\\\"slide_end\\\":true,\\\"deep_link_jump_time\\\":3}},\\\"experiment_info\\\":\\\"{}\\\",\\\"view_x_tracks\\\":[\\\"https:\\u002F\\u002Fsugar.zhihu.com\\u002Fplutus_adreaper?tu=https%3A%2F%2Fwww.agora.io%2Fcn%2Fform%2Fleads%3Futm_source%3Dzhihu%26utm_medium%3Dcpc%26utm_campaign%3Dpc_form%26utm_term%3Dwenan%26utm_content%3Dsdk\\\\u0026ar=0.00000000000000000005771331355475805\\\\u0026pf=4\\\\u0026idi=100010066\\\\u0026ut=45705d6745e14ca2aa7e8db26508061c\\\\u0026nt=0\\\\u0026ed=CjEEewhlKSlzFzBWAWYqUgpoWCgJdXd0KBJkSlM1KlNGdg56DHBjISgQNwQJdi1KVnIfK1EnZ3J8E2VUBmdqQAJ4CHkPdG95dwMxDgxifgZZfAB_HiAufX4DMQgMYX8BTSdJdwlwa2YiUG9WAWd-CVhxDnweNjN9fBFiAgtkeVRRJlx7CXk7dHYfNgMGMnYHCCMNcA4nbCV0R2IEBXY4Q1Z0D38KcmJ1fBxmQVAncQBNJEx3CnNtcXbYVHnHThK-kg%3D%3D\\\\u0026pdi=1592213720896474\\\"],\\\"mobile_experiment\\\":{\\\"ad_ali_tanx\\\":\\\"1\\\",\\\"ad_alibc_sdk\\\":\\\"1\\\",\\\"ad_and_newmorph\\\":\\\"0\\\",\\\"ad_bannerShow\\\":\\\"1\\\",\\\"ad_bannerView\\\":\\\"1\\\",\\\"ad_big_btn\\\":\\\"0\\\",\\\"ad_canvas_leak\\\":\\\"0\\\",\\\"ad_combine_hot\\\":\\\"1\\\",\\\"ad_combine_play\\\":\\\"1\\\",\\\"ad_comm_70\\\":\\\"0\\\",\\\"ad_dep_mac\\\":\\\"1\\\",\\\"ad_dw_leavepage\\\":\\\"10\\\",\\\"ad_dw_process\\\":\\\"0\\\",\\\"ad_dw_retry\\\":\\\"1\\\",\\\"ad_float_point\\\":\\\"1\\\",\\\"ad_focus_click\\\":\\\"1\\\",\\\"ad_follow\\\":\\\"0\\\",\\\"ad_inapp_skip\\\":\\\"0\\\",\\\"ad_info_video\\\":\\\"1\\\",\\\"ad_jump_toast\\\":\\\"0\\\",\\\"ad_markPlugin\\\":\\\"1\\\",\\\"ad_normal_tab\\\":\\\"1\\\",\\\"ad_offline\\\":\\\"0\\\",\\\"ad_pause_dialog\\\":\\\"0\\\",\\\"ad_pre_web\\\":\\\"1\\\",\\\"ad_privacy\\\":\\\"1\\\",\\\"ad_ps_ab\\\":\\\"0\\\",\\\"ad_pull_new\\\":\\\"0\\\",\\\"ad_resume_ab\\\":\\\"1\\\",\\\"ad_rmcode\\\":\\\"1\\\",\\\"ad_room_delete\\\":\\\"1\\\",\\\"ad_sdk_skip\\\":\\\"1\\\",\\\"ad_special\\\":\\\"1\\\",\\\"ad_special_new\\\":\\\"0\\\",\\\"ad_unify_player\\\":\\\"1\\\",\\\"ad_wake_lock\\\":\\\"0\\\",\\\"adx_verify\\\":\\\"1\\\",\\\"back_plugin\\\":\\\"1\\\",\\\"canvas_mp2wc\\\":\\\"2\\\",\\\"dd_send\\\":\\\"1\\\",\\\"diamond_city_rb\\\":\\\"0\\\",\\\"dsp_replace\\\":\\\"1\\\",\\\"feed_adv_new\\\":\\\"1\\\",\\\"h5canvas_load\\\":\\\"2\\\",\\\"ios_skip_btn\\\":\\\"0\\\",\\\"launch_ad_end\\\":\\\"0\\\",\\\"mark_plugin\\\":\\\"1\\\",\\\"notify_new\\\":\\\"1\\\",\\\"notify_page\\\":\\\"0\\\",\\\"outside_banner\\\":\\\"1\\\",\\\"pause_plugin\\\":\\\"1\\\",\\\"toast_off_ios\\\":\\\"1\\\"}}]}\",\"pcontent\":\"https:\\u002F\\u002Fwww.zhihu.com\\u002Fquestion\\u002F459392094\\u002Fanswer\\u002F2460294022\",\"ncontent\":\"https:\\u002F\\u002Fwww.zhihu.com\\u002Fquestion\\u002F393138556\\u002Fanswer\\u002F2475689884\",\"extInfo\":{\"contentType\":null,\"contentId\":null,\"questionId\":0,\"priority\":-1,\"ecpm\":-1,\"type\":0}}}},\"currentUser\":\"1200652e3c53bd55c2f1e12d557afd31\",\"account\":{\"lockLevel\":{},\"unlockTicketStatus\":false,\"unlockTicket\":null,\"challenge\":[],\"errorStatus\":false,\"message\":\"\",\"isFetching\":false,\"accountInfo\":{},\"urlToken\":{\"loading\":false},\"cardUserInfo\":{\"vipInfo\":{}},\"handleWidget\":{},\"widgetList\":[],\"userWidgetId\":\"\"},\"settings\":{\"socialBind\":null,\"inboxMsg\":null,\"notification\":{},\"email\":{},\"privacyFlag\":null,\"blockedUsers\":{\"isFetching\":false,\"paging\":{\"pageNo\":1,\"pageSize\":6},\"data\":[]},\"blockedFollowees\":{\"isFetching\":false,\"paging\":{\"pageNo\":1,\"pageSize\":6},\"data\":[]},\"ignoredTopics\":{\"isFetching\":false,\"paging\":{\"pageNo\":1,\"pageSize\":6},\"data\":[]},\"restrictedTopics\":null,\"laboratory\":{}},\"notification\":{},\"people\":{\"profileStatus\":{},\"activitiesByUser\":{},\"answersByUser\":{},\"answersSortByVotesByUser\":{},\"answersIncludedByUser\":{},\"votedAnswersByUser\":{},\"thankedAnswersByUser\":{},\"voteAnswersByUser\":{},\"thankAnswersByUser\":{},\"topicAnswersByUser\":{},\"zvideosByUser\":{},\"articlesByUser\":{},\"articlesSortByVotesByUser\":{},\"articlesIncludedByUser\":{},\"pinsByUser\":{},\"questionsByUser\":{},\"commercialQuestionsByUser\":{},\"favlistsByUser\":{},\"followingByUser\":{},\"followersByUser\":{},\"mutualsByUser\":{},\"followingColumnsByUser\":{},\"followingQuestionsByUser\":{},\"followingFavlistsByUser\":{},\"followingTopicsByUser\":{},\"publicationsByUser\":{},\"columnsByUser\":{},\"allFavlistsByUser\":{},\"brands\":null,\"creationsByUser\":{},\"creationsSortByVotesByUser\":{},\"creationsFeed\":{},\"infinity\":{},\"batchUsers\":{},\"profileInfinity\":null},\"env\":{\"ab\":{\"config\":{\"experiments\":[{\"expId\":\"launch-qa_column_invite-2\",\"expPrefix\":\"qa_column_invite\",\"isDynamicallyUpdated\":true,\"isRuntime\":false,\"includeTriggerInfo\":false},{\"expId\":\"launch-vd_ios_play-10\",\"expPrefix\":\"vd_ios_play\",\"isDynamicallyUpdated\":true,\"isRuntime\":false,\"includeTriggerInfo\":false},{\"expId\":\"launch-vd_timeguide-2\",\"expPrefix\":\"vd_timeguide\",\"isDynamicallyUpdated\":true,\"isRuntime\":false,\"includeTriggerInfo\":false},{\"expId\":\"launch-vd_video_replay-3\",\"expPrefix\":\"vd_video_replay\",\"isDynamicallyUpdated\":true,\"isRuntime\":false,\"includeTriggerInfo\":false},{\"expId\":\"launch-vdox_cmt-2\",\"expPrefix\":\"vdox_cmt\",\"isDynamicallyUpdated\":false,\"isRuntime\":false,\"includeTriggerInfo\":false},{\"expId\":\"launch-hwtj_bottom_btn-4\",\"expPrefix\":\"hwtj_bottom_btn\",\"isDynamicallyUpdated\":false,\"isRuntime\":false,\"includeTriggerInfo\":false},{\"expId\":\"launch-gerenye_tab-2\",\"expPrefix\":\"gerenye_tab\",\"isDynamicallyUpdated\":false,\"isRuntime\":false,\"includeTriggerInfo\":false},{\"expId\":\"launch-valuable_label-3\",\"expPrefix\":\"valuable_label\",\"isDynamicallyUpdated\":false,\"isRuntime\":false,\"includeTriggerInfo\":false},{\"expId\":\"launch-pc_editor_md-2\",\"expPrefix\":\"pc_editor_md\",\"isDynamicallyUpdated\":false,\"isRuntime\":false,\"includeTriggerInfo\":false},{\"expId\":\"launch-recnew_2th-3\",\"expPrefix\":\"recnew_2th\",\"isDynamicallyUpdated\":false,\"isRuntime\":false,\"includeTriggerInfo\":false},{\"expId\":\"qa_np-2\",\"expPrefix\":\"qa_np\",\"isDynamicallyUpdated\":true,\"isRuntime\":false,\"includeTriggerInfo\":false},{\"expId\":\"qa_recmessa-1\",\"expPrefix\":\"qa_recmessa\",\"isDynamicallyUpdated\":true,\"isRuntime\":false,\"includeTriggerInfo\":false},{\"expId\":\"editor-2_v5\",\"expPrefix\":\"editor\",\"isDynamicallyUpdated\":false,\"isRuntime\":false,\"includeTriggerInfo\":false},{\"expId\":\"use_bff_profit-1_v7\",\"expPrefix\":\"use_bff_profit\",\"isDynamicallyUpdated\":false,\"isRuntime\":false,\"includeTriggerInfo\":false},{\"expId\":\"PCplayingspeed-2_v3\",\"expPrefix\":\"PCplayingspeed\",\"isDynamicallyUpdated\":false,\"isRuntime\":false,\"includeTriggerInfo\":false},{\"expId\":\"pc_fullsize-3_v5\",\"expPrefix\":\"pc_fullsize\",\"isDynamicallyUpdated\":false,\"isRuntime\":false,\"includeTriggerInfo\":false},{\"expId\":\"pc_ppt_publish-2_v2\",\"expPrefix\":\"pc_ppt_publish\",\"isDynamicallyUpdated\":false,\"isRuntime\":false,\"includeTriggerInfo\":false},{\"expId\":\"message_type-2_v4\",\"expPrefix\":\"message_type\",\"isDynamicallyUpdated\":false,\"isRuntime\":false,\"includeTriggerInfo\":false},{\"expId\":\"v_upl_config-2_v10\",\"expPrefix\":\"v_upl_config\",\"isDynamicallyUpdated\":false,\"isRuntime\":false,\"includeTriggerInfo\":false},{\"expId\":\"waiting_for_you-2_v5\",\"expPrefix\":\"waiting_for_you\",\"isDynamicallyUpdated\":false,\"isRuntime\":false,\"includeTriggerInfo\":false},{\"expId\":\"pcdrama_shuiyin-2_v1\",\"expPrefix\":\"pcdrama_shuiyin\",\"isDynamicallyUpdated\":false,\"isRuntime\":false,\"includeTriggerInfo\":false},{\"expId\":\"waiting_answer-2_v1\",\"expPrefix\":\"waiting_answer\",\"isDynamicallyUpdated\":false,\"isRuntime\":false,\"includeTriggerInfo\":false},{\"expId\":\"CC_resolution-1_v16\",\"expPrefix\":\"CC_resolution\",\"isDynamicallyUpdated\":false,\"isRuntime\":false,\"includeTriggerInfo\":false},{\"expId\":\"titlepagechoose-1_v3\",\"expPrefix\":\"titlepagechoose\",\"isDynamicallyUpdated\":false,\"isRuntime\":false,\"includeTriggerInfo\":false},{\"expId\":\"helpcenter_pc-2_v4\",\"expPrefix\":\"helpcenter_pc\",\"isDynamicallyUpdated\":false,\"isRuntime\":false,\"includeTriggerInfo\":false},{\"expId\":\"meta_ebook-2_v2\",\"expPrefix\":\"meta_ebook\",\"isDynamicallyUpdated\":false,\"isRuntime\":false,\"includeTriggerInfo\":false},{\"expId\":\"webpImg-1_v3\",\"expPrefix\":\"webpImg\",\"isDynamicallyUpdated\":false,\"isRuntime\":false,\"includeTriggerInfo\":false},{\"expId\":\"launch_consult-1_v2\",\"expPrefix\":\"launch_consult\",\"isDynamicallyUpdated\":false,\"isRuntime\":false,\"includeTriggerInfo\":false},{\"expId\":\"explore_fl_pic-2_v1\",\"expPrefix\":\"explore_fl_pic\",\"isDynamicallyUpdated\":false,\"isRuntime\":false,\"includeTriggerInfo\":false},{\"expId\":\"ans_keyword-3_v5\",\"expPrefix\":\"ans_keyword\",\"isDynamicallyUpdated\":false,\"isRuntime\":false,\"includeTriggerInfo\":false},{\"expId\":\"help_center-2_v6\",\"expPrefix\":\"help_center\",\"isDynamicallyUpdated\":false,\"isRuntime\":false,\"includeTriggerInfo\":false},{\"expId\":\"videoedit_v1-2_v6\",\"expPrefix\":\"videoedit_v1\",\"isDynamicallyUpdated\":false,\"isRuntime\":false,\"includeTriggerInfo\":false},{\"expId\":\"fixed_layer-4_v1\",\"expPrefix\":\"fixed_layer\",\"isDynamicallyUpdated\":false,\"isRuntime\":false,\"includeTriggerInfo\":false},{\"expId\":\"ans_qus_uncircl-2_v4\",\"expPrefix\":\"ans_qus_uncircl\",\"isDynamicallyUpdated\":false,\"isRuntime\":false,\"includeTriggerInfo\":false},{\"expId\":\"svip_buy_card-2_v7\",\"expPrefix\":\"svip_buy_card\",\"isDynamicallyUpdated\":false,\"isRuntime\":false,\"includeTriggerInfo\":false},{\"expId\":\"Profile_F-3_v7\",\"expPrefix\":\"Profile_F\",\"isDynamicallyUpdated\":false,\"isRuntime\":false,\"includeTriggerInfo\":false},{\"expId\":\"rec_new2th-2_v4\",\"expPrefix\":\"rec_new2th\",\"isDynamicallyUpdated\":false,\"isRuntime\":false,\"includeTriggerInfo\":false},{\"expId\":\"hw_aa_30-3_v2\",\"expPrefix\":\"hw_aa_30\",\"isDynamicallyUpdated\":false,\"isRuntime\":false,\"includeTriggerInfo\":false},{\"expId\":\"hw_aa_50-1_v1\",\"expPrefix\":\"hw_aa_50\",\"isDynamicallyUpdated\":false,\"isRuntime\":false,\"includeTriggerInfo\":false},{\"expId\":\"ad_com_zhi-2_v3\",\"expPrefix\":\"ad_com_zhi\",\"isDynamicallyUpdated\":false,\"isRuntime\":false,\"includeTriggerInfo\":false},{\"expId\":\"test_3-2_v2\",\"expPrefix\":\"test_3\",\"isDynamicallyUpdated\":false,\"isRuntime\":false,\"includeTriggerInfo\":false},{\"expId\":\"rec_3th-3_v3\",\"expPrefix\":\"rec_3th\",\"isDynamicallyUpdated\":false,\"isRuntime\":false,\"includeTriggerInfo\":false},{\"expId\":\"se_zhiplus_cpc-7_v5\",\"expPrefix\":\"se_zhiplus_cpc\",\"isDynamicallyUpdated\":false,\"isRuntime\":false,\"includeTriggerInfo\":false},{\"expId\":\"account_sdk-2_v39\",\"expPrefix\":\"account_sdk\",\"isDynamicallyUpdated\":false,\"isRuntime\":false,\"includeTriggerInfo\":false},{\"expId\":\"explore_newbee-2_v2\",\"expPrefix\":\"explore_newbee\",\"isDynamicallyUpdated\":false,\"isRuntime\":false,\"includeTriggerInfo\":false},{\"expId\":\"se_financial-3_v16\",\"expPrefix\":\"se_financial\",\"isDynamicallyUpdated\":false,\"isRuntime\":false,\"includeTriggerInfo\":false},{\"expId\":\"i_choosy-5_v14\",\"expPrefix\":\"i_choosy\",\"isDynamicallyUpdated\":false,\"isRuntime\":false,\"includeTriggerInfo\":false},{\"expId\":\"a_choosy-5_v8\",\"expPrefix\":\"a_choosy\",\"isDynamicallyUpdated\":false,\"isRuntime\":false,\"includeTriggerInfo\":false},{\"expId\":\"share_content-6_v9\",\"expPrefix\":\"share_content\",\"isDynamicallyUpdated\":false,\"isRuntime\":false,\"includeTriggerInfo\":false},{\"expId\":\"se_v_rescore_ab-4_v23\",\"expPrefix\":\"se_v_rescore_ab\",\"isDynamicallyUpdated\":false,\"isRuntime\":false,\"includeTriggerInfo\":false},{\"expId\":\"se_must_rank-1_v6\",\"expPrefix\":\"se_must_rank\",\"isDynamicallyUpdated\":false,\"isRuntime\":false,\"includeTriggerInfo\":false},{\"expId\":\"se_shopguide-4_v4\",\"expPrefix\":\"se_shopguide\",\"isDynamicallyUpdated\":false,\"isRuntime\":false,\"includeTriggerInfo\":false},{\"expId\":\"se_must_rerank-1_v6\",\"expPrefix\":\"se_must_rerank\",\"isDynamicallyUpdated\":false,\"isRuntime\":false,\"includeTriggerInfo\":false},{\"expId\":\"se_searchfilter-3_v5\",\"expPrefix\":\"se_searchfilter\",\"isDynamicallyUpdated\":false,\"isRuntime\":false,\"includeTriggerInfo\":false},{\"expId\":\"se_edu_model-14_v27\",\"expPrefix\":\"se_edu_model\",\"isDynamicallyUpdated\":false,\"isRuntime\":false,\"includeTriggerInfo\":false},{\"expId\":\"se_scholarcard-5_v10\",\"expPrefix\":\"se_scholarcard\",\"isDynamicallyUpdated\":false,\"isRuntime\":false,\"includeTriggerInfo\":false},{\"expId\":\"se_scholartab-3_v1\",\"expPrefix\":\"se_scholartab\",\"isDynamicallyUpdated\":false,\"isRuntime\":false,\"includeTriggerInfo\":false},{\"expId\":\"se_zhiplus_sim-12_v49\",\"expPrefix\":\"se_zhiplus_sim\",\"isDynamicallyUpdated\":false,\"isRuntime\":false,\"includeTriggerInfo\":false},{\"expId\":\"self_operation-1_v4\",\"expPrefix\":\"self_operation\",\"isDynamicallyUpdated\":false,\"isRuntime\":false,\"includeTriggerInfo\":false},{\"expId\":\"cardloading-3_v4\",\"expPrefix\":\"cardloading\",\"isDynamicallyUpdated\":false,\"isRuntime\":false,\"includeTriggerInfo\":false},{\"expId\":\"answercard-1_v3\",\"expPrefix\":\"answercard\",\"isDynamicallyUpdated\":false,\"isRuntime\":false,\"includeTriggerInfo\":false},{\"expId\":\"se_zhiplus_pre2-10_v47\",\"expPrefix\":\"se_zhiplus_pre2\",\"isDynamicallyUpdated\":false,\"isRuntime\":false,\"includeTriggerInfo\":false},{\"expId\":\"a_vdtab_algload-3_v4\",\"expPrefix\":\"a_vdtab_algload\",\"isDynamicallyUpdated\":false,\"isRuntime\":false,\"includeTriggerInfo\":false},{\"expId\":\"i_vdtab_algload-3_v4\",\"expPrefix\":\"i_vdtab_algload\",\"isDynamicallyUpdated\":false,\"isRuntime\":false,\"includeTriggerInfo\":false},{\"expId\":\"rec_pin_opt-10_v17\",\"expPrefix\":\"rec_pin_opt\",\"isDynamicallyUpdated\":false,\"isRuntime\":false,\"includeTriggerInfo\":false},{\"expId\":\"se_zhi_plus-5_v15\",\"expPrefix\":\"se_zhi_plus\",\"isDynamicallyUpdated\":false,\"isRuntime\":false,\"includeTriggerInfo\":false},{\"expId\":\"se_article-7_v7\",\"expPrefix\":\"se_article\",\"isDynamicallyUpdated\":false,\"isRuntime\":false,\"includeTriggerInfo\":false},{\"expId\":\"creator_manage-3_v3\",\"expPrefix\":\"creator_manage\",\"isDynamicallyUpdated\":false,\"isRuntime\":false,\"includeTriggerInfo\":false},{\"expId\":\"se_time_box-4_v6\",\"expPrefix\":\"se_time_box\",\"isDynamicallyUpdated\":false,\"isRuntime\":false,\"includeTriggerInfo\":false},{\"expId\":\"se_lct_q-2_v3\",\"expPrefix\":\"se_lct_q\",\"isDynamicallyUpdated\":false,\"isRuntime\":false,\"includeTriggerInfo\":false},{\"expId\":\"se_contentpool-1_v4\",\"expPrefix\":\"se_contentpool\",\"isDynamicallyUpdated\":false,\"isRuntime\":false,\"includeTriggerInfo\":false},{\"expId\":\"se_mix_opt-1_v9\",\"expPrefix\":\"se_mix_opt\",\"isDynamicallyUpdated\":false,\"isRuntime\":false,\"includeTriggerInfo\":false},{\"expId\":\"se_rel_zp-3_v13\",\"expPrefix\":\"se_rel_zp\",\"isDynamicallyUpdated\":false,\"isRuntime\":false,\"includeTriggerInfo\":false}],\"params\":[{\"id\":\"pc_zvideo_card\",\"type\":\"Int\",\"value\":\"0\",\"layerId\":\"pc_zvideo_card\"},{\"id\":\"ans_qus_uncircl\",\"type\":\"Int\",\"value\":\"1\",\"layerId\":\"3G4h\"},{\"id\":\"a_vdtab_algload\",\"type\":\"Int\",\"value\":\"2\",\"chainId\":\"_gene_\",\"layerId\":\"a_vdtab_algload\",\"key\":2012},{\"id\":\"tp_topic_style\",\"type\":\"String\",\"value\":\"0\",\"chainId\":\"_all_\",\"layerId\":\"tptp_layer_4\"},{\"id\":\"v_upl_config\",\"type\":\"Int\",\"value\":\"1\",\"layerId\":\"LFDy\"},{\"id\":\"help_center\",\"type\":\"Int\",\"value\":\"1\",\"layerId\":\"help_center\"},{\"id\":\"se_zp_termsize\",\"type\":\"Int\",\"value\":\"0\",\"chainId\":\"_gene_\",\"layerId\":\"se_zp_termsize\",\"key\":2305},{\"id\":\"web_column_auto_invite\",\"type\":\"String\",\"value\":\"1\",\"layerId\":\"webqa_layer_1\"},{\"id\":\"vdox_cmt\",\"type\":\"Int\",\"value\":\"1\",\"layerId\":\"l-9YBb\"},{\"id\":\"an_video_tab\",\"type\":\"Int\",\"value\":\"0\",\"chainId\":\"_gene_\",\"layerId\":\"an_video_tab\",\"key\":727},{\"id\":\"test_rec\",\"type\":\"Int\",\"value\":\"10\",\"layerId\":\"test_rec\"},{\"id\":\"self_operation\",\"type\":\"Int\",\"value\":\"0\",\"chainId\":\"_gene_\",\"layerId\":\"ksLT\",\"key\":1698},{\"id\":\"se_stability\",\"type\":\"Int\",\"value\":\"0\",\"chainId\":\"_gene_\",\"layerId\":\"MEoP\",\"key\":2661},{\"id\":\"se_ffzx_jushen1\",\"type\":\"String\",\"value\":\"0\",\"chainId\":\"_all_\",\"layerId\":\"sese_layer_4\"},{\"id\":\"web_answerlist_ad\",\"type\":\"String\",\"value\":\"0\",\"layerId\":\"webqa_layer_1\"},{\"id\":\"ge_dipin_pre\",\"type\":\"String\",\"value\":\"0\",\"chainId\":\"_gene_\",\"layerId\":\"gese_layer_1000\",\"key\":3124},{\"id\":\"ge_infinity6\",\"type\":\"String\",\"value\":\"0\",\"chainId\":\"_gene_\",\"layerId\":\"gese_layer_815\",\"key\":2817},{\"id\":\"ge_newcard\",\"type\":\"String\",\"value\":\"3\",\"chainId\":\"_gene_\",\"layerId\":\"geus_layer_839\",\"key\":2997},{\"id\":\"use_bff_profit\",\"type\":\"Int\",\"value\":\"0\",\"layerId\":\"use_bff_profit\"},{\"id\":\"waiting_for_you\",\"type\":\"Int\",\"value\":\"40\",\"layerId\":\"jVyK\"},{\"id\":\"gue_repost\",\"type\":\"String\",\"value\":\"1\",\"layerId\":\"gueqa_layer_671\"},{\"id\":\"web_collection_guest\",\"type\":\"String\",\"value\":\"0\",\"layerId\":\"webqa_layer_4\"},{\"id\":\"ts_cardtitle\",\"type\":\"Int\",\"value\":\"0\",\"layerId\":\"l-ZED7\"},{\"id\":\"short_pin\",\"type\":\"Int\",\"value\":\"0\",\"layerId\":\"short_pin\"},{\"id\":\"hw_aa_50\",\"type\":\"Int\",\"value\":\"0\",\"chainId\":\"_gene_\",\"layerId\":\"hw_aa_50\",\"key\":362},{\"id\":\"answer_keyword\",\"type\":\"Int\",\"value\":\"0\",\"layerId\":\"answer_keyword\"},{\"id\":\"qa_ques_vcardgd\",\"type\":\"Int\",\"value\":\"0\",\"chainId\":\"_gene_\",\"layerId\":\"s4zc\",\"key\":2164},{\"id\":\"search_kaoyan\",\"type\":\"Int\",\"value\":\"0\",\"chainId\":\"_gene_\",\"layerId\":\"search_kaoyan\",\"key\":2388},{\"id\":\"ge_sug_rep\",\"type\":\"String\",\"value\":\"1\",\"chainId\":\"_gene_\",\"layerId\":\"gese_layer_1034\",\"key\":3158},{\"id\":\"ge_sxzx\",\"type\":\"String\",\"value\":\"0\",\"chainId\":\"_gene_\",\"layerId\":\"gere_layer_990\",\"key\":3060},{\"id\":\"RelatedSearchAB\",\"type\":\"Int\",\"value\":\"0\",\"chainId\":\"_gene_\",\"layerId\":\"DqZ2\",\"key\":2322},{\"id\":\"se_paid_rank\",\"type\":\"Int\",\"value\":\"0\",\"chainId\":\"_gene_\",\"layerId\":\"GqfH\",\"key\":2564},{\"id\":\"gue_card_test\",\"type\":\"String\",\"value\":\"1\",\"layerId\":\"gueqa_layer_2\"},{\"id\":\"i_choosy\",\"type\":\"Int\",\"value\":\"4\",\"chainId\":\"_gene_\",\"layerId\":\"i_choosy\",\"key\":1164},{\"id\":\"gue_video_guide\",\"type\":\"String\",\"value\":\"1\",\"layerId\":\"guevd_layer_625\"},{\"id\":\"qap_question_author\",\"type\":\"String\",\"value\":\"0\",\"chainId\":\"_all_\",\"layerId\":\"qapqa_layer_2\"},{\"id\":\"tp_dingyue_video\",\"type\":\"String\",\"value\":\"0\",\"chainId\":\"_all_\",\"layerId\":\"tptp_layer_4\"},{\"id\":\"qa_ques_revion1\",\"type\":\"Int\",\"value\":\"0\",\"chainId\":\"_gene_\",\"layerId\":\"qa_ques_revion1\",\"key\":2266},{\"id\":\"web_login\",\"type\":\"String\",\"value\":\"0\",\"layerId\":\"webgw_layer_759\"},{\"id\":\"se_rel_val\",\"type\":\"Int\",\"value\":\"0\",\"chainId\":\"_gene_\",\"layerId\":\"Oqjf\",\"key\":2245},{\"id\":\"qa_test_cid1\",\"type\":\"Int\",\"value\":\"0\",\"chainId\":\"_gene_\",\"layerId\":\"qa_test_cid1\",\"key\":2499},{\"id\":\"pop_recom\",\"type\":\"Int\",\"value\":\"1\",\"chainId\":\"_gene_\",\"layerId\":\"pop_recom\",\"key\":2377},{\"id\":\"se_contentpool\",\"type\":\"Int\",\"value\":\"0\",\"chainId\":\"_gene_\",\"layerId\":\"me9f\",\"key\":2475},{\"id\":\"qa_test_cid8\",\"type\":\"Int\",\"value\":\"0\",\"chainId\":\"_gene_\",\"layerId\":\"cFgm\",\"key\":2506},{\"id\":\"iserial\",\"type\":\"Int\",\"value\":\"0\",\"chainId\":\"_gene_\",\"layerId\":\"iserial\",\"key\":928},{\"id\":\"se_simclick\",\"type\":\"Int\",\"value\":\"0\",\"chainId\":\"_gene_\",\"layerId\":\"se_simclick\",\"key\":1507},{\"id\":\"feed_card\",\"type\":\"Int\",\"value\":\"0\",\"chainId\":\"_gene_\",\"layerId\":\"feed_card\",\"key\":2262},{\"id\":\"club_fn\",\"type\":\"Int\",\"value\":\"1\",\"layerId\":\"club_fn\"},{\"id\":\"ge_usercard1\",\"type\":\"String\",\"value\":\"0\",\"chainId\":\"_gene_\",\"layerId\":\"gese_layer_742\",\"key\":2740},{\"id\":\"editor\",\"type\":\"Int\",\"value\":\"1\",\"layerId\":\"editor\"},{\"id\":\"new_video_ans\",\"type\":\"Int\",\"value\":\"0\",\"chainId\":\"_gene_\",\"layerId\":\"new_video_ans\",\"key\":1419},{\"id\":\"creator_manage\",\"type\":\"Int\",\"value\":\"2\",\"chainId\":\"_gene_\",\"layerId\":\"creator_manage\",\"key\":2400},{\"id\":\"preset_mix\",\"type\":\"Int\",\"value\":\"0\",\"chainId\":\"_gene_\",\"layerId\":\"bTHv\",\"key\":2603},{\"id\":\"gue_art_ui\",\"type\":\"String\",\"value\":\"0\",\"layerId\":\"gueqa_layer_647\"},{\"id\":\"se_pa_esmm\",\"type\":\"Int\",\"value\":\"0\",\"chainId\":\"_gene_\",\"layerId\":\"se_pa_esmm\",\"key\":1831},{\"id\":\"se_zhiplus_pre2\",\"type\":\"Int\",\"value\":\"4\",\"chainId\":\"_gene_\",\"layerId\":\"Yo1h\",\"key\":1970},{\"id\":\"se_mix_n2\",\"type\":\"Int\",\"value\":\"0\",\"chainId\":\"_gene_\",\"layerId\":\"se_mix_n2\",\"key\":2326},{\"id\":\"PCplayingspeed\",\"type\":\"Int\",\"value\":\"1\",\"layerId\":\"PCplayingspeed\"},{\"id\":\"hw_aa_30\",\"type\":\"Int\",\"value\":\"2\",\"chainId\":\"_gene_\",\"layerId\":\"hw_aa_30\",\"key\":361},{\"id\":\"tp_contents\",\"type\":\"String\",\"value\":\"2\",\"chainId\":\"_all_\",\"layerId\":\"tptp_layer_627\"},{\"id\":\"explore_b\",\"type\":\"Int\",\"value\":\"0\",\"chainId\":\"_gene_\",\"layerId\":\"explore_b\",\"key\":1257},{\"id\":\"se_convbox\",\"type\":\"Int\",\"value\":\"0\",\"chainId\":\"_gene_\",\"layerId\":\"tLUl\",\"key\":1771},{\"id\":\"qa_test_cid5\",\"type\":\"Int\",\"value\":\"0\",\"chainId\":\"_gene_\",\"layerId\":\"bJhh\",\"key\":2503},{\"id\":\"answercard\",\"type\":\"Int\",\"value\":\"0\",\"chainId\":\"_gene_\",\"layerId\":\"answercard\",\"key\":1947},{\"id\":\"edu_i_off_ab\",\"type\":\"Int\",\"value\":\"0\",\"chainId\":\"_gene_\",\"layerId\":\"edu_i_off_ab\",\"key\":2166},{\"id\":\"gue_bulletmb\",\"type\":\"String\",\"value\":\"0\",\"layerId\":\"guevd_layer_812\"},{\"id\":\"square\",\"type\":\"Int\",\"value\":\"0\",\"layerId\":\"square\"},{\"id\":\"io_video_tab\",\"type\":\"Int\",\"value\":\"0\",\"chainId\":\"_gene_\",\"layerId\":\"io_video_tab\",\"key\":728},{\"id\":\"se_article_c5\",\"type\":\"Int\",\"value\":\"0\",\"chainId\":\"_gene_\",\"layerId\":\"lKmd\",\"key\":2529},{\"id\":\"next_autoplay\",\"type\":\"Int\",\"value\":\"0\",\"layerId\":\"l-next_autoplay\"},{\"id\":\"card_ctr01\",\"type\":\"Int\",\"value\":\"0\",\"layerId\":\"card_ctr01\"},{\"id\":\"qa_recmd_zvideo\",\"type\":\"Int\",\"value\":\"0\",\"chainId\":\"_gene_\",\"layerId\":\"fzT4\",\"key\":1190},{\"id\":\"qap_question_visitor\",\"type\":\"String\",\"value\":\" 0\",\"chainId\":\"_all_\",\"layerId\":\"qapqa_layer_2\"},{\"id\":\"se_paidanswer\",\"type\":\"Int\",\"value\":\"0\",\"chainId\":\"_gene_\",\"layerId\":\"9TVe\",\"key\":2169},{\"id\":\"ge_item\",\"type\":\"String\",\"value\":\"2\",\"chainId\":\"_gene_\",\"layerId\":\"gese_layer_945\",\"key\":2971},{\"id\":\"gue_andplayd\",\"type\":\"String\",\"value\":\"0\",\"layerId\":\"guevd_layer_686\"},{\"id\":\"video_point\",\"type\":\"Int\",\"value\":\"0\",\"layerId\":\"l-video_point\"},{\"id\":\"ge_hard_s_ma\",\"type\":\"String\",\"value\":\"0\",\"chainId\":\"_gene_\",\"layerId\":\"geli_layer_856\",\"key\":3031},{\"id\":\"gue_messrec\",\"type\":\"String\",\"value\":\"1\",\"layerId\":\"gueqa_layer_769\"},{\"id\":\"video_point2\",\"type\":\"Int\",\"value\":\"0\",\"layerId\":\"l-video_point2\"},{\"id\":\"a_choosy\",\"type\":\"Int\",\"value\":\"4\",\"chainId\":\"_gene_\",\"layerId\":\"a_choosy\",\"key\":1165},{\"id\":\"se_vertical_new\",\"type\":\"Int\",\"value\":\"0\",\"chainId\":\"_gene_\",\"layerId\":\"se_vertical_new\",\"key\":2343},{\"id\":\"gue_bullet_second\",\"type\":\"String\",\"value\":\"1\",\"layerId\":\"guevd_layer_1\"},{\"id\":\"Message_3\",\"type\":\"Int\",\"value\":\"0\",\"chainId\":\"_gene_\",\"layerId\":\"Message_3\",\"key\":2370},{\"id\":\"ecc\",\"type\":\"Int\",\"value\":\"0\",\"chainId\":\"_gene_\",\"layerId\":\"jjmY\",\"key\":2436},{\"id\":\"private_vanswer\",\"type\":\"Int\",\"value\":\"0\",\"chainId\":\"_gene_\",\"layerId\":\"private_vanswer\",\"key\":951},{\"id\":\"feed_module\",\"type\":\"Int\",\"value\":\"0\",\"chainId\":\"_gene_\",\"layerId\":\"feed_module\",\"key\":2528},{\"id\":\"se_edu_offline\",\"type\":\"Int\",\"value\":\"1\",\"chainId\":\"_gene_\",\"layerId\":\"se_edu_offline\",\"key\":2692},{\"id\":\"qa_test_cid6\",\"type\":\"Int\",\"value\":\"0\",\"chainId\":\"_gene_\",\"layerId\":\"Py43\",\"key\":2504},{\"id\":\"search_keyan\",\"type\":\"Int\",\"value\":\"0\",\"chainId\":\"_gene_\",\"layerId\":\"search_keyan\",\"key\":2533},{\"id\":\"hwtj_bottom_btn\",\"type\":\"Int\",\"value\":\"4\",\"layerId\":\"l-jrhg\"},{\"id\":\"pfd_newbie\",\"type\":\"Int\",\"value\":\"0\",\"chainId\":\"_gene_\",\"layerId\":\"pfd_newbie\",\"key\":63},{\"id\":\"se_must_rank\",\"type\":\"Int\",\"value\":\"0\",\"chainId\":\"_gene_\",\"layerId\":\"nF45\",\"key\":1331},{\"id\":\"gue_recmess\",\"type\":\"String\",\"value\":\"0\",\"layerId\":\"gueqa_layer_795\"},{\"id\":\"recnew_2th\",\"type\":\"Int\",\"value\":\"21\",\"chainId\":\"_gene_\",\"layerId\":\"l-recnew_2th\",\"key\":67},{\"id\":\"se_shopguide\",\"type\":\"Int\",\"value\":\"1\",\"chainId\":\"_gene_\",\"layerId\":\"se_shopguide\",\"key\":1361},{\"id\":\"se_v_recency_ab\",\"type\":\"Int\",\"value\":\"0\",\"chainId\":\"_gene_\",\"layerId\":\"se_v_recency_ab\",\"key\":1662},{\"id\":\"meta_ebook\",\"type\":\"Int\",\"value\":\"1\",\"layerId\":\"meta_ebook\"},{\"id\":\"ge_newbie3\",\"type\":\"Int\",\"value\":\"0\",\"chainId\":\"_gene_\",\"layerId\":\"ge_newbie3\",\"key\":180},{\"id\":\"rec_pin_opt\",\"type\":\"Int\",\"value\":\"6\",\"chainId\":\"_gene_\",\"layerId\":\"0b8V\",\"key\":2151},{\"id\":\"se_guess_zrec\",\"type\":\"Int\",\"value\":\"0\",\"chainId\":\"_gene_\",\"layerId\":\"lUoT\",\"key\":2567},{\"id\":\"Full_ans_fav\",\"type\":\"Int\",\"value\":\"0\",\"chainId\":\"_gene_\",\"layerId\":\"Pnd6\",\"key\":372},{\"id\":\"titlepagechoose\",\"type\":\"Int\",\"value\":\"0\",\"layerId\":\"titlepagechoose\"},{\"id\":\"se_sc_realtime\",\"type\":\"Int\",\"value\":\"0\",\"chainId\":\"_gene_\",\"layerId\":\"DjQB\",\"key\":2401},{\"id\":\"Followtab\",\"type\":\"Int\",\"value\":\"0\",\"chainId\":\"_gene_\",\"layerId\":\"Followtab\",\"key\":2421},{\"id\":\"pf_noti_entry_num\",\"type\":\"String\",\"value\":\"2\",\"chainId\":\"_all_\",\"layerId\":\"pfus_layer_718\"},{\"id\":\"helpcenter_pc\",\"type\":\"Int\",\"value\":\"1\",\"layerId\":\"helpcenter_pc\"},{\"id\":\"webpImg\",\"type\":\"Int\",\"value\":\"1\",\"layerId\":\"JnVt\"},{\"id\":\"ans_share\",\"type\":\"Int\",\"value\":\"0\",\"layerId\":\"ans_share\"},{\"id\":\"se_nwh_v2\",\"type\":\"Int\",\"value\":\"0\",\"chainId\":\"_gene_\",\"layerId\":\"se_nwh_v2\",\"key\":1366},{\"id\":\"web_answer_list_ad\",\"type\":\"String\",\"value\":\"1\",\"layerId\":\"webqa_layer_4\"},{\"id\":\"pcdrama_shuiyin\",\"type\":\"Int\",\"value\":\"1\",\"layerId\":\"ZmU4\"},{\"id\":\"segment_like\",\"type\":\"Int\",\"value\":\"0\",\"layerId\":\"segment_like\"},{\"id\":\"i_secondary_tab\",\"type\":\"Int\",\"value\":\"0\",\"chainId\":\"_gene_\",\"layerId\":\"i_secondary_tab\",\"key\":1012},{\"id\":\"non_pinrec\",\"type\":\"Int\",\"value\":\"0\",\"chainId\":\"_gene_\",\"layerId\":\"pmdv\",\"key\":2087},{\"id\":\"se_article\",\"type\":\"Int\",\"value\":\"3\",\"chainId\":\"_gene_\",\"layerId\":\"yqbS\",\"key\":2200},{\"id\":\"se_mix_opt\",\"type\":\"Int\",\"value\":\"0\",\"chainId\":\"_gene_\",\"layerId\":\"se_mix_opt\",\"key\":2545},{\"id\":\"se_shoppingpost\",\"type\":\"Int\",\"value\":\"0\",\"chainId\":\"_gene_\",\"layerId\":\"u6R4\",\"key\":2633},{\"id\":\"ge_prf_rec\",\"type\":\"String\",\"value\":\"0\",\"chainId\":\"_gene_\",\"layerId\":\"getop_layer_991\",\"key\":3040},{\"id\":\"qa_test_cid3\",\"type\":\"Int\",\"value\":\"0\",\"chainId\":\"_gene_\",\"layerId\":\"dZqg\",\"key\":2501},{\"id\":\"ge_guess\",\"type\":\"String\",\"value\":\"0\",\"chainId\":\"_gene_\",\"layerId\":\"gese_layer_938\",\"key\":2912},{\"id\":\"gue_visit_n_artcard\",\"type\":\"String\",\"value\":\"1\",\"layerId\":\"gueqa_layer_579\"},{\"id\":\"explore_fl_pic\",\"type\":\"Int\",\"value\":\"1\",\"layerId\":\"explore_fl_pic\"},{\"id\":\"share_all\",\"type\":\"Int\",\"value\":\"0\",\"layerId\":\"share_all\"},{\"id\":\"se_must_rerank\",\"type\":\"Int\",\"value\":\"0\",\"chainId\":\"_gene_\",\"layerId\":\"se_must_rerank\",\"key\":1362},{\"id\":\"se_searchfilter\",\"type\":\"Int\",\"value\":\"1\",\"chainId\":\"_gene_\",\"layerId\":\"se_searchfilter\",\"key\":1438},{\"id\":\"se_zhiplus_sim\",\"type\":\"Int\",\"value\":\"12\",\"chainId\":\"_gene_\",\"layerId\":\"PpKW\",\"key\":1601},{\"id\":\"gerenye_tab\",\"type\":\"Int\",\"value\":\"1\",\"layerId\":\"l-gerenye_tab\"},{\"id\":\"vanswer_new\",\"type\":\"Int\",\"value\":\"0\",\"chainId\":\"_gene_\",\"layerId\":\"vanswer_new\",\"key\":1420},{\"id\":\"se_recency_ab\",\"type\":\"Int\",\"value\":\"0\",\"chainId\":\"_gene_\",\"layerId\":\"hFWc\",\"key\":2691},{\"id\":\"web_scl_rec\",\"type\":\"String\",\"value\":\"0\",\"layerId\":\"webgw_layer_759\"},{\"id\":\"se_neg_score\",\"type\":\"Int\",\"value\":\"0\",\"chainId\":\"_gene_\",\"layerId\":\"se_neg_score\",\"key\":2156},{\"id\":\"ge_relation2\",\"type\":\"String\",\"value\":\"1\",\"chainId\":\"_gene_\",\"layerId\":\"gese_layer_815\",\"key\":2796},{\"id\":\"gue_vid_tab\",\"type\":\"String\",\"value\":\"0\",\"layerId\":\"guevd_layer_900\"},{\"id\":\"web_heifetz_grow_ad\",\"type\":\"String\",\"value\":\"1\",\"layerId\":\"webgw_layer_3\"},{\"id\":\"svip_buy_card\",\"type\":\"Int\",\"value\":\"1\",\"layerId\":\"s7Kr\"},{\"id\":\"show_ad\",\"type\":\"Int\",\"value\":\"0\",\"chainId\":\"_gene_\",\"layerId\":\"show_ad\",\"key\":27},{\"id\":\"rec_new2th\",\"type\":\"Int\",\"value\":\"1\",\"chainId\":\"_gene_\",\"layerId\":\"Hump\",\"key\":320},{\"id\":\"android_serial\",\"type\":\"Int\",\"value\":\"0\",\"chainId\":\"_gene_\",\"layerId\":\"android_serial\",\"key\":929},{\"id\":\"se_zhi_plus\",\"type\":\"Int\",\"value\":\"2\",\"chainId\":\"_gene_\",\"layerId\":\"6r4W\",\"key\":2170},{\"id\":\"aa1\",\"type\":\"Int\",\"value\":\"1\",\"layerId\":\"L5Cf\"},{\"id\":\"account_sdk\",\"type\":\"Int\",\"value\":\"2\",\"chainId\":\"_gene_\",\"layerId\":\"account_sdk\",\"key\":810},{\"id\":\"search_infobox\",\"type\":\"Int\",\"value\":\"0\",\"chainId\":\"_gene_\",\"layerId\":\"search_infobox\",\"key\":2389},{\"id\":\"ge_yuzhi_v1\",\"type\":\"String\",\"value\":\"1\",\"chainId\":\"_gene_\",\"layerId\":\"gese_layer_1029\",\"key\":3127},{\"id\":\"gue_v_serial\",\"type\":\"String\",\"value\":\"1\",\"layerId\":\"guevd_layer_695\"},{\"id\":\"Test_Punk\",\"type\":\"Int\",\"value\":\"0\",\"layerId\":\"Test_Punk\"},{\"id\":\"launch_consult\",\"type\":\"Int\",\"value\":\"0\",\"layerId\":\"launch_consult\"},{\"id\":\"editor_test2\",\"type\":\"Int\",\"value\":\"0\",\"layerId\":\"editor_test2\"},{\"id\":\"gue_q_share\",\"type\":\"String\",\"value\":\"0\",\"layerId\":\"gueqa_layer_647\"},{\"id\":\"pfd_newbie2\",\"type\":\"Int\",\"value\":\"0\",\"chainId\":\"_gene_\",\"layerId\":\"pfd_newbie2\",\"key\":71},{\"id\":\"plus_panel\",\"type\":\"Int\",\"value\":\"0\",\"chainId\":\"_gene_\",\"layerId\":\"2CDt\",\"key\":818},{\"id\":\"se_scholarcard\",\"type\":\"Int\",\"value\":\"2\",\"chainId\":\"_gene_\",\"layerId\":\"5AyM\",\"key\":1584},{\"id\":\"qa_test_cid4\",\"type\":\"Int\",\"value\":\"0\",\"chainId\":\"_gene_\",\"layerId\":\"hNbg\",\"key\":2502},{\"id\":\"gue_profile_video\",\"type\":\"String\",\"value\":\"1\",\"layerId\":\"guevd_layer_5\"},{\"id\":\"gue_bullet_guide\",\"type\":\"String\",\"value\":\"发个弹幕聊聊…\",\"layerId\":\"guevd_layer_0\"},{\"id\":\"waiting_answer\",\"type\":\"Int\",\"value\":\"2\",\"layerId\":\"waiting_answer\"},{\"id\":\"briefpreload\",\"type\":\"Int\",\"value\":\"0\",\"layerId\":\"briefpreload\"},{\"id\":\"se_lct_q\",\"type\":\"Int\",\"value\":\"1\",\"chainId\":\"_gene_\",\"layerId\":\"se_lct_q\",\"key\":2467},{\"id\":\"qa_test_cid9\",\"type\":\"Int\",\"value\":\"0\",\"chainId\":\"_gene_\",\"layerId\":\"ClMA\",\"key\":2507},{\"id\":\"se_epidemiccard\",\"type\":\"Int\",\"value\":\"0\",\"chainId\":\"_gene_\",\"layerId\":\"tV7b\",\"key\":2639},{\"id\":\"qa_test_cid2\",\"type\":\"Int\",\"value\":\"0\",\"chainId\":\"_gene_\",\"layerId\":\"1ksd\",\"key\":2500},{\"id\":\"pf_adjust\",\"type\":\"String\",\"value\":\"0\",\"chainId\":\"_all_\",\"layerId\":\"pfus_layer_9\"},{\"id\":\"ts_refresh\",\"type\":\"Int\",\"value\":\"1\",\"layerId\":\"EBn6\"},{\"id\":\"ad_com_zhi\",\"type\":\"Int\",\"value\":\"0\",\"chainId\":\"_gene_\",\"layerId\":\"ad_com_zhi\",\"key\":571},{\"id\":\"a_vdtab_wb\",\"type\":\"Int\",\"value\":\"0\",\"chainId\":\"_gene_\",\"layerId\":\"a_vdtab_wb\",\"key\":1912},{\"id\":\"a_v_int2string\",\"type\":\"Int\",\"value\":\"0\",\"chainId\":\"_gene_\",\"layerId\":\"a_v_int2string\",\"key\":2008},{\"id\":\"feed_label_opt\",\"type\":\"Int\",\"value\":\"0\",\"chainId\":\"_gene_\",\"layerId\":\"feed_label_opt\",\"key\":2445},{\"id\":\"book_ebook\",\"type\":\"Int\",\"value\":\"0\",\"chainId\":\"_gene_\",\"layerId\":\"book_ebook\",\"key\":758},{\"id\":\"explore_b_opt\",\"type\":\"Int\",\"value\":\"0\",\"chainId\":\"_gene_\",\"layerId\":\"explore_b_opt\",\"key\":1297},{\"id\":\"plugin_black\",\"type\":\"Int\",\"value\":\"0\",\"chainId\":\"_gene_\",\"layerId\":\"plugin_black\",\"key\":2667},{\"id\":\"qa_clscree_auth\",\"type\":\"Int\",\"value\":\"0\",\"chainId\":\"_gene_\",\"layerId\":\"qa_clscree_auth\",\"key\":2513},{\"id\":\"gue_fo_recom\",\"type\":\"String\",\"value\":\"0\",\"layerId\":\"gueqa_layer_780\"},{\"id\":\"CC_resolution\",\"type\":\"Int\",\"value\":\"1\",\"layerId\":\"CC_resolution\"},{\"id\":\"ans_keyword\",\"type\":\"Int\",\"value\":\"1\",\"layerId\":\"ans_keyword\"},{\"id\":\"videoedit_v1\",\"type\":\"Int\",\"value\":\"1\",\"layerId\":\"videoedit_v1\"},{\"id\":\"se_pincard\",\"type\":\"Int\",\"value\":\"0\",\"chainId\":\"_gene_\",\"layerId\":\"se_pincard\",\"key\":2185},{\"id\":\"qa_test_cid7\",\"type\":\"Int\",\"value\":\"0\",\"chainId\":\"_gene_\",\"layerId\":\"zhSX\",\"key\":2505},{\"id\":\"secondary_tab\",\"type\":\"Int\",\"value\":\"0\",\"chainId\":\"_gene_\",\"layerId\":\"secondary_tab\",\"key\":1011},{\"id\":\"se_v_rescore_ab\",\"type\":\"Int\",\"value\":\"1\",\"chainId\":\"_gene_\",\"layerId\":\"AzJ2\",\"key\":1330},{\"id\":\"se_cardshow\",\"type\":\"Int\",\"value\":\"0\",\"chainId\":\"_gene_\",\"layerId\":\"vj10\",\"key\":2548},{\"id\":\"gue_goods_card\",\"type\":\"String\",\"value\":\"0\",\"layerId\":\"gueqa_layer_1\"},{\"id\":\"se_zhiplus_cpc\",\"type\":\"Int\",\"value\":\"5\",\"chainId\":\"_gene_\",\"layerId\":\"se_zhiplus_cpc\",\"key\":716},{\"id\":\"gue_iosplay\",\"type\":\"String\",\"value\":\"1\",\"layerId\":\"guevd_layer_810\"},{\"id\":\"web_sem_ab\",\"type\":\"String\",\"value\":\"1\",\"layerId\":\"webgw_layer_3\"},{\"id\":\"se_scholartab\",\"type\":\"Int\",\"value\":\"1\",\"chainId\":\"_gene_\",\"layerId\":\"se_scholartab\",\"key\":1585},{\"id\":\"se_mix_n1\",\"type\":\"Int\",\"value\":\"0\",\"chainId\":\"_gene_\",\"layerId\":\"JIws\",\"key\":2277},{\"id\":\"ge_search_ui\",\"type\":\"String\",\"value\":\"1\",\"chainId\":\"_gene_\",\"layerId\":\"gese_layer_838\",\"key\":2898},{\"id\":\"ge_video\",\"type\":\"String\",\"value\":\"1\",\"chainId\":\"_gene_\",\"layerId\":\"geli_layer_856\",\"key\":2831},{\"id\":\"test_3\",\"type\":\"Int\",\"value\":\"1\",\"chainId\":\"_gene_\",\"layerId\":\"dABe\",\"key\":637},{\"id\":\"Re_Collection\",\"type\":\"Int\",\"value\":\"0\",\"chainId\":\"_gene_\",\"layerId\":\"9olk\",\"key\":847},{\"id\":\"se_zp_score\",\"type\":\"Int\",\"value\":\"0\",\"chainId\":\"_gene_\",\"layerId\":\"TDNn\",\"key\":2367},{\"id\":\"web_audit_01\",\"type\":\"String\",\"value\":\"case1\",\"layerId\":\"webre_layer_1\"},{\"id\":\"fixed_layer\",\"type\":\"Int\",\"value\":\"1\",\"layerId\":\"nYEh\"},{\"id\":\"se_rel_zp\",\"type\":\"Int\",\"value\":\"1\",\"chainId\":\"_gene_\",\"layerId\":\"BjCo\",\"key\":2566},{\"id\":\"ge_entity\",\"type\":\"String\",\"value\":\"0\",\"chainId\":\"_gene_\",\"layerId\":\"gese_layer_946\",\"key\":3036},{\"id\":\"se_pre_rel\",\"type\":\"Int\",\"value\":\"0\",\"chainId\":\"_gene_\",\"layerId\":\"4djB\",\"key\":1684},{\"id\":\"vessay_v2_sdk\",\"type\":\"Int\",\"value\":\"1\",\"layerId\":\"Qtkm\"},{\"id\":\"explore_newbee\",\"type\":\"Int\",\"value\":\"0\",\"chainId\":\"_gene_\",\"layerId\":\"explore_newbee\",\"key\":930},{\"id\":\"tp_zrec\",\"type\":\"String\",\"value\":\"1\",\"chainId\":\"_all_\",\"layerId\":\"tptp_layer_619\"},{\"id\":\"i_vdtab_wb\",\"type\":\"Int\",\"value\":\"0\",\"chainId\":\"_gene_\",\"layerId\":\"i_vdtab_wb\",\"key\":1911},{\"id\":\"valuable_label\",\"type\":\"Int\",\"value\":\"1\",\"layerId\":\"l-bu9v\"},{\"id\":\"rec_3th\",\"type\":\"Int\",\"value\":\"21\",\"chainId\":\"_gene_\",\"layerId\":\"pRqt\",\"key\":697},{\"id\":\"v_search\",\"type\":\"Int\",\"value\":\"0\",\"chainId\":\"_gene_\",\"layerId\":\"ICqh\",\"key\":1558},{\"id\":\"se_qs_offline\",\"type\":\"Int\",\"value\":\"0\",\"chainId\":\"_gene_\",\"layerId\":\"gkhl\",\"key\":1702},{\"id\":\"se_time_box\",\"type\":\"Int\",\"value\":\"1\",\"chainId\":\"_gene_\",\"layerId\":\"nK7D\",\"key\":2449},{\"id\":\"qa_test_cid10\",\"type\":\"Int\",\"value\":\"0\",\"chainId\":\"_gene_\",\"layerId\":\"LOKr\",\"key\":2508},{\"id\":\"gue_art2qa\",\"type\":\"String\",\"value\":\"0\",\"layerId\":\"gueqa_layer_579\"},{\"id\":\"zvideocard\",\"type\":\"Int\",\"value\":\"0\",\"chainId\":\"_gene_\",\"layerId\":\"zvideocard\",\"key\":1321},{\"id\":\"cardloading\",\"type\":\"Int\",\"value\":\"1\",\"chainId\":\"_gene_\",\"layerId\":\"cardloading\",\"key\":1879},{\"id\":\"ge_newyanzhi\",\"type\":\"String\",\"value\":\"0\",\"chainId\":\"_gene_\",\"layerId\":\"geus_layer_1019\",\"key\":2788},{\"id\":\"ge_rec_2th\",\"type\":\"String\",\"value\":\"11\",\"chainId\":\"_gene_\",\"layerId\":\"geli_layer_965\",\"key\":3023},{\"id\":\"gue_zvideo_link\",\"type\":\"String\",\"value\":\"0\",\"layerId\":\"guevd_layer_2\"},{\"id\":\"pc_fullsize\",\"type\":\"Int\",\"value\":\"2\",\"layerId\":\"3GZy\"},{\"id\":\"se_financial\",\"type\":\"Int\",\"value\":\"1\",\"chainId\":\"_gene_\",\"layerId\":\"se_financial\",\"key\":1111},{\"id\":\"share_content\",\"type\":\"Int\",\"value\":\"4\",\"chainId\":\"_gene_\",\"layerId\":\"share_content\",\"key\":1238},{\"id\":\"gue_playh_an\",\"type\":\"String\",\"value\":\"0\",\"layerId\":\"guevd_layer_622\"},{\"id\":\"top_test_4_liguangyi\",\"type\":\"String\",\"value\":\"1\",\"chainId\":\"_all_\",\"layerId\":\"iosus_layer_1\"},{\"id\":\"pc_ppt_publish\",\"type\":\"Int\",\"value\":\"1\",\"layerId\":\"pc_ppt_publish\"},{\"id\":\"message_type\",\"type\":\"Int\",\"value\":\"2\",\"layerId\":\"message_type\"},{\"id\":\"comment\",\"type\":\"Int\",\"value\":\"0\",\"chainId\":\"_gene_\",\"layerId\":\"comment\",\"key\":644},{\"id\":\"monthly_search\",\"type\":\"Int\",\"value\":\"0\",\"chainId\":\"_gene_\",\"layerId\":\"monthly_search\",\"key\":2550},{\"id\":\"gue_cdzixun\",\"type\":\"String\",\"value\":\"0\",\"layerId\":\"gueqa_layer_3\"},{\"id\":\"Profile_F\",\"type\":\"Int\",\"value\":\"15\",\"layerId\":\"rjQW\"},{\"id\":\"And_Collection\",\"type\":\"Int\",\"value\":\"0\",\"chainId\":\"_gene_\",\"layerId\":\"VbMB\",\"key\":848},{\"id\":\"se_edu_model\",\"type\":\"Int\",\"value\":\"7\",\"chainId\":\"_gene_\",\"layerId\":\"LchN\",\"key\":1537},{\"id\":\"fe_test\",\"type\":\"Int\",\"value\":\"0\",\"chainId\":\"_gene_\",\"layerId\":\"fe_test\",\"key\":1075},{\"id\":\"i_vdtab_algload\",\"type\":\"Int\",\"value\":\"2\",\"chainId\":\"_gene_\",\"layerId\":\"i_vdtab_algload\",\"key\":2013},{\"id\":\"gue_sharp\",\"type\":\"String\",\"value\":\"1\",\"layerId\":\"guevd_layer_686\"},{\"id\":\"gue_video_replay\",\"type\":\"String\",\"value\":\"2\",\"layerId\":\"guevd_layer_3\"}],\"chains\":[{\"chainId\":\"_all_\"}],\"encodedParams\":\"CpQC3AcBCdcCogZlCjQMAQu1C2oBdAhUCVYM9AsSCQQKjATaCMUIwwlJCasJygmgA+MF1gi0CosFYAkrCicHsgcWCWkB6QTrBscJmwd2CNgC4QmmBHkImwvXC40EJwlCCYQJtwPgCYQKyAnlCT8AMwVDAFEFfga0AGcIBwp0AWEJdQlWBfQDJwiYCPEJSQrgC8UJYAtSBZ4FQQaMBYMKbAjsChsAQAGhA3oIKgNVCTcMRwAyAzAGxgmjCcsJTwrECTsCeAfYB40J9gIRBWsK0QmJCMkJ8wMyBfQJzAIxBuUIUgsPC30CTwM\\u002FCQYK3AuUBqIDdwe5AhYGpgaRCcwJKQVXB+QKzwtXBNYEhAL2CVADAQYzBN0HEooBAgAAAAAAAAMAAAABAAAABAAAAAEAAAAAAAAAAgAABAACAAAAAAAAAAAAAgAEAAAAAAABAAAAABUBAAAGAAAAAAAAAAMAAAAAAAABDAAAAAEAAQACAgABAAACAAEAAAAAAAAAAAAAAAAAAAEABQEAAQEBAAABAAAAABUAAAEAAAEACwEEAAAABwAC\"},\"triggers\":{}},\"userAgent\":{\"Edge\":false,\"IE\":false,\"Wechat\":false,\"Weibo\":false,\"QQ\":false,\"MQQBrowser\":false,\"Qzone\":false,\"Mobile\":false,\"Android\":false,\"iOS\":false,\"isAppleDevice\":false,\"Zhihu\":false,\"ZhihuHybrid\":false,\"isBot\":false,\"Tablet\":false,\"UC\":false,\"Quark\":false,\"Sogou\":false,\"Qihoo\":false,\"Baidu\":false,\"BaiduApp\":false,\"Safari\":false,\"GoogleBot\":false,\"AndroidDaily\":false,\"iOSDaily\":false,\"WxMiniProgram\":false,\"BaiduMiniProgram\":false,\"QQMiniProgram\":false,\"JDMiniProgram\":false,\"isWebView\":false,\"isMiniProgram\":false,\"origin\":\"Mozilla\\u002F5.0 (Windows NT 10.0; Win64; x64) AppleWebKit\\u002F537.36 (KHTML, like Gecko) Chrome\\u002F101.0.4951.54 Safari\\u002F537.36\"},\"appViewConfig\":{},\"ctx\":{\"path\":\"\\u002F\",\"query\":{},\"href\":\"http:\\u002F\\u002Fwww.zhihu.com\\u002F\",\"host\":\"www.zhihu.com\"},\"trafficSource\":\"production\",\"edition\":{\"beijing\":false,\"baidu\":false,\"sogou\":false,\"baiduBeijing\":false,\"sogouBeijing\":false,\"sogouInput\":false,\"baiduSearch\":false,\"googleSearch\":false,\"shenma\":false,\"miniProgram\":false,\"xiaomi\":false},\"theme\":\"light\",\"appHeaderTheme\":{\"current\":\"normal\",\"disable\":true,\"normal\":{\"bgColor\":\"GBK99A\"},\"custom\":{}},\"enableShortcut\":true,\"referer\":\"\",\"xUDId\":\"APCfpUiOjROPTny1k41UpIDGLfgRghMrJsg=\",\"mode\":\"ssr\",\"conf\":{},\"xTrafficFreeOrigin\":\"\",\"ipInfo\":{},\"logged\":true,\"vars\":{\"passThroughHeaders\":{}}},\"me\":{\"columnContributions\":[]},\"label\":{\"recognizerLists\":{}},\"ecommerce\":{},\"comments\":{\"pagination\":{},\"collapsed\":{},\"reverse\":{},\"reviewing\":{},\"conversation\":{},\"parent\":{}},\"commentsV2\":{\"stickers\":[],\"commentWithPicPermission\":{},\"notificationsComments\":{},\"pagination\":{},\"collapsed\":{},\"reverse\":{},\"reviewing\":{},\"conversation\":{},\"conversationMore\":{},\"parent\":{}},\"pushNotifications\":{\"default\":{\"isFetching\":false,\"isDrained\":false,\"ids\":[]},\"follow\":{\"isFetching\":false,\"isDrained\":false,\"ids\":[]},\"vote_thank\":{\"isFetching\":false,\"isDrained\":false,\"ids\":[]},\"currentTab\":\"default\",\"notificationsCount\":{\"default\":0,\"follow\":0,\"vote_thank\":0}},\"messages\":{\"data\":{},\"currentTab\":\"common\",\"messageCount\":0},\"register\":{\"registerValidateSucceeded\":null,\"registerValidateErrors\":{},\"registerConfirmError\":null,\"sendDigitsError\":null,\"registerConfirmSucceeded\":null},\"login\":{\"loginUnregisteredError\":false,\"loginBindWechatError\":false,\"loginConfirmError\":null,\"sendDigitsError\":null,\"needSMSIdentify\":false,\"validateDigitsError\":false,\"loginConfirmSucceeded\":null,\"qrcodeLoginToken\":\"\",\"qrcodeLoginScanStatus\":0,\"qrcodeLoginError\":null,\"qrcodeLoginReturnNewToken\":false},\"switches\":{},\"captcha\":{\"captchaNeeded\":false,\"captchaValidated\":false,\"captchaBase64String\":null,\"captchaValidationMessage\":null,\"loginCaptchaExpires\":false},\"sms\":{\"supportedCountries\":[]},\"chat\":{\"chats\":{},\"inbox\":{\"recents\":{\"isFetching\":false,\"isDrained\":false,\"isPrevDrained\":false,\"result\":[],\"next\":null,\"key\":null},\"strangers\":{\"isFetching\":false,\"isDrained\":false,\"isPrevDrained\":false,\"result\":[],\"next\":null,\"key\":null},\"friends\":{\"isFetching\":false,\"isDrained\":false,\"isPrevDrained\":false,\"result\":[],\"next\":null,\"key\":null},\"search\":{\"isFetching\":false,\"isDrained\":false,\"isPrevDrained\":false,\"result\":[],\"next\":null,\"key\":null},\"config\":{\"newCount\":0,\"strangerMessageSwitch\":false,\"strangerMessageUnread\":false,\"friendCount\":0}},\"global\":{\"isChatMqttExisted\":false}},\"emoticons\":{\"emoticonGroupList\":[],\"emoticonGroupDetail\":{}},\"creator\":{\"currentCreatorUrlToken\":null,\"homeData\":{\"recommendQuestions\":[]},\"tools\":{\"question\":{\"invitationCount\":{\"questionFolloweeCount\":0,\"questionTotalCount\":0},\"goodatTopics\":[]},\"customPromotion\":{\"itemLists\":{}},\"recommend\":{\"recommendTimes\":{}}},\"explore\":{\"academy\":{\"tabs\":[],\"article\":{}}},\"rights\":[],\"newRights\":[],\"rightsStatus\":{},\"levelUpperLimit\":10,\"account\":{\"growthLevel\":{}},\"mcn\":{},\"applyStatus\":{},\"videoSupport\":{},\"textBenefit\":{},\"mcnManage\":{},\"tasks\":{},\"newTasks\":[],\"newTaskDes\":[],\"scoreInfo\":{},\"recentlyCreated\":[],\"analysis\":{\"all\":{},\"answer\":{},\"zvideo\":{},\"article\":{},\"pin\":{},\"singleContent\":{}},\"announcement\":{},\"bannerList\":[],\"school\":{\"tabs\":[],\"contents\":[],\"banner\":null,\"entities\":{}},\"creatorsRecommendInfo\":{},\"menusShowControlByServer\":{\"bVipRecomend\":false,\"creationRelationship\":false},\"income\":{\"aggregation\":{}}},\"question\":{\"followers\":{},\"concernedFollowers\":{},\"answers\":{},\"hiddenAnswers\":{},\"updatedAnswers\":{},\"ariaAnswers\":{},\"collapsedAnswers\":{},\"notificationAnswers\":{},\"invitedQuestions\":{\"total\":{\"count\":null,\"isEnd\":false,\"isLoading\":false,\"questions\":[]},\"followees\":{\"count\":null,\"isEnd\":false,\"isLoading\":false,\"questions\":[]}},\"laterQuestions\":{\"count\":null,\"isEnd\":false,\"isLoading\":false,\"questions\":[]},\"waitingQuestions\":{\"recommend\":{\"isEnd\":false,\"isLoading\":false,\"questions\":[]},\"invite\":{\"isEnd\":false,\"isLoading\":false,\"questions\":[]},\"newest\":{\"isEnd\":false,\"isLoading\":false,\"questions\":[]},\"hot\":{\"isEnd\":false,\"isLoading\":false,\"questions\":[]}},\"invitationCandidates\":{},\"inviters\":{},\"invitees\":{},\"similarQuestions\":{},\"questionBanners\":{},\"relatedCommodities\":{},\"bio\":{},\"brand\":{},\"permission\":{},\"adverts\":{},\"advancedStyle\":{},\"commonAnswerCount\":0,\"hiddenAnswerCount\":0,\"topicMeta\":{},\"bluestarRanklist\":{},\"relatedSearch\":{},\"autoInvitation\":{},\"simpleConcernedFollowers\":{},\"draftStatus\":{},\"disclaimers\":{},\"isShowMobileSignInModal\":false,\"modalShowCondition\":{}},\"shareTexts\":{},\"answers\":{\"voters\":{},\"copyrightApplicants\":{},\"favlists\":{},\"newAnswer\":{},\"entityWords\":{},\"concernedUpvoters\":{},\"simpleConcernedUpvoters\":{},\"paidContent\":{},\"settings\":{}},\"banner\":{},\"topic\":{\"bios\":{},\"hot\":{},\"newest\":{},\"top\":{},\"pin\":{},\"unanswered\":{},\"questions\":{},\"followers\":{},\"contributors\":{},\"parent\":{},\"children\":{},\"bestAnswerers\":{},\"wikiMeta\":{},\"index\":{},\"intro\":{},\"meta\":{},\"schema\":{},\"creatorWall\":{},\"wikiEditInfo\":{},\"committedWiki\":{},\"landingBasicData\":{},\"landingExcellentItems\":[],\"landingExcellentEditors\":[],\"landingCatalog\":[],\"landingEntries\":{}},\"explore\":{\"recommendations\":{},\"specials\":{\"entities\":{},\"order\":[]},\"roundtables\":{\"entities\":{},\"order\":[]},\"collections\":{},\"columns\":{},\"square\":{\"hotQuestionList\":[],\"potentialList\":[]}},\"articles\":{\"voters\":{},\"concernedUpvoters\":{}},\"favlists\":{\"relations\":{}},\"pins\":{\"reviewing\":{}},\"topstory\":{\"recommend\":{\"isFetching\":false,\"isDrained\":false,\"afterId\":\"5_1652185294.952\",\"items\":[{\"id\":\"0_1652185294.315\",\"schema\":\"feed\"},{\"id\":\"1_1652185294.589\",\"schema\":\"feed\"},{\"id\":\"2_1652185294.377\",\"schema\":\"feed\"},{\"id\":\"AD_2267377_16521852948700\",\"schema\":\"feedAdvert\"},{\"id\":\"3_1652185294.820\",\"schema\":\"feed\"},{\"id\":\"4_1652185294.838\",\"schema\":\"feed\"},{\"id\":\"5_1652185294.952\",\"schema\":\"feed\"}],\"next\":\"https:\\u002F\\u002Fwww.zhihu.com\\u002Fapi\\u002Fv3\\u002Ffeed\\u002Ftopstory\\u002Frecommend?session_token=2278b6cfa4486bf83cdae0dc92d852dd&desktop=true&page_number=2&limit=6&action=down&after_id=5&ad_interval=-10\",\"serverPayloadOrigin\":{\"data\":[{\"id\":\"0_1652185294.315\",\"type\":\"feed\",\"offset\":0,\"verb\":\"COMMON_CARD\",\"created_time\":1652185294,\"updated_time\":1652185294,\"target\":{\"id\":\"1506436108439744512\",\"type\":\"zvideo\",\"title\":\"野生德芙纵享丝滑的珍贵影像\",\"description\":\"\",\"member_id\":536383367,\"vote_count\":447,\"comment_count\":28,\"author\":{\"id\":\"7c4ebe1e27a9f9d3ea7fc41341f08754\",\"type\":\"people\",\"url\":\"https:\\u002F\\u002Fapi.zhihu.com\\u002Fpeople\\u002F7c4ebe1e27a9f9d3ea7fc41341f08754\",\"user_type\":\"people\",\"url_token\":\"ren-lei-zao-qi-xun-fu\",\"name\":\"人类早期驯服\",\"headline\":\"人类早期驯服野生生物的珍贵影像，每周更新~\",\"avatar_url\":\"https:\\u002F\\u002Fpic4.zhimg.com\\u002F50\\u002Fv2-56f221fe064865a3876b98686a1092c0_m.jpg\",\"is_org\":false,\"gender\":0,\"badge\":[],\"followers_count\":202948,\"is_following\":false,\"is_followed\":false},\"thumbnail_extra_info\":{\"video_id\":\"1506435806588211200\",\"type\":\"video\",\"url\":\"https:\\u002F\\u002Fpica.zhimg.com\\u002Fv2-d167602ef76c67ad58067fd83bf16d0c.jpg?source=382ee89a\",\"height\":1080,\"width\":1920,\"duration\":257,\"playlist\":{\"ld\":{\"url\":\"https:\\u002F\\u002Fvdn3.vzuu.com\\u002FSD\\u002Fee10b8c0-ce25-11ec-9a02-b2f5232017a6-v4_t10001111-wfic6WAvNM.mp4?disable_local_cache=1&bu=b9ce98d5&c=avc.4.0&f=mp4&expiration=1652188894&auth_key=1652188894-0-0-c017a04d6f4877b89e51257cfb1001be&v=tx&pu=da4bec50\",\"bitrate\":835,\"duration\":257,\"format\":\"mp4\",\"fps\":23,\"height\":476,\"size\":26928358,\"width\":848},\"sd\":{\"url\":\"https:\\u002F\\u002Fvdn3.vzuu.com\\u002FSD\\u002Fee10b8c0-ce25-11ec-9a02-b2f5232017a6-v4_t10001111-wfic6WAvNM.mp4?disable_local_cache=1&bu=b9ce98d5&c=avc.4.0&f=mp4&expiration=1652188894&auth_key=1652188894-0-0-c017a04d6f4877b89e51257cfb1001be&v=tx&pu=da4bec50\",\"bitrate\":835,\"duration\":257,\"format\":\"mp4\",\"fps\":23,\"height\":476,\"size\":26928358,\"width\":848},\"hd\":{\"url\":\"https:\\u002F\\u002Fvdn3.vzuu.com\\u002FHD\\u002Fee10b8c0-ce25-11ec-9a02-b2f5232017a6-v4_t10001111-wfic6WAvNM.mp4?disable_local_cache=1&bu=b9ce98d5&c=avc.4.0&f=mp4&expiration=1652188894&auth_key=1652188894-0-0-ad063c75df500a3a9a6cf2f4d5deee01&v=tx&pu=da4bec50\",\"bitrate\":1342,\"duration\":257,\"format\":\"mp4\",\"fps\":23,\"height\":720,\"size\":43262344,\"width\":1280}},\"show_maker_entrance\":false},\"play_count\":124265,\"excerpt\":\"\",\"creation_relationship\":{\"render_json\":\"{}\"}},\"brief\":\"{\\\"source\\\": \\\"TS\\\", \\\"type\\\": \\\"zvideo\\\", \\\"id\\\": 1506436108439744512}\",\"uninterest_reasons\":[{\"reason_id\":3,\"reason_type\":\"topic\",\"object_token\":\"20708438\",\"object_type\":\"topic\",\"reason_text\":\"沙雕（网络用语）\"},{\"reason_id\":3,\"reason_type\":\"topic\",\"object_token\":\"20050650\",\"object_type\":\"topic\",\"reason_text\":\"超级人类\"},{\"reason_id\":3,\"reason_type\":\"topic\",\"object_token\":\"19744969\",\"object_type\":\"topic\",\"reason_text\":\"德芙巧克力\"},{\"reason_id\":3,\"reason_type\":\"topic\",\"object_token\":\"19566655\",\"object_type\":\"topic\",\"reason_text\":\"配音\"},{\"reason_id\":2,\"reason_type\":\"creator\",\"object_token\":\"7c4ebe1e27a9f9d3ea7fc41341f08754\",\"object_type\":\"people\",\"reason_text\":\"人类早期驯服创作的内容\"}],\"attached_info\":\"Co8GCP37l5bptK2NuAEQYxoTMTUwNjQzNjEwODQzOTc0NDUxMiDA1tyTBii\\u002FAzAcQABKKgohVFNfU09VUkNFX0E1X1pWSURFT19CWV9DNV9DUkVBVE9SEgEwGAAgAGIgMjI3OGI2Y2ZhNDQ4NmJmODNjZGFlMGRjOTJkODUyZGRogKD6xKfs+\\u002FMUchMxNTA2NDM2MTA4NDM5NzQ0NTEyggFOaHR0cHM6Ly9waWNhLnpoaW1nLmNvbS92Mi1kMTY3NjAyZWY3NmM2N2FkNTgwNjdmZDgzYmYxNmQwYy5qcGc\\u002Fc291cmNlPTM4MmVlODlhqgEJcmVjb21tZW5k8gEFCAsSATHyAQoIDBIGTm9ybWFs8gEoCAoSJDFhNGEzODk5LWVjYWMtNDE3ZS05YzY1LTMzNTlkMGVkZTZlZYgCltCr74owkgIgN2M0ZWJlMWUyN2E5ZjlkM2VhN2ZjNDEzNDFmMDg3NTSaAgDKAhRGaXJzdEJydXNoV2VpZ2h0UnVsZcoCFVJlYmFja1ZpZGVvV2VpZ2h0UnVsZcoCGkhpZ2hMZXZlbENyZWF0b3JXZWlnaHRSdWxlygIXWnZpZGVvRXhwYW5kV1dlaWdodFJ1bGXKAhtWaWRlb05ldHdvcmtTY2VuZVdlaWdodFJ1bGXKAh5admlkZW9Vc2VyUGVyZmVyZW5jZVdlaWdodFJ1bGXKAhtadmlkZW9CaWxpUHJvbW90ZVdlaWdodFJ1bGXKAg5DdXJyZW5jeVJhbmtlcsoCHFRvcFNsb3RDb21tZXJjaWFsQnJlYWtJblJ1bGXaAiFUU19TT1VSQ0VfQTVfWlZJREVPX0JZX0M1X0NSRUFUT1LgAgDoAgP6AgtOT1JNQUxfRkxPV4oDIDgzNDFiMzBlMDIwNzQ0Yjc4MzY4MmQxYmQ3NjE5MTIxmgMGCgJ2MhAAsAPpyge4AwDCAyTotoXov4cgMjAuMiDkuIfnmoTnlKjmiLflhbPms6jkuoYgVEHSAxwxMi40IOS4h+aSreaUviDCtyA0NDcg6LWe5ZCM2AMAkgIzChMxNTA2NDM2MTA4NDM5NzQ0NTEyEhMxNTA2NDM2MTA4NDM5NzQ0NTEyGGMiBVZJREVP\",\"actors\":[{\"id\":\"19550228\",\"type\":\"topic\",\"url\":\"https:\\u002F\\u002Fwww.zhihu.com\\u002Ftopic\\u002F19550228\\u002Fhot\",\"avatar_url\":\"https:\\u002F\\u002Fpic4.zhimg.com\\u002F50\\u002Fe82bab09c_s.jpg\",\"name\":\"随便看看\",\"excerpt\":\"\",\"introduction\":\"\"}],\"show_actor_time\":false,\"action_text\":\"随便看看\",\"action_text_tpl\":\"热门内容, 来自: {}\",\"action_card\":false},{\"id\":\"1_1652185294.589\",\"type\":\"feed\",\"offset\":1,\"verb\":\"TOPIC_ACKNOWLEDGED_ANSWER\",\"created_time\":1652185294,\"updated_time\":1652185294,\"target\":{\"id\":1327805592,\"type\":\"answer\",\"url\":\"https:\\u002F\\u002Fapi.zhihu.com\\u002Fanswers\\u002F1327805592\",\"author\":{\"id\":\"f4045425de757cfe3a8d10443f7597f4\",\"type\":\"people\",\"url\":\"https:\\u002F\\u002Fapi.zhihu.com\\u002Fpeople\\u002Ff4045425de757cfe3a8d10443f7597f4\",\"user_type\":\"people\",\"url_token\":\"zhang-ruo-xin-53\",\"name\":\"宝之大者\",\"headline\":\"我就只这一生，何来苟且的余裕？\",\"avatar_url\":\"https:\\u002F\\u002Fpic3.zhimg.com\\u002F50\\u002Fv2-002f696564168942f7e38e5aad74b3dc_m.jpg\",\"is_org\":false,\"gender\":1,\"badge\":[{\"type\":\"identity\",\"description\":\"复旦大学 临床医学博士在读\"},{\"type\":\"identity_people\",\"description\":\"复旦大学 临床医学博士在读\",\"topics\":[],\"topic_names\":[],\"topic_ids\":[]}],\"followers_count\":90639,\"is_following\":false,\"is_followed\":false},\"created_time\":1594262986,\"updated_time\":1637420397,\"voteup_count\":28311,\"thanks_count\":4139,\"comment_count\":852,\"is_copyable\":true,\"question\":{\"id\":405770200,\"type\":\"question\",\"url\":\"https:\\u002F\\u002Fapi.zhihu.com\\u002Fquestions\\u002F405770200\",\"author\":{\"id\":\"0\",\"type\":\"people\",\"url\":\"\",\"user_type\":\"people\",\"url_token\":\"\",\"name\":\"匿名用户\",\"headline\":\"\",\"avatar_url\":\"https:\\u002F\\u002Fpic2.zhimg.com\\u002Fv2-d41c2ceaed8f51999522f903672a521f_m.jpg\"},\"title\":\"如果《王者荣耀》里的英雄去参加高考，你觉得谁最有可能拿到状元？\",\"created\":1594215596,\"answer_count\":489,\"follower_count\":1244,\"comment_count\":82,\"bound_topic_ids\":[253,307,5830,163534,390533],\"is_following\":false,\"excerpt\":\"\",\"relationship\":{\"is_author\":false},\"detail\":\"\",\"question_type\":\"normal\"},\"excerpt\":\"通报批评我校多位同学在高考期间，未按照学校相关规定进行考试。 高三（3）班的 元歌同学使用傀儡替考，本体在教室外面使用作业帮。被发现后自称“哪一个才是真正的我，我自己也搞不明白”。高三（8）班的 兰陵王同学在考试期间多次从座位上消失，随后全班同学头上都冒出了惊叹号。高三（2）班的 梦奇同学，在老师询问其姓名时含糊其辞，被取消考试资格。高三（3）班的 盾山同学，因为同样的原因，也被取消考试资格。高三（6）班…\",\"excerpt_new\":\"通报批评我校多位同学在高考期间，未按照学校相关规定进行考试。 高三（3）班的 元歌同学使用傀儡替考，本体在教室外面使用作业帮。被发现后自称“哪一个才是真正的我，我自己也搞不明白”。高三（8）班的 兰陵王同学在考试期间多次从座位上消失，随后全班同学头上都冒出了惊叹号。高三（2）班的 梦奇同学，在老师询问其姓名时含糊其辞，被取消考试资格。高三（3）班的 盾山同学，因为同样的原因，也被取消考试资格。高三（6）班…\",\"preview_type\":\"default\",\"preview_text\":\"\",\"reshipment_settings\":\"allowed\",\"content\":\"\\u003Ch2\\u003E通报批评\\u003C\\u002Fh2\\u003E\\u003Cp data-pid=\\\"ltaomJ_H\\\"\\u003E我校多位同学在高考期间，未按照学校相关规定进行考试。\\u003C\\u002Fp\\u003E\\u003Cp data-pid=\\\"GHcs5u-t\\\"\\u003E高三（3）班的\\u003Cb\\u003E元歌\\u003C\\u002Fb\\u003E同学使用傀儡替考，本体在教室外面使用作业帮。被发现后自称“哪一个才是真正的我，我自己也搞不明白”。\\u003C\\u002Fp\\u003E\\u003Cp data-pid=\\\"UQLwt08Y\\\"\\u003E高三（8）班的\\u003Cb\\u003E兰陵王\\u003C\\u002Fb\\u003E同学在考试期间多次从座位上消失，随后全班同学头上都冒出了惊叹号。\\u003C\\u002Fp\\u003E\\u003Cp data-pid=\\\"yLxryo-A\\\"\\u003E高三（2）班的\\u003Cb\\u003E梦奇\\u003C\\u002Fb\\u003E同学，在老师询问其姓名时含糊其辞，被取消考试资格。\\u003C\\u002Fp\\u003E\\u003Cp data-pid=\\\"tadU9FM-\\\"\\u003E高三（3）班的\\u003Cb\\u003E盾山\\u003C\\u002Fb\\u003E同学，因为同样的原因，也被取消考试资格。\\u003C\\u002Fp\\u003E\\u003Cp data-pid=\\\"poI4UhmD\\\"\\u003E高三（6）班的\\u003Cb\\u003E曹操\\u003C\\u002Fb\\u003E同学公然抄袭邻座司马懿，并声称“宁教我负天下人”，其行为属于明知故犯，目无师长，严重违反学校相关管理纪律。\\u003C\\u002Fp\\u003E\\u003Cp data-pid=\\\"bDvglJ9H\\\"\\u003E高三（12）班的\\u003Cb\\u003E刘邦\\u003C\\u002Fb\\u003E同学，考试期间突然消失，并出现在隔壁考场张良的课桌旁。\\u003C\\u002Fp\\u003E\\u003Cp data-pid=\\\"GvPQ1__x\\\"\\u003E高三（1）班的\\u003Cb\\u003E小乔\\u003C\\u002Fb\\u003E同学，考试过程中反复吹起前桌答题卡。\\u003C\\u002Fp\\u003E\\u003Cp data-pid=\\\"1hX-k-kG\\\"\\u003E高三（10）班的\\u003Cb\\u003E百里守约\\u003C\\u002Fb\\u003E，考试前擅自布置眼睛，考试中用狙击镜偷看他人答卷。\\u003C\\u002Fp\\u003E\\u003Cp data-pid=\\\"7VSBdFgh\\\"\\u003E高三（14）班的\\u003Cb\\u003E典韦\\u003C\\u002Fb\\u003E同学，考试期间突然发狂，撕碎答题纸。\\u003C\\u002Fp\\u003E\\u003Cp data-pid=\\\"UEKY3GER\\\"\\u003E高三（9）班的\\u003Cb\\u003E钟馗\\u003C\\u002Fb\\u003E同学，明目张胆钩走诸葛亮的试卷。\\u003C\\u002Fp\\u003E\\u003Cp data-pid=\\\"bgYuRQTj\\\"\\u003E高三（11）班的\\u003Cb\\u003E老夫子\\u003C\\u002Fb\\u003E同学，将监考老师绑在明灯上，号称自己是“万世师表”。情节特别严重！\\u003C\\u002Fp\\u003E\\u003Cp data-pid=\\\"o6Ryo6w3\\\"\\u003E高三（12）班的\\u003Cb\\u003E阿珂\\u003C\\u002Fb\\u003E同学，多次背刺监考老师，被驱赶出考场。\\u003C\\u002Fp\\u003E\\u003Cp data-pid=\\\"DzdHQBv-\\\"\\u003E高三（17）班的\\u003Cb\\u003E武则天\\u003C\\u002Fb\\u003E同学，考试期间开大，获取其他同学视野。并对监考老师说出“朕偶尔也想任性一把”、“叫我女王大人”等狂妄之词。\\u003C\\u002Fp\\u003E\\u003Cp data-pid=\\\"rMuEhfIM\\\"\\u003E高三（4）班的\\u003Cb\\u003E云中君\\u003C\\u002Fb\\u003E同学，擅自变成鸟人，且发型不符合规定。\\u003C\\u002Fp\\u003E\\u003Cp data-pid=\\\"VfoDYfMz\\\"\\u003E高三（9）班的\\u003Cb\\u003E达摩\\u003C\\u002Fb\\u003E同学，赤裸上半身参加考试，行为有伤风化，被禁止入场。\\u003C\\u002Fp\\u003E\\u003Cp data-pid=\\\"qx7TReaZ\\\"\\u003E高三（10）班的\\u003Cb\\u003E大乔\\u003C\\u002Fb\\u003E同学，使用电梯流回家翻书再重返考场，目无法纪。\\u003C\\u002Fp\\u003E\\u003Cp data-pid=\\\"7kt3sExl\\\"\\u003E高三（5）班的\\u003Cb\\u003E马超\\u003C\\u002Fb\\u003E同学，坚持要携带4把长枪进入考场，被监考老师取消考试资格。\\u003C\\u002Fp\\u003E\\u003Cp data-pid=\\\"zhqcFo_d\\\"\\u003E高三（7）班的\\u003Cb\\u003E芈月\\u003C\\u002Fb\\u003E同学，因为擅自携带野生动物进场，被一并取消考试资格。\\u003C\\u002Fp\\u003E\\u003Cp data-pid=\\\"bk9wwssY\\\"\\u003E高三（18）班的\\u003Cb\\u003E瑶\\u003C\\u002Fb\\u003E同学，未经允许骑在别的同学身上阅卷，多次劝阻无效。\\u003C\\u002Fp\\u003E\\u003Cp data-pid=\\\"j17rF5k7\\\"\\u003E高三（17）班的\\u003Cb\\u003E上官婉儿\\u003C\\u002Fb\\u003E，反复和监考老师说“我会上天”之类奇怪的话，被老师警告。\\u003C\\u002Fp\\u003E\\u003Cp data-pid=\\\"1lklj3n1\\\"\\u003E高三（15）班的\\u003Cb\\u003E干将\\u003C\\u002Fb\\u003E和同班的\\u003Cb\\u003E莫邪\\u003C\\u002Fb\\u003E，坚持两人共同答题，在老师多次劝阻无用后，竟公然抱在一起。这是严重影响校风建设的行为！\\u003C\\u002Fp\\u003E\\u003Cp data-pid=\\\"7Hcm2arr\\\"\\u003E以上各位同学严重违反校规校纪，给本校带来了不良的社会评价。\\u003C\\u002Fp\\u003E\\u003Cp data-pid=\\\"Z3GbFDg5\\\"\\u003E为严肃规范学风，警戒他人，杜绝此类现象的发生，根据教育部门有关规定，经校委会研究决定，给予以上诸位同学全校通报批评处分，本次普通高等学校招生全国统一考试成绩记为零分。\\u003C\\u002Fp\\u003E\\u003Cp data-pid=\\\"bu0EYxTK\\\"\\u003E希望全校学生以此为戒！在学校中严格遵照规定考试，如再发生类似现象，学校将给予严肃处理！\\u003C\\u002Fp\\u003E\\u003Cp data-pid=\\\"XfMkF5mh\\\"\\u003E\\u003Cb\\u003E    特此通报！\\u003C\\u002Fb\\u003E\\u003C\\u002Fp\\u003E\\u003Cp class=\\\"ztext-empty-paragraph\\\"\\u003E\\u003Cbr\\u002F\\u003E\\u003C\\u002Fp\\u003E\\u003Cp class=\\\"ztext-empty-paragraph\\\"\\u003E\\u003Cbr\\u002F\\u003E\\u003C\\u002Fp\\u003E\\u003Cp data-pid=\\\"g_nFAbE1\\\"\\u003E                                                                                          稷下学院政教处\\u003C\\u002Fp\\u003E\\u003Cp data-pid=\\\"wbgN2F1m\\\"\\u003E                                                                                          2020年7月9日\\u003C\\u002Fp\\u003E\\u003Cfigure data-size=\\\"normal\\\"\\u003E\\u003Cimg src=\\\"https:\\u002F\\u002Fpic1.zhimg.com\\u002F50\\u002Fv2-a13664b95b06bda43bdccc82411da612_720w.jpg?source=1940ef5c\\\" data-size=\\\"normal\\\" data-rawwidth=\\\"460\\\" data-rawheight=\\\"367\\\" data-default-watermark-src=\\\"https:\\u002F\\u002Fpic3.zhimg.com\\u002F50\\u002Fv2-d95e1d7d4ac0d06cd35a047109dd193f_720w.jpg?source=1940ef5c\\\" class=\\\"origin_image zh-lightbox-thumb\\\" width=\\\"460\\\" data-original=\\\"https:\\u002F\\u002Fpic2.zhimg.com\\u002Fv2-a13664b95b06bda43bdccc82411da612_r.jpg?source=1940ef5c\\\"\\u002F\\u003E\\u003Cfigcaption\\u003E没有给我点赞就想走，根本没把我放在盐里！\\u003C\\u002Ffigcaption\\u003E\\u003C\\u002Ffigure\\u003E\\u003Cp data-pid=\\\"PfyGDRR3\\\"\\u003E最后，祝各位小伙伴考出一个好成绩！\\u003C\\u002Fp\\u003E\\u003Cp data-pid=\\\"3VPdcozP\\\"\\u003E也感谢 \\u003Ca class=\\\"member_mention\\\" href=\\\"https:\\u002F\\u002Fwww.zhihu.com\\u002Fpeople\\u002Ff35ba1ba4c8797d7b703ca018773ebeb\\\" data-hash=\\\"f35ba1ba4c8797d7b703ca018773ebeb\\\" data-hovercard=\\\"p$b$f35ba1ba4c8797d7b703ca018773ebeb\\\"\\u003E@铅文\\u003C\\u002Fa\\u003E  提供这个段子的点子⁄(⁄ ⁄•⁄ω⁄•⁄ ⁄)⁄\\u003C\\u002Fp\\u003E\\u003Cp data-pid=\\\"_RwAa-z6\\\"\\u003E感谢 \\u003Ca class=\\\"member_mention\\\" href=\\\"https:\\u002F\\u002Fwww.zhihu.com\\u002Fpeople\\u002F7c19e05b34d7280fbfa3533fccc09089\\\" data-hash=\\\"7c19e05b34d7280fbfa3533fccc09089\\\" data-hovercard=\\\"p$b$7c19e05b34d7280fbfa3533fccc09089\\\"\\u003E@校花的男友\\u003C\\u002Fa\\u003E 、 \\u003Ca class=\\\"member_mention\\\" href=\\\"https:\\u002F\\u002Fwww.zhihu.com\\u002Fpeople\\u002F9b6a7438abab2d11561f61c5a448985d\\\" data-hash=\\\"9b6a7438abab2d11561f61c5a448985d\\\" data-hovercard=\\\"p$b$9b6a7438abab2d11561f61c5a448985d\\\"\\u003E@半眸浅笑\\u003C\\u002Fa\\u003E 、 \\u003Ca class=\\\"member_mention\\\" href=\\\"https:\\u002F\\u002Fwww.zhihu.com\\u002Fpeople\\u002F30b048dec306500836768412d3273361\\\" data-hash=\\\"30b048dec306500836768412d3273361\\\" data-hovercard=\\\"p$b$30b048dec306500836768412d3273361\\\"\\u003E@深南旧巷\\u003C\\u002Fa\\u003E 知友提醒，抖音有与我文案类似的视频。\\u003C\\u002Fp\\u003E\\u003Cp data-pid=\\\"cevt8xim\\\"\\u003E属于不规范转载，不过我看过之后，觉得人家配了视频，也算二次创作。\\u003C\\u002Fp\\u003E\\u003Cp data-pid=\\\"et4uTc6a\\\"\\u003E而且这就是个段子，博人一乐，我不想较真。\\u003C\\u002Fp\\u003E\\u003Ch2\\u003E推荐阅读：高考干货，来自语文单科省十的宝之大者。\\u003C\\u002Fh2\\u003E\\u003Ca href=\\\"https:\\u002F\\u002Fwww.zhihu.com\\u002Fquestion\\u002F442912614\\u002Fanswer\\u002F2222777915\\\" data-draft-node=\\\"block\\\" data-draft-type=\\\"link-card\\\" data-image=\\\"https:\\u002F\\u002Fpic2.zhimg.com\\u002Fv2-1423e0d3cedf46f67769ee539ef5b57d_ipico.jpg\\\" data-image-width=\\\"749\\\" data-image-height=\\\"705\\\" class=\\\"internal\\\"\\u003E哪种字体利于高考啊？\\u003C\\u002Fa\\u003E\\u003Cp\\u003E\\u003C\\u002Fp\\u003E\",\"mark_infos\":[],\"relationship\":{\"is_thanked\":false,\"is_nothelp\":false,\"voting\":0,\"upvoted_followee_ids\":[]},\"is_labeled\":false,\"visited_count\":773144,\"creation_relationship\":{},\"favorite_count\":3591},\"brief\":\"{\\\"source\\\": \\\"TS\\\", \\\"type\\\": \\\"answer\\\", \\\"id\\\": 1327805592}\",\"uninterest_reasons\":[{\"reason_id\":3,\"reason_type\":\"topic\",\"object_token\":\"19551147\",\"object_type\":\"topic\",\"reason_text\":\"生活\"},{\"reason_id\":3,\"reason_type\":\"topic\",\"object_token\":\"20034016\",\"object_type\":\"topic\",\"reason_text\":\"王者荣耀\"},{\"reason_id\":3,\"reason_type\":\"topic\",\"object_token\":\"19550994\",\"object_type\":\"topic\",\"reason_text\":\"游戏\"},{\"reason_id\":3,\"reason_type\":\"topic\",\"object_token\":\"19567664\",\"object_type\":\"topic\",\"reason_text\":\"高考\"},{\"reason_id\":2,\"reason_type\":\"creator\",\"object_token\":\"f4045425de757cfe3a8d10443f7597f4\",\"object_type\":\"people\",\"reason_text\":\"宝之大者创作的内容\"}],\"attached_info\":\"CogECP37l5bptK2NuAEQBBoJMjcxNDg2ODQwIMqLmvgFKJfdATDUBkABSiwKI1RTX1NPVVJDRV9aUkVDQUxMX1RFWFRfVE9XX1RPV0VSX1YxEgEwGAAgAFoINTI0NDg3NTZiIDIyNzhiNmNmYTQ0ODZiZjgzY2RhZTBkYzkyZDg1MmRkcgoxMzI3ODA1NTkyigEJNDA1NzcwMjAwqgEJcmVjb21tZW5k8gEFCAsSATHyAQoIDBIGTm9ybWFs8gEoCAoSJDAzYzA2NjcyLTgyOTItNDFhOC1iMWQwLWQ2MGI1MzFhYzQxYYgCltCr74owkgIgZjQwNDU0MjVkZTc1N2NmZTNhOGQxMDQ0M2Y3NTk3ZjSaAgDKAhRGaXJzdEJydXNoV2VpZ2h0UnVsZcoCDkN1cnJlbmN5UmFua2Vy2gIjVFNfU09VUkNFX1pSRUNBTExfVEVYVF9UT1dfVE9XRVJfVjHoAgP6AgtOT1JNQUxfRkxPV4oDIDgzNDFiMzBlMDIwNzQ0Yjc4MzY4MmQxYmQ3NjE5MTIxmgMGCgJ2MhAAqAOYmC\\u002FCAyXlpI3ml6blpKflraYg5Li05bqK5Yy75a2m5Y2a5aOr5Zyo6K+7ygMYaWRlbnRpdHksaWRlbnRpdHlfcGVvcGxl0gMcMi44IOS4h+i1nuWQjCDCtyA0MTM5IOaUtuiXj9gDAJICJQoJMjcxNDg2ODQwEgoxMzI3ODA1NTkyGAQiCklNQUdFX1RFWFQ=\",\"actors\":[{\"id\":\"19550228\",\"type\":\"topic\",\"url\":\"https:\\u002F\\u002Fwww.zhihu.com\\u002Ftopic\\u002F19550228\\u002Fhot\",\"avatar_url\":\"https:\\u002F\\u002Fpic4.zhimg.com\\u002F50\\u002Fe82bab09c_s.jpg\",\"name\":\"随便看看\",\"excerpt\":\"\",\"introduction\":\"\"}],\"show_actor_time\":false,\"action_text\":\"随便看看\",\"action_text_tpl\":\"热门内容, 来自: {}\",\"action_card\":false},{\"id\":\"2_1652185294.377\",\"type\":\"feed\",\"offset\":2,\"verb\":\"TOPIC_ACKNOWLEDGED_ANSWER\",\"created_time\":1652185294,\"updated_time\":1652185294,\"target\":{\"id\":2460294022,\"type\":\"answer\",\"url\":\"https:\\u002F\\u002Fapi.zhihu.com\\u002Fanswers\\u002F2460294022\",\"author\":{\"id\":\"882f8183c456bdec271b8e1677b06b40\",\"type\":\"people\",\"url\":\"https:\\u002F\\u002Fapi.zhihu.com\\u002Fpeople\\u002F882f8183c456bdec271b8e1677b06b40\",\"user_type\":\"people\",\"url_token\":\"ha-lou-shu-xian-sheng-69\",\"name\":\"哈喽树先生\",\"headline\":\"文不能措词，武不能防身\",\"avatar_url\":\"https:\\u002F\\u002Fpic1.zhimg.com\\u002F50\\u002Fv2-2345f76fdb2aeaaf04696784564c6eb8_m.jpg\",\"is_org\":false,\"gender\":1,\"badge\":[],\"followers_count\":99,\"is_following\":false,\"is_followed\":false},\"created_time\":1651053088,\"updated_time\":1651845709,\"voteup_count\":6000,\"thanks_count\":543,\"comment_count\":430,\"is_copyable\":true,\"question\":{\"id\":459392094,\"type\":\"question\",\"url\":\"https:\\u002F\\u002Fapi.zhihu.com\\u002Fquestions\\u002F459392094\",\"author\":{\"id\":\"b0a93fc2c8396dac4512f7227dcf85a2\",\"type\":\"people\",\"url\":\"https:\\u002F\\u002Fapi.zhihu.com\\u002Fpeople\\u002Fb0a93fc2c8396dac4512f7227dcf85a2\",\"user_type\":\"people\",\"url_token\":\"free-2-78\",\"name\":\"free\",\"headline\":\"硬件工程师\",\"avatar_url\":\"https:\\u002F\\u002Fpic4.zhimg.com\\u002F50\\u002F3c83044216f58983b77638556d94c779_m.jpg\",\"is_org\":false,\"gender\":0,\"badge\":[],\"followers_count\":546,\"is_following\":false,\"is_followed\":false},\"title\":\"如何看待年轻人“躺平”的现象？\",\"created\":1620973587,\"answer_count\":2467,\"follower_count\":8057,\"comment_count\":52,\"bound_topic_ids\":[12706,27782,105508,110044],\"is_following\":false,\"excerpt\":\"\",\"relationship\":{\"is_author\":false},\"detail\":\"\",\"question_type\":\"normal\"},\"excerpt\":\"吾有一计，可立解当前人口经济危局 一.党员干部响应国家政策，九千多万党员带头生孩子，不设上限越多越好，评级评职称如两人各类条件相同，谁生孩子多选谁 生孩子得吃喝拉撒住医疗教育，这样能拉动内需提供就业岗位解决地产过剩问题 这时候有同志说了，生多了我们也养不起啊 别急，有政策! 二.推出“党员贷” 众所周知党员干部都比较清贫，又想起带头作怕养不起，所以银行隆重推出党员贷，供你们买房，养娃，也可以拿去投资，随…\",\"excerpt_new\":\"吾有一计，可立解当前人口经济危局 一.党员干部响应国家政策，九千多万党员带头生孩子，不设上限越多越好，评级评职称如两人各类条件相同，谁生孩子多选谁 生孩子得吃喝拉撒住医疗教育，这样能拉动内需提供就业岗位解决地产过剩问题 这时候有同志说了，生多了我们也养不起啊 别急，有政策! 二.推出“党员贷” 众所周知党员干部都比较清贫，又想起带头作怕养不起，所以银行隆重推出党员贷，供你们买房，养娃，也可以拿去投资，随…\",\"preview_type\":\"default\",\"preview_text\":\"\",\"reshipment_settings\":\"allowed\",\"content\":\"\\u003Cp data-pid=\\\"4GY0_qCT\\\"\\u003E吾有一计，可立解当前人口经济危局\\u003C\\u002Fp\\u003E\\u003Cp data-pid=\\\"9C6_uKSu\\\"\\u003E一.党员干部响应国家政策，九千多万党员带头生孩子，不设上限越多越好，评级评职称如两人各类条件相同，谁生孩子多选谁\\u003C\\u002Fp\\u003E\\u003Cp data-pid=\\\"9C6_uKSu\\\" class=\\\"ztext-empty-paragraph\\\"\\u003E\\u003Cbr\\u002F\\u003E\\u003C\\u002Fp\\u003E\\u003Cp data-pid=\\\"9C6_uKSu\\\"\\u003E生孩子得吃喝拉撒住医疗教育，这样能拉动内需提供就业岗位解决地产过剩问题\\u003C\\u002Fp\\u003E\\u003Cp data-pid=\\\"9C6_uKSu\\\" class=\\\"ztext-empty-paragraph\\\"\\u003E\\u003Cbr\\u002F\\u003E\\u003C\\u002Fp\\u003E\\u003Cp data-pid=\\\"9C6_uKSu\\\"\\u003E这时候有同志说了，生多了我们也养不起啊\\u003C\\u002Fp\\u003E\\u003Cp data-pid=\\\"9C6_uKSu\\\"\\u003E别急，有政策!\\u003C\\u002Fp\\u003E\\u003Cp data-pid=\\\"9C6_uKSu\\\"\\u003E二.推出“党员贷”\\u003C\\u002Fp\\u003E\\u003Cp data-pid=\\\"9C6_uKSu\\\"\\u003E众所周知党员干部都比较清贫，又想起带头作怕养不起，所以银行隆重推出党员贷，供你们买房，养娃，也可以拿去投资，随便怎么花。鉴于党员们资质信誉特别好，普通人贷款上限三十年，你们六十年起步，最好一百年，为啥?百年，党，这几个字眼多好，多红。还不完可以子女继承，党员干部的子女们肯定也都是信誉好资质好，所以完全可以继承\\u003C\\u002Fp\\u003E\\u003Cp data-pid=\\\"9C6_uKSu\\\" class=\\\"ztext-empty-paragraph\\\"\\u003E\\u003Cbr\\u002F\\u003E\\u003C\\u002Fp\\u003E\\u003Cp data-pid=\\\"9C6_uKSu\\\"\\u003E那么党员子女有话要说了，我们不想生下来就还贷款啊，别急，有政策!\\u003C\\u002Fp\\u003E\\u003Cp data-pid=\\\"9C6_uKSu\\\" class=\\\"ztext-empty-paragraph\\\"\\u003E\\u003Cbr\\u002F\\u003E\\u003C\\u002Fp\\u003E\\u003Cp data-pid=\\\"9C6_uKSu\\\"\\u003E三.成功继承党员贷的干部子女，没入党的自动入党，没出生的，出生即党员，你看，有的人一辈子想入都入不了，你出生就是党员，这是什么差距?你可以对别人大声自豪的说，我是百年党员贷继承\\u003C\\u002Fp\\u003E\\u003Cp data-pid=\\\"9C6_uKSu\\\" class=\\\"ztext-empty-paragraph\\\"\\u003E\\u003Cbr\\u002F\\u003E\\u003C\\u002Fp\\u003E\\u003Cp data-pid=\\\"9C6_uKSu\\\"\\u003E那么这时候高干子女们又有话说了，我爸是高级干部，他爹是基层干部，同样继承，但都是普通党员，不公平吧?别急，有政策!\\u003C\\u002Fp\\u003E\\u003Cp data-pid=\\\"9C6_uKSu\\\" class=\\\"ztext-empty-paragraph\\\"\\u003E\\u003Cbr\\u002F\\u003E\\u003C\\u002Fp\\u003E\\u003Cp data-pid=\\\"9C6_uKSu\\\"\\u003E四成功继承百年党员贷的干部子女，可以根据双亲生前最高职务级别继承部分职务级别，举例:你爹生前是正三品刑部侍郎，你成功的继承了百年党员贷，那么你成年后便可以直接成为六品刑部主事，以此类推，这样保证了干部子女继承平衡州还能保证根正苗红，千秋万世的传下去，多好、上的学肯定是干部子弟学校，大家都是继承者，但你爹的官最大，那么在学校里就没人敢惹你，因为都知道你将来是要当大官的，都会拥护你\\u003C\\u002Fp\\u003E\\u003Cp data-pid=\\\"Uk-qHqLV\\\"\\u003E好处还有很多，依我的智商目前只想到这些，欢迎大家补充，总之这是个一石好多鸟的办法，建议立即全国推行，不出五年，全国形式必定一片大好\\u003C\\u002Fp\\u003E\\u003Cp class=\\\"ztext-empty-paragraph\\\"\\u003E\\u003Cbr\\u002F\\u003E\\u003C\\u002Fp\\u003E\\u003Cp data-pid=\\\"9C6_uKSu\\\" class=\\\"ztext-empty-paragraph\\\"\\u003E\\u003Cbr\\u002F\\u003E\\u003C\\u002Fp\\u003E\\u003Cp class=\\\"ztext-empty-paragraph\\\"\\u003E\\u003Cbr\\u002F\\u003E\\u003C\\u002Fp\\u003E\\u003Cp data-pid=\\\"meVvwRQf\\\"\\u003E更更更更\\u003C\\u002Fp\\u003E\\u003Cp data-pid=\\\"lgFcP7N1\\\"\\u003E五.富强 民主 文明 和谐\\u003C\\u002Fp\\u003E\\u003Cp data-pid=\\\"21qZO86b\\\"\\u003E     自由 平等 公正 法治\\u003C\\u002Fp\\u003E\\u003Cp data-pid=\\\"F8W287a2\\\"\\u003E     爱国 敬业 诚信 友善\\u003C\\u002Fp\\u003E\",\"mark_infos\":[],\"relationship\":{\"is_thanked\":false,\"is_nothelp\":false,\"voting\":0,\"upvoted_followee_ids\":[]},\"is_labeled\":false,\"visited_count\":261389,\"creation_relationship\":{},\"favorite_count\":696},\"brief\":\"{\\\"source\\\": \\\"TS\\\", \\\"type\\\": \\\"answer\\\", \\\"id\\\": 2460294022}\",\"uninterest_reasons\":[{\"reason_id\":3,\"reason_type\":\"topic\",\"object_token\":\"19588362\",\"object_type\":\"topic\",\"reason_text\":\"年轻人\"},{\"reason_id\":3,\"reason_type\":\"topic\",\"object_token\":\"19860414\",\"object_type\":\"topic\",\"reason_text\":\"热点话题\"},{\"reason_id\":3,\"reason_type\":\"topic\",\"object_token\":\"19874028\",\"object_type\":\"topic\",\"reason_text\":\"高房价\"},{\"reason_id\":3,\"reason_type\":\"topic\",\"object_token\":\"19633259\",\"object_type\":\"topic\",\"reason_text\":\"加班文化\"},{\"reason_id\":2,\"reason_type\":\"creator\",\"object_token\":\"882f8183c456bdec271b8e1677b06b40\",\"object_type\":\"people\",\"reason_text\":\"哈喽树先生创作的内容\"}],\"attached_info\":\"CqQDCP37l5bptK2NuAEQBBoJNDc3NDA5NDgyIKCkpJMGKPAuMK4DQAJKHAoTVFNfU09VUkNFX0ZFRURSRV9WMhIBMBgAIABaCDY0MzY3NDYzYiAyMjc4YjZjZmE0NDg2YmY4M2NkYWUwZGM5MmQ4NTJkZHIKMjQ2MDI5NDAyMooBCTQ1OTM5MjA5NKoBCXJlY29tbWVuZPIBBQgLEgEx8gEKCAwSBk5vcm1hbPIBKAgKEiQ2MWIzNDhkOC1lZTllLTQ4OGQtYWU5NC05NGFlZWY0ZTM2M2SIApbQq++KMJICIDg4MmY4MTgzYzQ1NmJkZWMyNzFiOGUxNjc3YjA2YjQwmgIAygIURmlyc3RCcnVzaFdlaWdodFJ1bGXKAg5DdXJyZW5jeVJhbmtlctoCE1RTX1NPVVJDRV9GRUVEUkVfVjLoAgP6AgtOT1JNQUxfRkxPV4oDIDgzNDFiMzBlMDIwNzQ0Yjc4MzY4MmQxYmQ3NjE5MTIxmgMGCgJ2MhAAqAON+g\\u002FCAwDSAxk2MDAwIOi1nuWQjCDCtyA0MzAg6K+E6K662AMAkgIlCgk0Nzc0MDk0ODISCjI0NjAyOTQwMjIYBCIKSU1BR0VfVEVYVA==\",\"actors\":[{\"id\":\"19550228\",\"type\":\"topic\",\"url\":\"https:\\u002F\\u002Fwww.zhihu.com\\u002Ftopic\\u002F19550228\\u002Fhot\",\"avatar_url\":\"https:\\u002F\\u002Fpic4.zhimg.com\\u002F50\\u002Fe82bab09c_s.jpg\",\"name\":\"随便看看\",\"excerpt\":\"\",\"introduction\":\"\"}],\"show_actor_time\":false,\"action_text\":\"随便看看\",\"action_text_tpl\":\"热门内容, 来自: {}\",\"action_card\":false},{\"id\":\"AD_2267377_16521852948700\",\"type\":\"feed_advert\",\"brief\":\"{\\\"source\\\":\\\"PR\\\",\\\"type\\\":\\\"feed_advert\\\",\\\"id\\\":2267377}\",\"action_text\":\"\",\"attached_info\":\"CkwI\\u002FfuXlum0rY24AZABAdoBJDllOGQ2YThjLWZmZjItNDViYy1hMzM2LWE1YzA5NzFhMTMwOfIBBggMEgJBZPoCC0FEVkVSVF9GTE9XMhQtNTE4MDYyODY5NDMwNDY4NjU5NQ==\",\"ad\":{\"count\":0,\"position\":0,\"ad_verb\":\"PROMOTE_URL_CARD\",\"close_track\":\"https:\\u002F\\u002Fsugar.zhihu.com\\u002Fplutus_adreaper?pdi=1592213720896474&tu=https%3A%2F%2Fwww.agora.io%2Fcn%2Fform%2Fleads%3Futm_source%3Dzhihu%26utm_medium%3Dcpc%26utm_campaign%3Dpc_form%26utm_term%3Dwenan%26utm_content%3Dsdk&ut=45705d6745e14ca2aa7e8db26508061c&pf=4&ed=CjEEfR4wM318R2NXBzYuUUYkW3sObm4meRN_BVQ2Lx1Ycgl-C3o7JntAMV8XMTYNXGNYI1x-aHJ4EmFQBnY8WVZ0Cn0PdmN5aEY7WgNiegJSfAxsWzdncGhGPVoAY30WCTUEewtyfCw7GGNXBmJ1A19yD2xNKmdyehU3XQVlKAoIIAh7AiJueHRBNlBTantTDXEDfFx1P3osFTFTFyQ_DVpzDHgJe29ydxF0BkZtfBYKMAR4CHRreOPpwsZkEM49&idi=100010066&nt=0&ar=0.00000000000000000005771331355475805\",\"revert_close_track\":\"https:\\u002F\\u002Fsugar.zhihu.com\\u002Fplutus_adreaper?ed=CjEEch4wM318R2NXBzYuUUYkW3sObm4meRN_BVQ2Lx1Ycgl-C3o7JntAMV8XMTYNXGNYI1x-aHJ4EmFQBnY8WVZ0Cn0PdmN5aEY7WgNiegJSfAxsWzdncGhGPVoAY30WCTUEewtyfCw7GGNXBmJ1A19yD2xNKmdyehU3XQVlKAoIIAh7AiJueHRBNlBTantTDXEDfFx1P3osFTFTFyQ_DVpzDHgJe29ydxF0BkZtfBYKMAR4CHRreA96AvBfRCuK&ut=45705d6745e14ca2aa7e8db26508061c&tu=https%3A%2F%2Fwww.agora.io%2Fcn%2Fform%2Fleads%3Futm_source%3Dzhihu%26utm_medium%3Dcpc%26utm_campaign%3Dpc_form%26utm_term%3Dwenan%26utm_content%3Dsdk&ar=0.00000000000000000005771331355475805&pf=4&idi=100010066&nt=0&pdi=1592213720896474\",\"template\":\"web_image_feed\",\"load_tracks\":[\"https:\\u002F\\u002Fsugar.zhihu.com\\u002Fplutus_adreaper?idi=100010066&pdi=1592213720896474&ed=CjEEeB4wM318R2NXBzYuUUYkW3sObm4meRN_BVQ2Lx1Ycgl-C3o7JntAMV8XMTYNXGNYI1x-aHJ4EmFQBnY8WVZ0Cn0PdmN5aEY7WgNiegJSfAxsWzdncGhGPVoAY30WCTUEewtyfCw7GGNXBmJ1A19yD2xNKmdyehU3XQVlKAoIIAh7AiJueHRBNlBTantTDXEDfFx1P3osFTFTFyQ_DVpzDHgJe29ydxF0BkZtfBYKMAR4CHRreFVxd2a4q5Bz&ut=45705d6745e14ca2aa7e8db26508061c&nt=0&tu=https%3A%2F%2Fwww.agora.io%2Fcn%2Fform%2Fleads%3Futm_source%3Dzhihu%26utm_medium%3Dcpc%26utm_campaign%3Dpc_form%26utm_term%3Dwenan%26utm_content%3Dsdk&pf=4&ar=0.00000000000000000005771331355475805\"],\"creatives\":[{\"landing_url\":\"https:\\u002F\\u002Fwww.agora.io\\u002Fcn\\u002Fform\\u002Fleads?utm_source=zhihu&utm_medium=cpc&utm_campaign=pc_form&utm_term=wenan&utm_content=sdk\",\"image\":\"https:\\u002F\\u002Fpic2.zhimg.com\\u002Fv2-8bf2e70107832f4907c26859076ae59d_bh.jpg?source=d6434cab\",\"image_2x\":\"\",\"title\":\"一个实时音视频SDK，满足全场景社交需求，一键接入\",\"description\":\"产品开发技术难度大、成本高、周期长？实时互动延迟高，用户体验差？声网实时音视频，API接口丰富，简单易用。支持百万人实时语音及视频互动。适用于各种场景需求，每月10000分钟免费使用\",\"button\":\"查看详情\",\"action_button\":false,\"footer\":{\"value\":\"\"},\"cta\":{\"value\":\"查看详情\"},\"brand\":{\"id\":0,\"name\":\"声网Agora SDK\",\"logo\":\"https:\\u002F\\u002Fpic3.zhimg.com\\u002Fv2-58d12009a81cb8978985d4ecfa55682f_xl.png?source=d6434cab\"},\"app_promotion_url\":\"\",\"native_url\":\"\",\"deep_url\":\"\",\"video_watch_num\":0,\"za_ad_info\":\"CPGxigEQByIBMV2y9MROYNOPigE=\",\"za_ad_info_json\":\"{\\\"ad_id\\\":2267377,\\\"ad_zone_id\\\":7,\\\"category\\\":\\\"1\\\",\\\"timestamp\\\":1652185300,\\\"creative_id\\\":2262995}\",\"external_click_url\":\"\",\"impression_tracks\":[\"https:\\u002F\\u002Fsugar.zhihu.com\\u002Fplutus_adreaper?nt=0&ut=45705d6745e14ca2aa7e8db26508061c&ar=0.00000000000000000005771331355475805&ed=CjEEeR4wM318R2NXBzYuUUYkW3sObm4meRN_BVQ2Lx1Ycgl-C3o7JntAMV8XMTYNXGNYI1x-aHJ4EmFQBnY8WVZ0Cn0PdmN5aEY7WgNiegJSfAxsWzdncGhGPVoAY30WCTUEewtyfCw7GGNXBmJ1A19yD2xNKmdyehU3XQVlKAoIIAh7AiJueHRBNlBTantTDXEDfFx1P3osFTFTFyQ_DVpzDHgJe29ydxF0BkZtfBYKMAR4CHRreFrMh9FOO70E&pdi=1592213720896474&pf=4&idi=100010066&tu=https%3A%2F%2Fwww.agora.io%2Fcn%2Fform%2Fleads%3Futm_source%3Dzhihu%26utm_medium%3Dcpc%26utm_campaign%3Dpc_form%26utm_term%3Dwenan%26utm_content%3Dsdk\"],\"click_tracks\":[\"https:\\u002F\\u002Fsugar.zhihu.com\\u002Fplutus_adreaper?pf=4&nt=0&idi=100010066&ar=0.00000000000000000005771331355475805&ed=CjEEfh4wM318R2NXBzYuUUYkW3sObm4meRN_BVQ2Lx1Ycgl-C3o7JntAMV8XMTYNXGNYI1x-aHJ4EmFQBnY8WVZ0Cn0PdmN5aEY7WgNiegJSfAxsWzdncGhGPVoAY30WCTUEewtyfCw7GGNXBmJ1A19yD2xNKmdyehU3XQVlKAoIIAh7AiJueHRBNlBTantTDXEDfFx1P3osFTFTFyQ_DVpzDHgJe29ydxF0BkZtfBYKMAR4CHRreJ6UhIxxy6xI&pdi=1592213720896474&ut=45705d6745e14ca2aa7e8db26508061c&tu=https%3A%2F%2Fwww.agora.io%2Fcn%2Fform%2Fleads%3Futm_source%3Dzhihu%26utm_medium%3Dcpc%26utm_campaign%3Dpc_form%26utm_term%3Dwenan%26utm_content%3Dsdk\"],\"id\":2267377,\"name\":\"\",\"conversion_tracks\":[\"https:\\u002F\\u002Fsugar.zhihu.com\\u002Fplutus_adreaper?ed=CjEEfx4wM318R2NXBzYuUUYkW3sObm4meRN_BVQ2Lx1Ycgl-C3o7JntAMV8XMTYNXGNYI1x-aHJ4EmFQBnY8WVZ0Cn0PdmN5aEY7WgNiegJSfAxsWzdncGhGPVoAY30WCTUEewtyfCw7GGNXBmJ1A19yD2xNKmdyehU3XQVlKAoIIAh7AiJueHRBNlBTantTDXEDfFx1P3osFTFTFyQ_DVpzDHgJe29ydxF0BkZtfBYKMAR4CHRreOgItJap0lTg&ut=45705d6745e14ca2aa7e8db26508061c&ar=0.00000000000000000005771331355475805&nt=0&tu=https%3A%2F%2Fwww.agora.io%2Fcn%2Fform%2Fleads%3Futm_source%3Dzhihu%26utm_medium%3Dcpc%26utm_campaign%3Dpc_form%26utm_term%3Dwenan%26utm_content%3Dsdk&pdi=1592213720896474&pf=4&idi=100010066\"],\"content_type\":\"\",\"target_token\":\"\"}],\"vote_up_count\":0,\"comment_count\":0,\"is_following\":false,\"category\":1,\"id\":2267377,\"can_interact\":false,\"user_id\":0,\"ctr\":0,\"display_advertising_tag\":true,\"debug_tracks\":[\"https:\\u002F\\u002Fsugar.zhihu.com\\u002Fplutus_adreaper?ut=45705d6745e14ca2aa7e8db26508061c&pdi=1592213720896474&ed=CjEEcx4wM318R2NXBzYuUUYkW3sObm4meRN_BVQ2Lx1Ycgl-C3o7JntAMV8XMTYNXGNYI1x-aHJ4EmFQBnY8WVZ0Cn0PdmN5aEY7WgNiegJSfAxsWzdncGhGPVoAY30WCTUEewtyfCw7GGNXBmJ1A19yD2xNKmdyehU3XQVlKAoIIAh7AiJueHRBNlBTantTDXEDfFx1P3osFTFTFyQ_DVpzDHgJe29ydxF0BkZtfBYKMAR4CHRreOQiEQ8JLxRQ&ar=0.00000000000000000005771331355475805&nt=0&tu=https%3A%2F%2Fwww.agora.io%2Fcn%2Fform%2Fleads%3Futm_source%3Dzhihu%26utm_medium%3Dcpc%26utm_campaign%3Dpc_form%26utm_term%3Dwenan%26utm_content%3Dsdk&pf=4&idi=100010066\"],\"land_prefetch\":false,\"native_prefetch\":true,\"is_new_webview\":true,\"experiment_info\":\"{}\",\"download_silent\":false,\"is_speeding\":false,\"brand\":{\"name\":\"声网Agora SDK\",\"logo\":\"https:\\u002F\\u002Fpic3.zhimg.com\\u002Fv2-58d12009a81cb8978985d4ecfa55682f_xl.png?source=d6434cab\",\"type\":\"brand\",\"action_text\":\"\"}},\"ad_list\":[],\"adjson\":\"{\\\"ads\\\":[{\\\"id\\\":2267377,\\\"ad_zone_id\\\":7,\\\"template\\\":\\\"web_image_feed\\\",\\\"style\\\":\\\"psi_7\\\",\\\"impression_tracks\\\":[\\\"https:\\u002F\\u002Fsugar.zhihu.com\\u002Fplutus_adreaper?ar=0.00000000000000000005771331355475805\\\\u0026pf=4\\\\u0026ed=CjEEeB4wM318R2NXBzYuUUYkW3sObm4meRN_BVQ2Lx1Ycgl-C3o7JntAMV8XMTYNXGNYI1x-aHJ4EmFQBnY8WVZ0Cn0PdmN5aEY7WgNiegJSfAxsWzdncGhGPVoAY30WCTUEewtyfCw7GGNXBmJ1A19yD2xNKmdyehU3XQVlKAoIIAh7AiJueHRBNlBTantTDXEDfFx1P3osFTFTFyQ_DVpzDHgJe29ydxF0BkZtfBYKMAR4CHRreFVxd2a4q5Bz\\\\u0026nt=0\\\\u0026tu=https%3A%2F%2Fwww.agora.io%2Fcn%2Fform%2Fleads%3Futm_source%3Dzhihu%26utm_medium%3Dcpc%26utm_campaign%3Dpc_form%26utm_term%3Dwenan%26utm_content%3Dsdk\\\\u0026pdi=1592213720896474\\\\u0026idi=100010066\\\\u0026ut=45705d6745e14ca2aa7e8db26508061c\\\"],\\\"view_tracks\\\":[\\\"https:\\u002F\\u002Fsugar.zhihu.com\\u002Fplutus_adreaper?ut=45705d6745e14ca2aa7e8db26508061c\\\\u0026ar=0.00000000000000000005771331355475805\\\\u0026nt=0\\\\u0026ed=CjEEeR4wM318R2NXBzYuUUYkW3sObm4meRN_BVQ2Lx1Ycgl-C3o7JntAMV8XMTYNXGNYI1x-aHJ4EmFQBnY8WVZ0Cn0PdmN5aEY7WgNiegJSfAxsWzdncGhGPVoAY30WCTUEewtyfCw7GGNXBmJ1A19yD2xNKmdyehU3XQVlKAoIIAh7AiJueHRBNlBTantTDXEDfFx1P3osFTFTFyQ_DVpzDHgJe29ydxF0BkZtfBYKMAR4CHRreFrMh9FOO70E\\\\u0026tu=https%3A%2F%2Fwww.agora.io%2Fcn%2Fform%2Fleads%3Futm_source%3Dzhihu%26utm_medium%3Dcpc%26utm_campaign%3Dpc_form%26utm_term%3Dwenan%26utm_content%3Dsdk\\\\u0026pdi=1592213720896474\\\\u0026pf=4\\\\u0026idi=100010066\\\"],\\\"click_tracks\\\":[\\\"https:\\u002F\\u002Fsugar.zhihu.com\\u002Fplutus_adreaper?idi=100010066\\\\u0026pf=4\\\\u0026ed=CjEEfh4wM318R2NXBzYuUUYkW3sObm4meRN_BVQ2Lx1Ycgl-C3o7JntAMV8XMTYNXGNYI1x-aHJ4EmFQBnY8WVZ0Cn0PdmN5aEY7WgNiegJSfAxsWzdncGhGPVoAY30WCTUEewtyfCw7GGNXBmJ1A19yD2xNKmdyehU3XQVlKAoIIAh7AiJueHRBNlBTantTDXEDfFx1P3osFTFTFyQ_DVpzDHgJe29ydxF0BkZtfBYKMAR4CHRreJ6UhIxxy6xI\\\\u0026ar=0.00000000000000000005771331355475805\\\\u0026nt=0\\\\u0026tu=https%3A%2F%2Fwww.agora.io%2Fcn%2Fform%2Fleads%3Futm_source%3Dzhihu%26utm_medium%3Dcpc%26utm_campaign%3Dpc_form%26utm_term%3Dwenan%26utm_content%3Dsdk\\\\u0026pdi=1592213720896474\\\\u0026ut=45705d6745e14ca2aa7e8db26508061c\\\"],\\\"close_tracks\\\":[\\\"https:\\u002F\\u002Fsugar.zhihu.com\\u002Fplutus_adreaper?ut=45705d6745e14ca2aa7e8db26508061c\\\\u0026pdi=1592213720896474\\\\u0026nt=0\\\\u0026ar=0.00000000000000000005771331355475805\\\\u0026tu=https%3A%2F%2Fwww.agora.io%2Fcn%2Fform%2Fleads%3Futm_source%3Dzhihu%26utm_medium%3Dcpc%26utm_campaign%3Dpc_form%26utm_term%3Dwenan%26utm_content%3Dsdk\\\\u0026pf=4\\\\u0026idi=100010066\\\\u0026ed=CjEEfR4wM318R2NXBzYuUUYkW3sObm4meRN_BVQ2Lx1Ycgl-C3o7JntAMV8XMTYNXGNYI1x-aHJ4EmFQBnY8WVZ0Cn0PdmN5aEY7WgNiegJSfAxsWzdncGhGPVoAY30WCTUEewtyfCw7GGNXBmJ1A19yD2xNKmdyehU3XQVlKAoIIAh7AiJueHRBNlBTantTDXEDfFx1P3osFTFTFyQ_DVpzDHgJe29ydxF0BkZtfBYKMAR4CHRreOPpwsZkEM49\\\"],\\\"debug_tracks\\\":[\\\"https:\\u002F\\u002Fsugar.zhihu.com\\u002Fplutus_adreaper?pdi=1592213720896474\\\\u0026ar=0.00000000000000000005771331355475805\\\\u0026ed=CjEEcx4wM318R2NXBzYuUUYkW3sObm4meRN_BVQ2Lx1Ycgl-C3o7JntAMV8XMTYNXGNYI1x-aHJ4EmFQBnY8WVZ0Cn0PdmN5aEY7WgNiegJSfAxsWzdncGhGPVoAY30WCTUEewtyfCw7GGNXBmJ1A19yD2xNKmdyehU3XQVlKAoIIAh7AiJueHRBNlBTantTDXEDfFx1P3osFTFTFyQ_DVpzDHgJe29ydxF0BkZtfBYKMAR4CHRreOQiEQ8JLxRQ\\\\u0026pf=4\\\\u0026idi=100010066\\\\u0026ut=45705d6745e14ca2aa7e8db26508061c\\\\u0026nt=0\\\\u0026tu=https%3A%2F%2Fwww.agora.io%2Fcn%2Fform%2Fleads%3Futm_source%3Dzhihu%26utm_medium%3Dcpc%26utm_campaign%3Dpc_form%26utm_term%3Dwenan%26utm_content%3Dsdk\\\"],\\\"conversion_tracks\\\":[\\\"https:\\u002F\\u002Fsugar.zhihu.com\\u002Fplutus_adreaper?pf=4\\\\u0026ar=0.00000000000000000005771331355475805\\\\u0026ut=45705d6745e14ca2aa7e8db26508061c\\\\u0026idi=100010066\\\\u0026ed=CjEEfx4wM318R2NXBzYuUUYkW3sObm4meRN_BVQ2Lx1Ycgl-C3o7JntAMV8XMTYNXGNYI1x-aHJ4EmFQBnY8WVZ0Cn0PdmN5aEY7WgNiegJSfAxsWzdncGhGPVoAY30WCTUEewtyfCw7GGNXBmJ1A19yD2xNKmdyehU3XQVlKAoIIAh7AiJueHRBNlBTantTDXEDfFx1P3osFTFTFyQ_DVpzDHgJe29ydxF0BkZtfBYKMAR4CHRreOgItJap0lTg\\\\u0026pdi=1592213720896474\\\\u0026nt=0\\\\u0026tu=https%3A%2F%2Fwww.agora.io%2Fcn%2Fform%2Fleads%3Futm_source%3Dzhihu%26utm_medium%3Dcpc%26utm_campaign%3Dpc_form%26utm_term%3Dwenan%26utm_content%3Dsdk\\\"],\\\"extra_conversion_tracks\\\":{\\\"call_back\\\":[\\\"https:\\u002F\\u002Fsugar.zhihu.com\\u002Fplutus_adreaper_callback?si=2b106fba-ab16-4f76-befc-370439af5ec8\\\\u0026os=3\\\\u0026zid=7\\\\u0026zaid=2267377\\\\u0026zcid=2262995\\\\u0026cid=2262995\\\\u0026event=__EVENTTYPE__\\\\u0026value=__EVENTVALUE__\\\\u0026ts=__TIMESTAMP__\\\\u0026cts=__TS__\\\\u0026mh=1200652e3c53bd55c2f1e12d557afd31\\\"]},\\\"za_ad_info\\\":\\\"CPGxigEQByIBMV2y9MROYNOPigE=\\\",\\\"za_ad_info_json\\\":\\\"{\\\\\\\"ad_id\\\\\\\":2267377,\\\\\\\"ad_zone_id\\\\\\\":7,\\\\\\\"category\\\\\\\":\\\\\\\"1\\\\\\\",\\\\\\\"timestamp\\\\\\\":1652185300,\\\\\\\"creative_id\\\\\\\":2262995}\\\",\\\"creatives\\\":[{\\\"id\\\":2262995,\\\"asset\\\":{\\\"brand_name\\\":\\\"声网Agora SDK\\\",\\\"brand_logo\\\":\\\"https:\\u002F\\u002Fpic3.zhimg.com\\u002Fv2-58d12009a81cb8978985d4ecfa55682f_xl.png?source=d6434cab\\\",\\\"title\\\":\\\"一个实时音视频SDK，满足全场景社交需求，一键接入\\\",\\\"desc\\\":\\\"产品开发技术难度大、成本高、周期长？实时互动延迟高，用户体验差？声网实时音视频，API接口丰富，简单易用。支持百万人实时语音及视频互动。适用于各种场景需求，每月10000分钟免费使用\\\",\\\"imgs\\\":[\\\"https:\\u002F\\u002Fpic2.zhimg.com\\u002Fv2-8bf2e70107832f4907c26859076ae59d_bh.jpg?source=d6434cab\\\"],\\\"landing_url\\\":\\\"https:\\u002F\\u002Fwww.agora.io\\u002Fcn\\u002Fform\\u002Fleads?utm_source=zhihu\\\\u0026utm_medium=cpc\\\\u0026utm_campaign=pc_form\\\\u0026utm_term=wenan\\\\u0026utm_content=sdk\\\",\\\"img_size\\\":1,\\\"cta\\\":\\\"查看详情\\\",\\\"image_ratio_extra\\\":{\\\"width\\\":25,\\\"height\\\":14},\\\"native_asset\\\":{},\\\"img_full_screen\\\":false}}],\\\"expand\\\":{\\\"display_advertising_tag\\\":true,\\\"download_silent\\\":false,\\\"is_new_webview\\\":true,\\\"is_cdn_speeding\\\":false,\\\"extra\\\":{\\\"parameters\\\":\\\"plugcb=https%3A%2F%2Fsugar.zhihu.com%2Fplutus_adreaper_callback%3Fcid%3D2262995%26ccid%3D1377599%26adid%3D2267377%26zoneid%3D7%26adsource%3Deffect%26sid%3D2b106fba-ab16-4f76-befc-370439af5ec8\\\",\\\"sign\\\":\\\"2b106fba-ab16-4f76-befc-370439af5ec8\\\"},\\\"is_apk_market_direct\\\":false,\\\"interactive\\\":{\\\"deliver_time\\\":\\\"25 分钟前\\\",\\\"browse_string\\\":\\\"25.5 万\\\",\\\"participate_string\\\":\\\"154 \\\",\\\"slide_time_one\\\":3,\\\"slide_time_two\\\":10,\\\"slide_end\\\":true,\\\"deep_link_jump_time\\\":3}},\\\"experiment_info\\\":\\\"{}\\\",\\\"view_x_tracks\\\":[\\\"https:\\u002F\\u002Fsugar.zhihu.com\\u002Fplutus_adreaper?tu=https%3A%2F%2Fwww.agora.io%2Fcn%2Fform%2Fleads%3Futm_source%3Dzhihu%26utm_medium%3Dcpc%26utm_campaign%3Dpc_form%26utm_term%3Dwenan%26utm_content%3Dsdk\\\\u0026ar=0.00000000000000000005771331355475805\\\\u0026pf=4\\\\u0026idi=100010066\\\\u0026ut=45705d6745e14ca2aa7e8db26508061c\\\\u0026nt=0\\\\u0026ed=CjEEewhlKSlzFzBWAWYqUgpoWCgJdXd0KBJkSlM1KlNGdg56DHBjISgQNwQJdi1KVnIfK1EnZ3J8E2VUBmdqQAJ4CHkPdG95dwMxDgxifgZZfAB_HiAufX4DMQgMYX8BTSdJdwlwa2YiUG9WAWd-CVhxDnweNjN9fBFiAgtkeVRRJlx7CXk7dHYfNgMGMnYHCCMNcA4nbCV0R2IEBXY4Q1Z0D38KcmJ1fBxmQVAncQBNJEx3CnNtcXbYVHnHThK-kg%3D%3D\\\\u0026pdi=1592213720896474\\\"],\\\"mobile_experiment\\\":{\\\"ad_ali_tanx\\\":\\\"1\\\",\\\"ad_alibc_sdk\\\":\\\"1\\\",\\\"ad_and_newmorph\\\":\\\"0\\\",\\\"ad_bannerShow\\\":\\\"1\\\",\\\"ad_bannerView\\\":\\\"1\\\",\\\"ad_big_btn\\\":\\\"0\\\",\\\"ad_canvas_leak\\\":\\\"0\\\",\\\"ad_combine_hot\\\":\\\"1\\\",\\\"ad_combine_play\\\":\\\"1\\\",\\\"ad_comm_70\\\":\\\"0\\\",\\\"ad_dep_mac\\\":\\\"1\\\",\\\"ad_dw_leavepage\\\":\\\"10\\\",\\\"ad_dw_process\\\":\\\"0\\\",\\\"ad_dw_retry\\\":\\\"1\\\",\\\"ad_float_point\\\":\\\"1\\\",\\\"ad_focus_click\\\":\\\"1\\\",\\\"ad_follow\\\":\\\"0\\\",\\\"ad_inapp_skip\\\":\\\"0\\\",\\\"ad_info_video\\\":\\\"1\\\",\\\"ad_jump_toast\\\":\\\"0\\\",\\\"ad_markPlugin\\\":\\\"1\\\",\\\"ad_normal_tab\\\":\\\"1\\\",\\\"ad_offline\\\":\\\"0\\\",\\\"ad_pause_dialog\\\":\\\"0\\\",\\\"ad_pre_web\\\":\\\"1\\\",\\\"ad_privacy\\\":\\\"1\\\",\\\"ad_ps_ab\\\":\\\"0\\\",\\\"ad_pull_new\\\":\\\"0\\\",\\\"ad_resume_ab\\\":\\\"1\\\",\\\"ad_rmcode\\\":\\\"1\\\",\\\"ad_room_delete\\\":\\\"1\\\",\\\"ad_sdk_skip\\\":\\\"1\\\",\\\"ad_special\\\":\\\"1\\\",\\\"ad_special_new\\\":\\\"0\\\",\\\"ad_unify_player\\\":\\\"1\\\",\\\"ad_wake_lock\\\":\\\"0\\\",\\\"adx_verify\\\":\\\"1\\\",\\\"back_plugin\\\":\\\"1\\\",\\\"canvas_mp2wc\\\":\\\"2\\\",\\\"dd_send\\\":\\\"1\\\",\\\"diamond_city_rb\\\":\\\"0\\\",\\\"dsp_replace\\\":\\\"1\\\",\\\"feed_adv_new\\\":\\\"1\\\",\\\"h5canvas_load\\\":\\\"2\\\",\\\"ios_skip_btn\\\":\\\"0\\\",\\\"launch_ad_end\\\":\\\"0\\\",\\\"mark_plugin\\\":\\\"1\\\",\\\"notify_new\\\":\\\"1\\\",\\\"notify_page\\\":\\\"0\\\",\\\"outside_banner\\\":\\\"1\\\",\\\"pause_plugin\\\":\\\"1\\\",\\\"toast_off_ios\\\":\\\"1\\\"}}]}\",\"pcontent\":\"https:\\u002F\\u002Fwww.zhihu.com\\u002Fquestion\\u002F459392094\\u002Fanswer\\u002F2460294022\",\"ncontent\":\"https:\\u002F\\u002Fwww.zhihu.com\\u002Fquestion\\u002F393138556\\u002Fanswer\\u002F2475689884\",\"ext_info\":{\"content_type\":null,\"content_id\":null,\"question_id\":0,\"priority\":-1,\"ecpm\":-1,\"type\":0}},{\"id\":\"3_1652185294.820\",\"type\":\"feed\",\"offset\":3,\"verb\":\"TOPIC_ACKNOWLEDGED_ANSWER\",\"created_time\":1652185294,\"updated_time\":1652185294,\"target\":{\"id\":2475689884,\"type\":\"answer\",\"url\":\"https:\\u002F\\u002Fapi.zhihu.com\\u002Fanswers\\u002F2475689884\",\"author\":{\"id\":\"bfc852ff2bd064fe87bcb32f066909cf\",\"type\":\"people\",\"url\":\"https:\\u002F\\u002Fapi.zhihu.com\\u002Fpeople\\u002Fbfc852ff2bd064fe87bcb32f066909cf\",\"user_type\":\"people\",\"url_token\":\"mo-li-lan-mao\",\"name\":\"魔力懒猫\",\"headline\":\"\",\"avatar_url\":\"https:\\u002F\\u002Fpic4.zhimg.com\\u002F50\\u002Fv2-abed1a8c04700ba7d72b45195223e0ff_m.jpg\",\"is_org\":false,\"gender\":0,\"badge\":[],\"followers_count\":1352,\"is_following\":false,\"is_followed\":false},\"created_time\":1651983791,\"updated_time\":1652071814,\"voteup_count\":250,\"thanks_count\":58,\"comment_count\":23,\"is_copyable\":true,\"question\":{\"id\":393138556,\"type\":\"question\",\"url\":\"https:\\u002F\\u002Fapi.zhihu.com\\u002Fquestions\\u002F393138556\",\"author\":{\"id\":\"9bb7ce58e5d666be85b575e130471360\",\"type\":\"people\",\"url\":\"https:\\u002F\\u002Fapi.zhihu.com\\u002Fpeople\\u002F9bb7ce58e5d666be85b575e130471360\",\"user_type\":\"people\",\"url_token\":\"yu-si-58-38\",\"name\":\"孟徽杭\",\"headline\":\"对现今道德的怀疑，将会席卷这世界\",\"avatar_url\":\"https:\\u002F\\u002Fpic1.zhimg.com\\u002F50\\u002Fv2-db77b540ace66cc623cf4893e58a4c3f_m.jpg\",\"is_org\":false,\"gender\":1,\"badge\":[],\"followers_count\":1661,\"is_following\":false,\"is_followed\":false},\"title\":\"如何评价galgame制作者无需谈过恋爱这种观点？\",\"created\":1588816182,\"answer_count\":391,\"follower_count\":746,\"comment_count\":47,\"bound_topic_ids\":[1045,21575,166033],\"is_following\":false,\"excerpt\":\"\",\"relationship\":{\"is_author\":false},\"detail\":\"\",\"question_type\":\"normal\"},\"thumbnail\":\"https:\\u002F\\u002Fpic1.zhimg.com\\u002F50\\u002Fv2-37bad39c6306e53d4a7dc7880622749c_hd.jpg\",\"excerpt\":\"直接看看别人怎么写感情的如何？事实上评价最高的一批GAL想找一个核心情感是爱情的反而比较难。 提醒：其他galgame部分重剧透 一、Galgame里对爱情的描写可以多离谱？1.爱你的情感有如爱上学。我们以《白色相簿2》为例，他是这样描写的： 既然作者都提了，那我们就用中学生拒绝上学的视角来看看： 这不就是学校被人欺负了得了抑郁症的家里蹲回家打游戏的情绪吗？ 这一幕出现在浮气线春希请假上班的段落。我们来看同样的描写都在…\",\"excerpt_new\":\"直接看看别人怎么写感情的如何？事实上评价最高的一批GAL想找一个核心情感是爱情的反而比较难。 提醒：其他galgame部分重剧透 一、Galgame里对爱情的描写可以多离谱？1.爱你的情感有如爱上学。我们以《白色相簿2》为例，他是这样描写的： 既然作者都提了，那我们就用中学生拒绝上学的视角来看看： 这不就是学校被人欺负了得了抑郁症的家里蹲回家打游戏的情绪吗？ 这一幕出现在浮气线春希请假上班的段落。我们来看同样的描写都在…\",\"preview_type\":\"default\",\"preview_text\":\"\",\"reshipment_settings\":\"allowed\",\"content\":\"\\u003Cp data-pid=\\\"6CEyi0qX\\\"\\u003E直接看看别人怎么写感情的如何？事实上评价最高的一批GAL想找一个核心情感是爱情的反而比较难。\\u003C\\u002Fp\\u003E\\u003Cp data-pid=\\\"dGQk10ew\\\"\\u003E提醒：其他galgame部分重剧透\\u003C\\u002Fp\\u003E\\u003Ch2\\u003E一、Galgame里对爱情的描写可以多离谱？\\u003C\\u002Fh2\\u003E\\u003Ch3\\u003E1.爱你的情感有如爱上学。\\u003C\\u002Fh3\\u003E\\u003Cp data-pid=\\\"-_o_H8TB\\\"\\u003E我们以《白色相簿2》为例，他是这样描写的：\\u003C\\u002Fp\\u003E\\u003Cfigure data-size=\\\"normal\\\"\\u003E\\u003Cimg src=\\\"https:\\u002F\\u002Fpic1.zhimg.com\\u002F50\\u002Fv2-598840fa57499654c90bbd02a0be2055_720w.jpg?source=1940ef5c\\\" data-size=\\\"normal\\\" data-rawwidth=\\\"696\\\" data-rawheight=\\\"580\\\" data-default-watermark-src=\\\"https:\\u002F\\u002Fpic3.zhimg.com\\u002F50\\u002Fv2-5af02791f7ce9591fb219e641d8fc823_720w.jpg?source=1940ef5c\\\" class=\\\"origin_image zh-lightbox-thumb\\\" width=\\\"696\\\" data-original=\\\"https:\\u002F\\u002Fpic1.zhimg.com\\u002Fv2-598840fa57499654c90bbd02a0be2055_r.jpg?source=1940ef5c\\\"\\u002F\\u003E\\u003Cfigcaption\\u003E中学生拒绝上学\\u003C\\u002Ffigcaption\\u003E\\u003C\\u002Ffigure\\u003E\\u003Cp data-pid=\\\"jbqrdCMk\\\"\\u003E既然作者都提了，那我们就用中学生拒绝上学的视角来看看：\\u003C\\u002Fp\\u003E\\u003Cfigure data-size=\\\"normal\\\"\\u003E\\u003Cimg src=\\\"https:\\u002F\\u002Fpic1.zhimg.com\\u002F50\\u002Fv2-8080a08b28565d26e46109e4c78d1c49_720w.jpg?source=1940ef5c\\\" data-caption=\\\"\\\" data-size=\\\"normal\\\" data-rawwidth=\\\"675\\\" data-rawheight=\\\"1128\\\" data-default-watermark-src=\\\"https:\\u002F\\u002Fpica.zhimg.com\\u002F50\\u002Fv2-d8e57c28588cf1253dbc2ebc51ac4a70_720w.jpg?source=1940ef5c\\\" class=\\\"origin_image zh-lightbox-thumb\\\" width=\\\"675\\\" data-original=\\\"https:\\u002F\\u002Fpica.zhimg.com\\u002Fv2-8080a08b28565d26e46109e4c78d1c49_r.jpg?source=1940ef5c\\\"\\u002F\\u003E\\u003C\\u002Ffigure\\u003E\\u003Cp data-pid=\\\"VM3VuGH5\\\"\\u003E这不就是学校被人欺负了得了抑郁症的家里蹲回家打游戏的情绪吗？\\u003C\\u002Fp\\u003E\\u003Cp data-pid=\\\"LaJx0pGw\\\"\\u003E这一幕出现在浮气线春希请假上班的段落。我们来看同样的描写都在讲什么：\\u003C\\u002Fp\\u003E\\u003Cfigure data-size=\\\"normal\\\"\\u003E\\u003Cimg src=\\\"https:\\u002F\\u002Fpic2.zhimg.com\\u002F50\\u002Fv2-55a614922db5eb0dec233ac3edca2890_720w.jpg?source=1940ef5c\\\" data-caption=\\\"\\\" data-size=\\\"normal\\\" data-rawwidth=\\\"2295\\\" data-rawheight=\\\"1678\\\" data-default-watermark-src=\\\"https:\\u002F\\u002Fpic2.zhimg.com\\u002F50\\u002Fv2-26909b6f77177b92bf84f7d5bf104239_720w.jpg?source=1940ef5c\\\" class=\\\"origin_image zh-lightbox-thumb\\\" width=\\\"2295\\\" data-original=\\\"https:\\u002F\\u002Fpic1.zhimg.com\\u002Fv2-55a614922db5eb0dec233ac3edca2890_r.jpg?source=1940ef5c\\\"\\u002F\\u003E\\u003C\\u002Ffigure\\u003E\\u003Cp data-pid=\\\"VEIrkyxQ\\\"\\u003E同一段描写先后出现在要去上班、要去见未婚妻、要去给女朋友送礼物、要去把女朋友的闺蜜抓到女朋友的生日宴会上。\\u003C\\u002Fp\\u003E\\u003Cp data-pid=\\\"WCR7XRT3\\\"\\u003E你说这是因为男主出轨吧……其中有一段是雪菜要去见男主。一 样 的 描 写。 \\u003C\\u002Fp\\u003E\\u003Cp data-pid=\\\"LJfJ8QMM\\\"\\u003E大多数朋友都可以get到这是在写责任感强迫自己去做一件事的情绪。\\u003C\\u002Fp\\u003E\\u003Cp data-pid=\\\"NEu3oAxc\\\"\\u003E但是当我们注意到这个情绪是家里蹲拒绝上学的情绪之后，整件事就变得非常滑稽了。\\u003C\\u002Fp\\u003E\\u003Cp data-pid=\\\"wzb-TAcG\\\"\\u003E...辍学回家打游戏有多大概率真的跟出轨\\u002F出门照顾病人是一个心理状态？\\u003C\\u002Fp\\u003E\\u003Cp data-pid=\\\"9-v2MQxo\\\"\\u003E说到家里蹲，故事还真的有写校园欺凌和家里蹲的事。\\u003C\\u002Fp\\u003E\\u003Ch3\\u003E2.被你抛弃之后打扮成了以前出门打工的样子\\u003C\\u002Fh3\\u003E\\u003Cfigure data-size=\\\"normal\\\"\\u003E\\u003Cimg src=\\\"https:\\u002F\\u002Fpic3.zhimg.com\\u002F50\\u002Fv2-ce8f02259020f7be543cd58dfff7cc77_720w.jpg?source=1940ef5c\\\" data-caption=\\\"\\\" data-size=\\\"normal\\\" data-rawwidth=\\\"817\\\" data-rawheight=\\\"643\\\" data-default-watermark-src=\\\"https:\\u002F\\u002Fpica.zhimg.com\\u002F50\\u002Fv2-bdeafab69a2586249e11e1417561564f_720w.jpg?source=1940ef5c\\\" class=\\\"origin_image zh-lightbox-thumb\\\" width=\\\"817\\\" data-original=\\\"https:\\u002F\\u002Fpic2.zhimg.com\\u002Fv2-ce8f02259020f7be543cd58dfff7cc77_r.jpg?source=1940ef5c\\\"\\u002F\\u003E\\u003C\\u002Ffigure\\u003E\\u003Cp data-pid=\\\"sSb_KX6k\\\"\\u003E被弟弟笑话是家里蹲，穿上土气衣服、编上麻花辫子、戴上眼镜\\u003C\\u002Fp\\u003E\\u003Cp data-pid=\\\"p-0RXcE_\\\"\\u003E我们聊白洁的穿搭描写时会用奇迹暖暖把白洁的穿搭再现出来，雪菜这边的穿搭就要简单多了：\\u003C\\u002Fp\\u003E\\u003Cfigure data-size=\\\"normal\\\"\\u003E\\u003Cimg src=\\\"https:\\u002F\\u002Fpic3.zhimg.com\\u002F50\\u002Fv2-6b8908d89de5a178ef2276af4d2b639b_720w.jpg?source=1940ef5c\\\" data-caption=\\\"\\\" data-size=\\\"normal\\\" data-rawwidth=\\\"361\\\" data-rawheight=\\\"755\\\" data-default-watermark-src=\\\"https:\\u002F\\u002Fpica.zhimg.com\\u002F50\\u002Fv2-4ea1c82fa42b4f7052e967e304cca6c1_720w.jpg?source=1940ef5c\\\" class=\\\"content_image\\\" width=\\\"361\\\"\\u002F\\u003E\\u003C\\u002Ffigure\\u003E\\u003Cp data-pid=\\\"Byv1Hrmp\\\"\\u003E没错，上图就是雪菜被抛弃后的样子。\\u003C\\u002Fp\\u003E\\u003Cp data-pid=\\\"85K1XaWr\\\"\\u003E同时也是大明星冬马走街上怕被认出来时的变装风格：\\u003C\\u002Fp\\u003E\\u003Cfigure data-size=\\\"normal\\\"\\u003E\\u003Cimg src=\\\"https:\\u002F\\u002Fpic2.zhimg.com\\u002F50\\u002Fv2-0b39a4b03fe36e7a5a38ccd901bc7875_720w.jpg?source=1940ef5c\\\" data-caption=\\\"\\\" data-size=\\\"normal\\\" data-rawwidth=\\\"813\\\" data-rawheight=\\\"640\\\" data-default-watermark-src=\\\"https:\\u002F\\u002Fpic3.zhimg.com\\u002F50\\u002Fv2-1582cf20ebbceca16ffaa7d2c264781a_720w.jpg?source=1940ef5c\\\" class=\\\"origin_image zh-lightbox-thumb\\\" width=\\\"813\\\" data-original=\\\"https:\\u002F\\u002Fpic3.zhimg.com\\u002Fv2-0b39a4b03fe36e7a5a38ccd901bc7875_r.jpg?source=1940ef5c\\\"\\u002F\\u003E\\u003C\\u002Ffigure\\u003E\\u003Cfigure data-size=\\\"normal\\\"\\u003E\\u003Cimg src=\\\"https:\\u002F\\u002Fpica.zhimg.com\\u002F50\\u002Fv2-7b55b80a2b028cb18a412d30cbdb76b5_720w.jpg?source=1940ef5c\\\" data-caption=\\\"\\\" data-size=\\\"normal\\\" data-rawwidth=\\\"342\\\" data-rawheight=\\\"745\\\" data-default-watermark-src=\\\"https:\\u002F\\u002Fpic2.zhimg.com\\u002F50\\u002Fv2-41ae38540e9d90d567bddf2dde8f72d5_720w.jpg?source=1940ef5c\\\" class=\\\"content_image\\\" width=\\\"342\\\"\\u002F\\u003E\\u003C\\u002Ffigure\\u003E\\u003Cp data-pid=\\\"gRu7zC_0\\\"\\u003E衣服我们可以参考这一套：\\u003C\\u002Fp\\u003E\\u003Cfigure data-size=\\\"normal\\\"\\u003E\\u003Cimg src=\\\"https:\\u002F\\u002Fpic1.zhimg.com\\u002F50\\u002Fv2-09794152c93c2c63f831f8078776076c_720w.jpg?source=1940ef5c\\\" data-caption=\\\"\\\" data-size=\\\"normal\\\" data-rawwidth=\\\"326\\\" data-rawheight=\\\"755\\\" data-default-watermark-src=\\\"https:\\u002F\\u002Fpic2.zhimg.com\\u002F50\\u002Fv2-332e1e2075cf7013103827b6fd984787_720w.jpg?source=1940ef5c\\\" class=\\\"content_image\\\" width=\\\"326\\\"\\u002F\\u003E\\u003C\\u002Ffigure\\u003E\\u003Cp data-pid=\\\"kb0dMoBE\\\"\\u003E虽然立绘之间差别也没有很大就是了……\\u003C\\u002Fp\\u003E\\u003Cp data-pid=\\\"lzmzx6rg\\\"\\u003E倒是雪菜在这一段的关于生活状态的叙述非常有意思。\\u003C\\u002Fp\\u003E\\u003Cblockquote data-pid=\\\"ULHuii53\\\"\\u003E就算无聊也忍耐着消磨时间到晚上，喝着不想喝的酒，醉醺醺地晚回家，在家人面前装作我们关系很好的样子。\\u003C\\u002Fblockquote\\u003E\\u003Cp data-pid=\\\"8uJh4BgU\\\"\\u003E这倒确实是一个经典的委屈藏在肚里自己咽下去的意象，它的艺术形象是这种样的：\\u003C\\u002Fp\\u003E\\u003Cfigure data-size=\\\"normal\\\"\\u003E\\u003Cimg src=\\\"https:\\u002F\\u002Fpica.zhimg.com\\u002F50\\u002Fv2-4442a6714de1c77abfee49db7387ecc8_720w.jpg?source=1940ef5c\\\" data-caption=\\\"\\\" data-size=\\\"normal\\\" data-rawwidth=\\\"261\\\" data-rawheight=\\\"278\\\" data-default-watermark-src=\\\"https:\\u002F\\u002Fpica.zhimg.com\\u002F50\\u002Fv2-e1efd842bf55be7559e77e9204599d6d_720w.jpg?source=1940ef5c\\\" class=\\\"content_image\\\" width=\\\"261\\\"\\u002F\\u003E\\u003C\\u002Ffigure\\u003E\\u003Cp data-pid=\\\"0-9I77vT\\\"\\u003E70年代日本经济腾飞，男人们纷纷开始加班加点超额工作。于是乎那些晚上按时回家的男人们被周围人视作无能的表现。到了90年代广场协议日元大幅度升值导致订单锐减，无班可加，回家又会被认为没有用。这种社会压力之下形成了每天下班后在外面喝到深夜，装得很忙的一种文化氛围。\\u003C\\u002Fp\\u003E\\u003Cp data-pid=\\\"jEaweCab\\\"\\u003E正因如此这是一种在日本人尽皆知的艺术形象，90年代也正是作者丸户的学生时代的背景。\\u003C\\u002Fp\\u003E\\u003Cblockquote data-pid=\\\"DME2YAhp\\\"\\u003E骗他说要去约会，然后一个人看电影\\u003C\\u002Fblockquote\\u003E\\u003Cp data-pid=\\\"PyTL3P9p\\\"\\u003E08年前后经济危机失业潮。这一形象更进化成了失业的中年人面对房贷的压力孩子的学费为了不让家人担心每天早上穿得整整齐齐出去找工作，然后因为日本的终身雇佣制在失业潮中根本找不到工作，最后只能每天每天穿着西装在公园里发呆的的形象，甚至成为了小黄本的一类主题。\\u003C\\u002Fp\\u003E\\u003Cp data-pid=\\\"juPbBMKe\\\"\\u003E这则是白色相簿2创作时期的背景。\\u003C\\u002Fp\\u003E\\u003Cfigure data-size=\\\"normal\\\"\\u003E\\u003Cimg src=\\\"https:\\u002F\\u002Fpic1.zhimg.com\\u002F50\\u002Fv2-95f65d43b9f6c9f2272c4f50ac8e9042_720w.jpg?source=1940ef5c\\\" data-caption=\\\"\\\" data-size=\\\"normal\\\" data-rawwidth=\\\"790\\\" data-rawheight=\\\"621\\\" data-default-watermark-src=\\\"https:\\u002F\\u002Fpic2.zhimg.com\\u002F50\\u002Fv2-b0319f59415317160b32c659a5728884_720w.jpg?source=1940ef5c\\\" class=\\\"origin_image zh-lightbox-thumb\\\" width=\\\"790\\\" data-original=\\\"https:\\u002F\\u002Fpic1.zhimg.com\\u002Fv2-95f65d43b9f6c9f2272c4f50ac8e9042_r.jpg?source=1940ef5c\\\"\\u002F\\u003E\\u003C\\u002Ffigure\\u003E\\u003Cp data-pid=\\\"xN_P1qE1\\\"\\u003E配在这里就更是格外荒诞了，尤其作家本人对自己写了什么心中有数，还专门在故事中点了出来。\\u003C\\u002Fp\\u003E\\u003Ch3\\u003E3.离开你的原因是想让孩子独立。\\u003C\\u002Fh3\\u003E\\u003Cfigure data-size=\\\"normal\\\"\\u003E\\u003Cimg src=\\\"https:\\u002F\\u002Fpic2.zhimg.com\\u002F50\\u002Fv2-0f215b5428c7d1035667b581367eb3c6_720w.jpg?source=1940ef5c\\\" data-caption=\\\"\\\" data-size=\\\"normal\\\" data-rawwidth=\\\"1275\\\" data-rawheight=\\\"718\\\" data-default-watermark-src=\\\"https:\\u002F\\u002Fpica.zhimg.com\\u002F50\\u002Fv2-eeb163fa5038c88f0eb733563099b96a_720w.jpg?source=1940ef5c\\\" class=\\\"origin_image zh-lightbox-thumb\\\" width=\\\"1275\\\" data-original=\\\"https:\\u002F\\u002Fpica.zhimg.com\\u002Fv2-0f215b5428c7d1035667b581367eb3c6_r.jpg?source=1940ef5c\\\"\\u002F\\u003E\\u003C\\u002Ffigure\\u003E\\u003Cfigure data-size=\\\"normal\\\"\\u003E\\u003Cimg src=\\\"https:\\u002F\\u002Fpic1.zhimg.com\\u002F50\\u002Fv2-d57d1f642fab2d02de151f6f3c5e0243_720w.jpg?source=1940ef5c\\\" data-caption=\\\"\\\" data-size=\\\"normal\\\" data-rawwidth=\\\"1272\\\" data-rawheight=\\\"715\\\" data-default-watermark-src=\\\"https:\\u002F\\u002Fpica.zhimg.com\\u002F50\\u002Fv2-0c0a7ea8faa97c84b80fd70364fed5b8_720w.jpg?source=1940ef5c\\\" class=\\\"origin_image zh-lightbox-thumb\\\" width=\\\"1272\\\" data-original=\\\"https:\\u002F\\u002Fpic2.zhimg.com\\u002Fv2-d57d1f642fab2d02de151f6f3c5e0243_r.jpg?source=1940ef5c\\\"\\u002F\\u003E\\u003C\\u002Ffigure\\u003E\\u003Cp data-pid=\\\"UCVgbXq2\\\"\\u003E快问我“这不是别人开当事人玩笑吗？”\\u003C\\u002Fp\\u003E\\u003Cp data-pid=\\\"k88xDvta\\\"\\u003E下面上当事人心理活动：\\u003C\\u002Fp\\u003E\\u003Cfigure data-size=\\\"normal\\\"\\u003E\\u003Cimg src=\\\"https:\\u002F\\u002Fpic2.zhimg.com\\u002F50\\u002Fv2-66c6905dd69d7dd2e0bddbd649e70f60_720w.jpg?source=1940ef5c\\\" data-caption=\\\"\\\" data-size=\\\"normal\\\" data-rawwidth=\\\"1470\\\" data-rawheight=\\\"823\\\" data-default-watermark-src=\\\"https:\\u002F\\u002Fpic1.zhimg.com\\u002F50\\u002Fv2-13fa49876f98327b58f13f9426825ecc_720w.jpg?source=1940ef5c\\\" class=\\\"origin_image zh-lightbox-thumb\\\" width=\\\"1470\\\" data-original=\\\"https:\\u002F\\u002Fpica.zhimg.com\\u002Fv2-66c6905dd69d7dd2e0bddbd649e70f60_r.jpg?source=1940ef5c\\\"\\u002F\\u003E\\u003C\\u002Ffigure\\u003E\\u003Cp data-pid=\\\"7C7UQ6X4\\\"\\u003E情侣分手的理由和闺蜜分手的理由一样也就算了，跟妈妈告别孩子的理由居然也可以一样。\\u003C\\u002Fp\\u003E\\u003Ch3\\u003E4.到妈妈怀里来\\u003C\\u002Fh3\\u003E\\u003Cfigure data-size=\\\"normal\\\"\\u003E\\u003Cimg src=\\\"https:\\u002F\\u002Fpic3.zhimg.com\\u002F50\\u002Fv2-3f07cbc9a7faa5c140bd1df281fd870e_720w.jpg?source=1940ef5c\\\" data-caption=\\\"\\\" data-size=\\\"normal\\\" data-rawwidth=\\\"824\\\" data-rawheight=\\\"642\\\" data-default-watermark-src=\\\"https:\\u002F\\u002Fpic1.zhimg.com\\u002F50\\u002Fv2-c285862a04c5a4224806b2b5b4fa194e_720w.jpg?source=1940ef5c\\\" class=\\\"origin_image zh-lightbox-thumb\\\" width=\\\"824\\\" data-original=\\\"https:\\u002F\\u002Fpic1.zhimg.com\\u002Fv2-3f07cbc9a7faa5c140bd1df281fd870e_r.jpg?source=1940ef5c\\\"\\u002F\\u003E\\u003C\\u002Ffigure\\u003E\\u003Cp data-pid=\\\"V5qtTc_V\\\"\\u003E还在下一段回忆的时候复述强调一遍：\\u003C\\u002Fp\\u003E\\u003Cfigure data-size=\\\"normal\\\"\\u003E\\u003Cimg src=\\\"https:\\u002F\\u002Fpic3.zhimg.com\\u002F50\\u002Fv2-0ca58c100ca649af4e7ab3125fe8660c_720w.jpg?source=1940ef5c\\\" data-caption=\\\"\\\" data-size=\\\"normal\\\" data-rawwidth=\\\"817\\\" data-rawheight=\\\"644\\\" data-default-watermark-src=\\\"https:\\u002F\\u002Fpic1.zhimg.com\\u002F50\\u002Fv2-03610667ca41e63636179815c8673241_720w.jpg?source=1940ef5c\\\" class=\\\"origin_image zh-lightbox-thumb\\\" width=\\\"817\\\" data-original=\\\"https:\\u002F\\u002Fpic3.zhimg.com\\u002Fv2-0ca58c100ca649af4e7ab3125fe8660c_r.jpg?source=1940ef5c\\\"\\u002F\\u003E\\u003C\\u002Ffigure\\u003E\\u003Cp data-pid=\\\"5Vpteb9D\\\"\\u003E当然，在浮气线寻求虚假的爱的时也是一样描写就是了：\\u003C\\u002Fp\\u003E\\u003Cfigure data-size=\\\"normal\\\"\\u003E\\u003Cimg src=\\\"https:\\u002F\\u002Fpic3.zhimg.com\\u002F50\\u002Fv2-a83e5d077a4d1a55dbcd5ecd0ff040b3_720w.jpg?source=1940ef5c\\\" data-caption=\\\"\\\" data-size=\\\"normal\\\" data-rawwidth=\\\"808\\\" data-rawheight=\\\"634\\\" data-default-watermark-src=\\\"https:\\u002F\\u002Fpic2.zhimg.com\\u002F50\\u002Fv2-feae4fcf9904bb248247937fa28c5fb4_720w.jpg?source=1940ef5c\\\" class=\\\"origin_image zh-lightbox-thumb\\\" width=\\\"808\\\" data-original=\\\"https:\\u002F\\u002Fpic4.zhimg.com\\u002Fv2-a83e5d077a4d1a55dbcd5ecd0ff040b3_r.jpg?source=1940ef5c\\\"\\u002F\\u003E\\u003C\\u002Ffigure\\u003E\\u003Cp data-pid=\\\"_2cMiUWo\\\"\\u003E千晶NE也是一样的\\u003C\\u002Fp\\u003E\\u003Cfigure data-size=\\\"normal\\\"\\u003E\\u003Cimg src=\\\"https:\\u002F\\u002Fpic2.zhimg.com\\u002F50\\u002Fv2-37ea34332cf4ddc688c26931a5ea69ea_720w.jpg?source=1940ef5c\\\" data-caption=\\\"\\\" data-size=\\\"normal\\\" data-rawwidth=\\\"803\\\" data-rawheight=\\\"571\\\" data-default-watermark-src=\\\"https:\\u002F\\u002Fpic3.zhimg.com\\u002F50\\u002Fv2-053cf50e21dbac41a2a19fe556db6e02_720w.jpg?source=1940ef5c\\\" class=\\\"origin_image zh-lightbox-thumb\\\" width=\\\"803\\\" data-original=\\\"https:\\u002F\\u002Fpica.zhimg.com\\u002Fv2-37ea34332cf4ddc688c26931a5ea69ea_r.jpg?source=1940ef5c\\\"\\u002F\\u003E\\u003C\\u002Ffigure\\u003E\\u003Cp data-pid=\\\"uJ6-4wWJ\\\"\\u003E最离谱的是作者甚至专门设计剧情线给你对比这个对母亲的情感与对男主的情感来回转移的过程。\\u003C\\u002Fp\\u003E\\u003Cfigure data-size=\\\"normal\\\"\\u003E\\u003Cimg src=\\\"https:\\u002F\\u002Fpic1.zhimg.com\\u002F50\\u002Fv2-e54012bf781ae086e0e7645c76b4a8fc_720w.jpg?source=1940ef5c\\\" data-caption=\\\"\\\" data-size=\\\"normal\\\" data-rawwidth=\\\"850\\\" data-rawheight=\\\"1391\\\" data-default-watermark-src=\\\"https:\\u002F\\u002Fpic2.zhimg.com\\u002F50\\u002Fv2-3a2a698f5b9f1ba7543ba1c98bc25e0c_720w.jpg?source=1940ef5c\\\" class=\\\"origin_image zh-lightbox-thumb\\\" width=\\\"850\\\" data-original=\\\"https:\\u002F\\u002Fpic3.zhimg.com\\u002Fv2-e54012bf781ae086e0e7645c76b4a8fc_r.jpg?source=1940ef5c\\\"\\u002F\\u003E\\u003C\\u002Ffigure\\u003E\\u003Cp data-pid=\\\"J8esVt1w\\\"\\u003E可能有的网友已经有种型月重工的感觉了。\\u003C\\u002Fp\\u003E\\u003Cfigure data-size=\\\"normal\\\"\\u003E\\u003Cimg src=\\\"https:\\u002F\\u002Fpic1.zhimg.com\\u002F50\\u002Fv2-12867fcc0ba068d03bf61ba5736baa39_720w.jpg?source=1940ef5c\\\" data-caption=\\\"\\\" data-size=\\\"normal\\\" data-rawwidth=\\\"427\\\" data-rawheight=\\\"601\\\" data-default-watermark-src=\\\"https:\\u002F\\u002Fpic1.zhimg.com\\u002F50\\u002Fv2-93a2ba624ec31207133809ab26d30ef0_720w.jpg?source=1940ef5c\\\" class=\\\"origin_image zh-lightbox-thumb\\\" width=\\\"427\\\" data-original=\\\"https:\\u002F\\u002Fpica.zhimg.com\\u002Fv2-12867fcc0ba068d03bf61ba5736baa39_r.jpg?source=1940ef5c\\\"\\u002F\\u003E\\u003C\\u002Ffigure\\u003E\\u003Cp data-pid=\\\"1i5Alo4o\\\"\\u003E“我害怕见你就像辍学家里蹲害怕上学”\\u003C\\u002Fp\\u003E\\u003Cp data-pid=\\\"_1ETQm8d\\\"\\u003E“我被你抛弃就像中年男性失去了一份工作”\\u003C\\u002Fp\\u003E\\u003Cp data-pid=\\\"EoW6Nzr_\\\"\\u003E“我离开你就像你妈妈要让你独立”\\u003C\\u002Fp\\u003E\\u003Cp data-pid=\\\"hXWufdS-\\\"\\u003E“看到你的瞬间就像回家打开了游戏”\\u003C\\u002Fp\\u003E\\u003Cp data-pid=\\\"Koz2xF0j\\\"\\u003E“我需要你就像小孩需要他的妈咪”\\u003C\\u002Fp\\u003E\\u003Cp data-pid=\\\"5MuyYLWc\\\"\\u003E像这样的jojo奇妙比喻，一定会影响恋爱体验中的现实感吧？\\u003C\\u002Fp\\u003E\\u003Cp data-pid=\\\"JxiDEOyk\\\"\\u003E“他们说这是真爱，是情感最真实的Galgame”\\u003C\\u002Fp\\u003E\\u003Cfigure data-size=\\\"normal\\\"\\u003E\\u003Cimg src=\\\"https:\\u002F\\u002Fpica.zhimg.com\\u002F50\\u002Fv2-84bbb39ae2e05be5584ad4275fadd6d9_720w.jpg?source=1940ef5c\\\" data-caption=\\\"\\\" data-size=\\\"normal\\\" data-rawwidth=\\\"890\\\" data-rawheight=\\\"658\\\" data-default-watermark-src=\\\"https:\\u002F\\u002Fpic3.zhimg.com\\u002F50\\u002Fv2-079668652be92f4e71aa0dfc09321659_720w.jpg?source=1940ef5c\\\" class=\\\"origin_image zh-lightbox-thumb\\\" width=\\\"890\\\" data-original=\\\"https:\\u002F\\u002Fpic2.zhimg.com\\u002Fv2-84bbb39ae2e05be5584ad4275fadd6d9_r.jpg?source=1940ef5c\\\"\\u002F\\u003E\\u003C\\u002Ffigure\\u003E\\u003Cp data-pid=\\\"bdcxJakG\\\"\\u003E怎么说呢就，毕竟人的性癖是自由的。也不排除真有人跟亲妈是真爱。\\u003C\\u002Fp\\u003E\\u003Cp data-pid=\\\"_YohgN5y\\\"\\u003E不过重点在于，丸户有心理学背景。\\u003C\\u002Fp\\u003E\\u003Ch3\\u003E5.情感移入\\u003C\\u002Fh3\\u003E\\u003Cfigure data-size=\\\"normal\\\"\\u003E\\u003Cimg src=\\\"https:\\u002F\\u002Fpic2.zhimg.com\\u002F50\\u002Fv2-70eb1f8a398f50c1a93bc009b45c5f1f_720w.jpg?source=1940ef5c\\\" data-caption=\\\"\\\" data-size=\\\"normal\\\" data-rawwidth=\\\"1279\\\" data-rawheight=\\\"719\\\" data-default-watermark-src=\\\"https:\\u002F\\u002Fpic2.zhimg.com\\u002F50\\u002Fv2-fc08a9e0f7272110f40dab5d10d21403_720w.jpg?source=1940ef5c\\\" class=\\\"origin_image zh-lightbox-thumb\\\" width=\\\"1279\\\" data-original=\\\"https:\\u002F\\u002Fpic1.zhimg.com\\u002Fv2-70eb1f8a398f50c1a93bc009b45c5f1f_r.jpg?source=1940ef5c\\\"\\u002F\\u003E\\u003C\\u002Ffigure\\u003E\\u003Cp data-pid=\\\"jDQnJm3d\\\"\\u003E情感移入这个词又叫移情。其描述的语境，使用频率最高的词汇是移情别恋，其次是寄情。对于文艺作品创作者来说移情体验几乎就是创作者的日常。\\u003C\\u002Fp\\u003E\\u003Cp data-pid=\\\"983Frk4s\\\"\\u003E具体到情感移入这个心理学词汇上，它特指在催眠疗法与自由联想疗法中，心理咨询师让来访者将对重要的人的情绪像投影一样投射到心理咨询师身上的手法。\\u003C\\u002Fp\\u003E\\u003Cp data-pid=\\\"pXpAcsfR\\\"\\u003E在针对亲密关系的修复中，将咨询师投射成妈妈就是最基本最常见的一种情景。\\u003C\\u002Fp\\u003E\\u003Cfigure data-size=\\\"normal\\\"\\u003E\\u003Cimg src=\\\"https:\\u002F\\u002Fpic2.zhimg.com\\u002F50\\u002Fv2-2def92250d991bd952885b9d42ab6d00_720w.jpg?source=1940ef5c\\\" data-caption=\\\"\\\" data-size=\\\"normal\\\" data-rawwidth=\\\"1323\\\" data-rawheight=\\\"931\\\" data-default-watermark-src=\\\"https:\\u002F\\u002Fpic1.zhimg.com\\u002F50\\u002Fv2-4e920fd70b514d7a53e3abc3f6bd5052_720w.jpg?source=1940ef5c\\\" class=\\\"origin_image zh-lightbox-thumb\\\" width=\\\"1323\\\" data-original=\\\"https:\\u002F\\u002Fpic1.zhimg.com\\u002Fv2-2def92250d991bd952885b9d42ab6d00_r.jpg?source=1940ef5c\\\"\\u002F\\u003E\\u003C\\u002Ffigure\\u003E\\u003Cp data-pid=\\\"x_aogThO\\\"\\u003E平心而论这种将“他物”的情感来回移植是日常生活中非常常见的情况。创作者模仿生活状态进行写作是最基本的写作手法，只是一般创作者是不自知的。\\u003C\\u002Fp\\u003E\\u003Cp data-pid=\\\"e3IxcDR_\\\"\\u003E但丸户这种摆明了有心理学的背景对这件事的门清的人来说，情况就完全不一样了。\\u003C\\u002Fp\\u003E\\u003Cblockquote data-pid=\\\"86zmDk6z\\\"\\u003EIC 总场42 冬马宅\\u003Cbr\\u002F\\u003E春冬雪\\u003Cbr\\u002F\\u003E春希 毕竟想想看啊，小木曾是主唱、我也有solo。只有冬马是什么表现的场合都没有对吧？\\u003Cbr\\u002F\\u003E雪菜 说起来…也是啊\\u003Cbr\\u002F\\u003E和纱 就算如此、这种胡闹般的举动能行得通吗。这样简直就是上街卖艺\\u003Cbr\\u002F\\u003E春希 上街卖艺有哪不好吗？冬马、你莫非、这意思不会打算说我们的舞台是艺术吧？\\u003Cbr\\u002F\\u003E和纱 没、倒没不必那么自卑…\\u003Cbr\\u002F\\u003E春希 说了很多次了吧？我啊、冬马的厉害之处被忽视掉很让人不爽\\u003Cbr\\u002F\\u003E雪菜 北原君…\\u003C\\u002Fblockquote\\u003E\\u003Cp data-pid=\\\"mJ5Hh7zo\\\"\\u003E情感移入完全是可以移“自恋”，形成“爱你就是爱自己”的互动模式。\\u003C\\u002Fp\\u003E\\u003Cblockquote data-pid=\\\"E4BRf2PN\\\"\\u003E不共戴天 83-4 通话\\u003Cbr\\u002F\\u003E冬雪\\u003Cbr\\u002F\\u003E雪菜 呜…呜啊啊啊啊…呜呜呜呜呜啊啊啊啊啊啊~！！！！\\u003Cbr\\u002F\\u003E和纱 所以说、雪菜你为什么要哭啊！这些事不是都和你没有关系的吗！\\u003Cbr\\u002F\\u003E雪菜 可是、可是…、怎么会、妈妈她…怎么会！\\u003Cbr\\u002F\\u003E和纱 不是你的妈妈。是我的！\\u003C\\u002Fblockquote\\u003E\\u003Cp data-pid=\\\"19Fo5Rjc\\\"\\u003E作者门清的情况下，再移母亲就有一种刻意为之的嘲讽在其中。作者还将这一点在作品中点明了出来。事实上我们最开始的对比图中，描写“不愿上班”“母亲离开孩子”的桥段在各自的6组同架构剧情中都只出现过一次。只要作者本人有掩盖的意图，修改了这一部分。我们再要对这一点进行说明就会难得多。\\u003C\\u002Fp\\u003E\\u003Cp data-pid=\\\"cH5x5rkP\\\"\\u003E毕竟“春希对雪菜的感情是曜子对和纱的感情”这种事说起来怎么听怎么KUSO.\\u003C\\u002Fp\\u003E\\u003Cp data-pid=\\\"iD5q2d6Z\\\"\\u003E丸户这种根本不相信爱情的作者，用明着告诉你：文艺作品中的爱情本质就是杂烩，是火锅店的自助调料区。\\u003C\\u002Fp\\u003E\\u003Cp data-pid=\\\"-I6LTPn3\\\"\\u003E是什么不重要，重要的是得贴合用户需求，看人下菜碟。\\u003C\\u002Fp\\u003E\\u003Ch2\\u003E二、GalGame玩家的侧写\\u003C\\u002Fh2\\u003E\\u003Ch3\\u003E1.死宅真恶心。\\u003C\\u002Fh3\\u003E\\u003Cp data-pid=\\\"7rHeA48k\\\"\\u003E从HGame走向GalGame总是免不了提到“宫崎勤”这三个字。OTAKU御宅本是类似于“阁下”的一种冷僻敬称。出身于庆应大学的一批动画从业者捡起了这个词开始称呼彼此，扩散而来成为了亚文化圈子里称呼为了自己的兴趣倾注热情与精力的狂热爱好者的尊称。\\u003C\\u002Fp\\u003E\\u003Cfigure data-size=\\\"normal\\\"\\u003E\\u003Cimg src=\\\"https:\\u002F\\u002Fpic2.zhimg.com\\u002F50\\u002Fv2-998841a8e3963eaeb24c0f9f98b9cb63_720w.jpg?source=1940ef5c\\\" data-caption=\\\"\\\" data-size=\\\"normal\\\" data-rawwidth=\\\"575\\\" data-rawheight=\\\"496\\\" data-default-watermark-src=\\\"https:\\u002F\\u002Fpic2.zhimg.com\\u002F50\\u002Fv2-18ea2e82521b1591ac881fdc328665e8_720w.jpg?source=1940ef5c\\\" class=\\\"origin_image zh-lightbox-thumb\\\" width=\\\"575\\\" data-original=\\\"https:\\u002F\\u002Fpic1.zhimg.com\\u002Fv2-998841a8e3963eaeb24c0f9f98b9cb63_r.jpg?source=1940ef5c\\\"\\u002F\\u003E\\u003C\\u002Ffigure\\u003E\\u003Cp data-pid=\\\"pl8k4Mgd\\\"\\u003E宫崎勤事件之后OTAKU瞬间成为恋童癖、强奸犯预备役的代名词。\\u003C\\u002Fp\\u003E\\u003Cfigure data-size=\\\"normal\\\"\\u003E\\u003Cimg src=\\\"https:\\u002F\\u002Fpic1.zhimg.com\\u002F50\\u002Fv2-4481fdcd9fe2347c4e47083b3e175812_720w.jpg?source=1940ef5c\\\" data-caption=\\\"\\\" data-size=\\\"normal\\\" data-rawwidth=\\\"1078\\\" data-rawheight=\\\"606\\\" data-default-watermark-src=\\\"https:\\u002F\\u002Fpica.zhimg.com\\u002F50\\u002Fv2-68f84019dfbe69d52cccc461343efa0e_720w.jpg?source=1940ef5c\\\" class=\\\"origin_image zh-lightbox-thumb\\\" width=\\\"1078\\\" data-original=\\\"https:\\u002F\\u002Fpic2.zhimg.com\\u002Fv2-4481fdcd9fe2347c4e47083b3e175812_r.jpg?source=1940ef5c\\\"\\u002F\\u003E\\u003C\\u002Ffigure\\u003E\\u003Cp data-pid=\\\"Rphq-Drb\\\"\\u003E成为道德鄙视链的最末端，也成了被孤立、被鄙视，在学园生活中往往只能与同好互舔伤口。\\u003C\\u002Fp\\u003E\\u003Cfigure data-size=\\\"normal\\\"\\u003E\\u003Cimg src=\\\"https:\\u002F\\u002Fpic1.zhimg.com\\u002F50\\u002Fv2-c7d7c6fc415f64a163997584a531f3e1_720w.jpg?source=1940ef5c\\\" data-caption=\\\"\\\" data-size=\\\"normal\\\" data-rawwidth=\\\"1087\\\" data-rawheight=\\\"610\\\" data-default-watermark-src=\\\"https:\\u002F\\u002Fpic3.zhimg.com\\u002F50\\u002Fv2-c9d8281ba6a4d6715fba2d05681a9fda_720w.jpg?source=1940ef5c\\\" class=\\\"origin_image zh-lightbox-thumb\\\" width=\\\"1087\\\" data-original=\\\"https:\\u002F\\u002Fpica.zhimg.com\\u002Fv2-c7d7c6fc415f64a163997584a531f3e1_r.jpg?source=1940ef5c\\\"\\u002F\\u003E\\u003C\\u002Ffigure\\u003E\\u003Cp data-pid=\\\"kDOjILR4\\\"\\u003E然而互舔伤口的同好往往也会顶不住压力成为\\u003Cb\\u003E隐宅\\u003C\\u002Fb\\u003E，在日本这个吃饭都要喊出“我开动了”提醒周围人一起动筷子的集体主义社会中成为孤家寡人。\\u003C\\u002Fp\\u003E\\u003Cfigure data-size=\\\"normal\\\"\\u003E\\u003Cimg src=\\\"https:\\u002F\\u002Fpic3.zhimg.com\\u002F50\\u002Fv2-0637e51ea82f4478b941941b8f027219_720w.jpg?source=1940ef5c\\\" data-caption=\\\"\\\" data-size=\\\"normal\\\" data-rawwidth=\\\"1086\\\" data-rawheight=\\\"609\\\" data-default-watermark-src=\\\"https:\\u002F\\u002Fpic3.zhimg.com\\u002F50\\u002Fv2-d47da44bdd02912893b7950ef58e0c39_720w.jpg?source=1940ef5c\\\" class=\\\"origin_image zh-lightbox-thumb\\\" width=\\\"1086\\\" data-original=\\\"https:\\u002F\\u002Fpica.zhimg.com\\u002Fv2-0637e51ea82f4478b941941b8f027219_r.jpg?source=1940ef5c\\\"\\u002F\\u003E\\u003C\\u002Ffigure\\u003E\\u003Ch3\\u003E2.不敢回家\\u003C\\u002Fh3\\u003E\\u003Cfigure data-size=\\\"normal\\\"\\u003E\\u003Cimg src=\\\"https:\\u002F\\u002Fpic2.zhimg.com\\u002F50\\u002Fv2-1762cb5fa8b7ff3d776559a474f647d2_720w.jpg?source=1940ef5c\\\" data-caption=\\\"\\\" data-size=\\\"normal\\\" data-rawwidth=\\\"720\\\" data-rawheight=\\\"567\\\" data-default-watermark-src=\\\"https:\\u002F\\u002Fpica.zhimg.com\\u002F50\\u002Fv2-50de1b8020f9570fe250f6e5da507ad1_720w.jpg?source=1940ef5c\\\" class=\\\"origin_image zh-lightbox-thumb\\\" width=\\\"720\\\" data-original=\\\"https:\\u002F\\u002Fpic3.zhimg.com\\u002Fv2-1762cb5fa8b7ff3d776559a474f647d2_r.jpg?source=1940ef5c\\\"\\u002F\\u003E\\u003C\\u002Ffigure\\u003E\\u003Cp data-pid=\\\"bOHO9FyZ\\\"\\u003E前文说过，作者的中学时期正是广场协议日本金融泡沫破裂订单数锐减的时期，而作品的创作时间点则是08年席卷全球的次贷危机失业潮。\\u003C\\u002Fp\\u003E\\u003Cp data-pid=\\\"Oha8vdg6\\\"\\u003E这就牵扯到一个问题：房贷。\\u003C\\u002Fp\\u003E\\u003Cp data-pid=\\\"-40br5nG\\\"\\u003E日本政府应对广场协议和巴黎协议的做法是大量印钱。在实体经济受挫的情况下大量热钱涌入金融市场与房地产市场，5年房价跳涨五倍。\\u003C\\u002Fp\\u003E\\u003Cfigure data-size=\\\"normal\\\"\\u003E\\u003Cimg src=\\\"https:\\u002F\\u002Fpic1.zhimg.com\\u002F50\\u002Fv2-ab851532ff610fa9db97b904710b3391_720w.jpg?source=1940ef5c\\\" data-caption=\\\"\\\" data-size=\\\"normal\\\" data-rawwidth=\\\"720\\\" data-rawheight=\\\"405\\\" data-default-watermark-src=\\\"https:\\u002F\\u002Fpic1.zhimg.com\\u002F50\\u002Fv2-ecc72085352ed654a8efc9ca949d97b4_720w.jpg?source=1940ef5c\\\" class=\\\"origin_image zh-lightbox-thumb\\\" width=\\\"720\\\" data-original=\\\"https:\\u002F\\u002Fpica.zhimg.com\\u002Fv2-ab851532ff610fa9db97b904710b3391_r.jpg?source=1940ef5c\\\"\\u002F\\u003E\\u003C\\u002Ffigure\\u003E\\u003Cp data-pid=\\\"_qzrfxHt\\\"\\u003E以98年14岁中二来计算，差不多就是84年前后生人。当时的日本社会年轻人的最主流侧写是在有很多兄弟姐妹，走向社会结婚生子拼搏的几年中住在这种组合屋中，然后在孩子出生几年之后才自食其力的换房。老恋爱漫画就有将男女主搬进新房开始新生活作为终点的作品，虽然我忘了是哪部。\\u003C\\u002Fp\\u003E\\u003Cfigure data-size=\\\"normal\\\"\\u003E\\u003Cimg src=\\\"https:\\u002F\\u002Fpica.zhimg.com\\u002F50\\u002Fv2-c6adba652b3b051fdb682d399c8e5433_720w.jpg?source=1940ef5c\\\" data-caption=\\\"\\\" data-size=\\\"normal\\\" data-rawwidth=\\\"720\\\" data-rawheight=\\\"405\\\" data-default-watermark-src=\\\"https:\\u002F\\u002Fpic2.zhimg.com\\u002F50\\u002Fv2-41c613ca1fca3ef7e5e50a96f34c6f32_720w.jpg?source=1940ef5c\\\" class=\\\"origin_image zh-lightbox-thumb\\\" width=\\\"720\\\" data-original=\\\"https:\\u002F\\u002Fpica.zhimg.com\\u002Fv2-c6adba652b3b051fdb682d399c8e5433_r.jpg?source=1940ef5c\\\"\\u002F\\u003E\\u003C\\u002Ffigure\\u003E\\u003Cp data-pid=\\\"oSl-e34f\\\"\\u003E换句话说，作者这一代，以及他的同学平辈人就是在房价最高点接盘的那批人。也正是这一代人创作出来的作品里中学生打工补贴家用成了普遍描写。\\u003C\\u002Fp\\u003E\\u003Cp data-pid=\\\"I0FZGqh9\\\"\\u003E当年日本政府为了进一步鼓励购房，甚至一度推出了50~100年的房屋贷款。产生了后来日本独有的社会现象：中年失业的男性以再也不跟老婆孩子见面为代价净身出户。\\u003C\\u002Fp\\u003E\\u003Cfigure data-size=\\\"normal\\\"\\u003E\\u003Cimg src=\\\"https:\\u002F\\u002Fpic3.zhimg.com\\u002F50\\u002Fv2-b7d2cd146d00c618ecdf1d4808f474d3_720w.jpg?source=1940ef5c\\\" data-caption=\\\"\\\" data-size=\\\"normal\\\" data-rawwidth=\\\"1274\\\" data-rawheight=\\\"721\\\" data-default-watermark-src=\\\"https:\\u002F\\u002Fpic1.zhimg.com\\u002F50\\u002Fv2-b2d41fb9cd88c5701baa6b674eab401b_720w.jpg?source=1940ef5c\\\" class=\\\"origin_image zh-lightbox-thumb\\\" width=\\\"1274\\\" data-original=\\\"https:\\u002F\\u002Fpic2.zhimg.com\\u002Fv2-b7d2cd146d00c618ecdf1d4808f474d3_r.jpg?source=1940ef5c\\\"\\u002F\\u003E\\u003C\\u002Ffigure\\u003E\\u003Cp data-pid=\\\"Tk4gf08a\\\"\\u003E虽然在剧中，春希和千晶的父亲都是父母大量吵架最后离开。但剧本外很多读者的家庭背景是\\u003Cb\\u003E父亲为了维持老婆孩子的生活不变\\u003C\\u002Fb\\u003E，独自抗下房贷远走他乡成为流浪汉。\\u003C\\u002Fp\\u003E\\u003Cfigure data-size=\\\"normal\\\"\\u003E\\u003Cimg src=\\\"https:\\u002F\\u002Fpic1.zhimg.com\\u002F50\\u002Fv2-228195f7bf48f9418087b05970a383cc_720w.jpg?source=1940ef5c\\\" data-caption=\\\"\\\" data-size=\\\"normal\\\" data-rawwidth=\\\"1277\\\" data-rawheight=\\\"642\\\" data-default-watermark-src=\\\"https:\\u002F\\u002Fpic2.zhimg.com\\u002F50\\u002Fv2-4a093465d90dddfc8ff7268517a4f98d_720w.jpg?source=1940ef5c\\\" class=\\\"origin_image zh-lightbox-thumb\\\" width=\\\"1277\\\" data-original=\\\"https:\\u002F\\u002Fpica.zhimg.com\\u002Fv2-228195f7bf48f9418087b05970a383cc_r.jpg?source=1940ef5c\\\"\\u002F\\u003E\\u003C\\u002Ffigure\\u003E\\u003Cp data-pid=\\\"us8SYUnt\\\"\\u003E剧中也是，则出现了“为了维护家中的气氛”亲子双双选择不点破孩子在学校被孤立的剧情。\\u003C\\u002Fp\\u003E\\u003Cp data-pid=\\\"vMSDzf7X\\\"\\u003E以维护表面上的一团和气。\\u003C\\u002Fp\\u003E\\u003Cfigure data-size=\\\"normal\\\"\\u003E\\u003Cimg src=\\\"https:\\u002F\\u002Fpic4.zhimg.com\\u002F50\\u002Fv2-e27148b3002998144785c8edeff35c51_720w.jpg?source=1940ef5c\\\" data-caption=\\\"\\\" data-size=\\\"normal\\\" data-rawwidth=\\\"1080\\\" data-rawheight=\\\"2815\\\" data-default-watermark-src=\\\"https:\\u002F\\u002Fpic2.zhimg.com\\u002F50\\u002Fv2-f7ea4ae133745602f37c775617149de9_720w.jpg?source=1940ef5c\\\" class=\\\"origin_image zh-lightbox-thumb\\\" width=\\\"1080\\\" data-original=\\\"https:\\u002F\\u002Fpic1.zhimg.com\\u002Fv2-e27148b3002998144785c8edeff35c51_r.jpg?source=1940ef5c\\\"\\u002F\\u003E\\u003C\\u002Ffigure\\u003E\\u003Cp data-pid=\\\"yDcOwdHi\\\"\\u003E俗称的“报喜不报忧”产生了没有工作整天在外面流浪的父辈的共情。\\u003C\\u002Fp\\u003E\\u003Cfigure data-size=\\\"normal\\\"\\u003E\\u003Cimg src=\\\"https:\\u002F\\u002Fpic1.zhimg.com\\u002F50\\u002Fv2-2f4c1605b0532e345f32574e3655b7db_720w.jpg?source=1940ef5c\\\" data-caption=\\\"\\\" data-size=\\\"normal\\\" data-rawwidth=\\\"897\\\" data-rawheight=\\\"504\\\" data-default-watermark-src=\\\"https:\\u002F\\u002Fpic2.zhimg.com\\u002F50\\u002Fv2-3a11f09521cca749fe0bd50eaa235586_720w.jpg?source=1940ef5c\\\" class=\\\"origin_image zh-lightbox-thumb\\\" width=\\\"897\\\" data-original=\\\"https:\\u002F\\u002Fpic2.zhimg.com\\u002Fv2-2f4c1605b0532e345f32574e3655b7db_r.jpg?source=1940ef5c\\\"\\u002F\\u003E\\u003C\\u002Ffigure\\u003E\\u003Cp data-pid=\\\"8VJuJPLF\\\"\\u003E亦或者是因为“要守护家人”而放弃自己的兴趣放弃做自己。\\u003C\\u002Fp\\u003E\\u003Cp data-pid=\\\"jbj3tUKX\\\"\\u003E白色相簿2在这一点上更进一步采取了“永远不会夸孩子，开口就是贬损的母亲”这种人物设定。\\u003C\\u002Fp\\u003E\\u003Cfigure data-size=\\\"normal\\\"\\u003E\\u003Cimg src=\\\"https:\\u002F\\u002Fpic3.zhimg.com\\u002F50\\u002Fv2-1662168592f978c1c94de4be0f68926d_720w.jpg?source=1940ef5c\\\" data-caption=\\\"\\\" data-size=\\\"normal\\\" data-rawwidth=\\\"1094\\\" data-rawheight=\\\"2268\\\" data-default-watermark-src=\\\"https:\\u002F\\u002Fpica.zhimg.com\\u002F50\\u002Fv2-fe30d24b26eb08fc988aa19bfe8bb987_720w.jpg?source=1940ef5c\\\" class=\\\"origin_image zh-lightbox-thumb\\\" width=\\\"1094\\\" data-original=\\\"https:\\u002F\\u002Fpic2.zhimg.com\\u002Fv2-1662168592f978c1c94de4be0f68926d_r.jpg?source=1940ef5c\\\"\\u002F\\u003E\\u003C\\u002Ffigure\\u003E\\u003Cp data-pid=\\\"33zpt__y\\\"\\u003E当母亲的怀抱变成铁处女一般的刑具，你还会向她求助吗？\\u003C\\u002Fp\\u003E\\u003Ch3\\u003E3.校园欺凌剧情\\u003C\\u002Fh3\\u003E\\u003Cp data-pid=\\\"mcpSpEon\\\"\\u003E上面说的这种思维在于，黄金时期的日本是一个“一亿总中流”的中产阶级社会。中产阶级不像富裕阶级天然受到尊重享受他人的服务，也不像底层需要为温饱而奔波。对于中产阶级来说主要追求就是体面。社交与尊重。由此而来的就是“读空气”照顾气氛的需求。\\u003C\\u002Fp\\u003E\\u003Cfigure data-size=\\\"normal\\\"\\u003E\\u003Cimg src=\\\"https:\\u002F\\u002Fpic1.zhimg.com\\u002F50\\u002Fv2-f793810ea430f4f3d1898d5ecf487af8_720w.jpg?source=1940ef5c\\\" data-caption=\\\"\\\" data-size=\\\"normal\\\" data-rawwidth=\\\"822\\\" data-rawheight=\\\"641\\\" data-default-watermark-src=\\\"https:\\u002F\\u002Fpic1.zhimg.com\\u002F50\\u002Fv2-ecefaf98e79f771a62b7cd4d044e7e86_720w.jpg?source=1940ef5c\\\" class=\\\"origin_image zh-lightbox-thumb\\\" width=\\\"822\\\" data-original=\\\"https:\\u002F\\u002Fpic3.zhimg.com\\u002Fv2-f793810ea430f4f3d1898d5ecf487af8_r.jpg?source=1940ef5c\\\"\\u002F\\u003E\\u003C\\u002Ffigure\\u003E\\u003Cp data-pid=\\\"uc2U3O1M\\\"\\u003E这个词换个中国文化下的常用语大概呈现出的就是下面这种效果：\\u003C\\u002Fp\\u003E\\u003Cp data-pid=\\\"GMN_ubhO\\\"\\u003E“你不喝，就是不给面子”\\u003C\\u002Fp\\u003E\\u003Cp data-pid=\\\"a97yXzPj\\\"\\u003E“你不来，就是不合群”\\u003C\\u002Fp\\u003E\\u003Cp data-pid=\\\"Zdrxvjrj\\\"\\u003E在ACG亚文化圈子的定式中，主人公一般是不读气氛KY的那个：\\u003C\\u002Fp\\u003E\\u003Cfigure data-size=\\\"normal\\\"\\u003E\\u003Cimg src=\\\"https:\\u002F\\u002Fpic1.zhimg.com\\u002F50\\u002Fv2-c5621f46b4b6ade41ba49de8c9cedd36_720w.jpg?source=1940ef5c\\\" data-caption=\\\"\\\" data-size=\\\"normal\\\" data-rawwidth=\\\"1087\\\" data-rawheight=\\\"611\\\" data-default-watermark-src=\\\"https:\\u002F\\u002Fpic1.zhimg.com\\u002F50\\u002Fv2-d63f100f8c68c303dd23fb848f9de027_720w.jpg?source=1940ef5c\\\" class=\\\"origin_image zh-lightbox-thumb\\\" width=\\\"1087\\\" data-original=\\\"https:\\u002F\\u002Fpic3.zhimg.com\\u002Fv2-c5621f46b4b6ade41ba49de8c9cedd36_r.jpg?source=1940ef5c\\\"\\u002F\\u003E\\u003C\\u002Ffigure\\u003E\\u003Cp data-pid=\\\"yH3YBb00\\\"\\u003E在涉及到欺凌排挤剧情的作品中，有些话就是地痞无赖强迫主人公做事的定番：\\u003C\\u002Fp\\u003E\\u003Cp data-pid=\\\"vY82OXyk\\\"\\u003E读下空气啊\\u003C\\u002Fp\\u003E\\u003Cfigure data-size=\\\"normal\\\"\\u003E\\u003Cimg src=\\\"https:\\u002F\\u002Fpica.zhimg.com\\u002F50\\u002Fv2-763fa6fdf3aa4832c61afe60592b1cda_720w.jpg?source=1940ef5c\\\" data-caption=\\\"\\\" data-size=\\\"normal\\\" data-rawwidth=\\\"1083\\\" data-rawheight=\\\"607\\\" data-default-watermark-src=\\\"https:\\u002F\\u002Fpica.zhimg.com\\u002F50\\u002Fv2-e7832f6300af749b83fc1de0f039e872_720w.jpg?source=1940ef5c\\\" class=\\\"origin_image zh-lightbox-thumb\\\" width=\\\"1083\\\" data-original=\\\"https:\\u002F\\u002Fpic3.zhimg.com\\u002Fv2-763fa6fdf3aa4832c61afe60592b1cda_r.jpg?source=1940ef5c\\\"\\u002F\\u003E\\u003C\\u002Ffigure\\u003E\\u003Cp data-pid=\\\"s6faMOSD\\\"\\u003E大家好好相处\\u003C\\u002Fp\\u003E\\u003Cfigure data-size=\\\"normal\\\"\\u003E\\u003Cimg src=\\\"https:\\u002F\\u002Fpic1.zhimg.com\\u002F50\\u002Fv2-5b1e2643738831ddc5d2d1a866372ffc_720w.jpg?source=1940ef5c\\\" data-caption=\\\"\\\" data-size=\\\"normal\\\" data-rawwidth=\\\"1259\\\" data-rawheight=\\\"942\\\" data-default-watermark-src=\\\"https:\\u002F\\u002Fpic3.zhimg.com\\u002F50\\u002Fv2-3de0ba83def4f4defb0d0cd1f39af2d8_720w.jpg?source=1940ef5c\\\" class=\\\"origin_image zh-lightbox-thumb\\\" width=\\\"1259\\\" data-original=\\\"https:\\u002F\\u002Fpic3.zhimg.com\\u002Fv2-5b1e2643738831ddc5d2d1a866372ffc_r.jpg?source=1940ef5c\\\"\\u002F\\u003E\\u003C\\u002Ffigure\\u003E\\u003Cp data-pid=\\\"We4KgmRr\\\"\\u003E负起责任来\\u003C\\u002Fp\\u003E\\u003Cfigure data-size=\\\"normal\\\"\\u003E\\u003Cimg src=\\\"https:\\u002F\\u002Fpic1.zhimg.com\\u002F50\\u002Fv2-0072d76d4dfe5c7a68e21cf84a000b27_720w.jpg?source=1940ef5c\\\" data-caption=\\\"\\\" data-size=\\\"normal\\\" data-rawwidth=\\\"720\\\" data-rawheight=\\\"543\\\" data-default-watermark-src=\\\"https:\\u002F\\u002Fpic3.zhimg.com\\u002F50\\u002Fv2-834c28349e874df6cb62a359b0e49d4a_720w.jpg?source=1940ef5c\\\" class=\\\"origin_image zh-lightbox-thumb\\\" width=\\\"720\\\" data-original=\\\"https:\\u002F\\u002Fpic1.zhimg.com\\u002Fv2-0072d76d4dfe5c7a68e21cf84a000b27_r.jpg?source=1940ef5c\\\"\\u002F\\u003E\\u003C\\u002Ffigure\\u003E\\u003Cp data-pid=\\\"zuU3mDBD\\\"\\u003E类似这种对话在大众向的剧集里一般是幼儿园、失控教室中的新手老师这样哄小孩的情景，宅向的深夜动画一般出现在欺凌剧情中，在ero向一般就是RAPE剧情的定番了。\\u003C\\u002Fp\\u003E\\u003Cp data-pid=\\\"0HGGjllx\\\"\\u003E就像同志、小姐和翔这样的词汇一样，是使用过程中被负面化了的熟语。成句。\\u003C\\u002Fp\\u003E\\u003Cblockquote data-pid=\\\"3P0Inw3Y\\\"\\u003EIC 总场44 高中教室\\u003Cbr\\u002F\\u003E春冬亲\\u003Cbr\\u002F\\u003E男学生1 北原、这是材料列表。本山转回来要检查一下\\u003Cbr\\u002F\\u003E女学生1 呐北原君、篮球部进货的咨询、今天放学后能空出来吗？\\u003Cbr\\u002F\\u003E亲志 喂春希。今天开出来的最新赔率在这…\\u003Cbr\\u002F\\u003E春希 之前就说了的吧…只限这次谁来都不会帮的。不好意思去找别人吧\\u003Cbr\\u002F\\u003E男学生1 明白了明白了。只要过一下眼就可以了…如果你能忍得了这个\\u003Cbr\\u002F\\u003E女学生1 时间要到了也可以的吗…大家在等着的\\u003Cbr\\u002F\\u003E亲志 让MISS峰城大附属变成大混战的是你本人吧。\\u003Cb\\u003E好好负起责任来啊\\u003C\\u002Fb\\u003E\\u003Cbr\\u002F\\u003E春希 不要一个劲戳我的弱的地方啊。也光就擅长拜托人的方法了。说到底…\\u003C\\u002Fblockquote\\u003E\\u003Cp data-pid=\\\"hwTUWmIu\\\"\\u003E在宅向的恋爱作品定番一般是这样：\\u003C\\u002Fp\\u003E\\u003Cfigure data-size=\\\"normal\\\"\\u003E\\u003Cimg src=\\\"https:\\u002F\\u002Fpic1.zhimg.com\\u002F50\\u002Fv2-5c6c638eb224b0e3c0f6365da258fedd_720w.jpg?source=1940ef5c\\\" data-caption=\\\"\\\" data-size=\\\"normal\\\" data-rawwidth=\\\"1553\\\" data-rawheight=\\\"1043\\\" data-default-watermark-src=\\\"https:\\u002F\\u002Fpica.zhimg.com\\u002F50\\u002Fv2-b95a4168e2f52d16bb0e495e65e29e63_720w.jpg?source=1940ef5c\\\" class=\\\"origin_image zh-lightbox-thumb\\\" width=\\\"1553\\\" data-original=\\\"https:\\u002F\\u002Fpica.zhimg.com\\u002Fv2-5c6c638eb224b0e3c0f6365da258fedd_r.jpg?source=1940ef5c\\\"\\u002F\\u003E\\u003C\\u002Ffigure\\u003E\\u003Cp data-pid=\\\"hfQFAlfN\\\"\\u003E地痞流氓缠住女主，然后男主上去解围说“没看她不愿意吗”\\u003C\\u002Fp\\u003E\\u003Cp data-pid=\\\"T33V2MU4\\\"\\u003E男性受到欺凌的定番一般是跑腿和要钱：\\u003C\\u002Fp\\u003E\\u003Cfigure data-size=\\\"normal\\\"\\u003E\\u003Cimg src=\\\"https:\\u002F\\u002Fpic3.zhimg.com\\u002F50\\u002Fv2-f8cd8528eb8f6415dc8085a3fa2ed337_720w.jpg?source=1940ef5c\\\" data-caption=\\\"\\\" data-size=\\\"normal\\\" data-rawwidth=\\\"1086\\\" data-rawheight=\\\"607\\\" data-default-watermark-src=\\\"https:\\u002F\\u002Fpic1.zhimg.com\\u002F50\\u002Fv2-a13f70110b2d234a85169fce2bdaeec5_720w.jpg?source=1940ef5c\\\" class=\\\"origin_image zh-lightbox-thumb\\\" width=\\\"1086\\\" data-original=\\\"https:\\u002F\\u002Fpic3.zhimg.com\\u002Fv2-f8cd8528eb8f6415dc8085a3fa2ed337_r.jpg?source=1940ef5c\\\"\\u002F\\u003E\\u003C\\u002Ffigure\\u003E\\u003Cp data-pid=\\\"B-YW8kaR\\\"\\u003E女性受到欺凌的定番一般是荡妇羞辱和造谣：\\u003C\\u002Fp\\u003E\\u003Cfigure data-size=\\\"normal\\\"\\u003E\\u003Cimg src=\\\"https:\\u002F\\u002Fpic1.zhimg.com\\u002F50\\u002Fv2-04a5dd9123f28a1108e79576b0c572b1_720w.jpg?source=1940ef5c\\\" data-caption=\\\"\\\" data-size=\\\"normal\\\" data-rawwidth=\\\"821\\\" data-rawheight=\\\"643\\\" data-default-watermark-src=\\\"https:\\u002F\\u002Fpica.zhimg.com\\u002F50\\u002Fv2-a4805cb30af15e5e914cc36cef6acc36_720w.jpg?source=1940ef5c\\\" class=\\\"origin_image zh-lightbox-thumb\\\" width=\\\"821\\\" data-original=\\\"https:\\u002F\\u002Fpica.zhimg.com\\u002Fv2-04a5dd9123f28a1108e79576b0c572b1_r.jpg?source=1940ef5c\\\"\\u002F\\u003E\\u003C\\u002Ffigure\\u003E\\u003Cp data-pid=\\\"-YPS0D9_\\\"\\u003EGalgame这边的坐标是哪里呢？深度御宅向ERO Game\\u003C\\u002Fp\\u003E\\u003Cp data-pid=\\\"bIuiVUu2\\\"\\u003E这边类似剧情一般安排在男主身边的武也等人身上。\\u003C\\u002Fp\\u003E\\u003Cfigure data-size=\\\"normal\\\"\\u003E\\u003Cimg src=\\\"https:\\u002F\\u002Fpic3.zhimg.com\\u002F50\\u002Fv2-e3d0f2402d76e37fa0eec45bc61e1a63_720w.jpg?source=1940ef5c\\\" data-caption=\\\"\\\" data-size=\\\"normal\\\" data-rawwidth=\\\"821\\\" data-rawheight=\\\"644\\\" data-default-watermark-src=\\\"https:\\u002F\\u002Fpic1.zhimg.com\\u002F50\\u002Fv2-5e9c9b57f13da365839caf8aa21e7f74_720w.jpg?source=1940ef5c\\\" class=\\\"origin_image zh-lightbox-thumb\\\" width=\\\"821\\\" data-original=\\\"https:\\u002F\\u002Fpic3.zhimg.com\\u002Fv2-e3d0f2402d76e37fa0eec45bc61e1a63_r.jpg?source=1940ef5c\\\"\\u002F\\u003E\\u003C\\u002Ffigure\\u003E\\u003Cfigure data-size=\\\"normal\\\"\\u003E\\u003Cimg src=\\\"https:\\u002F\\u002Fpic1.zhimg.com\\u002F50\\u002Fv2-4443f1ab6778bf8e75dd0c2192dba6fa_720w.jpg?source=1940ef5c\\\" data-caption=\\\"\\\" data-size=\\\"normal\\\" data-rawwidth=\\\"816\\\" data-rawheight=\\\"645\\\" data-default-watermark-src=\\\"https:\\u002F\\u002Fpic2.zhimg.com\\u002F50\\u002Fv2-cf643273a9427cf6ba7573c6bd2ba526_720w.jpg?source=1940ef5c\\\" class=\\\"origin_image zh-lightbox-thumb\\\" width=\\\"816\\\" data-original=\\\"https:\\u002F\\u002Fpic1.zhimg.com\\u002Fv2-4443f1ab6778bf8e75dd0c2192dba6fa_r.jpg?source=1940ef5c\\\"\\u002F\\u003E\\u003C\\u002Ffigure\\u003E\\u003Cp data-pid=\\\"TYsQy8ho\\\"\\u003E大概这样的画风：\\u003C\\u002Fp\\u003E\\u003Cfigure data-size=\\\"normal\\\"\\u003E\\u003Cimg src=\\\"https:\\u002F\\u002Fpic1.zhimg.com\\u002F50\\u002Fv2-f6854509032ec4f59de6689666adb4dd_720w.jpg?source=1940ef5c\\\" data-caption=\\\"\\\" data-size=\\\"normal\\\" data-rawwidth=\\\"823\\\" data-rawheight=\\\"650\\\" data-default-watermark-src=\\\"https:\\u002F\\u002Fpic1.zhimg.com\\u002F50\\u002Fv2-a2c242bb25f979a848bdc938eec526a3_720w.jpg?source=1940ef5c\\\" class=\\\"origin_image zh-lightbox-thumb\\\" width=\\\"823\\\" data-original=\\\"https:\\u002F\\u002Fpic3.zhimg.com\\u002Fv2-f6854509032ec4f59de6689666adb4dd_r.jpg?source=1940ef5c\\\"\\u002F\\u003E\\u003C\\u002Ffigure\\u003E\\u003Cp data-pid=\\\"rEOGnAy8\\\"\\u003E每当剧情走向积极正面的高潮桥段时画风一般是主人公开始拒绝讨好无关的他人，而与之相对的剧情走向至暗时刻时一般时是这种画风：\\u003C\\u002Fp\\u003E\\u003Cfigure data-size=\\\"normal\\\"\\u003E\\u003Cimg src=\\\"https:\\u002F\\u002Fpica.zhimg.com\\u002F50\\u002Fv2-6359373e95645a1e0ab20aacf32fee02_720w.jpg?source=1940ef5c\\\" data-caption=\\\"\\\" data-size=\\\"normal\\\" data-rawwidth=\\\"814\\\" data-rawheight=\\\"639\\\" data-default-watermark-src=\\\"https:\\u002F\\u002Fpic2.zhimg.com\\u002F50\\u002Fv2-a7b8cafa1736f1f8477902e3d6d2d96d_720w.jpg?source=1940ef5c\\\" class=\\\"origin_image zh-lightbox-thumb\\\" width=\\\"814\\\" data-original=\\\"https:\\u002F\\u002Fpica.zhimg.com\\u002Fv2-6359373e95645a1e0ab20aacf32fee02_r.jpg?source=1940ef5c\\\"\\u002F\\u003E\\u003C\\u002Ffigure\\u003E\\u003Ch3\\u003E4.从业者的交点\\u003C\\u002Fh3\\u003E\\u003Cp data-pid=\\\"-X6hMkfq\\\"\\u003E说回90年代，宫崎勤事件对当时的erogame业界产生了巨大冲击，但受到更大冲击的是动画业界。彼时火红发展的OVA动画直接被宣判死亡。许多优秀的业者也是在这一时期流入Galgame业界，作为本回答主角的叶子社也正是这一时期成立的。\\u003C\\u002Fp\\u003E\\u003Cp data-pid=\\\"z76_Yb5E\\\"\\u003E这一至暗时代结束于一部自我心理解剖的现象级作品。\\u003C\\u002Fp\\u003E\\u003Cfigure data-size=\\\"normal\\\"\\u003E\\u003Cimg src=\\\"https:\\u002F\\u002Fpic2.zhimg.com\\u002F50\\u002Fv2-14ca47b84f64aa8999e6c5abf2143655_720w.jpg?source=1940ef5c\\\" data-caption=\\\"\\\" data-size=\\\"normal\\\" data-rawwidth=\\\"801\\\" data-rawheight=\\\"598\\\" data-default-watermark-src=\\\"https:\\u002F\\u002Fpic3.zhimg.com\\u002F50\\u002Fv2-56670e4b27af64ce1d805a1493524d8a_720w.jpg?source=1940ef5c\\\" class=\\\"origin_image zh-lightbox-thumb\\\" width=\\\"801\\\" data-original=\\\"https:\\u002F\\u002Fpic3.zhimg.com\\u002Fv2-14ca47b84f64aa8999e6c5abf2143655_r.jpg?source=1940ef5c\\\"\\u002F\\u003E\\u003C\\u002Ffigure\\u003E\\u003Cp data-pid=\\\"dCTIVTzP\\\"\\u003E战后世代的英雄是打击罪恶的铁人28、黄金世代的英雄是对抗恐龙帝国的盖塔，失落世代的英雄是在崩坏的世界中与逃避现实冲动战斗的EVA。\\u003C\\u002Fp\\u003E\\u003Cp data-pid=\\\"dUgalAZL\\\"\\u003EEVA的成功也带动了黑暗系、郁系、泣系作品的出现。\\u003C\\u002Fp\\u003E\\u003Cfigure data-size=\\\"normal\\\"\\u003E\\u003Cimg src=\\\"https:\\u002F\\u002Fpic1.zhimg.com\\u002F50\\u002Fv2-1865bc1224865334c9cc1176c25bf6ad_720w.jpg?source=1940ef5c\\\" data-caption=\\\"\\\" data-size=\\\"normal\\\" data-rawwidth=\\\"885\\\" data-rawheight=\\\"659\\\" data-default-watermark-src=\\\"https:\\u002F\\u002Fpic3.zhimg.com\\u002F50\\u002Fv2-8370b1d3a9009c70042249bb695bc18f_720w.jpg?source=1940ef5c\\\" class=\\\"origin_image zh-lightbox-thumb\\\" width=\\\"885\\\" data-original=\\\"https:\\u002F\\u002Fpic3.zhimg.com\\u002Fv2-1865bc1224865334c9cc1176c25bf6ad_r.jpg?source=1940ef5c\\\"\\u002F\\u003E\\u003C\\u002Ffigure\\u003E\\u003Cp data-pid=\\\"Ho1EbLos\\\"\\u003E陪伴病重妹妹最后时刻的加奈妹妹\\u003C\\u002Fp\\u003E\\u003Cfigure data-size=\\\"normal\\\"\\u003E\\u003Cimg src=\\\"https:\\u002F\\u002Fpic3.zhimg.com\\u002F50\\u002Fv2-43db8d8b7503ff68a3f26bbd70e91a71_720w.jpg?source=1940ef5c\\\" data-caption=\\\"\\\" data-size=\\\"normal\\\" data-rawwidth=\\\"898\\\" data-rawheight=\\\"663\\\" data-default-watermark-src=\\\"https:\\u002F\\u002Fpic2.zhimg.com\\u002F50\\u002Fv2-c37bda2d8778660083acce0719bac44c_720w.jpg?source=1940ef5c\\\" class=\\\"origin_image zh-lightbox-thumb\\\" width=\\\"898\\\" data-original=\\\"https:\\u002F\\u002Fpica.zhimg.com\\u002Fv2-43db8d8b7503ff68a3f26bbd70e91a71_r.jpg?source=1940ef5c\\\"\\u002F\\u003E\\u003C\\u002Ffigure\\u003E\\u003Cp data-pid=\\\"pPTMXydC\\\"\\u003E如同波西米亚人一般由社会边缘人组成的互舔伤口的拟合家庭的家族计画。\\u003C\\u002Fp\\u003E\\u003Cfigure data-size=\\\"normal\\\"\\u003E\\u003Cimg src=\\\"https:\\u002F\\u002Fpic2.zhimg.com\\u002F50\\u002Fv2-db23475534705a59d379e4bc5896932e_720w.jpg?source=1940ef5c\\\" data-caption=\\\"\\\" data-size=\\\"normal\\\" data-rawwidth=\\\"1067\\\" data-rawheight=\\\"605\\\" data-default-watermark-src=\\\"https:\\u002F\\u002Fpic3.zhimg.com\\u002F50\\u002Fv2-59bad6fac7e584a06b9c20e4d1c28be4_720w.jpg?source=1940ef5c\\\" class=\\\"origin_image zh-lightbox-thumb\\\" width=\\\"1067\\\" data-original=\\\"https:\\u002F\\u002Fpic2.zhimg.com\\u002Fv2-db23475534705a59d379e4bc5896932e_r.jpg?source=1940ef5c\\\"\\u002F\\u003E\\u003C\\u002Ffigure\\u003E\\u003Cp data-pid=\\\"mxuX9LR5\\\"\\u003E“妈妈你不要动，无论发生什么都不可以过来，我要一个人努力，努力试着走到那里，妈妈是我的终点，和空一起当终点”\\u003C\\u002Fp\\u003E\\u003Cp data-pid=\\\"nHVVE8pQ\\\"\\u003E“不可以，观铃，不可以过来，不可以抵达终点，才刚刚开始不是吗，我们要找回失去的东西，本应十年前就开始的幸福生活 ”（注：AIR原作2000年发售）\\u003C\\u002Fp\\u003E\\u003Cfigure data-size=\\\"normal\\\"\\u003E\\u003Cimg src=\\\"https:\\u002F\\u002Fpica.zhimg.com\\u002F50\\u002Fv2-68ac7398f0e95c476b64f28d3bfa2bcc_720w.jpg?source=1940ef5c\\\" data-caption=\\\"\\\" data-size=\\\"normal\\\" data-rawwidth=\\\"1276\\\" data-rawheight=\\\"721\\\" data-default-watermark-src=\\\"https:\\u002F\\u002Fpic2.zhimg.com\\u002F50\\u002Fv2-6b678a00eae509069d492f16fe83d5b9_720w.jpg?source=1940ef5c\\\" class=\\\"origin_image zh-lightbox-thumb\\\" width=\\\"1276\\\" data-original=\\\"https:\\u002F\\u002Fpic1.zhimg.com\\u002Fv2-68ac7398f0e95c476b64f28d3bfa2bcc_r.jpg?source=1940ef5c\\\"\\u002F\\u003E\\u003C\\u002Ffigure\\u003E\\u003Cp data-pid=\\\"Sp9vK634\\\"\\u003E“虽然发生过很多事情，有过艰辛，也有过痛苦，但我努力过真是太好了，因为我的幸福和终点在一起真是太好了，因为我不是孤身一人了，所以，所以呢，我要到达终点了”\\u003C\\u002Fp\\u003E\\u003Cp data-pid=\\\"mDHuQttB\\\"\\u003E“不可以，要从现在开始，我不是说了要从现在开始吗！”\\u003C\\u002Fp\\u003E\\u003Cfigure data-size=\\\"normal\\\"\\u003E\\u003Cimg src=\\\"https:\\u002F\\u002Fpica.zhimg.com\\u002F50\\u002Fv2-b75dbc4f8894bdf473dc6279693f023b_720w.jpg?source=1940ef5c\\\" data-caption=\\\"\\\" data-size=\\\"normal\\\" data-rawwidth=\\\"752\\\" data-rawheight=\\\"448\\\" data-default-watermark-src=\\\"https:\\u002F\\u002Fpica.zhimg.com\\u002F50\\u002Fv2-8e84951a8eb19264ec295ce491a18924_720w.jpg?source=1940ef5c\\\" class=\\\"origin_image zh-lightbox-thumb\\\" width=\\\"752\\\" data-original=\\\"https:\\u002F\\u002Fpica.zhimg.com\\u002Fv2-b75dbc4f8894bdf473dc6279693f023b_r.jpg?source=1940ef5c\\\"\\u002F\\u003E\\u003C\\u002Ffigure\\u003E\\u003Cp data-pid=\\\"D3ARcIVg\\\"\\u003E在轮回中努力挣扎到达了妈妈怀中这个“最幸福地方”的AIR\\u003C\\u002Fp\\u003E\\u003Cfigure data-size=\\\"normal\\\"\\u003E\\u003Cimg src=\\\"https:\\u002F\\u002Fpic2.zhimg.com\\u002F50\\u002Fv2-2e2cf4f4a936b030a944e51bdf59d80d_720w.jpg?source=1940ef5c\\\" data-caption=\\\"\\\" data-size=\\\"normal\\\" data-rawwidth=\\\"1083\\\" data-rawheight=\\\"601\\\" data-default-watermark-src=\\\"https:\\u002F\\u002Fpic1.zhimg.com\\u002F50\\u002Fv2-64dee031195ad1ed923045e265aeb227_720w.jpg?source=1940ef5c\\\" class=\\\"origin_image zh-lightbox-thumb\\\" width=\\\"1083\\\" data-original=\\\"https:\\u002F\\u002Fpica.zhimg.com\\u002Fv2-2e2cf4f4a936b030a944e51bdf59d80d_r.jpg?source=1940ef5c\\\"\\u002F\\u003E\\u003C\\u002Ffigure\\u003E\\u003Cp data-pid=\\\"aqUGi28f\\\"\\u003E搞砸了一切自暴自弃度过了一生的朋也在收集到13个光玉之后，在坡道前犹豫当初是否不应该搭话的Clannad\\u003C\\u002Fp\\u003E\\u003Cfigure data-size=\\\"normal\\\"\\u003E\\u003Cimg src=\\\"https:\\u002F\\u002Fpic1.zhimg.com\\u002F50\\u002Fv2-67b088f4a8a04a7fc645356833f530c8_720w.jpg?source=1940ef5c\\\" data-caption=\\\"\\\" data-size=\\\"normal\\\" data-rawwidth=\\\"1279\\\" data-rawheight=\\\"716\\\" data-default-watermark-src=\\\"https:\\u002F\\u002Fpic2.zhimg.com\\u002F50\\u002Fv2-f5296f083c4e8f7b0358254c8cc5c65b_720w.jpg?source=1940ef5c\\\" class=\\\"origin_image zh-lightbox-thumb\\\" width=\\\"1279\\\" data-original=\\\"https:\\u002F\\u002Fpica.zhimg.com\\u002Fv2-67b088f4a8a04a7fc645356833f530c8_r.jpg?source=1940ef5c\\\"\\u002F\\u003E\\u003C\\u002Ffigure\\u003E\\u003Cp data-pid=\\\"BNqCnSsz\\\"\\u003E把你从黑暗中救出来变得勇敢的little busters\\u003C\\u002Fp\\u003E\\u003Cfigure data-size=\\\"normal\\\"\\u003E\\u003Cimg src=\\\"https:\\u002F\\u002Fpic2.zhimg.com\\u002F50\\u002Fv2-4c5ea07c41d62743eaa395c789a7b129_720w.jpg?source=1940ef5c\\\" data-caption=\\\"\\\" data-size=\\\"normal\\\" data-rawwidth=\\\"495\\\" data-rawheight=\\\"366\\\" data-default-watermark-src=\\\"https:\\u002F\\u002Fpica.zhimg.com\\u002F50\\u002Fv2-b1a1ca982ed026da5777112ec902da02_720w.jpg?source=1940ef5c\\\" class=\\\"origin_image zh-lightbox-thumb\\\" width=\\\"495\\\" data-original=\\\"https:\\u002F\\u002Fpic3.zhimg.com\\u002Fv2-4c5ea07c41d62743eaa395c789a7b129_r.jpg?source=1940ef5c\\\"\\u002F\\u003E\\u003C\\u002Ffigure\\u003E\\u003Cp data-pid=\\\"YAA-8iia\\\"\\u003E从想要拯救每一个人的梦中觉醒只做一个人英雄的fate\\u003C\\u002Fp\\u003E\\u003Cfigure data-size=\\\"normal\\\"\\u003E\\u003Cimg src=\\\"https:\\u002F\\u002Fpic3.zhimg.com\\u002F50\\u002Fv2-c4d01263a02d4166c103f24c2f7e18e5_720w.jpg?source=1940ef5c\\\" data-caption=\\\"\\\" data-size=\\\"normal\\\" data-rawwidth=\\\"900\\\" data-rawheight=\\\"503\\\" data-default-watermark-src=\\\"https:\\u002F\\u002Fpic2.zhimg.com\\u002F50\\u002Fv2-feee5babefb98a7a7e230e57de758959_720w.jpg?source=1940ef5c\\\" class=\\\"origin_image zh-lightbox-thumb\\\" width=\\\"900\\\" data-original=\\\"https:\\u002F\\u002Fpic1.zhimg.com\\u002Fv2-c4d01263a02d4166c103f24c2f7e18e5_r.jpg?source=1940ef5c\\\"\\u002F\\u003E\\u003C\\u002Ffigure\\u003E\\u003Cp data-pid=\\\"gv42Bi13\\\"\\u003Emeta系的开山之作，拯救屏幕前你的臭作\\u003C\\u002Fp\\u003E\\u003Cfigure data-size=\\\"normal\\\"\\u003E\\u003Cimg src=\\\"https:\\u002F\\u002Fpic1.zhimg.com\\u002F50\\u002Fv2-753ab1a648bc0fcd4ad70b6f3f3e8d84_720w.jpg?source=1940ef5c\\\" data-caption=\\\"\\\" data-size=\\\"normal\\\" data-rawwidth=\\\"893\\\" data-rawheight=\\\"619\\\" data-default-watermark-src=\\\"https:\\u002F\\u002Fpic3.zhimg.com\\u002F50\\u002Fv2-31975f2f28315790298bd1164d57af82_720w.jpg?source=1940ef5c\\\" class=\\\"origin_image zh-lightbox-thumb\\\" width=\\\"893\\\" data-original=\\\"https:\\u002F\\u002Fpic1.zhimg.com\\u002Fv2-753ab1a648bc0fcd4ad70b6f3f3e8d84_r.jpg?source=1940ef5c\\\"\\u002F\\u003E\\u003C\\u002Ffigure\\u003E\\u003Cp data-pid=\\\"vUnHlsLZ\\\"\\u003E在无尽的轮回中寻求解法的寒蝉\\u003C\\u002Fp\\u003E\\u003Cfigure data-size=\\\"normal\\\"\\u003E\\u003Cimg src=\\\"https:\\u002F\\u002Fpic3.zhimg.com\\u002F50\\u002Fv2-d8ac97bb6da44d52c85868302abc734a_720w.jpg?source=1940ef5c\\\" data-caption=\\\"\\\" data-size=\\\"normal\\\" data-rawwidth=\\\"1191\\\" data-rawheight=\\\"665\\\" data-default-watermark-src=\\\"https:\\u002F\\u002Fpic2.zhimg.com\\u002F50\\u002Fv2-4302dadff81fa31af23ec9f4e153817d_720w.jpg?source=1940ef5c\\\" class=\\\"origin_image zh-lightbox-thumb\\\" width=\\\"1191\\\" data-original=\\\"https:\\u002F\\u002Fpica.zhimg.com\\u002Fv2-d8ac97bb6da44d52c85868302abc734a_r.jpg?source=1940ef5c\\\"\\u002F\\u003E\\u003C\\u002Ffigure\\u003E\\u003Cp data-pid=\\\"4TFLYEjS\\\"\\u003E在崩坏的世界中穿梭平行世界夺回日常的Muv-luv\\u003C\\u002Fp\\u003E\\u003Cfigure data-size=\\\"normal\\\"\\u003E\\u003Cimg src=\\\"https:\\u002F\\u002Fpic2.zhimg.com\\u002F50\\u002Fv2-b136d7da1a6531e997162d67185d1dca_720w.jpg?source=1940ef5c\\\" data-caption=\\\"\\\" data-size=\\\"normal\\\" data-rawwidth=\\\"1920\\\" data-rawheight=\\\"1080\\\" data-default-watermark-src=\\\"https:\\u002F\\u002Fpic3.zhimg.com\\u002F50\\u002Fv2-97c555762551d1653a91434a4f7f0774_720w.jpg?source=1940ef5c\\\" class=\\\"origin_image zh-lightbox-thumb\\\" width=\\\"1920\\\" data-original=\\\"https:\\u002F\\u002Fpic1.zhimg.com\\u002Fv2-b136d7da1a6531e997162d67185d1dca_r.jpg?source=1940ef5c\\\"\\u002F\\u003E\\u003C\\u002Ffigure\\u003E\\u003Cp data-pid=\\\"5-Wp-eCg\\\"\\u003E带他回来才能拯救大家的Ever17\\u003C\\u002Fp\\u003E\\u003Cfigure data-size=\\\"normal\\\"\\u003E\\u003Cimg src=\\\"https:\\u002F\\u002Fpic2.zhimg.com\\u002F50\\u002Fv2-35bf17595c3f8bbe5df7d22de7d45dd0_720w.jpg?source=1940ef5c\\\" data-caption=\\\"\\\" data-size=\\\"normal\\\" data-rawwidth=\\\"1280\\\" data-rawheight=\\\"716\\\" data-default-watermark-src=\\\"https:\\u002F\\u002Fpica.zhimg.com\\u002F50\\u002Fv2-5e69e8cf28984756fe9e3967c35fbe37_720w.jpg?source=1940ef5c\\\" class=\\\"origin_image zh-lightbox-thumb\\\" width=\\\"1280\\\" data-original=\\\"https:\\u002F\\u002Fpic1.zhimg.com\\u002Fv2-35bf17595c3f8bbe5df7d22de7d45dd0_r.jpg?source=1940ef5c\\\"\\u002F\\u003E\\u003C\\u002Ffigure\\u003E\\u003Cp data-pid=\\\"qB_0ZMpv\\\"\\u003E天户岩：天照大神（太阳）生气了躲了起来，进入永夜的日本八方神明聚集起来想办法将天照大神带出来。\\u003C\\u002Fp\\u003E\\u003Cp data-pid=\\\"vHM2zhWV\\\"\\u003E黄金时代的Galgame业者与当时作为读者的丸户，他们的人生是有交点的，有共感的。\\u003C\\u002Fp\\u003E\\u003Cp data-pid=\\\"PIaa0HHD\\\"\\u003E这个共感的点就是一代人的共同记忆。\\u003C\\u002Fp\\u003E\\u003Cp data-pid=\\\"UHvhEORD\\\"\\u003E甲儿和正太郎拼命守护的世界真的、崩坏了呀\\u003C\\u002Fp\\u003E\\u003Ch2\\u003E三、玩剧情向的Galgame真的是冲着谈恋爱来的吗？\\u003C\\u002Fh2\\u003E\\u003Cp data-pid=\\\"0AUBG3CX\\\"\\u003E来做个选择题吧：生活在同样崩坏了的世界中的创作者们，对于那些父亲在经济危机中离开、在学校因为喜欢ACG而被孤立被欺负，没能成为家里的男子汉无颜面对母亲，逃到Galgame世界来的家里蹲说些怎样的话呢？\\u003C\\u002Fp\\u003E\\u003Cp data-pid=\\\"MdDHES-l\\\"\\u003E1.多大人了还喜欢这个？ 2.做你自己就会有人喜欢你的\\u003C\\u002Fp\\u003E\\u003Cp data-pid=\\\"GLgp5ccx\\\"\\u003E1.一点长进都没有 2.不知道怎么办的时候有我\\u003C\\u002Fp\\u003E\\u003Cp data-pid=\\\"QflbI2dz\\\"\\u003E1.又骗人，你就是嘴硬  2.是你的话没问题的\\u003C\\u002Fp\\u003E\\u003Cp data-pid=\\\"yRZlXrJ3\\\"\\u003E1.因为你妈妈太爱你了 2.我也是一样的\\u003C\\u002Fp\\u003E\\u003Cp data-pid=\\\"GkGG8wbM\\\"\\u003E1.这是为你好 2.那就交给你了\\u003C\\u002Fp\\u003E\\u003Cp data-pid=\\\"EDRd3U_I\\\"\\u003E1.都是因为你才会这样的 2.我来想点办法\\u003C\\u002Fp\\u003E\\u003Cp data-pid=\\\"6hBovoPD\\\"\\u003E1.那不都过去的事了吗 2.你一定很辛苦吧\\u003C\\u002Fp\\u003E\\u003Cp data-pid=\\\"qU8xcaDX\\\"\\u003E1.你救得了谁啊 2.这次轮到我来救你了\\u003C\\u002Fp\\u003E\\u003Cp data-pid=\\\"-Wkce8oM\\\"\\u003E1.我家孩子很坚强，一定会没事的。 2.不是都在哭了嘛\\u003C\\u002Fp\\u003E\\u003Cp data-pid=\\\"isfD_oMW\\\"\\u003E听说选对的概率只有1\\u002F4096。\\u003C\\u002Fp\\u003E\\u003Cp data-pid=\\\"sBhkGdPx\\\"\\u003E有人说选择左边是更高情商的做法，是社会化更好的做法，能站在更多人的一边。\\u003C\\u002Fp\\u003E\\u003Cp data-pid=\\\"tz3oKsmq\\\"\\u003E站在人堆里一定会感觉很安全吧？\\u003C\\u002Fp\\u003E\\u003Cp data-pid=\\\"WUge3u_O\\\"\\u003E但是说到底玩游戏的人要的是：\\u003C\\u002Fp\\u003E\\u003Cp data-pid=\\\"QorJULD6\\\"\\u003E我变强了、我变勇敢了、我被接受了、我得到了尊重了\\u003C\\u002Fp\\u003E\\u003Cp data-pid=\\\"OLCm2bTj\\\"\\u003E我要证明我是值得被爱的\\u003C\\u002Fp\\u003E\\u003Cp data-pid=\\\"NK5i_dhz\\\"\\u003E在选择前，我们再加入一个场外信息：\\u003C\\u002Fp\\u003E\\u003Cp data-pid=\\\"YVIPIFlM\\\"\\u003E宫崎勤在2006年被判死刑，08年执行死刑。这是在白色相簿2制作周期内发生的事。\\u003C\\u002Fp\\u003E\\u003Cp data-pid=\\\"xcQaXnkG\\\"\\u003E宫崎勤犯案时曾留下过当时很流行的拆字游戏作为字谜：\\u003C\\u002Fp\\u003E\\u003Cp data-pid=\\\"2sPVO4zb\\\"\\u003E“绘梨香”，“風邪”，“咳”，“喉”，“楽”，“死”\\u003C\\u002Fp\\u003E\\u003Cp data-pid=\\\"kT0-5Qq1\\\"\\u003EERIKA，KAZE，SEKI，NODO，RAKU，SHI\\u003C\\u002Fp\\u003E\\u003Cp data-pid=\\\"7v0TOJ4C\\\"\\u003EIKIKAE SASERAREZ KINODOKU\\u003C\\u002Fp\\u003E\\u003Cp data-pid=\\\"2q4j1H3E\\\"\\u003E“生き返させられず、気の毒”\\u003C\\u002Fp\\u003E\\u003Cp data-pid=\\\"rfbaje8n\\\"\\u003E“不能起死回生了，真可怜”\\u003C\\u002Fp\\u003E\\u003Cp data-pid=\\\"Zp4fCSLB\\\"\\u003E真理  遗骨 烧 证明 鉴定\\u003C\\u002Fp\\u003E\\u003Cp data-pid=\\\"3w6IBIdG\\\"\\u003EMARI，IKOTSU，YAKI，SHOUMEI，KANTEI\\u003C\\u002Fp\\u003E\\u003Cp data-pid=\\\"Qw-U9noS\\\"\\u003EMIYASAKI  TSUTOMU KIREINI  HAKOE \\u003C\\u002Fp\\u003E\\u003Cp data-pid=\\\"URQl0gDV\\\"\\u003E“宮崎勤綺麗に箱え”\\u003C\\u002Fp\\u003E\\u003Cp data-pid=\\\"87_Gw8Jj\\\"\\u003E“宫崎勤漂亮地装箱”\\u003C\\u002Fp\\u003E\\u003Cp data-pid=\\\"FZdJPA0x\\\"\\u003E宫崎勤曾化名为“今田勇子”落网之后警方解开字谜发现，犯人挑衅地将自己名字都嵌入了字谜当中。\\u003C\\u002Fp\\u003E\\u003Cp data-pid=\\\"fcYdb4vG\\\"\\u003E始作俑者挑衅地将自己的名字嵌入解谜环节当中，给你一个解谜并救她们的机会，你会怎么选？\\u003C\\u002Fp\\u003E\\u003Ch2\\u003E四、什么才是真东西\\u003C\\u002Fh2\\u003E\\u003Cp data-pid=\\\"yFLkYQBT\\\"\\u003E题主的问题是Galgame制作者是不是真的需要谈过恋爱，卖给母胎单身的阿宅的东西是不是幻想就够了。\\u003C\\u002Fp\\u003E\\u003Cp data-pid=\\\"60qHJor4\\\"\\u003E不，文艺创作中的真实指的是真情实感，追求的是你经历过，我也经历过的共鸣。\\u003C\\u002Fp\\u003E\\u003Cp data-pid=\\\"0wy0MHul\\\"\\u003E我会告诉你：黄金时代的galgame就是为祭奠失落十年而摆设的灵堂。\\u003C\\u002Fp\\u003E\\u003Cfigure data-size=\\\"normal\\\"\\u003E\\u003Cimg src=\\\"https:\\u002F\\u002Fpica.zhimg.com\\u002F50\\u002Fv2-f0734816a9dd78d878bc89d07575634d_720w.jpg?source=1940ef5c\\\" data-caption=\\\"\\\" data-size=\\\"normal\\\" data-rawwidth=\\\"1156\\\" data-rawheight=\\\"53\\\" class=\\\"origin_image zh-lightbox-thumb\\\" width=\\\"1156\\\" data-original=\\\"https:\\u002F\\u002Fpic2.zhimg.com\\u002Fv2-f0734816a9dd78d878bc89d07575634d_r.jpg?source=1940ef5c\\\"\\u002F\\u003E\\u003C\\u002Ffigure\\u003E\\u003Cp data-pid=\\\"whKrLRAn\\\"\\u003E你要做的是真真正正去好好看看观众，看见前面那么多高分作品，想必大家可以理解galgame剧本的得分点到底是什么，什么才是高分作品的“格”。\\u003C\\u002Fp\\u003E\\u003Cp data-pid=\\\"Z_PI02rl\\\"\\u003E你要做的是安慰大家，鼓励大家，逗大家开心。\\u003C\\u002Fp\\u003E\\u003Cp data-pid=\\\"VAEZzWoR\\\"\\u003E你要做的是告诉大家在苦难行军的过程中彼此并不孤独。\\u003C\\u002Fp\\u003E\\u003Cp data-pid=\\\"QZjWZWZ_\\\"\\u003E真东西并不是放实拍的恋爱纪录片给一堆母胎单身的阿宅，而恰恰是彻彻底底的御宅族话题，尼特的情感，家里蹲的经历。\\u003C\\u002Fp\\u003E\\u003Cp data-pid=\\\"CPEgEm2k\\\"\\u003E写出你一个人待在房间里的辗转难眠\\u003C\\u002Fp\\u003E\\u003Cfigure data-size=\\\"normal\\\"\\u003E\\u003Cimg src=\\\"https:\\u002F\\u002Fpic1.zhimg.com\\u002F50\\u002Fv2-886b73ed053c1f35f515994a0bce2e3e_720w.jpg?source=1940ef5c\\\" data-caption=\\\"\\\" data-size=\\\"normal\\\" data-rawwidth=\\\"815\\\" data-rawheight=\\\"636\\\" data-default-watermark-src=\\\"https:\\u002F\\u002Fpic1.zhimg.com\\u002F50\\u002Fv2-23f573ec85d923efbcc7d04238248e51_720w.jpg?source=1940ef5c\\\" class=\\\"origin_image zh-lightbox-thumb\\\" width=\\\"815\\\" data-original=\\\"https:\\u002F\\u002Fpica.zhimg.com\\u002Fv2-886b73ed053c1f35f515994a0bce2e3e_r.jpg?source=1940ef5c\\\"\\u002F\\u003E\\u003C\\u002Ffigure\\u003E\\u003Cp data-pid=\\\"uTmqX49k\\\"\\u003E写出你顶着升学的压力玩的游戏的痴迷\\u003C\\u002Fp\\u003E\\u003Cfigure data-size=\\\"normal\\\"\\u003E\\u003Cimg src=\\\"https:\\u002F\\u002Fpica.zhimg.com\\u002F50\\u002Fv2-b87b9b5939ab00e2c6cb1726ca453400_720w.jpg?source=1940ef5c\\\" data-caption=\\\"\\\" data-size=\\\"normal\\\" data-rawwidth=\\\"821\\\" data-rawheight=\\\"644\\\" data-default-watermark-src=\\\"https:\\u002F\\u002Fpic1.zhimg.com\\u002F50\\u002Fv2-6c98296e94675c6463f7b0a42c5eb2ff_720w.jpg?source=1940ef5c\\\" class=\\\"origin_image zh-lightbox-thumb\\\" width=\\\"821\\\" data-original=\\\"https:\\u002F\\u002Fpic1.zhimg.com\\u002Fv2-b87b9b5939ab00e2c6cb1726ca453400_r.jpg?source=1940ef5c\\\"\\u002F\\u003E\\u003C\\u002Ffigure\\u003E\\u003Cp data-pid=\\\"HBsRfrXJ\\\"\\u003E写出你抱着妈妈做的饭躲在电脑前玩游戏的羞涩\\u003C\\u002Fp\\u003E\\u003Cfigure data-size=\\\"normal\\\"\\u003E\\u003Cimg src=\\\"https:\\u002F\\u002Fpic3.zhimg.com\\u002F50\\u002Fv2-f2f8d70593d2b487fbdbc61490e53045_720w.jpg?source=1940ef5c\\\" data-caption=\\\"\\\" data-size=\\\"normal\\\" data-rawwidth=\\\"1277\\\" data-rawheight=\\\"709\\\" data-default-watermark-src=\\\"https:\\u002F\\u002Fpica.zhimg.com\\u002F50\\u002Fv2-d10cdf0dcee150a9b6c9c0390b5ece1b_720w.jpg?source=1940ef5c\\\" class=\\\"origin_image zh-lightbox-thumb\\\" width=\\\"1277\\\" data-original=\\\"https:\\u002F\\u002Fpic3.zhimg.com\\u002Fv2-f2f8d70593d2b487fbdbc61490e53045_r.jpg?source=1940ef5c\\\"\\u002F\\u003E\\u003C\\u002Ffigure\\u003E\\u003Cp data-pid=\\\"OBJzPLSV\\\"\\u003E写出你出新游戏后迫不及待与同好分享的雀跃\\u003C\\u002Fp\\u003E\\u003Cfigure data-size=\\\"normal\\\"\\u003E\\u003Cimg src=\\\"https:\\u002F\\u002Fpic1.zhimg.com\\u002F50\\u002Fv2-73397390328356c3f94c19d084a61e91_720w.jpg?source=1940ef5c\\\" data-caption=\\\"\\\" data-size=\\\"normal\\\" data-rawwidth=\\\"1278\\\" data-rawheight=\\\"717\\\" data-default-watermark-src=\\\"https:\\u002F\\u002Fpic3.zhimg.com\\u002F50\\u002Fv2-1980b62bef0048afcf838a83dfed38e0_720w.jpg?source=1940ef5c\\\" class=\\\"origin_image zh-lightbox-thumb\\\" width=\\\"1278\\\" data-original=\\\"https:\\u002F\\u002Fpic3.zhimg.com\\u002Fv2-73397390328356c3f94c19d084a61e91_r.jpg?source=1940ef5c\\\"\\u002F\\u003E\\u003C\\u002Ffigure\\u003E\\u003Cp data-pid=\\\"dvV5RcTD\\\"\\u003E写出你为了游戏写影评的热情\\u003C\\u002Fp\\u003E\\u003Cfigure data-size=\\\"normal\\\"\\u003E\\u003Cimg src=\\\"https:\\u002F\\u002Fpic1.zhimg.com\\u002F50\\u002Fv2-cbac3acdb6bb6a1bc07a9da34a43a28d_720w.jpg?source=1940ef5c\\\" data-caption=\\\"\\\" data-size=\\\"normal\\\" data-rawwidth=\\\"1087\\\" data-rawheight=\\\"609\\\" data-default-watermark-src=\\\"https:\\u002F\\u002Fpic3.zhimg.com\\u002F50\\u002Fv2-d360b948b26c2d7afd794dd98f8eefbc_720w.jpg?source=1940ef5c\\\" class=\\\"origin_image zh-lightbox-thumb\\\" width=\\\"1087\\\" data-original=\\\"https:\\u002F\\u002Fpica.zhimg.com\\u002Fv2-cbac3acdb6bb6a1bc07a9da34a43a28d_r.jpg?source=1940ef5c\\\"\\u002F\\u003E\\u003C\\u002Ffigure\\u003E\\u003Cp data-pid=\\\"qmfNvwgM\\\"\\u003E写出你加入游戏公司想要做出自己梦想中游戏的跃跃欲试\\u003C\\u002Fp\\u003E\\u003Cfigure data-size=\\\"normal\\\"\\u003E\\u003Cimg src=\\\"https:\\u002F\\u002Fpic2.zhimg.com\\u002F50\\u002Fv2-0a3269aa47890fb747c8c11e465d0c8b_720w.jpg?source=1940ef5c\\\" data-caption=\\\"\\\" data-size=\\\"normal\\\" data-rawwidth=\\\"821\\\" data-rawheight=\\\"638\\\" data-default-watermark-src=\\\"https:\\u002F\\u002Fpic1.zhimg.com\\u002F50\\u002Fv2-d62beb162d9b0fa31046350d3f9cc9bc_720w.jpg?source=1940ef5c\\\" class=\\\"origin_image zh-lightbox-thumb\\\" width=\\\"821\\\" data-original=\\\"https:\\u002F\\u002Fpic2.zhimg.com\\u002Fv2-0a3269aa47890fb747c8c11e465d0c8b_r.jpg?source=1940ef5c\\\"\\u002F\\u003E\\u003C\\u002Ffigure\\u003E\\u003Cp data-pid=\\\"f6yBFtyd\\\"\\u003E什么东京都健全条例什么漫画有害论什么有害图书规制法案，这些在玩游戏时在耳边BB什么道德三观之类鬼东西的，你要为了你的读者狠狠踢他们屁股。\\u003C\\u002Fp\\u003E\\u003Cfigure data-size=\\\"normal\\\"\\u003E\\u003Cimg src=\\\"https:\\u002F\\u002Fpica.zhimg.com\\u002F50\\u002Fv2-cec582d9cd0944005b8f0b73fd9ee013_720w.jpg?source=1940ef5c\\\" data-caption=\\\"\\\" data-size=\\\"normal\\\" data-rawwidth=\\\"815\\\" data-rawheight=\\\"322\\\" data-default-watermark-src=\\\"https:\\u002F\\u002Fpic1.zhimg.com\\u002F50\\u002Fv2-8909584d1765d1f52150d7ddccda8349_720w.jpg?source=1940ef5c\\\" class=\\\"origin_image zh-lightbox-thumb\\\" width=\\\"815\\\" data-original=\\\"https:\\u002F\\u002Fpica.zhimg.com\\u002Fv2-cec582d9cd0944005b8f0b73fd9ee013_r.jpg?source=1940ef5c\\\"\\u002F\\u003E\\u003C\\u002Ffigure\\u003E\\u003Cp data-pid=\\\"KF30RsjV\\\"\\u003E给我把你对游戏的爱写出来啊！浑蛋\\u003C\\u002Fp\\u003E\\u003Cfigure data-size=\\\"normal\\\"\\u003E\\u003Cimg src=\\\"https:\\u002F\\u002Fpica.zhimg.com\\u002F50\\u002Fv2-dc7f6490d1d8030bb57f21181a9a7baa_720w.jpg?source=1940ef5c\\\" data-caption=\\\"\\\" data-size=\\\"normal\\\" data-rawwidth=\\\"864\\\" data-rawheight=\\\"1981\\\" data-default-watermark-src=\\\"https:\\u002F\\u002Fpic1.zhimg.com\\u002F50\\u002Fv2-b95480f4ebab0e3fd3c4293b20a56dd2_720w.jpg?source=1940ef5c\\\" class=\\\"origin_image zh-lightbox-thumb\\\" width=\\\"864\\\" data-original=\\\"https:\\u002F\\u002Fpic2.zhimg.com\\u002Fv2-dc7f6490d1d8030bb57f21181a9a7baa_r.jpg?source=1940ef5c\\\"\\u002F\\u003E\\u003C\\u002Ffigure\\u003E\\u003Cp\\u003E\\u003C\\u002Fp\\u003E\",\"mark_infos\":[],\"relationship\":{\"is_thanked\":false,\"is_nothelp\":false,\"voting\":0,\"upvoted_followee_ids\":[]},\"is_labeled\":true,\"visited_count\":17302,\"thumbnails\":[\"https:\\u002F\\u002Fpic1.zhimg.com\\u002F50\\u002Fv2-37bad39c6306e53d4a7dc7880622749c_hd.jpg\",\"https:\\u002F\\u002Fpic2.zhimg.com\\u002F50\\u002Fv2-5d4f0d2ae39e01b22442689f8d751f38_hd.jpg\",\"https:\\u002F\\u002Fpic1.zhimg.com\\u002F50\\u002Fv2-fb90a2a515e3074643fb309775488ac2_hd.jpg\",\"https:\\u002F\\u002Fpic4.zhimg.com\\u002F50\\u002Fv2-d072bab8183a676b69990ab01914c7fa_hd.jpg\",\"https:\\u002F\\u002Fpic1.zhimg.com\\u002F50\\u002Fv2-b45613983d71813231b5e194f837d24a_hd.jpg\",\"https:\\u002F\\u002Fpic2.zhimg.com\\u002F50\\u002Fv2-98c2a29c46d21edcef92bd79f8e5c6ea_hd.jpg\",\"https:\\u002F\\u002Fpic1.zhimg.com\\u002F50\\u002Fv2-61f2a17897cc1f10a1b713b196564b21_hd.jpg\",\"https:\\u002F\\u002Fpic4.zhimg.com\\u002F50\\u002Fv2-8451fc5a2d93d8ccd06f691510b9e5a3_hd.jpg\",\"https:\\u002F\\u002Fpic3.zhimg.com\\u002F50\\u002Fv2-c0a61f032d6c2e7744c84ef30ecf95bd_hd.jpg\",\"https:\\u002F\\u002Fpic3.zhimg.com\\u002F50\\u002Fv2-b0ea8a50565ee2167d2ac1e495816ed0_hd.jpg\",\"https:\\u002F\\u002Fpic2.zhimg.com\\u002F50\\u002Fv2-bc520901aec251c33dd1681ec3fad03b_hd.jpg\",\"https:\\u002F\\u002Fpic4.zhimg.com\\u002F50\\u002Fv2-9f32f3a4a4adb12464bef5b8b479e537_hd.jpg\",\"https:\\u002F\\u002Fpic3.zhimg.com\\u002F50\\u002Fv2-3b6fc022fa6d44972d9905f56dd61564_hd.jpg\",\"https:\\u002F\\u002Fpic1.zhimg.com\\u002F50\\u002Fv2-17a799c6e51288c389e786a5f03faaf6_hd.jpg\",\"https:\\u002F\\u002Fpic1.zhimg.com\\u002F50\\u002Fv2-ddb0d47c33937943db43efaac09d4ed1_hd.jpg\",\"https:\\u002F\\u002Fpic4.zhimg.com\\u002F50\\u002Fv2-6f722f346fd0ebbbd30031f605fbbcd1_hd.jpg\",\"https:\\u002F\\u002Fpic3.zhimg.com\\u002F50\\u002Fv2-8404c2f37bb8080e7dcc04e68360fc8b_hd.jpg\",\"https:\\u002F\\u002Fpic4.zhimg.com\\u002F50\\u002Fv2-fb62c0d449e9d250b6ec5d93503da4f5_hd.jpg\",\"https:\\u002F\\u002Fpic4.zhimg.com\\u002F50\\u002Fv2-31de8bba085924b3a10317f98123b0c0_hd.jpg\",\"https:\\u002F\\u002Fpic4.zhimg.com\\u002F50\\u002Fv2-5df45475bb3bfb7ca3d2cadeed08643e_hd.jpg\",\"https:\\u002F\\u002Fpic2.zhimg.com\\u002F50\\u002Fv2-44e137a0a71aa403044c674b1f7e846e_hd.jpg\",\"https:\\u002F\\u002Fpic4.zhimg.com\\u002F50\\u002Fv2-e0e8926a195825f3c2fe023ca9ce5213_hd.jpg\",\"https:\\u002F\\u002Fpic1.zhimg.com\\u002F50\\u002Fv2-35f3a1310038d8a73a69263638563066_hd.jpg\",\"https:\\u002F\\u002Fpic3.zhimg.com\\u002F50\\u002Fv2-67cebba935e04d8b5d5fcb1ebb07af46_hd.jpg\",\"https:\\u002F\\u002Fpic4.zhimg.com\\u002F50\\u002Fv2-59b6bd3b6e72ee2b5cc681d1c24818bd_hd.jpg\",\"https:\\u002F\\u002Fpic2.zhimg.com\\u002F50\\u002Fv2-729a203f98dd2bd53bb3aa2dba64aabf_hd.jpg\",\"https:\\u002F\\u002Fpic4.zhimg.com\\u002F50\\u002Fv2-082b4cf05586d615dc9661c24b574648_hd.jpg\",\"https:\\u002F\\u002Fpic3.zhimg.com\\u002F50\\u002Fv2-92d0ba4294e758f31901e2dd3241f522_hd.jpg\",\"https:\\u002F\\u002Fpic1.zhimg.com\\u002F50\\u002Fv2-bdc9df23aa26c34d73963c41a7a29260_hd.jpg\",\"https:\\u002F\\u002Fpic1.zhimg.com\\u002F50\\u002Fv2-1213442b6671ec7bb88aaf4e6c1eede9_hd.jpg\",\"https:\\u002F\\u002Fpic3.zhimg.com\\u002F50\\u002Fv2-630f1b0525ae15a70734b39052a425ba_hd.jpg\",\"https:\\u002F\\u002Fpic4.zhimg.com\\u002F50\\u002Fv2-11a3b86bb89ab598287325d9ee584465_hd.jpg\"],\"creation_relationship\":{},\"favorite_count\":271},\"brief\":\"{\\\"source\\\": \\\"TS\\\", \\\"type\\\": \\\"answer\\\", \\\"id\\\": 2475689884}\",\"uninterest_reasons\":[{\"reason_id\":3,\"reason_type\":\"topic\",\"object_token\":\"19553361\",\"object_type\":\"topic\",\"reason_text\":\"游戏开发\"},{\"reason_id\":3,\"reason_type\":\"topic\",\"object_token\":\"19614798\",\"object_type\":\"topic\",\"reason_text\":\"Galgame\"},{\"reason_id\":3,\"reason_type\":\"topic\",\"object_token\":\"20041214\",\"object_type\":\"topic\",\"reason_text\":\"视觉小说\"},{\"reason_id\":2,\"reason_type\":\"creator\",\"object_token\":\"bfc852ff2bd064fe87bcb32f066909cf\",\"object_type\":\"people\",\"reason_text\":\"魔力懒猫创作的内容\"}],\"attached_info\":\"Cp4DCP37l5bptK2NuAEQBBoJNDgwMjA5MjY0IK+L3ZMGKPoBMBdAA0oMCgNIb3QSATEYACAAWgg0OTY0MjcyM2IgMjI3OGI2Y2ZhNDQ4NmJmODNjZGFlMGRjOTJkODUyZGRyCjI0NzU2ODk4ODSKAQkzOTMxMzg1NTaqAQlyZWNvbW1lbmTyAQUICxIBMfIBCggMEgZOb3JtYWzyASgIChIkMTA3MjNkZDYtZWE4Yi00Y2I0LWEwNzgtYjAwOGQ2YTc2MTg4iAKW0KvvijCSAiBiZmM4NTJmZjJiZDA2NGZlODdiY2IzMmYwNjY5MDljZpoCAMoCFEZpcnN0QnJ1c2hXZWlnaHRSdWxlygIaSGlnaExldmVsQ3JlYXRvcldlaWdodFJ1bGXKAg5DdXJyZW5jeVJhbmtlctoCA0hvdOgCA\\u002FoCC05PUk1BTF9GTE9XigMgODM0MWIzMGUwMjA3NDRiNzgzNjgyZDFiZDc2MTkxMjGaAwYKAnYyEACoA5aHAcIDANIDFzI1MCDotZ7lkIwgwrcgNTgg5pS26JeP2AMAkgIlCgk0ODAyMDkyNjQSCjI0NzU2ODk4ODQYBCIKSU1BR0VfVEVYVA==\",\"actors\":[{\"id\":\"19550228\",\"type\":\"topic\",\"url\":\"https:\\u002F\\u002Fwww.zhihu.com\\u002Ftopic\\u002F19550228\\u002Fhot\",\"avatar_url\":\"https:\\u002F\\u002Fpic4.zhimg.com\\u002F50\\u002Fe82bab09c_s.jpg\",\"name\":\"随便看看\",\"excerpt\":\"\",\"introduction\":\"\"}],\"show_actor_time\":false,\"action_text\":\"随便看看\",\"action_text_tpl\":\"热门内容, 来自: {}\",\"action_card\":false},{\"id\":\"4_1652185294.838\",\"type\":\"feed\",\"offset\":4,\"verb\":\"COMMON_CARD\",\"created_time\":1652185294,\"updated_time\":1652185294,\"target\":{\"id\":\"1506849373417422848\",\"type\":\"zvideo\",\"title\":\"Neural Implicit Flow - 基于数据面向复杂网格的流体力学降维\",\"description\":\"从1965年Lumley开始，降低流体力学的维度，就是一个非常重要的课题了。为什么呢？因为降低维度之后，人们才能将许多“低维”系统领域研究者们的数十年来的贡献，搬到流体力学领域来使用。例如控制领域的东西拿过来修改下就实现流动控制。不仅如此，从纯粹建模角度说，降维能够帮助我们更有效率的建模、采样。这已经是不少领域的共识。 本工作将流体力学的降维方向推进到下一个层面，即处理前所未有的三维多尺度复杂网格的数据。…\",\"member_id\":5963770,\"vote_count\":10,\"comment_count\":1,\"author\":{\"id\":\"38f7d40c20b9c6e6b2ddacb68cfd10e6\",\"type\":\"people\",\"url\":\"https:\\u002F\\u002Fapi.zhihu.com\\u002Fpeople\\u002F38f7d40c20b9c6e6b2ddacb68cfd10e6\",\"user_type\":\"people\",\"url_token\":\"niu-bi-li-si-shan\",\"name\":\"牛比利斯山\",\"headline\":\"努力推动面向航空航天的机器学习和计算科学\",\"avatar_url\":\"https:\\u002F\\u002Fpic2.zhimg.com\\u002F50\\u002Fv2-d8d75c1b28701f197872cb8b0ea540b6_m.jpg\",\"is_org\":false,\"gender\":1,\"badge\":[],\"followers_count\":1016,\"is_following\":false,\"is_followed\":false},\"thumbnail_extra_info\":{\"video_id\":\"1506828061157232640\",\"type\":\"video\",\"url\":\"https:\\u002F\\u002Fpic1.zhimg.com\\u002Fv2-31a199845c7308ccef43b69927a19e97.jpg?source=382ee89a\",\"height\":720,\"width\":1280,\"duration\":1238,\"playlist\":{\"ld\":{\"url\":\"https:\\u002F\\u002Fvdn3.vzuu.com\\u002FSD\\u002Faccad65e-ceff-11ec-8fc0-d24001230522-v4_t10000011-wfjBq2tKNW.mp4?disable_local_cache=1&bu=b9ce98d5&c=avc.4.0&f=mp4&expiration=1652188894&auth_key=1652188894-0-0-4fef6daccf7be62a53d532fb2453dedc&v=tx&pu=da4bec50\",\"bitrate\":247,\"duration\":1238,\"format\":\"mp4\",\"fps\":24,\"height\":476,\"size\":38256203,\"width\":848},\"sd\":{\"url\":\"https:\\u002F\\u002Fvdn3.vzuu.com\\u002FSD\\u002Faccad65e-ceff-11ec-8fc0-d24001230522-v4_t10000011-wfjBq2tKNW.mp4?disable_local_cache=1&bu=b9ce98d5&c=avc.4.0&f=mp4&expiration=1652188894&auth_key=1652188894-0-0-4fef6daccf7be62a53d532fb2453dedc&v=tx&pu=da4bec50\",\"bitrate\":247,\"duration\":1238,\"format\":\"mp4\",\"fps\":24,\"height\":476,\"size\":38256203,\"width\":848},\"hd\":{\"url\":\"https:\\u002F\\u002Fvdn3.vzuu.com\\u002FHD\\u002Faccad65e-ceff-11ec-8fc0-d24001230522-v4_t10000011-wfjBq2tKNW.mp4?disable_local_cache=1&bu=b9ce98d5&c=avc.4.0&f=mp4&expiration=1652188894&auth_key=1652188894-0-0-7c79ff01b28067e35c25bedd91b513a2&v=tx&pu=da4bec50\",\"bitrate\":356,\"duration\":1238,\"format\":\"mp4\",\"fps\":24,\"height\":720,\"size\":55187556,\"width\":1280}},\"show_maker_entrance\":false},\"play_count\":4370,\"excerpt\":\"从1965年Lumley开始，降低流体力学的维度，就是一个非常重要的课题了。为什么呢？因为降低维度之后，人们才能将许多“低维”系统领域研究者们的数十年来的贡献，搬到流体力学领域来使用。例如控制领域的东西拿过来修改下就实现流动控制。不仅如此，从纯粹建模角度说，降维能够帮助我们更有效率的建模、采样。这已经是不少领域的共识。 本工作将流体力学的降维方向推进到下一个层面，即处理前所未有的三维多尺度复杂网格的数据。…\",\"creation_relationship\":{\"render_json\":\"{}\"}},\"brief\":\"{\\\"source\\\": \\\"TS\\\", \\\"type\\\": \\\"zvideo\\\", \\\"id\\\": 1506849373417422848}\",\"uninterest_reasons\":[{\"reason_id\":3,\"reason_type\":\"topic\",\"object_token\":\"19559450\",\"object_type\":\"topic\",\"reason_text\":\"机器学习\"},{\"reason_id\":3,\"reason_type\":\"topic\",\"object_token\":\"19572388\",\"object_type\":\"topic\",\"reason_text\":\"计算流体力学（CFD）\"},{\"reason_id\":3,\"reason_type\":\"topic\",\"object_token\":\"19559455\",\"object_type\":\"topic\",\"reason_text\":\"空气动力学\"},{\"reason_id\":3,\"reason_type\":\"topic\",\"object_token\":\"19613730\",\"object_type\":\"topic\",\"reason_text\":\"计算机图形学\"},{\"reason_id\":2,\"reason_type\":\"creator\",\"object_token\":\"38f7d40c20b9c6e6b2ddacb68cfd10e6\",\"object_type\":\"people\",\"reason_text\":\"牛比利斯山创作的内容\"}],\"attached_info\":\"CrMFCP37l5bptK2NuAEQYxoTMTUwNjg0OTM3MzQxNzQyMjg0OCCErOGTBigKMAFABEovCiZUU19TT1VSQ0VfWlZJREVPX0ZFRURfVFdPX1RPV0VSX1JFQ0FMTBIBMBgAIABiIDIyNzhiNmNmYTQ0ODZiZjgzY2RhZTBkYzkyZDg1MmRkaICg+Na1hNX0FHITMTUwNjg0OTM3MzQxNzQyMjg0OIIBTmh0dHBzOi8vcGljMS56aGltZy5jb20vdjItMzFhMTk5ODQ1YzczMDhjY2VmNDNiNjk5MjdhMTllOTcuanBnP3NvdXJjZT0zODJlZTg5YaoBCXJlY29tbWVuZPIBBQgLEgEx8gEKCAwSBk5vcm1hbPIBKAgKEiQ2NTA4NmU1Zi0yYjI1LTRlMTUtOTY2Yy0xMmQ3YWFkMTA1OTGIApbQq++KMJICIDM4ZjdkNDBjMjBiOWM2ZTZiMmRkYWNiNjhjZmQxMGU2mgIAygIURmlyc3RCcnVzaFdlaWdodFJ1bGXKAhVSZWJhY2tWaWRlb1dlaWdodFJ1bGXKAhdadmlkZW9FeHBhbmRXV2VpZ2h0UnVsZcoCG1ZpZGVvTmV0d29ya1NjZW5lV2VpZ2h0UnVsZcoCHlp2aWRlb1VzZXJQZXJmZXJlbmNlV2VpZ2h0UnVsZcoCG1p2aWRlb0JpbGlQcm9tb3RlV2VpZ2h0UnVsZcoCDkN1cnJlbmN5UmFua2Vy2gImVFNfU09VUkNFX1pWSURFT19GRUVEX1RXT19UT1dFUl9SRUNBTEzgAgDoAgP6AgtOT1JNQUxfRkxPV4oDIDgzNDFiMzBlMDIwNzQ0Yjc4MzY4MmQxYmQ3NjE5MTIxmgMGCgJ2MhAAsAOSIrgDAMIDANIDGDQzNzAg5pKt5pS+IMK3IDEwIOi1nuWQjNgDAJICMwoTMTUwNjg0OTM3MzQxNzQyMjg0OBITMTUwNjg0OTM3MzQxNzQyMjg0OBhjIgVWSURFTw==\",\"actors\":[{\"id\":\"19550228\",\"type\":\"topic\",\"url\":\"https:\\u002F\\u002Fwww.zhihu.com\\u002Ftopic\\u002F19550228\\u002Fhot\",\"avatar_url\":\"https:\\u002F\\u002Fpic4.zhimg.com\\u002F50\\u002Fe82bab09c_s.jpg\",\"name\":\"随便看看\",\"excerpt\":\"\",\"introduction\":\"\"}],\"show_actor_time\":false,\"action_text\":\"随便看看\",\"action_text_tpl\":\"热门内容, 来自: {}\",\"action_card\":false},{\"id\":\"5_1652185294.952\",\"type\":\"feed\",\"offset\":5,\"verb\":\"TOPIC_ACKNOWLEDGED_ANSWER\",\"created_time\":1652185294,\"updated_time\":1652185294,\"target\":{\"id\":2342221210,\"type\":\"answer\",\"url\":\"https:\\u002F\\u002Fapi.zhihu.com\\u002Fanswers\\u002F2342221210\",\"author\":{\"id\":\"0eec1b73a18f6abee0c29aaadc5b7527\",\"type\":\"people\",\"url\":\"https:\\u002F\\u002Fapi.zhihu.com\\u002Fpeople\\u002F0eec1b73a18f6abee0c29aaadc5b7527\",\"user_type\":\"people\",\"url_token\":\"toolber\",\"name\":\"法海\",\"headline\":\"杠就是你赢，杠就是你对。\",\"avatar_url\":\"https:\\u002F\\u002Fpic4.zhimg.com\\u002F50\\u002F21aa37d775b5fe3d8698ff4712dfd1f7_m.jpg\",\"is_org\":false,\"gender\":0,\"badge\":[],\"followers_count\":7905,\"is_following\":false,\"is_followed\":false},\"created_time\":1644478568,\"updated_time\":1644479257,\"voteup_count\":1963,\"thanks_count\":285,\"comment_count\":134,\"is_copyable\":true,\"question\":{\"id\":508098161,\"type\":\"question\",\"url\":\"https:\\u002F\\u002Fapi.zhihu.com\\u002Fquestions\\u002F508098161\",\"author\":{\"id\":\"49ff7c69b5e970595bb2359614df8a5f\",\"type\":\"people\",\"url\":\"https:\\u002F\\u002Fapi.zhihu.com\\u002Fpeople\\u002F49ff7c69b5e970595bb2359614df8a5f\",\"user_type\":\"people\",\"url_token\":\"jiu-ren-bu-fu-84-34\",\"name\":\"旧人不覆\",\"headline\":\"学生\",\"avatar_url\":\"https:\\u002F\\u002Fpic1.zhimg.com\\u002F50\\u002Fv2-a81fe49ccd25ac7422cea95eab700482_m.jpg\",\"is_org\":false,\"gender\":0,\"badge\":[],\"followers_count\":2,\"is_following\":false,\"is_followed\":false},\"title\":\"现实中的武器怎么附魔？\",\"created\":1640325828,\"answer_count\":184,\"follower_count\":481,\"comment_count\":7,\"bound_topic_ids\":[1234,4810,16053,44909,210577],\"is_following\":false,\"excerpt\":\"\",\"relationship\":{\"is_author\":false},\"detail\":\"\",\"question_type\":\"normal\"},\"excerpt\":\"一看这提问，题主肯定没在农村生活过，和村里人打过架。作为一个曾经的村里人，我给大家科普下村里 泼妇们打架用的附魔武器;1.长柄武器“恶魔之舌”简介： 将拖把在旱厕里浸一下，可以获得附魔效果“群体驱散光环”+“击退效果”+“远程攻击距离+5”，群体敌人见此武器100%驱散，单体敌人被攻击100%后退，用力甩击能产生溅射远程攻击效果；类似武器在田间地头，是插过农家肥桶里的扁担还有长柄粪勺。 2.远程武器“世仇之泪”简介…\",\"excerpt_new\":\"一看这提问，题主肯定没在农村生活过，和村里人打过架。作为一个曾经的村里人，我给大家科普下村里 泼妇们打架用的附魔武器;1.长柄武器“恶魔之舌”简介： 将拖把在旱厕里浸一下，可以获得附魔效果“群体驱散光环”+“击退效果”+“远程攻击距离+5”，群体敌人见此武器100%驱散，单体敌人被攻击100%后退，用力甩击能产生溅射远程攻击效果；类似武器在田间地头，是插过农家肥桶里的扁担还有长柄粪勺。 2.远程武器“世仇之泪”简介…\",\"preview_type\":\"default\",\"preview_text\":\"\",\"reshipment_settings\":\"allowed\",\"content\":\"\\u003Cp data-pid=\\\"IFEB6rvf\\\"\\u003E一看这提问，题主肯定没在农村生活过，和村里人打过架。作为一个曾经的村里人，我给大家科普下村里\\u003Cb\\u003E泼妇们打架用的附魔武器;\\u003C\\u002Fb\\u003E\\u003C\\u002Fp\\u003E\\u003Cp data-pid=\\\"XRnbfN43\\\"\\u003E1.长柄武器“恶魔之舌”简介：\\u003C\\u002Fp\\u003E\\u003Cp data-pid=\\\"OvHTvOda\\\"\\u003E将拖把在旱厕里浸一下，可以获得附魔效果“群体驱散光环”+“击退效果”+“远程攻击距离+5”，群体敌人见此武器100%驱散，单体敌人被攻击100%后退，用力甩击能产生溅射远程攻击效果；类似武器在田间地头，是插过农家肥桶里的扁担还有长柄粪勺。\\u003C\\u002Fp\\u003E\\u003Cp data-pid=\\\"6tcWRXyr\\\"\\u003E2.远程武器“世仇之泪”简介：\\u003C\\u002Fp\\u003E\\u003Cp data-pid=\\\"oHLgjnw7\\\"\\u003E仇恨吸引+群嘲类附魔武器，一般在他人嫁娶喜事路上，撒纸钱or冥钞，就能牢牢拉住怪物仇恨，持续时间通常是终身有效。此时纸钱or冥钞自带群嘲效果；类似武器还包含在他人至亲葬礼上，挂喜字旗，放鞭炮等；\\u003C\\u002Fp\\u003E\\u003Cp data-pid=\\\"EtPuhmLW\\\"\\u003E3.女性角色专属附魔武器“月神之血”，简介：\\u003C\\u002Fp\\u003E\\u003Cp data-pid=\\\"bedcyp_5\\\"\\u003E在早年农村斗殴，女性拉开裤裆掏出月经带or卫生巾参与斗殴，使用过的上述物体，均已附魔“雄性驱离光环”+“沉默（击中后打击雄性攻击信心）”+“打断技能（雄性手忙脚乱）”，同时含有“女性攻击力上升（双方）”+“敌方女性仇恨加倍”的负面效果；\\u003C\\u002Fp\\u003E\\u003Cp data-pid=\\\"OmolqqdB\\\"\\u003E4.女性角色专属附魔武器“贱妇的代价”，简介：\\u003C\\u002Fp\\u003E\\u003Cp data-pid=\\\"O7jgzeKS\\\"\\u003E擀面杖一根+使用过的避孕套一个（最好含有体液），将TT套在擀面杖上（正反面均可）。该武器为正室打小三，老婆打造谣自己老公不行的村妇等用途，伴随使用咒语“我家的老*怎么会招惹你这种骚婊？”“他见了老娘就跟这个棒槌一样硬，你个骚婊整天关心他，老娘今儿个就给你尝尝新鲜的！”，对目标攻击极强，如储精囊在目标上炸裂将产生暴击效果——在N个周期内，该目标会被全村标记为，“吃过那玩意儿的人”，村内地位下降。同时使用者气势+9，短期内对所有目标产生震慑效果。\\u003C\\u002Fp\\u003E\\u003Cp data-pid=\\\"hKrSDGg_\\\"\\u003E\\u003Cb\\u003E近些年新产的附魔：\\u003C\\u002Fb\\u003E\\u003C\\u002Fp\\u003E\\u003Cp data-pid=\\\"kWkdabqF\\\"\\u003E1.对敌宠物专属附魔武器“混乱的爱”，简介：\\u003C\\u002Fp\\u003E\\u003Cp data-pid=\\\"wqq8fGhW\\\"\\u003E牲口催情粉，使用该粉末对牲口舔盐块附魔或与盐粉混合后产生附魔效果——“敌方宠物理智下降，攻击判定混乱”+“下崽周期混乱”（这对养殖户来说挺烦的），通常是对付乱吃自家苗的牛羊，直接撒放在村道或者怪物巢穴附近\\u003C\\u002Fp\\u003E\\u003Cp data-pid=\\\"bSLb9VaJ\\\"\\u003E2.近战武器“马爸爸的闪光”，简介：\\u003C\\u002Fp\\u003E\\u003Cp data-pid=\\\"aohw5jyF\\\"\\u003E淘宝有售的赶猪棒子——自带“雷电攻击+99”的附魔棒子，商店有售，玩家自行购买即可；\\u003C\\u002Fp\\u003E\\u003Cp data-pid=\\\"aziav31i\\\"\\u003E3.攻城武器+大规模AOE附魔武器“村委之哀伤”，简介：\\u003C\\u002Fp\\u003E\\u003Cp data-pid=\\\"U_d0cppz\\\"\\u003E吸粪车1辆+旱厕若干，构成魔法武器“村委之哀伤”。作者仅见于村委欺负老实人，特别是已经跟子女住城里的老实人，占人地，占人房，占人年终分红多年或绿帽多年。该武器为攻城武器，主要用于对村委会、村支书、村会计家建筑进行攻击。攻击完成后，被攻击建筑物主人家持续精神不振时间1个月，全村轻度精神不振1个月。若气温高于30度，首次攻击暴击率上升为100%；若气温低于零下20度，建筑主人精神不振时间将长达半年。\\u003C\\u002Fp\\u003E\\u003Cp\\u003E\\u003C\\u002Fp\\u003E\",\"mark_infos\":[],\"relationship\":{\"is_thanked\":false,\"is_nothelp\":false,\"voting\":0,\"upvoted_followee_ids\":[]},\"is_labeled\":false,\"visited_count\":124726,\"creation_relationship\":{},\"favorite_count\":958},\"brief\":\"{\\\"source\\\": \\\"TS\\\", \\\"type\\\": \\\"answer\\\", \\\"id\\\": 2342221210}\",\"uninterest_reasons\":[{\"reason_id\":3,\"reason_type\":\"topic\",\"object_token\":\"19564645\",\"object_type\":\"topic\",\"reason_text\":\"武器\"},{\"reason_id\":3,\"reason_type\":\"topic\",\"object_token\":\"20172955\",\"object_type\":\"topic\",\"reason_text\":\"《我的世界》中国版\"},{\"reason_id\":3,\"reason_type\":\"topic\",\"object_token\":\"19598367\",\"object_type\":\"topic\",\"reason_text\":\"Minecraft（游戏《我的世界》）\"},{\"reason_id\":3,\"reason_type\":\"topic\",\"object_token\":\"19684571\",\"object_type\":\"topic\",\"reason_text\":\"医学常识\"},{\"reason_id\":2,\"reason_type\":\"creator\",\"object_token\":\"0eec1b73a18f6abee0c29aaadc5b7527\",\"object_type\":\"people\",\"reason_text\":\"法海创作的内容\"}],\"attached_info\":\"CoQDCP37l5bptK2NuAEQBBoJNDU1OTQwOTE3IOiAk5AGKKsPMIYBQAVKDAoDSG90EgExGAAgAFoINzUxOTIyMzBiIDIyNzhiNmNmYTQ0ODZiZjgzY2RhZTBkYzkyZDg1MmRkcgoyMzQyMjIxMjEwigEJNTA4MDk4MTYxqgEJcmVjb21tZW5k8gEFCAsSATHyAQoIDBIGTm9ybWFs8gEoCAoSJGFkOTk1ZmNmLTJhZWQtNDQ2Ny1hODhjLWU1YjJmOTg1NmNhMYgCltCr74owkgIgMGVlYzFiNzNhMThmNmFiZWUwYzI5YWFhZGM1Yjc1MjeaAgDKAhRGaXJzdEJydXNoV2VpZ2h0UnVsZcoCDkN1cnJlbmN5UmFua2Vy2gIDSG906AID+gILTk9STUFMX0ZMT1eKAyA4MzQxYjMwZTAyMDc0NGI3ODM2ODJkMWJkNzYxOTEyMZoDBgoCdjIQAKgDts4HwgMA0gMZMTk2MyDotZ7lkIwgwrcgMjg1IOaUtuiXj9gDAJICJQoJNDU1OTQwOTE3EgoyMzQyMjIxMjEwGAQiCklNQUdFX1RFWFQ=\",\"actors\":[{\"id\":\"19550228\",\"type\":\"topic\",\"url\":\"https:\\u002F\\u002Fwww.zhihu.com\\u002Ftopic\\u002F19550228\\u002Fhot\",\"avatar_url\":\"https:\\u002F\\u002Fpic4.zhimg.com\\u002F50\\u002Fe82bab09c_s.jpg\",\"name\":\"随便看看\",\"excerpt\":\"\",\"introduction\":\"\"}],\"show_actor_time\":false,\"action_text\":\"随便看看\",\"action_text_tpl\":\"热门内容, 来自: {}\",\"action_card\":false}],\"paging\":{\"previous\":\"https:\\u002F\\u002Fwww.zhihu.com\\u002Fapi\\u002Fv3\\u002Ffeed\\u002Ftopstory\\u002Frecommend?session_token=2278b6cfa4486bf83cdae0dc92d852dd&desktop=true&page_number=2&limit=6&action=pull&ad_interval=-10&before_id=5\",\"next\":\"https:\\u002F\\u002Fwww.zhihu.com\\u002Fapi\\u002Fv3\\u002Ffeed\\u002Ftopstory\\u002Frecommend?session_token=2278b6cfa4486bf83cdae0dc92d852dd&desktop=true&page_number=2&limit=6&action=down&after_id=5&ad_interval=-10\",\"is_end\":false},\"fresh_text\":\"关注动态已更新\"}},\"follow\":{\"isFetching\":false,\"isDrained\":false,\"afterId\":0,\"items\":[],\"next\":null},\"room\":{\"meta\":{},\"isFetching\":false,\"afterId\":0,\"items\":[],\"next\":null},\"followWonderful\":{\"isFetching\":false,\"isDrained\":false,\"afterId\":0,\"items\":[],\"next\":null},\"sidebar\":null,\"announcement\":{},\"hotList\":[],\"guestFeeds\":{\"isFetching\":false,\"isDrained\":false,\"afterId\":0,\"items\":[],\"next\":null},\"followExtra\":{\"isNewUser\":null,\"isFetched\":false,\"followCount\":0,\"followers\":[]},\"hotDaily\":{\"data\":[],\"paging\":{}},\"hotHighlight\":{\"isFetching\":false,\"isDrained\":false,\"data\":[],\"paging\":{}},\"banner\":{},\"commercialBanner\":{\"show\":false,\"banner\":{},\"trackData\":{}},\"video\":{\"items\":[],\"next\":null,\"isLoading\":false,\"isDrained\":false}},\"upload\":{},\"video\":{\"data\":{},\"shareVideoDetail\":{},\"last\":{}},\"zvideos\":{\"campaignVideoList\":{},\"campaigns\":{},\"tagoreCategory\":[],\"recommendations\":{},\"insertable\":{},\"recruit\":{\"form\":{\"platform\":\"\",\"nickname\":\"\",\"followerCount\":\"\",\"domain\":\"\",\"contact\":\"\"},\"submited\":false,\"ranking\":[]},\"club\":{},\"qyActivityData\":{},\"talkActivityData\":{},\"party2022ActivityData\":{},\"batchVideos\":{},\"contribution\":{\"selectedContribution\":null,\"campaign\":null,\"configs\":{},\"contributionLists\":{},\"recommendQuestions\":{\"isLoading\":true,\"paging\":{\"isEnd\":false,\"isStart\":true,\"totals\":0},\"data\":[]},\"questionSearchResults\":{\"isLoading\":true,\"paging\":{\"isEnd\":false,\"isStart\":true,\"totals\":0},\"data\":[]}},\"creationReferences\":{},\"zvideoCollection\":{},\"zvideoGrant\":{},\"collectData\":{\"isFetching\":false,\"list\":[]},\"videoSource\":{\"isLoaded\":false}},\"guide\":{\"guide\":{\"isFetching\":false,\"isShowGuide\":false}},\"reward\":{\"answer\":{},\"article\":{},\"question\":{}},\"search\":{\"recommendSearch\":[],\"topSearch\":{},\"searchValue\":{},\"suggestSearch\":{},\"attachedInfo\":{\"generalByQuery\":{}},\"nextOffset\":{\"generalByQuery\":{}},\"topicReview\":{},\"calendar\":{},\"scores\":null,\"majors\":{},\"university\":{},\"generalByQuery\":{},\"generalByQueryInADay\":{},\"generalByQueryInAWeek\":{},\"generalByQueryInThreeMonths\":{},\"peopleByQuery\":{},\"clubentityByQuery\":{},\"clubPostByQuery\":{},\"topicByQuery\":{},\"zvideoByQuery\":{},\"scholarByQuery\":{},\"columnByQuery\":{},\"liveByQuery\":{},\"albumByQuery\":{},\"eBookByQuery\":{},\"kmGeneralByQuery\":{},\"kmCourseByQuery\":{},\"customFilter\":{\"keys\":[],\"tags\":[]}},\"creatorSalt\":{\"recommendQuestionList\":[],\"bannerList\":[],\"claimBannerList\":[],\"sites\":[],\"domains\":{},\"hasRecored\":false,\"hasClaim\":false,\"hasContributedList\":[],\"notContributedList\":[],\"contributesTotal\":null,\"previewPageTitle\":\"\",\"previewPageContent\":\"\",\"restContributionNumber\":\"-\"},\"publicEditPermission\":{},\"vessay\":{\"common\":{\"draftId\":null,\"source\":{\"type\":null,\"id\":null},\"autoSave\":true,\"blockUnload\":true,\"isCalibratingEditing\":false,\"editingTrackData\":{\"editingOutlines\":[],\"editingVideos\":[]},\"newAddMaterialData\":{},\"audioCache\":{},\"showTimbreRecordPanel\":false},\"loading\":{\"isLoading\":true,\"text\":\"开始初始化\"},\"player\":{\"currentTime\":0,\"totalTime\":0,\"playing\":false,\"containerSize\":null},\"library\":{\"material\":{},\"materialSearchResult\":{},\"music\":{},\"musicLibraryCategories\":[],\"musicUrls\":{}},\"track\":{\"trackData\":{\"dataVersion\":1,\"videoTrack\":[],\"audioTrack\":[],\"musicTrack\":[],\"voiceOverData\":{}},\"extra\":{\"themeId\":null},\"previewEditingTrackData\":{\"editingSubtitleItem\":{},\"editingVideoItem\":{}},\"selectedTrackItems\":[],\"outlineRemoveMaterial\":{},\"outlineAppliedStyle\":{},\"timbres\":[],\"timbreId\":\"\",\"timbreTests\":[],\"newRecordBlob\":{},\"exportErrorUrls\":[],\"defaultTimbreId\":\"1\"}},\"readStatus\":{},\"draftHistory\":{\"history\":{},\"drafts\":{}},\"notifications\":{\"recent\":{\"isFetching\":false,\"isDrained\":false,\"isPrevDrained\":false,\"result\":[],\"next\":null,\"key\":null},\"history\":{\"isFetching\":false,\"isDrained\":false,\"isPrevDrained\":false,\"result\":[],\"next\":null,\"key\":null},\"notificationActors\":{\"isFetching\":false,\"isDrained\":false,\"isPrevDrained\":false,\"result\":[],\"next\":null,\"key\":null},\"recentNotificationEntry\":\"all\"},\"specials\":{\"entities\":{},\"all\":{\"data\":[],\"paging\":{},\"isLoading\":false}},\"collections\":{\"hot\":{\"data\":[],\"paging\":{},\"isLoading\":false},\"collectionFeeds\":{}},\"userProfit\":{\"permission\":{\"permissionStatus\":{\"zhiZixuan\":0,\"recommend\":-1,\"task\":0,\"plugin\":0,\"infinity\":0},\"visible\":false}},\"mcn\":{\"bindInfo\":{},\"memberCategoryList\":[],\"producerList\":[],\"categoryList\":[],\"lists\":{},\"banners\":{},\"protocolStatus\":{\"isAgreedNew\":true,\"isAgreedOld\":true},\"probationCountdownDays\":0},\"mcnActivity\":{\"household\":{\"products\":{},\"rankList\":{\"total\":{},\"yesterday\":{}}}},\"brand\":{\"contentPlugin\":{}},\"host\":{\"roundtable\":{\"subjects\":{},\"applications\":{\"total\":0},\"online\":{\"total\":0},\"applies\":{},\"details\":{},\"includedResource\":{},\"hotQuestions\":{},\"warmupContents\":{},\"batchInclude\":{}},\"special\":{\"applications\":{\"total\":0,\"pages\":{},\"entities\":{}},\"censorHistory\":{},\"drafts\":{}}},\"campaign\":{\"single\":{},\"list\":{},\"videoMakerAcq\":{},\"vote\":{},\"cardCollecting\":{\"message\":null,\"profile\":{\"balance\":\"0\",\"chance\":0,\"coinNum\":0,\"gatherClose\":false,\"isGotMagicCard\":false,\"isPay\":false,\"partitionStart\":false,\"totalDone\":0,\"withdrawStart\":false},\"sharePoster\":{\"share\":\"\",\"sendCard\":\"\",\"invite\":\"\"},\"shareLink\":null,\"shareIntention\":\"share\",\"shareKey\":null,\"shareCardId\":null,\"inviterInfo\":null,\"giverInfo\":null,\"prize\":null,\"receivedCard\":null,\"newCoinCount\":null,\"newCardList\":[],\"newUserCardCount\":1,\"taskList\":[],\"prizeList\":null,\"cardList\":null,\"panel\":{\"showTaskPanel\":false,\"showRewardPanel\":false},\"modal\":{\"showWelcomeModal\":false,\"showFusionModal\":false,\"showFusionPromptModal\":false,\"showShareModal\":false,\"showBackModal\":false}},\"zhiboPandian2020\":null,\"boarding\":{},\"searchGaokaoSubPage\":{},\"searchHealth\":{}},\"knowledgePlan\":{\"lists\":{},\"allCreationRankList\":{},\"featuredQuestions\":{}},\"wallE\":{\"protectHistory\":{\"total\":0,\"pages\":{},\"entities\":{}}},\"roundtables\":{\"hotQuestions\":{},\"warmupContents\":{},\"hotDiscussions\":{},\"selectedContents\":{},\"roundtables\":{}},\"helpCenter\":{\"entities\":{\"question\":{},\"category\":{}},\"categories\":[],\"commonQuestions\":[],\"relatedQuestions\":{},\"faqTypes\":[]},\"republish\":{},\"commercialReport\":{\"commercialTypes\":[]},\"creatorMCN\":{\"mcn\":{},\"mcnStatistics\":{},\"isNoAuth\":false,\"creatorManageData\":[],\"creatorManageDataTotal\":1,\"mcnDomains\":[]},\"commentManage\":{\"commentList\":{\"ids\":[],\"entities\":{},\"nextOffset\":0,\"urlToken\":\"\"},\"subCommentList\":{\"ids\":[],\"entities\":{},\"paging\":{\"next\":\"\",\"isEnd\":false}}},\"commentPermission\":{},\"creatorRightStatus\":{\"list\":[]},\"zhiPlus\":{\"permissionStatus\":9999},\"streaming\":{},\"creationRanking\":{}},\"subAppName\":\"main\"}</script><script crossorigin=\"\" src=\"https://static.zhihu.com/heifetz/vendor.af68afae9067da0868d6.js\"></script><script crossorigin=\"\" src=\"https://static.zhihu.com/heifetz/main.lib_09e9ad9b.60dbde8541d45cba2b3c.js\"></script><script crossorigin=\"\" src=\"https://static.zhihu.com/heifetz/main.app.bc92e06b61d39cc09026.js\"></script><script crossorigin=\"\" src=\"https://static.zhihu.com/heifetz/main.lib_0ad37f8a.c61c2539c2d81dad315b.js\"></script><script crossorigin=\"\" src=\"https://static.zhihu.com/heifetz/main.lib_79b5cf47.f4df84fdb314e47d54ae.js\"></script><script crossorigin=\"\" src=\"https://static.zhihu.com/heifetz/main.lib_29107295.91f5375ad684786eddaf.js\"></script><script crossorigin=\"\" src=\"https://static.zhihu.com/heifetz/main.shared_5cac3ab8a563f9bbb56eca3256b8ed78b8d955b6.d3b5e6393f3b3fcb8c40.js\"></script><script crossorigin=\"\" src=\"https://static.zhihu.com/heifetz/main.shared_ddb69a58413b8324ef696dc6cfa9d1ea4c7519cc.6da227c2acf713dfe7f1.js\"></script><script crossorigin=\"\" src=\"https://static.zhihu.com/heifetz/main.shared_92f99629e986751c8921c57c658e5e3ebe23d234.9732e2bdf7081fd0a3aa.js\"></script><script crossorigin=\"\" src=\"https://static.zhihu.com/heifetz/main.shared_1257c3c9568bb2a3f62d5ecd308c048e4bf1bfcd.b0ff4267a7ffa7d85d0d.js\"></script><script crossorigin=\"\" src=\"https://static.zhihu.com/heifetz/main.shared_f30f7459f944e851b885959dfde412e92f3a8d2e.2813fae8964adeaa5c85.js\"></script><script crossorigin=\"\" src=\"https://static.zhihu.com/heifetz/main.shared_f30f7459f944e851b885959dfde412e92f3a8d2e_CSS.d8242ad20e881e44cfc2.js\"></script><script crossorigin=\"\" src=\"https://static.zhihu.com/heifetz/main.shared_1104b8f2b63afffb41e814c682e6b97a8e41b800.7bcb5ab1128fe47c9bac.js\"></script><script crossorigin=\"\" src=\"https://static.zhihu.com/heifetz/main.shared_1679dafdec5942113b512c7479f90fe8c8cc0c34.fb3badc213371809f651.js\"></script><script crossorigin=\"\" src=\"https://static.zhihu.com/heifetz/main.topstory-routes.668bdd98be1748390c71.js\"></script><script defer=\"\" src=\"//www.zhihu.com/wza/aria.js?appid=a3637ace5dc3a347f6863b0bac487599\"></script></body><script src=\"https://hm.baidu.com/hm.js?98beee57fd2ef70ccdd5ca52b9740c49\" async=\"\"></script></html>\n"
     ]
    }
   ],
   "source": [
    "import requests\n",
    "\n",
    "cookies = '_zap=914c7061-bc67-40d8-9d2f-307d9203368a; d_c0=\"APCfpUiOjROPTny1k41UpIDGLfgRghMrJsg=|1628697163\"; _xsrf=ZFeEdqQ2pLrCK55wCH5EZVkKZkOkpXRf; __snaker__id=jxZ3erivx0VO75TL; _9755xjdesxxd_=32; YD00517437729195:WM_TID=eHSkDGk8jLlAQUFAQAJ79YQGeWeQef1b; q_c1=45705d6745e14ca2aa7e8db26508061c|1645972962000|1645972962000; captcha_session_v2=2|1:0|10:1652104512|18:captcha_session_v2|88:d2xKZUROR3pGb01nTEQrT2gvNytrR2k1Uk5MYVo2aDVlUUUzeFVESjFlazBkUEVwa3RrYlJqaS85TkJYRHFjNw==|5741ff6f88b2c3bd13c26dce6db6c59f8783a742af65e9b30c7687408d5983ba; YD00517437729195:WM_NI=lEQ/IgzDntCyopWZtBMEXuAZ/ubtjc6xPlHTP3n8QHW1s1w6bXJ4HCNdSGOjEije1A1/ffYtzuJq1d5W/BebF2jmjqtwbYuF8SBAQ9kpAQVqXwRtgB3yzRQJsLkV3uwbcFM=; YD00517437729195:WM_NIKE=9ca17ae2e6ffcda170e2e6ee8fef33b8889a8dfc6ba3b08ba2d84b969e8b87d15f9aa699a3bc3cbb8c9e97fb2af0fea7c3b92ab09b9fd0cc6dba9ca295c273adb099bbf74a8f9b9896c452edabae95e969f6a8a08dcb6094eda2d9d44495efbdd2f63ea28886d5cb498ebc9da8ce6287b7a686b44bf3f1aa87dc80baab8692b470f789e1a3e86a86eea68ee97bb8a9aebaf84efc8d8ea2d433a9b08fb2d57b9ca99e95e64af1a7b6b3d442b194a5b7b27fb5beada7d037e2a3; gdxidpyhxdE=OI7WZLerCjMqftxEXq0ZvDo/gBqyVwAEND9x1+AHhe1pe\\D6NVsPoj1VwQHW7caVfBS\\hwwBpTEMJ0cNyL9c1A4Cp4A2sYn5Xi3c+GjN5ZLTJhAxzd3rWIjZG5fVWnki//kOS2K+l2\\jDJlBY1n9U9Bmvv+raqJmKZZqTL6uTBsZ+5ZS:1652105416421; z_c0=\"2|1:0|10:1652104528|4:z_c0|92:Mi4xSkN0bEJnQUFBQUFBOEotbFNJNk5FeWNBQUFDRUFsVk5UNnFnWWdEUlZINzZqYVFuVGlhZDFadTRBWWNCd0tTdHdR|dfd4846cca7c46cc4b512ef3574051350571ae18ea20ad1815efe71ac3c45cc2\"; Hm_lvt_98beee57fd2ef70ccdd5ca52b9740c49=1651671713,1651908657,1652104513,1652183970; NOT_UNREGISTER_WAITING=1; tst=r; Hm_lpvt_98beee57fd2ef70ccdd5ca52b9740c49=1652184559; SESSIONID=SKJvMgXr1BjPmBQqrqXU1CwJqjozChEYVKEJGWF9lX9; JOID=U1AWBUkkTyfJsNa9ECPltbM3ZAUBfg9ou_647mcWBEac2ZflassUXKy61LMRBswkiVZzO4UXG_x6J3EnFjtn0WA=; osd=VFoUA0ojRSXPs9G3EiXmsrk1YgYGdA1uuPmy7GEVA0ye35TiYMkSX6uw1rUSAcYmj1V0MYcRGPtwJXckETFl12M=; KLBRSID=ed2ad9934af8a1f80db52dcb08d13344|1652184558|1652183964'\n",
    "jar = requests.cookies.RequestsCookieJar()\n",
    "headers = {\n",
    "    'Host':'www.zhihu.com',\n",
    "    'User-Agent':'Mozilla/5.0 (Windows NT 10.0; Win64; x64) AppleWebKit/537.36 (KHTML, like Gecko) Chrome/101.0.4951.54 Safari/537.36'\n",
    "}\n",
    "for cookie in cookies.split(';'):\n",
    "    key,value = cookie.split('=',1)\n",
    "    jar.set(key,value)\n",
    "r = requests.get(\"http://www.zhihu.com\",cookies=jar,headers=headers)\n",
    "print(r.text)"
   ]
  },
  {
   "cell_type": "markdown",
   "id": "c1bf48d1",
   "metadata": {},
   "source": [
    "#### 会话维持"
   ]
  },
  {
   "cell_type": "markdown",
   "id": "e67bf6c8",
   "metadata": {},
   "source": [
    "在requests中，如果直接利用get()或者post()等方法可以做到网页的请求，但这实际上是不同的会话，也就是说相当于用浏览器打开了不同的页面。"
   ]
  },
  {
   "cell_type": "markdown",
   "id": "85f7bcd2",
   "metadata": {},
   "source": [
    "解决上述打开了两个浏览器的页面问题，我们可以维持同一个会话，也就是相当于打开了一个新的浏览器选项卡而不是新开一个浏览器。这时候就有了Session对象。"
   ]
  },
  {
   "cell_type": "code",
   "execution_count": 19,
   "id": "c17ece00",
   "metadata": {},
   "outputs": [
    {
     "name": "stdout",
     "output_type": "stream",
     "text": [
      "{\n",
      "  \"cookies\": {}\n",
      "}\n",
      "\n"
     ]
    }
   ],
   "source": [
    "import requests\n",
    "\n",
    "requests.get('http://httpbin.org/cookies/set/number/123456789')\n",
    "r = requests.get('http://httpbin.org/cookies')\n",
    "print(r.text)"
   ]
  },
  {
   "cell_type": "markdown",
   "id": "e394b1c4",
   "metadata": {},
   "source": [
    "并不能获取cookies。  \n",
    "再使用Session对象"
   ]
  },
  {
   "cell_type": "code",
   "execution_count": 20,
   "id": "09916836",
   "metadata": {},
   "outputs": [
    {
     "name": "stdout",
     "output_type": "stream",
     "text": [
      "{\n",
      "  \"cookies\": {\n",
      "    \"number\": \"123456789\"\n",
      "  }\n",
      "}\n",
      "\n"
     ]
    }
   ],
   "source": [
    "import requests\n",
    "\n",
    "s = requests.Session()\n",
    "s.get('http://httpbin.org/cookies/set/number/123456789')\n",
    "r = s.get('http://httpbin.org/cookies')\n",
    "print(r.text)"
   ]
  },
  {
   "cell_type": "markdown",
   "id": "c0833ffb",
   "metadata": {},
   "source": [
    "#### SSL证书验证"
   ]
  },
  {
   "cell_type": "markdown",
   "id": "2b51d7f4",
   "metadata": {},
   "source": [
    "此外，requests还提供了证书验证的功能。当发送HTTP请求的时候，它会检查SSL证书，我们可以使用verify参数控制是否检查此证书。如果不加verify参数的话，默认是True，会自动验证。"
   ]
  },
  {
   "cell_type": "code",
   "execution_count": 24,
   "id": "0a0d09c8",
   "metadata": {},
   "outputs": [
    {
     "name": "stdout",
     "output_type": "stream",
     "text": [
      "200\n"
     ]
    },
    {
     "name": "stderr",
     "output_type": "stream",
     "text": [
      "D:\\Anacoda\\lib\\site-packages\\urllib3\\connectionpool.py:1013: InsecureRequestWarning: Unverified HTTPS request is being made to host 'www.12306.cn'. Adding certificate verification is strongly advised. See: https://urllib3.readthedocs.io/en/1.26.x/advanced-usage.html#ssl-warnings\n",
      "  warnings.warn(\n",
      "D:\\Anacoda\\lib\\site-packages\\urllib3\\connectionpool.py:1013: InsecureRequestWarning: Unverified HTTPS request is being made to host 'www.12306.cn'. Adding certificate verification is strongly advised. See: https://urllib3.readthedocs.io/en/1.26.x/advanced-usage.html#ssl-warnings\n",
      "  warnings.warn(\n"
     ]
    }
   ],
   "source": [
    "import requests\n",
    "\n",
    "response = requests.get('https://www.12306.cn',verify=False)\n",
    "print(response.status_code)"
   ]
  },
  {
   "cell_type": "markdown",
   "id": "b29af469",
   "metadata": {},
   "source": [
    "#### 代理设置"
   ]
  },
  {
   "cell_type": "markdown",
   "id": "daa9ce79",
   "metadata": {},
   "source": [
    "对于某些网站，在测试的时候请求几次，能正常获取内容。但是一旦开始大规模爬取，对于大规模且频繁的请求，网站可能会弹出验证码，或者跳转到登陆认证页面，更甚者可以能会直接封禁客户端的IP，导致一定时段内无法访问。"
   ]
  },
  {
   "cell_type": "code",
   "execution_count": 25,
   "id": "7ce731e6",
   "metadata": {},
   "outputs": [
    {
     "data": {
      "text/plain": [
       "<Response [200]>"
      ]
     },
     "execution_count": 25,
     "metadata": {},
     "output_type": "execute_result"
    }
   ],
   "source": [
    "import requests\n",
    "\n",
    "proxies = {\n",
    "    \"http\":\"http://10.10.1.10:3128\",\n",
    "    \"http\":\"http://10.10.1.10:1080\",\n",
    "}\n",
    "\n",
    "requests.get(\"https://www.taobao.com\",proxies=proxies)"
   ]
  },
  {
   "cell_type": "markdown",
   "id": "f3539ba6",
   "metadata": {},
   "source": [
    "代理如上使用，可以换成自己的有效代理"
   ]
  },
  {
   "cell_type": "markdown",
   "id": "20213e4c",
   "metadata": {},
   "source": [
    "#### 身份认证"
   ]
  },
  {
   "cell_type": "code",
   "execution_count": 27,
   "id": "b2de8d37",
   "metadata": {},
   "outputs": [
    {
     "ename": "ConnectionError",
     "evalue": "HTTPConnectionPool(host='localhost', port=5000): Max retries exceeded with url: / (Caused by NewConnectionError('<urllib3.connection.HTTPConnection object at 0x00000241955E2CD0>: Failed to establish a new connection: [WinError 10061] 由于目标计算机积极拒绝，无法连接。'))",
     "output_type": "error",
     "traceback": [
      "\u001b[1;31m---------------------------------------------------------------------------\u001b[0m",
      "\u001b[1;31mConnectionRefusedError\u001b[0m                    Traceback (most recent call last)",
      "\u001b[1;32mD:\\Anacoda\\lib\\site-packages\\urllib3\\connection.py\u001b[0m in \u001b[0;36m_new_conn\u001b[1;34m(self)\u001b[0m\n\u001b[0;32m    173\u001b[0m         \u001b[1;32mtry\u001b[0m\u001b[1;33m:\u001b[0m\u001b[1;33m\u001b[0m\u001b[1;33m\u001b[0m\u001b[0m\n\u001b[1;32m--> 174\u001b[1;33m             conn = connection.create_connection(\n\u001b[0m\u001b[0;32m    175\u001b[0m                 \u001b[1;33m(\u001b[0m\u001b[0mself\u001b[0m\u001b[1;33m.\u001b[0m\u001b[0m_dns_host\u001b[0m\u001b[1;33m,\u001b[0m \u001b[0mself\u001b[0m\u001b[1;33m.\u001b[0m\u001b[0mport\u001b[0m\u001b[1;33m)\u001b[0m\u001b[1;33m,\u001b[0m \u001b[0mself\u001b[0m\u001b[1;33m.\u001b[0m\u001b[0mtimeout\u001b[0m\u001b[1;33m,\u001b[0m \u001b[1;33m**\u001b[0m\u001b[0mextra_kw\u001b[0m\u001b[1;33m\u001b[0m\u001b[1;33m\u001b[0m\u001b[0m\n",
      "\u001b[1;32mD:\\Anacoda\\lib\\site-packages\\urllib3\\util\\connection.py\u001b[0m in \u001b[0;36mcreate_connection\u001b[1;34m(address, timeout, source_address, socket_options)\u001b[0m\n\u001b[0;32m     95\u001b[0m     \u001b[1;32mif\u001b[0m \u001b[0merr\u001b[0m \u001b[1;32mis\u001b[0m \u001b[1;32mnot\u001b[0m \u001b[1;32mNone\u001b[0m\u001b[1;33m:\u001b[0m\u001b[1;33m\u001b[0m\u001b[1;33m\u001b[0m\u001b[0m\n\u001b[1;32m---> 96\u001b[1;33m         \u001b[1;32mraise\u001b[0m \u001b[0merr\u001b[0m\u001b[1;33m\u001b[0m\u001b[1;33m\u001b[0m\u001b[0m\n\u001b[0m\u001b[0;32m     97\u001b[0m \u001b[1;33m\u001b[0m\u001b[0m\n",
      "\u001b[1;32mD:\\Anacoda\\lib\\site-packages\\urllib3\\util\\connection.py\u001b[0m in \u001b[0;36mcreate_connection\u001b[1;34m(address, timeout, source_address, socket_options)\u001b[0m\n\u001b[0;32m     85\u001b[0m                 \u001b[0msock\u001b[0m\u001b[1;33m.\u001b[0m\u001b[0mbind\u001b[0m\u001b[1;33m(\u001b[0m\u001b[0msource_address\u001b[0m\u001b[1;33m)\u001b[0m\u001b[1;33m\u001b[0m\u001b[1;33m\u001b[0m\u001b[0m\n\u001b[1;32m---> 86\u001b[1;33m             \u001b[0msock\u001b[0m\u001b[1;33m.\u001b[0m\u001b[0mconnect\u001b[0m\u001b[1;33m(\u001b[0m\u001b[0msa\u001b[0m\u001b[1;33m)\u001b[0m\u001b[1;33m\u001b[0m\u001b[1;33m\u001b[0m\u001b[0m\n\u001b[0m\u001b[0;32m     87\u001b[0m             \u001b[1;32mreturn\u001b[0m \u001b[0msock\u001b[0m\u001b[1;33m\u001b[0m\u001b[1;33m\u001b[0m\u001b[0m\n",
      "\u001b[1;31mConnectionRefusedError\u001b[0m: [WinError 10061] 由于目标计算机积极拒绝，无法连接。",
      "\nDuring handling of the above exception, another exception occurred:\n",
      "\u001b[1;31mNewConnectionError\u001b[0m                        Traceback (most recent call last)",
      "\u001b[1;32mD:\\Anacoda\\lib\\site-packages\\urllib3\\connectionpool.py\u001b[0m in \u001b[0;36murlopen\u001b[1;34m(self, method, url, body, headers, retries, redirect, assert_same_host, timeout, pool_timeout, release_conn, chunked, body_pos, **response_kw)\u001b[0m\n\u001b[0;32m    698\u001b[0m             \u001b[1;31m# Make the request on the httplib connection object.\u001b[0m\u001b[1;33m\u001b[0m\u001b[1;33m\u001b[0m\u001b[0m\n\u001b[1;32m--> 699\u001b[1;33m             httplib_response = self._make_request(\n\u001b[0m\u001b[0;32m    700\u001b[0m                 \u001b[0mconn\u001b[0m\u001b[1;33m,\u001b[0m\u001b[1;33m\u001b[0m\u001b[1;33m\u001b[0m\u001b[0m\n",
      "\u001b[1;32mD:\\Anacoda\\lib\\site-packages\\urllib3\\connectionpool.py\u001b[0m in \u001b[0;36m_make_request\u001b[1;34m(self, conn, method, url, timeout, chunked, **httplib_request_kw)\u001b[0m\n\u001b[0;32m    393\u001b[0m             \u001b[1;32melse\u001b[0m\u001b[1;33m:\u001b[0m\u001b[1;33m\u001b[0m\u001b[1;33m\u001b[0m\u001b[0m\n\u001b[1;32m--> 394\u001b[1;33m                 \u001b[0mconn\u001b[0m\u001b[1;33m.\u001b[0m\u001b[0mrequest\u001b[0m\u001b[1;33m(\u001b[0m\u001b[0mmethod\u001b[0m\u001b[1;33m,\u001b[0m \u001b[0murl\u001b[0m\u001b[1;33m,\u001b[0m \u001b[1;33m**\u001b[0m\u001b[0mhttplib_request_kw\u001b[0m\u001b[1;33m)\u001b[0m\u001b[1;33m\u001b[0m\u001b[1;33m\u001b[0m\u001b[0m\n\u001b[0m\u001b[0;32m    395\u001b[0m \u001b[1;33m\u001b[0m\u001b[0m\n",
      "\u001b[1;32mD:\\Anacoda\\lib\\site-packages\\urllib3\\connection.py\u001b[0m in \u001b[0;36mrequest\u001b[1;34m(self, method, url, body, headers)\u001b[0m\n\u001b[0;32m    238\u001b[0m             \u001b[0mheaders\u001b[0m\u001b[1;33m[\u001b[0m\u001b[1;34m\"User-Agent\"\u001b[0m\u001b[1;33m]\u001b[0m \u001b[1;33m=\u001b[0m \u001b[0m_get_default_user_agent\u001b[0m\u001b[1;33m(\u001b[0m\u001b[1;33m)\u001b[0m\u001b[1;33m\u001b[0m\u001b[1;33m\u001b[0m\u001b[0m\n\u001b[1;32m--> 239\u001b[1;33m         \u001b[0msuper\u001b[0m\u001b[1;33m(\u001b[0m\u001b[0mHTTPConnection\u001b[0m\u001b[1;33m,\u001b[0m \u001b[0mself\u001b[0m\u001b[1;33m)\u001b[0m\u001b[1;33m.\u001b[0m\u001b[0mrequest\u001b[0m\u001b[1;33m(\u001b[0m\u001b[0mmethod\u001b[0m\u001b[1;33m,\u001b[0m \u001b[0murl\u001b[0m\u001b[1;33m,\u001b[0m \u001b[0mbody\u001b[0m\u001b[1;33m=\u001b[0m\u001b[0mbody\u001b[0m\u001b[1;33m,\u001b[0m \u001b[0mheaders\u001b[0m\u001b[1;33m=\u001b[0m\u001b[0mheaders\u001b[0m\u001b[1;33m)\u001b[0m\u001b[1;33m\u001b[0m\u001b[1;33m\u001b[0m\u001b[0m\n\u001b[0m\u001b[0;32m    240\u001b[0m \u001b[1;33m\u001b[0m\u001b[0m\n",
      "\u001b[1;32mD:\\Anacoda\\lib\\http\\client.py\u001b[0m in \u001b[0;36mrequest\u001b[1;34m(self, method, url, body, headers, encode_chunked)\u001b[0m\n\u001b[0;32m   1278\u001b[0m         \u001b[1;34m\"\"\"Send a complete request to the server.\"\"\"\u001b[0m\u001b[1;33m\u001b[0m\u001b[1;33m\u001b[0m\u001b[0m\n\u001b[1;32m-> 1279\u001b[1;33m         \u001b[0mself\u001b[0m\u001b[1;33m.\u001b[0m\u001b[0m_send_request\u001b[0m\u001b[1;33m(\u001b[0m\u001b[0mmethod\u001b[0m\u001b[1;33m,\u001b[0m \u001b[0murl\u001b[0m\u001b[1;33m,\u001b[0m \u001b[0mbody\u001b[0m\u001b[1;33m,\u001b[0m \u001b[0mheaders\u001b[0m\u001b[1;33m,\u001b[0m \u001b[0mencode_chunked\u001b[0m\u001b[1;33m)\u001b[0m\u001b[1;33m\u001b[0m\u001b[1;33m\u001b[0m\u001b[0m\n\u001b[0m\u001b[0;32m   1280\u001b[0m \u001b[1;33m\u001b[0m\u001b[0m\n",
      "\u001b[1;32mD:\\Anacoda\\lib\\http\\client.py\u001b[0m in \u001b[0;36m_send_request\u001b[1;34m(self, method, url, body, headers, encode_chunked)\u001b[0m\n\u001b[0;32m   1324\u001b[0m             \u001b[0mbody\u001b[0m \u001b[1;33m=\u001b[0m \u001b[0m_encode\u001b[0m\u001b[1;33m(\u001b[0m\u001b[0mbody\u001b[0m\u001b[1;33m,\u001b[0m \u001b[1;34m'body'\u001b[0m\u001b[1;33m)\u001b[0m\u001b[1;33m\u001b[0m\u001b[1;33m\u001b[0m\u001b[0m\n\u001b[1;32m-> 1325\u001b[1;33m         \u001b[0mself\u001b[0m\u001b[1;33m.\u001b[0m\u001b[0mendheaders\u001b[0m\u001b[1;33m(\u001b[0m\u001b[0mbody\u001b[0m\u001b[1;33m,\u001b[0m \u001b[0mencode_chunked\u001b[0m\u001b[1;33m=\u001b[0m\u001b[0mencode_chunked\u001b[0m\u001b[1;33m)\u001b[0m\u001b[1;33m\u001b[0m\u001b[1;33m\u001b[0m\u001b[0m\n\u001b[0m\u001b[0;32m   1326\u001b[0m \u001b[1;33m\u001b[0m\u001b[0m\n",
      "\u001b[1;32mD:\\Anacoda\\lib\\http\\client.py\u001b[0m in \u001b[0;36mendheaders\u001b[1;34m(self, message_body, encode_chunked)\u001b[0m\n\u001b[0;32m   1273\u001b[0m             \u001b[1;32mraise\u001b[0m \u001b[0mCannotSendHeader\u001b[0m\u001b[1;33m(\u001b[0m\u001b[1;33m)\u001b[0m\u001b[1;33m\u001b[0m\u001b[1;33m\u001b[0m\u001b[0m\n\u001b[1;32m-> 1274\u001b[1;33m         \u001b[0mself\u001b[0m\u001b[1;33m.\u001b[0m\u001b[0m_send_output\u001b[0m\u001b[1;33m(\u001b[0m\u001b[0mmessage_body\u001b[0m\u001b[1;33m,\u001b[0m \u001b[0mencode_chunked\u001b[0m\u001b[1;33m=\u001b[0m\u001b[0mencode_chunked\u001b[0m\u001b[1;33m)\u001b[0m\u001b[1;33m\u001b[0m\u001b[1;33m\u001b[0m\u001b[0m\n\u001b[0m\u001b[0;32m   1275\u001b[0m \u001b[1;33m\u001b[0m\u001b[0m\n",
      "\u001b[1;32mD:\\Anacoda\\lib\\http\\client.py\u001b[0m in \u001b[0;36m_send_output\u001b[1;34m(self, message_body, encode_chunked)\u001b[0m\n\u001b[0;32m   1033\u001b[0m         \u001b[1;32mdel\u001b[0m \u001b[0mself\u001b[0m\u001b[1;33m.\u001b[0m\u001b[0m_buffer\u001b[0m\u001b[1;33m[\u001b[0m\u001b[1;33m:\u001b[0m\u001b[1;33m]\u001b[0m\u001b[1;33m\u001b[0m\u001b[1;33m\u001b[0m\u001b[0m\n\u001b[1;32m-> 1034\u001b[1;33m         \u001b[0mself\u001b[0m\u001b[1;33m.\u001b[0m\u001b[0msend\u001b[0m\u001b[1;33m(\u001b[0m\u001b[0mmsg\u001b[0m\u001b[1;33m)\u001b[0m\u001b[1;33m\u001b[0m\u001b[1;33m\u001b[0m\u001b[0m\n\u001b[0m\u001b[0;32m   1035\u001b[0m \u001b[1;33m\u001b[0m\u001b[0m\n",
      "\u001b[1;32mD:\\Anacoda\\lib\\http\\client.py\u001b[0m in \u001b[0;36msend\u001b[1;34m(self, data)\u001b[0m\n\u001b[0;32m    973\u001b[0m             \u001b[1;32mif\u001b[0m \u001b[0mself\u001b[0m\u001b[1;33m.\u001b[0m\u001b[0mauto_open\u001b[0m\u001b[1;33m:\u001b[0m\u001b[1;33m\u001b[0m\u001b[1;33m\u001b[0m\u001b[0m\n\u001b[1;32m--> 974\u001b[1;33m                 \u001b[0mself\u001b[0m\u001b[1;33m.\u001b[0m\u001b[0mconnect\u001b[0m\u001b[1;33m(\u001b[0m\u001b[1;33m)\u001b[0m\u001b[1;33m\u001b[0m\u001b[1;33m\u001b[0m\u001b[0m\n\u001b[0m\u001b[0;32m    975\u001b[0m             \u001b[1;32melse\u001b[0m\u001b[1;33m:\u001b[0m\u001b[1;33m\u001b[0m\u001b[1;33m\u001b[0m\u001b[0m\n",
      "\u001b[1;32mD:\\Anacoda\\lib\\site-packages\\urllib3\\connection.py\u001b[0m in \u001b[0;36mconnect\u001b[1;34m(self)\u001b[0m\n\u001b[0;32m    204\u001b[0m     \u001b[1;32mdef\u001b[0m \u001b[0mconnect\u001b[0m\u001b[1;33m(\u001b[0m\u001b[0mself\u001b[0m\u001b[1;33m)\u001b[0m\u001b[1;33m:\u001b[0m\u001b[1;33m\u001b[0m\u001b[1;33m\u001b[0m\u001b[0m\n\u001b[1;32m--> 205\u001b[1;33m         \u001b[0mconn\u001b[0m \u001b[1;33m=\u001b[0m \u001b[0mself\u001b[0m\u001b[1;33m.\u001b[0m\u001b[0m_new_conn\u001b[0m\u001b[1;33m(\u001b[0m\u001b[1;33m)\u001b[0m\u001b[1;33m\u001b[0m\u001b[1;33m\u001b[0m\u001b[0m\n\u001b[0m\u001b[0;32m    206\u001b[0m         \u001b[0mself\u001b[0m\u001b[1;33m.\u001b[0m\u001b[0m_prepare_conn\u001b[0m\u001b[1;33m(\u001b[0m\u001b[0mconn\u001b[0m\u001b[1;33m)\u001b[0m\u001b[1;33m\u001b[0m\u001b[1;33m\u001b[0m\u001b[0m\n",
      "\u001b[1;32mD:\\Anacoda\\lib\\site-packages\\urllib3\\connection.py\u001b[0m in \u001b[0;36m_new_conn\u001b[1;34m(self)\u001b[0m\n\u001b[0;32m    185\u001b[0m         \u001b[1;32mexcept\u001b[0m \u001b[0mSocketError\u001b[0m \u001b[1;32mas\u001b[0m \u001b[0me\u001b[0m\u001b[1;33m:\u001b[0m\u001b[1;33m\u001b[0m\u001b[1;33m\u001b[0m\u001b[0m\n\u001b[1;32m--> 186\u001b[1;33m             raise NewConnectionError(\n\u001b[0m\u001b[0;32m    187\u001b[0m                 \u001b[0mself\u001b[0m\u001b[1;33m,\u001b[0m \u001b[1;34m\"Failed to establish a new connection: %s\"\u001b[0m \u001b[1;33m%\u001b[0m \u001b[0me\u001b[0m\u001b[1;33m\u001b[0m\u001b[1;33m\u001b[0m\u001b[0m\n",
      "\u001b[1;31mNewConnectionError\u001b[0m: <urllib3.connection.HTTPConnection object at 0x00000241955E2CD0>: Failed to establish a new connection: [WinError 10061] 由于目标计算机积极拒绝，无法连接。",
      "\nDuring handling of the above exception, another exception occurred:\n",
      "\u001b[1;31mMaxRetryError\u001b[0m                             Traceback (most recent call last)",
      "\u001b[1;32mD:\\Anacoda\\lib\\site-packages\\requests\\adapters.py\u001b[0m in \u001b[0;36msend\u001b[1;34m(self, request, stream, timeout, verify, cert, proxies)\u001b[0m\n\u001b[0;32m    438\u001b[0m             \u001b[1;32mif\u001b[0m \u001b[1;32mnot\u001b[0m \u001b[0mchunked\u001b[0m\u001b[1;33m:\u001b[0m\u001b[1;33m\u001b[0m\u001b[1;33m\u001b[0m\u001b[0m\n\u001b[1;32m--> 439\u001b[1;33m                 resp = conn.urlopen(\n\u001b[0m\u001b[0;32m    440\u001b[0m                     \u001b[0mmethod\u001b[0m\u001b[1;33m=\u001b[0m\u001b[0mrequest\u001b[0m\u001b[1;33m.\u001b[0m\u001b[0mmethod\u001b[0m\u001b[1;33m,\u001b[0m\u001b[1;33m\u001b[0m\u001b[1;33m\u001b[0m\u001b[0m\n",
      "\u001b[1;32mD:\\Anacoda\\lib\\site-packages\\urllib3\\connectionpool.py\u001b[0m in \u001b[0;36murlopen\u001b[1;34m(self, method, url, body, headers, retries, redirect, assert_same_host, timeout, pool_timeout, release_conn, chunked, body_pos, **response_kw)\u001b[0m\n\u001b[0;32m    754\u001b[0m \u001b[1;33m\u001b[0m\u001b[0m\n\u001b[1;32m--> 755\u001b[1;33m             retries = retries.increment(\n\u001b[0m\u001b[0;32m    756\u001b[0m                 \u001b[0mmethod\u001b[0m\u001b[1;33m,\u001b[0m \u001b[0murl\u001b[0m\u001b[1;33m,\u001b[0m \u001b[0merror\u001b[0m\u001b[1;33m=\u001b[0m\u001b[0me\u001b[0m\u001b[1;33m,\u001b[0m \u001b[0m_pool\u001b[0m\u001b[1;33m=\u001b[0m\u001b[0mself\u001b[0m\u001b[1;33m,\u001b[0m \u001b[0m_stacktrace\u001b[0m\u001b[1;33m=\u001b[0m\u001b[0msys\u001b[0m\u001b[1;33m.\u001b[0m\u001b[0mexc_info\u001b[0m\u001b[1;33m(\u001b[0m\u001b[1;33m)\u001b[0m\u001b[1;33m[\u001b[0m\u001b[1;36m2\u001b[0m\u001b[1;33m]\u001b[0m\u001b[1;33m\u001b[0m\u001b[1;33m\u001b[0m\u001b[0m\n",
      "\u001b[1;32mD:\\Anacoda\\lib\\site-packages\\urllib3\\util\\retry.py\u001b[0m in \u001b[0;36mincrement\u001b[1;34m(self, method, url, response, error, _pool, _stacktrace)\u001b[0m\n\u001b[0;32m    573\u001b[0m         \u001b[1;32mif\u001b[0m \u001b[0mnew_retry\u001b[0m\u001b[1;33m.\u001b[0m\u001b[0mis_exhausted\u001b[0m\u001b[1;33m(\u001b[0m\u001b[1;33m)\u001b[0m\u001b[1;33m:\u001b[0m\u001b[1;33m\u001b[0m\u001b[1;33m\u001b[0m\u001b[0m\n\u001b[1;32m--> 574\u001b[1;33m             \u001b[1;32mraise\u001b[0m \u001b[0mMaxRetryError\u001b[0m\u001b[1;33m(\u001b[0m\u001b[0m_pool\u001b[0m\u001b[1;33m,\u001b[0m \u001b[0murl\u001b[0m\u001b[1;33m,\u001b[0m \u001b[0merror\u001b[0m \u001b[1;32mor\u001b[0m \u001b[0mResponseError\u001b[0m\u001b[1;33m(\u001b[0m\u001b[0mcause\u001b[0m\u001b[1;33m)\u001b[0m\u001b[1;33m)\u001b[0m\u001b[1;33m\u001b[0m\u001b[1;33m\u001b[0m\u001b[0m\n\u001b[0m\u001b[0;32m    575\u001b[0m \u001b[1;33m\u001b[0m\u001b[0m\n",
      "\u001b[1;31mMaxRetryError\u001b[0m: HTTPConnectionPool(host='localhost', port=5000): Max retries exceeded with url: / (Caused by NewConnectionError('<urllib3.connection.HTTPConnection object at 0x00000241955E2CD0>: Failed to establish a new connection: [WinError 10061] 由于目标计算机积极拒绝，无法连接。'))",
      "\nDuring handling of the above exception, another exception occurred:\n",
      "\u001b[1;31mConnectionError\u001b[0m                           Traceback (most recent call last)",
      "\u001b[1;32mC:\\Users\\WRITIN~1\\AppData\\Local\\Temp/ipykernel_8268/2491480494.py\u001b[0m in \u001b[0;36m<module>\u001b[1;34m\u001b[0m\n\u001b[0;32m      2\u001b[0m \u001b[1;32mfrom\u001b[0m \u001b[0mrequests\u001b[0m\u001b[1;33m.\u001b[0m\u001b[0mauth\u001b[0m \u001b[1;32mimport\u001b[0m \u001b[0mHTTPBasicAuth\u001b[0m\u001b[1;33m\u001b[0m\u001b[1;33m\u001b[0m\u001b[0m\n\u001b[0;32m      3\u001b[0m \u001b[1;33m\u001b[0m\u001b[0m\n\u001b[1;32m----> 4\u001b[1;33m \u001b[0mr\u001b[0m \u001b[1;33m=\u001b[0m \u001b[0mrequests\u001b[0m\u001b[1;33m.\u001b[0m\u001b[0mget\u001b[0m\u001b[1;33m(\u001b[0m\u001b[1;34m'http://localhost:5000'\u001b[0m\u001b[1;33m,\u001b[0m\u001b[0mauth\u001b[0m\u001b[1;33m=\u001b[0m\u001b[0mHTTPBasicAuth\u001b[0m\u001b[1;33m(\u001b[0m\u001b[1;34m'username'\u001b[0m\u001b[1;33m,\u001b[0m\u001b[1;34m'password'\u001b[0m\u001b[1;33m)\u001b[0m\u001b[1;33m)\u001b[0m\u001b[1;33m\u001b[0m\u001b[1;33m\u001b[0m\u001b[0m\n\u001b[0m\u001b[0;32m      5\u001b[0m \u001b[0mprint\u001b[0m\u001b[1;33m(\u001b[0m\u001b[0mr\u001b[0m\u001b[1;33m.\u001b[0m\u001b[0mstatus_code\u001b[0m\u001b[1;33m)\u001b[0m\u001b[1;33m\u001b[0m\u001b[1;33m\u001b[0m\u001b[0m\n",
      "\u001b[1;32mD:\\Anacoda\\lib\\site-packages\\requests\\api.py\u001b[0m in \u001b[0;36mget\u001b[1;34m(url, params, **kwargs)\u001b[0m\n\u001b[0;32m     73\u001b[0m     \"\"\"\n\u001b[0;32m     74\u001b[0m \u001b[1;33m\u001b[0m\u001b[0m\n\u001b[1;32m---> 75\u001b[1;33m     \u001b[1;32mreturn\u001b[0m \u001b[0mrequest\u001b[0m\u001b[1;33m(\u001b[0m\u001b[1;34m'get'\u001b[0m\u001b[1;33m,\u001b[0m \u001b[0murl\u001b[0m\u001b[1;33m,\u001b[0m \u001b[0mparams\u001b[0m\u001b[1;33m=\u001b[0m\u001b[0mparams\u001b[0m\u001b[1;33m,\u001b[0m \u001b[1;33m**\u001b[0m\u001b[0mkwargs\u001b[0m\u001b[1;33m)\u001b[0m\u001b[1;33m\u001b[0m\u001b[1;33m\u001b[0m\u001b[0m\n\u001b[0m\u001b[0;32m     76\u001b[0m \u001b[1;33m\u001b[0m\u001b[0m\n\u001b[0;32m     77\u001b[0m \u001b[1;33m\u001b[0m\u001b[0m\n",
      "\u001b[1;32mD:\\Anacoda\\lib\\site-packages\\requests\\api.py\u001b[0m in \u001b[0;36mrequest\u001b[1;34m(method, url, **kwargs)\u001b[0m\n\u001b[0;32m     59\u001b[0m     \u001b[1;31m# cases, and look like a memory leak in others.\u001b[0m\u001b[1;33m\u001b[0m\u001b[1;33m\u001b[0m\u001b[0m\n\u001b[0;32m     60\u001b[0m     \u001b[1;32mwith\u001b[0m \u001b[0msessions\u001b[0m\u001b[1;33m.\u001b[0m\u001b[0mSession\u001b[0m\u001b[1;33m(\u001b[0m\u001b[1;33m)\u001b[0m \u001b[1;32mas\u001b[0m \u001b[0msession\u001b[0m\u001b[1;33m:\u001b[0m\u001b[1;33m\u001b[0m\u001b[1;33m\u001b[0m\u001b[0m\n\u001b[1;32m---> 61\u001b[1;33m         \u001b[1;32mreturn\u001b[0m \u001b[0msession\u001b[0m\u001b[1;33m.\u001b[0m\u001b[0mrequest\u001b[0m\u001b[1;33m(\u001b[0m\u001b[0mmethod\u001b[0m\u001b[1;33m=\u001b[0m\u001b[0mmethod\u001b[0m\u001b[1;33m,\u001b[0m \u001b[0murl\u001b[0m\u001b[1;33m=\u001b[0m\u001b[0murl\u001b[0m\u001b[1;33m,\u001b[0m \u001b[1;33m**\u001b[0m\u001b[0mkwargs\u001b[0m\u001b[1;33m)\u001b[0m\u001b[1;33m\u001b[0m\u001b[1;33m\u001b[0m\u001b[0m\n\u001b[0m\u001b[0;32m     62\u001b[0m \u001b[1;33m\u001b[0m\u001b[0m\n\u001b[0;32m     63\u001b[0m \u001b[1;33m\u001b[0m\u001b[0m\n",
      "\u001b[1;32mD:\\Anacoda\\lib\\site-packages\\requests\\sessions.py\u001b[0m in \u001b[0;36mrequest\u001b[1;34m(self, method, url, params, data, headers, cookies, files, auth, timeout, allow_redirects, proxies, hooks, stream, verify, cert, json)\u001b[0m\n\u001b[0;32m    540\u001b[0m         }\n\u001b[0;32m    541\u001b[0m         \u001b[0msend_kwargs\u001b[0m\u001b[1;33m.\u001b[0m\u001b[0mupdate\u001b[0m\u001b[1;33m(\u001b[0m\u001b[0msettings\u001b[0m\u001b[1;33m)\u001b[0m\u001b[1;33m\u001b[0m\u001b[1;33m\u001b[0m\u001b[0m\n\u001b[1;32m--> 542\u001b[1;33m         \u001b[0mresp\u001b[0m \u001b[1;33m=\u001b[0m \u001b[0mself\u001b[0m\u001b[1;33m.\u001b[0m\u001b[0msend\u001b[0m\u001b[1;33m(\u001b[0m\u001b[0mprep\u001b[0m\u001b[1;33m,\u001b[0m \u001b[1;33m**\u001b[0m\u001b[0msend_kwargs\u001b[0m\u001b[1;33m)\u001b[0m\u001b[1;33m\u001b[0m\u001b[1;33m\u001b[0m\u001b[0m\n\u001b[0m\u001b[0;32m    543\u001b[0m \u001b[1;33m\u001b[0m\u001b[0m\n\u001b[0;32m    544\u001b[0m         \u001b[1;32mreturn\u001b[0m \u001b[0mresp\u001b[0m\u001b[1;33m\u001b[0m\u001b[1;33m\u001b[0m\u001b[0m\n",
      "\u001b[1;32mD:\\Anacoda\\lib\\site-packages\\requests\\sessions.py\u001b[0m in \u001b[0;36msend\u001b[1;34m(self, request, **kwargs)\u001b[0m\n\u001b[0;32m    653\u001b[0m \u001b[1;33m\u001b[0m\u001b[0m\n\u001b[0;32m    654\u001b[0m         \u001b[1;31m# Send the request\u001b[0m\u001b[1;33m\u001b[0m\u001b[1;33m\u001b[0m\u001b[0m\n\u001b[1;32m--> 655\u001b[1;33m         \u001b[0mr\u001b[0m \u001b[1;33m=\u001b[0m \u001b[0madapter\u001b[0m\u001b[1;33m.\u001b[0m\u001b[0msend\u001b[0m\u001b[1;33m(\u001b[0m\u001b[0mrequest\u001b[0m\u001b[1;33m,\u001b[0m \u001b[1;33m**\u001b[0m\u001b[0mkwargs\u001b[0m\u001b[1;33m)\u001b[0m\u001b[1;33m\u001b[0m\u001b[1;33m\u001b[0m\u001b[0m\n\u001b[0m\u001b[0;32m    656\u001b[0m \u001b[1;33m\u001b[0m\u001b[0m\n\u001b[0;32m    657\u001b[0m         \u001b[1;31m# Total elapsed time of the request (approximately)\u001b[0m\u001b[1;33m\u001b[0m\u001b[1;33m\u001b[0m\u001b[0m\n",
      "\u001b[1;32mD:\\Anacoda\\lib\\site-packages\\requests\\adapters.py\u001b[0m in \u001b[0;36msend\u001b[1;34m(self, request, stream, timeout, verify, cert, proxies)\u001b[0m\n\u001b[0;32m    514\u001b[0m                 \u001b[1;32mraise\u001b[0m \u001b[0mSSLError\u001b[0m\u001b[1;33m(\u001b[0m\u001b[0me\u001b[0m\u001b[1;33m,\u001b[0m \u001b[0mrequest\u001b[0m\u001b[1;33m=\u001b[0m\u001b[0mrequest\u001b[0m\u001b[1;33m)\u001b[0m\u001b[1;33m\u001b[0m\u001b[1;33m\u001b[0m\u001b[0m\n\u001b[0;32m    515\u001b[0m \u001b[1;33m\u001b[0m\u001b[0m\n\u001b[1;32m--> 516\u001b[1;33m             \u001b[1;32mraise\u001b[0m \u001b[0mConnectionError\u001b[0m\u001b[1;33m(\u001b[0m\u001b[0me\u001b[0m\u001b[1;33m,\u001b[0m \u001b[0mrequest\u001b[0m\u001b[1;33m=\u001b[0m\u001b[0mrequest\u001b[0m\u001b[1;33m)\u001b[0m\u001b[1;33m\u001b[0m\u001b[1;33m\u001b[0m\u001b[0m\n\u001b[0m\u001b[0;32m    517\u001b[0m \u001b[1;33m\u001b[0m\u001b[0m\n\u001b[0;32m    518\u001b[0m         \u001b[1;32mexcept\u001b[0m \u001b[0mClosedPoolError\u001b[0m \u001b[1;32mas\u001b[0m \u001b[0me\u001b[0m\u001b[1;33m:\u001b[0m\u001b[1;33m\u001b[0m\u001b[1;33m\u001b[0m\u001b[0m\n",
      "\u001b[1;31mConnectionError\u001b[0m: HTTPConnectionPool(host='localhost', port=5000): Max retries exceeded with url: / (Caused by NewConnectionError('<urllib3.connection.HTTPConnection object at 0x00000241955E2CD0>: Failed to establish a new connection: [WinError 10061] 由于目标计算机积极拒绝，无法连接。'))"
     ]
    }
   ],
   "source": [
    "import requests\n",
    "from requests.auth import HTTPBasicAuth\n",
    "\n",
    "r = requests.get('http://localhost:5000',auth=HTTPBasicAuth('username','password'))\n",
    "print(r.status_code)"
   ]
  },
  {
   "cell_type": "markdown",
   "id": "82429fe5",
   "metadata": {},
   "source": [
    "## 正则表达式"
   ]
  },
  {
   "cell_type": "markdown",
   "id": "20013dbe",
   "metadata": {},
   "source": [
    "|Model|Description|\n",
    "|---|----|\n",
    "|\\w|匹配字母数字及下划线|\n",
    "|\\W|匹配不是字母、数字及下划线的字符|\n",
    "|\\s|匹配任意空白字符、等价于[\\t\\n\\r\\f]|\n",
    "|\\S|"
   ]
  },
  {
   "cell_type": "markdown",
   "id": "a64f7849",
   "metadata": {},
   "source": [
    "### match()方法"
   ]
  },
  {
   "cell_type": "code",
   "execution_count": 28,
   "id": "16a94dcb",
   "metadata": {},
   "outputs": [
    {
     "name": "stdout",
     "output_type": "stream",
     "text": [
      "41\n",
      "<re.Match object; span=(0, 25), match='Hello 123 4567 World_This'>\n",
      "Hello 123 4567 World_This\n",
      "(0, 25)\n"
     ]
    }
   ],
   "source": [
    "import re\n",
    "\n",
    "content = 'Hello 123 4567 World_This is a Regex Demo'\n",
    "print(len(content))\n",
    "result = re.match('^Hello\\s\\d\\d\\d\\s\\d{4}\\s\\w{10}',content)\n",
    "print(result)\n",
    "print(result.group())\n",
    "print(result.span())"
   ]
  },
  {
   "cell_type": "markdown",
   "id": "fc711762",
   "metadata": {},
   "source": [
    "用它来匹配这个长字符串。开头的^是匹配字符串的开头，也就是以Hello开头；然后\\s匹配空白字符，用来匹配目标字符串的空格；\\d匹配数字，3个\\d匹配123；然后再写一个\\s匹配空格；后面还有4567，跟{4}以代表匹配前面的规划4次，也就是匹配4个数字；然后再紧接着1个空白字符，最后\\w{10}匹配10个字母及下划线。"
   ]
  },
  {
   "cell_type": "markdown",
   "id": "0474267d",
   "metadata": {},
   "source": [
    "可以看到结果是SRE_Match,这证明匹配成功。该对象有两个方法，group()方法可以输出匹配到的内容，结果是Hello 123 4567 World——This,这恰好是正则表式所匹配的内容；span（）方法可以输出匹配的范围，结果是（0，25），这就是匹配到的结果字符串在原字符串的位置范围。"
   ]
  },
  {
   "cell_type": "markdown",
   "id": "8f72ea7f",
   "metadata": {},
   "source": [
    "#### 匹配目标"
   ]
  },
  {
   "cell_type": "markdown",
   "id": "e572e236",
   "metadata": {},
   "source": [
    "可以使用（）将想提取出来的字符串括起来。（）实际上标记了一个子表达式的开始和结束标志，被标记的每个子表达式会依次对应每一个分组，调用group()方法传入分组即可获取提取的结果，"
   ]
  },
  {
   "cell_type": "code",
   "execution_count": 29,
   "id": "8f0feb3f",
   "metadata": {},
   "outputs": [
    {
     "name": "stdout",
     "output_type": "stream",
     "text": [
      "<re.Match object; span=(0, 19), match='Hello 1234567 World'>\n",
      "Hello 1234567 World\n",
      "1234567\n",
      "(0, 19)\n"
     ]
    }
   ],
   "source": [
    "import re\n",
    "\n",
    "content = 'Hello 1234567 World_This is a Regex Demo'\n",
    "result = re.match('^Hello\\s(\\d+)\\sWorld',content)\n",
    "print(result)\n",
    "print(result.group())\n",
    "print(result.group(1))\n",
    "print(result.span())"
   ]
  },
  {
   "cell_type": "markdown",
   "id": "02c44132",
   "metadata": {},
   "source": [
    "可以看到，我们成功得到了1234567，这里用的是group(1)，它与group()有所不同，后者会输出完整的匹配结果，而前者会输出第一个被（）包围的结果。"
   ]
  },
  {
   "cell_type": "markdown",
   "id": "d0ad4b68",
   "metadata": {},
   "source": [
    "#### 通用匹配"
   ]
  },
  {
   "cell_type": "markdown",
   "id": "7e06fc3b",
   "metadata": {},
   "source": [
    "刚才我们写的正则表达式其实比较复杂，出现空白字符我们就写\\s匹配，出先数字用\\d。工作量大  \n",
    "使用.* 其中.可以匹配任意字符（除换行符），* 代表匹配前面的字符无限次，所以它们组合在一起就可以匹配任意字符了。"
   ]
  },
  {
   "cell_type": "code",
   "execution_count": 32,
   "id": "83e88117",
   "metadata": {},
   "outputs": [
    {
     "name": "stdout",
     "output_type": "stream",
     "text": [
      "<re.Match object; span=(0, 41), match='Hello 123 4567 World_This is a Regex Demo'>\n",
      "Hello 123 4567 World_This is a Regex Demo\n",
      "(0, 41)\n"
     ]
    }
   ],
   "source": [
    "import re\n",
    "\n",
    "content = 'Hello 123 4567 World_This is a Regex Demo'\n",
    "result = re.match('^Hello.*Demo$',content)\n",
    "print(result)\n",
    "print(result.group())\n",
    "print(result.span())"
   ]
  },
  {
   "cell_type": "markdown",
   "id": "442906f4",
   "metadata": {},
   "source": [
    "#### 贪婪"
   ]
  },
  {
   "cell_type": "code",
   "execution_count": 33,
   "id": "a85d06bf",
   "metadata": {},
   "outputs": [
    {
     "name": "stdout",
     "output_type": "stream",
     "text": [
      "<re.Match object; span=(0, 40), match='Hello 1234567 World_This is a Regex Demo'>\n",
      "7\n"
     ]
    }
   ],
   "source": [
    "import re\n",
    "\n",
    "content = 'Hello 1234567 World_This is a Regex Demo'\n",
    "result = re.match('^He.*(\\d+).*Demo$',content)\n",
    "print(result)\n",
    "print(result.group(1))"
   ]
  },
  {
   "cell_type": "markdown",
   "id": "f5cc2af7",
   "metadata": {},
   "source": [
    "在贪婪的匹配下，.* 会匹配尽可能多的字符。正则表达式中 .* 后面是\\d+，也就是少一个数字，并没有指定具体多数字，因此，.* 就尽可能匹配多的字符，这里就把123456匹配了，给\\d+留下一个可满足条件的数字7，最后得到的内容只有数字7了。  \n",
    "只需要使用非贪婪匹配就好了 .*?"
   ]
  },
  {
   "cell_type": "code",
   "execution_count": 34,
   "id": "7f3f9275",
   "metadata": {},
   "outputs": [
    {
     "name": "stdout",
     "output_type": "stream",
     "text": [
      "<re.Match object; span=(0, 40), match='Hello 1234567 World_This is a Regex Demo'>\n",
      "1234567\n"
     ]
    }
   ],
   "source": [
    "import re\n",
    "\n",
    "content = 'Hello 1234567 World_This is a Regex Demo'\n",
    "result = re.match('^He.*?(\\d+).*Demo$',content)\n",
    "print(result)\n",
    "print(result.group(1))"
   ]
  },
  {
   "cell_type": "markdown",
   "id": "318d6b29",
   "metadata": {},
   "source": [
    "非贪婪匹配就是尽可能匹配少的字符。当 .* ? 匹配到Hello后面的空白字符时，再往后的字符就是数字了。而\\d+恰好可以匹配，这里 .*?就不再匹配"
   ]
  },
  {
   "cell_type": "code",
   "execution_count": 35,
   "id": "d1115f27",
   "metadata": {},
   "outputs": [
    {
     "name": "stdout",
     "output_type": "stream",
     "text": [
      "result1 \n",
      "result2 kEraCN\n"
     ]
    }
   ],
   "source": [
    "import re\n",
    "\n",
    "content = 'http://weibo.com/comment/kEraCN'\n",
    "result1 = re.match('http.*?comment/(.*?)',content)\n",
    "result2 = re.match('http.*?comment/(.*)',content)\n",
    "print('result1',result1.group(1))\n",
    "print('result2',result2.group(1))"
   ]
  },
  {
   "cell_type": "markdown",
   "id": "05dead96",
   "metadata": {},
   "source": [
    ".* ?处在字符串的结尾就有可能匹配不到任何内容了，因为其会尽可能少的匹配字符"
   ]
  },
  {
   "cell_type": "markdown",
   "id": "bed4d313",
   "metadata": {},
   "source": [
    "#### 修饰符"
   ]
  },
  {
   "cell_type": "code",
   "execution_count": 37,
   "id": "dc3aacf4",
   "metadata": {},
   "outputs": [
    {
     "ename": "AttributeError",
     "evalue": "'NoneType' object has no attribute 'group'",
     "output_type": "error",
     "traceback": [
      "\u001b[1;31m---------------------------------------------------------------------------\u001b[0m",
      "\u001b[1;31mAttributeError\u001b[0m                            Traceback (most recent call last)",
      "\u001b[1;32mC:\\Users\\WRITIN~1\\AppData\\Local\\Temp/ipykernel_8268/2500680828.py\u001b[0m in \u001b[0;36m<module>\u001b[1;34m\u001b[0m\n\u001b[0;32m      5\u001b[0m \"\"\"\n\u001b[0;32m      6\u001b[0m \u001b[0mresult\u001b[0m \u001b[1;33m=\u001b[0m \u001b[0mre\u001b[0m\u001b[1;33m.\u001b[0m\u001b[0mmatch\u001b[0m\u001b[1;33m(\u001b[0m\u001b[1;34m'^He.*?(\\d+).*?Demo$'\u001b[0m\u001b[1;33m,\u001b[0m\u001b[0mcontent\u001b[0m\u001b[1;33m)\u001b[0m\u001b[1;33m\u001b[0m\u001b[1;33m\u001b[0m\u001b[0m\n\u001b[1;32m----> 7\u001b[1;33m \u001b[0mprint\u001b[0m\u001b[1;33m(\u001b[0m\u001b[0mresult\u001b[0m\u001b[1;33m.\u001b[0m\u001b[0mgroup\u001b[0m\u001b[1;33m(\u001b[0m\u001b[1;36m1\u001b[0m\u001b[1;33m)\u001b[0m\u001b[1;33m)\u001b[0m\u001b[1;33m\u001b[0m\u001b[1;33m\u001b[0m\u001b[0m\n\u001b[0m",
      "\u001b[1;31mAttributeError\u001b[0m: 'NoneType' object has no attribute 'group'"
     ]
    }
   ],
   "source": [
    "import re\n",
    "\n",
    "content = \"\"\"Hello 1234567 World_This\n",
    "is a Regex Demo\n",
    "\"\"\"\n",
    "result = re.match('^He.*?(\\d+).*?Demo$',content)\n",
    "print(result.group(1))"
   ]
  },
  {
   "cell_type": "markdown",
   "id": "c85030b6",
   "metadata": {},
   "source": [
    "运行直接报错，也就是说正则表达式没有匹配到这个字符串，返回结果为None。  \n",
    ".* ? 无法匹配换行符，所以导致匹配失败"
   ]
  },
  {
   "cell_type": "code",
   "execution_count": 39,
   "id": "4b27bea5",
   "metadata": {},
   "outputs": [
    {
     "name": "stdout",
     "output_type": "stream",
     "text": [
      "1234567\n"
     ]
    }
   ],
   "source": [
    "result = re.match('^He.*?(\\d+).*?Demo$',content,re.S)\n",
    "print(result.group(1))"
   ]
  },
  {
   "cell_type": "markdown",
   "id": "10b318f8",
   "metadata": {},
   "source": [
    "re.S这个修饰符是使.匹配包括换行符在内的所有字符。在网页中经常使用，因为HTML节点经常会有换行，加上它，就可以匹配节点与节点之间的换行了"
   ]
  },
  {
   "cell_type": "markdown",
   "id": "2a2aff96",
   "metadata": {},
   "source": [
    "|修饰符|描述|\n",
    "|---|---|\n",
    "|re.I|使匹配对大小写不敏感|\n",
    "|re.L|做本地化识别（locate-aware）匹配|\n",
    "|re.M|多行匹配，影响^和$|\n",
    "|re.S|使.匹配包括换行在内的所有字符|\n",
    "|re.U|使用Unicode字符集解析字符。影响\\w,\\W,\\b和\\B|\n",
    "|re.X|该标志通过给予你更灵活的格式以便你将正则表达式写得更易于理解|"
   ]
  },
  {
   "cell_type": "markdown",
   "id": "8429c7f0",
   "metadata": {},
   "source": [
    "#### 转义匹配"
   ]
  },
  {
   "cell_type": "code",
   "execution_count": 41,
   "id": "594f5885",
   "metadata": {},
   "outputs": [
    {
     "name": "stdout",
     "output_type": "stream",
     "text": [
      "<re.Match object; span=(0, 17), match='(百度)www.baidu.com'>\n"
     ]
    }
   ],
   "source": [
    "import re\n",
    "\n",
    "content = '(百度)www.baidu.com'\n",
    "result = re.match('\\(百度\\)www\\.baidu\\.com',content)\n",
    "print(result)"
   ]
  },
  {
   "cell_type": "markdown",
   "id": "67c90231",
   "metadata": {},
   "source": [
    "对于用于正则匹配模式的特殊字符串时，在前面加反斜杠转义一下即可。"
   ]
  },
  {
   "cell_type": "markdown",
   "id": "7222388b",
   "metadata": {},
   "source": [
    "#### search()"
   ]
  },
  {
   "cell_type": "code",
   "execution_count": 42,
   "id": "368b52ba",
   "metadata": {},
   "outputs": [
    {
     "name": "stdout",
     "output_type": "stream",
     "text": [
      "None\n"
     ]
    }
   ],
   "source": [
    "import re\n",
    "\n",
    "content = 'Extra stings Hello 1234567 World_This is a Regex Demo Extra stings'\n",
    "result = re.match('Hello.*?(\\d+).*?Demo',content)\n",
    "print(result)"
   ]
  },
  {
   "cell_type": "markdown",
   "id": "faec69f9",
   "metadata": {},
   "source": [
    "match()方法在使用时需要考虑到开头的内容，这在做匹配时并不方便。它更适合用来检测某个字符串是否符合某个正则表达式的规则  \n",
    "有另外一个search()方法，它在匹配时会扫描整个字符串，然后返回第一个成功匹配的结果。在匹配时search（）方法会依次扫描字符串，直到找到第一个符合规则的字符串，然后返回匹配内容。"
   ]
  },
  {
   "cell_type": "code",
   "execution_count": 45,
   "id": "9dc5864f",
   "metadata": {},
   "outputs": [
    {
     "name": "stdout",
     "output_type": "stream",
     "text": [
      "<re.Match object; span=(13, 53), match='Hello 1234567 World_This is a Regex Demo'>\n",
      "1234567\n"
     ]
    }
   ],
   "source": [
    "import re\n",
    "\n",
    "content = 'Extra stings Hello 1234567 World_This is a Regex Demo Extra stings'\n",
    "result = re.search('Hello.*?(\\d+).*?Demo',content)\n",
    "print(result)\n",
    "print(result.group(1))"
   ]
  },
  {
   "cell_type": "code",
   "execution_count": 46,
   "id": "fb556f82",
   "metadata": {},
   "outputs": [],
   "source": [
    "html = \"\"\"<div id=\"song-list\">\n",
    "<h2 class=\"title\">经典老歌</h2>\n",
    "<p class=\"introduction\">\n",
    "经典老歌列表\n",
    "</p>\n",
    "<ul id=\"list\" class=\"list-group\">\n",
    "<li data-view=\"2\">一路有你</ul>\n",
    "<li data-view=\"7\">\n",
    "<a href=\"/2.mp3\" singer=\"任贤齐\">沧海一声笑</a>\n",
    "</li>\n",
    "<li data-view=\"4\" class=\"active\">\n",
    "<a href=\"/3.mp3\" singer=\"齐秦\">往事随风</a>\n",
    "</li>\n",
    "<li data-view=\"6\"><a href=\"/4.mp3\" singer=\"beyond\">光辉岁月</a></li>\n",
    "<li data-view=\"5\"><a href=\"/5.mp3\" singer=\"陈慧琳\">记事本</a></li>\n",
    "<li data-view=\"5\">\n",
    "<a href=\"/6.mp3\" singer=\"邓丽君\">但愿人长久</a>\n",
    "</li>\n",
    "</ul>\n",
    "</div>\n",
    "\"\"\""
   ]
  },
  {
   "cell_type": "markdown",
   "id": "a9b0249a",
   "metadata": {},
   "source": [
    "尝试提取class为active的li节点内部的超链接包含的歌手名和歌名，此时需要提取第三个li节点下的singer属性和文本"
   ]
  },
  {
   "cell_type": "markdown",
   "id": "2277c2d0",
   "metadata": {},
   "source": [
    "以li开头，然后寻找一个标识符active，中间的部分可以用.* ?来匹配。接着，要提取singer这个属性值，所以还需要写入singer=\"(.* ?)\"，这里需要提取的部分用小括号起来，以便用group()方法提取出来，它的两侧边界时双引号。然后还需要匹配a节点的文本，其中它的左边界是<，右边界是</a>。然后目标内容依然用(.* ?)来匹配，所以最后的正则表达式变为："
   ]
  },
  {
   "cell_type": "code",
   "execution_count": 47,
   "id": "36f9d3c5",
   "metadata": {},
   "outputs": [
    {
     "name": "stdout",
     "output_type": "stream",
     "text": [
      "齐秦 往事随风\n"
     ]
    }
   ],
   "source": [
    "result = re.search('<li.*?active.*?singer=\"(.*?)\">(.*?)</a>',html,re.S)\n",
    "if result:\n",
    "    print(result.group(1),result.group(2))"
   ]
  },
  {
   "cell_type": "markdown",
   "id": "1bfebfd4",
   "metadata": {},
   "source": [
    "若删掉active,search（）方法会返回第一个符合条件的匹配目标，这里结果就变了"
   ]
  },
  {
   "cell_type": "code",
   "execution_count": 48,
   "id": "f3d47a06",
   "metadata": {},
   "outputs": [
    {
     "name": "stdout",
     "output_type": "stream",
     "text": [
      "任贤齐 沧海一声笑\n"
     ]
    }
   ],
   "source": [
    "result = re.search('<li.*?singer=\"(.*?)\">(.*?)</a>',html,re.S)\n",
    "if result:\n",
    "    print(result.group(1),result.group(2))"
   ]
  },
  {
   "cell_type": "markdown",
   "id": "938bee38",
   "metadata": {},
   "source": [
    "若去掉re.S,则结果变为"
   ]
  },
  {
   "cell_type": "code",
   "execution_count": 49,
   "id": "89e58a4f",
   "metadata": {},
   "outputs": [
    {
     "name": "stdout",
     "output_type": "stream",
     "text": [
      "beyond 光辉岁月\n"
     ]
    }
   ],
   "source": [
    "result = re.search('<li.*?singer=\"(.*?)\">(.*?)</a>',html)\n",
    "if result:\n",
    "    print(result.group(1),result.group(2))"
   ]
  },
  {
   "cell_type": "markdown",
   "id": "ce5b0e74",
   "metadata": {},
   "source": [
    "#### findall()"
   ]
  },
  {
   "cell_type": "markdown",
   "id": "0056214a",
   "metadata": {},
   "source": [
    "前面介绍的search()方法的用法，可以返回匹配的正则表达式的第一个内容，但是如过匹配所有正则表达式的内容，则需要使用findall()方法。"
   ]
  },
  {
   "cell_type": "code",
   "execution_count": 53,
   "id": "ce6f7f51",
   "metadata": {},
   "outputs": [
    {
     "name": "stdout",
     "output_type": "stream",
     "text": [
      "[('/2.mp3', '任贤齐', '沧海一声笑'), ('/3.mp3', '齐秦', '往事随风'), ('/4.mp3', 'beyond', '光辉岁月'), ('/5.mp3', '陈慧琳', '记事本'), ('/6.mp3', '邓丽君', '但愿人长久')]\n",
      "<class 'tuple'>\n",
      "('/2.mp3', '任贤齐', '沧海一声笑')\n",
      "/2.mp3 任贤齐 沧海一声笑\n",
      "('/3.mp3', '齐秦', '往事随风')\n",
      "/3.mp3 齐秦 往事随风\n",
      "('/4.mp3', 'beyond', '光辉岁月')\n",
      "/4.mp3 beyond 光辉岁月\n",
      "('/5.mp3', '陈慧琳', '记事本')\n",
      "/5.mp3 陈慧琳 记事本\n",
      "('/6.mp3', '邓丽君', '但愿人长久')\n",
      "/6.mp3 邓丽君 但愿人长久\n"
     ]
    }
   ],
   "source": [
    "results = re.findall('<li.*?href=\"(.*?)\".*?singer=\"(.*?)\">(.*?)</a>',html,re.S)\n",
    "print(results)\n",
    "print(type(result))\n",
    "for result in results:\n",
    "    print(result)\n",
    "    print(result[0],result[1],result[2])"
   ]
  },
  {
   "cell_type": "markdown",
   "id": "82adb8a4",
   "metadata": {},
   "source": [
    "#### sub()"
   ]
  },
  {
   "cell_type": "markdown",
   "id": "427276ae",
   "metadata": {},
   "source": [
    "除了使用正则表达式提取信息外，有时候还需要借助它来修改文本。"
   ]
  },
  {
   "cell_type": "code",
   "execution_count": 55,
   "id": "28f2b585",
   "metadata": {},
   "outputs": [
    {
     "name": "stdout",
     "output_type": "stream",
     "text": [
      "aKWDiawjddasdADWa\n"
     ]
    }
   ],
   "source": [
    "content = '54aK1324WDiawjdda113sdADW13a'\n",
    "content = re.sub('\\d+','',content)\n",
    "print(content)"
   ]
  },
  {
   "cell_type": "code",
   "execution_count": 56,
   "id": "50496e92",
   "metadata": {},
   "outputs": [
    {
     "name": "stdout",
     "output_type": "stream",
     "text": [
      "沧海一声笑\n",
      "往事随风\n",
      "光辉岁月\n",
      "记事本\n",
      "但愿人长久\n"
     ]
    }
   ],
   "source": [
    "results = re.findall('<li.*?>\\s*?(<a.*?>)?(\\w+)(</a>)?\\s*?</li>',html,re.S)\n",
    "for result in results:\n",
    "    print(result[1])"
   ]
  },
  {
   "cell_type": "markdown",
   "id": "17369019",
   "metadata": {},
   "source": [
    "此时借助sub()方法就比较简单了。可以先用sub()方法将a节点去掉，只留下文本然后再利用findall()方法提取就可以了"
   ]
  },
  {
   "cell_type": "code",
   "execution_count": 58,
   "id": "28a1c73b",
   "metadata": {},
   "outputs": [
    {
     "name": "stdout",
     "output_type": "stream",
     "text": [
      "<div id=\"song-list\">\n",
      "<h2 class=\"title\">经典老歌</h2>\n",
      "<p class=\"introduction\">\n",
      "经典老歌列表\n",
      "</p>\n",
      "<ul id=\"list\" class=\"list-group\">\n",
      "<li data-view=\"2\">一路有你</ul>\n",
      "<li data-view=\"7\">\n",
      "沧海一声笑\n",
      "</li>\n",
      "<li data-view=\"4\" class=\"active\">\n",
      "往事随风\n",
      "</li>\n",
      "<li data-view=\"6\">光辉岁月</li>\n",
      "<li data-view=\"5\">记事本</li>\n",
      "<li data-view=\"5\">\n",
      "但愿人长久\n",
      "</li>\n",
      "</ul>\n",
      "</div>\n",
      "\n",
      "一路有你</ul>\n",
      "<li data-view=\"7\">\n",
      "沧海一声笑\n",
      "</li>\n",
      "往事随风\n",
      "</li>\n",
      "光辉岁月</li>\n",
      "记事本</li>\n",
      "但愿人长久\n",
      "</li>\n"
     ]
    }
   ],
   "source": [
    "html = re.sub('<a.*?>|</a>','',html)\n",
    "print(html)\n",
    "results = re.findall('<li.*?>(.*?/li>)',html,re.S)\n",
    "for result in results:\n",
    "    print(result.strip())"
   ]
  },
  {
   "cell_type": "markdown",
   "id": "500ecec7",
   "metadata": {},
   "source": [
    "#### compile()方法"
   ]
  },
  {
   "cell_type": "markdown",
   "id": "52ea56d0",
   "metadata": {},
   "source": [
    "可以将正则字符串编译成正则表达式对象，一遍后面再匹配中复用"
   ]
  },
  {
   "cell_type": "code",
   "execution_count": 59,
   "id": "9c0e84bf",
   "metadata": {},
   "outputs": [
    {
     "name": "stdout",
     "output_type": "stream",
     "text": [
      "2022-05-11  2022-05-11  2022-05-11 \n"
     ]
    }
   ],
   "source": [
    "import re \n",
    "\n",
    "content1 = '2022-05-11 12:00'\n",
    "content2 = '2022-05-11 12:55'\n",
    "content3 = '2022-05-11 13:55'\n",
    "pattern = re.compile('\\d{2}:\\d{2}')\n",
    "result1 = re.sub(pattern,'',content1)\n",
    "result2 = re.sub(pattern,'',content2)\n",
    "result3 = re.sub(pattern,'',content3)\n",
    "print(result1,result2,result3)"
   ]
  },
  {
   "cell_type": "code",
   "execution_count": null,
   "id": "26d55928",
   "metadata": {},
   "outputs": [],
   "source": []
  }
 ],
 "metadata": {
  "kernelspec": {
   "display_name": "Python 3 (ipykernel)",
   "language": "python",
   "name": "python3"
  },
  "language_info": {
   "codemirror_mode": {
    "name": "ipython",
    "version": 3
   },
   "file_extension": ".py",
   "mimetype": "text/x-python",
   "name": "python",
   "nbconvert_exporter": "python",
   "pygments_lexer": "ipython3",
   "version": "3.9.7"
  }
 },
 "nbformat": 4,
 "nbformat_minor": 5
}
